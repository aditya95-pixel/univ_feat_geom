{
  "cells": [
    {
      "cell_type": "markdown",
      "metadata": {
        "id": "kUYRF57KNxrL"
      },
      "source": [
        "# setup"
      ]
    },
    {
      "cell_type": "code",
      "execution_count": null,
      "metadata": {
        "id": "-S2-hpbiQrfa"
      },
      "outputs": [],
      "source": [
        "# import pdb"
      ]
    },
    {
      "cell_type": "code",
      "execution_count": null,
      "metadata": {
        "id": "4H-vBfRa1pOo"
      },
      "outputs": [],
      "source": [
        "import pickle\n",
        "import numpy as np\n",
        "\n",
        "import torch\n",
        "import matplotlib.pyplot as plt\n",
        "\n",
        "from torch import nn, Tensor\n",
        "# from jaxtyping import Float, Int\n",
        "from typing import Optional, Callable, Union, List, Tuple\n",
        "\n",
        "# from datasets import load_dataset"
      ]
    },
    {
      "cell_type": "code",
      "execution_count": null,
      "metadata": {
        "id": "yUWzqfKmaRXj"
      },
      "outputs": [],
      "source": [
        "device = \"cuda\" if torch.cuda.is_available() else \"cpu\""
      ]
    },
    {
      "cell_type": "code",
      "execution_count": null,
      "metadata": {
        "id": "nOBcV4om7mrT"
      },
      "outputs": [],
      "source": [
        "from transformers import AutoModelForCausalLM, BitsAndBytesConfig, AutoTokenizer\n",
        "import numpy as np\n",
        "import torch"
      ]
    },
    {
      "cell_type": "code",
      "execution_count": null,
      "metadata": {
        "colab": {
          "base_uri": "https://localhost:8080/",
          "height": 158,
          "referenced_widgets": [
            "3295b9f1a0fb4ca59870d1ae3494e1d4",
            "0b1aaa5647cb48058f4aec071651f410",
            "06198b0a6ba14bd1bdd12939b8523423",
            "582df7ec5236432c9cc8c90961462495",
            "c5c2519540dd475fb9163116ac5113f6",
            "95ed8057fca2414f92aacc0c80c533d8",
            "09a4dc73d98b4adf9ab9320100b58f41",
            "cf747785209545d0ac367bca52441c79",
            "16d506c58e0344928dc9662746eaddc0",
            "ec381602d4db46d28b8bfe4167c08595",
            "825f35a0a9fc4ef3896af923273cc476",
            "55ee4ee71b8f4a059088c1eb5d044703",
            "4f4c03e4435049908bcc231a724e5834",
            "0117dc18a7984e8a8b8733185c1203de"
          ]
        },
        "id": "UKRmnN7jbxbd",
        "outputId": "e051a95a-de99-44e6-dc44-3c2af3c08c3b"
      },
      "outputs": [
        {
          "data": {
            "application/vnd.jupyter.widget-view+json": {
              "model_id": "3295b9f1a0fb4ca59870d1ae3494e1d4",
              "version_major": 2,
              "version_minor": 0
            },
            "text/plain": [
              "VBox(children=(HTML(value='<center> <img\\nsrc=https://huggingface.co/front/assets/huggingface_logo-noborder.sv…"
            ]
          },
          "metadata": {},
          "output_type": "display_data"
        }
      ],
      "source": [
        "from huggingface_hub import hf_hub_download, notebook_login\n",
        "notebook_login()"
      ]
    },
    {
      "cell_type": "markdown",
      "metadata": {
        "id": "nZz2t_CbNKmK"
      },
      "source": [
        "# load labels"
      ]
    },
    {
      "cell_type": "code",
      "execution_count": null,
      "metadata": {
        "id": "6CvQQSVdQvq5"
      },
      "outputs": [],
      "source": [
        "import json\n",
        "with open('gemma-2-2b-20-gemmascope-res-16k-explanations.json', 'rb') as f:\n",
        "    feat_labels_allData = json.load(f)"
      ]
    },
    {
      "cell_type": "code",
      "execution_count": null,
      "metadata": {
        "colab": {
          "base_uri": "https://localhost:8080/"
        },
        "id": "qriFJT15P6MB",
        "outputId": "ad82050c-31dc-48e4-96ad-7671e3cb74df"
      },
      "outputs": [
        {
          "name": "stdout",
          "output_type": "stream",
          "text": [
            "mentions of the letter 'Z' and variations of 'Z' in different contexts\n"
          ]
        }
      ],
      "source": [
        "feat_labels_lst = [0 for i in range(feat_labels_allData['explanationsCount'])]\n",
        "feat_labels_dict = {}\n",
        "for f_dict in feat_labels_allData['explanations']:\n",
        "    feat_labels_lst[int(f_dict['index'])] = f_dict['description']\n",
        "    feat_labels_dict[int(f_dict['index'])] = f_dict['description']\n",
        "    if int(f_dict['index']) == 0:\n",
        "        print(f_dict['description'])"
      ]
    },
    {
      "cell_type": "code",
      "execution_count": null,
      "metadata": {
        "colab": {
          "base_uri": "https://localhost:8080/"
        },
        "id": "NNE4LIP6RDJe",
        "outputId": "9a183d0e-f71a-47d0-c8f0-ef476a922bb0"
      },
      "outputs": [
        {
          "data": {
            "text/plain": [
              "16383"
            ]
          },
          "execution_count": 8,
          "metadata": {},
          "output_type": "execute_result"
        }
      ],
      "source": [
        "len(feat_labels_dict)"
      ]
    },
    {
      "cell_type": "markdown",
      "metadata": {
        "id": "CLquai4hOaWR"
      },
      "source": [
        "## search for features"
      ]
    },
    {
      "cell_type": "code",
      "execution_count": null,
      "metadata": {
        "id": "FEbmjLd7c-Ju"
      },
      "outputs": [],
      "source": [
        "def find_indices_with_keyword(f_dict, keyword):\n",
        "    \"\"\"\n",
        "    Find all indices of fList which contain the keyword in the string at those indices.\n",
        "\n",
        "    Args:\n",
        "    fList (list of str): List of strings to search within.\n",
        "    keyword (str): Keyword to search for within the strings of fList.\n",
        "\n",
        "    Returns:\n",
        "    list of int: List of indices where the keyword is found within the strings of fList.\n",
        "    \"\"\"\n",
        "    filt_dict = {}\n",
        "    for index, string in f_dict.items():\n",
        "        # split_list = string.split(',')\n",
        "        # no_space_list = [i.replace(' ', '').lower() for i in split_list]\n",
        "        # if keyword in no_space_list:\n",
        "        if keyword in string:\n",
        "            filt_dict[index] = string\n",
        "    return filt_dict"
      ]
    },
    {
      "cell_type": "code",
      "execution_count": null,
      "metadata": {
        "id": "wKS0eFoCObvI"
      },
      "outputs": [],
      "source": [
        "keyword = \"number\"\n",
        "number_feats = find_indices_with_keyword(feat_labels_dict, keyword)"
      ]
    },
    {
      "cell_type": "code",
      "execution_count": null,
      "metadata": {
        "id": "HdjRMBTOSpg0"
      },
      "outputs": [],
      "source": [
        "keyword = \"month\"\n",
        "month_feats = find_indices_with_keyword(feat_labels_dict, keyword)"
      ]
    },
    {
      "cell_type": "markdown",
      "metadata": {
        "id": "l8UydG5Pc4GR"
      },
      "source": [
        "# load model"
      ]
    },
    {
      "cell_type": "code",
      "execution_count": null,
      "metadata": {
        "colab": {
          "base_uri": "https://localhost:8080/"
        },
        "id": "-z3Bg4Ui26l2",
        "outputId": "1953b318-692a-43ac-b2c7-8f0fea842ac9"
      },
      "outputs": [
        {
          "data": {
            "text/plain": [
              "<torch.autograd.grad_mode.set_grad_enabled at 0x7ccab3bb25c0>"
            ]
          },
          "execution_count": 14,
          "metadata": {},
          "output_type": "execute_result"
        }
      ],
      "source": [
        "torch.set_grad_enabled(False) # avoid blowing up mem"
      ]
    },
    {
      "cell_type": "code",
      "execution_count": null,
      "metadata": {
        "colab": {
          "base_uri": "https://localhost:8080/",
          "height": 397,
          "referenced_widgets": [
            "4a9db3c6a74c4113a9d06c3b7622a142",
            "d3d334018e754c3a9c3de2ef33c56c3e",
            "0c79f0c27df847aeab720c1683a298b4",
            "24caa74645734c17858f1ddd9fa726ed",
            "e9c21325b7a14171a8d293c2757526a7",
            "8547cec94d124f35b1f1fca74d1b2d0c",
            "2d43e160a65049f398b3f332ffd000ba",
            "6c959f72c49b4431911c61e3b7c26ade",
            "02f78d0f9a05455283d3db279dd6aa99",
            "4b2e594f659c46e8be0bfe3b86295544",
            "00d2d1ca3b0f4ff7afff3c694be5d140",
            "8f34eb7460e649c886d21907dc0e4617",
            "303807d67c204ed88705394795c3bf26",
            "65864ae337ab492dac0ee16b5b656584",
            "a63f1ae214714d7f910b6f284e275e14",
            "65d4bbece6eb4e518da10338086155da",
            "fc69d3cf0e7141058d9fdb5771376148",
            "9829c2c0aeb544ff8bd738b57848ae5e",
            "e460fe15a5654f58afb3ea0d29d0e0af",
            "b726529a47074f5486601944782b0b61",
            "0aa9b3c467464471b40dcd96b7e5d515",
            "3c9fbcc92699461ab053dd89c67f41bf",
            "6e8b39fd34034a278e45c47fe2dfb5ec",
            "17241fed111a4f08a543264d2d926c69",
            "26f5482622b2491bb955c87e88ef5d44",
            "d3e93348b3504d948659e8140919bda9",
            "3cc7903731c4488a816675ab6e761c28",
            "ef7ba7e63c8741729b9786be90b0f29b",
            "52bdc7a954db48f88c72e07248b89e5e",
            "e5db28eb31c54dd284692a61ffdf9eeb",
            "7961b920da3d4eafbbc728d83887b3a8",
            "dd15ecde61f84d73a0d61ffe0924f32c",
            "51ccddfb30c14ea59eb8ab9ca284e9c4",
            "264a373d87094697877acfc47c7dc95c",
            "fa4a9b9174a3405b9c5a18230aff50f1",
            "702b602b334644979687d83c7cdb9ac3",
            "b1d30d7385034c42a7251f234397a66d",
            "de8fc8e2b7ca4de0ad20d61ad3d9a7d7",
            "84e0ee3f145c42b18aef052dda03fe5e",
            "9041e78800854e548d39e7c3ce35397b",
            "3bedc904ead34ff0832429641eed3baf",
            "c262bd2bfcc04c31b92896582eebb308",
            "6026847fbf2e45ea989673241111bdf5",
            "336144312ae24ed3824e81793e100015",
            "c084fba5076149be81fe54ef56adb504",
            "d437fdf58fe74669a41f0cd4ce97ace9",
            "427e2d06da6a4395b249ef50305671a0",
            "c649752c330643d7ad16c78e8b5a9c90",
            "5e325fb81c3f44abbc2e40d746002f28",
            "c3acc1901727454da326e26af8b478ed",
            "0dd8a9b348cc4dacb6b5cf75d1c7e10b",
            "c1ee5697bf824fe8aaf4a874fb1b7876",
            "1a2475d0a6aa4f669c6b7ef4697fd0f0",
            "af4908b719e14b68a39851b4b2d53618",
            "125fabc2bc574f1082fb2c361ec9cc4d",
            "837b6c0986954538b753e4224b4703c2",
            "8eb53fae0564457183b6a7d563777766",
            "bd5aa20bb6f647e8bb832de122f90c6d",
            "8cb65f72629d4eeebb0336d0c363415f",
            "e6ffdc54f97e4b85b163feca57dcb213",
            "5c4e193ec8f94ca4b7f18d0f0d9cead2",
            "1aa2cc2001014fc18c8a8d430a1929d4",
            "ccc35c8ce1f64cd4b4242009a9e07126",
            "d4963fbcd83349559025506d63544610",
            "70a62f8bf8b14d4d8d4be077368648c6",
            "a78df27cdcca4448a2c8d1cdda1f2d3f",
            "4e1d456147164014a1a67028191d4caa",
            "73bdf270636044089903c0576ca8bf74",
            "304bd96e1177424b96eb0576ce62036d",
            "37c68cf6ebd746709fb07573fca29800",
            "7759e66993fd4e91a2b177181719feb2",
            "a3acb4c9b1574036a1ecc68d74cbed73",
            "3430f5c73c19453e873546a336080dc4",
            "45462b4e872f4e9596f0f9ee6adede68",
            "b145f6a5cf734edaacc6519248232aff",
            "5e6032df648a433db39b4dcfd2bc66f8",
            "7e497e4620164dd288e029eb086a49a2",
            "9987c40ec2ef4bb28b386b9e8626fa16",
            "7defb790cb83477fba48d3534e59f496",
            "fcf08a84442646b5906d61ebd75b75be",
            "7694bfde3eb04c63bb7c4094763f0f5c",
            "c9961601535642ce8a01925e3ccf146d",
            "68da385168ba4ccb86c56e4f78dea86a",
            "5a9a2f9bccf44920b83131376e9f5c83",
            "963e50d15c984d43ad0751c7b273406c",
            "01f719e501134550938ad62c1497b6d9",
            "f087d87bb16a4e87afbdf7a02cc82767",
            "c7f321f55ce54a6f84e05cc00df5e5bc"
          ]
        },
        "id": "12wF3f7o1Ni7",
        "outputId": "c6411334-e80b-4364-9662-e08d336dfdc0"
      },
      "outputs": [
        {
          "name": "stderr",
          "output_type": "stream",
          "text": [
            "/usr/local/lib/python3.10/dist-packages/huggingface_hub/utils/_token.py:89: UserWarning: \n",
            "The secret `HF_TOKEN` does not exist in your Colab secrets.\n",
            "To authenticate with the Hugging Face Hub, create a token in your settings tab (https://huggingface.co/settings/tokens), set it as secret in your Google Colab and restart your session.\n",
            "You will be able to reuse this secret in all of your notebooks.\n",
            "Please note that authentication is recommended but still optional to access public models or datasets.\n",
            "  warnings.warn(\n"
          ]
        },
        {
          "data": {
            "application/vnd.jupyter.widget-view+json": {
              "model_id": "4a9db3c6a74c4113a9d06c3b7622a142",
              "version_major": 2,
              "version_minor": 0
            },
            "text/plain": [
              "config.json:   0%|          | 0.00/818 [00:00<?, ?B/s]"
            ]
          },
          "metadata": {},
          "output_type": "display_data"
        },
        {
          "data": {
            "application/vnd.jupyter.widget-view+json": {
              "model_id": "8f34eb7460e649c886d21907dc0e4617",
              "version_major": 2,
              "version_minor": 0
            },
            "text/plain": [
              "model.safetensors.index.json:   0%|          | 0.00/24.2k [00:00<?, ?B/s]"
            ]
          },
          "metadata": {},
          "output_type": "display_data"
        },
        {
          "data": {
            "application/vnd.jupyter.widget-view+json": {
              "model_id": "6e8b39fd34034a278e45c47fe2dfb5ec",
              "version_major": 2,
              "version_minor": 0
            },
            "text/plain": [
              "Downloading shards:   0%|          | 0/3 [00:00<?, ?it/s]"
            ]
          },
          "metadata": {},
          "output_type": "display_data"
        },
        {
          "data": {
            "application/vnd.jupyter.widget-view+json": {
              "model_id": "264a373d87094697877acfc47c7dc95c",
              "version_major": 2,
              "version_minor": 0
            },
            "text/plain": [
              "model-00001-of-00003.safetensors:   0%|          | 0.00/4.99G [00:00<?, ?B/s]"
            ]
          },
          "metadata": {},
          "output_type": "display_data"
        },
        {
          "data": {
            "application/vnd.jupyter.widget-view+json": {
              "model_id": "c084fba5076149be81fe54ef56adb504",
              "version_major": 2,
              "version_minor": 0
            },
            "text/plain": [
              "model-00002-of-00003.safetensors:   0%|          | 0.00/4.98G [00:00<?, ?B/s]"
            ]
          },
          "metadata": {},
          "output_type": "display_data"
        },
        {
          "data": {
            "application/vnd.jupyter.widget-view+json": {
              "model_id": "837b6c0986954538b753e4224b4703c2",
              "version_major": 2,
              "version_minor": 0
            },
            "text/plain": [
              "model-00003-of-00003.safetensors:   0%|          | 0.00/481M [00:00<?, ?B/s]"
            ]
          },
          "metadata": {},
          "output_type": "display_data"
        },
        {
          "data": {
            "application/vnd.jupyter.widget-view+json": {
              "model_id": "4e1d456147164014a1a67028191d4caa",
              "version_major": 2,
              "version_minor": 0
            },
            "text/plain": [
              "Loading checkpoint shards:   0%|          | 0/3 [00:00<?, ?it/s]"
            ]
          },
          "metadata": {},
          "output_type": "display_data"
        },
        {
          "data": {
            "application/vnd.jupyter.widget-view+json": {
              "model_id": "9987c40ec2ef4bb28b386b9e8626fa16",
              "version_major": 2,
              "version_minor": 0
            },
            "text/plain": [
              "generation_config.json:   0%|          | 0.00/168 [00:00<?, ?B/s]"
            ]
          },
          "metadata": {},
          "output_type": "display_data"
        }
      ],
      "source": [
        "model = AutoModelForCausalLM.from_pretrained(\n",
        "    \"google/gemma-2-2b\",\n",
        "    device_map='auto',\n",
        ")"
      ]
    },
    {
      "cell_type": "code",
      "execution_count": null,
      "metadata": {
        "colab": {
          "base_uri": "https://localhost:8080/",
          "height": 145,
          "referenced_widgets": [
            "a0af8a8d3c964eb59f73f3b6356390a4",
            "cd3867203efe4bcab60770b3b1068a83",
            "285ee87935a14cf4b0a1429066cd9a22",
            "728a4cd7c73a446084de54b4d41f7f7b",
            "074d1fb03cb34fb3b902302f0a1772f1",
            "a46992f99f2040f685513f4271299ebb",
            "b1c5919e2ec14d6bb1d85fd683a47030",
            "5e830a7257b747338c68484592a0f07d",
            "b78211ea3d704175a9073ebeb6a97b67",
            "589a75fc27564cb993441fb0af19d075",
            "17812d41655749adb74210bd254c8d9e",
            "f9fc2f84bc2b4bf68f33c23bcb470ec1",
            "124bcdddebfb4b76a00b29b7bba1b6b7",
            "29e6cc8e3b51421aaf629a008c7eb03d",
            "4b98854ce7e24f788e1c8c4dfdafcea3",
            "a025b013624b47efaf55b826e0b8a2f1",
            "5b5e44b62d224d1987a0f78d8a9b8f78",
            "2e03d7fe5cae4eae9b610cc7730de0da",
            "0650dfe2045844a1aeb6c454b5c1861e",
            "d79ae37db916446b91d125c2ac090915",
            "9237f4357efe4eabb78162f70e9a277a",
            "f154c1cd8c864ddf933d67c168acd06e",
            "32972ca4f9df471c81c53d79e862ce66",
            "a88e87c11d94460c8336337165b9ddee",
            "5666a47da2c6458785c15a8db8061713",
            "cc29ec332857425fbc4f9164a4be0cd5",
            "50e50b0fb3f241a88e8eadabafbdd9c4",
            "c217edce432f4e629a75f2b6341b4f4b",
            "eecfd350bbd64022937c27c3b5220170",
            "5f87d7390aff4983982a967ee85ec6d8",
            "ae4554ab640c4a95bf520091d25e6ebc",
            "d6ba9bf3bb0a4518a26885cbf65c5613",
            "9f3b8ca7c9a7426f85e05dccec322097",
            "79469f698f7d4ff592d14190789ec6ea",
            "3830b09da8e34fd7a6c5747297797b4e",
            "7ab3b2ed50694a198640333693821f10",
            "059ac5ec6ee944cb8da89bacae13ff11",
            "6ff50499765746b08b3bf6b21f4fd265",
            "9a54461837bd4ca8910e8be9e0d9355a",
            "9d958f5c46da4b288b336bb793ffe546",
            "31c601f903234dc39facfbeb49af63c3",
            "4bc8b22d44af44e1ae6e16dc38757c0c",
            "e800400bfc9d4bb1954c3a695f49bcd8",
            "9694fe8aac714a48b0ecaf609a4fb0ae"
          ]
        },
        "id": "RV_HTT-v7ggl",
        "outputId": "9a5937b2-2d15-4749-d530-b664afb9411b"
      },
      "outputs": [
        {
          "data": {
            "application/vnd.jupyter.widget-view+json": {
              "model_id": "a0af8a8d3c964eb59f73f3b6356390a4",
              "version_major": 2,
              "version_minor": 0
            },
            "text/plain": [
              "tokenizer_config.json:   0%|          | 0.00/46.4k [00:00<?, ?B/s]"
            ]
          },
          "metadata": {},
          "output_type": "display_data"
        },
        {
          "data": {
            "application/vnd.jupyter.widget-view+json": {
              "model_id": "f9fc2f84bc2b4bf68f33c23bcb470ec1",
              "version_major": 2,
              "version_minor": 0
            },
            "text/plain": [
              "tokenizer.model:   0%|          | 0.00/4.24M [00:00<?, ?B/s]"
            ]
          },
          "metadata": {},
          "output_type": "display_data"
        },
        {
          "data": {
            "application/vnd.jupyter.widget-view+json": {
              "model_id": "32972ca4f9df471c81c53d79e862ce66",
              "version_major": 2,
              "version_minor": 0
            },
            "text/plain": [
              "tokenizer.json:   0%|          | 0.00/17.5M [00:00<?, ?B/s]"
            ]
          },
          "metadata": {},
          "output_type": "display_data"
        },
        {
          "data": {
            "application/vnd.jupyter.widget-view+json": {
              "model_id": "79469f698f7d4ff592d14190789ec6ea",
              "version_major": 2,
              "version_minor": 0
            },
            "text/plain": [
              "special_tokens_map.json:   0%|          | 0.00/636 [00:00<?, ?B/s]"
            ]
          },
          "metadata": {},
          "output_type": "display_data"
        }
      ],
      "source": [
        "tokenizer =  AutoTokenizer.from_pretrained(\"google/gemma-2-2b\")"
      ]
    },
    {
      "cell_type": "markdown",
      "metadata": {
        "id": "NU3TRser6AdO"
      },
      "source": [
        "# load transformerlens"
      ]
    },
    {
      "cell_type": "code",
      "execution_count": null,
      "metadata": {
        "id": "44hx2_jY1SaC"
      },
      "outputs": [],
      "source": [
        "%%capture\n",
        "!pip install transformer_lens"
      ]
    },
    {
      "cell_type": "code",
      "execution_count": null,
      "metadata": {
        "colab": {
          "base_uri": "https://localhost:8080/",
          "height": 72
        },
        "id": "VbJhCygk1Vbq",
        "outputId": "4692ddac-9cb5-42a6-e044-6468237520b8"
      },
      "outputs": [
        {
          "name": "stderr",
          "output_type": "stream",
          "text": [
            "WARNING:root:You tried to specify center_unembed=True for a model using logit softcap, but this can't be done! Softcapping is not invariant upon adding a constantSetting center_unembed=False instead.\n",
            "WARNING:root:You are not using LayerNorm, so the writing weights can't be centered! Skipping\n"
          ]
        }
      ],
      "source": [
        "%%capture\n",
        "from transformer_lens import HookedTransformer\n",
        "\n",
        "# uses a lot of memory, use A100\n",
        "model_2 = HookedTransformer.from_pretrained(\n",
        "    \"gemma-2-2b\"\n",
        ")"
      ]
    },
    {
      "cell_type": "code",
      "execution_count": null,
      "metadata": {
        "id": "RBHGUJb9aXq3"
      },
      "outputs": [],
      "source": [
        "from transformer_lens.hook_points import HookPoint\n",
        "from functools import partial\n",
        "from jaxtyping import Float, Int"
      ]
    },
    {
      "cell_type": "markdown",
      "metadata": {
        "id": "45CFoL9SrSR1"
      },
      "source": [
        "# test prompts"
      ]
    },
    {
      "cell_type": "code",
      "execution_count": null,
      "metadata": {
        "colab": {
          "base_uri": "https://localhost:8080/"
        },
        "id": "0qw-KjbczhRr",
        "outputId": "7b863f36-ed0e-4a79-e55c-901bb5eb0407"
      },
      "outputs": [
        {
          "name": "stdout",
          "output_type": "stream",
          "text": [
            "1\n"
          ]
        }
      ],
      "source": [
        "prompt = \"thirteen fourteen fifteen sixteen \"\n",
        "inputs = tokenizer.encode(prompt, return_tensors=\"pt\", add_special_tokens=True).to(\"cuda\")\n",
        "outputs = model.generate(input_ids=inputs, max_new_tokens=1)\n",
        "print(tokenizer.decode(outputs[0, -1]))"
      ]
    },
    {
      "cell_type": "markdown",
      "metadata": {
        "id": "N8ZMNbBKMuKA"
      },
      "source": [
        "# load sae"
      ]
    },
    {
      "cell_type": "code",
      "execution_count": null,
      "metadata": {
        "colab": {
          "base_uri": "https://localhost:8080/",
          "height": 49,
          "referenced_widgets": [
            "01b447b0a4fd4545bdfa9c3468d9752d",
            "d119f0a12dfe4e1482fb5041092a0596",
            "271b187ed0814af9977431679d22fcda",
            "3cff7c21ac3643b595a76c34b83d5f60",
            "edd2d8352a4a4a628c036d005fa175cd",
            "03918660fbf34a8e95fd2c3db9942e7e",
            "dbc02cf458414efb966afe237ed41bdb",
            "cd11c24de3b14f85b74329738d76ad40",
            "93d60a8d383c4a04bb16e50048e92ac8",
            "6f22c05e59734d9180b13125de19474e",
            "6ec84e9118084e348000a31cccb3affc"
          ]
        },
        "id": "havaBGy6b97D",
        "outputId": "a7e779f1-de65-42df-8873-d5dadb0b6821"
      },
      "outputs": [
        {
          "data": {
            "application/vnd.jupyter.widget-view+json": {
              "model_id": "01b447b0a4fd4545bdfa9c3468d9752d",
              "version_major": 2,
              "version_minor": 0
            },
            "text/plain": [
              "params.npz:   0%|          | 0.00/302M [00:00<?, ?B/s]"
            ]
          },
          "metadata": {},
          "output_type": "display_data"
        }
      ],
      "source": [
        "path_to_params = hf_hub_download(\n",
        "    repo_id=\"google/gemma-scope-2b-pt-res\",\n",
        "    filename=\"layer_20/width_16k/average_l0_71/params.npz\",\n",
        "    force_download=False,\n",
        ")"
      ]
    },
    {
      "cell_type": "code",
      "execution_count": null,
      "metadata": {
        "id": "HB0GoeZccJD7"
      },
      "outputs": [],
      "source": [
        "params = np.load(path_to_params)\n",
        "pt_params = {k: torch.from_numpy(v).cuda() for k, v in params.items()}"
      ]
    },
    {
      "cell_type": "code",
      "execution_count": null,
      "metadata": {
        "id": "WYfvS97fAFzq"
      },
      "outputs": [],
      "source": [
        "import torch.nn as nn\n",
        "class JumpReLUSAE(nn.Module):\n",
        "  def __init__(self, d_model, d_sae):\n",
        "    # Note that we initialise these to zeros because we're loading in pre-trained weights.\n",
        "    # If you want to train your own SAEs then we recommend using blah\n",
        "    super().__init__()\n",
        "    self.W_enc = nn.Parameter(torch.zeros(d_model, d_sae))\n",
        "    self.W_dec = nn.Parameter(torch.zeros(d_sae, d_model))\n",
        "    self.threshold = nn.Parameter(torch.zeros(d_sae))\n",
        "    self.b_enc = nn.Parameter(torch.zeros(d_sae))\n",
        "    self.b_dec = nn.Parameter(torch.zeros(d_model))\n",
        "\n",
        "  def encode(self, input_acts):\n",
        "    pre_acts = input_acts @ self.W_enc + self.b_enc\n",
        "    mask = (pre_acts > self.threshold)\n",
        "    acts = mask * torch.nn.functional.relu(pre_acts)\n",
        "    return acts\n",
        "\n",
        "  def decode(self, acts):\n",
        "    return acts @ self.W_dec + self.b_dec\n",
        "\n",
        "  def forward(self, acts):\n",
        "    acts = self.encode(acts)\n",
        "    recon = self.decode(acts)\n",
        "    return recon\n"
      ]
    },
    {
      "cell_type": "code",
      "execution_count": null,
      "metadata": {
        "colab": {
          "base_uri": "https://localhost:8080/"
        },
        "id": "X91UGkU1cSrC",
        "outputId": "3259ba9a-14a2-4393-c995-a0494a8df531"
      },
      "outputs": [
        {
          "data": {
            "text/plain": [
              "<All keys matched successfully>"
            ]
          },
          "execution_count": 23,
          "metadata": {},
          "output_type": "execute_result"
        }
      ],
      "source": [
        "sae = JumpReLUSAE(params['W_enc'].shape[0], params['W_enc'].shape[1])\n",
        "sae.load_state_dict(pt_params)"
      ]
    },
    {
      "cell_type": "code",
      "execution_count": null,
      "metadata": {
        "colab": {
          "base_uri": "https://localhost:8080/"
        },
        "id": "sjgbfaPCjSWv",
        "outputId": "f931c4f4-eab5-4e9a-c4d1-624849ad46fa"
      },
      "outputs": [
        {
          "data": {
            "text/plain": [
              "JumpReLUSAE()"
            ]
          },
          "execution_count": 24,
          "metadata": {},
          "output_type": "execute_result"
        }
      ],
      "source": [
        "sae.cuda()"
      ]
    },
    {
      "cell_type": "markdown",
      "metadata": {
        "id": "bXTxV071e8IN"
      },
      "source": [
        "## load sae weights\n"
      ]
    },
    {
      "cell_type": "code",
      "execution_count": null,
      "metadata": {
        "colab": {
          "base_uri": "https://localhost:8080/"
        },
        "id": "QI45LyeKe-K8",
        "outputId": "406d64e1-437c-469c-bf52-d1e397a67fab"
      },
      "outputs": [
        {
          "data": {
            "text/plain": [
              "(16384, 2304)"
            ]
          },
          "execution_count": 25,
          "metadata": {},
          "output_type": "execute_result"
        }
      ],
      "source": [
        "weight_matrix = sae.W_dec.detach().cpu().numpy()\n",
        "weight_matrix.shape"
      ]
    },
    {
      "cell_type": "markdown",
      "metadata": {
        "id": "pzHjkBaA3RfR"
      },
      "source": [
        "## get actv fns"
      ]
    },
    {
      "cell_type": "code",
      "execution_count": null,
      "metadata": {
        "id": "313MaH5JepiA"
      },
      "outputs": [],
      "source": [
        "prompt = \"January February March April\"\n",
        "inputs = tokenizer.encode(prompt, return_tensors=\"pt\", add_special_tokens=True).to(\"cuda\")"
      ]
    },
    {
      "cell_type": "code",
      "execution_count": null,
      "metadata": {
        "id": "aSvKs581WU7j"
      },
      "outputs": [],
      "source": [
        "def gather_residual_activations(model, target_layer, inputs):\n",
        "  target_act = None\n",
        "  def gather_target_act_hook(mod, inputs, outputs):\n",
        "    nonlocal target_act # make sure we can modify the target_act from the outer scope\n",
        "    target_act = outputs[0]\n",
        "    return outputs\n",
        "  handle = model.model.layers[target_layer].register_forward_hook(gather_target_act_hook)\n",
        "  _ = model.forward(inputs)\n",
        "  handle.remove()\n",
        "  return target_act"
      ]
    },
    {
      "cell_type": "code",
      "execution_count": null,
      "metadata": {
        "id": "pXoyLeWeXQF2"
      },
      "outputs": [],
      "source": [
        "target_act = gather_residual_activations(model, 20, inputs)"
      ]
    },
    {
      "cell_type": "markdown",
      "metadata": {
        "id": "iS4Re5VTQti5"
      },
      "source": [
        "Now, we can run our SAE on the saved activations."
      ]
    },
    {
      "cell_type": "code",
      "execution_count": null,
      "metadata": {
        "id": "H2ax0KLtZfcu"
      },
      "outputs": [],
      "source": [
        "sae_acts = sae.encode(target_act.to(torch.float32))\n",
        "sae_acts.shape"
      ]
    },
    {
      "cell_type": "markdown",
      "metadata": {
        "id": "EV8oow-wwFU_"
      },
      "source": [
        "# steering fns"
      ]
    },
    {
      "cell_type": "code",
      "execution_count": null,
      "metadata": {
        "id": "JDow_KwZBXp_"
      },
      "outputs": [],
      "source": [
        "def patch_and_steer(tokens, patch, multp, layer_id):\n",
        "    # replace LLM actvs in that layer with decoder output\n",
        "\n",
        "    layer_name = f'blocks.{layer_id}.hook_resid_post'\n",
        "\n",
        "    def patch_layer(\n",
        "        orig_actvs: Float[Tensor, \"batch pos d_model\"],\n",
        "        hook: HookPoint,\n",
        "        LLM_patch: Float[Tensor, \"batch pos d_model\"],\n",
        "        layer_to_patch: int,\n",
        "    ) -> Float[Tensor, \"batch pos d_model\"]:\n",
        "        if layer_to_patch == hook.layer():\n",
        "            orig_actvs[:, :, :] = LLM_patch\n",
        "        return orig_actvs\n",
        "\n",
        "    hook_fn = partial(\n",
        "            patch_layer,\n",
        "            LLM_patch= patch,\n",
        "            layer_to_patch = layer_id\n",
        "        )\n",
        "\n",
        "    # if you use run_with_cache, you need to add_hook before\n",
        "    # if you use run_with_hooks, you dont need add_hook, just add it in fwd_hooks arg\n",
        "    # no need to reset hoooks after since run_with_hooks isn't permanent like add_hook with perm arg\n",
        "\n",
        "    # rerun clean inputs on ablated model\n",
        "    ablated_logits = model_2.run_with_hooks(tokens,\n",
        "                        fwd_hooks=[\n",
        "                            (layer_name, hook_fn),\n",
        "                        ]\n",
        "                    )\n",
        "\n",
        "    next_token = ablated_logits[0, -1].argmax(dim=-1)\n",
        "    next_char = model_2.to_string(next_token)\n",
        "    print(next_char)\n",
        "    return next_char"
      ]
    },
    {
      "cell_type": "markdown",
      "metadata": {
        "id": "Sq7zigEtnZHC"
      },
      "source": [
        "Steering sae fns"
      ]
    },
    {
      "cell_type": "code",
      "execution_count": null,
      "metadata": {
        "id": "xw8f93bInk2_"
      },
      "outputs": [],
      "source": [
        "def steer_by_sae_lastTok(prompt, steer_vec, multp):\n",
        "    tokens = model_2.to_tokens(prompt).to(device)\n",
        "    inputs = tokenizer.encode(prompt, return_tensors=\"pt\", add_special_tokens=True).to(\"cuda\")\n",
        "    target_act = gather_residual_activations(model, 20, inputs)\n",
        "    sae_acts_3 = sae.encode(target_act.to(torch.float32))\n",
        "\n",
        "    sae_acts_3[:, -1, :]  += multp * steer_vec[:, -1, :] # in-place\n",
        "    recon = sae.decode(sae_acts_3)\n",
        "\n",
        "    layer_id = 20\n",
        "    return patch_and_steer(tokens, recon, multp, layer_id)"
      ]
    },
    {
      "cell_type": "markdown",
      "metadata": {
        "id": "am0lV6AqwBzn"
      },
      "source": [
        "LLM steering fns"
      ]
    },
    {
      "cell_type": "code",
      "execution_count": null,
      "metadata": {
        "id": "zpoop5GIwBLK"
      },
      "outputs": [],
      "source": [
        "def steer_by_LLM_lastTok(prompt, steer_vec, multp):\n",
        "    tokens = model_2.to_tokens(prompt).to(device)\n",
        "    inputs = tokenizer.encode(prompt, return_tensors=\"pt\", add_special_tokens=True).to(\"cuda\")\n",
        "    target_act = gather_residual_activations(model, 20, inputs)\n",
        "\n",
        "    target_act[:, -1, :]  += multp * steer_vec[:, -1, :] # in-place\n",
        "\n",
        "    layer_id = 20\n",
        "    return patch_and_steer(tokens, target_act, multp, layer_id)"
      ]
    },
    {
      "cell_type": "markdown",
      "metadata": {
        "id": "wgSm_-CvDKie"
      },
      "source": [
        "# scoring fns"
      ]
    },
    {
      "cell_type": "code",
      "execution_count": null,
      "metadata": {
        "id": "px7d7m-aqU5r"
      },
      "outputs": [],
      "source": [
        "# def get_test_scores_steerSAEactvs(prompts_list, answers, steer_vec, multp):\n",
        "#     score = 0\n",
        "#     for p_id, prompt in enumerate(prompts_list):\n",
        "#         print(prompt)\n",
        "#         output = steer_by_sae_lastTok(prompt, steer_vec, multp)\n",
        "#         if p_id < len(answers):\n",
        "#             print(\" Correct Output: \", answers[p_id])\n",
        "#             output_reformat = output.replace(\" \", \"\")\n",
        "#             if output_reformat == answers[p_id]:\n",
        "#                 score += 1\n",
        "#     return score / len(answers)\n",
        "\n",
        "### not aesthetic to see printed output\n",
        "# def run_tests_steerSAEactvs(steer_vec):\n",
        "#     scores_table = []\n",
        "#     multp_list = [1] # , 3, 10\n",
        "#     for multp in multp_list:\n",
        "#         for prompts_list, answers in zip(all_test_prompts, all_test_answers):\n",
        "#             score = get_test_scores_steerSAEactvs(prompts_list, answers, steer_vec, multp)\n",
        "#             scores_table.append(score)\n",
        "#             print('\\n')\n",
        "#     return scores_table"
      ]
    },
    {
      "cell_type": "code",
      "execution_count": null,
      "metadata": {
        "id": "SzRsZ0sV9CYF"
      },
      "outputs": [],
      "source": [
        "import pandas as pd\n",
        "\n",
        "def get_test_scores_steerSAEactvs(prompts_list, answers, steer_vec, multp):\n",
        "    results = []\n",
        "    score = 0\n",
        "    for p_id, prompt in enumerate(prompts_list):\n",
        "        output = steer_by_sae_lastTok(prompt, steer_vec, multp)\n",
        "        if p_id < len(answers):\n",
        "            results.append({\n",
        "                'Prompt': prompt,\n",
        "                'Answer': answers[p_id],\n",
        "                'Output': output\n",
        "            })\n",
        "            output_reformat = output.replace(\" \", \"\")\n",
        "            if output_reformat == answers[p_id]:\n",
        "                score += 1\n",
        "        else:\n",
        "            results.append({\n",
        "                'Prompt': prompt,\n",
        "                'Answer': '',\n",
        "                'Output': output\n",
        "            })\n",
        "    return pd.DataFrame(results), score / len(answers)\n",
        "\n",
        "def run_tests_steer_SAEactvs(steer_vec, multp_list):\n",
        "    all_scores = []\n",
        "    all_tables = []\n",
        "    for prompts_list, answers in zip(all_test_prompts, all_test_answers):\n",
        "        prompts_table = []\n",
        "        prompts_scores = []\n",
        "        for multp in multp_list:\n",
        "            df, score = get_test_scores_steerSAEactvs(prompts_list, answers, steer_vec, multp)\n",
        "            prompts_table.append(df)\n",
        "            prompts_scores.append(score)\n",
        "        all_tables.append(prompts_table)\n",
        "        all_scores.append(prompts_scores)\n",
        "    return all_tables, all_scores"
      ]
    },
    {
      "cell_type": "code",
      "execution_count": null,
      "metadata": {
        "id": "HJFTpSBmDjIJ"
      },
      "outputs": [],
      "source": [
        "def get_test_scores_steer_actvs(prompts_list, answers, steer_vec, multp, actv_type):\n",
        "    results = []\n",
        "    score = 0\n",
        "    for p_id, prompt in enumerate(prompts_list):\n",
        "        if actv_type == 'SAE':\n",
        "            output = steer_by_sae_lastTok(prompt, steer_vec, multp)\n",
        "        else:\n",
        "            output = steer_by_LLM_lastTok(prompt, steer_vec, multp)\n",
        "        if p_id < len(answers):\n",
        "            results.append({\n",
        "                'Prompt': prompt,\n",
        "                'Answer': answers[p_id],\n",
        "                'Output': output\n",
        "            })\n",
        "            output_reformat = output.replace(\" \", \"\")\n",
        "            if output_reformat == answers[p_id]:\n",
        "                score += 1\n",
        "        else:\n",
        "            results.append({\n",
        "                'Prompt': prompt,\n",
        "                'Answer': '',\n",
        "                'Output': output\n",
        "            })\n",
        "    return pd.DataFrame(results), score / len(answers)\n",
        "\n",
        "def run_tests_steer_actvs(steer_vec, multp_list, actv_type):\n",
        "    all_scores = []\n",
        "    all_tables = []\n",
        "    for prompts_list, answers in zip(all_test_prompts, all_test_answers):\n",
        "        prompts_table = []\n",
        "        prompts_scores = []\n",
        "        for multp in multp_list:\n",
        "            df, score = get_test_scores_steer_actvs(prompts_list, answers, steer_vec, multp, actv_type)\n",
        "            prompts_table.append(df)\n",
        "            prompts_scores.append(score)\n",
        "        all_tables.append(prompts_table)\n",
        "        all_scores.append(prompts_scores)\n",
        "    return all_tables, all_scores"
      ]
    },
    {
      "cell_type": "markdown",
      "metadata": {
        "id": "f0Jh_w11rzCG"
      },
      "source": [
        "# make test data"
      ]
    },
    {
      "cell_type": "code",
      "source": [
        "test_labels_lst = ['numwords', 'months', 'days', 'tomorrow_is', 'nextMonth_is', 'descr_numwords', 'spanish_numwords']"
      ],
      "metadata": {
        "id": "A9J0p7-aJw6T"
      },
      "execution_count": null,
      "outputs": []
    },
    {
      "cell_type": "code",
      "execution_count": null,
      "metadata": {
        "id": "D0o1a5zUzggz"
      },
      "outputs": [],
      "source": [
        "all_test_prompts = []\n",
        "all_test_answers = []"
      ]
    },
    {
      "cell_type": "code",
      "execution_count": null,
      "metadata": {
        "id": "BOZFQeUusmes"
      },
      "outputs": [],
      "source": [
        "words = ['one', 'two', 'three', 'four', 'five', 'six', 'seven', 'eight', 'nine', 'ten', 'eleven', 'twelve']\n",
        "numword_samps = []\n",
        "for i in range(0, 9):\n",
        "    samp = f\"{words[i]} {words[i+1]} {words[i+2]} {words[i+3]}\"\n",
        "    numword_samps.append(samp)\n",
        "answers = [str(i) for i in range(5, 10)]\n",
        "\n",
        "all_test_prompts.append(numword_samps)\n",
        "all_test_answers.append(answers)"
      ]
    },
    {
      "cell_type": "code",
      "execution_count": null,
      "metadata": {
        "id": "9K8Q23m1t9o-"
      },
      "outputs": [],
      "source": [
        "words = ['January', 'February', 'March', 'April', 'May', 'June', 'July', 'August', 'September', 'October', 'November', 'December']\n",
        "months_samps = []\n",
        "# for i in range(0, 9):\n",
        "for i in range(0, 5):\n",
        "    samp = f\"{words[i]} {words[i+1]} {words[i+2]} {words[i+3]}\"\n",
        "    months_samps.append(samp)\n",
        "answers = [str(i) for i in range(5, 10)]\n",
        "\n",
        "all_test_prompts.append(months_samps)\n",
        "all_test_answers.append(answers)"
      ]
    },
    {
      "cell_type": "code",
      "execution_count": null,
      "metadata": {
        "id": "xaDGEwW2uFsL"
      },
      "outputs": [],
      "source": [
        "words = [\"Monday\", \"Tuesday\", \"Wednesday\", \"Thursday\", \"Friday\", \"Saturday\", \"Sunday\"]\n",
        "day_samps = []\n",
        "for i in range(0, 5):\n",
        "    samp = f\"{words[i]} {words[i+1]} {words[i+2]}\" # {words[i+3]}\"\n",
        "    day_samps.append(samp)\n",
        "answers = [str(i) for i in range(4, 7)]\n",
        "\n",
        "all_test_prompts.append(day_samps)\n",
        "all_test_answers.append(answers)"
      ]
    },
    {
      "cell_type": "code",
      "execution_count": null,
      "metadata": {
        "id": "F1kNpnr33NiX"
      },
      "outputs": [],
      "source": [
        "words = [\"Monday\", \"Tuesday\", \"Wednesday\", \"Thursday\", \"Friday\", \"Saturday\", \"Sunday\"]\n",
        "tomorrowIs_samps = []\n",
        "for i in range(0, 6):\n",
        "    samp = f\"Today is {words[i]}, tomorrow is\"\n",
        "    tomorrowIs_samps.append(samp)\n",
        "answers = [str(i) for i in range(2, 7)]\n",
        "\n",
        "all_test_prompts.append(tomorrowIs_samps)\n",
        "all_test_answers.append(answers)"
      ]
    },
    {
      "cell_type": "code",
      "execution_count": null,
      "metadata": {
        "id": "44sSCfoH5xb8"
      },
      "outputs": [],
      "source": [
        "words = ['January', 'February', 'March', 'April', 'May', 'June', 'July', 'August', 'September', 'October', 'November', 'December']\n",
        "nextMonthIs_samps = []\n",
        "for i in range(0, 8):\n",
        "    samp = f\"This month is {words[i]}, next month is\"\n",
        "    nextMonthIs_samps.append(samp)\n",
        "answers = [str(i) for i in range(2, 10)]\n",
        "\n",
        "all_test_prompts.append(nextMonthIs_samps)\n",
        "all_test_answers.append(answers)"
      ]
    },
    {
      "cell_type": "code",
      "execution_count": null,
      "metadata": {
        "id": "ONTflRZF6oP_"
      },
      "outputs": [],
      "source": [
        "words = ['one', 'two', 'three', 'four', 'five', 'six', 'seven', 'eight', 'nine', 'ten', 'eleven', 'twelve'][::-1]\n",
        "backw_numword_samps = []\n",
        "for i in range(0, 8):\n",
        "    samp = f\"{words[i]} {words[i+1]} {words[i+2]} {words[i+3]}\"\n",
        "    backw_numword_samps.append(samp)\n",
        "answers = [str(i) for i in range(8, 0, -1)]\n",
        "\n",
        "all_test_prompts.append(backw_numword_samps)\n",
        "all_test_answers.append(answers)"
      ]
    },
    {
      "cell_type": "code",
      "execution_count": null,
      "metadata": {
        "id": "-kiOzaTv3xJv"
      },
      "outputs": [],
      "source": [
        "words = ['uno', 'dos', 'tres', 'cuatro', 'cinco', 'seis', 'siete', 'ocho', 'nueve']\n",
        "SPnumword_samps = []\n",
        "for i in range(0, 6):\n",
        "    samp = f\"{words[i]} {words[i+1]} {words[i+2]} {words[i+3]}\"\n",
        "    SPnumword_samps.append(samp)\n",
        "answers = [str(i) for i in range(5, 10)]\n",
        "\n",
        "all_test_prompts.append(SPnumword_samps)\n",
        "all_test_answers.append(answers)"
      ]
    },
    {
      "cell_type": "markdown",
      "metadata": {
        "id": "r4h4oL-Ctagf"
      },
      "source": [
        "# steer by SAE actvs"
      ]
    },
    {
      "cell_type": "markdown",
      "metadata": {
        "id": "XQ3CoL48un-r"
      },
      "source": [
        "## get steering vec"
      ]
    },
    {
      "cell_type": "code",
      "execution_count": null,
      "metadata": {
        "id": "ArLQTFovun-s"
      },
      "outputs": [],
      "source": [
        "words = ['1', '2', '3', '4', '5', '6', '7', '8', '9']\n",
        "num_sv_samp = []\n",
        "for i in range(0, 9):\n",
        "    samp = f\"{words[i]}\"\n",
        "    num_sv_samp.append(samp)\n",
        "inputs = tokenizer(numword_samps, return_tensors=\"pt\", padding=True, truncation=True, max_length=300)['input_ids'].to(\"cuda\")\n",
        "target_act = gather_residual_activations(model, 20, inputs)\n",
        "sae_acts_1 = sae.encode(target_act.to(torch.float32))"
      ]
    },
    {
      "cell_type": "code",
      "execution_count": null,
      "metadata": {
        "colab": {
          "base_uri": "https://localhost:8080/"
        },
        "id": "jxd8Y611un-s",
        "outputId": "35dca566-e4c8-4165-d127-06ae385a7305"
      },
      "outputs": [
        {
          "data": {
            "text/plain": [
              "torch.Size([1, 2, 16384])"
            ]
          },
          "execution_count": 51,
          "metadata": {},
          "output_type": "execute_result"
        }
      ],
      "source": [
        "mean_num_sv = sae_acts_1.mean(dim=0)\n",
        "mean_num_sv = mean_num_sv.unsqueeze(0)\n",
        "mean_num_sv.shape"
      ]
    },
    {
      "cell_type": "markdown",
      "metadata": {
        "id": "5baTwnKlt5sK"
      },
      "source": [
        "## steer tests"
      ]
    },
    {
      "cell_type": "code",
      "execution_count": null,
      "metadata": {
        "colab": {
          "base_uri": "https://localhost:8080/"
        },
        "id": "ST58Ssmavxje",
        "outputId": "c488ee63-46ae-48a0-e0bb-8ffb050f2422"
      },
      "outputs": [
        {
          "name": "stdout",
          "output_type": "stream",
          "text": [
            "one two three four\n",
            "5\n",
            " Correct Output:  5\n",
            "two three four five\n",
            "6\n",
            " Correct Output:  6\n",
            "three four five six\n",
            "7\n",
            " Correct Output:  7\n",
            "four five six seven\n",
            "8\n",
            " Correct Output:  8\n",
            "five six seven eight\n",
            "9\n",
            " Correct Output:  9\n",
            "six seven eight nine\n",
            "8\n",
            "seven eight nine ten\n",
            "1\n",
            "eight nine ten eleven\n",
            "2\n",
            "nine ten eleven twelve\n",
            "3\n",
            "\n",
            "\n",
            "January February March April\n",
            "5\n",
            " Correct Output:  5\n",
            "February March April May\n",
            "6\n",
            " Correct Output:  6\n",
            "March April May June\n",
            "7\n",
            " Correct Output:  7\n",
            "April May June July\n",
            "8\n",
            " Correct Output:  8\n",
            "May June July August\n",
            "9\n",
            " Correct Output:  9\n",
            "\n",
            "\n",
            "Monday Tuesday Wednesday\n",
            "4\n",
            " Correct Output:  4\n",
            "Tuesday Wednesday Thursday\n",
            "5\n",
            " Correct Output:  5\n",
            "Wednesday Thursday Friday\n",
            " \n",
            " Correct Output:  6\n",
            "Thursday Friday Saturday\n",
            "\n",
            "\n",
            "Friday Saturday Sunday\n",
            ".\n",
            "\n",
            "\n",
            "Today is Monday, tomorrow is\n",
            " Tuesday\n",
            " Correct Output:  2\n",
            "Today is Tuesday, tomorrow is\n",
            " \n",
            " Correct Output:  3\n",
            "Today is Wednesday, tomorrow is\n",
            " Thursday\n",
            " Correct Output:  4\n",
            "Today is Thursday, tomorrow is\n",
            " Friday\n",
            " Correct Output:  5\n",
            "Today is Friday, tomorrow is\n",
            "6\n",
            " Correct Output:  6\n",
            "Today is Saturday, tomorrow is\n",
            " Sunday\n",
            "\n",
            "\n",
            "This month is January, next month is\n",
            " February\n",
            " Correct Output:  2\n",
            "This month is February, next month is\n",
            "3\n",
            " Correct Output:  3\n",
            "This month is March, next month is\n",
            " April\n",
            " Correct Output:  4\n",
            "This month is April, next month is\n",
            "5\n",
            " Correct Output:  5\n",
            "This month is May, next month is\n",
            "6\n",
            " Correct Output:  6\n",
            "This month is June, next month is\n",
            "7\n",
            " Correct Output:  7\n",
            "This month is July, next month is\n",
            "8\n",
            " Correct Output:  8\n",
            "This month is August, next month is\n",
            " September\n",
            " Correct Output:  9\n",
            "\n",
            "\n",
            "twelve eleven ten nine\n",
            "8\n",
            " Correct Output:  8\n",
            "eleven ten nine eight\n",
            "7\n",
            " Correct Output:  7\n",
            "ten nine eight seven\n",
            "6\n",
            " Correct Output:  6\n",
            "nine eight seven six\n",
            "0\n",
            " Correct Output:  5\n",
            "eight seven six five\n",
            " \n",
            " Correct Output:  4\n",
            "seven six five four\n",
            "3\n",
            " Correct Output:  3\n",
            "six five four three\n",
            "2\n",
            " Correct Output:  2\n",
            "five four three two\n",
            "1\n",
            " Correct Output:  1\n",
            "four three two one\n",
            "2\n",
            " Correct Output:  0\n",
            "\n",
            "\n",
            "uno dos tres cuatro\n",
            "5\n",
            " Correct Output:  5\n",
            "dos tres cuatro cinco\n",
            "6\n",
            " Correct Output:  6\n",
            "tres cuatro cinco seis\n",
            "7\n",
            " Correct Output:  7\n",
            "cuatro cinco seis siete\n",
            "8\n",
            " Correct Output:  8\n",
            "cinco seis siete ocho\n",
            "9\n",
            " Correct Output:  9\n",
            "seis siete ocho nueve\n",
            "0\n",
            "\n",
            "\n"
          ]
        }
      ],
      "source": [
        "# scores_table = run_tests_steerSAEactvs(mean_num_sv)"
      ]
    },
    {
      "cell_type": "code",
      "execution_count": null,
      "metadata": {
        "id": "CAiKUgUz8S_Q"
      },
      "outputs": [],
      "source": [
        "# scores_table = []\n",
        "# multp_list = [1] # , 3, 10\n",
        "# len(all_test_prompts)"
      ]
    },
    {
      "cell_type": "code",
      "execution_count": null,
      "metadata": {
        "id": "iFVnq9E67_qE"
      },
      "outputs": [],
      "source": [
        "# test_id = 0\n",
        "# prompts_list = all_test_prompts[test_id]\n",
        "# answers = all_test_answers[test_id]\n",
        "\n",
        "# for multp in multp_list:\n",
        "#     print(\"MULTIPLIER: \", multp)\n",
        "#     score = get_test_scores_steerSAEactvs(prompts_list, answers, mean_num_sv, multp)\n",
        "#     scores_table.append(score)\n",
        "#     print('\\n')"
      ]
    },
    {
      "cell_type": "code",
      "execution_count": null,
      "metadata": {
        "id": "ElxpMVnBFJv9"
      },
      "outputs": [],
      "source": [
        "%%capture\n",
        "multp_list = [1, 3]\n",
        "SAE_tables, SAE_scores = run_tests_steer_actvs(mean_num_sv, multp_list, 'SAE')"
      ]
    },
    {
      "cell_type": "code",
      "execution_count": null,
      "metadata": {
        "id": "k6dj0mZxFJwG"
      },
      "outputs": [],
      "source": [
        "tables = SAE_tables\n",
        "scores = SAE_scores"
      ]
    },
    {
      "cell_type": "code",
      "execution_count": null,
      "metadata": {
        "colab": {
          "base_uri": "https://localhost:8080/"
        },
        "id": "3-u2vcwz-MU3",
        "outputId": "40183a1b-5077-4232-84cf-da23ef44235d"
      },
      "outputs": [
        {
          "name": "stdout",
          "output_type": "stream",
          "text": [
            "MULTIPLIER:  1\n",
            "Acc Score:  1.0\n",
            "                   Prompt Answer Output\n",
            "0      one two three four      5      5\n",
            "1     two three four five      6      6\n",
            "2     three four five six      7      7\n",
            "3     four five six seven      8      8\n",
            "4    five six seven eight      9      9\n",
            "5    six seven eight nine             8\n",
            "6    seven eight nine ten             1\n",
            "7   eight nine ten eleven             2\n",
            "8  nine ten eleven twelve             3\n",
            "\n",
            "\n",
            "MULTIPLIER:  3\n",
            "Acc Score:  1.0\n",
            "                   Prompt Answer Output\n",
            "0      one two three four      5      5\n",
            "1     two three four five      6      6\n",
            "2     three four five six      7      7\n",
            "3     four five six seven      8      8\n",
            "4    five six seven eight      9      9\n",
            "5    six seven eight nine             0\n",
            "6    seven eight nine ten             1\n",
            "7   eight nine ten eleven             1\n",
            "8  nine ten eleven twelve             3\n",
            "\n",
            "\n"
          ]
        }
      ],
      "source": [
        "test_id = 0\n",
        "\n",
        "for i, df in enumerate(tables[test_id]):\n",
        "    print(\"MULTIPLIER: \", multp_list[i])\n",
        "    print(\"Acc Score: \", scores[test_id][i])\n",
        "    print(df) # display(df) ## display is too bulky\n",
        "    print('\\n')"
      ]
    },
    {
      "cell_type": "code",
      "execution_count": null,
      "metadata": {
        "colab": {
          "base_uri": "https://localhost:8080/"
        },
        "id": "ZablM1R1AtJ1",
        "outputId": "c3091858-cac2-4bdb-bc35-1941d6b6464b"
      },
      "outputs": [
        {
          "name": "stdout",
          "output_type": "stream",
          "text": [
            "MULTIPLIER:  1\n",
            "Acc Score:  1.0\n",
            "                         Prompt Answer Output\n",
            "0  January February March April      5      5\n",
            "1      February March April May      6      6\n",
            "2          March April May June      7      7\n",
            "3           April May June July      8      8\n",
            "4          May June July August      9      9\n",
            "\n",
            "\n",
            "MULTIPLIER:  3\n",
            "Acc Score:  1.0\n",
            "                         Prompt Answer Output\n",
            "0  January February March April      5      5\n",
            "1      February March April May      6      6\n",
            "2          March April May June      7      7\n",
            "3           April May June July      8      8\n",
            "4          May June July August      9      9\n",
            "\n",
            "\n"
          ]
        }
      ],
      "source": [
        "test_id = 1\n",
        "\n",
        "for i, df in enumerate(tables[test_id]):\n",
        "    print(\"MULTIPLIER: \", multp_list[i])\n",
        "    print(\"Acc Score: \", scores[test_id][i])\n",
        "    print(df) # display(df) ## display is too bulky\n",
        "    print('\\n')"
      ]
    },
    {
      "cell_type": "code",
      "execution_count": null,
      "metadata": {
        "colab": {
          "base_uri": "https://localhost:8080/"
        },
        "id": "omokoTZkBKQF",
        "outputId": "ecdbdcb8-ce1f-4258-9ab5-801328fc0076"
      },
      "outputs": [
        {
          "name": "stdout",
          "output_type": "stream",
          "text": [
            "MULTIPLIER:  1\n",
            "Acc Score:  0.6666666666666666\n",
            "                       Prompt Answer Output\n",
            "0    Monday Tuesday Wednesday      4      4\n",
            "1  Tuesday Wednesday Thursday      5      5\n",
            "2   Wednesday Thursday Friday      6       \n",
            "3    Thursday Friday Saturday            \\n\n",
            "4      Friday Saturday Sunday             .\n",
            "\n",
            "\n",
            "MULTIPLIER:  3\n",
            "Acc Score:  0.6666666666666666\n",
            "                       Prompt Answer Output\n",
            "0    Monday Tuesday Wednesday      4      4\n",
            "1  Tuesday Wednesday Thursday      5      5\n",
            "2   Wednesday Thursday Friday      6      0\n",
            "3    Thursday Friday Saturday             0\n",
            "4      Friday Saturday Sunday             1\n",
            "\n",
            "\n"
          ]
        }
      ],
      "source": [
        "test_id = 2\n",
        "\n",
        "for i, df in enumerate(tables[test_id]):\n",
        "    print(\"MULTIPLIER: \", multp_list[i])\n",
        "    print(\"Acc Score: \", scores[test_id][i])\n",
        "    print(df) # display(df) ## display is too bulky\n",
        "    print('\\n')"
      ]
    },
    {
      "cell_type": "code",
      "execution_count": null,
      "metadata": {
        "colab": {
          "base_uri": "https://localhost:8080/"
        },
        "id": "BMvf4jdoBRE2",
        "outputId": "a16c0e28-98d1-4df8-e78c-7714fa43fda9"
      },
      "outputs": [
        {
          "name": "stdout",
          "output_type": "stream",
          "text": [
            "MULTIPLIER:  1\n",
            "Acc Score:  0.2\n",
            "                            Prompt Answer     Output\n",
            "0     Today is Monday, tomorrow is      2    Tuesday\n",
            "1    Today is Tuesday, tomorrow is      3           \n",
            "2  Today is Wednesday, tomorrow is      4   Thursday\n",
            "3   Today is Thursday, tomorrow is      5     Friday\n",
            "4     Today is Friday, tomorrow is      6          6\n",
            "5   Today is Saturday, tomorrow is            Sunday\n",
            "\n",
            "\n",
            "MULTIPLIER:  3\n",
            "Acc Score:  0.8\n",
            "                            Prompt Answer Output\n",
            "0     Today is Monday, tomorrow is      2      2\n",
            "1    Today is Tuesday, tomorrow is      3      3\n",
            "2  Today is Wednesday, tomorrow is      4      4\n",
            "3   Today is Thursday, tomorrow is      5      5\n",
            "4     Today is Friday, tomorrow is      6      0\n",
            "5   Today is Saturday, tomorrow is             0\n",
            "\n",
            "\n"
          ]
        }
      ],
      "source": [
        "test_id = 3\n",
        "\n",
        "for i, df in enumerate(tables[test_id]):\n",
        "    print(\"MULTIPLIER: \", multp_list[i])\n",
        "    print(\"Acc Score: \", scores[test_id][i])\n",
        "    print(df) # display(df) ## display is too bulky\n",
        "    print('\\n')"
      ]
    },
    {
      "cell_type": "code",
      "execution_count": null,
      "metadata": {
        "colab": {
          "base_uri": "https://localhost:8080/"
        },
        "id": "0WqVRHfDBN0y",
        "outputId": "b0c317d1-9716-43c5-8927-c36b85ce8152"
      },
      "outputs": [
        {
          "name": "stdout",
          "output_type": "stream",
          "text": [
            "MULTIPLIER:  1\n",
            "Acc Score:  0.625\n",
            "                                  Prompt Answer      Output\n",
            "0   This month is January, next month is      2    February\n",
            "1  This month is February, next month is      3           3\n",
            "2     This month is March, next month is      4       April\n",
            "3     This month is April, next month is      5           5\n",
            "4       This month is May, next month is      6           6\n",
            "5      This month is June, next month is      7           7\n",
            "6      This month is July, next month is      8           8\n",
            "7    This month is August, next month is      9   September\n",
            "\n",
            "\n",
            "MULTIPLIER:  3\n",
            "Acc Score:  1.0\n",
            "                                  Prompt Answer Output\n",
            "0   This month is January, next month is      2      2\n",
            "1  This month is February, next month is      3      3\n",
            "2     This month is March, next month is      4      4\n",
            "3     This month is April, next month is      5      5\n",
            "4       This month is May, next month is      6      6\n",
            "5      This month is June, next month is      7      7\n",
            "6      This month is July, next month is      8      8\n",
            "7    This month is August, next month is      9      9\n",
            "\n",
            "\n"
          ]
        }
      ],
      "source": [
        "test_id = 4\n",
        "\n",
        "for i, df in enumerate(tables[test_id]):\n",
        "    print(\"MULTIPLIER: \", multp_list[i])\n",
        "    print(\"Acc Score: \", scores[test_id][i])\n",
        "    print(df) # display(df) ## display is too bulky\n",
        "    print('\\n')"
      ]
    },
    {
      "cell_type": "code",
      "execution_count": null,
      "metadata": {
        "colab": {
          "base_uri": "https://localhost:8080/"
        },
        "id": "P0a4C1_6Bk1o",
        "outputId": "3aedbacd-bab4-4311-850c-bf7746064992"
      },
      "outputs": [
        {
          "name": "stdout",
          "output_type": "stream",
          "text": [
            "MULTIPLIER:  1\n",
            "Acc Score:  0.75\n",
            "                   Prompt Answer Output\n",
            "0  twelve eleven ten nine      8      8\n",
            "1   eleven ten nine eight      7      7\n",
            "2    ten nine eight seven      6      6\n",
            "3    nine eight seven six      5      0\n",
            "4    eight seven six five      4       \n",
            "5     seven six five four      3      3\n",
            "6     six five four three      2      2\n",
            "7     five four three two      1      1\n",
            "\n",
            "\n",
            "MULTIPLIER:  3\n",
            "Acc Score:  0.625\n",
            "                   Prompt Answer Output\n",
            "0  twelve eleven ten nine      8      8\n",
            "1   eleven ten nine eight      7      0\n",
            "2    ten nine eight seven      6      6\n",
            "3    nine eight seven six      5      0\n",
            "4    eight seven six five      4      0\n",
            "5     seven six five four      3      3\n",
            "6     six five four three      2      2\n",
            "7     five four three two      1      1\n",
            "\n",
            "\n"
          ]
        }
      ],
      "source": [
        "test_id = 5\n",
        "\n",
        "for i, df in enumerate(tables[test_id]):\n",
        "    print(\"MULTIPLIER: \", multp_list[i])\n",
        "    print(\"Acc Score: \", scores[test_id][i])\n",
        "    print(df) # display(df) ## display is too bulky\n",
        "    print('\\n')"
      ]
    },
    {
      "cell_type": "code",
      "execution_count": null,
      "metadata": {
        "colab": {
          "base_uri": "https://localhost:8080/"
        },
        "id": "CrHsve4MCjJx",
        "outputId": "b901e094-e2f1-444d-d30b-afe6987d7a11"
      },
      "outputs": [
        {
          "name": "stdout",
          "output_type": "stream",
          "text": [
            "MULTIPLIER:  1\n",
            "Acc Score:  1.0\n",
            "                    Prompt Answer Output\n",
            "0      uno dos tres cuatro      5      5\n",
            "1    dos tres cuatro cinco      6      6\n",
            "2   tres cuatro cinco seis      7      7\n",
            "3  cuatro cinco seis siete      8      8\n",
            "4    cinco seis siete ocho      9      9\n",
            "5    seis siete ocho nueve             0\n",
            "\n",
            "\n",
            "MULTIPLIER:  3\n",
            "Acc Score:  0.8\n",
            "                    Prompt Answer Output\n",
            "0      uno dos tres cuatro      5      5\n",
            "1    dos tres cuatro cinco      6      0\n",
            "2   tres cuatro cinco seis      7      7\n",
            "3  cuatro cinco seis siete      8      8\n",
            "4    cinco seis siete ocho      9      9\n",
            "5    seis siete ocho nueve             0\n",
            "\n",
            "\n"
          ]
        }
      ],
      "source": [
        "test_id = 6\n",
        "\n",
        "for i, df in enumerate(tables[test_id]):\n",
        "    print(\"MULTIPLIER: \", multp_list[i])\n",
        "    print(\"Acc Score: \", scores[test_id][i])\n",
        "    print(df) # display(df) ## display is too bulky\n",
        "    print('\\n')"
      ]
    },
    {
      "cell_type": "markdown",
      "metadata": {
        "id": "63qz69BCwIs8"
      },
      "source": [
        "## nonseq prompts"
      ]
    },
    {
      "cell_type": "code",
      "execution_count": null,
      "metadata": {
        "colab": {
          "base_uri": "https://localhost:8080/"
        },
        "id": "Nieyiim4v5Wd",
        "outputId": "e53026b0-4f60-47b6-e304-628c17edf05e"
      },
      "outputs": [
        {
          "name": "stdout",
          "output_type": "stream",
          "text": [
            "aa a a\n",
            "0\n",
            "I AM A CAT\n",
            "0\n",
            "Bob and Mary went to store\n",
            "0\n",
            "my favorite colour is\n",
            "0\n"
          ]
        }
      ],
      "source": [
        "nonseq_prompts = [ \"aa a a\", \"I AM A CAT\", \"Bob and Mary went to store\", \"my favorite colour is\"]\n",
        "steer_vec = mean_num_sv\n",
        "multp = 3\n",
        "\n",
        "for prompt in nonseq_prompts:\n",
        "    print(prompt)\n",
        "    steer_by_sae_lastTok(prompt, steer_vec, multp)"
      ]
    },
    {
      "cell_type": "code",
      "execution_count": null,
      "metadata": {
        "colab": {
          "base_uri": "https://localhost:8080/"
        },
        "id": "88it0ZosyK8F",
        "outputId": "c0855ad9-4de7-4100-e2ae-1e088c0f5d77"
      },
      "outputs": [
        {
          "name": "stdout",
          "output_type": "stream",
          "text": [
            "aa a a\n",
            "0\n",
            "I AM A CAT\n",
            "0\n",
            "Bob and Mary went to store\n",
            "0\n",
            "my favorite colour is\n",
            "0\n"
          ]
        }
      ],
      "source": [
        "nonseq_prompts = [ \"aa a a\", \"I AM A CAT\", \"Bob and Mary went to store\", \"my favorite colour is\"]\n",
        "steer_vec = mean_num_sv\n",
        "multp = 10\n",
        "\n",
        "for prompt in nonseq_prompts:\n",
        "    print(prompt)\n",
        "    steer_by_sae_lastTok(prompt, steer_vec, multp)"
      ]
    },
    {
      "cell_type": "markdown",
      "metadata": {
        "id": "USNcT_AKu4FB"
      },
      "source": [
        "# steer by LLM actvs"
      ]
    },
    {
      "cell_type": "markdown",
      "metadata": {
        "id": "7XgCRxxEDAKs"
      },
      "source": [
        "## get steering vec"
      ]
    },
    {
      "cell_type": "code",
      "execution_count": null,
      "metadata": {
        "colab": {
          "base_uri": "https://localhost:8080/"
        },
        "id": "YzumZ1FjvyNj",
        "outputId": "11a335e0-26a9-412e-a50b-13c44117fde0"
      },
      "outputs": [
        {
          "data": {
            "text/plain": [
              "torch.Size([9, 2, 2304])"
            ]
          },
          "execution_count": 181,
          "metadata": {},
          "output_type": "execute_result"
        }
      ],
      "source": [
        "words = ['1', '2', '3', '4', '5', '6', '7', '8', '9']\n",
        "numword_samps = []\n",
        "for i in range(0, 9):\n",
        "    samp = f\"{words[i]}\"\n",
        "    numword_samps.append(samp)\n",
        "inputs = tokenizer(numword_samps, return_tensors=\"pt\", padding=True, truncation=True, max_length=300)['input_ids'].to(\"cuda\")\n",
        "target_act = gather_residual_activations(model, 20, inputs)\n",
        "target_act.shape"
      ]
    },
    {
      "cell_type": "code",
      "execution_count": null,
      "metadata": {
        "id": "7hIwzwMFvAcl"
      },
      "outputs": [],
      "source": [
        "words = ['1', '2', '3', '4', '5', '6', '7', '8', '9', '10']\n",
        "numword_samps = []\n",
        "for i in range(0, 10):\n",
        "    samp = f\"{words[i]}\"\n",
        "    numword_samps.append(samp)\n",
        "inputs = tokenizer(numword_samps, return_tensors=\"pt\", padding=True, truncation=True, max_length=300)['input_ids'].to(\"cuda\")\n",
        "target_act = gather_residual_activations(model, 20, inputs)\n",
        "# sae_acts_1 = sae.encode(target_act.to(torch.float32))"
      ]
    },
    {
      "cell_type": "code",
      "execution_count": null,
      "metadata": {
        "colab": {
          "base_uri": "https://localhost:8080/"
        },
        "id": "O6JGe-H9vso6",
        "outputId": "8d48739f-778d-4981-fba0-832f48f53d86"
      },
      "outputs": [
        {
          "data": {
            "text/plain": [
              "torch.Size([10, 3, 2304])"
            ]
          },
          "execution_count": 183,
          "metadata": {},
          "output_type": "execute_result"
        }
      ],
      "source": [
        "target_act.shape"
      ]
    },
    {
      "cell_type": "code",
      "execution_count": null,
      "metadata": {
        "colab": {
          "base_uri": "https://localhost:8080/"
        },
        "id": "W07x72fIvAcm",
        "outputId": "34cf2ad3-fa4f-4025-d9cc-9d76b0d98f0d"
      },
      "outputs": [
        {
          "data": {
            "text/plain": [
              "torch.Size([1, 3, 2304])"
            ]
          },
          "execution_count": 184,
          "metadata": {},
          "output_type": "execute_result"
        }
      ],
      "source": [
        "LLM_mean_num_sv = target_act.mean(dim=0)\n",
        "LLM_mean_num_sv = LLM_mean_num_sv.unsqueeze(0)\n",
        "LLM_mean_num_sv.shape"
      ]
    },
    {
      "cell_type": "markdown",
      "metadata": {
        "id": "nFP3L_ncDFng"
      },
      "source": [
        "## steer tests"
      ]
    },
    {
      "cell_type": "code",
      "execution_count": null,
      "metadata": {
        "id": "aYmT-fBXDFni"
      },
      "outputs": [],
      "source": [
        "%%capture\n",
        "multp_list = [1, 3]\n",
        "LLM_tables, LLM_scores = run_tests_steer_actvs(LLM_mean_num_sv, multp_list, 'LLM')"
      ]
    },
    {
      "cell_type": "code",
      "execution_count": null,
      "metadata": {
        "id": "JAOaAaiZEbJf"
      },
      "outputs": [],
      "source": [
        "tables = LLM_tables\n",
        "scores = LLM_scores"
      ]
    },
    {
      "cell_type": "code",
      "execution_count": null,
      "metadata": {
        "colab": {
          "base_uri": "https://localhost:8080/"
        },
        "id": "KssuunRNDFni",
        "outputId": "9a15bd38-130b-49ac-a1c0-bf999e1f94f5"
      },
      "outputs": [
        {
          "output_type": "stream",
          "name": "stdout",
          "text": [
            "MULTIPLIER:  1\n",
            "Acc Score:  1.0\n",
            "                   Prompt Answer Output\n",
            "0      one two three four      5      5\n",
            "1     two three four five      6      6\n",
            "2     three four five six      7      7\n",
            "3     four five six seven      8      8\n",
            "4    five six seven eight      9      9\n",
            "5    six seven eight nine             .\n",
            "6    seven eight nine ten              \n",
            "7   eight nine ten eleven             .\n",
            "8  nine ten eleven twelve             3\n",
            "\n",
            "\n",
            "MULTIPLIER:  3\n",
            "Acc Score:  0.8\n",
            "                   Prompt Answer Output\n",
            "0      one two three four      5      5\n",
            "1     two three four five      6       \n",
            "2     three four five six      7      7\n",
            "3     four five six seven      8      8\n",
            "4    five six seven eight      9      9\n",
            "5    six seven eight nine             0\n",
            "6    seven eight nine ten              \n",
            "7   eight nine ten eleven              \n",
            "8  nine ten eleven twelve              \n",
            "\n",
            "\n"
          ]
        }
      ],
      "source": [
        "test_id = 0\n",
        "\n",
        "for i, df in enumerate(tables[test_id]):\n",
        "    print(\"MULTIPLIER: \", multp_list[i])\n",
        "    print(\"Acc Score: \", scores[test_id][i])\n",
        "    print(df) # display(df) ## display is too bulky\n",
        "    print('\\n')"
      ]
    },
    {
      "cell_type": "code",
      "execution_count": null,
      "metadata": {
        "colab": {
          "base_uri": "https://localhost:8080/"
        },
        "id": "kz5sNRVjDFni",
        "outputId": "d4f6967a-0fd7-471a-bdda-f4816cd21382"
      },
      "outputs": [
        {
          "output_type": "stream",
          "name": "stdout",
          "text": [
            "MULTIPLIER:  1\n",
            "Acc Score:  0.0\n",
            "                         Prompt Answer      Output\n",
            "0  January February March April      5         May\n",
            "1      February March April May      6        June\n",
            "2          March April May June      7        July\n",
            "3           April May June July      8      August\n",
            "4          May June July August      9   September\n",
            "\n",
            "\n",
            "MULTIPLIER:  3\n",
            "Acc Score:  0.2\n",
            "                         Prompt Answer Output\n",
            "0  January February March April      5      5\n",
            "1      February March April May      6       \n",
            "2          March April May June      7       \n",
            "3           April May June July      8       \n",
            "4          May June July August      9       \n",
            "\n",
            "\n"
          ]
        }
      ],
      "source": [
        "test_id = 1\n",
        "\n",
        "for i, df in enumerate(tables[test_id]):\n",
        "    print(\"MULTIPLIER: \", multp_list[i])\n",
        "    print(\"Acc Score: \", scores[test_id][i])\n",
        "    print(df) # display(df) ## display is too bulky\n",
        "    print('\\n')"
      ]
    },
    {
      "cell_type": "code",
      "execution_count": null,
      "metadata": {
        "colab": {
          "base_uri": "https://localhost:8080/"
        },
        "id": "qeNtjEG3DFni",
        "outputId": "694e6d85-b7fc-4102-afe1-b0b57c6cf23a"
      },
      "outputs": [
        {
          "output_type": "stream",
          "name": "stdout",
          "text": [
            "MULTIPLIER:  1\n",
            "Acc Score:  0.0\n",
            "                       Prompt Answer     Output\n",
            "0    Monday Tuesday Wednesday      4   Thursday\n",
            "1  Tuesday Wednesday Thursday      5     Friday\n",
            "2   Wednesday Thursday Friday      6           \n",
            "3    Thursday Friday Saturday                  \n",
            "4      Friday Saturday Sunday                 .\n",
            "\n",
            "\n",
            "MULTIPLIER:  3\n",
            "Acc Score:  0.3333333333333333\n",
            "                       Prompt Answer Output\n",
            "0    Monday Tuesday Wednesday      4      4\n",
            "1  Tuesday Wednesday Thursday      5       \n",
            "2   Wednesday Thursday Friday      6       \n",
            "3    Thursday Friday Saturday              \n",
            "4      Friday Saturday Sunday              \n",
            "\n",
            "\n"
          ]
        }
      ],
      "source": [
        "test_id = 2\n",
        "\n",
        "for i, df in enumerate(tables[test_id]):\n",
        "    print(\"MULTIPLIER: \", multp_list[i])\n",
        "    print(\"Acc Score: \", scores[test_id][i])\n",
        "    print(df) # display(df) ## display is too bulky\n",
        "    print('\\n')"
      ]
    },
    {
      "cell_type": "code",
      "execution_count": null,
      "metadata": {
        "colab": {
          "base_uri": "https://localhost:8080/"
        },
        "id": "pEpGMcBiDFni",
        "outputId": "22319d35-aa75-4b62-b93f-a1e775699e9b"
      },
      "outputs": [
        {
          "output_type": "stream",
          "name": "stdout",
          "text": [
            "MULTIPLIER:  1\n",
            "Acc Score:  0.0\n",
            "                            Prompt Answer      Output\n",
            "0     Today is Monday, tomorrow is      2     Tuesday\n",
            "1    Today is Tuesday, tomorrow is      3   Wednesday\n",
            "2  Today is Wednesday, tomorrow is      4    Thursday\n",
            "3   Today is Thursday, tomorrow is      5      Friday\n",
            "4     Today is Friday, tomorrow is      6    Saturday\n",
            "5   Today is Saturday, tomorrow is             Sunday\n",
            "\n",
            "\n",
            "MULTIPLIER:  3\n",
            "Acc Score:  0.4\n",
            "                            Prompt Answer Output\n",
            "0     Today is Monday, tomorrow is      2       \n",
            "1    Today is Tuesday, tomorrow is      3       \n",
            "2  Today is Wednesday, tomorrow is      4      4\n",
            "3   Today is Thursday, tomorrow is      5      5\n",
            "4     Today is Friday, tomorrow is      6       \n",
            "5   Today is Saturday, tomorrow is              \n",
            "\n",
            "\n"
          ]
        }
      ],
      "source": [
        "test_id = 3\n",
        "\n",
        "for i, df in enumerate(tables[test_id]):\n",
        "    print(\"MULTIPLIER: \", multp_list[i])\n",
        "    print(\"Acc Score: \", scores[test_id][i])\n",
        "    print(df) # display(df) ## display is too bulky\n",
        "    print('\\n')"
      ]
    },
    {
      "cell_type": "code",
      "execution_count": null,
      "metadata": {
        "colab": {
          "base_uri": "https://localhost:8080/"
        },
        "id": "SRdZDSyiDFni",
        "outputId": "9bd5bfd3-3559-40d1-939e-7a958387615a"
      },
      "outputs": [
        {
          "output_type": "stream",
          "name": "stdout",
          "text": [
            "MULTIPLIER:  1\n",
            "Acc Score:  0.0\n",
            "                                  Prompt Answer      Output\n",
            "0   This month is January, next month is      2    February\n",
            "1  This month is February, next month is      3       March\n",
            "2     This month is March, next month is      4       April\n",
            "3     This month is April, next month is      5         May\n",
            "4       This month is May, next month is      6        June\n",
            "5      This month is June, next month is      7        July\n",
            "6      This month is July, next month is      8      August\n",
            "7    This month is August, next month is      9   September\n",
            "\n",
            "\n",
            "MULTIPLIER:  3\n",
            "Acc Score:  1.0\n",
            "                                  Prompt Answer Output\n",
            "0   This month is January, next month is      2      2\n",
            "1  This month is February, next month is      3      3\n",
            "2     This month is March, next month is      4      4\n",
            "3     This month is April, next month is      5      5\n",
            "4       This month is May, next month is      6      6\n",
            "5      This month is June, next month is      7      7\n",
            "6      This month is July, next month is      8      8\n",
            "7    This month is August, next month is      9      9\n",
            "\n",
            "\n"
          ]
        }
      ],
      "source": [
        "test_id = 4\n",
        "\n",
        "for i, df in enumerate(tables[test_id]):\n",
        "    print(\"MULTIPLIER: \", multp_list[i])\n",
        "    print(\"Acc Score: \", scores[test_id][i])\n",
        "    print(df) # display(df) ## display is too bulky\n",
        "    print('\\n')"
      ]
    },
    {
      "cell_type": "code",
      "execution_count": null,
      "metadata": {
        "colab": {
          "base_uri": "https://localhost:8080/"
        },
        "id": "_ItGP2n5DFnj",
        "outputId": "10e6edee-82bf-4796-cb5b-1ec491571609"
      },
      "outputs": [
        {
          "output_type": "stream",
          "name": "stdout",
          "text": [
            "MULTIPLIER:  1\n",
            "Acc Score:  0.75\n",
            "                   Prompt Answer Output\n",
            "0  twelve eleven ten nine      8      8\n",
            "1   eleven ten nine eight      7      7\n",
            "2    ten nine eight seven      6      6\n",
            "3    nine eight seven six      5       \n",
            "4    eight seven six five      4       \n",
            "5     seven six five four      3      3\n",
            "6     six five four three      2      2\n",
            "7     five four three two      1      1\n",
            "\n",
            "\n",
            "MULTIPLIER:  3\n",
            "Acc Score:  0.5\n",
            "                   Prompt Answer Output\n",
            "0  twelve eleven ten nine      8      8\n",
            "1   eleven ten nine eight      7       \n",
            "2    ten nine eight seven      6       \n",
            "3    nine eight seven six      5      0\n",
            "4    eight seven six five      4       \n",
            "5     seven six five four      3      3\n",
            "6     six five four three      2      2\n",
            "7     five four three two      1      1\n",
            "\n",
            "\n"
          ]
        }
      ],
      "source": [
        "test_id = 5\n",
        "\n",
        "for i, df in enumerate(tables[test_id]):\n",
        "    print(\"MULTIPLIER: \", multp_list[i])\n",
        "    print(\"Acc Score: \", scores[test_id][i])\n",
        "    print(df) # display(df) ## display is too bulky\n",
        "    print('\\n')"
      ]
    },
    {
      "cell_type": "code",
      "execution_count": null,
      "metadata": {
        "colab": {
          "base_uri": "https://localhost:8080/"
        },
        "id": "dCZDWHQADFnj",
        "outputId": "45d093b8-9411-456a-d17c-cf557904ef4c"
      },
      "outputs": [
        {
          "output_type": "stream",
          "name": "stdout",
          "text": [
            "MULTIPLIER:  1\n",
            "Acc Score:  0.8\n",
            "                    Prompt Answer Output\n",
            "0      uno dos tres cuatro      5      5\n",
            "1    dos tres cuatro cinco      6      .\n",
            "2   tres cuatro cinco seis      7      7\n",
            "3  cuatro cinco seis siete      8      8\n",
            "4    cinco seis siete ocho      9      9\n",
            "5    seis siete ocho nueve             0\n",
            "\n",
            "\n",
            "MULTIPLIER:  3\n",
            "Acc Score:  0.8\n",
            "                    Prompt Answer Output\n",
            "0      uno dos tres cuatro      5      5\n",
            "1    dos tres cuatro cinco      6       \n",
            "2   tres cuatro cinco seis      7      7\n",
            "3  cuatro cinco seis siete      8      8\n",
            "4    cinco seis siete ocho      9      9\n",
            "5    seis siete ocho nueve             0\n",
            "\n",
            "\n"
          ]
        }
      ],
      "source": [
        "test_id = 6\n",
        "\n",
        "for i, df in enumerate(tables[test_id]):\n",
        "    print(\"MULTIPLIER: \", multp_list[i])\n",
        "    print(\"Acc Score: \", scores[test_id][i])\n",
        "    print(df) # display(df) ## display is too bulky\n",
        "    print('\\n')"
      ]
    },
    {
      "cell_type": "markdown",
      "metadata": {
        "id": "olrffCNTDFnj"
      },
      "source": [
        "## nonseq prompts"
      ]
    },
    {
      "cell_type": "code",
      "execution_count": null,
      "metadata": {
        "colab": {
          "base_uri": "https://localhost:8080/"
        },
        "id": "U63BrUIYDFnj",
        "outputId": "5cc5149d-3d7b-4262-e46b-8e3939070064"
      },
      "outputs": [
        {
          "name": "stdout",
          "output_type": "stream",
          "text": [
            "aa a a\n",
            "0\n",
            "I AM A CAT\n",
            "0\n",
            "Bob and Mary went to store\n",
            "0\n",
            "my favorite colour is\n",
            "0\n"
          ]
        }
      ],
      "source": [
        "nonseq_prompts = [ \"aa a a\", \"I AM A CAT\", \"Bob and Mary went to store\", \"my favorite colour is\"]\n",
        "steer_vec = LLM_mean_num_sv\n",
        "multp = 3\n",
        "\n",
        "for prompt in nonseq_prompts:\n",
        "    print(prompt)\n",
        "    steer_by_LLM_lastTok(prompt, steer_vec, multp)"
      ]
    },
    {
      "cell_type": "code",
      "execution_count": null,
      "metadata": {
        "colab": {
          "base_uri": "https://localhost:8080/"
        },
        "id": "A5jKOB_jDFnj",
        "outputId": "5bf1005a-893b-4db6-ec75-644a4f3a8a5b"
      },
      "outputs": [
        {
          "name": "stdout",
          "output_type": "stream",
          "text": [
            "aa a a\n",
            "0\n",
            "I AM A CAT\n",
            "0\n",
            "Bob and Mary went to store\n",
            "0\n",
            "my favorite colour is\n",
            "0\n"
          ]
        }
      ],
      "source": [
        "nonseq_prompts = [ \"aa a a\", \"I AM A CAT\", \"Bob and Mary went to store\", \"my favorite colour is\"]\n",
        "steer_vec = LLM_mean_num_sv\n",
        "multp = 10\n",
        "\n",
        "for prompt in nonseq_prompts:\n",
        "    print(prompt)\n",
        "    steer_by_LLM_lastTok(prompt, steer_vec, multp)"
      ]
    },
    {
      "cell_type": "markdown",
      "metadata": {
        "id": "sTflU6OQGGGB"
      },
      "source": [
        "# steer by ablated recon SV"
      ]
    },
    {
      "cell_type": "markdown",
      "metadata": {
        "id": "Gy1lvKce8DDt"
      },
      "source": [
        "decompose the LLM steering vec"
      ]
    },
    {
      "cell_type": "markdown",
      "source": [
        "## choose which features to ablate"
      ],
      "metadata": {
        "id": "fvLKNmlqN49g"
      }
    },
    {
      "cell_type": "code",
      "execution_count": null,
      "metadata": {
        "colab": {
          "background_save": true
        },
        "id": "uBkRamsQ-HgN",
        "outputId": "9e8dd69c-fa6f-4034-a5c2-6ce5cab9a97c"
      },
      "outputs": [
        {
          "data": {
            "text/plain": [
              "torch.Size([1, 2, 2304])"
            ]
          },
          "execution_count": 225,
          "metadata": {},
          "output_type": "execute_result"
        }
      ],
      "source": [
        "words = ['1', '2', '3', '4', '5', '6', '7', '8', '9']\n",
        "numword_samps = []\n",
        "for i in range(0, 9):\n",
        "    samp = f\"{words[i]}\"\n",
        "    numword_samps.append(samp)\n",
        "inputs = tokenizer(numword_samps, return_tensors=\"pt\", padding=True, truncation=True, max_length=300)['input_ids'].to(\"cuda\")\n",
        "target_act = gather_residual_activations(model, 20, inputs)\n",
        "\n",
        "LLM_mean_num_sv = target_act.mean(dim=0)\n",
        "LLM_mean_num_sv = LLM_mean_num_sv.unsqueeze(0)\n",
        "LLM_mean_num_sv.shape"
      ]
    },
    {
      "cell_type": "code",
      "execution_count": null,
      "metadata": {
        "colab": {
          "background_save": true
        },
        "id": "t6piaCl9-1cX"
      },
      "outputs": [],
      "source": [
        "# decompose LLM steering vec\n",
        "sae_LLM_mean_num_sv = sae.encode(LLM_mean_num_sv.to(torch.float32))"
      ]
    },
    {
      "cell_type": "code",
      "execution_count": null,
      "metadata": {
        "colab": {
          "background_save": true
        },
        "id": "tSXAEOeI-FDN"
      },
      "outputs": [],
      "source": [
        "feat_k = 100\n",
        "one_top_acts_values, one_top_acts_indices = sae_LLM_mean_num_sv[0, -1, :].topk(feat_k, dim=-1)"
      ]
    },
    {
      "cell_type": "code",
      "execution_count": null,
      "metadata": {
        "colab": {
          "background_save": true
        },
        "id": "rH7JGcYv-FDN",
        "outputId": "472d6e5b-1f97-4fd2-8b6f-79feb35f64e6"
      },
      "outputs": [
        {
          "name": "stdout",
          "output_type": "stream",
          "text": [
            "Rank 1 150.1 13528 numeric values indicating measurements or quantities\n",
            "Rank 2 85.52 11527 the start of a document\n",
            "Rank 3 34.94 9768 terms related to control and authority, particularly in political or systemic contexts\n",
            "Rank 4 34.91 8684  technical jargon and programming-related terms\n",
            "Rank 5 33.51 140  instances of the word \"in\"\n",
            "Rank 6 30.87 833 the numerical values indicating measurements or assessments\n",
            "Rank 7 29.39 11174  numeric identifiers or values in a structured format\n",
            "Rank 8 21.74 2437  patterns related to numerical information, particularly involving the number four\n",
            "Rank 9 21.66 6305 mathematical expressions and notations used in equations and proofs\n",
            "Rank 10 15.28 3019  elements related to operational or procedural contexts in a structured format\n",
            "Rank 11 10.27 11795 the phrase \"The\" at the start of sentences\n",
            "Rank 12 9.79 745  sequences of numerical values\n",
            "Rank 13 9.0 3435  numeric values, particularly related to technology specifications or measurements\n",
            "Rank 14 8.34 1344 lists and resources for educational purposes\n",
            "Rank 15 7.86 16175 numeric identifiers or codes, particularly in a structured format or specification\n",
            "Rank 16 0.0 0 mentions of the letter 'Z' and variations of 'Z' in different contexts\n",
            "Rank 17 0.0 1 phrases emphasizing continuity or progression in narratives\n",
            "Rank 18 0.0 2 elements related to interviews and interrogation processes\n",
            "Rank 19 0.0 3 instances of the verb \"to be\" in various forms\n",
            "Rank 20 0.0 4  temporal references such as days, weeks, months, or years\n",
            "Rank 21 0.0 5 words related to trends and patterns in various contexts\n",
            "Rank 22 0.0 6 references to television talent shows and their judges\n",
            "Rank 23 0.0 7 conjunctions and transitional phrases that signify contrast or condition\n",
            "Rank 24 0.0 8  programming-related constructs and structures\n",
            "Rank 25 0.0 9 words and phrases associated with conflict and physical confrontations\n",
            "Rank 26 0.0 10 terms related to confirmation and verification processes\n",
            "Rank 27 0.0 11 terms related to applications and industries, especially in the context of materials and products\n",
            "Rank 28 0.0 12  import statements in programming code\n",
            "Rank 29 0.0 13  phrases related to missed opportunities or regrets\n",
            "Rank 30 0.0 14  mentions of logarithmic or related mathematical concepts\n",
            "Rank 31 0.0 15  mathematical expressions and operations\n",
            "Rank 32 0.0 16 dates and times related to a specific event.\n",
            "Rank 33 0.0 17  structured data or programming code elements\n",
            "Rank 34 0.0 18  numerical data and associated values\n",
            "Rank 35 0.0 19  terminology related to academic research and analysis methods\n",
            "Rank 36 0.0 20  instances of possessive pronouns or possessive constructions\n",
            "Rank 37 0.0 21 terms related to agricultural practices and research\n",
            "Rank 38 0.0 22  references to the React library and its components\n",
            "Rank 39 0.0 23 references to the name \"Jonathan\" and variations of \"Jon.\"\n",
            "Rank 40 0.0 24  terms related to \"coroner\" and associated medical investigations\n",
            "Rank 41 0.0 25 references to issued equipment or supplies\n",
            "Rank 42 0.0 26  terms related to leadership styles and their effects on workplace dynamics\n",
            "Rank 43 0.0 27 mathematical symbols and constructs\n",
            "Rank 44 0.0 28 location and administrative division references\n",
            "Rank 45 0.0 29  phrases indicating various purposes and uses of information or actions\n",
            "Rank 46 0.0 30 terms and references associated with political and social organizations\n",
            "Rank 47 0.0 31 punctuation marks and special symbols often found in written texts\n",
            "Rank 48 0.0 32  mathematical symbols and notation typically used in equations or algorithms\n",
            "Rank 49 0.0 33 terms related to research methodologies and data analysis in scientific studies\n",
            "Rank 50 0.0 34 words and phrases associated with conjunctions and connections between ideas\n",
            "Rank 51 0.0 35 references to the verb \"be\" in various contexts\n",
            "Rank 52 0.0 36 words or roots related to specific dependencies or components in a software or programming context\n",
            "Rank 53 0.0 37  punctuated phrases and statements\n",
            "Rank 54 0.0 38 modal verbs and their usage in sentences\n",
            "Rank 55 0.0 39 details about product features and specifications\n",
            "Rank 56 0.0 40 phrases related to hybrid combinations of concepts or elements in various contexts\n",
            "Rank 57 0.0 41 phrases related to family relationships and marital status\n",
            "Rank 58 0.0 42 terms related to medical treatment options and their effectiveness\n",
            "Rank 59 0.0 43  references to the number and types of bedrooms in housing descriptions\n",
            "Rank 60 0.0 44  information about public events and their details\n",
            "Rank 61 0.0 45  indicators of medical conditions and pregnancy-related terms\n",
            "Rank 62 0.0 46 technical terms related to electrical engineering, specifically voltages and their applications\n",
            "Rank 63 0.0 47 elements related to personalization and creative expression in writing\n",
            "Rank 64 0.0 48 references to being \"behind\" something, particularly in contexts implying secrecy or concealment\n",
            "Rank 65 0.0 49 terms related to health assessments and healthcare recommendations\n",
            "Rank 66 0.0 50 affirmative statements or expressions of belief in various contexts\n",
            "Rank 67 0.0 51 technical terms and references related to software, particularly those involving commands and configurations\n",
            "Rank 68 0.0 52  concepts related to problem-solving and improvement in various contexts\n",
            "Rank 69 0.0 53 expressions or phrases related to responses and feedback in communication contexts\n",
            "Rank 70 0.0 54 references to firms and films\n",
            "Rank 71 0.0 55  terms related to literature and literary works\n",
            "Rank 72 0.0 56 phrases related to beliefs and religion\n",
            "Rank 73 0.0 57 terms related to principal component analysis (PCA) and data analysis in biological contexts\n",
            "Rank 74 0.0 58  punctuation and formatting markers in the text\n",
            "Rank 75 0.0 59  references to programming and code-related operations or functions\n",
            "Rank 76 0.0 60 elements related to color and finish in product descriptions\n",
            "Rank 77 0.0 61 technical specifications or detailed measurements\n",
            "Rank 78 0.0 62 terms related to academic or scholarly context\n",
            "Rank 79 0.0 63 terms related to the lifespan and durability of products\n",
            "Rank 80 0.0 64 blocks of whitespace or specific formatting characters\n",
            "Rank 81 0.0 65  keywords related to access modifiers in programming\n",
            "Rank 82 0.0 66  keywords and structural elements related to Python modules and functions\n",
            "Rank 83 0.0 67 references to levels of difficulty in games, learning environments, or challenges\n",
            "Rank 84 0.0 68 expressions related to enjoyment and fun\n",
            "Rank 85 0.0 69  expressions of inability or negation\n",
            "Rank 86 0.0 70 situations involving blame and accountability\n",
            "Rank 87 0.0 71 specific programming or technical terms associated with network protocols and programming languages\n",
            "Rank 88 0.0 72 mathematical symbols and notations related to matrices and linear algebra\n",
            "Rank 89 0.0 73 references to healthcare services and clients in need of assistance\n",
            "Rank 90 0.0 74 terms related to biological research and animal studies\n",
            "Rank 91 0.0 75 narrative elements related to sequence or order, such as first, second, third, and their context in various contents\n",
            "Rank 92 0.0 76 terms related to distribution and its variations\n",
            "Rank 93 0.0 77 code structures and functions related to email protocols and authentication\n",
            "Rank 94 0.0 78 elements related to HTML structure and navigation components\n",
            "Rank 95 0.0 79 technical terms and code-related keywords\n",
            "Rank 96 0.0 80 terms related to exceptions and error handling in programming\n",
            "Rank 97 0.0 81 terms related to extensions and their variations in context\n",
            "Rank 98 0.0 82  code constructs related to counting and index manipulation\n",
            "Rank 99 0.0 83 terms related to linear functions and their properties\n",
            "Rank 100 0.0 84  specific numeric or structural data points in a technical context\n"
          ]
        }
      ],
      "source": [
        "rank = 1\n",
        "for val, ind in zip(one_top_acts_values, one_top_acts_indices):\n",
        "    print(f\"Rank {rank}\", round(val.item(), 2), ind.item(), feat_labels_lst[ind])\n",
        "    rank += 1"
      ]
    },
    {
      "cell_type": "markdown",
      "metadata": {
        "id": "bOL8GZLs_Mg7"
      },
      "source": [
        "These are nonzero:\n",
        "- Rank 1 150.1 13528 numeric values indicating measurements or quantities\n",
        "- Rank 2 85.52 11527 the start of a document\n",
        "- Rank 3 34.94 9768 terms related to control and authority, particularly in political or systemic contexts\n",
        "- Rank 4 34.91 8684  technical jargon and programming-related terms\n",
        "- Rank 5 33.51 140  instances of the word \"in\"\n",
        "- Rank 6 30.87 833 the numerical values indicating measurements or assessments\n",
        "- Rank 7 29.39 11174  numeric identifiers or values in a structured format\n",
        "- Rank 8 21.74 2437  patterns related to numerical information, particularly involving the number four\n",
        "- Rank 9 21.66 6305 mathematical expressions and notations used in equations and proofs\n",
        "- Rank 10 15.28 3019  elements related to operational or procedural contexts in a structured format\n",
        "- Rank 11 10.27 11795 the phrase \"The\" at the start of sentences\n",
        "- Rank 12 9.79 745  sequences of numerical values\n",
        "- Rank 13 9.0 3435  numeric values, particularly related to technology specifications or measurements\n",
        "- Rank 14 8.34 1344 lists and resources for educational purposes\n",
        "- Rank 15 7.86 16175 numeric identifiers or codes, particularly in a structured format or specification\n",
        "\n",
        "Try ablating the following:\n",
        "- Rank 2 85.52 11527 the start of a document\n",
        "- Rank 3 34.94 9768 terms related to control and authority, particularly in political or systemic contexts\n",
        "- Rank 4 34.91 8684  technical jargon and programming-related terms\n",
        "- Rank 5 33.51 140  instances of the word \"in\"\n",
        "- Rank 10 15.28 3019  elements related to operational or procedural contexts in a structured format\n",
        "- Rank 11 10.27 11795 the phrase \"The\" at the start of sentences\n",
        "\n"
      ]
    },
    {
      "cell_type": "markdown",
      "metadata": {
        "id": "nzdi5GFIA0iM"
      },
      "source": [
        "## ablate then recon to steer"
      ]
    },
    {
      "cell_type": "code",
      "execution_count": null,
      "metadata": {
        "colab": {
          "background_save": true
        },
        "id": "uujRBf95Bz7J"
      },
      "outputs": [],
      "source": [
        "abl_sae_LLM_mean_num_sv = torch.clone(sae_LLM_mean_num_sv)\n",
        "\n",
        "feats_to_ablate = [11527, 9768, 8684, 140, 3019, 11795]\n",
        "\n",
        "for fInd in feats_to_ablate:\n",
        "    abl_sae_LLM_mean_num_sv[:, -1, fInd] = 0"
      ]
    },
    {
      "cell_type": "code",
      "execution_count": null,
      "metadata": {
        "colab": {
          "background_save": true
        },
        "id": "n3bJR_O4CLVl",
        "outputId": "83bafb46-1647-4ad7-b62e-7a6ddc42777e"
      },
      "outputs": [
        {
          "data": {
            "text/plain": [
              "torch.Size([1, 2, 2304])"
            ]
          },
          "execution_count": 231,
          "metadata": {},
          "output_type": "execute_result"
        }
      ],
      "source": [
        "recon_abl_sae_LLM_mean_num_sv = sae.decode(abl_sae_LLM_mean_num_sv)\n",
        "recon_abl_sae_LLM_mean_num_sv.shape"
      ]
    },
    {
      "cell_type": "markdown",
      "metadata": {
        "id": "wuXfy_TtGaey"
      },
      "source": [
        "## steer ablated recon in LLM space"
      ]
    },
    {
      "cell_type": "code",
      "execution_count": null,
      "metadata": {
        "id": "cgbRoZICGae4"
      },
      "outputs": [],
      "source": [
        "%%capture\n",
        "multp_list = [1, 3]\n",
        "LLMsp_abl_LLM_tables, LLMsp_abl_LLM_scores = run_tests_steer_actvs(recon_abl_sae_LLM_mean_num_sv, multp_list, 'LLM')"
      ]
    },
    {
      "cell_type": "code",
      "execution_count": null,
      "metadata": {
        "id": "mf_WBIg7Gae5"
      },
      "outputs": [],
      "source": [
        "tables = LLMsp_abl_LLM_tables\n",
        "scores = LLMsp_abl_LLM_scores"
      ]
    },
    {
      "cell_type": "code",
      "execution_count": null,
      "metadata": {
        "colab": {
          "base_uri": "https://localhost:8080/"
        },
        "outputId": "fde23179-c243-4572-ef64-6f93be1c2c60",
        "id": "ZAmunrRCGae5"
      },
      "outputs": [
        {
          "output_type": "stream",
          "name": "stdout",
          "text": [
            "MULTIPLIER:  1\n",
            "Acc Score:  0.0\n",
            "                   Prompt Answer  Output\n",
            "0      one two three four      5        \n",
            "1     two three four five      6        \n",
            "2     three four five six      7        \n",
            "3     four five six seven      8   eight\n",
            "4    five six seven eight      9    nine\n",
            "5    six seven eight nine               \n",
            "6    seven eight nine ten               \n",
            "7   eight nine ten eleven               \n",
            "8  nine ten eleven twelve               \n",
            "\n",
            "\n",
            "MULTIPLIER:  3\n",
            "Acc Score:  0.0\n",
            "                   Prompt Answer Output\n",
            "0      one two three four      5       \n",
            "1     two three four five      6       \n",
            "2     three four five six      7       \n",
            "3     four five six seven      8       \n",
            "4    five six seven eight      9       \n",
            "5    six seven eight nine              \n",
            "6    seven eight nine ten              \n",
            "7   eight nine ten eleven              \n",
            "8  nine ten eleven twelve              \n",
            "\n",
            "\n"
          ]
        }
      ],
      "source": [
        "test_id = 0\n",
        "\n",
        "for i, df in enumerate(tables[test_id]):\n",
        "    print(\"MULTIPLIER: \", multp_list[i])\n",
        "    print(\"Acc Score: \", scores[test_id][i])\n",
        "    print(df) # display(df) ## display is too bulky\n",
        "    print('\\n')"
      ]
    },
    {
      "cell_type": "code",
      "execution_count": null,
      "metadata": {
        "colab": {
          "base_uri": "https://localhost:8080/"
        },
        "outputId": "d039c707-9e82-4945-8618-26f0c14a9d39",
        "id": "AWu3wKqiGae5"
      },
      "outputs": [
        {
          "output_type": "stream",
          "name": "stdout",
          "text": [
            "MULTIPLIER:  1\n",
            "Acc Score:  0.0\n",
            "                         Prompt Answer   Output\n",
            "0  January February March April      5      May\n",
            "1      February March April May      6     June\n",
            "2          March April May June      7         \n",
            "3           April May June July      8   August\n",
            "4          May June July August      9         \n",
            "\n",
            "\n",
            "MULTIPLIER:  3\n",
            "Acc Score:  0.0\n",
            "                         Prompt Answer Output\n",
            "0  January February March April      5       \n",
            "1      February March April May      6       \n",
            "2          March April May June      7       \n",
            "3           April May June July      8       \n",
            "4          May June July August      9       \n",
            "\n",
            "\n"
          ]
        }
      ],
      "source": [
        "test_id = 1\n",
        "\n",
        "for i, df in enumerate(tables[test_id]):\n",
        "    print(\"MULTIPLIER: \", multp_list[i])\n",
        "    print(\"Acc Score: \", scores[test_id][i])\n",
        "    print(df) # display(df) ## display is too bulky\n",
        "    print('\\n')"
      ]
    },
    {
      "cell_type": "code",
      "execution_count": null,
      "metadata": {
        "colab": {
          "base_uri": "https://localhost:8080/"
        },
        "outputId": "fb4d8981-6104-4d42-8857-5f33dd60bf12",
        "id": "FmEGeYpTGae5"
      },
      "outputs": [
        {
          "output_type": "stream",
          "name": "stdout",
          "text": [
            "MULTIPLIER:  1\n",
            "Acc Score:  0.0\n",
            "                       Prompt Answer     Output\n",
            "0    Monday Tuesday Wednesday      4   Thursday\n",
            "1  Tuesday Wednesday Thursday      5     Friday\n",
            "2   Wednesday Thursday Friday      6           \n",
            "3    Thursday Friday Saturday                  \n",
            "4      Friday Saturday Sunday                  \n",
            "\n",
            "\n",
            "MULTIPLIER:  3\n",
            "Acc Score:  0.0\n",
            "                       Prompt Answer Output\n",
            "0    Monday Tuesday Wednesday      4       \n",
            "1  Tuesday Wednesday Thursday      5       \n",
            "2   Wednesday Thursday Friday      6       \n",
            "3    Thursday Friday Saturday              \n",
            "4      Friday Saturday Sunday              \n",
            "\n",
            "\n"
          ]
        }
      ],
      "source": [
        "test_id = 2\n",
        "\n",
        "for i, df in enumerate(tables[test_id]):\n",
        "    print(\"MULTIPLIER: \", multp_list[i])\n",
        "    print(\"Acc Score: \", scores[test_id][i])\n",
        "    print(df) # display(df) ## display is too bulky\n",
        "    print('\\n')"
      ]
    },
    {
      "cell_type": "code",
      "execution_count": null,
      "metadata": {
        "colab": {
          "base_uri": "https://localhost:8080/"
        },
        "outputId": "b3dcfe93-7d74-466e-f0cb-423a4769e6d7",
        "id": "dH5mJxvFGae5"
      },
      "outputs": [
        {
          "output_type": "stream",
          "name": "stdout",
          "text": [
            "MULTIPLIER:  1\n",
            "Acc Score:  0.0\n",
            "                            Prompt Answer      Output\n",
            "0     Today is Monday, tomorrow is      2     Tuesday\n",
            "1    Today is Tuesday, tomorrow is      3   Wednesday\n",
            "2  Today is Wednesday, tomorrow is      4    Thursday\n",
            "3   Today is Thursday, tomorrow is      5      Friday\n",
            "4     Today is Friday, tomorrow is      6    Saturday\n",
            "5   Today is Saturday, tomorrow is             Sunday\n",
            "\n",
            "\n",
            "MULTIPLIER:  3\n",
            "Acc Score:  0.0\n",
            "                            Prompt Answer Output\n",
            "0     Today is Monday, tomorrow is      2       \n",
            "1    Today is Tuesday, tomorrow is      3       \n",
            "2  Today is Wednesday, tomorrow is      4       \n",
            "3   Today is Thursday, tomorrow is      5       \n",
            "4     Today is Friday, tomorrow is      6       \n",
            "5   Today is Saturday, tomorrow is              \n",
            "\n",
            "\n"
          ]
        }
      ],
      "source": [
        "test_id = 3\n",
        "\n",
        "for i, df in enumerate(tables[test_id]):\n",
        "    print(\"MULTIPLIER: \", multp_list[i])\n",
        "    print(\"Acc Score: \", scores[test_id][i])\n",
        "    print(df) # display(df) ## display is too bulky\n",
        "    print('\\n')"
      ]
    },
    {
      "cell_type": "code",
      "execution_count": null,
      "metadata": {
        "colab": {
          "base_uri": "https://localhost:8080/"
        },
        "outputId": "8078b1a1-69e7-4ec4-aaab-e83d2ac0a1ad",
        "id": "Joe4JMmXGae6"
      },
      "outputs": [
        {
          "output_type": "stream",
          "name": "stdout",
          "text": [
            "MULTIPLIER:  1\n",
            "Acc Score:  0.0\n",
            "                                  Prompt Answer      Output\n",
            "0   This month is January, next month is      2    February\n",
            "1  This month is February, next month is      3       March\n",
            "2     This month is March, next month is      4       April\n",
            "3     This month is April, next month is      5         May\n",
            "4       This month is May, next month is      6        June\n",
            "5      This month is June, next month is      7        July\n",
            "6      This month is July, next month is      8      August\n",
            "7    This month is August, next month is      9   September\n",
            "\n",
            "\n",
            "MULTIPLIER:  3\n",
            "Acc Score:  0.0\n",
            "                                  Prompt Answer Output\n",
            "0   This month is January, next month is      2       \n",
            "1  This month is February, next month is      3       \n",
            "2     This month is March, next month is      4       \n",
            "3     This month is April, next month is      5       \n",
            "4       This month is May, next month is      6       \n",
            "5      This month is June, next month is      7       \n",
            "6      This month is July, next month is      8       \n",
            "7    This month is August, next month is      9       \n",
            "\n",
            "\n"
          ]
        }
      ],
      "source": [
        "test_id = 4\n",
        "\n",
        "for i, df in enumerate(tables[test_id]):\n",
        "    print(\"MULTIPLIER: \", multp_list[i])\n",
        "    print(\"Acc Score: \", scores[test_id][i])\n",
        "    print(df) # display(df) ## display is too bulky\n",
        "    print('\\n')"
      ]
    },
    {
      "cell_type": "code",
      "execution_count": null,
      "metadata": {
        "colab": {
          "base_uri": "https://localhost:8080/"
        },
        "outputId": "c0fd1903-8ee0-4484-ae8d-d907b167d831",
        "id": "VlTspl_0Gae6"
      },
      "outputs": [
        {
          "output_type": "stream",
          "name": "stdout",
          "text": [
            "MULTIPLIER:  1\n",
            "Acc Score:  0.0\n",
            "                   Prompt Answer  Output\n",
            "0  twelve eleven ten nine      8   eight\n",
            "1   eleven ten nine eight      7        \n",
            "2    ten nine eight seven      6        \n",
            "3    nine eight seven six      5        \n",
            "4    eight seven six five      4        \n",
            "5     seven six five four      3        \n",
            "6     six five four three      2     two\n",
            "7     five four three two      1     one\n",
            "\n",
            "\n",
            "MULTIPLIER:  3\n",
            "Acc Score:  0.125\n",
            "                   Prompt Answer Output\n",
            "0  twelve eleven ten nine      8       \n",
            "1   eleven ten nine eight      7       \n",
            "2    ten nine eight seven      6       \n",
            "3    nine eight seven six      5       \n",
            "4    eight seven six five      4       \n",
            "5     seven six five four      3       \n",
            "6     six five four three      2       \n",
            "7     five four three two      1      1\n",
            "\n",
            "\n"
          ]
        }
      ],
      "source": [
        "test_id = 5\n",
        "\n",
        "for i, df in enumerate(tables[test_id]):\n",
        "    print(\"MULTIPLIER: \", multp_list[i])\n",
        "    print(\"Acc Score: \", scores[test_id][i])\n",
        "    print(df) # display(df) ## display is too bulky\n",
        "    print('\\n')"
      ]
    },
    {
      "cell_type": "code",
      "execution_count": null,
      "metadata": {
        "colab": {
          "base_uri": "https://localhost:8080/"
        },
        "outputId": "e19dc255-3104-4d15-b65c-3bf8b3a31c98",
        "id": "sfKMj3ZUGae6"
      },
      "outputs": [
        {
          "output_type": "stream",
          "name": "stdout",
          "text": [
            "MULTIPLIER:  1\n",
            "Acc Score:  0.2\n",
            "                    Prompt Answer Output\n",
            "0      uno dos tres cuatro      5      5\n",
            "1    dos tres cuatro cinco      6       \n",
            "2   tres cuatro cinco seis      7      .\n",
            "3  cuatro cinco seis siete      8       \n",
            "4    cinco seis siete ocho      9       \n",
            "5    seis siete ocho nueve              \n",
            "\n",
            "\n",
            "MULTIPLIER:  3\n",
            "Acc Score:  0.0\n",
            "                    Prompt Answer Output\n",
            "0      uno dos tres cuatro      5       \n",
            "1    dos tres cuatro cinco      6       \n",
            "2   tres cuatro cinco seis      7       \n",
            "3  cuatro cinco seis siete      8       \n",
            "4    cinco seis siete ocho      9       \n",
            "5    seis siete ocho nueve              \n",
            "\n",
            "\n"
          ]
        }
      ],
      "source": [
        "test_id = 6\n",
        "\n",
        "for i, df in enumerate(tables[test_id]):\n",
        "    print(\"MULTIPLIER: \", multp_list[i])\n",
        "    print(\"Acc Score: \", scores[test_id][i])\n",
        "    print(df) # display(df) ## display is too bulky\n",
        "    print('\\n')"
      ]
    },
    {
      "cell_type": "markdown",
      "metadata": {
        "id": "ai8bKLzLG8Ti"
      },
      "source": [
        "## steer ablated recon in SAE space"
      ]
    },
    {
      "cell_type": "code",
      "execution_count": null,
      "metadata": {
        "id": "VbrC2Pz3G8Tz"
      },
      "outputs": [],
      "source": [
        "%%capture\n",
        "multp_list = [1, 3]\n",
        "SAEsp_abl_LLM_tables, SAEsp_abl_LLM_scores = run_tests_steer_actvs(abl_sae_LLM_mean_num_sv, multp_list, 'SAE')"
      ]
    },
    {
      "cell_type": "code",
      "execution_count": null,
      "metadata": {
        "id": "0UwL1RHzG8Tz"
      },
      "outputs": [],
      "source": [
        "tables = SAEsp_abl_LLM_tables\n",
        "scores = SAEsp_abl_LLM_scores"
      ]
    },
    {
      "cell_type": "code",
      "execution_count": null,
      "metadata": {
        "colab": {
          "base_uri": "https://localhost:8080/"
        },
        "outputId": "2d6b18d1-b33c-411f-ffba-ca2b99ade5d3",
        "id": "C0x29OJ0G8T0"
      },
      "outputs": [
        {
          "output_type": "stream",
          "name": "stdout",
          "text": [
            "MULTIPLIER:  1\n",
            "Acc Score:  1.0\n",
            "                   Prompt Answer Output\n",
            "0      one two three four      5      5\n",
            "1     two three four five      6      6\n",
            "2     three four five six      7      7\n",
            "3     four five six seven      8      8\n",
            "4    five six seven eight      9      9\n",
            "5    six seven eight nine            \\n\n",
            "6    seven eight nine ten            \\n\n",
            "7   eight nine ten eleven            \\n\n",
            "8  nine ten eleven twelve            \\n\n",
            "\n",
            "\n",
            "MULTIPLIER:  3\n",
            "Acc Score:  1.0\n",
            "                   Prompt Answer Output\n",
            "0      one two three four      5      5\n",
            "1     two three four five      6      6\n",
            "2     three four five six      7      7\n",
            "3     four five six seven      8      8\n",
            "4    five six seven eight      9      9\n",
            "5    six seven eight nine             0\n",
            "6    seven eight nine ten             1\n",
            "7   eight nine ten eleven             1\n",
            "8  nine ten eleven twelve             3\n",
            "\n",
            "\n"
          ]
        }
      ],
      "source": [
        "test_id = 0\n",
        "\n",
        "for i, df in enumerate(tables[test_id]):\n",
        "    print(\"MULTIPLIER: \", multp_list[i])\n",
        "    print(\"Acc Score: \", scores[test_id][i])\n",
        "    print(df) # display(df) ## display is too bulky\n",
        "    print('\\n')"
      ]
    },
    {
      "cell_type": "code",
      "execution_count": null,
      "metadata": {
        "colab": {
          "base_uri": "https://localhost:8080/"
        },
        "outputId": "08ced05b-1e15-43e9-ef1f-f407b5e08a97",
        "id": "LCSDNxNiG8T0"
      },
      "outputs": [
        {
          "output_type": "stream",
          "name": "stdout",
          "text": [
            "MULTIPLIER:  1\n",
            "Acc Score:  0.2\n",
            "                         Prompt Answer Output\n",
            "0  January February March April      5       \n",
            "1      February March April May      6       \n",
            "2          March April May June      7       \n",
            "3           April May June July      8      8\n",
            "4          May June July August      9       \n",
            "\n",
            "\n",
            "MULTIPLIER:  3\n",
            "Acc Score:  1.0\n",
            "                         Prompt Answer Output\n",
            "0  January February March April      5      5\n",
            "1      February March April May      6      6\n",
            "2          March April May June      7      7\n",
            "3           April May June July      8      8\n",
            "4          May June July August      9      9\n",
            "\n",
            "\n"
          ]
        }
      ],
      "source": [
        "test_id = 1\n",
        "\n",
        "for i, df in enumerate(tables[test_id]):\n",
        "    print(\"MULTIPLIER: \", multp_list[i])\n",
        "    print(\"Acc Score: \", scores[test_id][i])\n",
        "    print(df) # display(df) ## display is too bulky\n",
        "    print('\\n')"
      ]
    },
    {
      "cell_type": "code",
      "execution_count": null,
      "metadata": {
        "colab": {
          "base_uri": "https://localhost:8080/"
        },
        "outputId": "e81471f7-6f45-486c-fb0a-546ce0e59a82",
        "id": "UqezKCmgG8T0"
      },
      "outputs": [
        {
          "output_type": "stream",
          "name": "stdout",
          "text": [
            "MULTIPLIER:  1\n",
            "Acc Score:  0.0\n",
            "                       Prompt Answer Output\n",
            "0    Monday Tuesday Wednesday      4       \n",
            "1  Tuesday Wednesday Thursday      5       \n",
            "2   Wednesday Thursday Friday      6       \n",
            "3    Thursday Friday Saturday              \n",
            "4      Friday Saturday Sunday             ,\n",
            "\n",
            "\n",
            "MULTIPLIER:  3\n",
            "Acc Score:  0.6666666666666666\n",
            "                       Prompt Answer Output\n",
            "0    Monday Tuesday Wednesday      4      4\n",
            "1  Tuesday Wednesday Thursday      5      5\n",
            "2   Wednesday Thursday Friday      6      0\n",
            "3    Thursday Friday Saturday             0\n",
            "4      Friday Saturday Sunday             1\n",
            "\n",
            "\n"
          ]
        }
      ],
      "source": [
        "test_id = 2\n",
        "\n",
        "for i, df in enumerate(tables[test_id]):\n",
        "    print(\"MULTIPLIER: \", multp_list[i])\n",
        "    print(\"Acc Score: \", scores[test_id][i])\n",
        "    print(df) # display(df) ## display is too bulky\n",
        "    print('\\n')"
      ]
    },
    {
      "cell_type": "code",
      "execution_count": null,
      "metadata": {
        "colab": {
          "base_uri": "https://localhost:8080/"
        },
        "outputId": "11f3ed1b-75b8-498d-e35c-3fd2854484fd",
        "id": "tm9VNboIG8T0"
      },
      "outputs": [
        {
          "output_type": "stream",
          "name": "stdout",
          "text": [
            "MULTIPLIER:  1\n",
            "Acc Score:  0.0\n",
            "                            Prompt Answer      Output\n",
            "0     Today is Monday, tomorrow is      2     Tuesday\n",
            "1    Today is Tuesday, tomorrow is      3   Wednesday\n",
            "2  Today is Wednesday, tomorrow is      4    Thursday\n",
            "3   Today is Thursday, tomorrow is      5      Friday\n",
            "4     Today is Friday, tomorrow is      6    Saturday\n",
            "5   Today is Saturday, tomorrow is             Sunday\n",
            "\n",
            "\n",
            "MULTIPLIER:  3\n",
            "Acc Score:  0.4\n",
            "                            Prompt Answer Output\n",
            "0     Today is Monday, tomorrow is      2      0\n",
            "1    Today is Tuesday, tomorrow is      3      3\n",
            "2  Today is Wednesday, tomorrow is      4      4\n",
            "3   Today is Thursday, tomorrow is      5      0\n",
            "4     Today is Friday, tomorrow is      6      0\n",
            "5   Today is Saturday, tomorrow is             0\n",
            "\n",
            "\n"
          ]
        }
      ],
      "source": [
        "test_id = 3\n",
        "\n",
        "for i, df in enumerate(tables[test_id]):\n",
        "    print(\"MULTIPLIER: \", multp_list[i])\n",
        "    print(\"Acc Score: \", scores[test_id][i])\n",
        "    print(df) # display(df) ## display is too bulky\n",
        "    print('\\n')"
      ]
    },
    {
      "cell_type": "code",
      "execution_count": null,
      "metadata": {
        "colab": {
          "base_uri": "https://localhost:8080/"
        },
        "outputId": "09fc40f3-5464-415f-ccc6-7e4e0510972a",
        "id": "cCev_n0cG8T0"
      },
      "outputs": [
        {
          "output_type": "stream",
          "name": "stdout",
          "text": [
            "MULTIPLIER:  1\n",
            "Acc Score:  0.0\n",
            "                                  Prompt Answer      Output\n",
            "0   This month is January, next month is      2    February\n",
            "1  This month is February, next month is      3       March\n",
            "2     This month is March, next month is      4       April\n",
            "3     This month is April, next month is      5         May\n",
            "4       This month is May, next month is      6        June\n",
            "5      This month is June, next month is      7        July\n",
            "6      This month is July, next month is      8      August\n",
            "7    This month is August, next month is      9   September\n",
            "\n",
            "\n",
            "MULTIPLIER:  3\n",
            "Acc Score:  1.0\n",
            "                                  Prompt Answer Output\n",
            "0   This month is January, next month is      2      2\n",
            "1  This month is February, next month is      3      3\n",
            "2     This month is March, next month is      4      4\n",
            "3     This month is April, next month is      5      5\n",
            "4       This month is May, next month is      6      6\n",
            "5      This month is June, next month is      7      7\n",
            "6      This month is July, next month is      8      8\n",
            "7    This month is August, next month is      9      9\n",
            "\n",
            "\n"
          ]
        }
      ],
      "source": [
        "test_id = 4\n",
        "\n",
        "for i, df in enumerate(tables[test_id]):\n",
        "    print(\"MULTIPLIER: \", multp_list[i])\n",
        "    print(\"Acc Score: \", scores[test_id][i])\n",
        "    print(df) # display(df) ## display is too bulky\n",
        "    print('\\n')"
      ]
    },
    {
      "cell_type": "code",
      "execution_count": null,
      "metadata": {
        "colab": {
          "base_uri": "https://localhost:8080/"
        },
        "outputId": "1cc9d5f2-7725-4b93-a837-8379edaba6fa",
        "id": "CXHG7TE2G8T0"
      },
      "outputs": [
        {
          "output_type": "stream",
          "name": "stdout",
          "text": [
            "MULTIPLIER:  1\n",
            "Acc Score:  0.625\n",
            "                   Prompt Answer Output\n",
            "0  twelve eleven ten nine      8      8\n",
            "1   eleven ten nine eight      7       \n",
            "2    ten nine eight seven      6      6\n",
            "3    nine eight seven six      5       \n",
            "4    eight seven six five      4       \n",
            "5     seven six five four      3      3\n",
            "6     six five four three      2      2\n",
            "7     five four three two      1      1\n",
            "\n",
            "\n",
            "MULTIPLIER:  3\n",
            "Acc Score:  0.625\n",
            "                   Prompt Answer Output\n",
            "0  twelve eleven ten nine      8      8\n",
            "1   eleven ten nine eight      7      0\n",
            "2    ten nine eight seven      6      6\n",
            "3    nine eight seven six      5      0\n",
            "4    eight seven six five      4      0\n",
            "5     seven six five four      3      3\n",
            "6     six five four three      2      2\n",
            "7     five four three two      1      1\n",
            "\n",
            "\n"
          ]
        }
      ],
      "source": [
        "test_id = 5\n",
        "\n",
        "for i, df in enumerate(tables[test_id]):\n",
        "    print(\"MULTIPLIER: \", multp_list[i])\n",
        "    print(\"Acc Score: \", scores[test_id][i])\n",
        "    print(df) # display(df) ## display is too bulky\n",
        "    print('\\n')"
      ]
    },
    {
      "cell_type": "code",
      "execution_count": null,
      "metadata": {
        "colab": {
          "base_uri": "https://localhost:8080/"
        },
        "outputId": "ebc0e597-7dbf-4680-db4b-2c277e4e8a63",
        "id": "4tjvwKwOG8T0"
      },
      "outputs": [
        {
          "output_type": "stream",
          "name": "stdout",
          "text": [
            "MULTIPLIER:  1\n",
            "Acc Score:  0.6\n",
            "                    Prompt Answer Output\n",
            "0      uno dos tres cuatro      5      5\n",
            "1    dos tres cuatro cinco      6      6\n",
            "2   tres cuatro cinco seis      7       \n",
            "3  cuatro cinco seis siete      8      8\n",
            "4    cinco seis siete ocho      9     \\n\n",
            "5    seis siete ocho nueve            \\n\n",
            "\n",
            "\n",
            "MULTIPLIER:  3\n",
            "Acc Score:  1.0\n",
            "                    Prompt Answer Output\n",
            "0      uno dos tres cuatro      5      5\n",
            "1    dos tres cuatro cinco      6      6\n",
            "2   tres cuatro cinco seis      7      7\n",
            "3  cuatro cinco seis siete      8      8\n",
            "4    cinco seis siete ocho      9      9\n",
            "5    seis siete ocho nueve             0\n",
            "\n",
            "\n"
          ]
        }
      ],
      "source": [
        "test_id = 6\n",
        "\n",
        "for i, df in enumerate(tables[test_id]):\n",
        "    print(\"MULTIPLIER: \", multp_list[i])\n",
        "    print(\"Acc Score: \", scores[test_id][i])\n",
        "    print(df) # display(df) ## display is too bulky\n",
        "    print('\\n')"
      ]
    },
    {
      "cell_type": "markdown",
      "metadata": {
        "id": "wYOA_etg86Bu"
      },
      "source": [
        "# steer by ablated SAE SV"
      ]
    },
    {
      "cell_type": "markdown",
      "metadata": {
        "id": "ryzYsrkWNxzD"
      },
      "source": [
        "## choose which features to ablate"
      ]
    },
    {
      "cell_type": "code",
      "execution_count": null,
      "metadata": {
        "id": "nnH75X-e9nTV"
      },
      "outputs": [],
      "source": [
        "words = ['1', '2', '3', '4', '5', '6', '7', '8', '9']\n",
        "numword_samps = []\n",
        "for i in range(0, 9):\n",
        "    samp = f\"{words[i]}\"\n",
        "    numword_samps.append(samp)\n",
        "inputs = tokenizer(numword_samps, return_tensors=\"pt\", padding=True, truncation=True, max_length=300)['input_ids'].to(\"cuda\")\n",
        "target_act = gather_residual_activations(model, 20, inputs)\n",
        "sae_acts_1 = sae.encode(target_act.to(torch.float32))"
      ]
    },
    {
      "cell_type": "code",
      "execution_count": null,
      "metadata": {
        "colab": {
          "base_uri": "https://localhost:8080/"
        },
        "id": "J40Ewux29nTV",
        "outputId": "9380e208-d7f4-4a7e-bb81-dcf9bf327288"
      },
      "outputs": [
        {
          "output_type": "execute_result",
          "data": {
            "text/plain": [
              "torch.Size([1, 2, 16384])"
            ]
          },
          "metadata": {},
          "execution_count": 298
        }
      ],
      "source": [
        "mean_num_sv = sae_acts_1.mean(dim=0)\n",
        "mean_num_sv = mean_num_sv.unsqueeze(0)\n",
        "mean_num_sv.shape"
      ]
    },
    {
      "cell_type": "code",
      "execution_count": null,
      "metadata": {
        "id": "UknTTbsR8Ffp"
      },
      "outputs": [],
      "source": [
        "feat_k = 100 # 50\n",
        "one_top_acts_values, one_top_acts_indices = mean_num_sv[0, -1, :].topk(feat_k, dim=-1)"
      ]
    },
    {
      "cell_type": "code",
      "execution_count": null,
      "metadata": {
        "colab": {
          "base_uri": "https://localhost:8080/"
        },
        "id": "AKcdNYvH9uxF",
        "outputId": "07950e13-d2e5-4aad-fe29-e38896804874"
      },
      "outputs": [
        {
          "output_type": "stream",
          "name": "stdout",
          "text": [
            "Rank 1 150.1 13528 numeric values indicating measurements or quantities\n",
            "Rank 2 85.52 11527 the start of a document\n",
            "Rank 3 34.94 9768 terms related to control and authority, particularly in political or systemic contexts\n",
            "Rank 4 34.91 8684  technical jargon and programming-related terms\n",
            "Rank 5 33.51 140  instances of the word \"in\"\n",
            "Rank 6 30.87 833 the numerical values indicating measurements or assessments\n",
            "Rank 7 28.97 11174  numeric identifiers or values in a structured format\n",
            "Rank 8 21.66 6305 mathematical expressions and notations used in equations and proofs\n",
            "Rank 9 21.37 2437  patterns related to numerical information, particularly involving the number four\n",
            "Rank 10 15.08 3019  elements related to operational or procedural contexts in a structured format\n",
            "Rank 11 12.1 3435  numeric values, particularly related to technology specifications or measurements\n",
            "Rank 12 11.92 745  sequences of numerical values\n",
            "Rank 13 8.7 3371  numerical expressions and equations\n",
            "Rank 14 7.24 16175 numeric identifiers or codes, particularly in a structured format or specification\n",
            "Rank 15 6.96 1344 lists and resources for educational purposes\n",
            "Rank 16 6.96 11795 the phrase \"The\" at the start of sentences\n",
            "Rank 17 6.46 1494  numeric representations and special characters in the text\n",
            "Rank 18 5.66 8640  numerical data and references to scientific publications\n",
            "Rank 19 5.4 2740  phrases related to biological processes and cellular interactions\n",
            "Rank 20 4.82 12977 quantitative data or statistical metrics related to observations\n",
            "Rank 21 4.57 4723 numbers and specific dates\n",
            "Rank 22 4.47 2102 numeric values, particularly in a scientific or quantitative context\n",
            "Rank 23 4.44 13206  numeric values and their mathematical relationships\n",
            "Rank 24 4.25 4743 numerical data, particularly relating to prime factors or mathematical expressions\n",
            "Rank 25 3.41 5052 the beginning of a document or section, likely signaling the start of significant content\n",
            "Rank 26 2.91 15078 terms related to specific chemical compounds or drugs\n",
            "Rank 27 2.85 12621 numerical information, particularly related to contact details or official statistics\n",
            "Rank 28 2.74 6275 numbers and numerical values in context\n",
            "Rank 29 2.67 14581 references to specific biblical passages and their contextual significance\n",
            "Rank 30 2.64 5426  references to collaboration and collective effort in various contexts\n",
            "Rank 31 2.63 10306 references to the \"Six Million Dollar Man\" television series and its elements\n",
            "Rank 32 2.61 821 the beginning of a document or section\n",
            "Rank 33 2.23 4569  references to programming concepts and code structures\n",
            "Rank 34 1.61 1238  numerical data or codes\n",
            "Rank 35 1.39 4020 the presence of hyphens or long dash indicators\n",
            "Rank 36 1.38 2762 references to the month of August\n",
            "Rank 37 1.31 7363  sentences or phrases that indicate the end of a section or document\n",
            "Rank 38 1.0 15805  references to quantities, specifically in terms of pieces or units\n",
            "Rank 39 0.99 16362  references to numerical data or statistics\n",
            "Rank 40 0.93 11805 guidance or rules for effective communication and professionalism in correspondence\n",
            "Rank 41 0.92 10452  numeric sequences and patterns\n",
            "Rank 42 0.85 4541 terms related to historical events and social commentary\n",
            "Rank 43 0.84 15735  numerical data and comparisons\n",
            "Rank 44 0.82 5982 specific terms related to real estate and community features\n",
            "Rank 45 0.8 9416 quantitative references relating to studies and participants\n",
            "Rank 46 0.8 14279 references to children's ages or descriptors of young people\n",
            "Rank 47 0.8 11578  numerical data and statistics related to quantities or measures\n",
            "Rank 48 0.8 6433 references to violent incidents and casualties\n",
            "Rank 49 0.8 14387 attributes related to real estate properties\n",
            "Rank 50 0.79 2973 timestamps and date formats\n",
            "Rank 51 0.79 12153 references to specific numerical identifiers or titles associated with cultural works\n",
            "Rank 52 0.79 6928 the beginning of a text or document\n",
            "Rank 53 0.78 6763 numeric representations and descriptions of quantity\n",
            "Rank 54 0.78 8737  elements related to numerical values or ordered data\n",
            "Rank 55 0.0 0 mentions of the letter 'Z' and variations of 'Z' in different contexts\n",
            "Rank 56 0.0 1 phrases emphasizing continuity or progression in narratives\n",
            "Rank 57 0.0 2 elements related to interviews and interrogation processes\n",
            "Rank 58 0.0 3 instances of the verb \"to be\" in various forms\n",
            "Rank 59 0.0 4  temporal references such as days, weeks, months, or years\n",
            "Rank 60 0.0 5 words related to trends and patterns in various contexts\n",
            "Rank 61 0.0 6 references to television talent shows and their judges\n",
            "Rank 62 0.0 7 conjunctions and transitional phrases that signify contrast or condition\n",
            "Rank 63 0.0 8  programming-related constructs and structures\n",
            "Rank 64 0.0 9 words and phrases associated with conflict and physical confrontations\n",
            "Rank 65 0.0 10 terms related to confirmation and verification processes\n",
            "Rank 66 0.0 11 terms related to applications and industries, especially in the context of materials and products\n",
            "Rank 67 0.0 12  import statements in programming code\n",
            "Rank 68 0.0 13  phrases related to missed opportunities or regrets\n",
            "Rank 69 0.0 14  mentions of logarithmic or related mathematical concepts\n",
            "Rank 70 0.0 15  mathematical expressions and operations\n",
            "Rank 71 0.0 16 dates and times related to a specific event.\n",
            "Rank 72 0.0 17  structured data or programming code elements\n",
            "Rank 73 0.0 18  numerical data and associated values\n",
            "Rank 74 0.0 19  terminology related to academic research and analysis methods\n",
            "Rank 75 0.0 20  instances of possessive pronouns or possessive constructions\n",
            "Rank 76 0.0 21 terms related to agricultural practices and research\n",
            "Rank 77 0.0 22  references to the React library and its components\n",
            "Rank 78 0.0 23 references to the name \"Jonathan\" and variations of \"Jon.\"\n",
            "Rank 79 0.0 24  terms related to \"coroner\" and associated medical investigations\n",
            "Rank 80 0.0 25 references to issued equipment or supplies\n",
            "Rank 81 0.0 26  terms related to leadership styles and their effects on workplace dynamics\n",
            "Rank 82 0.0 27 mathematical symbols and constructs\n",
            "Rank 83 0.0 28 location and administrative division references\n",
            "Rank 84 0.0 29  phrases indicating various purposes and uses of information or actions\n",
            "Rank 85 0.0 30 terms and references associated with political and social organizations\n",
            "Rank 86 0.0 31 punctuation marks and special symbols often found in written texts\n",
            "Rank 87 0.0 32  mathematical symbols and notation typically used in equations or algorithms\n",
            "Rank 88 0.0 33 terms related to research methodologies and data analysis in scientific studies\n",
            "Rank 89 0.0 34 words and phrases associated with conjunctions and connections between ideas\n",
            "Rank 90 0.0 35 references to the verb \"be\" in various contexts\n",
            "Rank 91 0.0 36 words or roots related to specific dependencies or components in a software or programming context\n",
            "Rank 92 0.0 37  punctuated phrases and statements\n",
            "Rank 93 0.0 38 modal verbs and their usage in sentences\n",
            "Rank 94 0.0 39 details about product features and specifications\n",
            "Rank 95 0.0 40 phrases related to hybrid combinations of concepts or elements in various contexts\n",
            "Rank 96 0.0 41 phrases related to family relationships and marital status\n",
            "Rank 97 0.0 42 terms related to medical treatment options and their effectiveness\n",
            "Rank 98 0.0 43  references to the number and types of bedrooms in housing descriptions\n",
            "Rank 99 0.0 44  information about public events and their details\n",
            "Rank 100 0.0 45  indicators of medical conditions and pregnancy-related terms\n"
          ]
        }
      ],
      "source": [
        "rank = 1\n",
        "for val, ind in zip(one_top_acts_values, one_top_acts_indices):\n",
        "    print(f\"Rank {rank}\", round(val.item(), 2), ind.item(), feat_labels_lst[ind])\n",
        "    rank += 1"
      ]
    },
    {
      "cell_type": "markdown",
      "metadata": {
        "id": "m_6yapZIODSF"
      },
      "source": [
        "There's too many non-zero features to manually assess (Gemma2-2B uses JumpReLU rather than TopK of say k=16, so we get around 50 non-zero features). Thus, we only look at the top 10 features, which at a glance look to be much higher in the distribution of activations.\n",
        "\n",
        "Top 10:\n",
        "- Rank 1 150.1 13528 numeric values indicating measurements or quantities\n",
        "- Rank 2 85.52 11527 the start of a document\n",
        "- Rank 3 34.94 9768 terms related to control and authority, particularly in political or systemic contexts\n",
        "- Rank 4 34.91 8684  technical jargon and programming-related terms\n",
        "- Rank 5 33.51 140  instances of the word \"in\"\n",
        "- Rank 6 30.87 833 the numerical values indicating measurements or assessments\n",
        "- Rank 7 28.97 11174  numeric identifiers or values in a structured format\n",
        "- Rank 8 21.66 6305 mathematical expressions and notations used in equations and proofs\n",
        "- Rank 9 21.37 2437  patterns related to numerical information, particularly involving the number four\n",
        "- Rank 10 15.08 3019  elements related to operational or procedural contexts in a structured format\n",
        "\n",
        "We ablate the following:\n",
        "- Rank 2 85.52 11527 the start of a document\n",
        "- Rank 3 34.94 9768 terms related to control and authority, particularly in political or systemic contexts\n",
        "- Rank 4 34.91 8684  technical jargon and programming-related terms\n",
        "- Rank 5 33.51 140  instances of the word \"in\"\n"
      ]
    },
    {
      "cell_type": "markdown",
      "metadata": {
        "id": "CMm_VwWTO96p"
      },
      "source": [
        "## ablate then steer"
      ]
    },
    {
      "cell_type": "code",
      "execution_count": null,
      "metadata": {
        "id": "kiViFOkxO961"
      },
      "outputs": [],
      "source": [
        "filt_mean_num_sv = torch.clone(mean_num_sv)\n",
        "\n",
        "feats_to_ablate = [11527, 9768, 8684, 140]\n",
        "\n",
        "for fInd in feats_to_ablate:\n",
        "    filt_mean_num_sv[:, -1, fInd] = 0"
      ]
    },
    {
      "cell_type": "markdown",
      "metadata": {
        "id": "6JEgXPQLRPhu"
      },
      "source": [
        "## steer ablated in SAE space"
      ]
    },
    {
      "cell_type": "code",
      "execution_count": null,
      "metadata": {
        "id": "CMX2UksBRPh6"
      },
      "outputs": [],
      "source": [
        "%%capture\n",
        "multp_list = [1, 3]\n",
        "abl_SAE_tables, abl_SAE_scores = run_tests_steer_actvs(filt_mean_num_sv, multp_list, 'SAE')"
      ]
    },
    {
      "cell_type": "code",
      "execution_count": null,
      "metadata": {
        "id": "eAWgjX3PRPh6"
      },
      "outputs": [],
      "source": [
        "tables = abl_SAE_tables\n",
        "scores = abl_SAE_scores"
      ]
    },
    {
      "cell_type": "code",
      "execution_count": null,
      "metadata": {
        "colab": {
          "base_uri": "https://localhost:8080/"
        },
        "outputId": "b9269729-6a3a-4943-f60b-aab70d97c96c",
        "id": "MaZxW9b0RPh7"
      },
      "outputs": [
        {
          "output_type": "stream",
          "name": "stdout",
          "text": [
            "MULTIPLIER:  1\n",
            "Acc Score:  1.0\n",
            "                   Prompt Answer Output\n",
            "0      one two three four      5      5\n",
            "1     two three four five      6      6\n",
            "2     three four five six      7      7\n",
            "3     four five six seven      8      8\n",
            "4    five six seven eight      9      9\n",
            "5    six seven eight nine             0\n",
            "6    seven eight nine ten             1\n",
            "7   eight nine ten eleven             2\n",
            "8  nine ten eleven twelve             3\n",
            "\n",
            "\n",
            "MULTIPLIER:  3\n",
            "Acc Score:  1.0\n",
            "                   Prompt Answer Output\n",
            "0      one two three four      5      5\n",
            "1     two three four five      6      6\n",
            "2     three four five six      7      7\n",
            "3     four five six seven      8      8\n",
            "4    five six seven eight      9      9\n",
            "5    six seven eight nine             0\n",
            "6    seven eight nine ten             1\n",
            "7   eight nine ten eleven             1\n",
            "8  nine ten eleven twelve             3\n",
            "\n",
            "\n"
          ]
        }
      ],
      "source": [
        "test_id = 0\n",
        "\n",
        "for i, df in enumerate(tables[test_id]):\n",
        "    print(\"MULTIPLIER: \", multp_list[i])\n",
        "    print(\"Acc Score: \", scores[test_id][i])\n",
        "    print(df) # display(df) ## display is too bulky\n",
        "    print('\\n')"
      ]
    },
    {
      "cell_type": "code",
      "execution_count": null,
      "metadata": {
        "colab": {
          "base_uri": "https://localhost:8080/"
        },
        "outputId": "fc34ac6c-222a-4bd6-da81-dcc52db369c9",
        "id": "N_8xbQYNRPh7"
      },
      "outputs": [
        {
          "output_type": "stream",
          "name": "stdout",
          "text": [
            "MULTIPLIER:  1\n",
            "Acc Score:  1.0\n",
            "                         Prompt Answer Output\n",
            "0  January February March April      5      5\n",
            "1      February March April May      6      6\n",
            "2          March April May June      7      7\n",
            "3           April May June July      8      8\n",
            "4          May June July August      9      9\n",
            "\n",
            "\n",
            "MULTIPLIER:  3\n",
            "Acc Score:  1.0\n",
            "                         Prompt Answer Output\n",
            "0  January February March April      5      5\n",
            "1      February March April May      6      6\n",
            "2          March April May June      7      7\n",
            "3           April May June July      8      8\n",
            "4          May June July August      9      9\n",
            "\n",
            "\n"
          ]
        }
      ],
      "source": [
        "test_id = 1\n",
        "\n",
        "for i, df in enumerate(tables[test_id]):\n",
        "    print(\"MULTIPLIER: \", multp_list[i])\n",
        "    print(\"Acc Score: \", scores[test_id][i])\n",
        "    print(df) # display(df) ## display is too bulky\n",
        "    print('\\n')"
      ]
    },
    {
      "cell_type": "code",
      "execution_count": null,
      "metadata": {
        "colab": {
          "base_uri": "https://localhost:8080/"
        },
        "outputId": "a06132db-31fc-4463-d992-0a1106857dcc",
        "id": "ACpDsdHmRPh7"
      },
      "outputs": [
        {
          "output_type": "stream",
          "name": "stdout",
          "text": [
            "MULTIPLIER:  1\n",
            "Acc Score:  0.6666666666666666\n",
            "                       Prompt Answer Output\n",
            "0    Monday Tuesday Wednesday      4      4\n",
            "1  Tuesday Wednesday Thursday      5      5\n",
            "2   Wednesday Thursday Friday      6       \n",
            "3    Thursday Friday Saturday              \n",
            "4      Friday Saturday Sunday             ,\n",
            "\n",
            "\n",
            "MULTIPLIER:  3\n",
            "Acc Score:  0.6666666666666666\n",
            "                       Prompt Answer Output\n",
            "0    Monday Tuesday Wednesday      4      4\n",
            "1  Tuesday Wednesday Thursday      5      5\n",
            "2   Wednesday Thursday Friday      6      0\n",
            "3    Thursday Friday Saturday             0\n",
            "4      Friday Saturday Sunday             1\n",
            "\n",
            "\n"
          ]
        }
      ],
      "source": [
        "test_id = 2\n",
        "\n",
        "for i, df in enumerate(tables[test_id]):\n",
        "    print(\"MULTIPLIER: \", multp_list[i])\n",
        "    print(\"Acc Score: \", scores[test_id][i])\n",
        "    print(df) # display(df) ## display is too bulky\n",
        "    print('\\n')"
      ]
    },
    {
      "cell_type": "code",
      "execution_count": null,
      "metadata": {
        "colab": {
          "base_uri": "https://localhost:8080/"
        },
        "outputId": "6925a9aa-d86b-49f8-b54f-83e1cf829f3d",
        "id": "re3XJnA_RPh7"
      },
      "outputs": [
        {
          "output_type": "stream",
          "name": "stdout",
          "text": [
            "MULTIPLIER:  1\n",
            "Acc Score:  0.0\n",
            "                            Prompt Answer      Output\n",
            "0     Today is Monday, tomorrow is      2     Tuesday\n",
            "1    Today is Tuesday, tomorrow is      3   Wednesday\n",
            "2  Today is Wednesday, tomorrow is      4    Thursday\n",
            "3   Today is Thursday, tomorrow is      5      Friday\n",
            "4     Today is Friday, tomorrow is      6    Saturday\n",
            "5   Today is Saturday, tomorrow is             Sunday\n",
            "\n",
            "\n",
            "MULTIPLIER:  3\n",
            "Acc Score:  0.8\n",
            "                            Prompt Answer Output\n",
            "0     Today is Monday, tomorrow is      2      2\n",
            "1    Today is Tuesday, tomorrow is      3      3\n",
            "2  Today is Wednesday, tomorrow is      4      4\n",
            "3   Today is Thursday, tomorrow is      5      5\n",
            "4     Today is Friday, tomorrow is      6      0\n",
            "5   Today is Saturday, tomorrow is             0\n",
            "\n",
            "\n"
          ]
        }
      ],
      "source": [
        "test_id = 3\n",
        "\n",
        "for i, df in enumerate(tables[test_id]):\n",
        "    print(\"MULTIPLIER: \", multp_list[i])\n",
        "    print(\"Acc Score: \", scores[test_id][i])\n",
        "    print(df) # display(df) ## display is too bulky\n",
        "    print('\\n')"
      ]
    },
    {
      "cell_type": "code",
      "execution_count": null,
      "metadata": {
        "colab": {
          "base_uri": "https://localhost:8080/"
        },
        "outputId": "ad6313c3-5b3f-443d-f797-2710e46899c9",
        "id": "iyC3JY1uRPh7"
      },
      "outputs": [
        {
          "output_type": "stream",
          "name": "stdout",
          "text": [
            "MULTIPLIER:  1\n",
            "Acc Score:  0.625\n",
            "                                  Prompt Answer      Output\n",
            "0   This month is January, next month is      2    February\n",
            "1  This month is February, next month is      3           3\n",
            "2     This month is March, next month is      4       April\n",
            "3     This month is April, next month is      5           5\n",
            "4       This month is May, next month is      6           6\n",
            "5      This month is June, next month is      7           7\n",
            "6      This month is July, next month is      8           8\n",
            "7    This month is August, next month is      9   September\n",
            "\n",
            "\n",
            "MULTIPLIER:  3\n",
            "Acc Score:  1.0\n",
            "                                  Prompt Answer Output\n",
            "0   This month is January, next month is      2      2\n",
            "1  This month is February, next month is      3      3\n",
            "2     This month is March, next month is      4      4\n",
            "3     This month is April, next month is      5      5\n",
            "4       This month is May, next month is      6      6\n",
            "5      This month is June, next month is      7      7\n",
            "6      This month is July, next month is      8      8\n",
            "7    This month is August, next month is      9      9\n",
            "\n",
            "\n"
          ]
        }
      ],
      "source": [
        "test_id = 4\n",
        "\n",
        "for i, df in enumerate(tables[test_id]):\n",
        "    print(\"MULTIPLIER: \", multp_list[i])\n",
        "    print(\"Acc Score: \", scores[test_id][i])\n",
        "    print(df) # display(df) ## display is too bulky\n",
        "    print('\\n')"
      ]
    },
    {
      "cell_type": "code",
      "execution_count": null,
      "metadata": {
        "colab": {
          "base_uri": "https://localhost:8080/"
        },
        "outputId": "9d0d1d99-7e0c-4739-c082-4d5c46e4ecc8",
        "id": "OmiBOu1bRPh7"
      },
      "outputs": [
        {
          "output_type": "stream",
          "name": "stdout",
          "text": [
            "MULTIPLIER:  1\n",
            "Acc Score:  0.75\n",
            "                   Prompt Answer Output\n",
            "0  twelve eleven ten nine      8      8\n",
            "1   eleven ten nine eight      7      7\n",
            "2    ten nine eight seven      6      6\n",
            "3    nine eight seven six      5      0\n",
            "4    eight seven six five      4       \n",
            "5     seven six five four      3      3\n",
            "6     six five four three      2      2\n",
            "7     five four three two      1      1\n",
            "\n",
            "\n",
            "MULTIPLIER:  3\n",
            "Acc Score:  0.625\n",
            "                   Prompt Answer Output\n",
            "0  twelve eleven ten nine      8      0\n",
            "1   eleven ten nine eight      7      7\n",
            "2    ten nine eight seven      6      6\n",
            "3    nine eight seven six      5      0\n",
            "4    eight seven six five      4      0\n",
            "5     seven six five four      3      3\n",
            "6     six five four three      2      2\n",
            "7     five four three two      1      1\n",
            "\n",
            "\n"
          ]
        }
      ],
      "source": [
        "test_id = 5\n",
        "\n",
        "for i, df in enumerate(tables[test_id]):\n",
        "    print(\"MULTIPLIER: \", multp_list[i])\n",
        "    print(\"Acc Score: \", scores[test_id][i])\n",
        "    print(df) # display(df) ## display is too bulky\n",
        "    print('\\n')"
      ]
    },
    {
      "cell_type": "code",
      "execution_count": null,
      "metadata": {
        "colab": {
          "base_uri": "https://localhost:8080/"
        },
        "outputId": "de81e646-776e-4220-991b-6927153bf4df",
        "id": "FQuoGFEyRPh7"
      },
      "outputs": [
        {
          "output_type": "stream",
          "name": "stdout",
          "text": [
            "MULTIPLIER:  1\n",
            "Acc Score:  1.0\n",
            "                    Prompt Answer Output\n",
            "0      uno dos tres cuatro      5      5\n",
            "1    dos tres cuatro cinco      6      6\n",
            "2   tres cuatro cinco seis      7      7\n",
            "3  cuatro cinco seis siete      8      8\n",
            "4    cinco seis siete ocho      9      9\n",
            "5    seis siete ocho nueve             0\n",
            "\n",
            "\n",
            "MULTIPLIER:  3\n",
            "Acc Score:  0.8\n",
            "                    Prompt Answer Output\n",
            "0      uno dos tres cuatro      5      5\n",
            "1    dos tres cuatro cinco      6      0\n",
            "2   tres cuatro cinco seis      7      7\n",
            "3  cuatro cinco seis siete      8      8\n",
            "4    cinco seis siete ocho      9      9\n",
            "5    seis siete ocho nueve             0\n",
            "\n",
            "\n"
          ]
        }
      ],
      "source": [
        "test_id = 6\n",
        "\n",
        "for i, df in enumerate(tables[test_id]):\n",
        "    print(\"MULTIPLIER: \", multp_list[i])\n",
        "    print(\"Acc Score: \", scores[test_id][i])\n",
        "    print(df) # display(df) ## display is too bulky\n",
        "    print('\\n')"
      ]
    },
    {
      "cell_type": "markdown",
      "source": [
        "# make table"
      ],
      "metadata": {
        "id": "ucQDLRPBUvoj"
      }
    },
    {
      "cell_type": "code",
      "source": [
        "SAE_tables"
      ],
      "metadata": {
        "colab": {
          "base_uri": "https://localhost:8080/"
        },
        "id": "hqdgh2sfIIiQ",
        "outputId": "1093d338-c14d-4128-94d3-e9dd024f996c"
      },
      "execution_count": null,
      "outputs": [
        {
          "output_type": "execute_result",
          "data": {
            "text/plain": [
              "[[                   Prompt Answer Output\n",
              "  0      one two three four      5      5\n",
              "  1     two three four five      6      6\n",
              "  2     three four five six      7      7\n",
              "  3     four five six seven      8      8\n",
              "  4    five six seven eight      9      9\n",
              "  5    six seven eight nine             8\n",
              "  6    seven eight nine ten             1\n",
              "  7   eight nine ten eleven             2\n",
              "  8  nine ten eleven twelve             3,\n",
              "                     Prompt Answer Output\n",
              "  0      one two three four      5      5\n",
              "  1     two three four five      6      6\n",
              "  2     three four five six      7      7\n",
              "  3     four five six seven      8      8\n",
              "  4    five six seven eight      9      9\n",
              "  5    six seven eight nine             0\n",
              "  6    seven eight nine ten             1\n",
              "  7   eight nine ten eleven             1\n",
              "  8  nine ten eleven twelve             3],\n",
              " [                         Prompt Answer Output\n",
              "  0  January February March April      5      5\n",
              "  1      February March April May      6      6\n",
              "  2          March April May June      7      7\n",
              "  3           April May June July      8      8\n",
              "  4          May June July August      9      9,\n",
              "                           Prompt Answer Output\n",
              "  0  January February March April      5      5\n",
              "  1      February March April May      6      6\n",
              "  2          March April May June      7      7\n",
              "  3           April May June July      8      8\n",
              "  4          May June July August      9      9],\n",
              " [                       Prompt Answer Output\n",
              "  0    Monday Tuesday Wednesday      4      4\n",
              "  1  Tuesday Wednesday Thursday      5      5\n",
              "  2   Wednesday Thursday Friday      6       \n",
              "  3    Thursday Friday Saturday            \\n\n",
              "  4      Friday Saturday Sunday             .,\n",
              "                         Prompt Answer Output\n",
              "  0    Monday Tuesday Wednesday      4      4\n",
              "  1  Tuesday Wednesday Thursday      5      5\n",
              "  2   Wednesday Thursday Friday      6      0\n",
              "  3    Thursday Friday Saturday             0\n",
              "  4      Friday Saturday Sunday             1],\n",
              " [                            Prompt Answer     Output\n",
              "  0     Today is Monday, tomorrow is      2    Tuesday\n",
              "  1    Today is Tuesday, tomorrow is      3           \n",
              "  2  Today is Wednesday, tomorrow is      4   Thursday\n",
              "  3   Today is Thursday, tomorrow is      5     Friday\n",
              "  4     Today is Friday, tomorrow is      6          6\n",
              "  5   Today is Saturday, tomorrow is            Sunday,\n",
              "                              Prompt Answer Output\n",
              "  0     Today is Monday, tomorrow is      2      2\n",
              "  1    Today is Tuesday, tomorrow is      3      3\n",
              "  2  Today is Wednesday, tomorrow is      4      4\n",
              "  3   Today is Thursday, tomorrow is      5      5\n",
              "  4     Today is Friday, tomorrow is      6      0\n",
              "  5   Today is Saturday, tomorrow is             0],\n",
              " [                                  Prompt Answer      Output\n",
              "  0   This month is January, next month is      2    February\n",
              "  1  This month is February, next month is      3           3\n",
              "  2     This month is March, next month is      4       April\n",
              "  3     This month is April, next month is      5           5\n",
              "  4       This month is May, next month is      6           6\n",
              "  5      This month is June, next month is      7           7\n",
              "  6      This month is July, next month is      8           8\n",
              "  7    This month is August, next month is      9   September,\n",
              "                                    Prompt Answer Output\n",
              "  0   This month is January, next month is      2      2\n",
              "  1  This month is February, next month is      3      3\n",
              "  2     This month is March, next month is      4      4\n",
              "  3     This month is April, next month is      5      5\n",
              "  4       This month is May, next month is      6      6\n",
              "  5      This month is June, next month is      7      7\n",
              "  6      This month is July, next month is      8      8\n",
              "  7    This month is August, next month is      9      9],\n",
              " [                   Prompt Answer Output\n",
              "  0  twelve eleven ten nine      8      8\n",
              "  1   eleven ten nine eight      7      7\n",
              "  2    ten nine eight seven      6      6\n",
              "  3    nine eight seven six      5      0\n",
              "  4    eight seven six five      4       \n",
              "  5     seven six five four      3      3\n",
              "  6     six five four three      2      2\n",
              "  7     five four three two      1      1,\n",
              "                     Prompt Answer Output\n",
              "  0  twelve eleven ten nine      8      8\n",
              "  1   eleven ten nine eight      7      0\n",
              "  2    ten nine eight seven      6      6\n",
              "  3    nine eight seven six      5      0\n",
              "  4    eight seven six five      4      0\n",
              "  5     seven six five four      3      3\n",
              "  6     six five four three      2      2\n",
              "  7     five four three two      1      1],\n",
              " [                    Prompt Answer Output\n",
              "  0      uno dos tres cuatro      5      5\n",
              "  1    dos tres cuatro cinco      6      6\n",
              "  2   tres cuatro cinco seis      7      7\n",
              "  3  cuatro cinco seis siete      8      8\n",
              "  4    cinco seis siete ocho      9      9\n",
              "  5    seis siete ocho nueve             0,\n",
              "                      Prompt Answer Output\n",
              "  0      uno dos tres cuatro      5      5\n",
              "  1    dos tres cuatro cinco      6      0\n",
              "  2   tres cuatro cinco seis      7      7\n",
              "  3  cuatro cinco seis siete      8      8\n",
              "  4    cinco seis siete ocho      9      9\n",
              "  5    seis siete ocho nueve             0]]"
            ]
          },
          "metadata": {},
          "execution_count": 327
        }
      ]
    },
    {
      "cell_type": "markdown",
      "source": [
        "# compare all SV scores"
      ],
      "metadata": {
        "id": "KplEOp6FIG97"
      }
    },
    {
      "cell_type": "code",
      "source": [
        "def display_scores(scores_table):\n",
        "    for i, score_list in enumerate(scores_table):\n",
        "        score_list = [round(score, 2) for score in score_list]\n",
        "        print(test_labels_lst[i], score_list)"
      ],
      "metadata": {
        "id": "OI54gFJFKACJ"
      },
      "execution_count": null,
      "outputs": []
    },
    {
      "cell_type": "code",
      "source": [
        "def avg_score_fn(scores_table):\n",
        "    total_score = 0\n",
        "    for score_list in scores_table:\n",
        "        score = max(score_list)\n",
        "        total_score += score\n",
        "    print(round(total_score / len(scores_table), 2))\n",
        "    return round(total_score / len(scores_table), 2)"
      ],
      "metadata": {
        "id": "m6dCqzDxI7XP"
      },
      "execution_count": null,
      "outputs": []
    },
    {
      "cell_type": "code",
      "source": [
        "def get_best_scores_fn(scores_table):\n",
        "    best_scores = []\n",
        "    for score_list in scores_table:\n",
        "        score = round(max(score_list), 2)\n",
        "        best_scores.append(score)\n",
        "    return best_scores"
      ],
      "metadata": {
        "id": "TnqRLcVCZ-Nv"
      },
      "execution_count": null,
      "outputs": []
    },
    {
      "cell_type": "code",
      "source": [
        "display_scores(SAE_scores)"
      ],
      "metadata": {
        "colab": {
          "base_uri": "https://localhost:8080/"
        },
        "id": "iPhK9PfnKISH",
        "outputId": "b030ade9-d0c3-4f5f-c870-b24745cf3756"
      },
      "execution_count": null,
      "outputs": [
        {
          "output_type": "stream",
          "name": "stdout",
          "text": [
            "numwords [1.0, 1.0]\n",
            "months [1.0, 1.0]\n",
            "days [0.67, 0.67]\n",
            "tomorrow_is [0.2, 0.8]\n",
            "nextMonth_is [0.62, 1.0]\n",
            "descr_numwords [0.75, 0.62]\n",
            "spanish_numwords [1.0, 0.8]\n"
          ]
        }
      ]
    },
    {
      "cell_type": "code",
      "source": [
        "display_scores(abl_SAE_scores)"
      ],
      "metadata": {
        "colab": {
          "base_uri": "https://localhost:8080/"
        },
        "id": "31fvO8ZQRdan",
        "outputId": "bce001ad-60e0-445c-cac4-548f8f75ff59"
      },
      "execution_count": null,
      "outputs": [
        {
          "output_type": "stream",
          "name": "stdout",
          "text": [
            "numwords [1.0, 1.0]\n",
            "months [1.0, 1.0]\n",
            "days [0.67, 0.67]\n",
            "tomorrow_is [0.0, 0.8]\n",
            "nextMonth_is [0.62, 1.0]\n",
            "descr_numwords [0.75, 0.62]\n",
            "spanish_numwords [1.0, 0.8]\n"
          ]
        }
      ]
    },
    {
      "cell_type": "code",
      "source": [
        "display_scores(LLM_scores)"
      ],
      "metadata": {
        "colab": {
          "base_uri": "https://localhost:8080/"
        },
        "id": "kKaO6XloKKlY",
        "outputId": "6643f6ca-fcb5-43d6-8abf-3f81fc806757"
      },
      "execution_count": null,
      "outputs": [
        {
          "output_type": "stream",
          "name": "stdout",
          "text": [
            "numwords [1.0, 0.8]\n",
            "months [0.0, 0.2]\n",
            "days [0.0, 0.33]\n",
            "tomorrow_is [0.0, 0.4]\n",
            "nextMonth_is [0.0, 1.0]\n",
            "descr_numwords [0.75, 0.5]\n",
            "spanish_numwords [0.8, 0.8]\n"
          ]
        }
      ]
    },
    {
      "cell_type": "code",
      "source": [
        "display_scores(LLMsp_abl_LLM_scores)"
      ],
      "metadata": {
        "colab": {
          "base_uri": "https://localhost:8080/"
        },
        "id": "Ss1Exn4tKNHF",
        "outputId": "24375d18-1bf8-416a-999e-ac69d0cb1273"
      },
      "execution_count": null,
      "outputs": [
        {
          "output_type": "stream",
          "name": "stdout",
          "text": [
            "numwords [0.0, 0.0]\n",
            "months [0.0, 0.0]\n",
            "days [0.0, 0.0]\n",
            "tomorrow_is [0.0, 0.0]\n",
            "nextMonth_is [0.0, 0.0]\n",
            "descr_numwords [0.0, 0.12]\n",
            "spanish_numwords [0.2, 0.0]\n"
          ]
        }
      ]
    },
    {
      "cell_type": "code",
      "source": [
        "display_scores(SAEsp_abl_LLM_scores)"
      ],
      "metadata": {
        "colab": {
          "base_uri": "https://localhost:8080/"
        },
        "id": "GPKZEkdjInK0",
        "outputId": "1216eda5-13e9-4cc0-c6e8-f75d7c310977"
      },
      "execution_count": null,
      "outputs": [
        {
          "output_type": "stream",
          "name": "stdout",
          "text": [
            "numwords [1.0, 1.0]\n",
            "months [0.2, 1.0]\n",
            "days [0.0, 0.67]\n",
            "tomorrow_is [0.0, 0.4]\n",
            "nextMonth_is [0.0, 1.0]\n",
            "descr_numwords [0.62, 0.62]\n",
            "spanish_numwords [0.6, 1.0]\n"
          ]
        }
      ]
    },
    {
      "cell_type": "markdown",
      "source": [
        "# avg score bar plots"
      ],
      "metadata": {
        "id": "cYZ4-JFsfrSy"
      }
    },
    {
      "cell_type": "markdown",
      "source": [
        "We take the max, so that 0 vs 0.2 lower score of 'tomorrow_is, multp 1' in filtered SAE sv doesn't matter"
      ],
      "metadata": {
        "id": "tXSkT8qIQRXg"
      }
    },
    {
      "cell_type": "code",
      "source": [
        "avg_scores = []"
      ],
      "metadata": {
        "id": "HyAMPE5LfvPE"
      },
      "execution_count": null,
      "outputs": []
    },
    {
      "cell_type": "code",
      "source": [
        "avg_scores.append(avg_score_fn(LLM_scores))"
      ],
      "metadata": {
        "colab": {
          "base_uri": "https://localhost:8080/"
        },
        "id": "GTOPuNdzJE5N",
        "outputId": "d745d878-3ad9-4d18-e97c-09ae82b2c346"
      },
      "execution_count": null,
      "outputs": [
        {
          "output_type": "stream",
          "name": "stdout",
          "text": [
            "0.64\n"
          ]
        }
      ]
    },
    {
      "cell_type": "code",
      "source": [
        "avg_scores.append(avg_score_fn(SAE_scores))"
      ],
      "metadata": {
        "colab": {
          "base_uri": "https://localhost:8080/"
        },
        "id": "5FIcHfP0JC6Q",
        "outputId": "8a6cdb48-a4ef-419a-c4bb-cd4421c17bea"
      },
      "execution_count": null,
      "outputs": [
        {
          "output_type": "stream",
          "name": "stdout",
          "text": [
            "0.89\n"
          ]
        }
      ]
    },
    {
      "cell_type": "code",
      "source": [
        "avg_scores.append(avg_score_fn(LLMsp_abl_LLM_scores))"
      ],
      "metadata": {
        "colab": {
          "base_uri": "https://localhost:8080/"
        },
        "id": "ggIr6l7wJMa3",
        "outputId": "7e2f60e4-1bff-4209-d3cb-0d9061a939a3"
      },
      "execution_count": null,
      "outputs": [
        {
          "output_type": "stream",
          "name": "stdout",
          "text": [
            "0.05\n"
          ]
        }
      ]
    },
    {
      "cell_type": "code",
      "source": [
        "avg_scores.append(avg_score_fn(SAEsp_abl_LLM_scores))"
      ],
      "metadata": {
        "colab": {
          "base_uri": "https://localhost:8080/"
        },
        "id": "4C3BLb4QJKGD",
        "outputId": "f5dfdda5-6ccf-42f4-a4c7-fa1fd4a96253"
      },
      "execution_count": null,
      "outputs": [
        {
          "output_type": "stream",
          "name": "stdout",
          "text": [
            "0.81\n"
          ]
        }
      ]
    },
    {
      "cell_type": "code",
      "source": [
        "avg_scores.append(avg_score_fn(abl_SAE_scores))"
      ],
      "metadata": {
        "colab": {
          "base_uri": "https://localhost:8080/"
        },
        "id": "TpH7F1mYKgRC",
        "outputId": "da6b3823-6387-4d04-e8f3-204313558013"
      },
      "execution_count": null,
      "outputs": [
        {
          "output_type": "stream",
          "name": "stdout",
          "text": [
            "0.89\n"
          ]
        }
      ]
    },
    {
      "cell_type": "code",
      "source": [
        "avg_scores"
      ],
      "metadata": {
        "colab": {
          "base_uri": "https://localhost:8080/"
        },
        "id": "KEpndZoBiq9d",
        "outputId": "f590a3f3-6bca-4b6c-d2dd-059d56cf553c"
      },
      "execution_count": null,
      "outputs": [
        {
          "output_type": "execute_result",
          "data": {
            "text/plain": [
              "[0.64, 0.89, 0.05, 0.81, 0.89]"
            ]
          },
          "metadata": {},
          "execution_count": 382
        }
      ]
    },
    {
      "cell_type": "code",
      "source": [
        "custom_labels = ['LLM (SV #1)', 'SAE (SV #2)', 'Decomp LLM \\n in LLM space \\n (SV #3)', 'Decomp LLM \\n in SAE space \\n (SV #4)', 'Filtered SAE \\n (SV #5)']\n",
        "colors = ['red', 'blue', 'orange', 'purple', 'lightblue']\n",
        "\n",
        "num_tasks = len(custom_labels)  # Five tasks, one for each color\n",
        "task_indices = np.arange(num_tasks)\n",
        "bar_width = 0.5  # A wider bar width for better visual impact\n",
        "\n",
        "# Create the figure and axes\n",
        "fig, ax = plt.subplots()\n",
        "\n",
        "# Plotting the bars\n",
        "for i in range(num_tasks):\n",
        "    ax.bar(task_indices[i], avg_scores[i], width=bar_width, label=custom_labels[i], color=colors[i])\n",
        "\n",
        "# Set labels and titles\n",
        "ax.set_ylabel('Average Accuracy Score')\n",
        "ax.set_xticks(task_indices)\n",
        "ax.set_xticklabels(custom_labels)  # Use color names as x-tick labels\n",
        "\n",
        "# Adjusting the x-axis limits to space out the x-ticks\n",
        "ax.set_xlim(-0.5, num_tasks - 0.5)\n",
        "\n",
        "# Optionally, adding a legend if needed (commented out since it may be redundant)\n",
        "# ax.legend(loc='upper left', bbox_to_anchor=(1, 1))\n",
        "\n",
        "# Display the plot\n",
        "plt.show()"
      ],
      "metadata": {
        "colab": {
          "base_uri": "https://localhost:8080/",
          "height": 462
        },
        "id": "S0bts8fGhlN3",
        "outputId": "3e2992b6-508b-4c5a-cbb0-54c1f721658f"
      },
      "execution_count": null,
      "outputs": [
        {
          "output_type": "display_data",
          "data": {
            "text/plain": [
              "<Figure size 640x480 with 1 Axes>"
            ],
            "image/png": "[encoded data removed]"
          },
          "metadata": {}
        }
      ]
    },
    {
      "cell_type": "markdown",
      "source": [
        "# bar plot all tasks, all sv"
      ],
      "metadata": {
        "id": "XJBPX-cfaynW"
      }
    },
    {
      "cell_type": "code",
      "source": [
        "test_labels_lst_2 = ['numwords', 'months', 'days', 'tomorrow_is', 'nextMonth_is', 'descr \\n numwords', 'spanish \\n numwords']"
      ],
      "metadata": {
        "id": "K_CdCOOEcl6i"
      },
      "execution_count": null,
      "outputs": []
    },
    {
      "cell_type": "code",
      "source": [
        "get_best_scores_fn(SAE_scores)"
      ],
      "metadata": {
        "colab": {
          "base_uri": "https://localhost:8080/"
        },
        "id": "dnKHzPttaOwO",
        "outputId": "681fd051-70f8-4ea7-fc4d-0fd39e0d4db3"
      },
      "execution_count": null,
      "outputs": [
        {
          "output_type": "execute_result",
          "data": {
            "text/plain": [
              "[1.0, 1.0, 0.67, 0.8, 1.0, 0.75, 1.0]"
            ]
          },
          "metadata": {},
          "execution_count": 332
        }
      ]
    },
    {
      "cell_type": "code",
      "source": [
        "get_best_scores_fn(LLM_scores)"
      ],
      "metadata": {
        "colab": {
          "base_uri": "https://localhost:8080/"
        },
        "id": "InQUq_-UbKrW",
        "outputId": "d28a0a2e-1d01-4609-dccc-52e9d17ed805"
      },
      "execution_count": null,
      "outputs": [
        {
          "output_type": "execute_result",
          "data": {
            "text/plain": [
              "[1.0, 0.2, 0.33, 0.4, 1.0, 0.75, 0.8]"
            ]
          },
          "metadata": {},
          "execution_count": 334
        }
      ]
    },
    {
      "cell_type": "code",
      "source": [
        "import numpy as np\n",
        "import matplotlib.pyplot as plt\n",
        "\n",
        "# Define custom colors for each list\n",
        "colors = ['red', 'blue', 'purple', 'lightblue',] #  'orange'  #cyan\n",
        "\n",
        "# Custom labels for each list\n",
        "# custom_labels = ['SAE Model', 'LLM Model', 'LLMsp Ablated', 'SAEsp Ablated', 'Ablated SAE']\n",
        "custom_labels = ['LLM (SV #1)', 'SAE (SV #2)', 'SAE-Decomp LLM \\n (SV #4)', 'Filtered SAE \\n (SV #5)']\n",
        "\n",
        "scores = [\n",
        "    get_best_scores_fn(LLM_scores),\n",
        "    get_best_scores_fn(SAE_scores),\n",
        "    # get_best_scores_fn(LLMsp_abl_LLM_scores),\n",
        "    get_best_scores_fn(SAEsp_abl_LLM_scores),\n",
        "    get_best_scores_fn(abl_SAE_scores)\n",
        "]\n",
        "\n",
        "num_lists = len(scores)\n",
        "num_tasks = 3  # plot the first 3 tasks\n",
        "\n",
        "task_indices = np.arange(num_tasks) # position of the groups of bars\n",
        "\n",
        "bar_width = 0.15 #  width of a single bar\n",
        "\n",
        "fig, ax = plt.subplots()\n",
        "for i in range(num_lists):\n",
        "    ax.bar(task_indices + i * bar_width, [scores[i][j] for j in range(num_tasks)],\n",
        "           width=bar_width, label=custom_labels[i], color=colors[i])\n",
        "\n",
        "ax.set_ylabel('Accurary Score')\n",
        "# ax.set_title()\n",
        "ax.set_xticks(task_indices + bar_width * (num_lists - 1) / 2)\n",
        "ax.set_xticklabels([test_labels_lst[i] for i in range(num_tasks)])  # Adjusted for the first three tasks only\n",
        "\n",
        "# legend outside of the plot\n",
        "ax.legend(loc='upper left', bbox_to_anchor=(1, 1))\n",
        "\n",
        "# space out the x-ticks\n",
        "ax.set_xlim(-0.5, num_tasks - 0.5 + num_lists * bar_width)  # Adjusting x-limits to provide a better spaced view\n",
        "\n",
        "plt.show()"
      ],
      "metadata": {
        "colab": {
          "base_uri": "https://localhost:8080/",
          "height": 430
        },
        "id": "YpnGXn4ma1zv",
        "outputId": "98af02f8-3492-4b1f-e9eb-0f91f4ba7167"
      },
      "execution_count": null,
      "outputs": [
        {
          "output_type": "display_data",
          "data": {
            "text/plain": [
              "<Figure size 640x480 with 1 Axes>"
            ],
            "image/png": "[encoded data removed]"
          },
          "metadata": {}
        }
      ]
    },
    {
      "cell_type": "code",
      "source": [
        "num_lists = len(scores)\n",
        "num_tasks = 4  # plot the last 4 tasks\n",
        "\n",
        "task_indices = np.arange(num_tasks)\n",
        "\n",
        "bar_width = 0.15\n",
        "\n",
        "fig, ax = plt.subplots()\n",
        "\n",
        "for i in range(num_lists):\n",
        "    ax.bar(task_indices + i * bar_width, [scores[i][j + 3] for j in range(num_tasks)],\n",
        "           width=bar_width, label=custom_labels[i], color=colors[i])\n",
        "\n",
        "ax.set_ylabel('Accuracy Score')\n",
        "# ax.set_title('')\n",
        "ax.set_xticks(task_indices + bar_width * (num_lists - 1) / 2)\n",
        "ax.set_xticklabels([test_labels_lst_2[i + 3] for i in range(num_tasks)])  # for the last four tasks only\n",
        "\n",
        "ax.legend(loc='upper left', bbox_to_anchor=(1, 1))\n",
        "\n",
        "ax.set_xlim(-0.5, num_tasks - 0.5 + num_lists * bar_width)\n",
        "\n",
        "plt.show()"
      ],
      "metadata": {
        "colab": {
          "base_uri": "https://localhost:8080/",
          "height": 446
        },
        "id": "nW7nH6zKRiJH",
        "outputId": "fe662c03-6fdb-4c43-810f-5d945519ef18"
      },
      "execution_count": null,
      "outputs": [
        {
          "output_type": "display_data",
          "data": {
            "text/plain": [
              "<Figure size 640x480 with 1 Axes>"
            ],
            "image/png": "[encoded data removed]"
          },
          "metadata": {}
        }
      ]
    },
    {
      "cell_type": "code",
      "source": [],
      "metadata": {
        "id": "Yu8aYSX1cUhc"
      },
      "execution_count": null,
      "outputs": []
    }
  ],
  "metadata": {
    "accelerator": "GPU",
    "colab": {
      "collapsed_sections": [
        "wuXfy_TtGaey"
      ],
      "gpuType": "A100",
      "machine_shape": "hm",
      "toc_visible": true,
      "provenance": []
    },
    "kernelspec": {
      "display_name": "Python 3",
      "name": "python3"
    },
    "language_info": {
      "name": "python"
    },
    "widgets": {
      "application/vnd.jupyter.widget-state+json": {
        "00d2d1ca3b0f4ff7afff3c694be5d140": {
          "model_module": "@jupyter-widgets/controls",
          "model_module_version": "1.5.0",
          "model_name": "DescriptionStyleModel",
          "state": {
            "_model_module": "@jupyter-widgets/controls",
            "_model_module_version": "1.5.0",
            "_model_name": "DescriptionStyleModel",
            "_view_count": null,
            "_view_module": "@jupyter-widgets/base",
            "_view_module_version": "1.2.0",
            "_view_name": "StyleView",
            "description_width": ""
          }
        },
        "0117dc18a7984e8a8b8733185c1203de": {
          "model_module": "@jupyter-widgets/controls",
          "model_module_version": "1.5.0",
          "model_name": "DescriptionStyleModel",
          "state": {
            "_model_module": "@jupyter-widgets/controls",
            "_model_module_version": "1.5.0",
            "_model_name": "DescriptionStyleModel",
            "_view_count": null,
            "_view_module": "@jupyter-widgets/base",
            "_view_module_version": "1.2.0",
            "_view_name": "StyleView",
            "description_width": ""
          }
        },
        "01b447b0a4fd4545bdfa9c3468d9752d": {
          "model_module": "@jupyter-widgets/controls",
          "model_module_version": "1.5.0",
          "model_name": "HBoxModel",
          "state": {
            "_dom_classes": [],
            "_model_module": "@jupyter-widgets/controls",
            "_model_module_version": "1.5.0",
            "_model_name": "HBoxModel",
            "_view_count": null,
            "_view_module": "@jupyter-widgets/controls",
            "_view_module_version": "1.5.0",
            "_view_name": "HBoxView",
            "box_style": "",
            "children": [
              "IPY_MODEL_d119f0a12dfe4e1482fb5041092a0596",
              "IPY_MODEL_271b187ed0814af9977431679d22fcda",
              "IPY_MODEL_3cff7c21ac3643b595a76c34b83d5f60"
            ],
            "layout": "IPY_MODEL_edd2d8352a4a4a628c036d005fa175cd"
          }
        },
        "01f719e501134550938ad62c1497b6d9": {
          "model_module": "@jupyter-widgets/controls",
          "model_module_version": "1.5.0",
          "model_name": "ProgressStyleModel",
          "state": {
            "_model_module": "@jupyter-widgets/controls",
            "_model_module_version": "1.5.0",
            "_model_name": "ProgressStyleModel",
            "_view_count": null,
            "_view_module": "@jupyter-widgets/base",
            "_view_module_version": "1.2.0",
            "_view_name": "StyleView",
            "bar_color": null,
            "description_width": ""
          }
        },
        "02f78d0f9a05455283d3db279dd6aa99": {
          "model_module": "@jupyter-widgets/controls",
          "model_module_version": "1.5.0",
          "model_name": "ProgressStyleModel",
          "state": {
            "_model_module": "@jupyter-widgets/controls",
            "_model_module_version": "1.5.0",
            "_model_name": "ProgressStyleModel",
            "_view_count": null,
            "_view_module": "@jupyter-widgets/base",
            "_view_module_version": "1.2.0",
            "_view_name": "StyleView",
            "bar_color": null,
            "description_width": ""
          }
        },
        "03918660fbf34a8e95fd2c3db9942e7e": {
          "model_module": "@jupyter-widgets/base",
          "model_module_version": "1.2.0",
          "model_name": "LayoutModel",
          "state": {
            "_model_module": "@jupyter-widgets/base",
            "_model_module_version": "1.2.0",
            "_model_name": "LayoutModel",
            "_view_count": null,
            "_view_module": "@jupyter-widgets/base",
            "_view_module_version": "1.2.0",
            "_view_name": "LayoutView",
            "align_content": null,
            "align_items": null,
            "align_self": null,
            "border": null,
            "bottom": null,
            "display": null,
            "flex": null,
            "flex_flow": null,
            "grid_area": null,
            "grid_auto_columns": null,
            "grid_auto_flow": null,
            "grid_auto_rows": null,
            "grid_column": null,
            "grid_gap": null,
            "grid_row": null,
            "grid_template_areas": null,
            "grid_template_columns": null,
            "grid_template_rows": null,
            "height": null,
            "justify_content": null,
            "justify_items": null,
            "left": null,
            "margin": null,
            "max_height": null,
            "max_width": null,
            "min_height": null,
            "min_width": null,
            "object_fit": null,
            "object_position": null,
            "order": null,
            "overflow": null,
            "overflow_x": null,
            "overflow_y": null,
            "padding": null,
            "right": null,
            "top": null,
            "visibility": null,
            "width": null
          }
        },
        "059ac5ec6ee944cb8da89bacae13ff11": {
          "model_module": "@jupyter-widgets/controls",
          "model_module_version": "1.5.0",
          "model_name": "HTMLModel",
          "state": {
            "_dom_classes": [],
            "_model_module": "@jupyter-widgets/controls",
            "_model_module_version": "1.5.0",
            "_model_name": "HTMLModel",
            "_view_count": null,
            "_view_module": "@jupyter-widgets/controls",
            "_view_module_version": "1.5.0",
            "_view_name": "HTMLView",
            "description": "",
            "description_tooltip": null,
            "layout": "IPY_MODEL_e800400bfc9d4bb1954c3a695f49bcd8",
            "placeholder": "​",
            "style": "IPY_MODEL_9694fe8aac714a48b0ecaf609a4fb0ae",
            "value": " 636/636 [00:00&lt;00:00, 51.1kB/s]"
          }
        },
        "06198b0a6ba14bd1bdd12939b8523423": {
          "model_module": "@jupyter-widgets/controls",
          "model_module_version": "1.5.0",
          "model_name": "LabelModel",
          "state": {
            "_dom_classes": [],
            "_model_module": "@jupyter-widgets/controls",
            "_model_module_version": "1.5.0",
            "_model_name": "LabelModel",
            "_view_count": null,
            "_view_module": "@jupyter-widgets/controls",
            "_view_module_version": "1.5.0",
            "_view_name": "LabelView",
            "description": "",
            "description_tooltip": null,
            "layout": "IPY_MODEL_16d506c58e0344928dc9662746eaddc0",
            "placeholder": "​",
            "style": "IPY_MODEL_ec381602d4db46d28b8bfe4167c08595",
            "value": "Your token has been saved in your configured git credential helpers (store)."
          }
        },
        "0650dfe2045844a1aeb6c454b5c1861e": {
          "model_module": "@jupyter-widgets/base",
          "model_module_version": "1.2.0",
          "model_name": "LayoutModel",
          "state": {
            "_model_module": "@jupyter-widgets/base",
            "_model_module_version": "1.2.0",
            "_model_name": "LayoutModel",
            "_view_count": null,
            "_view_module": "@jupyter-widgets/base",
            "_view_module_version": "1.2.0",
            "_view_name": "LayoutView",
            "align_content": null,
            "align_items": null,
            "align_self": null,
            "border": null,
            "bottom": null,
            "display": null,
            "flex": null,
            "flex_flow": null,
            "grid_area": null,
            "grid_auto_columns": null,
            "grid_auto_flow": null,
            "grid_auto_rows": null,
            "grid_column": null,
            "grid_gap": null,
            "grid_row": null,
            "grid_template_areas": null,
            "grid_template_columns": null,
            "grid_template_rows": null,
            "height": null,
            "justify_content": null,
            "justify_items": null,
            "left": null,
            "margin": null,
            "max_height": null,
            "max_width": null,
            "min_height": null,
            "min_width": null,
            "object_fit": null,
            "object_position": null,
            "order": null,
            "overflow": null,
            "overflow_x": null,
            "overflow_y": null,
            "padding": null,
            "right": null,
            "top": null,
            "visibility": null,
            "width": null
          }
        },
        "074d1fb03cb34fb3b902302f0a1772f1": {
          "model_module": "@jupyter-widgets/base",
          "model_module_version": "1.2.0",
          "model_name": "LayoutModel",
          "state": {
            "_model_module": "@jupyter-widgets/base",
            "_model_module_version": "1.2.0",
            "_model_name": "LayoutModel",
            "_view_count": null,
            "_view_module": "@jupyter-widgets/base",
            "_view_module_version": "1.2.0",
            "_view_name": "LayoutView",
            "align_content": null,
            "align_items": null,
            "align_self": null,
            "border": null,
            "bottom": null,
            "display": null,
            "flex": null,
            "flex_flow": null,
            "grid_area": null,
            "grid_auto_columns": null,
            "grid_auto_flow": null,
            "grid_auto_rows": null,
            "grid_column": null,
            "grid_gap": null,
            "grid_row": null,
            "grid_template_areas": null,
            "grid_template_columns": null,
            "grid_template_rows": null,
            "height": null,
            "justify_content": null,
            "justify_items": null,
            "left": null,
            "margin": null,
            "max_height": null,
            "max_width": null,
            "min_height": null,
            "min_width": null,
            "object_fit": null,
            "object_position": null,
            "order": null,
            "overflow": null,
            "overflow_x": null,
            "overflow_y": null,
            "padding": null,
            "right": null,
            "top": null,
            "visibility": null,
            "width": null
          }
        },
        "09a4dc73d98b4adf9ab9320100b58f41": {
          "model_module": "@jupyter-widgets/base",
          "model_module_version": "1.2.0",
          "model_name": "LayoutModel",
          "state": {
            "_model_module": "@jupyter-widgets/base",
            "_model_module_version": "1.2.0",
            "_model_name": "LayoutModel",
            "_view_count": null,
            "_view_module": "@jupyter-widgets/base",
            "_view_module_version": "1.2.0",
            "_view_name": "LayoutView",
            "align_content": null,
            "align_items": null,
            "align_self": null,
            "border": null,
            "bottom": null,
            "display": null,
            "flex": null,
            "flex_flow": null,
            "grid_area": null,
            "grid_auto_columns": null,
            "grid_auto_flow": null,
            "grid_auto_rows": null,
            "grid_column": null,
            "grid_gap": null,
            "grid_row": null,
            "grid_template_areas": null,
            "grid_template_columns": null,
            "grid_template_rows": null,
            "height": null,
            "justify_content": null,
            "justify_items": null,
            "left": null,
            "margin": null,
            "max_height": null,
            "max_width": null,
            "min_height": null,
            "min_width": null,
            "object_fit": null,
            "object_position": null,
            "order": null,
            "overflow": null,
            "overflow_x": null,
            "overflow_y": null,
            "padding": null,
            "right": null,
            "top": null,
            "visibility": null,
            "width": null
          }
        },
        "0aa9b3c467464471b40dcd96b7e5d515": {
          "model_module": "@jupyter-widgets/base",
          "model_module_version": "1.2.0",
          "model_name": "LayoutModel",
          "state": {
            "_model_module": "@jupyter-widgets/base",
            "_model_module_version": "1.2.0",
            "_model_name": "LayoutModel",
            "_view_count": null,
            "_view_module": "@jupyter-widgets/base",
            "_view_module_version": "1.2.0",
            "_view_name": "LayoutView",
            "align_content": null,
            "align_items": null,
            "align_self": null,
            "border": null,
            "bottom": null,
            "display": null,
            "flex": null,
            "flex_flow": null,
            "grid_area": null,
            "grid_auto_columns": null,
            "grid_auto_flow": null,
            "grid_auto_rows": null,
            "grid_column": null,
            "grid_gap": null,
            "grid_row": null,
            "grid_template_areas": null,
            "grid_template_columns": null,
            "grid_template_rows": null,
            "height": null,
            "justify_content": null,
            "justify_items": null,
            "left": null,
            "margin": null,
            "max_height": null,
            "max_width": null,
            "min_height": null,
            "min_width": null,
            "object_fit": null,
            "object_position": null,
            "order": null,
            "overflow": null,
            "overflow_x": null,
            "overflow_y": null,
            "padding": null,
            "right": null,
            "top": null,
            "visibility": null,
            "width": null
          }
        },
        "0b1aaa5647cb48058f4aec071651f410": {
          "model_module": "@jupyter-widgets/controls",
          "model_module_version": "1.5.0",
          "model_name": "LabelModel",
          "state": {
            "_dom_classes": [],
            "_model_module": "@jupyter-widgets/controls",
            "_model_module_version": "1.5.0",
            "_model_name": "LabelModel",
            "_view_count": null,
            "_view_module": "@jupyter-widgets/controls",
            "_view_module_version": "1.5.0",
            "_view_name": "LabelView",
            "description": "",
            "description_tooltip": null,
            "layout": "IPY_MODEL_09a4dc73d98b4adf9ab9320100b58f41",
            "placeholder": "​",
            "style": "IPY_MODEL_cf747785209545d0ac367bca52441c79",
            "value": "Token is valid (permission: write)."
          }
        },
        "0c79f0c27df847aeab720c1683a298b4": {
          "model_module": "@jupyter-widgets/controls",
          "model_module_version": "1.5.0",
          "model_name": "FloatProgressModel",
          "state": {
            "_dom_classes": [],
            "_model_module": "@jupyter-widgets/controls",
            "_model_module_version": "1.5.0",
            "_model_name": "FloatProgressModel",
            "_view_count": null,
            "_view_module": "@jupyter-widgets/controls",
            "_view_module_version": "1.5.0",
            "_view_name": "ProgressView",
            "bar_style": "success",
            "description": "",
            "description_tooltip": null,
            "layout": "IPY_MODEL_6c959f72c49b4431911c61e3b7c26ade",
            "max": 818,
            "min": 0,
            "orientation": "horizontal",
            "style": "IPY_MODEL_02f78d0f9a05455283d3db279dd6aa99",
            "value": 818
          }
        },
        "0dd8a9b348cc4dacb6b5cf75d1c7e10b": {
          "model_module": "@jupyter-widgets/controls",
          "model_module_version": "1.5.0",
          "model_name": "DescriptionStyleModel",
          "state": {
            "_model_module": "@jupyter-widgets/controls",
            "_model_module_version": "1.5.0",
            "_model_name": "DescriptionStyleModel",
            "_view_count": null,
            "_view_module": "@jupyter-widgets/base",
            "_view_module_version": "1.2.0",
            "_view_name": "StyleView",
            "description_width": ""
          }
        },
        "124bcdddebfb4b76a00b29b7bba1b6b7": {
          "model_module": "@jupyter-widgets/controls",
          "model_module_version": "1.5.0",
          "model_name": "HTMLModel",
          "state": {
            "_dom_classes": [],
            "_model_module": "@jupyter-widgets/controls",
            "_model_module_version": "1.5.0",
            "_model_name": "HTMLModel",
            "_view_count": null,
            "_view_module": "@jupyter-widgets/controls",
            "_view_module_version": "1.5.0",
            "_view_name": "HTMLView",
            "description": "",
            "description_tooltip": null,
            "layout": "IPY_MODEL_5b5e44b62d224d1987a0f78d8a9b8f78",
            "placeholder": "​",
            "style": "IPY_MODEL_2e03d7fe5cae4eae9b610cc7730de0da",
            "value": "tokenizer.model: 100%"
          }
        },
        "125fabc2bc574f1082fb2c361ec9cc4d": {
          "model_module": "@jupyter-widgets/controls",
          "model_module_version": "1.5.0",
          "model_name": "DescriptionStyleModel",
          "state": {
            "_model_module": "@jupyter-widgets/controls",
            "_model_module_version": "1.5.0",
            "_model_name": "DescriptionStyleModel",
            "_view_count": null,
            "_view_module": "@jupyter-widgets/base",
            "_view_module_version": "1.2.0",
            "_view_name": "StyleView",
            "description_width": ""
          }
        },
        "16d506c58e0344928dc9662746eaddc0": {
          "model_module": "@jupyter-widgets/base",
          "model_module_version": "1.2.0",
          "model_name": "LayoutModel",
          "state": {
            "_model_module": "@jupyter-widgets/base",
            "_model_module_version": "1.2.0",
            "_model_name": "LayoutModel",
            "_view_count": null,
            "_view_module": "@jupyter-widgets/base",
            "_view_module_version": "1.2.0",
            "_view_name": "LayoutView",
            "align_content": null,
            "align_items": null,
            "align_self": null,
            "border": null,
            "bottom": null,
            "display": null,
            "flex": null,
            "flex_flow": null,
            "grid_area": null,
            "grid_auto_columns": null,
            "grid_auto_flow": null,
            "grid_auto_rows": null,
            "grid_column": null,
            "grid_gap": null,
            "grid_row": null,
            "grid_template_areas": null,
            "grid_template_columns": null,
            "grid_template_rows": null,
            "height": null,
            "justify_content": null,
            "justify_items": null,
            "left": null,
            "margin": null,
            "max_height": null,
            "max_width": null,
            "min_height": null,
            "min_width": null,
            "object_fit": null,
            "object_position": null,
            "order": null,
            "overflow": null,
            "overflow_x": null,
            "overflow_y": null,
            "padding": null,
            "right": null,
            "top": null,
            "visibility": null,
            "width": null
          }
        },
        "17241fed111a4f08a543264d2d926c69": {
          "model_module": "@jupyter-widgets/controls",
          "model_module_version": "1.5.0",
          "model_name": "HTMLModel",
          "state": {
            "_dom_classes": [],
            "_model_module": "@jupyter-widgets/controls",
            "_model_module_version": "1.5.0",
            "_model_name": "HTMLModel",
            "_view_count": null,
            "_view_module": "@jupyter-widgets/controls",
            "_view_module_version": "1.5.0",
            "_view_name": "HTMLView",
            "description": "",
            "description_tooltip": null,
            "layout": "IPY_MODEL_ef7ba7e63c8741729b9786be90b0f29b",
            "placeholder": "​",
            "style": "IPY_MODEL_52bdc7a954db48f88c72e07248b89e5e",
            "value": "Downloading shards: 100%"
          }
        },
        "17812d41655749adb74210bd254c8d9e": {
          "model_module": "@jupyter-widgets/controls",
          "model_module_version": "1.5.0",
          "model_name": "DescriptionStyleModel",
          "state": {
            "_model_module": "@jupyter-widgets/controls",
            "_model_module_version": "1.5.0",
            "_model_name": "DescriptionStyleModel",
            "_view_count": null,
            "_view_module": "@jupyter-widgets/base",
            "_view_module_version": "1.2.0",
            "_view_name": "StyleView",
            "description_width": ""
          }
        },
        "1a2475d0a6aa4f669c6b7ef4697fd0f0": {
          "model_module": "@jupyter-widgets/controls",
          "model_module_version": "1.5.0",
          "model_name": "ProgressStyleModel",
          "state": {
            "_model_module": "@jupyter-widgets/controls",
            "_model_module_version": "1.5.0",
            "_model_name": "ProgressStyleModel",
            "_view_count": null,
            "_view_module": "@jupyter-widgets/base",
            "_view_module_version": "1.2.0",
            "_view_name": "StyleView",
            "bar_color": null,
            "description_width": ""
          }
        },
        "1aa2cc2001014fc18c8a8d430a1929d4": {
          "model_module": "@jupyter-widgets/controls",
          "model_module_version": "1.5.0",
          "model_name": "DescriptionStyleModel",
          "state": {
            "_model_module": "@jupyter-widgets/controls",
            "_model_module_version": "1.5.0",
            "_model_name": "DescriptionStyleModel",
            "_view_count": null,
            "_view_module": "@jupyter-widgets/base",
            "_view_module_version": "1.2.0",
            "_view_name": "StyleView",
            "description_width": ""
          }
        },
        "24caa74645734c17858f1ddd9fa726ed": {
          "model_module": "@jupyter-widgets/controls",
          "model_module_version": "1.5.0",
          "model_name": "HTMLModel",
          "state": {
            "_dom_classes": [],
            "_model_module": "@jupyter-widgets/controls",
            "_model_module_version": "1.5.0",
            "_model_name": "HTMLModel",
            "_view_count": null,
            "_view_module": "@jupyter-widgets/controls",
            "_view_module_version": "1.5.0",
            "_view_name": "HTMLView",
            "description": "",
            "description_tooltip": null,
            "layout": "IPY_MODEL_4b2e594f659c46e8be0bfe3b86295544",
            "placeholder": "​",
            "style": "IPY_MODEL_00d2d1ca3b0f4ff7afff3c694be5d140",
            "value": " 818/818 [00:00&lt;00:00, 70.8kB/s]"
          }
        },
        "264a373d87094697877acfc47c7dc95c": {
          "model_module": "@jupyter-widgets/controls",
          "model_module_version": "1.5.0",
          "model_name": "HBoxModel",
          "state": {
            "_dom_classes": [],
            "_model_module": "@jupyter-widgets/controls",
            "_model_module_version": "1.5.0",
            "_model_name": "HBoxModel",
            "_view_count": null,
            "_view_module": "@jupyter-widgets/controls",
            "_view_module_version": "1.5.0",
            "_view_name": "HBoxView",
            "box_style": "",
            "children": [
              "IPY_MODEL_fa4a9b9174a3405b9c5a18230aff50f1",
              "IPY_MODEL_702b602b334644979687d83c7cdb9ac3",
              "IPY_MODEL_b1d30d7385034c42a7251f234397a66d"
            ],
            "layout": "IPY_MODEL_de8fc8e2b7ca4de0ad20d61ad3d9a7d7"
          }
        },
        "26f5482622b2491bb955c87e88ef5d44": {
          "model_module": "@jupyter-widgets/controls",
          "model_module_version": "1.5.0",
          "model_name": "FloatProgressModel",
          "state": {
            "_dom_classes": [],
            "_model_module": "@jupyter-widgets/controls",
            "_model_module_version": "1.5.0",
            "_model_name": "FloatProgressModel",
            "_view_count": null,
            "_view_module": "@jupyter-widgets/controls",
            "_view_module_version": "1.5.0",
            "_view_name": "ProgressView",
            "bar_style": "success",
            "description": "",
            "description_tooltip": null,
            "layout": "IPY_MODEL_e5db28eb31c54dd284692a61ffdf9eeb",
            "max": 3,
            "min": 0,
            "orientation": "horizontal",
            "style": "IPY_MODEL_7961b920da3d4eafbbc728d83887b3a8",
            "value": 3
          }
        },
        "271b187ed0814af9977431679d22fcda": {
          "model_module": "@jupyter-widgets/controls",
          "model_module_version": "1.5.0",
          "model_name": "FloatProgressModel",
          "state": {
            "_dom_classes": [],
            "_model_module": "@jupyter-widgets/controls",
            "_model_module_version": "1.5.0",
            "_model_name": "FloatProgressModel",
            "_view_count": null,
            "_view_module": "@jupyter-widgets/controls",
            "_view_module_version": "1.5.0",
            "_view_name": "ProgressView",
            "bar_style": "success",
            "description": "",
            "description_tooltip": null,
            "layout": "IPY_MODEL_cd11c24de3b14f85b74329738d76ad40",
            "max": 302131416,
            "min": 0,
            "orientation": "horizontal",
            "style": "IPY_MODEL_93d60a8d383c4a04bb16e50048e92ac8",
            "value": 302131416
          }
        },
        "285ee87935a14cf4b0a1429066cd9a22": {
          "model_module": "@jupyter-widgets/controls",
          "model_module_version": "1.5.0",
          "model_name": "FloatProgressModel",
          "state": {
            "_dom_classes": [],
            "_model_module": "@jupyter-widgets/controls",
            "_model_module_version": "1.5.0",
            "_model_name": "FloatProgressModel",
            "_view_count": null,
            "_view_module": "@jupyter-widgets/controls",
            "_view_module_version": "1.5.0",
            "_view_name": "ProgressView",
            "bar_style": "success",
            "description": "",
            "description_tooltip": null,
            "layout": "IPY_MODEL_5e830a7257b747338c68484592a0f07d",
            "max": 46379,
            "min": 0,
            "orientation": "horizontal",
            "style": "IPY_MODEL_b78211ea3d704175a9073ebeb6a97b67",
            "value": 46379
          }
        },
        "29e6cc8e3b51421aaf629a008c7eb03d": {
          "model_module": "@jupyter-widgets/controls",
          "model_module_version": "1.5.0",
          "model_name": "FloatProgressModel",
          "state": {
            "_dom_classes": [],
            "_model_module": "@jupyter-widgets/controls",
            "_model_module_version": "1.5.0",
            "_model_name": "FloatProgressModel",
            "_view_count": null,
            "_view_module": "@jupyter-widgets/controls",
            "_view_module_version": "1.5.0",
            "_view_name": "ProgressView",
            "bar_style": "success",
            "description": "",
            "description_tooltip": null,
            "layout": "IPY_MODEL_0650dfe2045844a1aeb6c454b5c1861e",
            "max": 4241003,
            "min": 0,
            "orientation": "horizontal",
            "style": "IPY_MODEL_d79ae37db916446b91d125c2ac090915",
            "value": 4241003
          }
        },
        "2d43e160a65049f398b3f332ffd000ba": {
          "model_module": "@jupyter-widgets/controls",
          "model_module_version": "1.5.0",
          "model_name": "DescriptionStyleModel",
          "state": {
            "_model_module": "@jupyter-widgets/controls",
            "_model_module_version": "1.5.0",
            "_model_name": "DescriptionStyleModel",
            "_view_count": null,
            "_view_module": "@jupyter-widgets/base",
            "_view_module_version": "1.2.0",
            "_view_name": "StyleView",
            "description_width": ""
          }
        },
        "2e03d7fe5cae4eae9b610cc7730de0da": {
          "model_module": "@jupyter-widgets/controls",
          "model_module_version": "1.5.0",
          "model_name": "DescriptionStyleModel",
          "state": {
            "_model_module": "@jupyter-widgets/controls",
            "_model_module_version": "1.5.0",
            "_model_name": "DescriptionStyleModel",
            "_view_count": null,
            "_view_module": "@jupyter-widgets/base",
            "_view_module_version": "1.2.0",
            "_view_name": "StyleView",
            "description_width": ""
          }
        },
        "303807d67c204ed88705394795c3bf26": {
          "model_module": "@jupyter-widgets/controls",
          "model_module_version": "1.5.0",
          "model_name": "HTMLModel",
          "state": {
            "_dom_classes": [],
            "_model_module": "@jupyter-widgets/controls",
            "_model_module_version": "1.5.0",
            "_model_name": "HTMLModel",
            "_view_count": null,
            "_view_module": "@jupyter-widgets/controls",
            "_view_module_version": "1.5.0",
            "_view_name": "HTMLView",
            "description": "",
            "description_tooltip": null,
            "layout": "IPY_MODEL_fc69d3cf0e7141058d9fdb5771376148",
            "placeholder": "​",
            "style": "IPY_MODEL_9829c2c0aeb544ff8bd738b57848ae5e",
            "value": "model.safetensors.index.json: 100%"
          }
        },
        "304bd96e1177424b96eb0576ce62036d": {
          "model_module": "@jupyter-widgets/controls",
          "model_module_version": "1.5.0",
          "model_name": "FloatProgressModel",
          "state": {
            "_dom_classes": [],
            "_model_module": "@jupyter-widgets/controls",
            "_model_module_version": "1.5.0",
            "_model_name": "FloatProgressModel",
            "_view_count": null,
            "_view_module": "@jupyter-widgets/controls",
            "_view_module_version": "1.5.0",
            "_view_name": "ProgressView",
            "bar_style": "success",
            "description": "",
            "description_tooltip": null,
            "layout": "IPY_MODEL_45462b4e872f4e9596f0f9ee6adede68",
            "max": 3,
            "min": 0,
            "orientation": "horizontal",
            "style": "IPY_MODEL_b145f6a5cf734edaacc6519248232aff",
            "value": 3
          }
        },
        "31c601f903234dc39facfbeb49af63c3": {
          "model_module": "@jupyter-widgets/base",
          "model_module_version": "1.2.0",
          "model_name": "LayoutModel",
          "state": {
            "_model_module": "@jupyter-widgets/base",
            "_model_module_version": "1.2.0",
            "_model_name": "LayoutModel",
            "_view_count": null,
            "_view_module": "@jupyter-widgets/base",
            "_view_module_version": "1.2.0",
            "_view_name": "LayoutView",
            "align_content": null,
            "align_items": null,
            "align_self": null,
            "border": null,
            "bottom": null,
            "display": null,
            "flex": null,
            "flex_flow": null,
            "grid_area": null,
            "grid_auto_columns": null,
            "grid_auto_flow": null,
            "grid_auto_rows": null,
            "grid_column": null,
            "grid_gap": null,
            "grid_row": null,
            "grid_template_areas": null,
            "grid_template_columns": null,
            "grid_template_rows": null,
            "height": null,
            "justify_content": null,
            "justify_items": null,
            "left": null,
            "margin": null,
            "max_height": null,
            "max_width": null,
            "min_height": null,
            "min_width": null,
            "object_fit": null,
            "object_position": null,
            "order": null,
            "overflow": null,
            "overflow_x": null,
            "overflow_y": null,
            "padding": null,
            "right": null,
            "top": null,
            "visibility": null,
            "width": null
          }
        },
        "3295b9f1a0fb4ca59870d1ae3494e1d4": {
          "model_module": "@jupyter-widgets/controls",
          "model_module_version": "1.5.0",
          "model_name": "VBoxModel",
          "state": {
            "_dom_classes": [],
            "_model_module": "@jupyter-widgets/controls",
            "_model_module_version": "1.5.0",
            "_model_name": "VBoxModel",
            "_view_count": null,
            "_view_module": "@jupyter-widgets/controls",
            "_view_module_version": "1.5.0",
            "_view_name": "VBoxView",
            "box_style": "",
            "children": [
              "IPY_MODEL_0b1aaa5647cb48058f4aec071651f410",
              "IPY_MODEL_06198b0a6ba14bd1bdd12939b8523423",
              "IPY_MODEL_582df7ec5236432c9cc8c90961462495",
              "IPY_MODEL_c5c2519540dd475fb9163116ac5113f6"
            ],
            "layout": "IPY_MODEL_95ed8057fca2414f92aacc0c80c533d8"
          }
        },
        "32972ca4f9df471c81c53d79e862ce66": {
          "model_module": "@jupyter-widgets/controls",
          "model_module_version": "1.5.0",
          "model_name": "HBoxModel",
          "state": {
            "_dom_classes": [],
            "_model_module": "@jupyter-widgets/controls",
            "_model_module_version": "1.5.0",
            "_model_name": "HBoxModel",
            "_view_count": null,
            "_view_module": "@jupyter-widgets/controls",
            "_view_module_version": "1.5.0",
            "_view_name": "HBoxView",
            "box_style": "",
            "children": [
              "IPY_MODEL_a88e87c11d94460c8336337165b9ddee",
              "IPY_MODEL_5666a47da2c6458785c15a8db8061713",
              "IPY_MODEL_cc29ec332857425fbc4f9164a4be0cd5"
            ],
            "layout": "IPY_MODEL_50e50b0fb3f241a88e8eadabafbdd9c4"
          }
        },
        "336144312ae24ed3824e81793e100015": {
          "model_module": "@jupyter-widgets/controls",
          "model_module_version": "1.5.0",
          "model_name": "DescriptionStyleModel",
          "state": {
            "_model_module": "@jupyter-widgets/controls",
            "_model_module_version": "1.5.0",
            "_model_name": "DescriptionStyleModel",
            "_view_count": null,
            "_view_module": "@jupyter-widgets/base",
            "_view_module_version": "1.2.0",
            "_view_name": "StyleView",
            "description_width": ""
          }
        },
        "3430f5c73c19453e873546a336080dc4": {
          "model_module": "@jupyter-widgets/controls",
          "model_module_version": "1.5.0",
          "model_name": "DescriptionStyleModel",
          "state": {
            "_model_module": "@jupyter-widgets/controls",
            "_model_module_version": "1.5.0",
            "_model_name": "DescriptionStyleModel",
            "_view_count": null,
            "_view_module": "@jupyter-widgets/base",
            "_view_module_version": "1.2.0",
            "_view_name": "StyleView",
            "description_width": ""
          }
        },
        "37c68cf6ebd746709fb07573fca29800": {
          "model_module": "@jupyter-widgets/controls",
          "model_module_version": "1.5.0",
          "model_name": "HTMLModel",
          "state": {
            "_dom_classes": [],
            "_model_module": "@jupyter-widgets/controls",
            "_model_module_version": "1.5.0",
            "_model_name": "HTMLModel",
            "_view_count": null,
            "_view_module": "@jupyter-widgets/controls",
            "_view_module_version": "1.5.0",
            "_view_name": "HTMLView",
            "description": "",
            "description_tooltip": null,
            "layout": "IPY_MODEL_5e6032df648a433db39b4dcfd2bc66f8",
            "placeholder": "​",
            "style": "IPY_MODEL_7e497e4620164dd288e029eb086a49a2",
            "value": " 3/3 [00:03&lt;00:00,  1.02it/s]"
          }
        },
        "3830b09da8e34fd7a6c5747297797b4e": {
          "model_module": "@jupyter-widgets/controls",
          "model_module_version": "1.5.0",
          "model_name": "HTMLModel",
          "state": {
            "_dom_classes": [],
            "_model_module": "@jupyter-widgets/controls",
            "_model_module_version": "1.5.0",
            "_model_name": "HTMLModel",
            "_view_count": null,
            "_view_module": "@jupyter-widgets/controls",
            "_view_module_version": "1.5.0",
            "_view_name": "HTMLView",
            "description": "",
            "description_tooltip": null,
            "layout": "IPY_MODEL_9a54461837bd4ca8910e8be9e0d9355a",
            "placeholder": "​",
            "style": "IPY_MODEL_9d958f5c46da4b288b336bb793ffe546",
            "value": "special_tokens_map.json: 100%"
          }
        },
        "3bedc904ead34ff0832429641eed3baf": {
          "model_module": "@jupyter-widgets/base",
          "model_module_version": "1.2.0",
          "model_name": "LayoutModel",
          "state": {
            "_model_module": "@jupyter-widgets/base",
            "_model_module_version": "1.2.0",
            "_model_name": "LayoutModel",
            "_view_count": null,
            "_view_module": "@jupyter-widgets/base",
            "_view_module_version": "1.2.0",
            "_view_name": "LayoutView",
            "align_content": null,
            "align_items": null,
            "align_self": null,
            "border": null,
            "bottom": null,
            "display": null,
            "flex": null,
            "flex_flow": null,
            "grid_area": null,
            "grid_auto_columns": null,
            "grid_auto_flow": null,
            "grid_auto_rows": null,
            "grid_column": null,
            "grid_gap": null,
            "grid_row": null,
            "grid_template_areas": null,
            "grid_template_columns": null,
            "grid_template_rows": null,
            "height": null,
            "justify_content": null,
            "justify_items": null,
            "left": null,
            "margin": null,
            "max_height": null,
            "max_width": null,
            "min_height": null,
            "min_width": null,
            "object_fit": null,
            "object_position": null,
            "order": null,
            "overflow": null,
            "overflow_x": null,
            "overflow_y": null,
            "padding": null,
            "right": null,
            "top": null,
            "visibility": null,
            "width": null
          }
        },
        "3c9fbcc92699461ab053dd89c67f41bf": {
          "model_module": "@jupyter-widgets/controls",
          "model_module_version": "1.5.0",
          "model_name": "DescriptionStyleModel",
          "state": {
            "_model_module": "@jupyter-widgets/controls",
            "_model_module_version": "1.5.0",
            "_model_name": "DescriptionStyleModel",
            "_view_count": null,
            "_view_module": "@jupyter-widgets/base",
            "_view_module_version": "1.2.0",
            "_view_name": "StyleView",
            "description_width": ""
          }
        },
        "3cc7903731c4488a816675ab6e761c28": {
          "model_module": "@jupyter-widgets/base",
          "model_module_version": "1.2.0",
          "model_name": "LayoutModel",
          "state": {
            "_model_module": "@jupyter-widgets/base",
            "_model_module_version": "1.2.0",
            "_model_name": "LayoutModel",
            "_view_count": null,
            "_view_module": "@jupyter-widgets/base",
            "_view_module_version": "1.2.0",
            "_view_name": "LayoutView",
            "align_content": null,
            "align_items": null,
            "align_self": null,
            "border": null,
            "bottom": null,
            "display": null,
            "flex": null,
            "flex_flow": null,
            "grid_area": null,
            "grid_auto_columns": null,
            "grid_auto_flow": null,
            "grid_auto_rows": null,
            "grid_column": null,
            "grid_gap": null,
            "grid_row": null,
            "grid_template_areas": null,
            "grid_template_columns": null,
            "grid_template_rows": null,
            "height": null,
            "justify_content": null,
            "justify_items": null,
            "left": null,
            "margin": null,
            "max_height": null,
            "max_width": null,
            "min_height": null,
            "min_width": null,
            "object_fit": null,
            "object_position": null,
            "order": null,
            "overflow": null,
            "overflow_x": null,
            "overflow_y": null,
            "padding": null,
            "right": null,
            "top": null,
            "visibility": null,
            "width": null
          }
        },
        "3cff7c21ac3643b595a76c34b83d5f60": {
          "model_module": "@jupyter-widgets/controls",
          "model_module_version": "1.5.0",
          "model_name": "HTMLModel",
          "state": {
            "_dom_classes": [],
            "_model_module": "@jupyter-widgets/controls",
            "_model_module_version": "1.5.0",
            "_model_name": "HTMLModel",
            "_view_count": null,
            "_view_module": "@jupyter-widgets/controls",
            "_view_module_version": "1.5.0",
            "_view_name": "HTMLView",
            "description": "",
            "description_tooltip": null,
            "layout": "IPY_MODEL_6f22c05e59734d9180b13125de19474e",
            "placeholder": "​",
            "style": "IPY_MODEL_6ec84e9118084e348000a31cccb3affc",
            "value": " 302M/302M [00:01&lt;00:00, 273MB/s]"
          }
        },
        "427e2d06da6a4395b249ef50305671a0": {
          "model_module": "@jupyter-widgets/controls",
          "model_module_version": "1.5.0",
          "model_name": "FloatProgressModel",
          "state": {
            "_dom_classes": [],
            "_model_module": "@jupyter-widgets/controls",
            "_model_module_version": "1.5.0",
            "_model_name": "FloatProgressModel",
            "_view_count": null,
            "_view_module": "@jupyter-widgets/controls",
            "_view_module_version": "1.5.0",
            "_view_name": "ProgressView",
            "bar_style": "success",
            "description": "",
            "description_tooltip": null,
            "layout": "IPY_MODEL_c1ee5697bf824fe8aaf4a874fb1b7876",
            "max": 4983443424,
            "min": 0,
            "orientation": "horizontal",
            "style": "IPY_MODEL_1a2475d0a6aa4f669c6b7ef4697fd0f0",
            "value": 4983443424
          }
        },
        "45462b4e872f4e9596f0f9ee6adede68": {
          "model_module": "@jupyter-widgets/base",
          "model_module_version": "1.2.0",
          "model_name": "LayoutModel",
          "state": {
            "_model_module": "@jupyter-widgets/base",
            "_model_module_version": "1.2.0",
            "_model_name": "LayoutModel",
            "_view_count": null,
            "_view_module": "@jupyter-widgets/base",
            "_view_module_version": "1.2.0",
            "_view_name": "LayoutView",
            "align_content": null,
            "align_items": null,
            "align_self": null,
            "border": null,
            "bottom": null,
            "display": null,
            "flex": null,
            "flex_flow": null,
            "grid_area": null,
            "grid_auto_columns": null,
            "grid_auto_flow": null,
            "grid_auto_rows": null,
            "grid_column": null,
            "grid_gap": null,
            "grid_row": null,
            "grid_template_areas": null,
            "grid_template_columns": null,
            "grid_template_rows": null,
            "height": null,
            "justify_content": null,
            "justify_items": null,
            "left": null,
            "margin": null,
            "max_height": null,
            "max_width": null,
            "min_height": null,
            "min_width": null,
            "object_fit": null,
            "object_position": null,
            "order": null,
            "overflow": null,
            "overflow_x": null,
            "overflow_y": null,
            "padding": null,
            "right": null,
            "top": null,
            "visibility": null,
            "width": null
          }
        },
        "4a9db3c6a74c4113a9d06c3b7622a142": {
          "model_module": "@jupyter-widgets/controls",
          "model_module_version": "1.5.0",
          "model_name": "HBoxModel",
          "state": {
            "_dom_classes": [],
            "_model_module": "@jupyter-widgets/controls",
            "_model_module_version": "1.5.0",
            "_model_name": "HBoxModel",
            "_view_count": null,
            "_view_module": "@jupyter-widgets/controls",
            "_view_module_version": "1.5.0",
            "_view_name": "HBoxView",
            "box_style": "",
            "children": [
              "IPY_MODEL_d3d334018e754c3a9c3de2ef33c56c3e",
              "IPY_MODEL_0c79f0c27df847aeab720c1683a298b4",
              "IPY_MODEL_24caa74645734c17858f1ddd9fa726ed"
            ],
            "layout": "IPY_MODEL_e9c21325b7a14171a8d293c2757526a7"
          }
        },
        "4b2e594f659c46e8be0bfe3b86295544": {
          "model_module": "@jupyter-widgets/base",
          "model_module_version": "1.2.0",
          "model_name": "LayoutModel",
          "state": {
            "_model_module": "@jupyter-widgets/base",
            "_model_module_version": "1.2.0",
            "_model_name": "LayoutModel",
            "_view_count": null,
            "_view_module": "@jupyter-widgets/base",
            "_view_module_version": "1.2.0",
            "_view_name": "LayoutView",
            "align_content": null,
            "align_items": null,
            "align_self": null,
            "border": null,
            "bottom": null,
            "display": null,
            "flex": null,
            "flex_flow": null,
            "grid_area": null,
            "grid_auto_columns": null,
            "grid_auto_flow": null,
            "grid_auto_rows": null,
            "grid_column": null,
            "grid_gap": null,
            "grid_row": null,
            "grid_template_areas": null,
            "grid_template_columns": null,
            "grid_template_rows": null,
            "height": null,
            "justify_content": null,
            "justify_items": null,
            "left": null,
            "margin": null,
            "max_height": null,
            "max_width": null,
            "min_height": null,
            "min_width": null,
            "object_fit": null,
            "object_position": null,
            "order": null,
            "overflow": null,
            "overflow_x": null,
            "overflow_y": null,
            "padding": null,
            "right": null,
            "top": null,
            "visibility": null,
            "width": null
          }
        },
        "4b98854ce7e24f788e1c8c4dfdafcea3": {
          "model_module": "@jupyter-widgets/controls",
          "model_module_version": "1.5.0",
          "model_name": "HTMLModel",
          "state": {
            "_dom_classes": [],
            "_model_module": "@jupyter-widgets/controls",
            "_model_module_version": "1.5.0",
            "_model_name": "HTMLModel",
            "_view_count": null,
            "_view_module": "@jupyter-widgets/controls",
            "_view_module_version": "1.5.0",
            "_view_name": "HTMLView",
            "description": "",
            "description_tooltip": null,
            "layout": "IPY_MODEL_9237f4357efe4eabb78162f70e9a277a",
            "placeholder": "​",
            "style": "IPY_MODEL_f154c1cd8c864ddf933d67c168acd06e",
            "value": " 4.24M/4.24M [00:00&lt;00:00, 16.8MB/s]"
          }
        },
        "4bc8b22d44af44e1ae6e16dc38757c0c": {
          "model_module": "@jupyter-widgets/controls",
          "model_module_version": "1.5.0",
          "model_name": "ProgressStyleModel",
          "state": {
            "_model_module": "@jupyter-widgets/controls",
            "_model_module_version": "1.5.0",
            "_model_name": "ProgressStyleModel",
            "_view_count": null,
            "_view_module": "@jupyter-widgets/base",
            "_view_module_version": "1.2.0",
            "_view_name": "StyleView",
            "bar_color": null,
            "description_width": ""
          }
        },
        "4e1d456147164014a1a67028191d4caa": {
          "model_module": "@jupyter-widgets/controls",
          "model_module_version": "1.5.0",
          "model_name": "HBoxModel",
          "state": {
            "_dom_classes": [],
            "_model_module": "@jupyter-widgets/controls",
            "_model_module_version": "1.5.0",
            "_model_name": "HBoxModel",
            "_view_count": null,
            "_view_module": "@jupyter-widgets/controls",
            "_view_module_version": "1.5.0",
            "_view_name": "HBoxView",
            "box_style": "",
            "children": [
              "IPY_MODEL_73bdf270636044089903c0576ca8bf74",
              "IPY_MODEL_304bd96e1177424b96eb0576ce62036d",
              "IPY_MODEL_37c68cf6ebd746709fb07573fca29800"
            ],
            "layout": "IPY_MODEL_7759e66993fd4e91a2b177181719feb2"
          }
        },
        "4f4c03e4435049908bcc231a724e5834": {
          "model_module": "@jupyter-widgets/base",
          "model_module_version": "1.2.0",
          "model_name": "LayoutModel",
          "state": {
            "_model_module": "@jupyter-widgets/base",
            "_model_module_version": "1.2.0",
            "_model_name": "LayoutModel",
            "_view_count": null,
            "_view_module": "@jupyter-widgets/base",
            "_view_module_version": "1.2.0",
            "_view_name": "LayoutView",
            "align_content": null,
            "align_items": null,
            "align_self": null,
            "border": null,
            "bottom": null,
            "display": null,
            "flex": null,
            "flex_flow": null,
            "grid_area": null,
            "grid_auto_columns": null,
            "grid_auto_flow": null,
            "grid_auto_rows": null,
            "grid_column": null,
            "grid_gap": null,
            "grid_row": null,
            "grid_template_areas": null,
            "grid_template_columns": null,
            "grid_template_rows": null,
            "height": null,
            "justify_content": null,
            "justify_items": null,
            "left": null,
            "margin": null,
            "max_height": null,
            "max_width": null,
            "min_height": null,
            "min_width": null,
            "object_fit": null,
            "object_position": null,
            "order": null,
            "overflow": null,
            "overflow_x": null,
            "overflow_y": null,
            "padding": null,
            "right": null,
            "top": null,
            "visibility": null,
            "width": null
          }
        },
        "50e50b0fb3f241a88e8eadabafbdd9c4": {
          "model_module": "@jupyter-widgets/base",
          "model_module_version": "1.2.0",
          "model_name": "LayoutModel",
          "state": {
            "_model_module": "@jupyter-widgets/base",
            "_model_module_version": "1.2.0",
            "_model_name": "LayoutModel",
            "_view_count": null,
            "_view_module": "@jupyter-widgets/base",
            "_view_module_version": "1.2.0",
            "_view_name": "LayoutView",
            "align_content": null,
            "align_items": null,
            "align_self": null,
            "border": null,
            "bottom": null,
            "display": null,
            "flex": null,
            "flex_flow": null,
            "grid_area": null,
            "grid_auto_columns": null,
            "grid_auto_flow": null,
            "grid_auto_rows": null,
            "grid_column": null,
            "grid_gap": null,
            "grid_row": null,
            "grid_template_areas": null,
            "grid_template_columns": null,
            "grid_template_rows": null,
            "height": null,
            "justify_content": null,
            "justify_items": null,
            "left": null,
            "margin": null,
            "max_height": null,
            "max_width": null,
            "min_height": null,
            "min_width": null,
            "object_fit": null,
            "object_position": null,
            "order": null,
            "overflow": null,
            "overflow_x": null,
            "overflow_y": null,
            "padding": null,
            "right": null,
            "top": null,
            "visibility": null,
            "width": null
          }
        },
        "51ccddfb30c14ea59eb8ab9ca284e9c4": {
          "model_module": "@jupyter-widgets/controls",
          "model_module_version": "1.5.0",
          "model_name": "DescriptionStyleModel",
          "state": {
            "_model_module": "@jupyter-widgets/controls",
            "_model_module_version": "1.5.0",
            "_model_name": "DescriptionStyleModel",
            "_view_count": null,
            "_view_module": "@jupyter-widgets/base",
            "_view_module_version": "1.2.0",
            "_view_name": "StyleView",
            "description_width": ""
          }
        },
        "52bdc7a954db48f88c72e07248b89e5e": {
          "model_module": "@jupyter-widgets/controls",
          "model_module_version": "1.5.0",
          "model_name": "DescriptionStyleModel",
          "state": {
            "_model_module": "@jupyter-widgets/controls",
            "_model_module_version": "1.5.0",
            "_model_name": "DescriptionStyleModel",
            "_view_count": null,
            "_view_module": "@jupyter-widgets/base",
            "_view_module_version": "1.2.0",
            "_view_name": "StyleView",
            "description_width": ""
          }
        },
        "55ee4ee71b8f4a059088c1eb5d044703": {
          "model_module": "@jupyter-widgets/controls",
          "model_module_version": "1.5.0",
          "model_name": "DescriptionStyleModel",
          "state": {
            "_model_module": "@jupyter-widgets/controls",
            "_model_module_version": "1.5.0",
            "_model_name": "DescriptionStyleModel",
            "_view_count": null,
            "_view_module": "@jupyter-widgets/base",
            "_view_module_version": "1.2.0",
            "_view_name": "StyleView",
            "description_width": ""
          }
        },
        "5666a47da2c6458785c15a8db8061713": {
          "model_module": "@jupyter-widgets/controls",
          "model_module_version": "1.5.0",
          "model_name": "FloatProgressModel",
          "state": {
            "_dom_classes": [],
            "_model_module": "@jupyter-widgets/controls",
            "_model_module_version": "1.5.0",
            "_model_name": "FloatProgressModel",
            "_view_count": null,
            "_view_module": "@jupyter-widgets/controls",
            "_view_module_version": "1.5.0",
            "_view_name": "ProgressView",
            "bar_style": "success",
            "description": "",
            "description_tooltip": null,
            "layout": "IPY_MODEL_5f87d7390aff4983982a967ee85ec6d8",
            "max": 17525357,
            "min": 0,
            "orientation": "horizontal",
            "style": "IPY_MODEL_ae4554ab640c4a95bf520091d25e6ebc",
            "value": 17525357
          }
        },
        "582df7ec5236432c9cc8c90961462495": {
          "model_module": "@jupyter-widgets/controls",
          "model_module_version": "1.5.0",
          "model_name": "LabelModel",
          "state": {
            "_dom_classes": [],
            "_model_module": "@jupyter-widgets/controls",
            "_model_module_version": "1.5.0",
            "_model_name": "LabelModel",
            "_view_count": null,
            "_view_module": "@jupyter-widgets/controls",
            "_view_module_version": "1.5.0",
            "_view_name": "LabelView",
            "description": "",
            "description_tooltip": null,
            "layout": "IPY_MODEL_825f35a0a9fc4ef3896af923273cc476",
            "placeholder": "​",
            "style": "IPY_MODEL_55ee4ee71b8f4a059088c1eb5d044703",
            "value": "Your token has been saved to /root/.cache/huggingface/token"
          }
        },
        "589a75fc27564cb993441fb0af19d075": {
          "model_module": "@jupyter-widgets/base",
          "model_module_version": "1.2.0",
          "model_name": "LayoutModel",
          "state": {
            "_model_module": "@jupyter-widgets/base",
            "_model_module_version": "1.2.0",
            "_model_name": "LayoutModel",
            "_view_count": null,
            "_view_module": "@jupyter-widgets/base",
            "_view_module_version": "1.2.0",
            "_view_name": "LayoutView",
            "align_content": null,
            "align_items": null,
            "align_self": null,
            "border": null,
            "bottom": null,
            "display": null,
            "flex": null,
            "flex_flow": null,
            "grid_area": null,
            "grid_auto_columns": null,
            "grid_auto_flow": null,
            "grid_auto_rows": null,
            "grid_column": null,
            "grid_gap": null,
            "grid_row": null,
            "grid_template_areas": null,
            "grid_template_columns": null,
            "grid_template_rows": null,
            "height": null,
            "justify_content": null,
            "justify_items": null,
            "left": null,
            "margin": null,
            "max_height": null,
            "max_width": null,
            "min_height": null,
            "min_width": null,
            "object_fit": null,
            "object_position": null,
            "order": null,
            "overflow": null,
            "overflow_x": null,
            "overflow_y": null,
            "padding": null,
            "right": null,
            "top": null,
            "visibility": null,
            "width": null
          }
        },
        "5a9a2f9bccf44920b83131376e9f5c83": {
          "model_module": "@jupyter-widgets/controls",
          "model_module_version": "1.5.0",
          "model_name": "DescriptionStyleModel",
          "state": {
            "_model_module": "@jupyter-widgets/controls",
            "_model_module_version": "1.5.0",
            "_model_name": "DescriptionStyleModel",
            "_view_count": null,
            "_view_module": "@jupyter-widgets/base",
            "_view_module_version": "1.2.0",
            "_view_name": "StyleView",
            "description_width": ""
          }
        },
        "5b5e44b62d224d1987a0f78d8a9b8f78": {
          "model_module": "@jupyter-widgets/base",
          "model_module_version": "1.2.0",
          "model_name": "LayoutModel",
          "state": {
            "_model_module": "@jupyter-widgets/base",
            "_model_module_version": "1.2.0",
            "_model_name": "LayoutModel",
            "_view_count": null,
            "_view_module": "@jupyter-widgets/base",
            "_view_module_version": "1.2.0",
            "_view_name": "LayoutView",
            "align_content": null,
            "align_items": null,
            "align_self": null,
            "border": null,
            "bottom": null,
            "display": null,
            "flex": null,
            "flex_flow": null,
            "grid_area": null,
            "grid_auto_columns": null,
            "grid_auto_flow": null,
            "grid_auto_rows": null,
            "grid_column": null,
            "grid_gap": null,
            "grid_row": null,
            "grid_template_areas": null,
            "grid_template_columns": null,
            "grid_template_rows": null,
            "height": null,
            "justify_content": null,
            "justify_items": null,
            "left": null,
            "margin": null,
            "max_height": null,
            "max_width": null,
            "min_height": null,
            "min_width": null,
            "object_fit": null,
            "object_position": null,
            "order": null,
            "overflow": null,
            "overflow_x": null,
            "overflow_y": null,
            "padding": null,
            "right": null,
            "top": null,
            "visibility": null,
            "width": null
          }
        },
        "5c4e193ec8f94ca4b7f18d0f0d9cead2": {
          "model_module": "@jupyter-widgets/base",
          "model_module_version": "1.2.0",
          "model_name": "LayoutModel",
          "state": {
            "_model_module": "@jupyter-widgets/base",
            "_model_module_version": "1.2.0",
            "_model_name": "LayoutModel",
            "_view_count": null,
            "_view_module": "@jupyter-widgets/base",
            "_view_module_version": "1.2.0",
            "_view_name": "LayoutView",
            "align_content": null,
            "align_items": null,
            "align_self": null,
            "border": null,
            "bottom": null,
            "display": null,
            "flex": null,
            "flex_flow": null,
            "grid_area": null,
            "grid_auto_columns": null,
            "grid_auto_flow": null,
            "grid_auto_rows": null,
            "grid_column": null,
            "grid_gap": null,
            "grid_row": null,
            "grid_template_areas": null,
            "grid_template_columns": null,
            "grid_template_rows": null,
            "height": null,
            "justify_content": null,
            "justify_items": null,
            "left": null,
            "margin": null,
            "max_height": null,
            "max_width": null,
            "min_height": null,
            "min_width": null,
            "object_fit": null,
            "object_position": null,
            "order": null,
            "overflow": null,
            "overflow_x": null,
            "overflow_y": null,
            "padding": null,
            "right": null,
            "top": null,
            "visibility": null,
            "width": null
          }
        },
        "5e325fb81c3f44abbc2e40d746002f28": {
          "model_module": "@jupyter-widgets/base",
          "model_module_version": "1.2.0",
          "model_name": "LayoutModel",
          "state": {
            "_model_module": "@jupyter-widgets/base",
            "_model_module_version": "1.2.0",
            "_model_name": "LayoutModel",
            "_view_count": null,
            "_view_module": "@jupyter-widgets/base",
            "_view_module_version": "1.2.0",
            "_view_name": "LayoutView",
            "align_content": null,
            "align_items": null,
            "align_self": null,
            "border": null,
            "bottom": null,
            "display": null,
            "flex": null,
            "flex_flow": null,
            "grid_area": null,
            "grid_auto_columns": null,
            "grid_auto_flow": null,
            "grid_auto_rows": null,
            "grid_column": null,
            "grid_gap": null,
            "grid_row": null,
            "grid_template_areas": null,
            "grid_template_columns": null,
            "grid_template_rows": null,
            "height": null,
            "justify_content": null,
            "justify_items": null,
            "left": null,
            "margin": null,
            "max_height": null,
            "max_width": null,
            "min_height": null,
            "min_width": null,
            "object_fit": null,
            "object_position": null,
            "order": null,
            "overflow": null,
            "overflow_x": null,
            "overflow_y": null,
            "padding": null,
            "right": null,
            "top": null,
            "visibility": null,
            "width": null
          }
        },
        "5e6032df648a433db39b4dcfd2bc66f8": {
          "model_module": "@jupyter-widgets/base",
          "model_module_version": "1.2.0",
          "model_name": "LayoutModel",
          "state": {
            "_model_module": "@jupyter-widgets/base",
            "_model_module_version": "1.2.0",
            "_model_name": "LayoutModel",
            "_view_count": null,
            "_view_module": "@jupyter-widgets/base",
            "_view_module_version": "1.2.0",
            "_view_name": "LayoutView",
            "align_content": null,
            "align_items": null,
            "align_self": null,
            "border": null,
            "bottom": null,
            "display": null,
            "flex": null,
            "flex_flow": null,
            "grid_area": null,
            "grid_auto_columns": null,
            "grid_auto_flow": null,
            "grid_auto_rows": null,
            "grid_column": null,
            "grid_gap": null,
            "grid_row": null,
            "grid_template_areas": null,
            "grid_template_columns": null,
            "grid_template_rows": null,
            "height": null,
            "justify_content": null,
            "justify_items": null,
            "left": null,
            "margin": null,
            "max_height": null,
            "max_width": null,
            "min_height": null,
            "min_width": null,
            "object_fit": null,
            "object_position": null,
            "order": null,
            "overflow": null,
            "overflow_x": null,
            "overflow_y": null,
            "padding": null,
            "right": null,
            "top": null,
            "visibility": null,
            "width": null
          }
        },
        "5e830a7257b747338c68484592a0f07d": {
          "model_module": "@jupyter-widgets/base",
          "model_module_version": "1.2.0",
          "model_name": "LayoutModel",
          "state": {
            "_model_module": "@jupyter-widgets/base",
            "_model_module_version": "1.2.0",
            "_model_name": "LayoutModel",
            "_view_count": null,
            "_view_module": "@jupyter-widgets/base",
            "_view_module_version": "1.2.0",
            "_view_name": "LayoutView",
            "align_content": null,
            "align_items": null,
            "align_self": null,
            "border": null,
            "bottom": null,
            "display": null,
            "flex": null,
            "flex_flow": null,
            "grid_area": null,
            "grid_auto_columns": null,
            "grid_auto_flow": null,
            "grid_auto_rows": null,
            "grid_column": null,
            "grid_gap": null,
            "grid_row": null,
            "grid_template_areas": null,
            "grid_template_columns": null,
            "grid_template_rows": null,
            "height": null,
            "justify_content": null,
            "justify_items": null,
            "left": null,
            "margin": null,
            "max_height": null,
            "max_width": null,
            "min_height": null,
            "min_width": null,
            "object_fit": null,
            "object_position": null,
            "order": null,
            "overflow": null,
            "overflow_x": null,
            "overflow_y": null,
            "padding": null,
            "right": null,
            "top": null,
            "visibility": null,
            "width": null
          }
        },
        "5f87d7390aff4983982a967ee85ec6d8": {
          "model_module": "@jupyter-widgets/base",
          "model_module_version": "1.2.0",
          "model_name": "LayoutModel",
          "state": {
            "_model_module": "@jupyter-widgets/base",
            "_model_module_version": "1.2.0",
            "_model_name": "LayoutModel",
            "_view_count": null,
            "_view_module": "@jupyter-widgets/base",
            "_view_module_version": "1.2.0",
            "_view_name": "LayoutView",
            "align_content": null,
            "align_items": null,
            "align_self": null,
            "border": null,
            "bottom": null,
            "display": null,
            "flex": null,
            "flex_flow": null,
            "grid_area": null,
            "grid_auto_columns": null,
            "grid_auto_flow": null,
            "grid_auto_rows": null,
            "grid_column": null,
            "grid_gap": null,
            "grid_row": null,
            "grid_template_areas": null,
            "grid_template_columns": null,
            "grid_template_rows": null,
            "height": null,
            "justify_content": null,
            "justify_items": null,
            "left": null,
            "margin": null,
            "max_height": null,
            "max_width": null,
            "min_height": null,
            "min_width": null,
            "object_fit": null,
            "object_position": null,
            "order": null,
            "overflow": null,
            "overflow_x": null,
            "overflow_y": null,
            "padding": null,
            "right": null,
            "top": null,
            "visibility": null,
            "width": null
          }
        },
        "6026847fbf2e45ea989673241111bdf5": {
          "model_module": "@jupyter-widgets/base",
          "model_module_version": "1.2.0",
          "model_name": "LayoutModel",
          "state": {
            "_model_module": "@jupyter-widgets/base",
            "_model_module_version": "1.2.0",
            "_model_name": "LayoutModel",
            "_view_count": null,
            "_view_module": "@jupyter-widgets/base",
            "_view_module_version": "1.2.0",
            "_view_name": "LayoutView",
            "align_content": null,
            "align_items": null,
            "align_self": null,
            "border": null,
            "bottom": null,
            "display": null,
            "flex": null,
            "flex_flow": null,
            "grid_area": null,
            "grid_auto_columns": null,
            "grid_auto_flow": null,
            "grid_auto_rows": null,
            "grid_column": null,
            "grid_gap": null,
            "grid_row": null,
            "grid_template_areas": null,
            "grid_template_columns": null,
            "grid_template_rows": null,
            "height": null,
            "justify_content": null,
            "justify_items": null,
            "left": null,
            "margin": null,
            "max_height": null,
            "max_width": null,
            "min_height": null,
            "min_width": null,
            "object_fit": null,
            "object_position": null,
            "order": null,
            "overflow": null,
            "overflow_x": null,
            "overflow_y": null,
            "padding": null,
            "right": null,
            "top": null,
            "visibility": null,
            "width": null
          }
        },
        "65864ae337ab492dac0ee16b5b656584": {
          "model_module": "@jupyter-widgets/controls",
          "model_module_version": "1.5.0",
          "model_name": "FloatProgressModel",
          "state": {
            "_dom_classes": [],
            "_model_module": "@jupyter-widgets/controls",
            "_model_module_version": "1.5.0",
            "_model_name": "FloatProgressModel",
            "_view_count": null,
            "_view_module": "@jupyter-widgets/controls",
            "_view_module_version": "1.5.0",
            "_view_name": "ProgressView",
            "bar_style": "success",
            "description": "",
            "description_tooltip": null,
            "layout": "IPY_MODEL_e460fe15a5654f58afb3ea0d29d0e0af",
            "max": 24224,
            "min": 0,
            "orientation": "horizontal",
            "style": "IPY_MODEL_b726529a47074f5486601944782b0b61",
            "value": 24224
          }
        },
        "65d4bbece6eb4e518da10338086155da": {
          "model_module": "@jupyter-widgets/base",
          "model_module_version": "1.2.0",
          "model_name": "LayoutModel",
          "state": {
            "_model_module": "@jupyter-widgets/base",
            "_model_module_version": "1.2.0",
            "_model_name": "LayoutModel",
            "_view_count": null,
            "_view_module": "@jupyter-widgets/base",
            "_view_module_version": "1.2.0",
            "_view_name": "LayoutView",
            "align_content": null,
            "align_items": null,
            "align_self": null,
            "border": null,
            "bottom": null,
            "display": null,
            "flex": null,
            "flex_flow": null,
            "grid_area": null,
            "grid_auto_columns": null,
            "grid_auto_flow": null,
            "grid_auto_rows": null,
            "grid_column": null,
            "grid_gap": null,
            "grid_row": null,
            "grid_template_areas": null,
            "grid_template_columns": null,
            "grid_template_rows": null,
            "height": null,
            "justify_content": null,
            "justify_items": null,
            "left": null,
            "margin": null,
            "max_height": null,
            "max_width": null,
            "min_height": null,
            "min_width": null,
            "object_fit": null,
            "object_position": null,
            "order": null,
            "overflow": null,
            "overflow_x": null,
            "overflow_y": null,
            "padding": null,
            "right": null,
            "top": null,
            "visibility": null,
            "width": null
          }
        },
        "68da385168ba4ccb86c56e4f78dea86a": {
          "model_module": "@jupyter-widgets/base",
          "model_module_version": "1.2.0",
          "model_name": "LayoutModel",
          "state": {
            "_model_module": "@jupyter-widgets/base",
            "_model_module_version": "1.2.0",
            "_model_name": "LayoutModel",
            "_view_count": null,
            "_view_module": "@jupyter-widgets/base",
            "_view_module_version": "1.2.0",
            "_view_name": "LayoutView",
            "align_content": null,
            "align_items": null,
            "align_self": null,
            "border": null,
            "bottom": null,
            "display": null,
            "flex": null,
            "flex_flow": null,
            "grid_area": null,
            "grid_auto_columns": null,
            "grid_auto_flow": null,
            "grid_auto_rows": null,
            "grid_column": null,
            "grid_gap": null,
            "grid_row": null,
            "grid_template_areas": null,
            "grid_template_columns": null,
            "grid_template_rows": null,
            "height": null,
            "justify_content": null,
            "justify_items": null,
            "left": null,
            "margin": null,
            "max_height": null,
            "max_width": null,
            "min_height": null,
            "min_width": null,
            "object_fit": null,
            "object_position": null,
            "order": null,
            "overflow": null,
            "overflow_x": null,
            "overflow_y": null,
            "padding": null,
            "right": null,
            "top": null,
            "visibility": null,
            "width": null
          }
        },
        "6c959f72c49b4431911c61e3b7c26ade": {
          "model_module": "@jupyter-widgets/base",
          "model_module_version": "1.2.0",
          "model_name": "LayoutModel",
          "state": {
            "_model_module": "@jupyter-widgets/base",
            "_model_module_version": "1.2.0",
            "_model_name": "LayoutModel",
            "_view_count": null,
            "_view_module": "@jupyter-widgets/base",
            "_view_module_version": "1.2.0",
            "_view_name": "LayoutView",
            "align_content": null,
            "align_items": null,
            "align_self": null,
            "border": null,
            "bottom": null,
            "display": null,
            "flex": null,
            "flex_flow": null,
            "grid_area": null,
            "grid_auto_columns": null,
            "grid_auto_flow": null,
            "grid_auto_rows": null,
            "grid_column": null,
            "grid_gap": null,
            "grid_row": null,
            "grid_template_areas": null,
            "grid_template_columns": null,
            "grid_template_rows": null,
            "height": null,
            "justify_content": null,
            "justify_items": null,
            "left": null,
            "margin": null,
            "max_height": null,
            "max_width": null,
            "min_height": null,
            "min_width": null,
            "object_fit": null,
            "object_position": null,
            "order": null,
            "overflow": null,
            "overflow_x": null,
            "overflow_y": null,
            "padding": null,
            "right": null,
            "top": null,
            "visibility": null,
            "width": null
          }
        },
        "6e8b39fd34034a278e45c47fe2dfb5ec": {
          "model_module": "@jupyter-widgets/controls",
          "model_module_version": "1.5.0",
          "model_name": "HBoxModel",
          "state": {
            "_dom_classes": [],
            "_model_module": "@jupyter-widgets/controls",
            "_model_module_version": "1.5.0",
            "_model_name": "HBoxModel",
            "_view_count": null,
            "_view_module": "@jupyter-widgets/controls",
            "_view_module_version": "1.5.0",
            "_view_name": "HBoxView",
            "box_style": "",
            "children": [
              "IPY_MODEL_17241fed111a4f08a543264d2d926c69",
              "IPY_MODEL_26f5482622b2491bb955c87e88ef5d44",
              "IPY_MODEL_d3e93348b3504d948659e8140919bda9"
            ],
            "layout": "IPY_MODEL_3cc7903731c4488a816675ab6e761c28"
          }
        },
        "6ec84e9118084e348000a31cccb3affc": {
          "model_module": "@jupyter-widgets/controls",
          "model_module_version": "1.5.0",
          "model_name": "DescriptionStyleModel",
          "state": {
            "_model_module": "@jupyter-widgets/controls",
            "_model_module_version": "1.5.0",
            "_model_name": "DescriptionStyleModel",
            "_view_count": null,
            "_view_module": "@jupyter-widgets/base",
            "_view_module_version": "1.2.0",
            "_view_name": "StyleView",
            "description_width": ""
          }
        },
        "6f22c05e59734d9180b13125de19474e": {
          "model_module": "@jupyter-widgets/base",
          "model_module_version": "1.2.0",
          "model_name": "LayoutModel",
          "state": {
            "_model_module": "@jupyter-widgets/base",
            "_model_module_version": "1.2.0",
            "_model_name": "LayoutModel",
            "_view_count": null,
            "_view_module": "@jupyter-widgets/base",
            "_view_module_version": "1.2.0",
            "_view_name": "LayoutView",
            "align_content": null,
            "align_items": null,
            "align_self": null,
            "border": null,
            "bottom": null,
            "display": null,
            "flex": null,
            "flex_flow": null,
            "grid_area": null,
            "grid_auto_columns": null,
            "grid_auto_flow": null,
            "grid_auto_rows": null,
            "grid_column": null,
            "grid_gap": null,
            "grid_row": null,
            "grid_template_areas": null,
            "grid_template_columns": null,
            "grid_template_rows": null,
            "height": null,
            "justify_content": null,
            "justify_items": null,
            "left": null,
            "margin": null,
            "max_height": null,
            "max_width": null,
            "min_height": null,
            "min_width": null,
            "object_fit": null,
            "object_position": null,
            "order": null,
            "overflow": null,
            "overflow_x": null,
            "overflow_y": null,
            "padding": null,
            "right": null,
            "top": null,
            "visibility": null,
            "width": null
          }
        },
        "6ff50499765746b08b3bf6b21f4fd265": {
          "model_module": "@jupyter-widgets/base",
          "model_module_version": "1.2.0",
          "model_name": "LayoutModel",
          "state": {
            "_model_module": "@jupyter-widgets/base",
            "_model_module_version": "1.2.0",
            "_model_name": "LayoutModel",
            "_view_count": null,
            "_view_module": "@jupyter-widgets/base",
            "_view_module_version": "1.2.0",
            "_view_name": "LayoutView",
            "align_content": null,
            "align_items": null,
            "align_self": null,
            "border": null,
            "bottom": null,
            "display": null,
            "flex": null,
            "flex_flow": null,
            "grid_area": null,
            "grid_auto_columns": null,
            "grid_auto_flow": null,
            "grid_auto_rows": null,
            "grid_column": null,
            "grid_gap": null,
            "grid_row": null,
            "grid_template_areas": null,
            "grid_template_columns": null,
            "grid_template_rows": null,
            "height": null,
            "justify_content": null,
            "justify_items": null,
            "left": null,
            "margin": null,
            "max_height": null,
            "max_width": null,
            "min_height": null,
            "min_width": null,
            "object_fit": null,
            "object_position": null,
            "order": null,
            "overflow": null,
            "overflow_x": null,
            "overflow_y": null,
            "padding": null,
            "right": null,
            "top": null,
            "visibility": null,
            "width": null
          }
        },
        "702b602b334644979687d83c7cdb9ac3": {
          "model_module": "@jupyter-widgets/controls",
          "model_module_version": "1.5.0",
          "model_name": "FloatProgressModel",
          "state": {
            "_dom_classes": [],
            "_model_module": "@jupyter-widgets/controls",
            "_model_module_version": "1.5.0",
            "_model_name": "FloatProgressModel",
            "_view_count": null,
            "_view_module": "@jupyter-widgets/controls",
            "_view_module_version": "1.5.0",
            "_view_name": "ProgressView",
            "bar_style": "success",
            "description": "",
            "description_tooltip": null,
            "layout": "IPY_MODEL_3bedc904ead34ff0832429641eed3baf",
            "max": 4992576136,
            "min": 0,
            "orientation": "horizontal",
            "style": "IPY_MODEL_c262bd2bfcc04c31b92896582eebb308",
            "value": 4992576136
          }
        },
        "70a62f8bf8b14d4d8d4be077368648c6": {
          "model_module": "@jupyter-widgets/base",
          "model_module_version": "1.2.0",
          "model_name": "LayoutModel",
          "state": {
            "_model_module": "@jupyter-widgets/base",
            "_model_module_version": "1.2.0",
            "_model_name": "LayoutModel",
            "_view_count": null,
            "_view_module": "@jupyter-widgets/base",
            "_view_module_version": "1.2.0",
            "_view_name": "LayoutView",
            "align_content": null,
            "align_items": null,
            "align_self": null,
            "border": null,
            "bottom": null,
            "display": null,
            "flex": null,
            "flex_flow": null,
            "grid_area": null,
            "grid_auto_columns": null,
            "grid_auto_flow": null,
            "grid_auto_rows": null,
            "grid_column": null,
            "grid_gap": null,
            "grid_row": null,
            "grid_template_areas": null,
            "grid_template_columns": null,
            "grid_template_rows": null,
            "height": null,
            "justify_content": null,
            "justify_items": null,
            "left": null,
            "margin": null,
            "max_height": null,
            "max_width": null,
            "min_height": null,
            "min_width": null,
            "object_fit": null,
            "object_position": null,
            "order": null,
            "overflow": null,
            "overflow_x": null,
            "overflow_y": null,
            "padding": null,
            "right": null,
            "top": null,
            "visibility": null,
            "width": null
          }
        },
        "728a4cd7c73a446084de54b4d41f7f7b": {
          "model_module": "@jupyter-widgets/controls",
          "model_module_version": "1.5.0",
          "model_name": "HTMLModel",
          "state": {
            "_dom_classes": [],
            "_model_module": "@jupyter-widgets/controls",
            "_model_module_version": "1.5.0",
            "_model_name": "HTMLModel",
            "_view_count": null,
            "_view_module": "@jupyter-widgets/controls",
            "_view_module_version": "1.5.0",
            "_view_name": "HTMLView",
            "description": "",
            "description_tooltip": null,
            "layout": "IPY_MODEL_589a75fc27564cb993441fb0af19d075",
            "placeholder": "​",
            "style": "IPY_MODEL_17812d41655749adb74210bd254c8d9e",
            "value": " 46.4k/46.4k [00:00&lt;00:00, 3.35MB/s]"
          }
        },
        "73bdf270636044089903c0576ca8bf74": {
          "model_module": "@jupyter-widgets/controls",
          "model_module_version": "1.5.0",
          "model_name": "HTMLModel",
          "state": {
            "_dom_classes": [],
            "_model_module": "@jupyter-widgets/controls",
            "_model_module_version": "1.5.0",
            "_model_name": "HTMLModel",
            "_view_count": null,
            "_view_module": "@jupyter-widgets/controls",
            "_view_module_version": "1.5.0",
            "_view_name": "HTMLView",
            "description": "",
            "description_tooltip": null,
            "layout": "IPY_MODEL_a3acb4c9b1574036a1ecc68d74cbed73",
            "placeholder": "​",
            "style": "IPY_MODEL_3430f5c73c19453e873546a336080dc4",
            "value": "Loading checkpoint shards: 100%"
          }
        },
        "7694bfde3eb04c63bb7c4094763f0f5c": {
          "model_module": "@jupyter-widgets/controls",
          "model_module_version": "1.5.0",
          "model_name": "HTMLModel",
          "state": {
            "_dom_classes": [],
            "_model_module": "@jupyter-widgets/controls",
            "_model_module_version": "1.5.0",
            "_model_name": "HTMLModel",
            "_view_count": null,
            "_view_module": "@jupyter-widgets/controls",
            "_view_module_version": "1.5.0",
            "_view_name": "HTMLView",
            "description": "",
            "description_tooltip": null,
            "layout": "IPY_MODEL_f087d87bb16a4e87afbdf7a02cc82767",
            "placeholder": "​",
            "style": "IPY_MODEL_c7f321f55ce54a6f84e05cc00df5e5bc",
            "value": " 168/168 [00:00&lt;00:00, 14.3kB/s]"
          }
        },
        "7759e66993fd4e91a2b177181719feb2": {
          "model_module": "@jupyter-widgets/base",
          "model_module_version": "1.2.0",
          "model_name": "LayoutModel",
          "state": {
            "_model_module": "@jupyter-widgets/base",
            "_model_module_version": "1.2.0",
            "_model_name": "LayoutModel",
            "_view_count": null,
            "_view_module": "@jupyter-widgets/base",
            "_view_module_version": "1.2.0",
            "_view_name": "LayoutView",
            "align_content": null,
            "align_items": null,
            "align_self": null,
            "border": null,
            "bottom": null,
            "display": null,
            "flex": null,
            "flex_flow": null,
            "grid_area": null,
            "grid_auto_columns": null,
            "grid_auto_flow": null,
            "grid_auto_rows": null,
            "grid_column": null,
            "grid_gap": null,
            "grid_row": null,
            "grid_template_areas": null,
            "grid_template_columns": null,
            "grid_template_rows": null,
            "height": null,
            "justify_content": null,
            "justify_items": null,
            "left": null,
            "margin": null,
            "max_height": null,
            "max_width": null,
            "min_height": null,
            "min_width": null,
            "object_fit": null,
            "object_position": null,
            "order": null,
            "overflow": null,
            "overflow_x": null,
            "overflow_y": null,
            "padding": null,
            "right": null,
            "top": null,
            "visibility": null,
            "width": null
          }
        },
        "79469f698f7d4ff592d14190789ec6ea": {
          "model_module": "@jupyter-widgets/controls",
          "model_module_version": "1.5.0",
          "model_name": "HBoxModel",
          "state": {
            "_dom_classes": [],
            "_model_module": "@jupyter-widgets/controls",
            "_model_module_version": "1.5.0",
            "_model_name": "HBoxModel",
            "_view_count": null,
            "_view_module": "@jupyter-widgets/controls",
            "_view_module_version": "1.5.0",
            "_view_name": "HBoxView",
            "box_style": "",
            "children": [
              "IPY_MODEL_3830b09da8e34fd7a6c5747297797b4e",
              "IPY_MODEL_7ab3b2ed50694a198640333693821f10",
              "IPY_MODEL_059ac5ec6ee944cb8da89bacae13ff11"
            ],
            "layout": "IPY_MODEL_6ff50499765746b08b3bf6b21f4fd265"
          }
        },
        "7961b920da3d4eafbbc728d83887b3a8": {
          "model_module": "@jupyter-widgets/controls",
          "model_module_version": "1.5.0",
          "model_name": "ProgressStyleModel",
          "state": {
            "_model_module": "@jupyter-widgets/controls",
            "_model_module_version": "1.5.0",
            "_model_name": "ProgressStyleModel",
            "_view_count": null,
            "_view_module": "@jupyter-widgets/base",
            "_view_module_version": "1.2.0",
            "_view_name": "StyleView",
            "bar_color": null,
            "description_width": ""
          }
        },
        "7ab3b2ed50694a198640333693821f10": {
          "model_module": "@jupyter-widgets/controls",
          "model_module_version": "1.5.0",
          "model_name": "FloatProgressModel",
          "state": {
            "_dom_classes": [],
            "_model_module": "@jupyter-widgets/controls",
            "_model_module_version": "1.5.0",
            "_model_name": "FloatProgressModel",
            "_view_count": null,
            "_view_module": "@jupyter-widgets/controls",
            "_view_module_version": "1.5.0",
            "_view_name": "ProgressView",
            "bar_style": "success",
            "description": "",
            "description_tooltip": null,
            "layout": "IPY_MODEL_31c601f903234dc39facfbeb49af63c3",
            "max": 636,
            "min": 0,
            "orientation": "horizontal",
            "style": "IPY_MODEL_4bc8b22d44af44e1ae6e16dc38757c0c",
            "value": 636
          }
        },
        "7defb790cb83477fba48d3534e59f496": {
          "model_module": "@jupyter-widgets/controls",
          "model_module_version": "1.5.0",
          "model_name": "HTMLModel",
          "state": {
            "_dom_classes": [],
            "_model_module": "@jupyter-widgets/controls",
            "_model_module_version": "1.5.0",
            "_model_name": "HTMLModel",
            "_view_count": null,
            "_view_module": "@jupyter-widgets/controls",
            "_view_module_version": "1.5.0",
            "_view_name": "HTMLView",
            "description": "",
            "description_tooltip": null,
            "layout": "IPY_MODEL_68da385168ba4ccb86c56e4f78dea86a",
            "placeholder": "​",
            "style": "IPY_MODEL_5a9a2f9bccf44920b83131376e9f5c83",
            "value": "generation_config.json: 100%"
          }
        },
        "7e497e4620164dd288e029eb086a49a2": {
          "model_module": "@jupyter-widgets/controls",
          "model_module_version": "1.5.0",
          "model_name": "DescriptionStyleModel",
          "state": {
            "_model_module": "@jupyter-widgets/controls",
            "_model_module_version": "1.5.0",
            "_model_name": "DescriptionStyleModel",
            "_view_count": null,
            "_view_module": "@jupyter-widgets/base",
            "_view_module_version": "1.2.0",
            "_view_name": "StyleView",
            "description_width": ""
          }
        },
        "825f35a0a9fc4ef3896af923273cc476": {
          "model_module": "@jupyter-widgets/base",
          "model_module_version": "1.2.0",
          "model_name": "LayoutModel",
          "state": {
            "_model_module": "@jupyter-widgets/base",
            "_model_module_version": "1.2.0",
            "_model_name": "LayoutModel",
            "_view_count": null,
            "_view_module": "@jupyter-widgets/base",
            "_view_module_version": "1.2.0",
            "_view_name": "LayoutView",
            "align_content": null,
            "align_items": null,
            "align_self": null,
            "border": null,
            "bottom": null,
            "display": null,
            "flex": null,
            "flex_flow": null,
            "grid_area": null,
            "grid_auto_columns": null,
            "grid_auto_flow": null,
            "grid_auto_rows": null,
            "grid_column": null,
            "grid_gap": null,
            "grid_row": null,
            "grid_template_areas": null,
            "grid_template_columns": null,
            "grid_template_rows": null,
            "height": null,
            "justify_content": null,
            "justify_items": null,
            "left": null,
            "margin": null,
            "max_height": null,
            "max_width": null,
            "min_height": null,
            "min_width": null,
            "object_fit": null,
            "object_position": null,
            "order": null,
            "overflow": null,
            "overflow_x": null,
            "overflow_y": null,
            "padding": null,
            "right": null,
            "top": null,
            "visibility": null,
            "width": null
          }
        },
        "837b6c0986954538b753e4224b4703c2": {
          "model_module": "@jupyter-widgets/controls",
          "model_module_version": "1.5.0",
          "model_name": "HBoxModel",
          "state": {
            "_dom_classes": [],
            "_model_module": "@jupyter-widgets/controls",
            "_model_module_version": "1.5.0",
            "_model_name": "HBoxModel",
            "_view_count": null,
            "_view_module": "@jupyter-widgets/controls",
            "_view_module_version": "1.5.0",
            "_view_name": "HBoxView",
            "box_style": "",
            "children": [
              "IPY_MODEL_8eb53fae0564457183b6a7d563777766",
              "IPY_MODEL_bd5aa20bb6f647e8bb832de122f90c6d",
              "IPY_MODEL_8cb65f72629d4eeebb0336d0c363415f"
            ],
            "layout": "IPY_MODEL_e6ffdc54f97e4b85b163feca57dcb213"
          }
        },
        "84e0ee3f145c42b18aef052dda03fe5e": {
          "model_module": "@jupyter-widgets/base",
          "model_module_version": "1.2.0",
          "model_name": "LayoutModel",
          "state": {
            "_model_module": "@jupyter-widgets/base",
            "_model_module_version": "1.2.0",
            "_model_name": "LayoutModel",
            "_view_count": null,
            "_view_module": "@jupyter-widgets/base",
            "_view_module_version": "1.2.0",
            "_view_name": "LayoutView",
            "align_content": null,
            "align_items": null,
            "align_self": null,
            "border": null,
            "bottom": null,
            "display": null,
            "flex": null,
            "flex_flow": null,
            "grid_area": null,
            "grid_auto_columns": null,
            "grid_auto_flow": null,
            "grid_auto_rows": null,
            "grid_column": null,
            "grid_gap": null,
            "grid_row": null,
            "grid_template_areas": null,
            "grid_template_columns": null,
            "grid_template_rows": null,
            "height": null,
            "justify_content": null,
            "justify_items": null,
            "left": null,
            "margin": null,
            "max_height": null,
            "max_width": null,
            "min_height": null,
            "min_width": null,
            "object_fit": null,
            "object_position": null,
            "order": null,
            "overflow": null,
            "overflow_x": null,
            "overflow_y": null,
            "padding": null,
            "right": null,
            "top": null,
            "visibility": null,
            "width": null
          }
        },
        "8547cec94d124f35b1f1fca74d1b2d0c": {
          "model_module": "@jupyter-widgets/base",
          "model_module_version": "1.2.0",
          "model_name": "LayoutModel",
          "state": {
            "_model_module": "@jupyter-widgets/base",
            "_model_module_version": "1.2.0",
            "_model_name": "LayoutModel",
            "_view_count": null,
            "_view_module": "@jupyter-widgets/base",
            "_view_module_version": "1.2.0",
            "_view_name": "LayoutView",
            "align_content": null,
            "align_items": null,
            "align_self": null,
            "border": null,
            "bottom": null,
            "display": null,
            "flex": null,
            "flex_flow": null,
            "grid_area": null,
            "grid_auto_columns": null,
            "grid_auto_flow": null,
            "grid_auto_rows": null,
            "grid_column": null,
            "grid_gap": null,
            "grid_row": null,
            "grid_template_areas": null,
            "grid_template_columns": null,
            "grid_template_rows": null,
            "height": null,
            "justify_content": null,
            "justify_items": null,
            "left": null,
            "margin": null,
            "max_height": null,
            "max_width": null,
            "min_height": null,
            "min_width": null,
            "object_fit": null,
            "object_position": null,
            "order": null,
            "overflow": null,
            "overflow_x": null,
            "overflow_y": null,
            "padding": null,
            "right": null,
            "top": null,
            "visibility": null,
            "width": null
          }
        },
        "8cb65f72629d4eeebb0336d0c363415f": {
          "model_module": "@jupyter-widgets/controls",
          "model_module_version": "1.5.0",
          "model_name": "HTMLModel",
          "state": {
            "_dom_classes": [],
            "_model_module": "@jupyter-widgets/controls",
            "_model_module_version": "1.5.0",
            "_model_name": "HTMLModel",
            "_view_count": null,
            "_view_module": "@jupyter-widgets/controls",
            "_view_module_version": "1.5.0",
            "_view_name": "HTMLView",
            "description": "",
            "description_tooltip": null,
            "layout": "IPY_MODEL_70a62f8bf8b14d4d8d4be077368648c6",
            "placeholder": "​",
            "style": "IPY_MODEL_a78df27cdcca4448a2c8d1cdda1f2d3f",
            "value": " 481M/481M [00:01&lt;00:00, 277MB/s]"
          }
        },
        "8eb53fae0564457183b6a7d563777766": {
          "model_module": "@jupyter-widgets/controls",
          "model_module_version": "1.5.0",
          "model_name": "HTMLModel",
          "state": {
            "_dom_classes": [],
            "_model_module": "@jupyter-widgets/controls",
            "_model_module_version": "1.5.0",
            "_model_name": "HTMLModel",
            "_view_count": null,
            "_view_module": "@jupyter-widgets/controls",
            "_view_module_version": "1.5.0",
            "_view_name": "HTMLView",
            "description": "",
            "description_tooltip": null,
            "layout": "IPY_MODEL_5c4e193ec8f94ca4b7f18d0f0d9cead2",
            "placeholder": "​",
            "style": "IPY_MODEL_1aa2cc2001014fc18c8a8d430a1929d4",
            "value": "model-00003-of-00003.safetensors: 100%"
          }
        },
        "8f34eb7460e649c886d21907dc0e4617": {
          "model_module": "@jupyter-widgets/controls",
          "model_module_version": "1.5.0",
          "model_name": "HBoxModel",
          "state": {
            "_dom_classes": [],
            "_model_module": "@jupyter-widgets/controls",
            "_model_module_version": "1.5.0",
            "_model_name": "HBoxModel",
            "_view_count": null,
            "_view_module": "@jupyter-widgets/controls",
            "_view_module_version": "1.5.0",
            "_view_name": "HBoxView",
            "box_style": "",
            "children": [
              "IPY_MODEL_303807d67c204ed88705394795c3bf26",
              "IPY_MODEL_65864ae337ab492dac0ee16b5b656584",
              "IPY_MODEL_a63f1ae214714d7f910b6f284e275e14"
            ],
            "layout": "IPY_MODEL_65d4bbece6eb4e518da10338086155da"
          }
        },
        "9041e78800854e548d39e7c3ce35397b": {
          "model_module": "@jupyter-widgets/controls",
          "model_module_version": "1.5.0",
          "model_name": "DescriptionStyleModel",
          "state": {
            "_model_module": "@jupyter-widgets/controls",
            "_model_module_version": "1.5.0",
            "_model_name": "DescriptionStyleModel",
            "_view_count": null,
            "_view_module": "@jupyter-widgets/base",
            "_view_module_version": "1.2.0",
            "_view_name": "StyleView",
            "description_width": ""
          }
        },
        "9237f4357efe4eabb78162f70e9a277a": {
          "model_module": "@jupyter-widgets/base",
          "model_module_version": "1.2.0",
          "model_name": "LayoutModel",
          "state": {
            "_model_module": "@jupyter-widgets/base",
            "_model_module_version": "1.2.0",
            "_model_name": "LayoutModel",
            "_view_count": null,
            "_view_module": "@jupyter-widgets/base",
            "_view_module_version": "1.2.0",
            "_view_name": "LayoutView",
            "align_content": null,
            "align_items": null,
            "align_self": null,
            "border": null,
            "bottom": null,
            "display": null,
            "flex": null,
            "flex_flow": null,
            "grid_area": null,
            "grid_auto_columns": null,
            "grid_auto_flow": null,
            "grid_auto_rows": null,
            "grid_column": null,
            "grid_gap": null,
            "grid_row": null,
            "grid_template_areas": null,
            "grid_template_columns": null,
            "grid_template_rows": null,
            "height": null,
            "justify_content": null,
            "justify_items": null,
            "left": null,
            "margin": null,
            "max_height": null,
            "max_width": null,
            "min_height": null,
            "min_width": null,
            "object_fit": null,
            "object_position": null,
            "order": null,
            "overflow": null,
            "overflow_x": null,
            "overflow_y": null,
            "padding": null,
            "right": null,
            "top": null,
            "visibility": null,
            "width": null
          }
        },
        "93d60a8d383c4a04bb16e50048e92ac8": {
          "model_module": "@jupyter-widgets/controls",
          "model_module_version": "1.5.0",
          "model_name": "ProgressStyleModel",
          "state": {
            "_model_module": "@jupyter-widgets/controls",
            "_model_module_version": "1.5.0",
            "_model_name": "ProgressStyleModel",
            "_view_count": null,
            "_view_module": "@jupyter-widgets/base",
            "_view_module_version": "1.2.0",
            "_view_name": "StyleView",
            "bar_color": null,
            "description_width": ""
          }
        },
        "95ed8057fca2414f92aacc0c80c533d8": {
          "model_module": "@jupyter-widgets/base",
          "model_module_version": "1.2.0",
          "model_name": "LayoutModel",
          "state": {
            "_model_module": "@jupyter-widgets/base",
            "_model_module_version": "1.2.0",
            "_model_name": "LayoutModel",
            "_view_count": null,
            "_view_module": "@jupyter-widgets/base",
            "_view_module_version": "1.2.0",
            "_view_name": "LayoutView",
            "align_content": null,
            "align_items": "center",
            "align_self": null,
            "border": null,
            "bottom": null,
            "display": "flex",
            "flex": null,
            "flex_flow": "column",
            "grid_area": null,
            "grid_auto_columns": null,
            "grid_auto_flow": null,
            "grid_auto_rows": null,
            "grid_column": null,
            "grid_gap": null,
            "grid_row": null,
            "grid_template_areas": null,
            "grid_template_columns": null,
            "grid_template_rows": null,
            "height": null,
            "justify_content": null,
            "justify_items": null,
            "left": null,
            "margin": null,
            "max_height": null,
            "max_width": null,
            "min_height": null,
            "min_width": null,
            "object_fit": null,
            "object_position": null,
            "order": null,
            "overflow": null,
            "overflow_x": null,
            "overflow_y": null,
            "padding": null,
            "right": null,
            "top": null,
            "visibility": null,
            "width": "50%"
          }
        },
        "963e50d15c984d43ad0751c7b273406c": {
          "model_module": "@jupyter-widgets/base",
          "model_module_version": "1.2.0",
          "model_name": "LayoutModel",
          "state": {
            "_model_module": "@jupyter-widgets/base",
            "_model_module_version": "1.2.0",
            "_model_name": "LayoutModel",
            "_view_count": null,
            "_view_module": "@jupyter-widgets/base",
            "_view_module_version": "1.2.0",
            "_view_name": "LayoutView",
            "align_content": null,
            "align_items": null,
            "align_self": null,
            "border": null,
            "bottom": null,
            "display": null,
            "flex": null,
            "flex_flow": null,
            "grid_area": null,
            "grid_auto_columns": null,
            "grid_auto_flow": null,
            "grid_auto_rows": null,
            "grid_column": null,
            "grid_gap": null,
            "grid_row": null,
            "grid_template_areas": null,
            "grid_template_columns": null,
            "grid_template_rows": null,
            "height": null,
            "justify_content": null,
            "justify_items": null,
            "left": null,
            "margin": null,
            "max_height": null,
            "max_width": null,
            "min_height": null,
            "min_width": null,
            "object_fit": null,
            "object_position": null,
            "order": null,
            "overflow": null,
            "overflow_x": null,
            "overflow_y": null,
            "padding": null,
            "right": null,
            "top": null,
            "visibility": null,
            "width": null
          }
        },
        "9694fe8aac714a48b0ecaf609a4fb0ae": {
          "model_module": "@jupyter-widgets/controls",
          "model_module_version": "1.5.0",
          "model_name": "DescriptionStyleModel",
          "state": {
            "_model_module": "@jupyter-widgets/controls",
            "_model_module_version": "1.5.0",
            "_model_name": "DescriptionStyleModel",
            "_view_count": null,
            "_view_module": "@jupyter-widgets/base",
            "_view_module_version": "1.2.0",
            "_view_name": "StyleView",
            "description_width": ""
          }
        },
        "9829c2c0aeb544ff8bd738b57848ae5e": {
          "model_module": "@jupyter-widgets/controls",
          "model_module_version": "1.5.0",
          "model_name": "DescriptionStyleModel",
          "state": {
            "_model_module": "@jupyter-widgets/controls",
            "_model_module_version": "1.5.0",
            "_model_name": "DescriptionStyleModel",
            "_view_count": null,
            "_view_module": "@jupyter-widgets/base",
            "_view_module_version": "1.2.0",
            "_view_name": "StyleView",
            "description_width": ""
          }
        },
        "9987c40ec2ef4bb28b386b9e8626fa16": {
          "model_module": "@jupyter-widgets/controls",
          "model_module_version": "1.5.0",
          "model_name": "HBoxModel",
          "state": {
            "_dom_classes": [],
            "_model_module": "@jupyter-widgets/controls",
            "_model_module_version": "1.5.0",
            "_model_name": "HBoxModel",
            "_view_count": null,
            "_view_module": "@jupyter-widgets/controls",
            "_view_module_version": "1.5.0",
            "_view_name": "HBoxView",
            "box_style": "",
            "children": [
              "IPY_MODEL_7defb790cb83477fba48d3534e59f496",
              "IPY_MODEL_fcf08a84442646b5906d61ebd75b75be",
              "IPY_MODEL_7694bfde3eb04c63bb7c4094763f0f5c"
            ],
            "layout": "IPY_MODEL_c9961601535642ce8a01925e3ccf146d"
          }
        },
        "9a54461837bd4ca8910e8be9e0d9355a": {
          "model_module": "@jupyter-widgets/base",
          "model_module_version": "1.2.0",
          "model_name": "LayoutModel",
          "state": {
            "_model_module": "@jupyter-widgets/base",
            "_model_module_version": "1.2.0",
            "_model_name": "LayoutModel",
            "_view_count": null,
            "_view_module": "@jupyter-widgets/base",
            "_view_module_version": "1.2.0",
            "_view_name": "LayoutView",
            "align_content": null,
            "align_items": null,
            "align_self": null,
            "border": null,
            "bottom": null,
            "display": null,
            "flex": null,
            "flex_flow": null,
            "grid_area": null,
            "grid_auto_columns": null,
            "grid_auto_flow": null,
            "grid_auto_rows": null,
            "grid_column": null,
            "grid_gap": null,
            "grid_row": null,
            "grid_template_areas": null,
            "grid_template_columns": null,
            "grid_template_rows": null,
            "height": null,
            "justify_content": null,
            "justify_items": null,
            "left": null,
            "margin": null,
            "max_height": null,
            "max_width": null,
            "min_height": null,
            "min_width": null,
            "object_fit": null,
            "object_position": null,
            "order": null,
            "overflow": null,
            "overflow_x": null,
            "overflow_y": null,
            "padding": null,
            "right": null,
            "top": null,
            "visibility": null,
            "width": null
          }
        },
        "9d958f5c46da4b288b336bb793ffe546": {
          "model_module": "@jupyter-widgets/controls",
          "model_module_version": "1.5.0",
          "model_name": "DescriptionStyleModel",
          "state": {
            "_model_module": "@jupyter-widgets/controls",
            "_model_module_version": "1.5.0",
            "_model_name": "DescriptionStyleModel",
            "_view_count": null,
            "_view_module": "@jupyter-widgets/base",
            "_view_module_version": "1.2.0",
            "_view_name": "StyleView",
            "description_width": ""
          }
        },
        "9f3b8ca7c9a7426f85e05dccec322097": {
          "model_module": "@jupyter-widgets/controls",
          "model_module_version": "1.5.0",
          "model_name": "DescriptionStyleModel",
          "state": {
            "_model_module": "@jupyter-widgets/controls",
            "_model_module_version": "1.5.0",
            "_model_name": "DescriptionStyleModel",
            "_view_count": null,
            "_view_module": "@jupyter-widgets/base",
            "_view_module_version": "1.2.0",
            "_view_name": "StyleView",
            "description_width": ""
          }
        },
        "a025b013624b47efaf55b826e0b8a2f1": {
          "model_module": "@jupyter-widgets/base",
          "model_module_version": "1.2.0",
          "model_name": "LayoutModel",
          "state": {
            "_model_module": "@jupyter-widgets/base",
            "_model_module_version": "1.2.0",
            "_model_name": "LayoutModel",
            "_view_count": null,
            "_view_module": "@jupyter-widgets/base",
            "_view_module_version": "1.2.0",
            "_view_name": "LayoutView",
            "align_content": null,
            "align_items": null,
            "align_self": null,
            "border": null,
            "bottom": null,
            "display": null,
            "flex": null,
            "flex_flow": null,
            "grid_area": null,
            "grid_auto_columns": null,
            "grid_auto_flow": null,
            "grid_auto_rows": null,
            "grid_column": null,
            "grid_gap": null,
            "grid_row": null,
            "grid_template_areas": null,
            "grid_template_columns": null,
            "grid_template_rows": null,
            "height": null,
            "justify_content": null,
            "justify_items": null,
            "left": null,
            "margin": null,
            "max_height": null,
            "max_width": null,
            "min_height": null,
            "min_width": null,
            "object_fit": null,
            "object_position": null,
            "order": null,
            "overflow": null,
            "overflow_x": null,
            "overflow_y": null,
            "padding": null,
            "right": null,
            "top": null,
            "visibility": null,
            "width": null
          }
        },
        "a0af8a8d3c964eb59f73f3b6356390a4": {
          "model_module": "@jupyter-widgets/controls",
          "model_module_version": "1.5.0",
          "model_name": "HBoxModel",
          "state": {
            "_dom_classes": [],
            "_model_module": "@jupyter-widgets/controls",
            "_model_module_version": "1.5.0",
            "_model_name": "HBoxModel",
            "_view_count": null,
            "_view_module": "@jupyter-widgets/controls",
            "_view_module_version": "1.5.0",
            "_view_name": "HBoxView",
            "box_style": "",
            "children": [
              "IPY_MODEL_cd3867203efe4bcab60770b3b1068a83",
              "IPY_MODEL_285ee87935a14cf4b0a1429066cd9a22",
              "IPY_MODEL_728a4cd7c73a446084de54b4d41f7f7b"
            ],
            "layout": "IPY_MODEL_074d1fb03cb34fb3b902302f0a1772f1"
          }
        },
        "a3acb4c9b1574036a1ecc68d74cbed73": {
          "model_module": "@jupyter-widgets/base",
          "model_module_version": "1.2.0",
          "model_name": "LayoutModel",
          "state": {
            "_model_module": "@jupyter-widgets/base",
            "_model_module_version": "1.2.0",
            "_model_name": "LayoutModel",
            "_view_count": null,
            "_view_module": "@jupyter-widgets/base",
            "_view_module_version": "1.2.0",
            "_view_name": "LayoutView",
            "align_content": null,
            "align_items": null,
            "align_self": null,
            "border": null,
            "bottom": null,
            "display": null,
            "flex": null,
            "flex_flow": null,
            "grid_area": null,
            "grid_auto_columns": null,
            "grid_auto_flow": null,
            "grid_auto_rows": null,
            "grid_column": null,
            "grid_gap": null,
            "grid_row": null,
            "grid_template_areas": null,
            "grid_template_columns": null,
            "grid_template_rows": null,
            "height": null,
            "justify_content": null,
            "justify_items": null,
            "left": null,
            "margin": null,
            "max_height": null,
            "max_width": null,
            "min_height": null,
            "min_width": null,
            "object_fit": null,
            "object_position": null,
            "order": null,
            "overflow": null,
            "overflow_x": null,
            "overflow_y": null,
            "padding": null,
            "right": null,
            "top": null,
            "visibility": null,
            "width": null
          }
        },
        "a46992f99f2040f685513f4271299ebb": {
          "model_module": "@jupyter-widgets/base",
          "model_module_version": "1.2.0",
          "model_name": "LayoutModel",
          "state": {
            "_model_module": "@jupyter-widgets/base",
            "_model_module_version": "1.2.0",
            "_model_name": "LayoutModel",
            "_view_count": null,
            "_view_module": "@jupyter-widgets/base",
            "_view_module_version": "1.2.0",
            "_view_name": "LayoutView",
            "align_content": null,
            "align_items": null,
            "align_self": null,
            "border": null,
            "bottom": null,
            "display": null,
            "flex": null,
            "flex_flow": null,
            "grid_area": null,
            "grid_auto_columns": null,
            "grid_auto_flow": null,
            "grid_auto_rows": null,
            "grid_column": null,
            "grid_gap": null,
            "grid_row": null,
            "grid_template_areas": null,
            "grid_template_columns": null,
            "grid_template_rows": null,
            "height": null,
            "justify_content": null,
            "justify_items": null,
            "left": null,
            "margin": null,
            "max_height": null,
            "max_width": null,
            "min_height": null,
            "min_width": null,
            "object_fit": null,
            "object_position": null,
            "order": null,
            "overflow": null,
            "overflow_x": null,
            "overflow_y": null,
            "padding": null,
            "right": null,
            "top": null,
            "visibility": null,
            "width": null
          }
        },
        "a63f1ae214714d7f910b6f284e275e14": {
          "model_module": "@jupyter-widgets/controls",
          "model_module_version": "1.5.0",
          "model_name": "HTMLModel",
          "state": {
            "_dom_classes": [],
            "_model_module": "@jupyter-widgets/controls",
            "_model_module_version": "1.5.0",
            "_model_name": "HTMLModel",
            "_view_count": null,
            "_view_module": "@jupyter-widgets/controls",
            "_view_module_version": "1.5.0",
            "_view_name": "HTMLView",
            "description": "",
            "description_tooltip": null,
            "layout": "IPY_MODEL_0aa9b3c467464471b40dcd96b7e5d515",
            "placeholder": "​",
            "style": "IPY_MODEL_3c9fbcc92699461ab053dd89c67f41bf",
            "value": " 24.2k/24.2k [00:00&lt;00:00, 1.99MB/s]"
          }
        },
        "a78df27cdcca4448a2c8d1cdda1f2d3f": {
          "model_module": "@jupyter-widgets/controls",
          "model_module_version": "1.5.0",
          "model_name": "DescriptionStyleModel",
          "state": {
            "_model_module": "@jupyter-widgets/controls",
            "_model_module_version": "1.5.0",
            "_model_name": "DescriptionStyleModel",
            "_view_count": null,
            "_view_module": "@jupyter-widgets/base",
            "_view_module_version": "1.2.0",
            "_view_name": "StyleView",
            "description_width": ""
          }
        },
        "a88e87c11d94460c8336337165b9ddee": {
          "model_module": "@jupyter-widgets/controls",
          "model_module_version": "1.5.0",
          "model_name": "HTMLModel",
          "state": {
            "_dom_classes": [],
            "_model_module": "@jupyter-widgets/controls",
            "_model_module_version": "1.5.0",
            "_model_name": "HTMLModel",
            "_view_count": null,
            "_view_module": "@jupyter-widgets/controls",
            "_view_module_version": "1.5.0",
            "_view_name": "HTMLView",
            "description": "",
            "description_tooltip": null,
            "layout": "IPY_MODEL_c217edce432f4e629a75f2b6341b4f4b",
            "placeholder": "​",
            "style": "IPY_MODEL_eecfd350bbd64022937c27c3b5220170",
            "value": "tokenizer.json: 100%"
          }
        },
        "ae4554ab640c4a95bf520091d25e6ebc": {
          "model_module": "@jupyter-widgets/controls",
          "model_module_version": "1.5.0",
          "model_name": "ProgressStyleModel",
          "state": {
            "_model_module": "@jupyter-widgets/controls",
            "_model_module_version": "1.5.0",
            "_model_name": "ProgressStyleModel",
            "_view_count": null,
            "_view_module": "@jupyter-widgets/base",
            "_view_module_version": "1.2.0",
            "_view_name": "StyleView",
            "bar_color": null,
            "description_width": ""
          }
        },
        "af4908b719e14b68a39851b4b2d53618": {
          "model_module": "@jupyter-widgets/base",
          "model_module_version": "1.2.0",
          "model_name": "LayoutModel",
          "state": {
            "_model_module": "@jupyter-widgets/base",
            "_model_module_version": "1.2.0",
            "_model_name": "LayoutModel",
            "_view_count": null,
            "_view_module": "@jupyter-widgets/base",
            "_view_module_version": "1.2.0",
            "_view_name": "LayoutView",
            "align_content": null,
            "align_items": null,
            "align_self": null,
            "border": null,
            "bottom": null,
            "display": null,
            "flex": null,
            "flex_flow": null,
            "grid_area": null,
            "grid_auto_columns": null,
            "grid_auto_flow": null,
            "grid_auto_rows": null,
            "grid_column": null,
            "grid_gap": null,
            "grid_row": null,
            "grid_template_areas": null,
            "grid_template_columns": null,
            "grid_template_rows": null,
            "height": null,
            "justify_content": null,
            "justify_items": null,
            "left": null,
            "margin": null,
            "max_height": null,
            "max_width": null,
            "min_height": null,
            "min_width": null,
            "object_fit": null,
            "object_position": null,
            "order": null,
            "overflow": null,
            "overflow_x": null,
            "overflow_y": null,
            "padding": null,
            "right": null,
            "top": null,
            "visibility": null,
            "width": null
          }
        },
        "b145f6a5cf734edaacc6519248232aff": {
          "model_module": "@jupyter-widgets/controls",
          "model_module_version": "1.5.0",
          "model_name": "ProgressStyleModel",
          "state": {
            "_model_module": "@jupyter-widgets/controls",
            "_model_module_version": "1.5.0",
            "_model_name": "ProgressStyleModel",
            "_view_count": null,
            "_view_module": "@jupyter-widgets/base",
            "_view_module_version": "1.2.0",
            "_view_name": "StyleView",
            "bar_color": null,
            "description_width": ""
          }
        },
        "b1c5919e2ec14d6bb1d85fd683a47030": {
          "model_module": "@jupyter-widgets/controls",
          "model_module_version": "1.5.0",
          "model_name": "DescriptionStyleModel",
          "state": {
            "_model_module": "@jupyter-widgets/controls",
            "_model_module_version": "1.5.0",
            "_model_name": "DescriptionStyleModel",
            "_view_count": null,
            "_view_module": "@jupyter-widgets/base",
            "_view_module_version": "1.2.0",
            "_view_name": "StyleView",
            "description_width": ""
          }
        },
        "b1d30d7385034c42a7251f234397a66d": {
          "model_module": "@jupyter-widgets/controls",
          "model_module_version": "1.5.0",
          "model_name": "HTMLModel",
          "state": {
            "_dom_classes": [],
            "_model_module": "@jupyter-widgets/controls",
            "_model_module_version": "1.5.0",
            "_model_name": "HTMLModel",
            "_view_count": null,
            "_view_module": "@jupyter-widgets/controls",
            "_view_module_version": "1.5.0",
            "_view_name": "HTMLView",
            "description": "",
            "description_tooltip": null,
            "layout": "IPY_MODEL_6026847fbf2e45ea989673241111bdf5",
            "placeholder": "​",
            "style": "IPY_MODEL_336144312ae24ed3824e81793e100015",
            "value": " 4.99G/4.99G [00:21&lt;00:00, 256MB/s]"
          }
        },
        "b726529a47074f5486601944782b0b61": {
          "model_module": "@jupyter-widgets/controls",
          "model_module_version": "1.5.0",
          "model_name": "ProgressStyleModel",
          "state": {
            "_model_module": "@jupyter-widgets/controls",
            "_model_module_version": "1.5.0",
            "_model_name": "ProgressStyleModel",
            "_view_count": null,
            "_view_module": "@jupyter-widgets/base",
            "_view_module_version": "1.2.0",
            "_view_name": "StyleView",
            "bar_color": null,
            "description_width": ""
          }
        },
        "b78211ea3d704175a9073ebeb6a97b67": {
          "model_module": "@jupyter-widgets/controls",
          "model_module_version": "1.5.0",
          "model_name": "ProgressStyleModel",
          "state": {
            "_model_module": "@jupyter-widgets/controls",
            "_model_module_version": "1.5.0",
            "_model_name": "ProgressStyleModel",
            "_view_count": null,
            "_view_module": "@jupyter-widgets/base",
            "_view_module_version": "1.2.0",
            "_view_name": "StyleView",
            "bar_color": null,
            "description_width": ""
          }
        },
        "bd5aa20bb6f647e8bb832de122f90c6d": {
          "model_module": "@jupyter-widgets/controls",
          "model_module_version": "1.5.0",
          "model_name": "FloatProgressModel",
          "state": {
            "_dom_classes": [],
            "_model_module": "@jupyter-widgets/controls",
            "_model_module_version": "1.5.0",
            "_model_name": "FloatProgressModel",
            "_view_count": null,
            "_view_module": "@jupyter-widgets/controls",
            "_view_module_version": "1.5.0",
            "_view_name": "ProgressView",
            "bar_style": "success",
            "description": "",
            "description_tooltip": null,
            "layout": "IPY_MODEL_ccc35c8ce1f64cd4b4242009a9e07126",
            "max": 481381384,
            "min": 0,
            "orientation": "horizontal",
            "style": "IPY_MODEL_d4963fbcd83349559025506d63544610",
            "value": 481381384
          }
        },
        "c084fba5076149be81fe54ef56adb504": {
          "model_module": "@jupyter-widgets/controls",
          "model_module_version": "1.5.0",
          "model_name": "HBoxModel",
          "state": {
            "_dom_classes": [],
            "_model_module": "@jupyter-widgets/controls",
            "_model_module_version": "1.5.0",
            "_model_name": "HBoxModel",
            "_view_count": null,
            "_view_module": "@jupyter-widgets/controls",
            "_view_module_version": "1.5.0",
            "_view_name": "HBoxView",
            "box_style": "",
            "children": [
              "IPY_MODEL_d437fdf58fe74669a41f0cd4ce97ace9",
              "IPY_MODEL_427e2d06da6a4395b249ef50305671a0",
              "IPY_MODEL_c649752c330643d7ad16c78e8b5a9c90"
            ],
            "layout": "IPY_MODEL_5e325fb81c3f44abbc2e40d746002f28"
          }
        },
        "c1ee5697bf824fe8aaf4a874fb1b7876": {
          "model_module": "@jupyter-widgets/base",
          "model_module_version": "1.2.0",
          "model_name": "LayoutModel",
          "state": {
            "_model_module": "@jupyter-widgets/base",
            "_model_module_version": "1.2.0",
            "_model_name": "LayoutModel",
            "_view_count": null,
            "_view_module": "@jupyter-widgets/base",
            "_view_module_version": "1.2.0",
            "_view_name": "LayoutView",
            "align_content": null,
            "align_items": null,
            "align_self": null,
            "border": null,
            "bottom": null,
            "display": null,
            "flex": null,
            "flex_flow": null,
            "grid_area": null,
            "grid_auto_columns": null,
            "grid_auto_flow": null,
            "grid_auto_rows": null,
            "grid_column": null,
            "grid_gap": null,
            "grid_row": null,
            "grid_template_areas": null,
            "grid_template_columns": null,
            "grid_template_rows": null,
            "height": null,
            "justify_content": null,
            "justify_items": null,
            "left": null,
            "margin": null,
            "max_height": null,
            "max_width": null,
            "min_height": null,
            "min_width": null,
            "object_fit": null,
            "object_position": null,
            "order": null,
            "overflow": null,
            "overflow_x": null,
            "overflow_y": null,
            "padding": null,
            "right": null,
            "top": null,
            "visibility": null,
            "width": null
          }
        },
        "c217edce432f4e629a75f2b6341b4f4b": {
          "model_module": "@jupyter-widgets/base",
          "model_module_version": "1.2.0",
          "model_name": "LayoutModel",
          "state": {
            "_model_module": "@jupyter-widgets/base",
            "_model_module_version": "1.2.0",
            "_model_name": "LayoutModel",
            "_view_count": null,
            "_view_module": "@jupyter-widgets/base",
            "_view_module_version": "1.2.0",
            "_view_name": "LayoutView",
            "align_content": null,
            "align_items": null,
            "align_self": null,
            "border": null,
            "bottom": null,
            "display": null,
            "flex": null,
            "flex_flow": null,
            "grid_area": null,
            "grid_auto_columns": null,
            "grid_auto_flow": null,
            "grid_auto_rows": null,
            "grid_column": null,
            "grid_gap": null,
            "grid_row": null,
            "grid_template_areas": null,
            "grid_template_columns": null,
            "grid_template_rows": null,
            "height": null,
            "justify_content": null,
            "justify_items": null,
            "left": null,
            "margin": null,
            "max_height": null,
            "max_width": null,
            "min_height": null,
            "min_width": null,
            "object_fit": null,
            "object_position": null,
            "order": null,
            "overflow": null,
            "overflow_x": null,
            "overflow_y": null,
            "padding": null,
            "right": null,
            "top": null,
            "visibility": null,
            "width": null
          }
        },
        "c262bd2bfcc04c31b92896582eebb308": {
          "model_module": "@jupyter-widgets/controls",
          "model_module_version": "1.5.0",
          "model_name": "ProgressStyleModel",
          "state": {
            "_model_module": "@jupyter-widgets/controls",
            "_model_module_version": "1.5.0",
            "_model_name": "ProgressStyleModel",
            "_view_count": null,
            "_view_module": "@jupyter-widgets/base",
            "_view_module_version": "1.2.0",
            "_view_name": "StyleView",
            "bar_color": null,
            "description_width": ""
          }
        },
        "c3acc1901727454da326e26af8b478ed": {
          "model_module": "@jupyter-widgets/base",
          "model_module_version": "1.2.0",
          "model_name": "LayoutModel",
          "state": {
            "_model_module": "@jupyter-widgets/base",
            "_model_module_version": "1.2.0",
            "_model_name": "LayoutModel",
            "_view_count": null,
            "_view_module": "@jupyter-widgets/base",
            "_view_module_version": "1.2.0",
            "_view_name": "LayoutView",
            "align_content": null,
            "align_items": null,
            "align_self": null,
            "border": null,
            "bottom": null,
            "display": null,
            "flex": null,
            "flex_flow": null,
            "grid_area": null,
            "grid_auto_columns": null,
            "grid_auto_flow": null,
            "grid_auto_rows": null,
            "grid_column": null,
            "grid_gap": null,
            "grid_row": null,
            "grid_template_areas": null,
            "grid_template_columns": null,
            "grid_template_rows": null,
            "height": null,
            "justify_content": null,
            "justify_items": null,
            "left": null,
            "margin": null,
            "max_height": null,
            "max_width": null,
            "min_height": null,
            "min_width": null,
            "object_fit": null,
            "object_position": null,
            "order": null,
            "overflow": null,
            "overflow_x": null,
            "overflow_y": null,
            "padding": null,
            "right": null,
            "top": null,
            "visibility": null,
            "width": null
          }
        },
        "c5c2519540dd475fb9163116ac5113f6": {
          "model_module": "@jupyter-widgets/controls",
          "model_module_version": "1.5.0",
          "model_name": "LabelModel",
          "state": {
            "_dom_classes": [],
            "_model_module": "@jupyter-widgets/controls",
            "_model_module_version": "1.5.0",
            "_model_name": "LabelModel",
            "_view_count": null,
            "_view_module": "@jupyter-widgets/controls",
            "_view_module_version": "1.5.0",
            "_view_name": "LabelView",
            "description": "",
            "description_tooltip": null,
            "layout": "IPY_MODEL_4f4c03e4435049908bcc231a724e5834",
            "placeholder": "​",
            "style": "IPY_MODEL_0117dc18a7984e8a8b8733185c1203de",
            "value": "Login successful"
          }
        },
        "c649752c330643d7ad16c78e8b5a9c90": {
          "model_module": "@jupyter-widgets/controls",
          "model_module_version": "1.5.0",
          "model_name": "HTMLModel",
          "state": {
            "_dom_classes": [],
            "_model_module": "@jupyter-widgets/controls",
            "_model_module_version": "1.5.0",
            "_model_name": "HTMLModel",
            "_view_count": null,
            "_view_module": "@jupyter-widgets/controls",
            "_view_module_version": "1.5.0",
            "_view_name": "HTMLView",
            "description": "",
            "description_tooltip": null,
            "layout": "IPY_MODEL_af4908b719e14b68a39851b4b2d53618",
            "placeholder": "​",
            "style": "IPY_MODEL_125fabc2bc574f1082fb2c361ec9cc4d",
            "value": " 4.98G/4.98G [00:18&lt;00:00, 260MB/s]"
          }
        },
        "c7f321f55ce54a6f84e05cc00df5e5bc": {
          "model_module": "@jupyter-widgets/controls",
          "model_module_version": "1.5.0",
          "model_name": "DescriptionStyleModel",
          "state": {
            "_model_module": "@jupyter-widgets/controls",
            "_model_module_version": "1.5.0",
            "_model_name": "DescriptionStyleModel",
            "_view_count": null,
            "_view_module": "@jupyter-widgets/base",
            "_view_module_version": "1.2.0",
            "_view_name": "StyleView",
            "description_width": ""
          }
        },
        "c9961601535642ce8a01925e3ccf146d": {
          "model_module": "@jupyter-widgets/base",
          "model_module_version": "1.2.0",
          "model_name": "LayoutModel",
          "state": {
            "_model_module": "@jupyter-widgets/base",
            "_model_module_version": "1.2.0",
            "_model_name": "LayoutModel",
            "_view_count": null,
            "_view_module": "@jupyter-widgets/base",
            "_view_module_version": "1.2.0",
            "_view_name": "LayoutView",
            "align_content": null,
            "align_items": null,
            "align_self": null,
            "border": null,
            "bottom": null,
            "display": null,
            "flex": null,
            "flex_flow": null,
            "grid_area": null,
            "grid_auto_columns": null,
            "grid_auto_flow": null,
            "grid_auto_rows": null,
            "grid_column": null,
            "grid_gap": null,
            "grid_row": null,
            "grid_template_areas": null,
            "grid_template_columns": null,
            "grid_template_rows": null,
            "height": null,
            "justify_content": null,
            "justify_items": null,
            "left": null,
            "margin": null,
            "max_height": null,
            "max_width": null,
            "min_height": null,
            "min_width": null,
            "object_fit": null,
            "object_position": null,
            "order": null,
            "overflow": null,
            "overflow_x": null,
            "overflow_y": null,
            "padding": null,
            "right": null,
            "top": null,
            "visibility": null,
            "width": null
          }
        },
        "cc29ec332857425fbc4f9164a4be0cd5": {
          "model_module": "@jupyter-widgets/controls",
          "model_module_version": "1.5.0",
          "model_name": "HTMLModel",
          "state": {
            "_dom_classes": [],
            "_model_module": "@jupyter-widgets/controls",
            "_model_module_version": "1.5.0",
            "_model_name": "HTMLModel",
            "_view_count": null,
            "_view_module": "@jupyter-widgets/controls",
            "_view_module_version": "1.5.0",
            "_view_name": "HTMLView",
            "description": "",
            "description_tooltip": null,
            "layout": "IPY_MODEL_d6ba9bf3bb0a4518a26885cbf65c5613",
            "placeholder": "​",
            "style": "IPY_MODEL_9f3b8ca7c9a7426f85e05dccec322097",
            "value": " 17.5M/17.5M [00:00&lt;00:00, 196MB/s]"
          }
        },
        "ccc35c8ce1f64cd4b4242009a9e07126": {
          "model_module": "@jupyter-widgets/base",
          "model_module_version": "1.2.0",
          "model_name": "LayoutModel",
          "state": {
            "_model_module": "@jupyter-widgets/base",
            "_model_module_version": "1.2.0",
            "_model_name": "LayoutModel",
            "_view_count": null,
            "_view_module": "@jupyter-widgets/base",
            "_view_module_version": "1.2.0",
            "_view_name": "LayoutView",
            "align_content": null,
            "align_items": null,
            "align_self": null,
            "border": null,
            "bottom": null,
            "display": null,
            "flex": null,
            "flex_flow": null,
            "grid_area": null,
            "grid_auto_columns": null,
            "grid_auto_flow": null,
            "grid_auto_rows": null,
            "grid_column": null,
            "grid_gap": null,
            "grid_row": null,
            "grid_template_areas": null,
            "grid_template_columns": null,
            "grid_template_rows": null,
            "height": null,
            "justify_content": null,
            "justify_items": null,
            "left": null,
            "margin": null,
            "max_height": null,
            "max_width": null,
            "min_height": null,
            "min_width": null,
            "object_fit": null,
            "object_position": null,
            "order": null,
            "overflow": null,
            "overflow_x": null,
            "overflow_y": null,
            "padding": null,
            "right": null,
            "top": null,
            "visibility": null,
            "width": null
          }
        },
        "cd11c24de3b14f85b74329738d76ad40": {
          "model_module": "@jupyter-widgets/base",
          "model_module_version": "1.2.0",
          "model_name": "LayoutModel",
          "state": {
            "_model_module": "@jupyter-widgets/base",
            "_model_module_version": "1.2.0",
            "_model_name": "LayoutModel",
            "_view_count": null,
            "_view_module": "@jupyter-widgets/base",
            "_view_module_version": "1.2.0",
            "_view_name": "LayoutView",
            "align_content": null,
            "align_items": null,
            "align_self": null,
            "border": null,
            "bottom": null,
            "display": null,
            "flex": null,
            "flex_flow": null,
            "grid_area": null,
            "grid_auto_columns": null,
            "grid_auto_flow": null,
            "grid_auto_rows": null,
            "grid_column": null,
            "grid_gap": null,
            "grid_row": null,
            "grid_template_areas": null,
            "grid_template_columns": null,
            "grid_template_rows": null,
            "height": null,
            "justify_content": null,
            "justify_items": null,
            "left": null,
            "margin": null,
            "max_height": null,
            "max_width": null,
            "min_height": null,
            "min_width": null,
            "object_fit": null,
            "object_position": null,
            "order": null,
            "overflow": null,
            "overflow_x": null,
            "overflow_y": null,
            "padding": null,
            "right": null,
            "top": null,
            "visibility": null,
            "width": null
          }
        },
        "cd3867203efe4bcab60770b3b1068a83": {
          "model_module": "@jupyter-widgets/controls",
          "model_module_version": "1.5.0",
          "model_name": "HTMLModel",
          "state": {
            "_dom_classes": [],
            "_model_module": "@jupyter-widgets/controls",
            "_model_module_version": "1.5.0",
            "_model_name": "HTMLModel",
            "_view_count": null,
            "_view_module": "@jupyter-widgets/controls",
            "_view_module_version": "1.5.0",
            "_view_name": "HTMLView",
            "description": "",
            "description_tooltip": null,
            "layout": "IPY_MODEL_a46992f99f2040f685513f4271299ebb",
            "placeholder": "​",
            "style": "IPY_MODEL_b1c5919e2ec14d6bb1d85fd683a47030",
            "value": "tokenizer_config.json: 100%"
          }
        },
        "cf747785209545d0ac367bca52441c79": {
          "model_module": "@jupyter-widgets/controls",
          "model_module_version": "1.5.0",
          "model_name": "DescriptionStyleModel",
          "state": {
            "_model_module": "@jupyter-widgets/controls",
            "_model_module_version": "1.5.0",
            "_model_name": "DescriptionStyleModel",
            "_view_count": null,
            "_view_module": "@jupyter-widgets/base",
            "_view_module_version": "1.2.0",
            "_view_name": "StyleView",
            "description_width": ""
          }
        },
        "d119f0a12dfe4e1482fb5041092a0596": {
          "model_module": "@jupyter-widgets/controls",
          "model_module_version": "1.5.0",
          "model_name": "HTMLModel",
          "state": {
            "_dom_classes": [],
            "_model_module": "@jupyter-widgets/controls",
            "_model_module_version": "1.5.0",
            "_model_name": "HTMLModel",
            "_view_count": null,
            "_view_module": "@jupyter-widgets/controls",
            "_view_module_version": "1.5.0",
            "_view_name": "HTMLView",
            "description": "",
            "description_tooltip": null,
            "layout": "IPY_MODEL_03918660fbf34a8e95fd2c3db9942e7e",
            "placeholder": "​",
            "style": "IPY_MODEL_dbc02cf458414efb966afe237ed41bdb",
            "value": "params.npz: 100%"
          }
        },
        "d3d334018e754c3a9c3de2ef33c56c3e": {
          "model_module": "@jupyter-widgets/controls",
          "model_module_version": "1.5.0",
          "model_name": "HTMLModel",
          "state": {
            "_dom_classes": [],
            "_model_module": "@jupyter-widgets/controls",
            "_model_module_version": "1.5.0",
            "_model_name": "HTMLModel",
            "_view_count": null,
            "_view_module": "@jupyter-widgets/controls",
            "_view_module_version": "1.5.0",
            "_view_name": "HTMLView",
            "description": "",
            "description_tooltip": null,
            "layout": "IPY_MODEL_8547cec94d124f35b1f1fca74d1b2d0c",
            "placeholder": "​",
            "style": "IPY_MODEL_2d43e160a65049f398b3f332ffd000ba",
            "value": "config.json: 100%"
          }
        },
        "d3e93348b3504d948659e8140919bda9": {
          "model_module": "@jupyter-widgets/controls",
          "model_module_version": "1.5.0",
          "model_name": "HTMLModel",
          "state": {
            "_dom_classes": [],
            "_model_module": "@jupyter-widgets/controls",
            "_model_module_version": "1.5.0",
            "_model_name": "HTMLModel",
            "_view_count": null,
            "_view_module": "@jupyter-widgets/controls",
            "_view_module_version": "1.5.0",
            "_view_name": "HTMLView",
            "description": "",
            "description_tooltip": null,
            "layout": "IPY_MODEL_dd15ecde61f84d73a0d61ffe0924f32c",
            "placeholder": "​",
            "style": "IPY_MODEL_51ccddfb30c14ea59eb8ab9ca284e9c4",
            "value": " 3/3 [00:43&lt;00:00, 11.96s/it]"
          }
        },
        "d437fdf58fe74669a41f0cd4ce97ace9": {
          "model_module": "@jupyter-widgets/controls",
          "model_module_version": "1.5.0",
          "model_name": "HTMLModel",
          "state": {
            "_dom_classes": [],
            "_model_module": "@jupyter-widgets/controls",
            "_model_module_version": "1.5.0",
            "_model_name": "HTMLModel",
            "_view_count": null,
            "_view_module": "@jupyter-widgets/controls",
            "_view_module_version": "1.5.0",
            "_view_name": "HTMLView",
            "description": "",
            "description_tooltip": null,
            "layout": "IPY_MODEL_c3acc1901727454da326e26af8b478ed",
            "placeholder": "​",
            "style": "IPY_MODEL_0dd8a9b348cc4dacb6b5cf75d1c7e10b",
            "value": "model-00002-of-00003.safetensors: 100%"
          }
        },
        "d4963fbcd83349559025506d63544610": {
          "model_module": "@jupyter-widgets/controls",
          "model_module_version": "1.5.0",
          "model_name": "ProgressStyleModel",
          "state": {
            "_model_module": "@jupyter-widgets/controls",
            "_model_module_version": "1.5.0",
            "_model_name": "ProgressStyleModel",
            "_view_count": null,
            "_view_module": "@jupyter-widgets/base",
            "_view_module_version": "1.2.0",
            "_view_name": "StyleView",
            "bar_color": null,
            "description_width": ""
          }
        },
        "d6ba9bf3bb0a4518a26885cbf65c5613": {
          "model_module": "@jupyter-widgets/base",
          "model_module_version": "1.2.0",
          "model_name": "LayoutModel",
          "state": {
            "_model_module": "@jupyter-widgets/base",
            "_model_module_version": "1.2.0",
            "_model_name": "LayoutModel",
            "_view_count": null,
            "_view_module": "@jupyter-widgets/base",
            "_view_module_version": "1.2.0",
            "_view_name": "LayoutView",
            "align_content": null,
            "align_items": null,
            "align_self": null,
            "border": null,
            "bottom": null,
            "display": null,
            "flex": null,
            "flex_flow": null,
            "grid_area": null,
            "grid_auto_columns": null,
            "grid_auto_flow": null,
            "grid_auto_rows": null,
            "grid_column": null,
            "grid_gap": null,
            "grid_row": null,
            "grid_template_areas": null,
            "grid_template_columns": null,
            "grid_template_rows": null,
            "height": null,
            "justify_content": null,
            "justify_items": null,
            "left": null,
            "margin": null,
            "max_height": null,
            "max_width": null,
            "min_height": null,
            "min_width": null,
            "object_fit": null,
            "object_position": null,
            "order": null,
            "overflow": null,
            "overflow_x": null,
            "overflow_y": null,
            "padding": null,
            "right": null,
            "top": null,
            "visibility": null,
            "width": null
          }
        },
        "d79ae37db916446b91d125c2ac090915": {
          "model_module": "@jupyter-widgets/controls",
          "model_module_version": "1.5.0",
          "model_name": "ProgressStyleModel",
          "state": {
            "_model_module": "@jupyter-widgets/controls",
            "_model_module_version": "1.5.0",
            "_model_name": "ProgressStyleModel",
            "_view_count": null,
            "_view_module": "@jupyter-widgets/base",
            "_view_module_version": "1.2.0",
            "_view_name": "StyleView",
            "bar_color": null,
            "description_width": ""
          }
        },
        "dbc02cf458414efb966afe237ed41bdb": {
          "model_module": "@jupyter-widgets/controls",
          "model_module_version": "1.5.0",
          "model_name": "DescriptionStyleModel",
          "state": {
            "_model_module": "@jupyter-widgets/controls",
            "_model_module_version": "1.5.0",
            "_model_name": "DescriptionStyleModel",
            "_view_count": null,
            "_view_module": "@jupyter-widgets/base",
            "_view_module_version": "1.2.0",
            "_view_name": "StyleView",
            "description_width": ""
          }
        },
        "dd15ecde61f84d73a0d61ffe0924f32c": {
          "model_module": "@jupyter-widgets/base",
          "model_module_version": "1.2.0",
          "model_name": "LayoutModel",
          "state": {
            "_model_module": "@jupyter-widgets/base",
            "_model_module_version": "1.2.0",
            "_model_name": "LayoutModel",
            "_view_count": null,
            "_view_module": "@jupyter-widgets/base",
            "_view_module_version": "1.2.0",
            "_view_name": "LayoutView",
            "align_content": null,
            "align_items": null,
            "align_self": null,
            "border": null,
            "bottom": null,
            "display": null,
            "flex": null,
            "flex_flow": null,
            "grid_area": null,
            "grid_auto_columns": null,
            "grid_auto_flow": null,
            "grid_auto_rows": null,
            "grid_column": null,
            "grid_gap": null,
            "grid_row": null,
            "grid_template_areas": null,
            "grid_template_columns": null,
            "grid_template_rows": null,
            "height": null,
            "justify_content": null,
            "justify_items": null,
            "left": null,
            "margin": null,
            "max_height": null,
            "max_width": null,
            "min_height": null,
            "min_width": null,
            "object_fit": null,
            "object_position": null,
            "order": null,
            "overflow": null,
            "overflow_x": null,
            "overflow_y": null,
            "padding": null,
            "right": null,
            "top": null,
            "visibility": null,
            "width": null
          }
        },
        "de8fc8e2b7ca4de0ad20d61ad3d9a7d7": {
          "model_module": "@jupyter-widgets/base",
          "model_module_version": "1.2.0",
          "model_name": "LayoutModel",
          "state": {
            "_model_module": "@jupyter-widgets/base",
            "_model_module_version": "1.2.0",
            "_model_name": "LayoutModel",
            "_view_count": null,
            "_view_module": "@jupyter-widgets/base",
            "_view_module_version": "1.2.0",
            "_view_name": "LayoutView",
            "align_content": null,
            "align_items": null,
            "align_self": null,
            "border": null,
            "bottom": null,
            "display": null,
            "flex": null,
            "flex_flow": null,
            "grid_area": null,
            "grid_auto_columns": null,
            "grid_auto_flow": null,
            "grid_auto_rows": null,
            "grid_column": null,
            "grid_gap": null,
            "grid_row": null,
            "grid_template_areas": null,
            "grid_template_columns": null,
            "grid_template_rows": null,
            "height": null,
            "justify_content": null,
            "justify_items": null,
            "left": null,
            "margin": null,
            "max_height": null,
            "max_width": null,
            "min_height": null,
            "min_width": null,
            "object_fit": null,
            "object_position": null,
            "order": null,
            "overflow": null,
            "overflow_x": null,
            "overflow_y": null,
            "padding": null,
            "right": null,
            "top": null,
            "visibility": null,
            "width": null
          }
        },
        "e460fe15a5654f58afb3ea0d29d0e0af": {
          "model_module": "@jupyter-widgets/base",
          "model_module_version": "1.2.0",
          "model_name": "LayoutModel",
          "state": {
            "_model_module": "@jupyter-widgets/base",
            "_model_module_version": "1.2.0",
            "_model_name": "LayoutModel",
            "_view_count": null,
            "_view_module": "@jupyter-widgets/base",
            "_view_module_version": "1.2.0",
            "_view_name": "LayoutView",
            "align_content": null,
            "align_items": null,
            "align_self": null,
            "border": null,
            "bottom": null,
            "display": null,
            "flex": null,
            "flex_flow": null,
            "grid_area": null,
            "grid_auto_columns": null,
            "grid_auto_flow": null,
            "grid_auto_rows": null,
            "grid_column": null,
            "grid_gap": null,
            "grid_row": null,
            "grid_template_areas": null,
            "grid_template_columns": null,
            "grid_template_rows": null,
            "height": null,
            "justify_content": null,
            "justify_items": null,
            "left": null,
            "margin": null,
            "max_height": null,
            "max_width": null,
            "min_height": null,
            "min_width": null,
            "object_fit": null,
            "object_position": null,
            "order": null,
            "overflow": null,
            "overflow_x": null,
            "overflow_y": null,
            "padding": null,
            "right": null,
            "top": null,
            "visibility": null,
            "width": null
          }
        },
        "e5db28eb31c54dd284692a61ffdf9eeb": {
          "model_module": "@jupyter-widgets/base",
          "model_module_version": "1.2.0",
          "model_name": "LayoutModel",
          "state": {
            "_model_module": "@jupyter-widgets/base",
            "_model_module_version": "1.2.0",
            "_model_name": "LayoutModel",
            "_view_count": null,
            "_view_module": "@jupyter-widgets/base",
            "_view_module_version": "1.2.0",
            "_view_name": "LayoutView",
            "align_content": null,
            "align_items": null,
            "align_self": null,
            "border": null,
            "bottom": null,
            "display": null,
            "flex": null,
            "flex_flow": null,
            "grid_area": null,
            "grid_auto_columns": null,
            "grid_auto_flow": null,
            "grid_auto_rows": null,
            "grid_column": null,
            "grid_gap": null,
            "grid_row": null,
            "grid_template_areas": null,
            "grid_template_columns": null,
            "grid_template_rows": null,
            "height": null,
            "justify_content": null,
            "justify_items": null,
            "left": null,
            "margin": null,
            "max_height": null,
            "max_width": null,
            "min_height": null,
            "min_width": null,
            "object_fit": null,
            "object_position": null,
            "order": null,
            "overflow": null,
            "overflow_x": null,
            "overflow_y": null,
            "padding": null,
            "right": null,
            "top": null,
            "visibility": null,
            "width": null
          }
        },
        "e6ffdc54f97e4b85b163feca57dcb213": {
          "model_module": "@jupyter-widgets/base",
          "model_module_version": "1.2.0",
          "model_name": "LayoutModel",
          "state": {
            "_model_module": "@jupyter-widgets/base",
            "_model_module_version": "1.2.0",
            "_model_name": "LayoutModel",
            "_view_count": null,
            "_view_module": "@jupyter-widgets/base",
            "_view_module_version": "1.2.0",
            "_view_name": "LayoutView",
            "align_content": null,
            "align_items": null,
            "align_self": null,
            "border": null,
            "bottom": null,
            "display": null,
            "flex": null,
            "flex_flow": null,
            "grid_area": null,
            "grid_auto_columns": null,
            "grid_auto_flow": null,
            "grid_auto_rows": null,
            "grid_column": null,
            "grid_gap": null,
            "grid_row": null,
            "grid_template_areas": null,
            "grid_template_columns": null,
            "grid_template_rows": null,
            "height": null,
            "justify_content": null,
            "justify_items": null,
            "left": null,
            "margin": null,
            "max_height": null,
            "max_width": null,
            "min_height": null,
            "min_width": null,
            "object_fit": null,
            "object_position": null,
            "order": null,
            "overflow": null,
            "overflow_x": null,
            "overflow_y": null,
            "padding": null,
            "right": null,
            "top": null,
            "visibility": null,
            "width": null
          }
        },
        "e800400bfc9d4bb1954c3a695f49bcd8": {
          "model_module": "@jupyter-widgets/base",
          "model_module_version": "1.2.0",
          "model_name": "LayoutModel",
          "state": {
            "_model_module": "@jupyter-widgets/base",
            "_model_module_version": "1.2.0",
            "_model_name": "LayoutModel",
            "_view_count": null,
            "_view_module": "@jupyter-widgets/base",
            "_view_module_version": "1.2.0",
            "_view_name": "LayoutView",
            "align_content": null,
            "align_items": null,
            "align_self": null,
            "border": null,
            "bottom": null,
            "display": null,
            "flex": null,
            "flex_flow": null,
            "grid_area": null,
            "grid_auto_columns": null,
            "grid_auto_flow": null,
            "grid_auto_rows": null,
            "grid_column": null,
            "grid_gap": null,
            "grid_row": null,
            "grid_template_areas": null,
            "grid_template_columns": null,
            "grid_template_rows": null,
            "height": null,
            "justify_content": null,
            "justify_items": null,
            "left": null,
            "margin": null,
            "max_height": null,
            "max_width": null,
            "min_height": null,
            "min_width": null,
            "object_fit": null,
            "object_position": null,
            "order": null,
            "overflow": null,
            "overflow_x": null,
            "overflow_y": null,
            "padding": null,
            "right": null,
            "top": null,
            "visibility": null,
            "width": null
          }
        },
        "e9c21325b7a14171a8d293c2757526a7": {
          "model_module": "@jupyter-widgets/base",
          "model_module_version": "1.2.0",
          "model_name": "LayoutModel",
          "state": {
            "_model_module": "@jupyter-widgets/base",
            "_model_module_version": "1.2.0",
            "_model_name": "LayoutModel",
            "_view_count": null,
            "_view_module": "@jupyter-widgets/base",
            "_view_module_version": "1.2.0",
            "_view_name": "LayoutView",
            "align_content": null,
            "align_items": null,
            "align_self": null,
            "border": null,
            "bottom": null,
            "display": null,
            "flex": null,
            "flex_flow": null,
            "grid_area": null,
            "grid_auto_columns": null,
            "grid_auto_flow": null,
            "grid_auto_rows": null,
            "grid_column": null,
            "grid_gap": null,
            "grid_row": null,
            "grid_template_areas": null,
            "grid_template_columns": null,
            "grid_template_rows": null,
            "height": null,
            "justify_content": null,
            "justify_items": null,
            "left": null,
            "margin": null,
            "max_height": null,
            "max_width": null,
            "min_height": null,
            "min_width": null,
            "object_fit": null,
            "object_position": null,
            "order": null,
            "overflow": null,
            "overflow_x": null,
            "overflow_y": null,
            "padding": null,
            "right": null,
            "top": null,
            "visibility": null,
            "width": null
          }
        },
        "ec381602d4db46d28b8bfe4167c08595": {
          "model_module": "@jupyter-widgets/controls",
          "model_module_version": "1.5.0",
          "model_name": "DescriptionStyleModel",
          "state": {
            "_model_module": "@jupyter-widgets/controls",
            "_model_module_version": "1.5.0",
            "_model_name": "DescriptionStyleModel",
            "_view_count": null,
            "_view_module": "@jupyter-widgets/base",
            "_view_module_version": "1.2.0",
            "_view_name": "StyleView",
            "description_width": ""
          }
        },
        "edd2d8352a4a4a628c036d005fa175cd": {
          "model_module": "@jupyter-widgets/base",
          "model_module_version": "1.2.0",
          "model_name": "LayoutModel",
          "state": {
            "_model_module": "@jupyter-widgets/base",
            "_model_module_version": "1.2.0",
            "_model_name": "LayoutModel",
            "_view_count": null,
            "_view_module": "@jupyter-widgets/base",
            "_view_module_version": "1.2.0",
            "_view_name": "LayoutView",
            "align_content": null,
            "align_items": null,
            "align_self": null,
            "border": null,
            "bottom": null,
            "display": null,
            "flex": null,
            "flex_flow": null,
            "grid_area": null,
            "grid_auto_columns": null,
            "grid_auto_flow": null,
            "grid_auto_rows": null,
            "grid_column": null,
            "grid_gap": null,
            "grid_row": null,
            "grid_template_areas": null,
            "grid_template_columns": null,
            "grid_template_rows": null,
            "height": null,
            "justify_content": null,
            "justify_items": null,
            "left": null,
            "margin": null,
            "max_height": null,
            "max_width": null,
            "min_height": null,
            "min_width": null,
            "object_fit": null,
            "object_position": null,
            "order": null,
            "overflow": null,
            "overflow_x": null,
            "overflow_y": null,
            "padding": null,
            "right": null,
            "top": null,
            "visibility": null,
            "width": null
          }
        },
        "eecfd350bbd64022937c27c3b5220170": {
          "model_module": "@jupyter-widgets/controls",
          "model_module_version": "1.5.0",
          "model_name": "DescriptionStyleModel",
          "state": {
            "_model_module": "@jupyter-widgets/controls",
            "_model_module_version": "1.5.0",
            "_model_name": "DescriptionStyleModel",
            "_view_count": null,
            "_view_module": "@jupyter-widgets/base",
            "_view_module_version": "1.2.0",
            "_view_name": "StyleView",
            "description_width": ""
          }
        },
        "ef7ba7e63c8741729b9786be90b0f29b": {
          "model_module": "@jupyter-widgets/base",
          "model_module_version": "1.2.0",
          "model_name": "LayoutModel",
          "state": {
            "_model_module": "@jupyter-widgets/base",
            "_model_module_version": "1.2.0",
            "_model_name": "LayoutModel",
            "_view_count": null,
            "_view_module": "@jupyter-widgets/base",
            "_view_module_version": "1.2.0",
            "_view_name": "LayoutView",
            "align_content": null,
            "align_items": null,
            "align_self": null,
            "border": null,
            "bottom": null,
            "display": null,
            "flex": null,
            "flex_flow": null,
            "grid_area": null,
            "grid_auto_columns": null,
            "grid_auto_flow": null,
            "grid_auto_rows": null,
            "grid_column": null,
            "grid_gap": null,
            "grid_row": null,
            "grid_template_areas": null,
            "grid_template_columns": null,
            "grid_template_rows": null,
            "height": null,
            "justify_content": null,
            "justify_items": null,
            "left": null,
            "margin": null,
            "max_height": null,
            "max_width": null,
            "min_height": null,
            "min_width": null,
            "object_fit": null,
            "object_position": null,
            "order": null,
            "overflow": null,
            "overflow_x": null,
            "overflow_y": null,
            "padding": null,
            "right": null,
            "top": null,
            "visibility": null,
            "width": null
          }
        },
        "f087d87bb16a4e87afbdf7a02cc82767": {
          "model_module": "@jupyter-widgets/base",
          "model_module_version": "1.2.0",
          "model_name": "LayoutModel",
          "state": {
            "_model_module": "@jupyter-widgets/base",
            "_model_module_version": "1.2.0",
            "_model_name": "LayoutModel",
            "_view_count": null,
            "_view_module": "@jupyter-widgets/base",
            "_view_module_version": "1.2.0",
            "_view_name": "LayoutView",
            "align_content": null,
            "align_items": null,
            "align_self": null,
            "border": null,
            "bottom": null,
            "display": null,
            "flex": null,
            "flex_flow": null,
            "grid_area": null,
            "grid_auto_columns": null,
            "grid_auto_flow": null,
            "grid_auto_rows": null,
            "grid_column": null,
            "grid_gap": null,
            "grid_row": null,
            "grid_template_areas": null,
            "grid_template_columns": null,
            "grid_template_rows": null,
            "height": null,
            "justify_content": null,
            "justify_items": null,
            "left": null,
            "margin": null,
            "max_height": null,
            "max_width": null,
            "min_height": null,
            "min_width": null,
            "object_fit": null,
            "object_position": null,
            "order": null,
            "overflow": null,
            "overflow_x": null,
            "overflow_y": null,
            "padding": null,
            "right": null,
            "top": null,
            "visibility": null,
            "width": null
          }
        },
        "f154c1cd8c864ddf933d67c168acd06e": {
          "model_module": "@jupyter-widgets/controls",
          "model_module_version": "1.5.0",
          "model_name": "DescriptionStyleModel",
          "state": {
            "_model_module": "@jupyter-widgets/controls",
            "_model_module_version": "1.5.0",
            "_model_name": "DescriptionStyleModel",
            "_view_count": null,
            "_view_module": "@jupyter-widgets/base",
            "_view_module_version": "1.2.0",
            "_view_name": "StyleView",
            "description_width": ""
          }
        },
        "f9fc2f84bc2b4bf68f33c23bcb470ec1": {
          "model_module": "@jupyter-widgets/controls",
          "model_module_version": "1.5.0",
          "model_name": "HBoxModel",
          "state": {
            "_dom_classes": [],
            "_model_module": "@jupyter-widgets/controls",
            "_model_module_version": "1.5.0",
            "_model_name": "HBoxModel",
            "_view_count": null,
            "_view_module": "@jupyter-widgets/controls",
            "_view_module_version": "1.5.0",
            "_view_name": "HBoxView",
            "box_style": "",
            "children": [
              "IPY_MODEL_124bcdddebfb4b76a00b29b7bba1b6b7",
              "IPY_MODEL_29e6cc8e3b51421aaf629a008c7eb03d",
              "IPY_MODEL_4b98854ce7e24f788e1c8c4dfdafcea3"
            ],
            "layout": "IPY_MODEL_a025b013624b47efaf55b826e0b8a2f1"
          }
        },
        "fa4a9b9174a3405b9c5a18230aff50f1": {
          "model_module": "@jupyter-widgets/controls",
          "model_module_version": "1.5.0",
          "model_name": "HTMLModel",
          "state": {
            "_dom_classes": [],
            "_model_module": "@jupyter-widgets/controls",
            "_model_module_version": "1.5.0",
            "_model_name": "HTMLModel",
            "_view_count": null,
            "_view_module": "@jupyter-widgets/controls",
            "_view_module_version": "1.5.0",
            "_view_name": "HTMLView",
            "description": "",
            "description_tooltip": null,
            "layout": "IPY_MODEL_84e0ee3f145c42b18aef052dda03fe5e",
            "placeholder": "​",
            "style": "IPY_MODEL_9041e78800854e548d39e7c3ce35397b",
            "value": "model-00001-of-00003.safetensors: 100%"
          }
        },
        "fc69d3cf0e7141058d9fdb5771376148": {
          "model_module": "@jupyter-widgets/base",
          "model_module_version": "1.2.0",
          "model_name": "LayoutModel",
          "state": {
            "_model_module": "@jupyter-widgets/base",
            "_model_module_version": "1.2.0",
            "_model_name": "LayoutModel",
            "_view_count": null,
            "_view_module": "@jupyter-widgets/base",
            "_view_module_version": "1.2.0",
            "_view_name": "LayoutView",
            "align_content": null,
            "align_items": null,
            "align_self": null,
            "border": null,
            "bottom": null,
            "display": null,
            "flex": null,
            "flex_flow": null,
            "grid_area": null,
            "grid_auto_columns": null,
            "grid_auto_flow": null,
            "grid_auto_rows": null,
            "grid_column": null,
            "grid_gap": null,
            "grid_row": null,
            "grid_template_areas": null,
            "grid_template_columns": null,
            "grid_template_rows": null,
            "height": null,
            "justify_content": null,
            "justify_items": null,
            "left": null,
            "margin": null,
            "max_height": null,
            "max_width": null,
            "min_height": null,
            "min_width": null,
            "object_fit": null,
            "object_position": null,
            "order": null,
            "overflow": null,
            "overflow_x": null,
            "overflow_y": null,
            "padding": null,
            "right": null,
            "top": null,
            "visibility": null,
            "width": null
          }
        },
        "fcf08a84442646b5906d61ebd75b75be": {
          "model_module": "@jupyter-widgets/controls",
          "model_module_version": "1.5.0",
          "model_name": "FloatProgressModel",
          "state": {
            "_dom_classes": [],
            "_model_module": "@jupyter-widgets/controls",
            "_model_module_version": "1.5.0",
            "_model_name": "FloatProgressModel",
            "_view_count": null,
            "_view_module": "@jupyter-widgets/controls",
            "_view_module_version": "1.5.0",
            "_view_name": "ProgressView",
            "bar_style": "success",
            "description": "",
            "description_tooltip": null,
            "layout": "IPY_MODEL_963e50d15c984d43ad0751c7b273406c",
            "max": 168,
            "min": 0,
            "orientation": "horizontal",
            "style": "IPY_MODEL_01f719e501134550938ad62c1497b6d9",
            "value": 168
          }
        }
      }
    }
  },
  "nbformat": 4,
  "nbformat_minor": 0
}