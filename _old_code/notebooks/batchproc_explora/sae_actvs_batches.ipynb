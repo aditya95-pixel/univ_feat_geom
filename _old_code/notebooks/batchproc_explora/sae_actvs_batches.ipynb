{
  "nbformat": 4,
  "nbformat_minor": 0,
  "metadata": {
    "colab": {
      "provenance": [],
      "toc_visible": true,
      "machine_shape": "hm",
      "gpuType": "A100"
    },
    "kernelspec": {
      "name": "python3",
      "display_name": "Python 3"
    },
    "language_info": {
      "name": "python"
    },
    "accelerator": "GPU",
    "widgets": {
      "application/vnd.jupyter.widget-state+json": {
        "83e715a23e494db79048166ca961abe6": {
          "model_module": "@jupyter-widgets/controls",
          "model_name": "HBoxModel",
          "model_module_version": "1.5.0",
          "state": {
            "_dom_classes": [],
            "_model_module": "@jupyter-widgets/controls",
            "_model_module_version": "1.5.0",
            "_model_name": "HBoxModel",
            "_view_count": null,
            "_view_module": "@jupyter-widgets/controls",
            "_view_module_version": "1.5.0",
            "_view_name": "HBoxView",
            "box_style": "",
            "children": [
              "IPY_MODEL_8d06d10a155e4ce1960432f6c4cb1e51",
              "IPY_MODEL_f5fdefef80b4486ba7dbacd6510f515b",
              "IPY_MODEL_895a21e146d347109fc2736298bb4f05"
            ],
            "layout": "IPY_MODEL_332f59513206464aa91fa17a9a310698"
          }
        },
        "8d06d10a155e4ce1960432f6c4cb1e51": {
          "model_module": "@jupyter-widgets/controls",
          "model_name": "HTMLModel",
          "model_module_version": "1.5.0",
          "state": {
            "_dom_classes": [],
            "_model_module": "@jupyter-widgets/controls",
            "_model_module_version": "1.5.0",
            "_model_name": "HTMLModel",
            "_view_count": null,
            "_view_module": "@jupyter-widgets/controls",
            "_view_module_version": "1.5.0",
            "_view_name": "HTMLView",
            "description": "",
            "description_tooltip": null,
            "layout": "IPY_MODEL_19df37106de14f74be1ffa3ac01d9bd5",
            "placeholder": "​",
            "style": "IPY_MODEL_9ace754c7e934eadbe326468404a281c",
            "value": "Fetching 2 files: 100%"
          }
        },
        "f5fdefef80b4486ba7dbacd6510f515b": {
          "model_module": "@jupyter-widgets/controls",
          "model_name": "FloatProgressModel",
          "model_module_version": "1.5.0",
          "state": {
            "_dom_classes": [],
            "_model_module": "@jupyter-widgets/controls",
            "_model_module_version": "1.5.0",
            "_model_name": "FloatProgressModel",
            "_view_count": null,
            "_view_module": "@jupyter-widgets/controls",
            "_view_module_version": "1.5.0",
            "_view_name": "ProgressView",
            "bar_style": "success",
            "description": "",
            "description_tooltip": null,
            "layout": "IPY_MODEL_9acc94ec5ab94adb8bb4252482a6bc80",
            "max": 2,
            "min": 0,
            "orientation": "horizontal",
            "style": "IPY_MODEL_e5afbeabcd7e4543b1d02d35acbc3235",
            "value": 2
          }
        },
        "895a21e146d347109fc2736298bb4f05": {
          "model_module": "@jupyter-widgets/controls",
          "model_name": "HTMLModel",
          "model_module_version": "1.5.0",
          "state": {
            "_dom_classes": [],
            "_model_module": "@jupyter-widgets/controls",
            "_model_module_version": "1.5.0",
            "_model_name": "HTMLModel",
            "_view_count": null,
            "_view_module": "@jupyter-widgets/controls",
            "_view_module_version": "1.5.0",
            "_view_name": "HTMLView",
            "description": "",
            "description_tooltip": null,
            "layout": "IPY_MODEL_7dc2fd05c918423f9345d10f6bcdbae0",
            "placeholder": "​",
            "style": "IPY_MODEL_092956d51ff6483082c34cae6e0b1930",
            "value": " 2/2 [00:00&lt;00:00, 267.45it/s]"
          }
        },
        "332f59513206464aa91fa17a9a310698": {
          "model_module": "@jupyter-widgets/base",
          "model_name": "LayoutModel",
          "model_module_version": "1.2.0",
          "state": {
            "_model_module": "@jupyter-widgets/base",
            "_model_module_version": "1.2.0",
            "_model_name": "LayoutModel",
            "_view_count": null,
            "_view_module": "@jupyter-widgets/base",
            "_view_module_version": "1.2.0",
            "_view_name": "LayoutView",
            "align_content": null,
            "align_items": null,
            "align_self": null,
            "border": null,
            "bottom": null,
            "display": null,
            "flex": null,
            "flex_flow": null,
            "grid_area": null,
            "grid_auto_columns": null,
            "grid_auto_flow": null,
            "grid_auto_rows": null,
            "grid_column": null,
            "grid_gap": null,
            "grid_row": null,
            "grid_template_areas": null,
            "grid_template_columns": null,
            "grid_template_rows": null,
            "height": null,
            "justify_content": null,
            "justify_items": null,
            "left": null,
            "margin": null,
            "max_height": null,
            "max_width": null,
            "min_height": null,
            "min_width": null,
            "object_fit": null,
            "object_position": null,
            "order": null,
            "overflow": null,
            "overflow_x": null,
            "overflow_y": null,
            "padding": null,
            "right": null,
            "top": null,
            "visibility": null,
            "width": null
          }
        },
        "19df37106de14f74be1ffa3ac01d9bd5": {
          "model_module": "@jupyter-widgets/base",
          "model_name": "LayoutModel",
          "model_module_version": "1.2.0",
          "state": {
            "_model_module": "@jupyter-widgets/base",
            "_model_module_version": "1.2.0",
            "_model_name": "LayoutModel",
            "_view_count": null,
            "_view_module": "@jupyter-widgets/base",
            "_view_module_version": "1.2.0",
            "_view_name": "LayoutView",
            "align_content": null,
            "align_items": null,
            "align_self": null,
            "border": null,
            "bottom": null,
            "display": null,
            "flex": null,
            "flex_flow": null,
            "grid_area": null,
            "grid_auto_columns": null,
            "grid_auto_flow": null,
            "grid_auto_rows": null,
            "grid_column": null,
            "grid_gap": null,
            "grid_row": null,
            "grid_template_areas": null,
            "grid_template_columns": null,
            "grid_template_rows": null,
            "height": null,
            "justify_content": null,
            "justify_items": null,
            "left": null,
            "margin": null,
            "max_height": null,
            "max_width": null,
            "min_height": null,
            "min_width": null,
            "object_fit": null,
            "object_position": null,
            "order": null,
            "overflow": null,
            "overflow_x": null,
            "overflow_y": null,
            "padding": null,
            "right": null,
            "top": null,
            "visibility": null,
            "width": null
          }
        },
        "9ace754c7e934eadbe326468404a281c": {
          "model_module": "@jupyter-widgets/controls",
          "model_name": "DescriptionStyleModel",
          "model_module_version": "1.5.0",
          "state": {
            "_model_module": "@jupyter-widgets/controls",
            "_model_module_version": "1.5.0",
            "_model_name": "DescriptionStyleModel",
            "_view_count": null,
            "_view_module": "@jupyter-widgets/base",
            "_view_module_version": "1.2.0",
            "_view_name": "StyleView",
            "description_width": ""
          }
        },
        "9acc94ec5ab94adb8bb4252482a6bc80": {
          "model_module": "@jupyter-widgets/base",
          "model_name": "LayoutModel",
          "model_module_version": "1.2.0",
          "state": {
            "_model_module": "@jupyter-widgets/base",
            "_model_module_version": "1.2.0",
            "_model_name": "LayoutModel",
            "_view_count": null,
            "_view_module": "@jupyter-widgets/base",
            "_view_module_version": "1.2.0",
            "_view_name": "LayoutView",
            "align_content": null,
            "align_items": null,
            "align_self": null,
            "border": null,
            "bottom": null,
            "display": null,
            "flex": null,
            "flex_flow": null,
            "grid_area": null,
            "grid_auto_columns": null,
            "grid_auto_flow": null,
            "grid_auto_rows": null,
            "grid_column": null,
            "grid_gap": null,
            "grid_row": null,
            "grid_template_areas": null,
            "grid_template_columns": null,
            "grid_template_rows": null,
            "height": null,
            "justify_content": null,
            "justify_items": null,
            "left": null,
            "margin": null,
            "max_height": null,
            "max_width": null,
            "min_height": null,
            "min_width": null,
            "object_fit": null,
            "object_position": null,
            "order": null,
            "overflow": null,
            "overflow_x": null,
            "overflow_y": null,
            "padding": null,
            "right": null,
            "top": null,
            "visibility": null,
            "width": null
          }
        },
        "e5afbeabcd7e4543b1d02d35acbc3235": {
          "model_module": "@jupyter-widgets/controls",
          "model_name": "ProgressStyleModel",
          "model_module_version": "1.5.0",
          "state": {
            "_model_module": "@jupyter-widgets/controls",
            "_model_module_version": "1.5.0",
            "_model_name": "ProgressStyleModel",
            "_view_count": null,
            "_view_module": "@jupyter-widgets/base",
            "_view_module_version": "1.2.0",
            "_view_name": "StyleView",
            "bar_color": null,
            "description_width": ""
          }
        },
        "7dc2fd05c918423f9345d10f6bcdbae0": {
          "model_module": "@jupyter-widgets/base",
          "model_name": "LayoutModel",
          "model_module_version": "1.2.0",
          "state": {
            "_model_module": "@jupyter-widgets/base",
            "_model_module_version": "1.2.0",
            "_model_name": "LayoutModel",
            "_view_count": null,
            "_view_module": "@jupyter-widgets/base",
            "_view_module_version": "1.2.0",
            "_view_name": "LayoutView",
            "align_content": null,
            "align_items": null,
            "align_self": null,
            "border": null,
            "bottom": null,
            "display": null,
            "flex": null,
            "flex_flow": null,
            "grid_area": null,
            "grid_auto_columns": null,
            "grid_auto_flow": null,
            "grid_auto_rows": null,
            "grid_column": null,
            "grid_gap": null,
            "grid_row": null,
            "grid_template_areas": null,
            "grid_template_columns": null,
            "grid_template_rows": null,
            "height": null,
            "justify_content": null,
            "justify_items": null,
            "left": null,
            "margin": null,
            "max_height": null,
            "max_width": null,
            "min_height": null,
            "min_width": null,
            "object_fit": null,
            "object_position": null,
            "order": null,
            "overflow": null,
            "overflow_x": null,
            "overflow_y": null,
            "padding": null,
            "right": null,
            "top": null,
            "visibility": null,
            "width": null
          }
        },
        "092956d51ff6483082c34cae6e0b1930": {
          "model_module": "@jupyter-widgets/controls",
          "model_name": "DescriptionStyleModel",
          "model_module_version": "1.5.0",
          "state": {
            "_model_module": "@jupyter-widgets/controls",
            "_model_module_version": "1.5.0",
            "_model_name": "DescriptionStyleModel",
            "_view_count": null,
            "_view_module": "@jupyter-widgets/base",
            "_view_module_version": "1.2.0",
            "_view_name": "StyleView",
            "description_width": ""
          }
        },
        "c4343273002245439ea409ae1580ed4f": {
          "model_module": "@jupyter-widgets/controls",
          "model_name": "HBoxModel",
          "model_module_version": "1.5.0",
          "state": {
            "_dom_classes": [],
            "_model_module": "@jupyter-widgets/controls",
            "_model_module_version": "1.5.0",
            "_model_name": "HBoxModel",
            "_view_count": null,
            "_view_module": "@jupyter-widgets/controls",
            "_view_module_version": "1.5.0",
            "_view_name": "HBoxView",
            "box_style": "",
            "children": [
              "IPY_MODEL_ab13725975934a7e8593011c65c28207",
              "IPY_MODEL_3788a34c2e044510b27bc9181c4e272b",
              "IPY_MODEL_807823ad98b64cbf883f6ecdf3c05625"
            ],
            "layout": "IPY_MODEL_4ff5ff54d41249258adc1a95b9a20035"
          }
        },
        "ab13725975934a7e8593011c65c28207": {
          "model_module": "@jupyter-widgets/controls",
          "model_name": "HTMLModel",
          "model_module_version": "1.5.0",
          "state": {
            "_dom_classes": [],
            "_model_module": "@jupyter-widgets/controls",
            "_model_module_version": "1.5.0",
            "_model_name": "HTMLModel",
            "_view_count": null,
            "_view_module": "@jupyter-widgets/controls",
            "_view_module_version": "1.5.0",
            "_view_name": "HTMLView",
            "description": "",
            "description_tooltip": null,
            "layout": "IPY_MODEL_00898670bcb1433da622d6cbdd644197",
            "placeholder": "​",
            "style": "IPY_MODEL_3a22e91a1a3646b5b273c6a1e934646b",
            "value": "Fetching 2 files: 100%"
          }
        },
        "3788a34c2e044510b27bc9181c4e272b": {
          "model_module": "@jupyter-widgets/controls",
          "model_name": "FloatProgressModel",
          "model_module_version": "1.5.0",
          "state": {
            "_dom_classes": [],
            "_model_module": "@jupyter-widgets/controls",
            "_model_module_version": "1.5.0",
            "_model_name": "FloatProgressModel",
            "_view_count": null,
            "_view_module": "@jupyter-widgets/controls",
            "_view_module_version": "1.5.0",
            "_view_name": "ProgressView",
            "bar_style": "success",
            "description": "",
            "description_tooltip": null,
            "layout": "IPY_MODEL_e768371619d1490097480be47882f7e5",
            "max": 2,
            "min": 0,
            "orientation": "horizontal",
            "style": "IPY_MODEL_b65daa4eddf348baab414d4e057ec871",
            "value": 2
          }
        },
        "807823ad98b64cbf883f6ecdf3c05625": {
          "model_module": "@jupyter-widgets/controls",
          "model_name": "HTMLModel",
          "model_module_version": "1.5.0",
          "state": {
            "_dom_classes": [],
            "_model_module": "@jupyter-widgets/controls",
            "_model_module_version": "1.5.0",
            "_model_name": "HTMLModel",
            "_view_count": null,
            "_view_module": "@jupyter-widgets/controls",
            "_view_module_version": "1.5.0",
            "_view_name": "HTMLView",
            "description": "",
            "description_tooltip": null,
            "layout": "IPY_MODEL_ffdd161973414316949f6b486b4a6a46",
            "placeholder": "​",
            "style": "IPY_MODEL_6d59a9eb81b64180ab87764498467c1f",
            "value": " 2/2 [00:00&lt;00:00, 180.61it/s]"
          }
        },
        "4ff5ff54d41249258adc1a95b9a20035": {
          "model_module": "@jupyter-widgets/base",
          "model_name": "LayoutModel",
          "model_module_version": "1.2.0",
          "state": {
            "_model_module": "@jupyter-widgets/base",
            "_model_module_version": "1.2.0",
            "_model_name": "LayoutModel",
            "_view_count": null,
            "_view_module": "@jupyter-widgets/base",
            "_view_module_version": "1.2.0",
            "_view_name": "LayoutView",
            "align_content": null,
            "align_items": null,
            "align_self": null,
            "border": null,
            "bottom": null,
            "display": null,
            "flex": null,
            "flex_flow": null,
            "grid_area": null,
            "grid_auto_columns": null,
            "grid_auto_flow": null,
            "grid_auto_rows": null,
            "grid_column": null,
            "grid_gap": null,
            "grid_row": null,
            "grid_template_areas": null,
            "grid_template_columns": null,
            "grid_template_rows": null,
            "height": null,
            "justify_content": null,
            "justify_items": null,
            "left": null,
            "margin": null,
            "max_height": null,
            "max_width": null,
            "min_height": null,
            "min_width": null,
            "object_fit": null,
            "object_position": null,
            "order": null,
            "overflow": null,
            "overflow_x": null,
            "overflow_y": null,
            "padding": null,
            "right": null,
            "top": null,
            "visibility": null,
            "width": null
          }
        },
        "00898670bcb1433da622d6cbdd644197": {
          "model_module": "@jupyter-widgets/base",
          "model_name": "LayoutModel",
          "model_module_version": "1.2.0",
          "state": {
            "_model_module": "@jupyter-widgets/base",
            "_model_module_version": "1.2.0",
            "_model_name": "LayoutModel",
            "_view_count": null,
            "_view_module": "@jupyter-widgets/base",
            "_view_module_version": "1.2.0",
            "_view_name": "LayoutView",
            "align_content": null,
            "align_items": null,
            "align_self": null,
            "border": null,
            "bottom": null,
            "display": null,
            "flex": null,
            "flex_flow": null,
            "grid_area": null,
            "grid_auto_columns": null,
            "grid_auto_flow": null,
            "grid_auto_rows": null,
            "grid_column": null,
            "grid_gap": null,
            "grid_row": null,
            "grid_template_areas": null,
            "grid_template_columns": null,
            "grid_template_rows": null,
            "height": null,
            "justify_content": null,
            "justify_items": null,
            "left": null,
            "margin": null,
            "max_height": null,
            "max_width": null,
            "min_height": null,
            "min_width": null,
            "object_fit": null,
            "object_position": null,
            "order": null,
            "overflow": null,
            "overflow_x": null,
            "overflow_y": null,
            "padding": null,
            "right": null,
            "top": null,
            "visibility": null,
            "width": null
          }
        },
        "3a22e91a1a3646b5b273c6a1e934646b": {
          "model_module": "@jupyter-widgets/controls",
          "model_name": "DescriptionStyleModel",
          "model_module_version": "1.5.0",
          "state": {
            "_model_module": "@jupyter-widgets/controls",
            "_model_module_version": "1.5.0",
            "_model_name": "DescriptionStyleModel",
            "_view_count": null,
            "_view_module": "@jupyter-widgets/base",
            "_view_module_version": "1.2.0",
            "_view_name": "StyleView",
            "description_width": ""
          }
        },
        "e768371619d1490097480be47882f7e5": {
          "model_module": "@jupyter-widgets/base",
          "model_name": "LayoutModel",
          "model_module_version": "1.2.0",
          "state": {
            "_model_module": "@jupyter-widgets/base",
            "_model_module_version": "1.2.0",
            "_model_name": "LayoutModel",
            "_view_count": null,
            "_view_module": "@jupyter-widgets/base",
            "_view_module_version": "1.2.0",
            "_view_name": "LayoutView",
            "align_content": null,
            "align_items": null,
            "align_self": null,
            "border": null,
            "bottom": null,
            "display": null,
            "flex": null,
            "flex_flow": null,
            "grid_area": null,
            "grid_auto_columns": null,
            "grid_auto_flow": null,
            "grid_auto_rows": null,
            "grid_column": null,
            "grid_gap": null,
            "grid_row": null,
            "grid_template_areas": null,
            "grid_template_columns": null,
            "grid_template_rows": null,
            "height": null,
            "justify_content": null,
            "justify_items": null,
            "left": null,
            "margin": null,
            "max_height": null,
            "max_width": null,
            "min_height": null,
            "min_width": null,
            "object_fit": null,
            "object_position": null,
            "order": null,
            "overflow": null,
            "overflow_x": null,
            "overflow_y": null,
            "padding": null,
            "right": null,
            "top": null,
            "visibility": null,
            "width": null
          }
        },
        "b65daa4eddf348baab414d4e057ec871": {
          "model_module": "@jupyter-widgets/controls",
          "model_name": "ProgressStyleModel",
          "model_module_version": "1.5.0",
          "state": {
            "_model_module": "@jupyter-widgets/controls",
            "_model_module_version": "1.5.0",
            "_model_name": "ProgressStyleModel",
            "_view_count": null,
            "_view_module": "@jupyter-widgets/base",
            "_view_module_version": "1.2.0",
            "_view_name": "StyleView",
            "bar_color": null,
            "description_width": ""
          }
        },
        "ffdd161973414316949f6b486b4a6a46": {
          "model_module": "@jupyter-widgets/base",
          "model_name": "LayoutModel",
          "model_module_version": "1.2.0",
          "state": {
            "_model_module": "@jupyter-widgets/base",
            "_model_module_version": "1.2.0",
            "_model_name": "LayoutModel",
            "_view_count": null,
            "_view_module": "@jupyter-widgets/base",
            "_view_module_version": "1.2.0",
            "_view_name": "LayoutView",
            "align_content": null,
            "align_items": null,
            "align_self": null,
            "border": null,
            "bottom": null,
            "display": null,
            "flex": null,
            "flex_flow": null,
            "grid_area": null,
            "grid_auto_columns": null,
            "grid_auto_flow": null,
            "grid_auto_rows": null,
            "grid_column": null,
            "grid_gap": null,
            "grid_row": null,
            "grid_template_areas": null,
            "grid_template_columns": null,
            "grid_template_rows": null,
            "height": null,
            "justify_content": null,
            "justify_items": null,
            "left": null,
            "margin": null,
            "max_height": null,
            "max_width": null,
            "min_height": null,
            "min_width": null,
            "object_fit": null,
            "object_position": null,
            "order": null,
            "overflow": null,
            "overflow_x": null,
            "overflow_y": null,
            "padding": null,
            "right": null,
            "top": null,
            "visibility": null,
            "width": null
          }
        },
        "6d59a9eb81b64180ab87764498467c1f": {
          "model_module": "@jupyter-widgets/controls",
          "model_name": "DescriptionStyleModel",
          "model_module_version": "1.5.0",
          "state": {
            "_model_module": "@jupyter-widgets/controls",
            "_model_module_version": "1.5.0",
            "_model_name": "DescriptionStyleModel",
            "_view_count": null,
            "_view_module": "@jupyter-widgets/base",
            "_view_module_version": "1.2.0",
            "_view_name": "StyleView",
            "description_width": ""
          }
        },
        "46ac87d16a484c5a81ab34fd5b2f9a14": {
          "model_module": "@jupyter-widgets/controls",
          "model_name": "HBoxModel",
          "model_module_version": "1.5.0",
          "state": {
            "_dom_classes": [],
            "_model_module": "@jupyter-widgets/controls",
            "_model_module_version": "1.5.0",
            "_model_name": "HBoxModel",
            "_view_count": null,
            "_view_module": "@jupyter-widgets/controls",
            "_view_module_version": "1.5.0",
            "_view_name": "HBoxView",
            "box_style": "",
            "children": [
              "IPY_MODEL_76d0ef048901485e9672f19e0bae2c34",
              "IPY_MODEL_fc69216c53ba42f99c55cee792f757e8",
              "IPY_MODEL_a7a23a55f53542e484e7b7962aa59710"
            ],
            "layout": "IPY_MODEL_eb7e23def40d4198b4b37d45733aab74"
          }
        },
        "76d0ef048901485e9672f19e0bae2c34": {
          "model_module": "@jupyter-widgets/controls",
          "model_name": "HTMLModel",
          "model_module_version": "1.5.0",
          "state": {
            "_dom_classes": [],
            "_model_module": "@jupyter-widgets/controls",
            "_model_module_version": "1.5.0",
            "_model_name": "HTMLModel",
            "_view_count": null,
            "_view_module": "@jupyter-widgets/controls",
            "_view_module_version": "1.5.0",
            "_view_name": "HTMLView",
            "description": "",
            "description_tooltip": null,
            "layout": "IPY_MODEL_f2874123c52d4e50b909cc3087631b27",
            "placeholder": "​",
            "style": "IPY_MODEL_31874f49926a4569bc69a4437e20fdbd",
            "value": "Fetching 2 files: 100%"
          }
        },
        "fc69216c53ba42f99c55cee792f757e8": {
          "model_module": "@jupyter-widgets/controls",
          "model_name": "FloatProgressModel",
          "model_module_version": "1.5.0",
          "state": {
            "_dom_classes": [],
            "_model_module": "@jupyter-widgets/controls",
            "_model_module_version": "1.5.0",
            "_model_name": "FloatProgressModel",
            "_view_count": null,
            "_view_module": "@jupyter-widgets/controls",
            "_view_module_version": "1.5.0",
            "_view_name": "ProgressView",
            "bar_style": "success",
            "description": "",
            "description_tooltip": null,
            "layout": "IPY_MODEL_7157c575529141da987b002a174a85e1",
            "max": 2,
            "min": 0,
            "orientation": "horizontal",
            "style": "IPY_MODEL_af4925d75ad9497b8425a5893acdd9bc",
            "value": 2
          }
        },
        "a7a23a55f53542e484e7b7962aa59710": {
          "model_module": "@jupyter-widgets/controls",
          "model_name": "HTMLModel",
          "model_module_version": "1.5.0",
          "state": {
            "_dom_classes": [],
            "_model_module": "@jupyter-widgets/controls",
            "_model_module_version": "1.5.0",
            "_model_name": "HTMLModel",
            "_view_count": null,
            "_view_module": "@jupyter-widgets/controls",
            "_view_module_version": "1.5.0",
            "_view_name": "HTMLView",
            "description": "",
            "description_tooltip": null,
            "layout": "IPY_MODEL_f21a44795ed64ccc8c9fba111662b557",
            "placeholder": "​",
            "style": "IPY_MODEL_59effe648af147a49de3736471fd7fe9",
            "value": " 2/2 [00:00&lt;00:00, 235.60it/s]"
          }
        },
        "eb7e23def40d4198b4b37d45733aab74": {
          "model_module": "@jupyter-widgets/base",
          "model_name": "LayoutModel",
          "model_module_version": "1.2.0",
          "state": {
            "_model_module": "@jupyter-widgets/base",
            "_model_module_version": "1.2.0",
            "_model_name": "LayoutModel",
            "_view_count": null,
            "_view_module": "@jupyter-widgets/base",
            "_view_module_version": "1.2.0",
            "_view_name": "LayoutView",
            "align_content": null,
            "align_items": null,
            "align_self": null,
            "border": null,
            "bottom": null,
            "display": null,
            "flex": null,
            "flex_flow": null,
            "grid_area": null,
            "grid_auto_columns": null,
            "grid_auto_flow": null,
            "grid_auto_rows": null,
            "grid_column": null,
            "grid_gap": null,
            "grid_row": null,
            "grid_template_areas": null,
            "grid_template_columns": null,
            "grid_template_rows": null,
            "height": null,
            "justify_content": null,
            "justify_items": null,
            "left": null,
            "margin": null,
            "max_height": null,
            "max_width": null,
            "min_height": null,
            "min_width": null,
            "object_fit": null,
            "object_position": null,
            "order": null,
            "overflow": null,
            "overflow_x": null,
            "overflow_y": null,
            "padding": null,
            "right": null,
            "top": null,
            "visibility": null,
            "width": null
          }
        },
        "f2874123c52d4e50b909cc3087631b27": {
          "model_module": "@jupyter-widgets/base",
          "model_name": "LayoutModel",
          "model_module_version": "1.2.0",
          "state": {
            "_model_module": "@jupyter-widgets/base",
            "_model_module_version": "1.2.0",
            "_model_name": "LayoutModel",
            "_view_count": null,
            "_view_module": "@jupyter-widgets/base",
            "_view_module_version": "1.2.0",
            "_view_name": "LayoutView",
            "align_content": null,
            "align_items": null,
            "align_self": null,
            "border": null,
            "bottom": null,
            "display": null,
            "flex": null,
            "flex_flow": null,
            "grid_area": null,
            "grid_auto_columns": null,
            "grid_auto_flow": null,
            "grid_auto_rows": null,
            "grid_column": null,
            "grid_gap": null,
            "grid_row": null,
            "grid_template_areas": null,
            "grid_template_columns": null,
            "grid_template_rows": null,
            "height": null,
            "justify_content": null,
            "justify_items": null,
            "left": null,
            "margin": null,
            "max_height": null,
            "max_width": null,
            "min_height": null,
            "min_width": null,
            "object_fit": null,
            "object_position": null,
            "order": null,
            "overflow": null,
            "overflow_x": null,
            "overflow_y": null,
            "padding": null,
            "right": null,
            "top": null,
            "visibility": null,
            "width": null
          }
        },
        "31874f49926a4569bc69a4437e20fdbd": {
          "model_module": "@jupyter-widgets/controls",
          "model_name": "DescriptionStyleModel",
          "model_module_version": "1.5.0",
          "state": {
            "_model_module": "@jupyter-widgets/controls",
            "_model_module_version": "1.5.0",
            "_model_name": "DescriptionStyleModel",
            "_view_count": null,
            "_view_module": "@jupyter-widgets/base",
            "_view_module_version": "1.2.0",
            "_view_name": "StyleView",
            "description_width": ""
          }
        },
        "7157c575529141da987b002a174a85e1": {
          "model_module": "@jupyter-widgets/base",
          "model_name": "LayoutModel",
          "model_module_version": "1.2.0",
          "state": {
            "_model_module": "@jupyter-widgets/base",
            "_model_module_version": "1.2.0",
            "_model_name": "LayoutModel",
            "_view_count": null,
            "_view_module": "@jupyter-widgets/base",
            "_view_module_version": "1.2.0",
            "_view_name": "LayoutView",
            "align_content": null,
            "align_items": null,
            "align_self": null,
            "border": null,
            "bottom": null,
            "display": null,
            "flex": null,
            "flex_flow": null,
            "grid_area": null,
            "grid_auto_columns": null,
            "grid_auto_flow": null,
            "grid_auto_rows": null,
            "grid_column": null,
            "grid_gap": null,
            "grid_row": null,
            "grid_template_areas": null,
            "grid_template_columns": null,
            "grid_template_rows": null,
            "height": null,
            "justify_content": null,
            "justify_items": null,
            "left": null,
            "margin": null,
            "max_height": null,
            "max_width": null,
            "min_height": null,
            "min_width": null,
            "object_fit": null,
            "object_position": null,
            "order": null,
            "overflow": null,
            "overflow_x": null,
            "overflow_y": null,
            "padding": null,
            "right": null,
            "top": null,
            "visibility": null,
            "width": null
          }
        },
        "af4925d75ad9497b8425a5893acdd9bc": {
          "model_module": "@jupyter-widgets/controls",
          "model_name": "ProgressStyleModel",
          "model_module_version": "1.5.0",
          "state": {
            "_model_module": "@jupyter-widgets/controls",
            "_model_module_version": "1.5.0",
            "_model_name": "ProgressStyleModel",
            "_view_count": null,
            "_view_module": "@jupyter-widgets/base",
            "_view_module_version": "1.2.0",
            "_view_name": "StyleView",
            "bar_color": null,
            "description_width": ""
          }
        },
        "f21a44795ed64ccc8c9fba111662b557": {
          "model_module": "@jupyter-widgets/base",
          "model_name": "LayoutModel",
          "model_module_version": "1.2.0",
          "state": {
            "_model_module": "@jupyter-widgets/base",
            "_model_module_version": "1.2.0",
            "_model_name": "LayoutModel",
            "_view_count": null,
            "_view_module": "@jupyter-widgets/base",
            "_view_module_version": "1.2.0",
            "_view_name": "LayoutView",
            "align_content": null,
            "align_items": null,
            "align_self": null,
            "border": null,
            "bottom": null,
            "display": null,
            "flex": null,
            "flex_flow": null,
            "grid_area": null,
            "grid_auto_columns": null,
            "grid_auto_flow": null,
            "grid_auto_rows": null,
            "grid_column": null,
            "grid_gap": null,
            "grid_row": null,
            "grid_template_areas": null,
            "grid_template_columns": null,
            "grid_template_rows": null,
            "height": null,
            "justify_content": null,
            "justify_items": null,
            "left": null,
            "margin": null,
            "max_height": null,
            "max_width": null,
            "min_height": null,
            "min_width": null,
            "object_fit": null,
            "object_position": null,
            "order": null,
            "overflow": null,
            "overflow_x": null,
            "overflow_y": null,
            "padding": null,
            "right": null,
            "top": null,
            "visibility": null,
            "width": null
          }
        },
        "59effe648af147a49de3736471fd7fe9": {
          "model_module": "@jupyter-widgets/controls",
          "model_name": "DescriptionStyleModel",
          "model_module_version": "1.5.0",
          "state": {
            "_model_module": "@jupyter-widgets/controls",
            "_model_module_version": "1.5.0",
            "_model_name": "DescriptionStyleModel",
            "_view_count": null,
            "_view_module": "@jupyter-widgets/base",
            "_view_module_version": "1.2.0",
            "_view_name": "StyleView",
            "description_width": ""
          }
        },
        "0d781c9be92b49d98d68bcd8bd61de81": {
          "model_module": "@jupyter-widgets/controls",
          "model_name": "HBoxModel",
          "model_module_version": "1.5.0",
          "state": {
            "_dom_classes": [],
            "_model_module": "@jupyter-widgets/controls",
            "_model_module_version": "1.5.0",
            "_model_name": "HBoxModel",
            "_view_count": null,
            "_view_module": "@jupyter-widgets/controls",
            "_view_module_version": "1.5.0",
            "_view_name": "HBoxView",
            "box_style": "",
            "children": [
              "IPY_MODEL_1ececc92840a4e6ca6b1063cca180a4a",
              "IPY_MODEL_d2ac0da3928e4a3a86719e8033eb3f94",
              "IPY_MODEL_d78b164f28244af6b97ba3247886628a"
            ],
            "layout": "IPY_MODEL_20bfc5c7bd134d05ae5751c62c7001f5"
          }
        },
        "1ececc92840a4e6ca6b1063cca180a4a": {
          "model_module": "@jupyter-widgets/controls",
          "model_name": "HTMLModel",
          "model_module_version": "1.5.0",
          "state": {
            "_dom_classes": [],
            "_model_module": "@jupyter-widgets/controls",
            "_model_module_version": "1.5.0",
            "_model_name": "HTMLModel",
            "_view_count": null,
            "_view_module": "@jupyter-widgets/controls",
            "_view_module_version": "1.5.0",
            "_view_name": "HTMLView",
            "description": "",
            "description_tooltip": null,
            "layout": "IPY_MODEL_b281704b6d764da59acde17627568131",
            "placeholder": "​",
            "style": "IPY_MODEL_8377c366e5884d3698c3e5211a0a74c3",
            "value": "Fetching 2 files: 100%"
          }
        },
        "d2ac0da3928e4a3a86719e8033eb3f94": {
          "model_module": "@jupyter-widgets/controls",
          "model_name": "FloatProgressModel",
          "model_module_version": "1.5.0",
          "state": {
            "_dom_classes": [],
            "_model_module": "@jupyter-widgets/controls",
            "_model_module_version": "1.5.0",
            "_model_name": "FloatProgressModel",
            "_view_count": null,
            "_view_module": "@jupyter-widgets/controls",
            "_view_module_version": "1.5.0",
            "_view_name": "ProgressView",
            "bar_style": "success",
            "description": "",
            "description_tooltip": null,
            "layout": "IPY_MODEL_302f6e3d74bf453baf57c34cbcb7290f",
            "max": 2,
            "min": 0,
            "orientation": "horizontal",
            "style": "IPY_MODEL_2d9cd31bcf964d79bc4f8940db4cb629",
            "value": 2
          }
        },
        "d78b164f28244af6b97ba3247886628a": {
          "model_module": "@jupyter-widgets/controls",
          "model_name": "HTMLModel",
          "model_module_version": "1.5.0",
          "state": {
            "_dom_classes": [],
            "_model_module": "@jupyter-widgets/controls",
            "_model_module_version": "1.5.0",
            "_model_name": "HTMLModel",
            "_view_count": null,
            "_view_module": "@jupyter-widgets/controls",
            "_view_module_version": "1.5.0",
            "_view_name": "HTMLView",
            "description": "",
            "description_tooltip": null,
            "layout": "IPY_MODEL_a01cabdd1f5548759db4a35196f3e52b",
            "placeholder": "​",
            "style": "IPY_MODEL_f7cae35ab9de4c2798edf9dce743fbec",
            "value": " 2/2 [00:00&lt;00:00, 239.55it/s]"
          }
        },
        "20bfc5c7bd134d05ae5751c62c7001f5": {
          "model_module": "@jupyter-widgets/base",
          "model_name": "LayoutModel",
          "model_module_version": "1.2.0",
          "state": {
            "_model_module": "@jupyter-widgets/base",
            "_model_module_version": "1.2.0",
            "_model_name": "LayoutModel",
            "_view_count": null,
            "_view_module": "@jupyter-widgets/base",
            "_view_module_version": "1.2.0",
            "_view_name": "LayoutView",
            "align_content": null,
            "align_items": null,
            "align_self": null,
            "border": null,
            "bottom": null,
            "display": null,
            "flex": null,
            "flex_flow": null,
            "grid_area": null,
            "grid_auto_columns": null,
            "grid_auto_flow": null,
            "grid_auto_rows": null,
            "grid_column": null,
            "grid_gap": null,
            "grid_row": null,
            "grid_template_areas": null,
            "grid_template_columns": null,
            "grid_template_rows": null,
            "height": null,
            "justify_content": null,
            "justify_items": null,
            "left": null,
            "margin": null,
            "max_height": null,
            "max_width": null,
            "min_height": null,
            "min_width": null,
            "object_fit": null,
            "object_position": null,
            "order": null,
            "overflow": null,
            "overflow_x": null,
            "overflow_y": null,
            "padding": null,
            "right": null,
            "top": null,
            "visibility": null,
            "width": null
          }
        },
        "b281704b6d764da59acde17627568131": {
          "model_module": "@jupyter-widgets/base",
          "model_name": "LayoutModel",
          "model_module_version": "1.2.0",
          "state": {
            "_model_module": "@jupyter-widgets/base",
            "_model_module_version": "1.2.0",
            "_model_name": "LayoutModel",
            "_view_count": null,
            "_view_module": "@jupyter-widgets/base",
            "_view_module_version": "1.2.0",
            "_view_name": "LayoutView",
            "align_content": null,
            "align_items": null,
            "align_self": null,
            "border": null,
            "bottom": null,
            "display": null,
            "flex": null,
            "flex_flow": null,
            "grid_area": null,
            "grid_auto_columns": null,
            "grid_auto_flow": null,
            "grid_auto_rows": null,
            "grid_column": null,
            "grid_gap": null,
            "grid_row": null,
            "grid_template_areas": null,
            "grid_template_columns": null,
            "grid_template_rows": null,
            "height": null,
            "justify_content": null,
            "justify_items": null,
            "left": null,
            "margin": null,
            "max_height": null,
            "max_width": null,
            "min_height": null,
            "min_width": null,
            "object_fit": null,
            "object_position": null,
            "order": null,
            "overflow": null,
            "overflow_x": null,
            "overflow_y": null,
            "padding": null,
            "right": null,
            "top": null,
            "visibility": null,
            "width": null
          }
        },
        "8377c366e5884d3698c3e5211a0a74c3": {
          "model_module": "@jupyter-widgets/controls",
          "model_name": "DescriptionStyleModel",
          "model_module_version": "1.5.0",
          "state": {
            "_model_module": "@jupyter-widgets/controls",
            "_model_module_version": "1.5.0",
            "_model_name": "DescriptionStyleModel",
            "_view_count": null,
            "_view_module": "@jupyter-widgets/base",
            "_view_module_version": "1.2.0",
            "_view_name": "StyleView",
            "description_width": ""
          }
        },
        "302f6e3d74bf453baf57c34cbcb7290f": {
          "model_module": "@jupyter-widgets/base",
          "model_name": "LayoutModel",
          "model_module_version": "1.2.0",
          "state": {
            "_model_module": "@jupyter-widgets/base",
            "_model_module_version": "1.2.0",
            "_model_name": "LayoutModel",
            "_view_count": null,
            "_view_module": "@jupyter-widgets/base",
            "_view_module_version": "1.2.0",
            "_view_name": "LayoutView",
            "align_content": null,
            "align_items": null,
            "align_self": null,
            "border": null,
            "bottom": null,
            "display": null,
            "flex": null,
            "flex_flow": null,
            "grid_area": null,
            "grid_auto_columns": null,
            "grid_auto_flow": null,
            "grid_auto_rows": null,
            "grid_column": null,
            "grid_gap": null,
            "grid_row": null,
            "grid_template_areas": null,
            "grid_template_columns": null,
            "grid_template_rows": null,
            "height": null,
            "justify_content": null,
            "justify_items": null,
            "left": null,
            "margin": null,
            "max_height": null,
            "max_width": null,
            "min_height": null,
            "min_width": null,
            "object_fit": null,
            "object_position": null,
            "order": null,
            "overflow": null,
            "overflow_x": null,
            "overflow_y": null,
            "padding": null,
            "right": null,
            "top": null,
            "visibility": null,
            "width": null
          }
        },
        "2d9cd31bcf964d79bc4f8940db4cb629": {
          "model_module": "@jupyter-widgets/controls",
          "model_name": "ProgressStyleModel",
          "model_module_version": "1.5.0",
          "state": {
            "_model_module": "@jupyter-widgets/controls",
            "_model_module_version": "1.5.0",
            "_model_name": "ProgressStyleModel",
            "_view_count": null,
            "_view_module": "@jupyter-widgets/base",
            "_view_module_version": "1.2.0",
            "_view_name": "StyleView",
            "bar_color": null,
            "description_width": ""
          }
        },
        "a01cabdd1f5548759db4a35196f3e52b": {
          "model_module": "@jupyter-widgets/base",
          "model_name": "LayoutModel",
          "model_module_version": "1.2.0",
          "state": {
            "_model_module": "@jupyter-widgets/base",
            "_model_module_version": "1.2.0",
            "_model_name": "LayoutModel",
            "_view_count": null,
            "_view_module": "@jupyter-widgets/base",
            "_view_module_version": "1.2.0",
            "_view_name": "LayoutView",
            "align_content": null,
            "align_items": null,
            "align_self": null,
            "border": null,
            "bottom": null,
            "display": null,
            "flex": null,
            "flex_flow": null,
            "grid_area": null,
            "grid_auto_columns": null,
            "grid_auto_flow": null,
            "grid_auto_rows": null,
            "grid_column": null,
            "grid_gap": null,
            "grid_row": null,
            "grid_template_areas": null,
            "grid_template_columns": null,
            "grid_template_rows": null,
            "height": null,
            "justify_content": null,
            "justify_items": null,
            "left": null,
            "margin": null,
            "max_height": null,
            "max_width": null,
            "min_height": null,
            "min_width": null,
            "object_fit": null,
            "object_position": null,
            "order": null,
            "overflow": null,
            "overflow_x": null,
            "overflow_y": null,
            "padding": null,
            "right": null,
            "top": null,
            "visibility": null,
            "width": null
          }
        },
        "f7cae35ab9de4c2798edf9dce743fbec": {
          "model_module": "@jupyter-widgets/controls",
          "model_name": "DescriptionStyleModel",
          "model_module_version": "1.5.0",
          "state": {
            "_model_module": "@jupyter-widgets/controls",
            "_model_module_version": "1.5.0",
            "_model_name": "DescriptionStyleModel",
            "_view_count": null,
            "_view_module": "@jupyter-widgets/base",
            "_view_module_version": "1.2.0",
            "_view_name": "StyleView",
            "description_width": ""
          }
        }
      }
    }
  },
  "cells": [
    {
      "cell_type": "markdown",
      "source": [
        "# setup"
      ],
      "metadata": {
        "id": "nhY7aerK7vM5"
      }
    },
    {
      "cell_type": "code",
      "execution_count": 1,
      "metadata": {
        "id": "og3NgzELGzKN"
      },
      "outputs": [],
      "source": [
        "%%capture\n",
        "!pip install git+https://github.com/EleutherAI/sae.git"
      ]
    },
    {
      "cell_type": "code",
      "source": [
        "%%capture\n",
        "!pip install datasets"
      ],
      "metadata": {
        "id": "X8JUvtRDVGtG"
      },
      "execution_count": 2,
      "outputs": []
    },
    {
      "cell_type": "code",
      "execution_count": 3,
      "metadata": {
        "id": "KFTmWGkcp6u6"
      },
      "outputs": [],
      "source": [
        "from sparsify.config import SaeConfig\n",
        "from sparsify.utils import decoder_impl\n",
        "from sparsify import Sae\n",
        "\n",
        "import gc\n",
        "import pickle\n",
        "import numpy as np\n",
        "import matplotlib.pyplot as plt\n",
        "import json\n",
        "from fnmatch import fnmatch\n",
        "from pathlib import Path\n",
        "from typing import NamedTuple, Optional, Callable, Union, List, Tuple\n",
        "# from jaxtyping import Float, Int\n",
        "\n",
        "import einops\n",
        "import torch\n",
        "from torch import Tensor, nn\n",
        "from huggingface_hub import snapshot_download\n",
        "from natsort import natsorted\n",
        "from safetensors.torch import load_model, save_model\n",
        "\n",
        "device = \"cuda\" if torch.cuda.is_available() else \"cpu\""
      ]
    },
    {
      "cell_type": "markdown",
      "source": [
        "## corr fns"
      ],
      "metadata": {
        "id": "Fjn9pGdu4PZg"
      }
    },
    {
      "cell_type": "code",
      "source": [
        "def normalize_byChunks(actv_tensor, chunk_size=10000): # chunk_size: Number of rows per chunk\n",
        "    mean_A = actv_tensor.mean(dim=0, keepdim=True)\n",
        "    std_A = actv_tensor.std(dim=0, keepdim=True)\n",
        "\n",
        "    num_chunks = actv_tensor.shape[0] // chunk_size\n",
        "\n",
        "    normalized_A = np.zeros_like(actv_tensor.cpu())  # Preallocate the normalized matrix\n",
        "    # normalized_A = actv_tensor.new_zeros(actv_tensor.size())\n",
        "\n",
        "    for i in range(num_chunks):\n",
        "        # print (i, num_chunks)\n",
        "        start_index = i * chunk_size\n",
        "        end_index = start_index + chunk_size\n",
        "        chunk = actv_tensor[start_index:end_index]\n",
        "        normalized_A[start_index:end_index] = (chunk - mean_A) / (std_A + 1e-8)\n",
        "\n",
        "    # Handle any remaining rows if the data size is not perfectly divisible by chunk_size\n",
        "    if actv_tensor.shape[0] % chunk_size != 0:\n",
        "        start_index = num_chunks * chunk_size\n",
        "        chunk = actv_tensor[start_index:]\n",
        "        normalized_A[start_index:] = (chunk - mean_A) / (std_A + 1e-8)\n",
        "\n",
        "    return torch.tensor(normalized_A)\n",
        "\n",
        "def batched_correlation(reshaped_activations_A, reshaped_activations_B, batch_size=100):\n",
        "    # Ensure tensors are on GPU\n",
        "    # if torch.cuda.is_available():\n",
        "    #     reshaped_activations_A = reshaped_activations_A.to('cuda')\n",
        "    #     reshaped_activations_B = reshaped_activations_B.to('cuda')\n",
        "\n",
        "    normalized_A = normalize_byChunks(reshaped_activations_A, chunk_size=10000)\n",
        "    normalized_B = normalize_byChunks(reshaped_activations_B, chunk_size=10000)\n",
        "\n",
        "    if torch.cuda.is_available():\n",
        "        normalized_A = normalized_A.to('cuda')\n",
        "        normalized_B = normalized_B.to('cuda')\n",
        "\n",
        "    num_batches = (normalized_B.shape[1] + batch_size - 1) // batch_size\n",
        "    max_values = []\n",
        "    max_indices = []\n",
        "\n",
        "    for batch in range(num_batches):\n",
        "        start = batch * batch_size\n",
        "        # if start % 5000 == 0:\n",
        "        #     print(start)\n",
        "        end = min(start + batch_size, normalized_B.shape[1])\n",
        "\n",
        "        batch_corr_matrix = torch.matmul(normalized_A.t(), normalized_B[:, start:end]) / normalized_A.shape[0]\n",
        "        max_val, max_idx = batch_corr_matrix.max(dim=0)\n",
        "        max_values.append(max_val)\n",
        "        max_indices.append(max_idx)  # Adjust indices for the batch offset\n",
        "\n",
        "        del batch_corr_matrix\n",
        "        torch.cuda.empty_cache()\n",
        "\n",
        "    # return torch.cat(max_indices), torch.cat(max_values)\n",
        "    return torch.cat(max_indices).cpu().numpy(), torch.cat(max_values).cpu().numpy()"
      ],
      "metadata": {
        "id": "g3XQmbdA4QNA"
      },
      "execution_count": 4,
      "outputs": []
    },
    {
      "cell_type": "markdown",
      "source": [
        "# load model"
      ],
      "metadata": {
        "id": "L1bLtNfcMUWF"
      }
    },
    {
      "cell_type": "code",
      "source": [
        "import torch\n",
        "from transformers import AutoTokenizer, AutoModelForCausalLM\n",
        "\n",
        "tokenizer = AutoTokenizer.from_pretrained(\"EleutherAI/pythia-70m\")\n",
        "tokenizer.pad_token = tokenizer.eos_token\n",
        "model = AutoModelForCausalLM.from_pretrained(\"EleutherAI/pythia-70m\").to('cuda' if torch.cuda.is_available() else 'cpu')"
      ],
      "metadata": {
        "colab": {
          "base_uri": "https://localhost:8080/"
        },
        "id": "_HIrKMhshMnd",
        "outputId": "154e5b62-57a9-437e-9051-7c60395fe42b"
      },
      "execution_count": 5,
      "outputs": [
        {
          "output_type": "stream",
          "name": "stderr",
          "text": [
            "/usr/local/lib/python3.11/dist-packages/huggingface_hub/utils/_auth.py:94: UserWarning: \n",
            "The secret `HF_TOKEN` does not exist in your Colab secrets.\n",
            "To authenticate with the Hugging Face Hub, create a token in your settings tab (https://huggingface.co/settings/tokens), set it as secret in your Google Colab and restart your session.\n",
            "You will be able to reuse this secret in all of your notebooks.\n",
            "Please note that authentication is recommended but still optional to access public models or datasets.\n",
            "  warnings.warn(\n",
            "The `GPTNeoXSdpaAttention` class is deprecated in favor of simply modifying the `config._attn_implementation`attribute of the `GPTNeoXAttention` class! It will be removed in v4.48\n"
          ]
        }
      ]
    },
    {
      "cell_type": "code",
      "source": [
        "model_2 = AutoModelForCausalLM.from_pretrained(\"EleutherAI/pythia-160m\").to('cuda' if torch.cuda.is_available() else 'cpu')"
      ],
      "metadata": {
        "id": "ekf0nxvD413W"
      },
      "execution_count": 6,
      "outputs": []
    },
    {
      "cell_type": "markdown",
      "source": [
        "# get data"
      ],
      "metadata": {
        "id": "1bzdKyTrwWoO"
      }
    },
    {
      "cell_type": "code",
      "execution_count": 7,
      "metadata": {
        "id": "dYayzWaFwWoZ"
      },
      "outputs": [],
      "source": [
        "from datasets import load_dataset\n",
        "dataset = load_dataset(\"Skylion007/openwebtext\", split=\"train\", streaming=True)"
      ]
    },
    {
      "cell_type": "code",
      "execution_count": 8,
      "metadata": {
        "id": "Me9LYWVgwWoa"
      },
      "outputs": [],
      "source": [
        "def get_next_batch(dataset, batch_size=100, max_length=100):\n",
        "    batch = []\n",
        "    dataset_iter = iter(dataset)\n",
        "    for _ in range(batch_size):\n",
        "        try:\n",
        "            sample = next(dataset_iter)\n",
        "            batch.append(sample['text'])\n",
        "        except StopIteration:\n",
        "            break\n",
        "\n",
        "    # Tokenize the batch\n",
        "    inputs = tokenizer(batch, return_tensors=\"pt\", padding=True, truncation=True, max_length=max_length)\n",
        "\n",
        "    return batch, inputs"
      ]
    },
    {
      "cell_type": "code",
      "source": [
        "batch_size = 400\n",
        "max_length = 400\n",
        "batch, inputs = get_next_batch(dataset, batch_size=batch_size, max_length=max_length)"
      ],
      "metadata": {
        "id": "PaDdfuoo-CvF"
      },
      "execution_count": 9,
      "outputs": []
    },
    {
      "cell_type": "code",
      "execution_count": 10,
      "metadata": {
        "colab": {
          "base_uri": "https://localhost:8080/"
        },
        "outputId": "ffc3de97-5bcb-413d-c00e-c4b625bd32b8",
        "id": "SM8gzmupwWoa"
      },
      "outputs": [
        {
          "output_type": "execute_result",
          "data": {
            "text/plain": [
              "torch.Size([400, 400])"
            ]
          },
          "metadata": {},
          "execution_count": 10
        }
      ],
      "source": [
        "inputs['input_ids'].shape  # (batchnum, maxseqlen)"
      ]
    },
    {
      "cell_type": "markdown",
      "source": [
        "# get llm actvs"
      ],
      "metadata": {
        "id": "r_flWIt00bgj"
      }
    },
    {
      "cell_type": "code",
      "source": [
        "from torch.utils.data import DataLoader, TensorDataset\n",
        "\n",
        "def get_llm_actvs_batch(model, inputs, layerID, batch_size=100, maxseqlen=300):\n",
        "    accumulated_outputs = None\n",
        "    dataset = TensorDataset(inputs['input_ids'], inputs['attention_mask'])\n",
        "    loader = DataLoader(dataset, batch_size=32, shuffle=False)\n",
        "\n",
        "    for batch in loader:\n",
        "        input_ids, attention_mask = batch\n",
        "\n",
        "        batch_inputs = {'input_ids': input_ids.to(model.device), 'attention_mask': attention_mask.to(model.device)}\n",
        "        with torch.no_grad():\n",
        "            outputs = model(**batch_inputs, output_hidden_states=True)\n",
        "            if accumulated_outputs is None:\n",
        "                accumulated_outputs = outputs.hidden_states[layerID]\n",
        "            else:\n",
        "                accumulated_outputs = torch.cat((accumulated_outputs, outputs.hidden_states[layerID]), dim= 0)\n",
        "\n",
        "        del batch_inputs, outputs\n",
        "        torch.cuda.empty_cache()\n",
        "        gc.collect()\n",
        "\n",
        "    return accumulated_outputs"
      ],
      "metadata": {
        "id": "RYFRFhLathf4"
      },
      "execution_count": 24,
      "outputs": []
    },
    {
      "cell_type": "code",
      "source": [
        "outputs_by_layer_1 = {}\n",
        "for layer_id in range(1, 6, 2): # step = 2\n",
        "    print(\"Model A Layer: \" + str(layer_id))\n",
        "    with torch.inference_mode():\n",
        "        outputs_by_layer_1[layer_id] = get_llm_actvs_batch(model, inputs, layer_id)"
      ],
      "metadata": {
        "colab": {
          "base_uri": "https://localhost:8080/"
        },
        "id": "NxDrtjgA3R-5",
        "outputId": "b4ae3b94-19bf-449e-98a0-b3d0d6ac58a0"
      },
      "execution_count": 25,
      "outputs": [
        {
          "output_type": "stream",
          "name": "stdout",
          "text": [
            "Model A Layer: 1\n",
            "Model A Layer: 3\n",
            "Model A Layer: 5\n"
          ]
        }
      ]
    },
    {
      "cell_type": "code",
      "source": [
        "outputs_by_layer_2 = {}\n",
        "for layer_id in range(1, 12, 2): # step = 2\n",
        "    print(\"Model B Layer: \" + str(layer_id))\n",
        "    with torch.inference_mode():\n",
        "        outputs_by_layer_2[layer_id] = get_llm_actvs_batch(model_2, inputs, layer_id)"
      ],
      "metadata": {
        "colab": {
          "base_uri": "https://localhost:8080/"
        },
        "id": "KWNTWOS33bzT",
        "outputId": "ad6f9702-02ef-4a12-a46d-c20d6ae84121"
      },
      "execution_count": 26,
      "outputs": [
        {
          "output_type": "stream",
          "name": "stdout",
          "text": [
            "Model B Layer: 1\n",
            "Model B Layer: 3\n",
            "Model B Layer: 5\n",
            "Model B Layer: 7\n",
            "Model B Layer: 9\n",
            "Model B Layer: 11\n"
          ]
        }
      ]
    },
    {
      "cell_type": "markdown",
      "source": [
        "# get sae actvs"
      ],
      "metadata": {
        "id": "QjtpPY-nwWoa"
      }
    },
    {
      "cell_type": "code",
      "source": [
        "def get_weights_and_acts_byLayer_batched(name, layer_id, layer_outputs, batch_size=32):\n",
        "    \"\"\"\n",
        "    Process the sae activations in batches to avoid OOM errors.\n",
        "\n",
        "    Args:\n",
        "        name (str): The model name to load from the hub.\n",
        "        layer_id (int): The layer index to process.\n",
        "        outputs (Namespace): The model outputs containing hidden_states.\n",
        "        batch_size (int): The number of samples per batch.\n",
        "\n",
        "    Returns:\n",
        "        weight_matrix_np (numpy.ndarray): The decoder weights.\n",
        "        reshaped_activations_A (torch.Tensor): The pre-activation outputs reshaped.\n",
        "        orig (torch.Tensor): The original batched pre-activations.\n",
        "    \"\"\"\n",
        "    device = \"cuda\" if torch.cuda.is_available() else \"cpu\"\n",
        "    hookpoint = \"layers.\" + str(layer_id)\n",
        "\n",
        "    # Load the sae model on the appropriate device.\n",
        "    sae = Sae.load_from_hub(name, hookpoint=hookpoint, device=device)\n",
        "    weight_matrix_np = sae.W_dec.cpu().detach().numpy()\n",
        "\n",
        "    # Init vars to store the hidden states for the given layer.\n",
        "    num_samples = layer_outputs.size(0)\n",
        "    pre_act_batches = []\n",
        "\n",
        "    # Process the activations in batches.\n",
        "    for start in range(0, num_samples, batch_size):\n",
        "        end = start + batch_size\n",
        "        batch = layer_outputs[start:end].to(device)\n",
        "        with torch.inference_mode():\n",
        "            batch_pre_acts = sae.pre_acts(batch)\n",
        "        pre_act_batches.append(batch_pre_acts.cpu())\n",
        "\n",
        "        # Free up GPU memory.\n",
        "        del batch, batch_pre_acts\n",
        "        torch.cuda.empty_cache()\n",
        "        gc.collect()\n",
        "\n",
        "    # Concatenate the processed batches.\n",
        "    orig = torch.cat(pre_act_batches, dim=0)\n",
        "\n",
        "    first_dim_reshaped = orig.shape[0] * orig.shape[1]\n",
        "    reshaped_activations_A = orig.reshape(first_dim_reshaped, orig.shape[-1]).cpu()\n",
        "\n",
        "    return weight_matrix_np, reshaped_activations_A, orig"
      ],
      "metadata": {
        "id": "m2nzng6QuPXp"
      },
      "execution_count": 27,
      "outputs": []
    },
    {
      "cell_type": "code",
      "source": [
        "name = \"EleutherAI/sae-pythia-70m-32k\"\n",
        "\n",
        "layer_id = 3\n",
        "layer_outputs = outputs_by_layer_1[layer_id]\n",
        "weight_matrix_np, reshaped_activations_A, feature_acts_model_A = get_weights_and_acts_byLayer_batched(name, layer_id, layer_outputs, batch_size=32)"
      ],
      "metadata": {
        "colab": {
          "base_uri": "https://localhost:8080/",
          "height": 66,
          "referenced_widgets": [
            "83e715a23e494db79048166ca961abe6",
            "8d06d10a155e4ce1960432f6c4cb1e51",
            "f5fdefef80b4486ba7dbacd6510f515b",
            "895a21e146d347109fc2736298bb4f05",
            "332f59513206464aa91fa17a9a310698",
            "19df37106de14f74be1ffa3ac01d9bd5",
            "9ace754c7e934eadbe326468404a281c",
            "9acc94ec5ab94adb8bb4252482a6bc80",
            "e5afbeabcd7e4543b1d02d35acbc3235",
            "7dc2fd05c918423f9345d10f6bcdbae0",
            "092956d51ff6483082c34cae6e0b1930"
          ]
        },
        "id": "FjJscZci19j2",
        "outputId": "ef10dce5-aec1-4a61-ef3d-e46bddd4d58e"
      },
      "execution_count": 28,
      "outputs": [
        {
          "output_type": "display_data",
          "data": {
            "text/plain": [
              "Fetching 2 files:   0%|          | 0/2 [00:00<?, ?it/s]"
            ],
            "application/vnd.jupyter.widget-view+json": {
              "version_major": 2,
              "version_minor": 0,
              "model_id": "83e715a23e494db79048166ca961abe6"
            }
          },
          "metadata": {}
        },
        {
          "output_type": "stream",
          "name": "stderr",
          "text": [
            "WARNING:simple_parsing.helpers.serialization.serializable:Dropping extra args {'signed': False}\n"
          ]
        }
      ]
    },
    {
      "cell_type": "code",
      "source": [
        "name = \"EleutherAI/sae-pythia-160m-32k\"\n",
        "\n",
        "layer_id = 5\n",
        "layer_outputs = outputs_by_layer_2[layer_id]\n",
        "weight_matrix_2, reshaped_activations_B, feature_acts_model_B = get_weights_and_acts_byLayer_batched(name, layer_id, layer_outputs, batch_size=32)"
      ],
      "metadata": {
        "colab": {
          "base_uri": "https://localhost:8080/",
          "height": 66,
          "referenced_widgets": [
            "c4343273002245439ea409ae1580ed4f",
            "ab13725975934a7e8593011c65c28207",
            "3788a34c2e044510b27bc9181c4e272b",
            "807823ad98b64cbf883f6ecdf3c05625",
            "4ff5ff54d41249258adc1a95b9a20035",
            "00898670bcb1433da622d6cbdd644197",
            "3a22e91a1a3646b5b273c6a1e934646b",
            "e768371619d1490097480be47882f7e5",
            "b65daa4eddf348baab414d4e057ec871",
            "ffdd161973414316949f6b486b4a6a46",
            "6d59a9eb81b64180ab87764498467c1f"
          ]
        },
        "id": "WN3jdSTauFNB",
        "outputId": "b281bd56-bff8-40d3-c9dd-15d3de54de6d"
      },
      "execution_count": 29,
      "outputs": [
        {
          "output_type": "display_data",
          "data": {
            "text/plain": [
              "Fetching 2 files:   0%|          | 0/2 [00:00<?, ?it/s]"
            ],
            "application/vnd.jupyter.widget-view+json": {
              "version_major": 2,
              "version_minor": 0,
              "model_id": "c4343273002245439ea409ae1580ed4f"
            }
          },
          "metadata": {}
        },
        {
          "output_type": "stream",
          "name": "stderr",
          "text": [
            "WARNING:simple_parsing.helpers.serialization.serializable:Dropping extra args {'signed': False}\n"
          ]
        }
      ]
    },
    {
      "cell_type": "markdown",
      "source": [
        "# get llm and saes in one fn"
      ],
      "metadata": {
        "id": "aiDs3ubu7SSJ"
      }
    },
    {
      "cell_type": "code",
      "source": [
        "from torch.utils.data import DataLoader, TensorDataset\n",
        "\n",
        "def get_sae_actvs(model, sae_name, inputs, layer_id, batch_size=32):\n",
        "    \"\"\"\n",
        "    Process the sae activations in batches to avoid OOM errors.\n",
        "\n",
        "    Args:\n",
        "        model (torch.nn.Module): The model to process.\n",
        "        sae_name (str): The SAE model name to load from the hub.\n",
        "        layer_id (int): The layer index to process.\n",
        "        batch_size (int): The number of samples per batch.\n",
        "\n",
        "    Returns:\n",
        "        weight_matrix_np (numpy.ndarray): The decoder weights.\n",
        "        reshaped_activations_A (torch.Tensor): The pre-activation outputs reshaped.\n",
        "        orig (torch.Tensor): The original batched pre-activations.\n",
        "    \"\"\"\n",
        "    device = \"cuda\" if torch.cuda.is_available() else \"cpu\"\n",
        "\n",
        "    LLM_outputs = None\n",
        "    dataset = TensorDataset(inputs['input_ids'], inputs['attention_mask'])\n",
        "    loader = DataLoader(dataset, batch_size=batch_size, shuffle=False)\n",
        "\n",
        "    for batch in loader:\n",
        "        input_ids, attention_mask = batch\n",
        "\n",
        "        batch_inputs = {'input_ids': input_ids.to(model.device), 'attention_mask': attention_mask.to(model.device)}\n",
        "        with torch.no_grad():\n",
        "            outputs = model(**batch_inputs, output_hidden_states=True)\n",
        "            if LLM_outputs is None:\n",
        "                LLM_outputs = outputs.hidden_states[layer_id]\n",
        "            else:\n",
        "                LLM_outputs = torch.cat((LLM_outputs, outputs.hidden_states[layer_id]), dim= 0)\n",
        "\n",
        "        del batch_inputs, outputs\n",
        "        torch.cuda.empty_cache()\n",
        "        gc.collect()\n",
        "\n",
        "    ### Get SAE actvs ###\n",
        "    hookpoint = \"layers.\" + str(layer_id)\n",
        "\n",
        "    # Load the sae model on the appropriate device.\n",
        "    sae = Sae.load_from_hub(sae_name, hookpoint=hookpoint, device=device)\n",
        "    weight_matrix_np = sae.W_dec.cpu().detach().numpy()\n",
        "\n",
        "    # Init vars to store the hidden states for the given layer.\n",
        "    num_samples = LLM_outputs.size(0)\n",
        "    pre_act_batches = []\n",
        "\n",
        "    # Process the activations in batches.\n",
        "    for start in range(0, num_samples, batch_size):\n",
        "        end = start + batch_size\n",
        "        batch = LLM_outputs[start:end].to(device)\n",
        "        with torch.inference_mode():\n",
        "            batch_pre_acts = sae.pre_acts(batch)\n",
        "        pre_act_batches.append(batch_pre_acts.cpu())\n",
        "\n",
        "        # Free up GPU memory.\n",
        "        del batch, batch_pre_acts\n",
        "        torch.cuda.empty_cache()\n",
        "        gc.collect()\n",
        "\n",
        "    del LLM_outputs\n",
        "    torch.cuda.empty_cache()\n",
        "    gc.collect()\n",
        "\n",
        "    # Concatenate the processed batches.\n",
        "    orig_actvs = torch.cat(pre_act_batches, dim=0)\n",
        "\n",
        "    first_dim_reshaped = orig_actvs.shape[0] * orig_actvs.shape[1]\n",
        "    reshaped_activations_A = orig_actvs.reshape(first_dim_reshaped, orig_actvs.shape[-1]).cpu()\n",
        "\n",
        "    return weight_matrix_np, reshaped_activations_A, orig_actvs"
      ],
      "metadata": {
        "id": "ocfl_UJ37UXn"
      },
      "execution_count": 11,
      "outputs": []
    },
    {
      "cell_type": "code",
      "source": [
        "sae_name = \"EleutherAI/sae-pythia-70m-32k\"\n",
        "# sae_actvs_byLayer = {}\n",
        "layer_id = 3\n",
        "weight_matrix_1, reshaped_activations_A, feature_acts_model_A =  get_sae_actvs(model, sae_name, inputs, layer_id, batch_size=32)"
      ],
      "metadata": {
        "colab": {
          "base_uri": "https://localhost:8080/",
          "height": 66,
          "referenced_widgets": [
            "46ac87d16a484c5a81ab34fd5b2f9a14",
            "76d0ef048901485e9672f19e0bae2c34",
            "fc69216c53ba42f99c55cee792f757e8",
            "a7a23a55f53542e484e7b7962aa59710",
            "eb7e23def40d4198b4b37d45733aab74",
            "f2874123c52d4e50b909cc3087631b27",
            "31874f49926a4569bc69a4437e20fdbd",
            "7157c575529141da987b002a174a85e1",
            "af4925d75ad9497b8425a5893acdd9bc",
            "f21a44795ed64ccc8c9fba111662b557",
            "59effe648af147a49de3736471fd7fe9"
          ]
        },
        "id": "9z3hEDjA9f1C",
        "outputId": "8085c84d-73a5-427b-9624-4a2123ced6d7"
      },
      "execution_count": 12,
      "outputs": [
        {
          "output_type": "display_data",
          "data": {
            "text/plain": [
              "Fetching 2 files:   0%|          | 0/2 [00:00<?, ?it/s]"
            ],
            "application/vnd.jupyter.widget-view+json": {
              "version_major": 2,
              "version_minor": 0,
              "model_id": "46ac87d16a484c5a81ab34fd5b2f9a14"
            }
          },
          "metadata": {}
        },
        {
          "output_type": "stream",
          "name": "stderr",
          "text": [
            "WARNING:simple_parsing.helpers.serialization.serializable:Dropping extra args {'signed': False}\n"
          ]
        }
      ]
    },
    {
      "cell_type": "code",
      "source": [
        "sae_name = \"EleutherAI/sae-pythia-160m-32k\"\n",
        "# sae_actvs_byLayer = {}\n",
        "layer_id = 5\n",
        "weight_matrix_2, reshaped_activations_B, feature_acts_model_B = get_sae_actvs(model_2, sae_name, inputs, layer_id, batch_size=32)"
      ],
      "metadata": {
        "colab": {
          "base_uri": "https://localhost:8080/",
          "height": 66,
          "referenced_widgets": [
            "0d781c9be92b49d98d68bcd8bd61de81",
            "1ececc92840a4e6ca6b1063cca180a4a",
            "d2ac0da3928e4a3a86719e8033eb3f94",
            "d78b164f28244af6b97ba3247886628a",
            "20bfc5c7bd134d05ae5751c62c7001f5",
            "b281704b6d764da59acde17627568131",
            "8377c366e5884d3698c3e5211a0a74c3",
            "302f6e3d74bf453baf57c34cbcb7290f",
            "2d9cd31bcf964d79bc4f8940db4cb629",
            "a01cabdd1f5548759db4a35196f3e52b",
            "f7cae35ab9de4c2798edf9dce743fbec"
          ]
        },
        "id": "Fxq3zmpa8cL1",
        "outputId": "616d0195-ac57-4e0a-af6f-01e51f960ca4"
      },
      "execution_count": 13,
      "outputs": [
        {
          "output_type": "display_data",
          "data": {
            "text/plain": [
              "Fetching 2 files:   0%|          | 0/2 [00:00<?, ?it/s]"
            ],
            "application/vnd.jupyter.widget-view+json": {
              "version_major": 2,
              "version_minor": 0,
              "model_id": "0d781c9be92b49d98d68bcd8bd61de81"
            }
          },
          "metadata": {}
        },
        {
          "output_type": "stream",
          "name": "stderr",
          "text": [
            "WARNING:simple_parsing.helpers.serialization.serializable:Dropping extra args {'signed': False}\n"
          ]
        }
      ]
    },
    {
      "cell_type": "markdown",
      "source": [
        "# get corrs"
      ],
      "metadata": {
        "id": "xI9K7Ap_5rr9"
      }
    },
    {
      "cell_type": "code",
      "source": [
        "max_corr_inds, max_corr_vals = batched_correlation(reshaped_activations_A, reshaped_activations_B)"
      ],
      "metadata": {
        "id": "c2NFBNBE5scA"
      },
      "execution_count": null,
      "outputs": []
    },
    {
      "cell_type": "code",
      "source": [
        "max_corr_inds.shape"
      ],
      "metadata": {
        "id": "n7X7PiuC6mhk"
      },
      "execution_count": null,
      "outputs": []
    }
  ]
}