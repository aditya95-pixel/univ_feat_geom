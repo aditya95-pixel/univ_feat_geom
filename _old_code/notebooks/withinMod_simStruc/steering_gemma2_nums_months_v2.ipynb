{
  "cells": [
    {
      "cell_type": "markdown",
      "metadata": {
        "id": "kUYRF57KNxrL"
      },
      "source": [
        "# setup"
      ]
    },
    {
      "cell_type": "code",
      "execution_count": 1,
      "metadata": {
        "id": "-S2-hpbiQrfa"
      },
      "outputs": [],
      "source": [
        "# import pdb"
      ]
    },
    {
      "cell_type": "code",
      "execution_count": 2,
      "metadata": {
        "id": "4H-vBfRa1pOo"
      },
      "outputs": [],
      "source": [
        "import pickle\n",
        "import numpy as np\n",
        "\n",
        "import torch\n",
        "import matplotlib.pyplot as plt\n",
        "\n",
        "from torch import nn, Tensor\n",
        "# from jaxtyping import Float, Int\n",
        "from typing import Optional, Callable, Union, List, Tuple\n",
        "\n",
        "# from datasets import load_dataset"
      ]
    },
    {
      "cell_type": "code",
      "execution_count": 3,
      "metadata": {
        "id": "yUWzqfKmaRXj"
      },
      "outputs": [],
      "source": [
        "device = \"cuda\" if torch.cuda.is_available() else \"cpu\""
      ]
    },
    {
      "cell_type": "markdown",
      "metadata": {
        "id": "nZz2t_CbNKmK"
      },
      "source": [
        "# load labels"
      ]
    },
    {
      "cell_type": "code",
      "execution_count": 157,
      "metadata": {
        "id": "6CvQQSVdQvq5"
      },
      "outputs": [],
      "source": [
        "import json\n",
        "with open('gemma-2-2b-20-gemmascope-res-16k-explanations.json', 'rb') as f:\n",
        "    feat_labels_allData = json.load(f)"
      ]
    },
    {
      "cell_type": "code",
      "execution_count": 158,
      "metadata": {
        "colab": {
          "base_uri": "https://localhost:8080/"
        },
        "id": "qriFJT15P6MB",
        "outputId": "b791a227-248f-4a00-8e46-41c03026610c"
      },
      "outputs": [
        {
          "output_type": "stream",
          "name": "stdout",
          "text": [
            "mentions of the letter 'Z' and variations of 'Z' in different contexts\n"
          ]
        }
      ],
      "source": [
        "feat_labels_lst = [0 for i in range(feat_labels_allData['explanationsCount'])]\n",
        "feat_labels_dict = {}\n",
        "for f_dict in feat_labels_allData['explanations']:\n",
        "    feat_labels_lst[int(f_dict['index'])] = f_dict['description']\n",
        "    feat_labels_dict[int(f_dict['index'])] = f_dict['description']\n",
        "    if int(f_dict['index']) == 0:\n",
        "        print(f_dict['description'])"
      ]
    },
    {
      "cell_type": "code",
      "execution_count": 159,
      "metadata": {
        "colab": {
          "base_uri": "https://localhost:8080/"
        },
        "id": "NNE4LIP6RDJe",
        "outputId": "a6e68314-649a-4e71-e158-f713354ab3d1"
      },
      "outputs": [
        {
          "output_type": "execute_result",
          "data": {
            "text/plain": [
              "16383"
            ]
          },
          "metadata": {},
          "execution_count": 159
        }
      ],
      "source": [
        "len(feat_labels_dict)"
      ]
    },
    {
      "cell_type": "markdown",
      "metadata": {
        "id": "CLquai4hOaWR"
      },
      "source": [
        "## search for features"
      ]
    },
    {
      "cell_type": "code",
      "execution_count": null,
      "metadata": {
        "id": "FEbmjLd7c-Ju"
      },
      "outputs": [],
      "source": [
        "def find_indices_with_keyword(f_dict, keyword):\n",
        "    \"\"\"\n",
        "    Find all indices of fList which contain the keyword in the string at those indices.\n",
        "\n",
        "    Args:\n",
        "    fList (list of str): List of strings to search within.\n",
        "    keyword (str): Keyword to search for within the strings of fList.\n",
        "\n",
        "    Returns:\n",
        "    list of int: List of indices where the keyword is found within the strings of fList.\n",
        "    \"\"\"\n",
        "    filt_dict = {}\n",
        "    for index, string in f_dict.items():\n",
        "        # split_list = string.split(',')\n",
        "        # no_space_list = [i.replace(' ', '').lower() for i in split_list]\n",
        "        # if keyword in no_space_list:\n",
        "        if keyword in string:\n",
        "            filt_dict[index] = string\n",
        "    return filt_dict"
      ]
    },
    {
      "cell_type": "code",
      "execution_count": null,
      "metadata": {
        "id": "wKS0eFoCObvI"
      },
      "outputs": [],
      "source": [
        "keyword = \"number\"\n",
        "number_feats = find_indices_with_keyword(feat_labels_dict, keyword)"
      ]
    },
    {
      "cell_type": "code",
      "execution_count": null,
      "metadata": {
        "id": "HdjRMBTOSpg0"
      },
      "outputs": [],
      "source": [
        "keyword = \"month\"\n",
        "month_feats = find_indices_with_keyword(feat_labels_dict, keyword)"
      ]
    },
    {
      "cell_type": "code",
      "execution_count": null,
      "metadata": {
        "colab": {
          "base_uri": "https://localhost:8080/"
        },
        "id": "J34BaToUZslj",
        "outputId": "8862a4ef-e31d-48df-fd70-295bb59e4fd1"
      },
      "outputs": [
        {
          "data": {
            "text/plain": [
              "{5769, 12790, 20260, 21029}"
            ]
          },
          "execution_count": 14,
          "metadata": {},
          "output_type": "execute_result"
        }
      ],
      "source": [
        "set(number_feats).intersection(month_feats)"
      ]
    },
    {
      "cell_type": "code",
      "execution_count": null,
      "metadata": {
        "colab": {
          "base_uri": "https://localhost:8080/",
          "height": 35
        },
        "id": "lUUY88y-Z73d",
        "outputId": "41df1caf-bb17-4473-dfaf-2ca2a4b6d3ef"
      },
      "outputs": [
        {
          "data": {
            "application/vnd.google.colaboratory.intrinsic+json": {
              "type": "string"
            },
            "text/plain": [
              "'numbers with possible time expressions like years, months, and hours'"
            ]
          },
          "execution_count": 16,
          "metadata": {},
          "output_type": "execute_result"
        }
      ],
      "source": [
        "number_feats[5769]"
      ]
    },
    {
      "cell_type": "code",
      "execution_count": null,
      "metadata": {
        "id": "w-pYdKBKaBUh"
      },
      "outputs": [],
      "source": [
        "for common_feat in set(number_feats).intersection(month_feats):\n",
        "    del number_feats[common_feat]"
      ]
    },
    {
      "cell_type": "code",
      "execution_count": null,
      "metadata": {
        "colab": {
          "base_uri": "https://localhost:8080/"
        },
        "id": "3s8UwnDSaIKJ",
        "outputId": "86c32697-75f5-4324-93d0-48d2ada5e82c"
      },
      "outputs": [
        {
          "data": {
            "text/plain": [
              "set()"
            ]
          },
          "execution_count": 18,
          "metadata": {},
          "output_type": "execute_result"
        }
      ],
      "source": [
        "set(number_feats).infor sampID, samp_common_feats in enumerate(common_feats_per_row):\n",
        "    print('samp: ', sampID)\n",
        "    for f_ind in samp_common_feats:\n",
        "        print(f_ind, feat_labels_lst[f_ind])tersection(month_feats)"
      ]
    },
    {
      "cell_type": "markdown",
      "metadata": {
        "id": "l8UydG5Pc4GR"
      },
      "source": [
        "# load model"
      ]
    },
    {
      "cell_type": "code",
      "execution_count": 8,
      "metadata": {
        "id": "nOBcV4om7mrT"
      },
      "outputs": [],
      "source": [
        "from transformers import AutoModelForCausalLM, BitsAndBytesConfig, AutoTokenizer\n",
        "import numpy as np\n",
        "import torch"
      ]
    },
    {
      "cell_type": "code",
      "execution_count": 9,
      "metadata": {
        "colab": {
          "base_uri": "https://localhost:8080/",
          "height": 415,
          "referenced_widgets": [
            "0952e2733fe24538af0d9078132ad4c6",
            "d5c1629eeccc4e63bc1e814042b69bab",
            "9cc59b7c368e48a2911315894597c667",
            "125f07895a83410d867d9a487b20032e",
            "d2e1ecb1801e4a92a145fec646336223",
            "f35a1bd9d19a428685179ad96223953b",
            "a3190e5683a84d73aff6db6d0173d121",
            "f283f41df01340e291d667356f3c8853",
            "c3368adcf8cd4b8a8c4e1e4fafafc249",
            "f2f5ef331d30453d8416f06416c55db2",
            "cc2afd44b500438e8145cca812667b33",
            "23d105606d804f44a50ecb0c595ecc1d",
            "a01e2b835f9d4274881dfa5f5e26c557",
            "50ac522dd61e4a5da2553ec0fc255a77",
            "ab7511e29af2402da79ddd75dca1bf29",
            "76695174dcc74f3891d3bf22fba4a0cd",
            "d748be09455044878c14b4f4d3857526"
          ]
        },
        "id": "UKRmnN7jbxbd",
        "outputId": "986b958c-0a84-4b8d-bdda-93b83faa48f5"
      },
      "outputs": [
        {
          "output_type": "display_data",
          "data": {
            "text/plain": [
              "VBox(children=(HTML(value='<center> <img\\nsrc=https://huggingface.co/front/assets/huggingface_logo-noborder.sv…"
            ],
            "application/vnd.jupyter.widget-view+json": {
              "version_major": 2,
              "version_minor": 0,
              "model_id": "0952e2733fe24538af0d9078132ad4c6"
            }
          },
          "metadata": {}
        }
      ],
      "source": [
        "from huggingface_hub import hf_hub_download, notebook_login\n",
        "notebook_login()"
      ]
    },
    {
      "cell_type": "code",
      "execution_count": 10,
      "metadata": {
        "colab": {
          "base_uri": "https://localhost:8080/"
        },
        "id": "-z3Bg4Ui26l2",
        "outputId": "94156a83-00d2-4f3c-dcee-9ede41e79993"
      },
      "outputs": [
        {
          "output_type": "execute_result",
          "data": {
            "text/plain": [
              "<torch.autograd.grad_mode.set_grad_enabled at 0x78c1227b9720>"
            ]
          },
          "metadata": {},
          "execution_count": 10
        }
      ],
      "source": [
        "torch.set_grad_enabled(False) # avoid blowing up mem"
      ]
    },
    {
      "cell_type": "code",
      "execution_count": 11,
      "metadata": {
        "colab": {
          "base_uri": "https://localhost:8080/",
          "height": 273,
          "referenced_widgets": [
            "5ea2318b160a4f59a512a97b48e7fae9",
            "97b27c62a4f2439d8a1e5d54c1c65ea1",
            "8c059e20aae84def8dd44e77172e893a",
            "a4df8fb69b794ace873af8125109af0c",
            "a7744aad6ba649cabeb27a50750b66a2",
            "18e2fbb599b8475f9d7080028d00d873",
            "d06008ac4c0f46f583252c92ebb55688",
            "97beded2dada4585aa28645e64946894",
            "0dc51419d48f42f591cfcdc6d8aedc9b",
            "52e0fca1a64a4984bfeeaa6a740504f7",
            "71c46d65580c4cb49ab59c745495625c",
            "be87f7ed605b4cb7b605560fdeb5d89f",
            "f4d44b70638f4197971457dca7b55825",
            "0682e48d371e4ebd919bf426701495cf",
            "c7d8caed72d248a5939d3448730ba30c",
            "e339a89cd97a4f1b8b442df395bd841e",
            "bab716eacfff40c7a5f340f905a20017",
            "714b2dcddd0644bfaa973b42a967f473",
            "0aa0c8e2b50649fe97a3135173a8bc0a",
            "05d2249075d5497db0a6875e78e672ca",
            "c72e6cc619e84e68b1347b8083557a71",
            "498ddae730df42369eab1df0666d252b",
            "c5692308c1424944b4e2542439ed9c84",
            "6c0a18a506d74015ba4c1d900376a248",
            "0e26425ca1284d588d981be7ec3675d4",
            "e2ad60cecb914efd9d27ac04df7fa141",
            "ee5e78b9033a4728bceb5ce0f6bf9b54",
            "86b54f7b97314aecaa83476a5ae9c360",
            "dd03f69ab8bd458d9b8dc384f2f4dba7",
            "8327ee3f91fb43d1b54f52095b8c8585",
            "aac5dd5ea3fb4495a2fa6d3faea6322d",
            "15a56ca4055e4e52aa5c2061f4230d16",
            "ad8766ae34cd45dd82478606db7b0250",
            "c7adf5c8158c4233945168697f3f2481",
            "4a6c82f6bdc0434384e6208bd68e3957",
            "6dab9cc5f97241e88fb10ffb66be6920",
            "81007b177c7a4dcf9ee6f0e67162e50c",
            "dae57344d08140968757ab5a5bc12dd2",
            "f0974a1a3cb04c518e5d49bd5743d75a",
            "2ab7c5387d8645da987de118019b9446",
            "b69358f3ea1041b2afcba296d9c19c43",
            "d7233772d8fb41deafa59c2f02cb5bc1",
            "ff82fff6e2b34f72bb67b098ffdcaa79",
            "b3e7796b5ce04c4eba8c5c4553f3dbe7",
            "b2f02cf33fb44e168747eabeaa924a0d",
            "2c4340b8c49f466aac6e0e0a742f23d4",
            "ec98442f49224bae811720edd1a12b19",
            "323baa0db4a44998b0ac9a9239b01541",
            "2515f50d58a84e08b8cfe53ac4b8caf9",
            "f3fae70cd0d24d5fa1e8a36cd4df8b44",
            "5fa558075cb4422896bdebd27011a29f",
            "59736b97c804493aa88244b9e5611dde",
            "04cfa4dab6d54ab8a20633b05b532af1",
            "38b4e4fb12ec40cdaac6b121c91f81c0",
            "619065f100fa480386e2c02a4332da11",
            "1fdf1505de7c4df2b8813344567ab6c4",
            "499d6e4cdd714b16812f097c2dad5869",
            "7aa8a2a26f554fffb710001e499753a3",
            "79374434bdcf47849fdbf7aba4c5173c",
            "616114ebdc7a49fba41de09a58cd1437",
            "4c007cd45c7b4480848f698e337f1881",
            "360dce822e514ad28a3c3d607ea46a09",
            "e14d7a73622e48a4a663349c6802e07e",
            "6e60a996d99d43e6b6bb5ddfe5faa63c",
            "71c201f206a0450fbca5f3c602adc4a4",
            "a7945d179f9d428d880b56c4764a5ad1",
            "e09838a9e1be49eca06f21cb7b008507",
            "1bbf7069d9db4acdbede4e225cef1ce2",
            "301d817564174585b2415046bb80b730",
            "9830fd5f3e18410c8d637b47138da117",
            "4f5108b375ac463190828fb0ab1b57b8",
            "5844292c99104831ac256f2320360925",
            "6c1813ad40474038aa0db3b349587490",
            "01c96c420105439cae4f2032709ea6ca",
            "a0843f44d9b74391b019cd3f57bccf75",
            "55a8dd3c5fd24747ac0998f6b9fe791a",
            "1f1da1e7dfe344dd87b26f15011f2527",
            "594816d8d6ba4e849d6f7df103d0e60c",
            "ddd1eed540d842a495be9990cf5716c1",
            "edfc8dd07a4e48cb98adea10032a7ab3",
            "66544c3770944032aa45fb5d1d89073a",
            "6e72a0b7edbb4e0296ac13e839f66594",
            "4c6ededd29e04aa09713b3f4bf7fb15b",
            "f80e654aed0643c5b78e65daef945cff",
            "74c89aa2a0ca45f0b72ad46ea96edef3",
            "63f01dbd5a9446f992035fa92901af71",
            "65a7f7af398f4e82839204cc63cb1c13",
            "d6c1091bbab94410835393b5c7a424b5"
          ]
        },
        "id": "12wF3f7o1Ni7",
        "outputId": "ab72a014-82a8-45ba-accd-b15cc46b79a8"
      },
      "outputs": [
        {
          "output_type": "display_data",
          "data": {
            "text/plain": [
              "config.json:   0%|          | 0.00/818 [00:00<?, ?B/s]"
            ],
            "application/vnd.jupyter.widget-view+json": {
              "version_major": 2,
              "version_minor": 0,
              "model_id": "5ea2318b160a4f59a512a97b48e7fae9"
            }
          },
          "metadata": {}
        },
        {
          "output_type": "display_data",
          "data": {
            "text/plain": [
              "model.safetensors.index.json:   0%|          | 0.00/24.2k [00:00<?, ?B/s]"
            ],
            "application/vnd.jupyter.widget-view+json": {
              "version_major": 2,
              "version_minor": 0,
              "model_id": "be87f7ed605b4cb7b605560fdeb5d89f"
            }
          },
          "metadata": {}
        },
        {
          "output_type": "display_data",
          "data": {
            "text/plain": [
              "Downloading shards:   0%|          | 0/3 [00:00<?, ?it/s]"
            ],
            "application/vnd.jupyter.widget-view+json": {
              "version_major": 2,
              "version_minor": 0,
              "model_id": "c5692308c1424944b4e2542439ed9c84"
            }
          },
          "metadata": {}
        },
        {
          "output_type": "display_data",
          "data": {
            "text/plain": [
              "model-00001-of-00003.safetensors:   0%|          | 0.00/4.99G [00:00<?, ?B/s]"
            ],
            "application/vnd.jupyter.widget-view+json": {
              "version_major": 2,
              "version_minor": 0,
              "model_id": "c7adf5c8158c4233945168697f3f2481"
            }
          },
          "metadata": {}
        },
        {
          "output_type": "display_data",
          "data": {
            "text/plain": [
              "model-00002-of-00003.safetensors:   0%|          | 0.00/4.98G [00:00<?, ?B/s]"
            ],
            "application/vnd.jupyter.widget-view+json": {
              "version_major": 2,
              "version_minor": 0,
              "model_id": "b2f02cf33fb44e168747eabeaa924a0d"
            }
          },
          "metadata": {}
        },
        {
          "output_type": "display_data",
          "data": {
            "text/plain": [
              "model-00003-of-00003.safetensors:   0%|          | 0.00/481M [00:00<?, ?B/s]"
            ],
            "application/vnd.jupyter.widget-view+json": {
              "version_major": 2,
              "version_minor": 0,
              "model_id": "1fdf1505de7c4df2b8813344567ab6c4"
            }
          },
          "metadata": {}
        },
        {
          "output_type": "display_data",
          "data": {
            "text/plain": [
              "Loading checkpoint shards:   0%|          | 0/3 [00:00<?, ?it/s]"
            ],
            "application/vnd.jupyter.widget-view+json": {
              "version_major": 2,
              "version_minor": 0,
              "model_id": "e09838a9e1be49eca06f21cb7b008507"
            }
          },
          "metadata": {}
        },
        {
          "output_type": "display_data",
          "data": {
            "text/plain": [
              "generation_config.json:   0%|          | 0.00/168 [00:00<?, ?B/s]"
            ],
            "application/vnd.jupyter.widget-view+json": {
              "version_major": 2,
              "version_minor": 0,
              "model_id": "594816d8d6ba4e849d6f7df103d0e60c"
            }
          },
          "metadata": {}
        }
      ],
      "source": [
        "model = AutoModelForCausalLM.from_pretrained(\n",
        "    \"google/gemma-2-2b\",\n",
        "    device_map='auto',\n",
        ")"
      ]
    },
    {
      "cell_type": "code",
      "execution_count": 12,
      "metadata": {
        "colab": {
          "base_uri": "https://localhost:8080/",
          "height": 145,
          "referenced_widgets": [
            "331d9ae6138b42b2b70bafc653307063",
            "7fee6c22dd6b4f3d923006a41b38ef75",
            "190a75ddd0004cbea9196104638127a9",
            "2c7ff670e05040b0ba525740a50aa957",
            "bc39b1e9612c4b0aa0df800da9d48597",
            "1ad9a5a4da3e46d892b6b333f32a379f",
            "d38ad49d7d8640868e768e44109ab276",
            "137db88119c74b058523d8b354fd7623",
            "51a30074a8b746d5a632639110328279",
            "4b64ae6fa27d4e3b945103e74e407885",
            "1e9c9398fc85451f82f958119bc2774a",
            "6a6338be2faf42118f654b668e2f67b9",
            "64c69ab50ff4427ba8c311c8c1ab66b3",
            "9415caf8d9834336a5c10a4128fd27b7",
            "3a98ebc0eda148479e08521ba5744c73",
            "3c22da52ef24454ea86d77a0af82eabb",
            "d13db7aec17a41b0a5a086bb1aeafc35",
            "f2d372e1409b4507b48bd367ce6377e8",
            "71cb09810c3d44719495323ce01bdbcf",
            "d31abd3816de4bd5900537202aa27112",
            "7f12757d09ed410cb916195eac13f688",
            "cce915d5a0c84274b03655faa4996495",
            "e4dd3f14c7a74dd2b458d313ab180225",
            "fa132660a1f040c7b0696aa19c3a6572",
            "5c761be644a74780a5aacee1f7fa07fb",
            "aa06ac58701b4a2eb837da55717dc9f4",
            "d8fb6fd6146c4062ae11529081dee066",
            "925331c37cb748cb8eccb3f308d75953",
            "5daaea82bfe14379af1c3f1eb2ea94b5",
            "ff28e26716a5430383c812f7185f83ce",
            "e2aa5e31496f40299292a2e733143180",
            "347e12659a614779ad908ea04875113f",
            "2427bc14e4644345abf76541f0a0196b",
            "bdfebbe74f17431585ba6fc6b15152fd",
            "fe2ad3368f7f48c483a56c16eba0ec94",
            "9b570ebe5cbf41d0bd8b6c9881117902",
            "760f69b4c63f49c5be3824486dd7e1b4",
            "7636b66bff294031ae382af76c931bc2",
            "14bb2e9ef99e4193909b46933b41392b",
            "275955404f8e4ede8f91855999becd78",
            "224de41e231a4cc8aa9e3a39d335920a",
            "648b80c4a8384c789eb682a30ca8ed80",
            "9c3eb0fda1bf45aa96177e04f12f98ca",
            "0d9238eacc704614b625519feb093b0a"
          ]
        },
        "id": "RV_HTT-v7ggl",
        "outputId": "87e2af65-9378-4c7a-eeb7-dc90fe78e07e"
      },
      "outputs": [
        {
          "output_type": "display_data",
          "data": {
            "text/plain": [
              "tokenizer_config.json:   0%|          | 0.00/46.4k [00:00<?, ?B/s]"
            ],
            "application/vnd.jupyter.widget-view+json": {
              "version_major": 2,
              "version_minor": 0,
              "model_id": "331d9ae6138b42b2b70bafc653307063"
            }
          },
          "metadata": {}
        },
        {
          "output_type": "display_data",
          "data": {
            "text/plain": [
              "tokenizer.model:   0%|          | 0.00/4.24M [00:00<?, ?B/s]"
            ],
            "application/vnd.jupyter.widget-view+json": {
              "version_major": 2,
              "version_minor": 0,
              "model_id": "6a6338be2faf42118f654b668e2f67b9"
            }
          },
          "metadata": {}
        },
        {
          "output_type": "display_data",
          "data": {
            "text/plain": [
              "tokenizer.json:   0%|          | 0.00/17.5M [00:00<?, ?B/s]"
            ],
            "application/vnd.jupyter.widget-view+json": {
              "version_major": 2,
              "version_minor": 0,
              "model_id": "e4dd3f14c7a74dd2b458d313ab180225"
            }
          },
          "metadata": {}
        },
        {
          "output_type": "display_data",
          "data": {
            "text/plain": [
              "special_tokens_map.json:   0%|          | 0.00/636 [00:00<?, ?B/s]"
            ],
            "application/vnd.jupyter.widget-view+json": {
              "version_major": 2,
              "version_minor": 0,
              "model_id": "bdfebbe74f17431585ba6fc6b15152fd"
            }
          },
          "metadata": {}
        }
      ],
      "source": [
        "tokenizer =  AutoTokenizer.from_pretrained(\"google/gemma-2-2b\")"
      ]
    },
    {
      "cell_type": "markdown",
      "metadata": {
        "id": "NU3TRser6AdO"
      },
      "source": [
        "# load transformerlens"
      ]
    },
    {
      "cell_type": "code",
      "execution_count": 24,
      "metadata": {
        "id": "44hx2_jY1SaC"
      },
      "outputs": [],
      "source": [
        "%%capture\n",
        "!pip install transformer_lens"
      ]
    },
    {
      "cell_type": "code",
      "execution_count": 25,
      "metadata": {
        "colab": {
          "base_uri": "https://localhost:8080/",
          "height": 72
        },
        "id": "VbJhCygk1Vbq",
        "outputId": "77111890-6448-4ff3-b93d-b37f0e7e5547"
      },
      "outputs": [
        {
          "output_type": "stream",
          "name": "stderr",
          "text": [
            "WARNING:root:You tried to specify center_unembed=True for a model using logit softcap, but this can't be done! Softcapping is not invariant upon adding a constantSetting center_unembed=False instead.\n",
            "WARNING:root:You are not using LayerNorm, so the writing weights can't be centered! Skipping\n"
          ]
        }
      ],
      "source": [
        "%%capture\n",
        "from transformer_lens import HookedTransformer\n",
        "\n",
        "# uses a lot of memory, use A100\n",
        "model_2 = HookedTransformer.from_pretrained(\n",
        "    \"gemma-2-2b\"\n",
        ")"
      ]
    },
    {
      "cell_type": "code",
      "execution_count": 28,
      "metadata": {
        "id": "RBHGUJb9aXq3"
      },
      "outputs": [],
      "source": [
        "from transformer_lens.hook_points import HookPoint\n",
        "from functools import partial\n",
        "from jaxtyping import Float, Int"
      ]
    },
    {
      "cell_type": "markdown",
      "source": [
        "# test prompts"
      ],
      "metadata": {
        "id": "45CFoL9SrSR1"
      }
    },
    {
      "cell_type": "code",
      "source": [
        "prompt = \"thirteen fourteen fifteen sixteen \"\n",
        "inputs = tokenizer.encode(prompt, return_tensors=\"pt\", add_special_tokens=True).to(\"cuda\")\n",
        "outputs = model.generate(input_ids=inputs, max_new_tokens=1)\n",
        "print(tokenizer.decode(outputs[0, -1]))"
      ],
      "metadata": {
        "colab": {
          "base_uri": "https://localhost:8080/"
        },
        "id": "0qw-KjbczhRr",
        "outputId": "7b863f36-ed0e-4a79-e55c-901bb5eb0407"
      },
      "execution_count": null,
      "outputs": [
        {
          "output_type": "stream",
          "name": "stdout",
          "text": [
            "1\n"
          ]
        }
      ]
    },
    {
      "cell_type": "markdown",
      "metadata": {
        "id": "N8ZMNbBKMuKA"
      },
      "source": [
        "# load sae"
      ]
    },
    {
      "cell_type": "code",
      "execution_count": 13,
      "metadata": {
        "colab": {
          "base_uri": "https://localhost:8080/",
          "height": 49,
          "referenced_widgets": [
            "32c953dbbcd7483f8cbd7f08a9e29d87",
            "af078e24313d462999c977efab40810c",
            "c0ee69209825416c8fcef19023195541",
            "dfac15a0e9dd439192fc9087f343ea8e",
            "ba77f434edc04112855c6dec56477fdc",
            "3b3b0302b57f4519a7795562e3335387",
            "457918769b9d4613b71180d2dc3450d1",
            "279dc4b1a16048fd90e1861324e7df82",
            "11e0fc981871431cb5709b6b8429511c",
            "e06a5084ad3143b285cf8b725bdcec46",
            "18770e2e5dd444d4a09555131b5e500c"
          ]
        },
        "id": "havaBGy6b97D",
        "outputId": "99ddbc54-bf84-42d8-edfc-bbc89d9455a6"
      },
      "outputs": [
        {
          "output_type": "display_data",
          "data": {
            "text/plain": [
              "params.npz:   0%|          | 0.00/302M [00:00<?, ?B/s]"
            ],
            "application/vnd.jupyter.widget-view+json": {
              "version_major": 2,
              "version_minor": 0,
              "model_id": "32c953dbbcd7483f8cbd7f08a9e29d87"
            }
          },
          "metadata": {}
        }
      ],
      "source": [
        "path_to_params = hf_hub_download(\n",
        "    repo_id=\"google/gemma-scope-2b-pt-res\",\n",
        "    filename=\"layer_20/width_16k/average_l0_71/params.npz\",\n",
        "    force_download=False,\n",
        ")"
      ]
    },
    {
      "cell_type": "code",
      "execution_count": 14,
      "metadata": {
        "id": "HB0GoeZccJD7"
      },
      "outputs": [],
      "source": [
        "params = np.load(path_to_params)\n",
        "pt_params = {k: torch.from_numpy(v).cuda() for k, v in params.items()}"
      ]
    },
    {
      "cell_type": "code",
      "execution_count": 15,
      "metadata": {
        "id": "WYfvS97fAFzq"
      },
      "outputs": [],
      "source": [
        "import torch.nn as nn\n",
        "class JumpReLUSAE(nn.Module):\n",
        "  def __init__(self, d_model, d_sae):\n",
        "    # Note that we initialise these to zeros because we're loading in pre-trained weights.\n",
        "    # If you want to train your own SAEs then we recommend using blah\n",
        "    super().__init__()\n",
        "    self.W_enc = nn.Parameter(torch.zeros(d_model, d_sae))\n",
        "    self.W_dec = nn.Parameter(torch.zeros(d_sae, d_model))\n",
        "    self.threshold = nn.Parameter(torch.zeros(d_sae))\n",
        "    self.b_enc = nn.Parameter(torch.zeros(d_sae))\n",
        "    self.b_dec = nn.Parameter(torch.zeros(d_model))\n",
        "\n",
        "  def encode(self, input_acts):\n",
        "    pre_acts = input_acts @ self.W_enc + self.b_enc\n",
        "    mask = (pre_acts > self.threshold)\n",
        "    acts = mask * torch.nn.functional.relu(pre_acts)\n",
        "    return acts\n",
        "\n",
        "  def decode(self, acts):\n",
        "    return acts @ self.W_dec + self.b_dec\n",
        "\n",
        "  def forward(self, acts):\n",
        "    acts = self.encode(acts)\n",
        "    recon = self.decode(acts)\n",
        "    return recon\n"
      ]
    },
    {
      "cell_type": "code",
      "execution_count": 16,
      "metadata": {
        "colab": {
          "base_uri": "https://localhost:8080/"
        },
        "id": "X91UGkU1cSrC",
        "outputId": "abe634e4-0f69-4d22-af2f-6d030c3e227a"
      },
      "outputs": [
        {
          "output_type": "execute_result",
          "data": {
            "text/plain": [
              "<All keys matched successfully>"
            ]
          },
          "metadata": {},
          "execution_count": 16
        }
      ],
      "source": [
        "sae = JumpReLUSAE(params['W_enc'].shape[0], params['W_enc'].shape[1])\n",
        "sae.load_state_dict(pt_params)"
      ]
    },
    {
      "cell_type": "code",
      "execution_count": 17,
      "metadata": {
        "colab": {
          "base_uri": "https://localhost:8080/"
        },
        "id": "sjgbfaPCjSWv",
        "outputId": "351cc077-7f07-4719-8a51-6ae3c8220caf"
      },
      "outputs": [
        {
          "output_type": "execute_result",
          "data": {
            "text/plain": [
              "JumpReLUSAE()"
            ]
          },
          "metadata": {},
          "execution_count": 17
        }
      ],
      "source": [
        "sae.cuda()"
      ]
    },
    {
      "cell_type": "markdown",
      "metadata": {
        "id": "bXTxV071e8IN"
      },
      "source": [
        "## load sae weights\n"
      ]
    },
    {
      "cell_type": "code",
      "execution_count": null,
      "metadata": {
        "id": "QI45LyeKe-K8"
      },
      "outputs": [],
      "source": [
        "weight_matrix = sae.W_dec.detach().cpu().numpy()\n",
        "weight_matrix.shape"
      ]
    },
    {
      "cell_type": "markdown",
      "metadata": {
        "id": "pzHjkBaA3RfR"
      },
      "source": [
        "## get actv fns"
      ]
    },
    {
      "cell_type": "code",
      "execution_count": 18,
      "metadata": {
        "id": "313MaH5JepiA"
      },
      "outputs": [],
      "source": [
        "prompt = \"January February March April\"\n",
        "inputs = tokenizer.encode(prompt, return_tensors=\"pt\", add_special_tokens=True).to(\"cuda\")"
      ]
    },
    {
      "cell_type": "code",
      "execution_count": 19,
      "metadata": {
        "id": "aSvKs581WU7j"
      },
      "outputs": [],
      "source": [
        "def gather_residual_activations(model, target_layer, inputs):\n",
        "  target_act = None\n",
        "  def gather_target_act_hook(mod, inputs, outputs):\n",
        "    nonlocal target_act # make sure we can modify the target_act from the outer scope\n",
        "    target_act = outputs[0]\n",
        "    return outputs\n",
        "  handle = model.model.layers[target_layer].register_forward_hook(gather_target_act_hook)\n",
        "  _ = model.forward(inputs)\n",
        "  handle.remove()\n",
        "  return target_act"
      ]
    },
    {
      "cell_type": "code",
      "execution_count": 20,
      "metadata": {
        "id": "pXoyLeWeXQF2"
      },
      "outputs": [],
      "source": [
        "target_act = gather_residual_activations(model, 20, inputs)"
      ]
    },
    {
      "cell_type": "markdown",
      "metadata": {
        "id": "iS4Re5VTQti5"
      },
      "source": [
        "Now, we can run our SAE on the saved activations."
      ]
    },
    {
      "cell_type": "code",
      "execution_count": 21,
      "metadata": {
        "id": "H2ax0KLtZfcu"
      },
      "outputs": [],
      "source": [
        "sae_acts = sae.encode(target_act.to(torch.float32))\n",
        "# recon = sae.decode(sae_acts)"
      ]
    },
    {
      "cell_type": "code",
      "execution_count": 22,
      "metadata": {
        "colab": {
          "base_uri": "https://localhost:8080/"
        },
        "id": "5vXYwKLQe42S",
        "outputId": "0f603dbd-f4fb-46aa-cee8-1164408e010b"
      },
      "outputs": [
        {
          "output_type": "execute_result",
          "data": {
            "text/plain": [
              "torch.Size([1, 5, 16384])"
            ]
          },
          "metadata": {},
          "execution_count": 22
        }
      ],
      "source": [
        "sae_acts.shape"
      ]
    },
    {
      "cell_type": "markdown",
      "source": [
        "# steering fns"
      ],
      "metadata": {
        "id": "EV8oow-wwFU_"
      }
    },
    {
      "cell_type": "markdown",
      "source": [
        "Steering sae fns"
      ],
      "metadata": {
        "id": "Sq7zigEtnZHC"
      }
    },
    {
      "cell_type": "code",
      "source": [
        "def steer_by_sae_actvs(prompt, steer_vec, multp):\n",
        "    tokens = model_2.to_tokens(prompt).to(device)\n",
        "    inputs = tokenizer.encode(prompt, return_tensors=\"pt\", add_special_tokens=True).to(\"cuda\")\n",
        "    target_act = gather_residual_activations(model, 20, inputs)\n",
        "    sae_acts_3 = sae.encode(target_act.to(torch.float32))\n",
        "\n",
        "    sae_acts_3  += multp * steer_vec # in-place\n",
        "    recon = sae.decode(sae_acts_3)\n",
        "    recon.shape\n",
        "\n",
        "    # replace LLM actvs in that layer with decoder output\n",
        "\n",
        "    layer_name = 'blocks.20.hook_resid_post'\n",
        "\n",
        "    def patch_layer(\n",
        "        orig_actvs: Float[Tensor, \"batch pos d_model\"],\n",
        "        hook: HookPoint,\n",
        "        LLM_patch: Float[Tensor, \"batch pos d_model\"],\n",
        "        layer_to_patch: int,\n",
        "    ) -> Float[Tensor, \"batch pos d_model\"]:\n",
        "        if layer_to_patch == hook.layer():\n",
        "            orig_actvs[:, :, :] = LLM_patch\n",
        "        return orig_actvs\n",
        "\n",
        "    hook_fn = partial(\n",
        "            patch_layer,\n",
        "            LLM_patch= recon,\n",
        "            layer_to_patch = 20\n",
        "        )\n",
        "\n",
        "    # if you use run_with_cache, you need to add_hook before\n",
        "    # if you use run_with_hooks, you dont need add_hook, just add it in fwd_hooks arg\n",
        "    # no need to reset hoooks after since run_with_hooks isn't permanent like add_hook with perm arg\n",
        "\n",
        "    # rerun clean inputs on ablated model\n",
        "    ablated_logits = model_2.run_with_hooks(tokens,\n",
        "                        fwd_hooks=[\n",
        "                            (layer_name, hook_fn),\n",
        "                        ]\n",
        "                    )\n",
        "\n",
        "    next_token = ablated_logits[0, -1].argmax(dim=-1)\n",
        "    next_char = model_2.to_string(next_token)\n",
        "    print(next_char)"
      ],
      "metadata": {
        "id": "jFNTpD20pdCj"
      },
      "execution_count": null,
      "outputs": []
    },
    {
      "cell_type": "code",
      "source": [
        "def steer_by_sae_lastTok(prompt, steer_vec, multp):\n",
        "    tokens = model_2.to_tokens(prompt).to(device)\n",
        "    inputs = tokenizer.encode(prompt, return_tensors=\"pt\", add_special_tokens=True).to(\"cuda\")\n",
        "    target_act = gather_residual_activations(model, 20, inputs)\n",
        "    sae_acts_3 = sae.encode(target_act.to(torch.float32))\n",
        "\n",
        "    sae_acts_3[:, -1, :]  += multp * steer_vec[:, -1, :] # in-place\n",
        "    recon = sae.decode(sae_acts_3)\n",
        "    recon.shape\n",
        "\n",
        "    # replace LLM actvs in that layer with decoder output\n",
        "\n",
        "    layer_name = 'blocks.20.hook_resid_post'\n",
        "\n",
        "    def patch_layer(\n",
        "        orig_actvs: Float[Tensor, \"batch pos d_model\"],\n",
        "        hook: HookPoint,\n",
        "        LLM_patch: Float[Tensor, \"batch pos d_model\"],\n",
        "        layer_to_patch: int,\n",
        "    ) -> Float[Tensor, \"batch pos d_model\"]:\n",
        "        if layer_to_patch == hook.layer():\n",
        "            orig_actvs[:, :, :] = LLM_patch\n",
        "        return orig_actvs\n",
        "\n",
        "    hook_fn = partial(\n",
        "            patch_layer,\n",
        "            LLM_patch= recon,\n",
        "            layer_to_patch = 20\n",
        "        )\n",
        "\n",
        "    # if you use run_with_cache, you need to add_hook before\n",
        "    # if you use run_with_hooks, you dont need add_hook, just add it in fwd_hooks arg\n",
        "    # no need to reset hoooks after since run_with_hooks isn't permanent like add_hook with perm arg\n",
        "\n",
        "    # rerun clean inputs on ablated model\n",
        "    ablated_logits = model_2.run_with_hooks(tokens,\n",
        "                        fwd_hooks=[\n",
        "                            (layer_name, hook_fn),\n",
        "                        ]\n",
        "                    )\n",
        "\n",
        "    next_token = ablated_logits[0, -1].argmax(dim=-1)\n",
        "    next_char = model_2.to_string(next_token)\n",
        "    print(next_char)"
      ],
      "metadata": {
        "id": "xw8f93bInk2_"
      },
      "execution_count": null,
      "outputs": []
    },
    {
      "cell_type": "markdown",
      "source": [
        "LLM steering fns"
      ],
      "metadata": {
        "id": "am0lV6AqwBzn"
      }
    },
    {
      "cell_type": "code",
      "source": [
        "def steer_by_LLM_lastTok(prompt, steer_vec, multp):\n",
        "    tokens = model_2.to_tokens(prompt).to(device)\n",
        "    inputs = tokenizer.encode(prompt, return_tensors=\"pt\", add_special_tokens=True).to(\"cuda\")\n",
        "    target_act = gather_residual_activations(model, 20, inputs)\n",
        "\n",
        "    target_act[:, -1, :]  += multp * steer_vec[:, -1, :] # in-place\n",
        "\n",
        "    # replace LLM actvs in that layer with decoder output\n",
        "\n",
        "    layer_name = 'blocks.20.hook_resid_post'\n",
        "\n",
        "    def patch_layer(\n",
        "        orig_actvs: Float[Tensor, \"batch pos d_model\"],\n",
        "        hook: HookPoint,\n",
        "        LLM_patch: Float[Tensor, \"batch pos d_model\"],\n",
        "        layer_to_patch: int,\n",
        "    ) -> Float[Tensor, \"batch pos d_model\"]:\n",
        "        if layer_to_patch == hook.layer():\n",
        "            orig_actvs[:, :, :] = LLM_patch\n",
        "        return orig_actvs\n",
        "\n",
        "    hook_fn = partial(\n",
        "            patch_layer,\n",
        "            LLM_patch= target_act,\n",
        "            layer_to_patch = 20\n",
        "        )\n",
        "\n",
        "    # if you use run_with_cache, you need to add_hook before\n",
        "    # if you use run_with_hooks, you dont need add_hook, just add it in fwd_hooks arg\n",
        "    # no need to reset hoooks after since run_with_hooks isn't permanent like add_hook with perm arg\n",
        "\n",
        "    # rerun clean inputs on ablated model\n",
        "    ablated_logits = model_2.run_with_hooks(tokens,\n",
        "                        fwd_hooks=[\n",
        "                            (layer_name, hook_fn),\n",
        "                        ]\n",
        "                    )\n",
        "\n",
        "    next_token = ablated_logits[0, -1].argmax(dim=-1)\n",
        "    next_char = model_2.to_string(next_token)\n",
        "    print(next_char)"
      ],
      "metadata": {
        "id": "zpoop5GIwBLK"
      },
      "execution_count": 54,
      "outputs": []
    },
    {
      "cell_type": "code",
      "source": [
        "def steer_by_LLM_decompSAE(prompt, patch, multp):\n",
        "    # replace LLM actvs in that layer with decoder output\n",
        "\n",
        "    layer_name = 'blocks.20.hook_resid_post'\n",
        "\n",
        "    def patch_layer(\n",
        "        orig_actvs: Float[Tensor, \"batch pos d_model\"],\n",
        "        hook: HookPoint,\n",
        "        LLM_patch: Float[Tensor, \"batch pos d_model\"],\n",
        "        layer_to_patch: int,\n",
        "    ) -> Float[Tensor, \"batch pos d_model\"]:\n",
        "        if layer_to_patch == hook.layer():\n",
        "            orig_actvs[:, :, :] = LLM_patch\n",
        "        return orig_actvs\n",
        "\n",
        "    hook_fn = partial(\n",
        "            patch_layer,\n",
        "            LLM_patch= patch,\n",
        "            layer_to_patch = 20\n",
        "        )\n",
        "\n",
        "    # if you use run_with_cache, you need to add_hook before\n",
        "    # if you use run_with_hooks, you dont need add_hook, just add it in fwd_hooks arg\n",
        "    # no need to reset hoooks after since run_with_hooks isn't permanent like add_hook with perm arg\n",
        "\n",
        "    # rerun clean inputs on ablated model\n",
        "    ablated_logits = model_2.run_with_hooks(tokens,\n",
        "                        fwd_hooks=[\n",
        "                            (layer_name, hook_fn),\n",
        "                        ]\n",
        "                    )\n",
        "\n",
        "    next_token = ablated_logits[0, -1].argmax(dim=-1)\n",
        "    next_char = model_2.to_string(next_token)\n",
        "    print(next_char)"
      ],
      "metadata": {
        "id": "JDow_KwZBXp_"
      },
      "execution_count": null,
      "outputs": []
    },
    {
      "cell_type": "markdown",
      "source": [
        "# steer by SAE using members not seqs"
      ],
      "metadata": {
        "id": "LYjUkcskstI2"
      }
    },
    {
      "cell_type": "markdown",
      "source": [
        "## get sv without subtraction- numerals"
      ],
      "metadata": {
        "id": "XQ3CoL48un-r"
      }
    },
    {
      "cell_type": "code",
      "execution_count": null,
      "metadata": {
        "id": "ArLQTFovun-s"
      },
      "outputs": [],
      "source": [
        "words = ['1', '2', '3', '4', '5', '6', '7', '8', '9', '10']\n",
        "numword_samps = []\n",
        "for i in range(0, 10):\n",
        "    samp = f\"{words[i]}\"\n",
        "    numword_samps.append(samp)\n",
        "inputs = tokenizer(numword_samps, return_tensors=\"pt\", padding=True, truncation=True, max_length=300)['input_ids'].to(\"cuda\")\n",
        "target_act = gather_residual_activations(model, 20, inputs)\n",
        "sae_acts_1 = sae.encode(target_act.to(torch.float32))"
      ]
    },
    {
      "cell_type": "code",
      "source": [
        "# nw_sv = sae_acts_1\n",
        "mean_num_sv = sae_acts_1.mean(dim=0)\n",
        "mean_num_sv = mean_num_sv.unsqueeze(0)\n",
        "mean_num_sv.shape"
      ],
      "metadata": {
        "colab": {
          "base_uri": "https://localhost:8080/"
        },
        "outputId": "d0695e02-4747-4807-c04e-b870815e84f3",
        "id": "jxd8Y611un-s"
      },
      "execution_count": null,
      "outputs": [
        {
          "output_type": "execute_result",
          "data": {
            "text/plain": [
              "torch.Size([1, 3, 16384])"
            ]
          },
          "metadata": {},
          "execution_count": 30
        }
      ]
    },
    {
      "cell_type": "markdown",
      "source": [
        "### steer"
      ],
      "metadata": {
        "id": "L2MqGYxkun-s"
      }
    },
    {
      "cell_type": "code",
      "source": [
        "words = ['one', 'two', 'three', 'four', 'five', 'six', 'seven', 'eight', 'nine', 'ten', 'eleven', 'twelve']\n",
        "numword_samps = []\n",
        "for i in range(0, 9):\n",
        "    samp = f\"{words[i]} {words[i+1]} {words[i+2]} {words[i+3]}\"\n",
        "    numword_samps.append(samp)"
      ],
      "metadata": {
        "id": "4hOZb_nEsL4a"
      },
      "execution_count": null,
      "outputs": []
    },
    {
      "cell_type": "code",
      "source": [
        "steer_vec = mean_num_sv\n",
        "multp = 1\n",
        "\n",
        "for prompt in numword_samps:\n",
        "    print(prompt)\n",
        "    steer_by_sae_lastTok(prompt, steer_vec, multp)"
      ],
      "metadata": {
        "colab": {
          "base_uri": "https://localhost:8080/"
        },
        "id": "Pv7WTttfsRt7",
        "outputId": "c24fd0ba-0e41-4054-e2cc-8d7f07c67277"
      },
      "execution_count": null,
      "outputs": [
        {
          "output_type": "stream",
          "name": "stdout",
          "text": [
            "one two three four\n",
            "5\n",
            "two three four five\n",
            "6\n",
            "three four five six\n",
            "7\n",
            "four five six seven\n",
            "8\n",
            "five six seven eight\n",
            "9\n",
            "six seven eight nine\n",
            "0\n",
            "seven eight nine ten\n",
            "\n",
            "\n",
            "eight nine ten eleven\n",
            "2\n",
            "nine ten eleven twelve\n",
            "3\n"
          ]
        }
      ]
    },
    {
      "cell_type": "code",
      "source": [
        "words = ['one', 'two', 'three', 'four', 'five', 'six', 'seven', 'eight', 'nine', 'ten', 'eleven', 'twelve']\n",
        "numword_samps = []\n",
        "for i in range(0, 9):\n",
        "    samp = f\"{words[i]} {words[i+1]} {words[i+2]}\" # {words[i+3]}\"\n",
        "    numword_samps.append(samp)"
      ],
      "metadata": {
        "id": "BOZFQeUusmes"
      },
      "execution_count": null,
      "outputs": []
    },
    {
      "cell_type": "code",
      "source": [
        "steer_vec = mean_num_sv\n",
        "multp = 1\n",
        "\n",
        "for prompt in numword_samps:\n",
        "    print(prompt)\n",
        "    steer_by_sae_lastTok(prompt, steer_vec, multp)"
      ],
      "metadata": {
        "colab": {
          "base_uri": "https://localhost:8080/"
        },
        "outputId": "fb193989-ef22-4dc5-8ad4-f1181dbaaafb",
        "id": "_JxZtAfqsme3"
      },
      "execution_count": null,
      "outputs": [
        {
          "output_type": "stream",
          "name": "stdout",
          "text": [
            "one two three\n",
            "4\n",
            "two three four\n",
            "5\n",
            "three four five\n",
            "6\n",
            "four five six\n",
            "7\n",
            "five six seven\n",
            "8\n",
            "six seven eight\n",
            "9\n",
            "seven eight nine\n",
            "0\n",
            "eight nine ten\n",
            "0\n",
            "nine ten eleven\n",
            "2\n"
          ]
        }
      ]
    },
    {
      "cell_type": "code",
      "source": [
        "words = ['one', 'two', 'three', 'four', 'five', 'six', 'seven', 'eight', 'nine', 'ten', 'eleven', 'twelve']\n",
        "numword_samps = []\n",
        "for i in range(0, 9):\n",
        "    samp = f\"{words[i]} {words[i+1]}\" # {words[i+2]} {words[i+3]}\"\n",
        "    numword_samps.append(samp)"
      ],
      "metadata": {
        "id": "ZyySH4UcswL0"
      },
      "execution_count": null,
      "outputs": []
    },
    {
      "cell_type": "code",
      "source": [
        "steer_vec = mean_num_sv\n",
        "multp = 1\n",
        "\n",
        "for prompt in numword_samps:\n",
        "    print(prompt)\n",
        "    steer_by_sae_lastTok(prompt, steer_vec, multp)"
      ],
      "metadata": {
        "colab": {
          "base_uri": "https://localhost:8080/"
        },
        "outputId": "ec8d7901-07bd-4e5c-d690-d83c6842a719",
        "id": "2lGQcLV6swL-"
      },
      "execution_count": null,
      "outputs": [
        {
          "output_type": "stream",
          "name": "stdout",
          "text": [
            "one two\n",
            "0\n",
            "two three\n",
            "0\n",
            "three four\n",
            "0\n",
            "four five\n",
            "6\n",
            "five six\n",
            "7\n",
            "six seven\n",
            "0\n",
            "seven eight\n",
            "0\n",
            "eight nine\n",
            "0\n",
            "nine ten\n",
            "0\n"
          ]
        }
      ]
    },
    {
      "cell_type": "code",
      "source": [
        "words = ['January', 'February', 'March', 'April', 'May', 'June', 'July', 'August', 'September', 'October', 'November', 'December']\n",
        "months_samps = []\n",
        "for i in range(0, 9):\n",
        "    samp = f\"{words[i]} {words[i+1]} {words[i+2]} {words[i+3]}\"\n",
        "    months_samps.append(samp)"
      ],
      "metadata": {
        "id": "9K8Q23m1t9o-"
      },
      "execution_count": null,
      "outputs": []
    },
    {
      "cell_type": "code",
      "source": [
        "steer_vec = mean_num_sv\n",
        "multp = 1\n",
        "\n",
        "for prompt in months_samps:\n",
        "    print(prompt)\n",
        "    steer_by_sae_lastTok(prompt, steer_vec, multp)"
      ],
      "metadata": {
        "colab": {
          "base_uri": "https://localhost:8080/"
        },
        "outputId": "0ae48d45-5732-48cf-9025-90164894adf4",
        "id": "pSsfoF9mt9pI"
      },
      "execution_count": null,
      "outputs": [
        {
          "output_type": "stream",
          "name": "stdout",
          "text": [
            "January February March April\n",
            "5\n",
            "February March April May\n",
            "6\n",
            "March April May June\n",
            "7\n",
            "April May June July\n",
            "8\n",
            "May June July August\n",
            "9\n",
            "June July August September\n",
            "\n",
            "\n",
            "July August September October\n",
            "\n",
            "\n",
            "August September October November\n",
            "\n",
            "\n",
            "September October November December\n",
            "\n",
            "\n"
          ]
        }
      ]
    },
    {
      "cell_type": "code",
      "source": [
        "words = [\"Monday\", \"Tuesday\", \"Wednesday\", \"Thursday\", \"Friday\", \"Saturday\", \"Sunday\"]\n",
        "months_samps = []\n",
        "for i in range(0, 5):\n",
        "    samp = f\"{words[i]} {words[i+1]} {words[i+2]}\" # {words[i+3]}\"\n",
        "    months_samps.append(samp)"
      ],
      "metadata": {
        "id": "xaDGEwW2uFsL"
      },
      "execution_count": null,
      "outputs": []
    },
    {
      "cell_type": "code",
      "source": [
        "# assume monday is the first day, aim to get 4 if ends on Wedn\n",
        "steer_vec = mean_num_sv\n",
        "multp = 1\n",
        "\n",
        "for prompt in months_samps:\n",
        "    print(prompt)\n",
        "    steer_by_sae_lastTok(prompt, steer_vec, multp)"
      ],
      "metadata": {
        "colab": {
          "base_uri": "https://localhost:8080/"
        },
        "outputId": "13e5051b-a253-463a-9f27-605046229826",
        "id": "pbgCuvNbuFsU"
      },
      "execution_count": null,
      "outputs": [
        {
          "output_type": "stream",
          "name": "stdout",
          "text": [
            "Monday Tuesday Wednesday\n",
            "4\n",
            "Tuesday Wednesday Thursday\n",
            "5\n",
            "Wednesday Thursday Friday\n",
            "\n",
            "\n",
            "Thursday Friday Saturday\n",
            "\n",
            "\n",
            "Friday Saturday Sunday\n",
            "\n",
            "\n"
          ]
        }
      ]
    },
    {
      "cell_type": "code",
      "source": [
        "# assume monday is the first day, aim to get 4 if ends on Wedn\n",
        "steer_vec = mean_num_sv\n",
        "multp = 3\n",
        "\n",
        "for prompt in months_samps:\n",
        "    print(prompt)\n",
        "    steer_by_sae_lastTok(prompt, steer_vec, multp)"
      ],
      "metadata": {
        "colab": {
          "base_uri": "https://localhost:8080/"
        },
        "id": "Rk4w6NDAwXYQ",
        "outputId": "bdc3563e-55f1-405d-c0ad-4ea94c054bbe"
      },
      "execution_count": null,
      "outputs": [
        {
          "output_type": "stream",
          "name": "stdout",
          "text": [
            "Monday Tuesday Wednesday\n",
            "4\n",
            "Tuesday Wednesday Thursday\n",
            "5\n",
            "Wednesday Thursday Friday\n",
            "6\n",
            "Thursday Friday Saturday\n",
            "0\n",
            "Friday Saturday Sunday\n",
            "0\n"
          ]
        }
      ]
    },
    {
      "cell_type": "code",
      "source": [
        "words = [\"Monday\", \"Tuesday\", \"Wednesday\", \"Thursday\", \"Friday\", \"Saturday\", \"Sunday\"]\n",
        "tomorrowIs_samps = []\n",
        "for i in range(0, 6):\n",
        "    samp = f\"Today is {words[i]}, tomorrow is\"\n",
        "    tomorrowIs_samps.append(samp)"
      ],
      "metadata": {
        "id": "F1kNpnr33NiX"
      },
      "execution_count": 82,
      "outputs": []
    },
    {
      "cell_type": "code",
      "source": [
        "# assume monday is the first day, aim to get 4 if ends on Wedn\n",
        "steer_vec = mean_num_sv\n",
        "multp = 1\n",
        "\n",
        "for prompt in tomorrowIs_samps:\n",
        "    print(prompt)\n",
        "    steer_by_sae_lastTok(prompt, steer_vec, multp)"
      ],
      "metadata": {
        "colab": {
          "base_uri": "https://localhost:8080/"
        },
        "outputId": "851f47b8-5257-48d2-8b79-0004bc23a8fd",
        "id": "8umOMnD_3Nij"
      },
      "execution_count": 83,
      "outputs": [
        {
          "output_type": "stream",
          "name": "stdout",
          "text": [
            "Today is Monday, tomorrow is\n",
            " Tuesday\n",
            "Today is Tuesday, tomorrow is\n",
            " Wednesday\n",
            "Today is Wednesday, tomorrow is\n",
            " Thursday\n",
            "Today is Thursday, tomorrow is\n",
            " Friday\n",
            "Today is Friday, tomorrow is\n",
            "6\n",
            "Today is Saturday, tomorrow is\n",
            " Sunday\n"
          ]
        }
      ]
    },
    {
      "cell_type": "code",
      "source": [
        "# assume monday is the first day, aim to get 4 if ends on Wedn\n",
        "steer_vec = mean_num_sv\n",
        "multp = 3\n",
        "\n",
        "for prompt in tomorrowIs_samps:\n",
        "    print(prompt)\n",
        "    steer_by_sae_lastTok(prompt, steer_vec, multp)"
      ],
      "metadata": {
        "colab": {
          "base_uri": "https://localhost:8080/"
        },
        "id": "bSqyn3M83dU3",
        "outputId": "6a3469c1-8a57-40b4-cb66-ef55aecb96a4"
      },
      "execution_count": 84,
      "outputs": [
        {
          "output_type": "stream",
          "name": "stdout",
          "text": [
            "Today is Monday, tomorrow is\n",
            "0\n",
            "Today is Tuesday, tomorrow is\n",
            "0\n",
            "Today is Wednesday, tomorrow is\n",
            "4\n",
            "Today is Thursday, tomorrow is\n",
            "5\n",
            "Today is Friday, tomorrow is\n",
            "6\n",
            "Today is Saturday, tomorrow is\n",
            "0\n"
          ]
        }
      ]
    },
    {
      "cell_type": "code",
      "source": [
        "#\n",
        "prompt = \"This month is July, next month is\"\n",
        "steer_vec = mean_num_sv\n",
        "multp = 1\n",
        "steer_by_sae_lastTok(prompt, steer_vec, multp)"
      ],
      "metadata": {
        "colab": {
          "base_uri": "https://localhost:8080/"
        },
        "id": "oiKtq5-wxgr8",
        "outputId": "62fd38e5-7ec2-4d9f-9aa1-7ba1385d8b4e"
      },
      "execution_count": null,
      "outputs": [
        {
          "output_type": "stream",
          "name": "stdout",
          "text": [
            "8\n"
          ]
        }
      ]
    },
    {
      "cell_type": "code",
      "source": [
        "#\n",
        "prompt = \"four three two\"\n",
        "steer_vec = mean_num_sv\n",
        "multp = 1\n",
        "steer_by_sae_lastTok(prompt, steer_vec, multp)"
      ],
      "metadata": {
        "colab": {
          "base_uri": "https://localhost:8080/"
        },
        "id": "qxZPS3Cdx-2R",
        "outputId": "0f599d88-0a0c-414f-8ba3-0f91f4c52272"
      },
      "execution_count": null,
      "outputs": [
        {
          "output_type": "stream",
          "name": "stdout",
          "text": [
            "1\n"
          ]
        }
      ]
    },
    {
      "cell_type": "code",
      "source": [
        "words = ['uno', 'dos', 'tres', 'cuatro', 'cinco', 'seis', 'siete', 'ocho', 'nueve']\n",
        "SPnumword_samps = []\n",
        "for i in range(0, 6):\n",
        "    samp = f\"{words[i]} {words[i+1]} {words[i+2]} {words[i+3]}\"\n",
        "    SPnumword_samps.append(samp)"
      ],
      "metadata": {
        "id": "-kiOzaTv3xJv"
      },
      "execution_count": 87,
      "outputs": []
    },
    {
      "cell_type": "code",
      "source": [
        "steer_vec = mean_num_sv\n",
        "multp = 0\n",
        "\n",
        "for prompt in SPnumword_samps:\n",
        "    print(prompt)\n",
        "    steer_by_sae_lastTok(prompt, steer_vec, multp)"
      ],
      "metadata": {
        "colab": {
          "base_uri": "https://localhost:8080/"
        },
        "id": "wIIan4o84Dhk",
        "outputId": "81491edf-1bee-4fc7-c0dd-1441bb9adf2c"
      },
      "execution_count": 88,
      "outputs": [
        {
          "output_type": "stream",
          "name": "stdout",
          "text": [
            "uno dos tres cuatro\n",
            " cinco\n",
            "dos tres cuatro cinco\n",
            "\n",
            "\n",
            "tres cuatro cinco seis\n",
            "\n",
            "\n",
            "cuatro cinco seis siete\n",
            " \n",
            "cinco seis siete ocho\n",
            "\n",
            "\n",
            "seis siete ocho nueve\n",
            "\n",
            "\n"
          ]
        }
      ]
    },
    {
      "cell_type": "code",
      "source": [
        "steer_vec = mean_num_sv\n",
        "multp = 1\n",
        "\n",
        "for prompt in SPnumword_samps:\n",
        "    print(prompt)\n",
        "    steer_by_sae_lastTok(prompt, steer_vec, multp)"
      ],
      "metadata": {
        "colab": {
          "base_uri": "https://localhost:8080/"
        },
        "outputId": "6bea4e2e-595b-437f-e5b2-056e0590593a",
        "id": "9nj7NAK13xJ7"
      },
      "execution_count": 86,
      "outputs": [
        {
          "output_type": "stream",
          "name": "stdout",
          "text": [
            "uno dos tres cuatro\n",
            "5\n",
            "dos tres cuatro cinco\n",
            "6\n",
            "tres cuatro cinco seis\n",
            "7\n",
            "cuatro cinco seis siete\n",
            "8\n",
            "cinco seis siete ocho\n",
            "9\n",
            "seis siete ocho nueve\n",
            "0\n"
          ]
        }
      ]
    },
    {
      "cell_type": "markdown",
      "source": [
        "### nonseq prompts"
      ],
      "metadata": {
        "id": "63qz69BCwIs8"
      }
    },
    {
      "cell_type": "code",
      "source": [
        "nonseq_prompts = [ \"aa a a\", \"I AM A CAT\", \"Bob and Mary went to store\", \"my favorite colour is\"]\n",
        "steer_vec = mean_num_sv\n",
        "multp = 3\n",
        "\n",
        "for prompt in nonseq_prompts:\n",
        "    print(prompt)\n",
        "    steer_by_sae_lastTok(prompt, steer_vec, multp)"
      ],
      "metadata": {
        "colab": {
          "base_uri": "https://localhost:8080/"
        },
        "id": "Nieyiim4v5Wd",
        "outputId": "e53026b0-4f60-47b6-e304-628c17edf05e"
      },
      "execution_count": 59,
      "outputs": [
        {
          "output_type": "stream",
          "name": "stdout",
          "text": [
            "aa a a\n",
            "0\n",
            "I AM A CAT\n",
            "0\n",
            "Bob and Mary went to store\n",
            "0\n",
            "my favorite colour is\n",
            "0\n"
          ]
        }
      ]
    },
    {
      "cell_type": "code",
      "source": [
        "nonseq_prompts = [ \"aa a a\", \"I AM A CAT\", \"Bob and Mary went to store\", \"my favorite colour is\"]\n",
        "steer_vec = mean_num_sv\n",
        "multp = 10\n",
        "\n",
        "for prompt in nonseq_prompts:\n",
        "    print(prompt)\n",
        "    steer_by_sae_lastTok(prompt, steer_vec, multp)"
      ],
      "metadata": {
        "colab": {
          "base_uri": "https://localhost:8080/"
        },
        "id": "88it0ZosyK8F",
        "outputId": "c0855ad9-4de7-4100-e2ae-1e088c0f5d77"
      },
      "execution_count": 60,
      "outputs": [
        {
          "output_type": "stream",
          "name": "stdout",
          "text": [
            "aa a a\n",
            "0\n",
            "I AM A CAT\n",
            "0\n",
            "Bob and Mary went to store\n",
            "0\n",
            "my favorite colour is\n",
            "0\n"
          ]
        }
      ]
    },
    {
      "cell_type": "markdown",
      "source": [
        "we score using the correct expected answer"
      ],
      "metadata": {
        "id": "kaPjGUbgyQFA"
      }
    },
    {
      "cell_type": "markdown",
      "source": [
        "## get sv without subtraction- numerals (no 10)"
      ],
      "metadata": {
        "id": "qng_Qkpu5J38"
      }
    },
    {
      "cell_type": "code",
      "execution_count": 111,
      "metadata": {
        "id": "MHludAhO5J38"
      },
      "outputs": [],
      "source": [
        "words = ['1', '2', '3', '4', '5', '6', '7', '8', '9']\n",
        "numword_samps = []\n",
        "for i in range(0, 9):\n",
        "    samp = f\"{words[i]}\"\n",
        "    numword_samps.append(samp)\n",
        "inputs = tokenizer(numword_samps, return_tensors=\"pt\", padding=True, truncation=True, max_length=300)['input_ids'].to(\"cuda\")\n",
        "target_act = gather_residual_activations(model, 20, inputs)\n",
        "sae_acts_1 = sae.encode(target_act.to(torch.float32))"
      ]
    },
    {
      "cell_type": "code",
      "source": [
        "# nw_sv = sae_acts_1\n",
        "mean_num_sv = sae_acts_1.mean(dim=0)\n",
        "mean_num_sv = mean_num_sv.unsqueeze(0)\n",
        "mean_num_sv.shape"
      ],
      "metadata": {
        "colab": {
          "base_uri": "https://localhost:8080/"
        },
        "outputId": "343dcb9c-287a-4340-ec3e-345ebf417815",
        "id": "yDs_qjce5J39"
      },
      "execution_count": 112,
      "outputs": [
        {
          "output_type": "execute_result",
          "data": {
            "text/plain": [
              "torch.Size([1, 2, 16384])"
            ]
          },
          "metadata": {},
          "execution_count": 112
        }
      ]
    },
    {
      "cell_type": "markdown",
      "source": [
        "### steer"
      ],
      "metadata": {
        "id": "dahBJtaa5J39"
      }
    },
    {
      "cell_type": "code",
      "source": [
        "words = ['one', 'two', 'three', 'four', 'five', 'six', 'seven', 'eight', 'nine', 'ten', 'eleven', 'twelve']\n",
        "numword_samps = []\n",
        "for i in range(0, 9):\n",
        "    samp = f\"{words[i]} {words[i+1]} {words[i+2]} {words[i+3]}\"\n",
        "    numword_samps.append(samp)"
      ],
      "metadata": {
        "id": "01767A9a5J39"
      },
      "execution_count": 113,
      "outputs": []
    },
    {
      "cell_type": "code",
      "source": [
        "steer_vec = mean_num_sv\n",
        "multp = 1\n",
        "\n",
        "for prompt in numword_samps:\n",
        "    print(prompt)\n",
        "    steer_by_sae_lastTok(prompt, steer_vec, multp)"
      ],
      "metadata": {
        "colab": {
          "base_uri": "https://localhost:8080/"
        },
        "outputId": "14c145ab-af78-4e6c-d79c-d780b4cd2bb2",
        "id": "7CjdlH_85J39"
      },
      "execution_count": 114,
      "outputs": [
        {
          "output_type": "stream",
          "name": "stdout",
          "text": [
            "one two three four\n",
            "5\n",
            "two three four five\n",
            "6\n",
            "three four five six\n",
            "7\n",
            "four five six seven\n",
            "8\n",
            "five six seven eight\n",
            "9\n",
            "six seven eight nine\n",
            "8\n",
            "seven eight nine ten\n",
            "1\n",
            "eight nine ten eleven\n",
            "2\n",
            "nine ten eleven twelve\n",
            "3\n"
          ]
        }
      ]
    },
    {
      "cell_type": "code",
      "source": [
        "words = ['one', 'two', 'three', 'four', 'five', 'six', 'seven', 'eight', 'nine', 'ten', 'eleven', 'twelve']\n",
        "numword_samps = []\n",
        "for i in range(0, 9):\n",
        "    samp = f\"{words[i]} {words[i+1]} {words[i+2]}\" # {words[i+3]}\"\n",
        "    numword_samps.append(samp)"
      ],
      "metadata": {
        "id": "skcfm1qE5J3-"
      },
      "execution_count": 115,
      "outputs": []
    },
    {
      "cell_type": "code",
      "source": [
        "steer_vec = mean_num_sv\n",
        "multp = 1\n",
        "\n",
        "for prompt in numword_samps:\n",
        "    print(prompt)\n",
        "    steer_by_sae_lastTok(prompt, steer_vec, multp)"
      ],
      "metadata": {
        "colab": {
          "base_uri": "https://localhost:8080/"
        },
        "outputId": "76c28a77-0470-434b-e0bb-5dc2932aff9b",
        "id": "qFb33aMO5J3-"
      },
      "execution_count": 116,
      "outputs": [
        {
          "output_type": "stream",
          "name": "stdout",
          "text": [
            "one two three\n",
            "4\n",
            "two three four\n",
            "5\n",
            "three four five\n",
            "6\n",
            "four five six\n",
            "7\n",
            "five six seven\n",
            "8\n",
            "six seven eight\n",
            "8\n",
            "seven eight nine\n",
            "0\n",
            "eight nine ten\n",
            "0\n",
            "nine ten eleven\n",
            "2\n"
          ]
        }
      ]
    },
    {
      "cell_type": "code",
      "source": [
        "words = ['one', 'two', 'three', 'four', 'five', 'six', 'seven', 'eight', 'nine', 'ten', 'eleven', 'twelve']\n",
        "numword_samps = []\n",
        "for i in range(0, 9):\n",
        "    samp = f\"{words[i]} {words[i+1]}\" # {words[i+2]} {words[i+3]}\"\n",
        "    numword_samps.append(samp)"
      ],
      "metadata": {
        "id": "iSEDsDh55J3-"
      },
      "execution_count": 117,
      "outputs": []
    },
    {
      "cell_type": "code",
      "source": [
        "steer_vec = mean_num_sv\n",
        "multp = 1\n",
        "\n",
        "for prompt in numword_samps:\n",
        "    print(prompt)\n",
        "    steer_by_sae_lastTok(prompt, steer_vec, multp)"
      ],
      "metadata": {
        "colab": {
          "base_uri": "https://localhost:8080/"
        },
        "outputId": "347fcbf8-1b4f-4f7d-8614-cfdcf9c2533b",
        "id": "cyIdUdG05J3-"
      },
      "execution_count": 118,
      "outputs": [
        {
          "output_type": "stream",
          "name": "stdout",
          "text": [
            "one two\n",
            "0\n",
            "two three\n",
            "4\n",
            "three four\n",
            "0\n",
            "four five\n",
            "6\n",
            "five six\n",
            "7\n",
            "six seven\n",
            "0\n",
            "seven eight\n",
            "0\n",
            "eight nine\n",
            "0\n",
            "nine ten\n",
            "0\n"
          ]
        }
      ]
    },
    {
      "cell_type": "code",
      "source": [
        "words = ['January', 'February', 'March', 'April', 'May', 'June', 'July', 'August', 'September', 'October', 'November', 'December']\n",
        "months_samps = []\n",
        "for i in range(0, 9):\n",
        "    samp = f\"{words[i]} {words[i+1]} {words[i+2]} {words[i+3]}\"\n",
        "    months_samps.append(samp)"
      ],
      "metadata": {
        "id": "OxZ0QibE5J3-"
      },
      "execution_count": 119,
      "outputs": []
    },
    {
      "cell_type": "code",
      "source": [
        "steer_vec = mean_num_sv\n",
        "multp = 1\n",
        "\n",
        "for prompt in months_samps:\n",
        "    print(prompt)\n",
        "    steer_by_sae_lastTok(prompt, steer_vec, multp)"
      ],
      "metadata": {
        "colab": {
          "base_uri": "https://localhost:8080/"
        },
        "outputId": "495c89cd-a291-4eee-ed04-f52f78d5ade9",
        "id": "I7VGYPN55J3-"
      },
      "execution_count": 120,
      "outputs": [
        {
          "output_type": "stream",
          "name": "stdout",
          "text": [
            "January February March April\n",
            "5\n",
            "February March April May\n",
            "6\n",
            "March April May June\n",
            "7\n",
            "April May June July\n",
            "8\n",
            "May June July August\n",
            "9\n",
            "June July August September\n",
            " October\n",
            "July August September October\n",
            " \n",
            "August September October November\n",
            " \n",
            "September October November December\n",
            " \n"
          ]
        }
      ]
    },
    {
      "cell_type": "code",
      "source": [
        "words = [\"Monday\", \"Tuesday\", \"Wednesday\", \"Thursday\", \"Friday\", \"Saturday\", \"Sunday\"]\n",
        "months_samps = []\n",
        "for i in range(0, 5):\n",
        "    samp = f\"{words[i]} {words[i+1]} {words[i+2]}\" # {words[i+3]}\"\n",
        "    months_samps.append(samp)"
      ],
      "metadata": {
        "id": "b5WBXAKC5J3-"
      },
      "execution_count": 121,
      "outputs": []
    },
    {
      "cell_type": "code",
      "source": [
        "# assume monday is the first day, aim to get 4 if ends on Wedn\n",
        "steer_vec = mean_num_sv\n",
        "multp = 1\n",
        "\n",
        "for prompt in months_samps:\n",
        "    print(prompt)\n",
        "    steer_by_sae_lastTok(prompt, steer_vec, multp)"
      ],
      "metadata": {
        "colab": {
          "base_uri": "https://localhost:8080/"
        },
        "outputId": "6a9adf2e-00a8-4547-e36c-b1056cdfb76e",
        "id": "Lej6xZ035J3_"
      },
      "execution_count": 122,
      "outputs": [
        {
          "output_type": "stream",
          "name": "stdout",
          "text": [
            "Monday Tuesday Wednesday\n",
            "4\n",
            "Tuesday Wednesday Thursday\n",
            "5\n",
            "Wednesday Thursday Friday\n",
            " \n",
            "Thursday Friday Saturday\n",
            "\n",
            "\n",
            "Friday Saturday Sunday\n",
            ".\n"
          ]
        }
      ]
    },
    {
      "cell_type": "code",
      "source": [
        "# assume monday is the first day, aim to get 4 if ends on Wedn\n",
        "steer_vec = mean_num_sv\n",
        "multp = 3\n",
        "\n",
        "for prompt in months_samps:\n",
        "    print(prompt)\n",
        "    steer_by_sae_lastTok(prompt, steer_vec, multp)"
      ],
      "metadata": {
        "colab": {
          "base_uri": "https://localhost:8080/"
        },
        "outputId": "720372cd-1382-4031-dab3-ce44030e95df",
        "id": "Ifly5wKi5J3_"
      },
      "execution_count": 123,
      "outputs": [
        {
          "output_type": "stream",
          "name": "stdout",
          "text": [
            "Monday Tuesday Wednesday\n",
            "4\n",
            "Tuesday Wednesday Thursday\n",
            "5\n",
            "Wednesday Thursday Friday\n",
            "0\n",
            "Thursday Friday Saturday\n",
            "0\n",
            "Friday Saturday Sunday\n",
            "1\n"
          ]
        }
      ]
    },
    {
      "cell_type": "code",
      "source": [
        "words = [\"Monday\", \"Tuesday\", \"Wednesday\", \"Thursday\", \"Friday\", \"Saturday\", \"Sunday\"]\n",
        "tomorrowIs_samps = []\n",
        "for i in range(0, 6):\n",
        "    samp = f\"Today is {words[i]}, tomorrow is\"\n",
        "    tomorrowIs_samps.append(samp)"
      ],
      "metadata": {
        "id": "_F1u_dZW5J3_"
      },
      "execution_count": 137,
      "outputs": []
    },
    {
      "cell_type": "code",
      "source": [
        "# assume monday is the first day, aim to get 4 if ends on Wedn\n",
        "steer_vec = mean_num_sv\n",
        "multp = 1\n",
        "\n",
        "for prompt in tomorrowIs_samps:\n",
        "    print(prompt)\n",
        "    steer_by_sae_lastTok(prompt, steer_vec, multp)"
      ],
      "metadata": {
        "colab": {
          "base_uri": "https://localhost:8080/"
        },
        "outputId": "25198ac6-f832-48d6-8723-b123be58fd4f",
        "id": "lC3Yi3cF5J3_"
      },
      "execution_count": 138,
      "outputs": [
        {
          "output_type": "stream",
          "name": "stdout",
          "text": [
            "Today is Monday, tomorrow is\n",
            " Tuesday\n",
            "Today is Tuesday, tomorrow is\n",
            " \n",
            "Today is Wednesday, tomorrow is\n",
            " Thursday\n",
            "Today is Thursday, tomorrow is\n",
            " Friday\n",
            "Today is Friday, tomorrow is\n",
            "6\n",
            "Today is Saturday, tomorrow is\n",
            " Sunday\n"
          ]
        }
      ]
    },
    {
      "cell_type": "code",
      "source": [
        "words = ['January', 'February', 'March', 'April', 'May', 'June', 'July', 'August', 'September', 'October', 'November', 'December']\n",
        "nextMonthIs_samps = []\n",
        "for i in range(0, 6):\n",
        "    samp = f\"This month is {words[i]}, next month is\"\n",
        "    nextMonthIs_samps.append(samp)"
      ],
      "metadata": {
        "id": "44sSCfoH5xb8"
      },
      "execution_count": 139,
      "outputs": []
    },
    {
      "cell_type": "code",
      "source": [
        "#\n",
        "steer_vec = mean_num_sv\n",
        "multp = 1\n",
        "\n",
        "for prompt in nextMonthIs_samps:\n",
        "    print(prompt)\n",
        "    steer_by_sae_lastTok(prompt, steer_vec, multp)"
      ],
      "metadata": {
        "colab": {
          "base_uri": "https://localhost:8080/"
        },
        "outputId": "ef08e401-761a-41bc-8c01-975565e332c3",
        "id": "CxlKkktN5J4A"
      },
      "execution_count": 141,
      "outputs": [
        {
          "output_type": "stream",
          "name": "stdout",
          "text": [
            "This month is January, next month is\n",
            " February\n",
            "This month is February, next month is\n",
            "3\n",
            "This month is March, next month is\n",
            " April\n",
            "This month is April, next month is\n",
            "5\n",
            "This month is May, next month is\n",
            "6\n",
            "This month is June, next month is\n",
            "7\n"
          ]
        }
      ]
    },
    {
      "cell_type": "code",
      "source": [
        "#\n",
        "steer_vec = mean_num_sv\n",
        "multp = 3\n",
        "\n",
        "for prompt in nextMonthIs_samps:\n",
        "    print(prompt)\n",
        "    steer_by_sae_lastTok(prompt, steer_vec, multp)"
      ],
      "metadata": {
        "colab": {
          "base_uri": "https://localhost:8080/"
        },
        "id": "6wxIA6PB6O8O",
        "outputId": "8af42cc1-82b3-4a7e-9a3f-f46f8d27e28d"
      },
      "execution_count": 142,
      "outputs": [
        {
          "output_type": "stream",
          "name": "stdout",
          "text": [
            "This month is January, next month is\n",
            "2\n",
            "This month is February, next month is\n",
            "3\n",
            "This month is March, next month is\n",
            "4\n",
            "This month is April, next month is\n",
            "5\n",
            "This month is May, next month is\n",
            "6\n",
            "This month is June, next month is\n",
            "7\n"
          ]
        }
      ]
    },
    {
      "cell_type": "code",
      "source": [
        "words = ['one', 'two', 'three', 'four', 'five', 'six', 'seven', 'eight', 'nine', 'ten', 'eleven', 'twelve'][::-1]\n",
        "backw_numword_samps = []\n",
        "for i in range(0, 9):\n",
        "    samp = f\"{words[i]} {words[i+1]} {words[i+2]} {words[i+3]}\"\n",
        "    backw_numword_samps.append(samp)"
      ],
      "metadata": {
        "id": "ONTflRZF6oP_"
      },
      "execution_count": 146,
      "outputs": []
    },
    {
      "cell_type": "code",
      "source": [
        "steer_vec = mean_num_sv\n",
        "multp = 1\n",
        "\n",
        "for prompt in backw_numword_samps:\n",
        "    print(prompt)\n",
        "    steer_by_sae_lastTok(prompt, steer_vec, multp)"
      ],
      "metadata": {
        "colab": {
          "base_uri": "https://localhost:8080/"
        },
        "outputId": "5bc911b9-31f7-4ac0-a7b3-4b6783dbb5ef",
        "id": "mr8FherZ6oQK"
      },
      "execution_count": 148,
      "outputs": [
        {
          "output_type": "stream",
          "name": "stdout",
          "text": [
            "twelve eleven ten nine\n",
            "8\n",
            "eleven ten nine eight\n",
            "7\n",
            "ten nine eight seven\n",
            "6\n",
            "nine eight seven six\n",
            "0\n",
            "eight seven six five\n",
            " \n",
            "seven six five four\n",
            "3\n",
            "six five four three\n",
            "2\n",
            "five four three two\n",
            "1\n",
            "four three two one\n",
            "2\n"
          ]
        }
      ]
    },
    {
      "cell_type": "code",
      "source": [
        "steer_vec = mean_num_sv\n",
        "multp = 3\n",
        "\n",
        "for prompt in backw_numword_samps:\n",
        "    print(prompt)\n",
        "    steer_by_sae_lastTok(prompt, steer_vec, multp)"
      ],
      "metadata": {
        "colab": {
          "base_uri": "https://localhost:8080/"
        },
        "id": "gtUR9-Ee64_O",
        "outputId": "f6e085e5-c5a5-4c71-8075-969b99c861e6"
      },
      "execution_count": 149,
      "outputs": [
        {
          "output_type": "stream",
          "name": "stdout",
          "text": [
            "twelve eleven ten nine\n",
            "8\n",
            "eleven ten nine eight\n",
            "0\n",
            "ten nine eight seven\n",
            "6\n",
            "nine eight seven six\n",
            "0\n",
            "eight seven six five\n",
            "0\n",
            "seven six five four\n",
            "3\n",
            "six five four three\n",
            "2\n",
            "five four three two\n",
            "1\n",
            "four three two one\n",
            "0\n"
          ]
        }
      ]
    },
    {
      "cell_type": "code",
      "source": [
        "words = ['uno', 'dos', 'tres', 'cuatro', 'cinco', 'seis', 'siete', 'ocho', 'nueve']\n",
        "SPnumword_samps = []\n",
        "for i in range(0, 6):\n",
        "    samp = f\"{words[i]} {words[i+1]} {words[i+2]} {words[i+3]}\"\n",
        "    SPnumword_samps.append(samp)"
      ],
      "metadata": {
        "id": "NllbmGsY5J4B"
      },
      "execution_count": 129,
      "outputs": []
    },
    {
      "cell_type": "code",
      "source": [
        "steer_vec = mean_num_sv\n",
        "multp = 0\n",
        "\n",
        "for prompt in SPnumword_samps:\n",
        "    print(prompt)\n",
        "    steer_by_sae_lastTok(prompt, steer_vec, multp)"
      ],
      "metadata": {
        "colab": {
          "base_uri": "https://localhost:8080/"
        },
        "outputId": "0fe038d2-f5d0-4719-e53a-3b0c232da294",
        "id": "pzWtJHo_5J4B"
      },
      "execution_count": 130,
      "outputs": [
        {
          "output_type": "stream",
          "name": "stdout",
          "text": [
            "uno dos tres cuatro\n",
            " cinco\n",
            "dos tres cuatro cinco\n",
            "\n",
            "\n",
            "tres cuatro cinco seis\n",
            "\n",
            "\n",
            "cuatro cinco seis siete\n",
            " \n",
            "cinco seis siete ocho\n",
            "\n",
            "\n",
            "seis siete ocho nueve\n",
            "\n",
            "\n"
          ]
        }
      ]
    },
    {
      "cell_type": "code",
      "source": [
        "steer_vec = mean_num_sv\n",
        "multp = 1\n",
        "\n",
        "for prompt in SPnumword_samps:\n",
        "    print(prompt)\n",
        "    steer_by_sae_lastTok(prompt, steer_vec, multp)"
      ],
      "metadata": {
        "colab": {
          "base_uri": "https://localhost:8080/"
        },
        "outputId": "fc4bbac4-a11a-4511-f18e-6fa6d5171701",
        "id": "4aAa2OsE5J4B"
      },
      "execution_count": 131,
      "outputs": [
        {
          "output_type": "stream",
          "name": "stdout",
          "text": [
            "uno dos tres cuatro\n",
            "5\n",
            "dos tres cuatro cinco\n",
            "6\n",
            "tres cuatro cinco seis\n",
            "7\n",
            "cuatro cinco seis siete\n",
            "8\n",
            "cinco seis siete ocho\n",
            "9\n",
            "seis siete ocho nueve\n",
            "0\n"
          ]
        }
      ]
    },
    {
      "cell_type": "markdown",
      "source": [
        "### nonseq prompts"
      ],
      "metadata": {
        "id": "7f5FssbT5J4B"
      }
    },
    {
      "cell_type": "code",
      "source": [
        "nonseq_prompts = [ \"aa a a\", \"I AM A CAT\", \"Bob and Mary went to store\", \"my favorite colour is\"]\n",
        "steer_vec = mean_num_sv\n",
        "multp = 3\n",
        "\n",
        "for prompt in nonseq_prompts:\n",
        "    print(prompt)\n",
        "    steer_by_sae_lastTok(prompt, steer_vec, multp)"
      ],
      "metadata": {
        "colab": {
          "base_uri": "https://localhost:8080/"
        },
        "outputId": "9d149425-9502-4c87-a4e7-f59324d93d22",
        "id": "Wj7GFddr5J4C"
      },
      "execution_count": 132,
      "outputs": [
        {
          "output_type": "stream",
          "name": "stdout",
          "text": [
            "aa a a\n",
            "0\n",
            "I AM A CAT\n",
            "0\n",
            "Bob and Mary went to store\n",
            "0\n",
            "my favorite colour is\n",
            "0\n"
          ]
        }
      ]
    },
    {
      "cell_type": "code",
      "source": [
        "nonseq_prompts = [ \"aa a a\", \"I AM A CAT\", \"Bob and Mary went to store\", \"my favorite colour is\"]\n",
        "steer_vec = mean_num_sv\n",
        "multp = 10\n",
        "\n",
        "for prompt in nonseq_prompts:\n",
        "    print(prompt)\n",
        "    steer_by_sae_lastTok(prompt, steer_vec, multp)"
      ],
      "metadata": {
        "colab": {
          "base_uri": "https://localhost:8080/"
        },
        "outputId": "ccfbc5ba-d405-4a24-9ca4-e8e43aa57374",
        "id": "Wvzd40e95J4C"
      },
      "execution_count": 133,
      "outputs": [
        {
          "output_type": "stream",
          "name": "stdout",
          "text": [
            "aa a a\n",
            "0\n",
            "I AM A CAT\n",
            "0\n",
            "Bob and Mary went to store\n",
            "0\n",
            "my favorite colour is\n",
            "0\n"
          ]
        }
      ]
    },
    {
      "cell_type": "markdown",
      "source": [
        "we score using the correct expected answer"
      ],
      "metadata": {
        "id": "EgYwyU815J4C"
      }
    },
    {
      "cell_type": "markdown",
      "source": [
        "## get nw sv without subtraction"
      ],
      "metadata": {
        "id": "WPPplZoosw06"
      }
    },
    {
      "cell_type": "code",
      "execution_count": 71,
      "metadata": {
        "id": "Dje91Atbsxdg"
      },
      "outputs": [],
      "source": [
        "words = ['one', 'two', 'three', 'four', 'five', 'six', 'seven', 'eight', 'nine', 'ten']\n",
        "numword_samps = []\n",
        "for i in range(0, 10):\n",
        "    samp = f\"{words[i]}\"\n",
        "    numword_samps.append(samp)\n",
        "inputs = tokenizer(numword_samps, return_tensors=\"pt\", padding=True, truncation=True, max_length=300)['input_ids'].to(\"cuda\")\n",
        "target_act = gather_residual_activations(model, 20, inputs)\n",
        "sae_acts_1 = sae.encode(target_act.to(torch.float32))"
      ]
    },
    {
      "cell_type": "code",
      "source": [
        "mean_nw_sv = sae_acts_1.mean(dim=0)\n",
        "mean_nw_sv = mean_nw_sv.unsqueeze(0)\n",
        "mean_nw_sv.shape"
      ],
      "metadata": {
        "colab": {
          "base_uri": "https://localhost:8080/"
        },
        "id": "Ua_9MIdktFn4",
        "outputId": "5ecc5216-ddf1-4b7b-a51b-0091e96b0a96"
      },
      "execution_count": 72,
      "outputs": [
        {
          "output_type": "execute_result",
          "data": {
            "text/plain": [
              "torch.Size([1, 2, 16384])"
            ]
          },
          "metadata": {},
          "execution_count": 72
        }
      ]
    },
    {
      "cell_type": "markdown",
      "source": [
        "### steer"
      ],
      "metadata": {
        "id": "pctn9hWzs7ct"
      }
    },
    {
      "cell_type": "code",
      "source": [
        "words = ['1', '2', '3', '4', '5', '6', '7', '8', '9']\n",
        "numerals_samps = []\n",
        "for i in range(0, 6):\n",
        "    samp = f\"{words[i]} {words[i+1]} {words[i+2]} {words[i+3]}\"\n",
        "    numerals_samps.append(samp)"
      ],
      "metadata": {
        "id": "RWQtv-5r21Cx"
      },
      "execution_count": 78,
      "outputs": []
    },
    {
      "cell_type": "code",
      "source": [
        "steer_vec = mean_nw_sv\n",
        "multp = 1\n",
        "\n",
        "for prompt in numerals_samps:\n",
        "    print(prompt)\n",
        "    steer_by_sae_lastTok(prompt, steer_vec, multp)"
      ],
      "metadata": {
        "colab": {
          "base_uri": "https://localhost:8080/"
        },
        "id": "0sL-jJ2K27U9",
        "outputId": "ef4018d0-5db1-4058-af8e-72e59eb2cb72"
      },
      "execution_count": 79,
      "outputs": [
        {
          "output_type": "stream",
          "name": "stdout",
          "text": [
            "1 2 3 4\n",
            " \n",
            "2 3 4 5\n",
            " \n",
            "3 4 5 6\n",
            " \n",
            "4 5 6 7\n",
            " \n",
            "5 6 7 8\n",
            " \n",
            "6 7 8 9\n",
            " \n"
          ]
        }
      ]
    },
    {
      "cell_type": "code",
      "source": [
        "words = ['January', 'February', 'March', 'April', 'May', 'June', 'July', 'August', 'September', 'October', 'November', 'December']\n",
        "months_samps = []\n",
        "for i in range(0, 9):\n",
        "    samp = f\"{words[i]} {words[i+1]} {words[i+2]} {words[i+3]}\"\n",
        "    months_samps.append(samp)"
      ],
      "metadata": {
        "id": "6DrtighN2oZt"
      },
      "execution_count": 73,
      "outputs": []
    },
    {
      "cell_type": "code",
      "source": [
        "steer_vec = mean_nw_sv\n",
        "multp = 1\n",
        "\n",
        "for prompt in months_samps:\n",
        "    print(prompt)\n",
        "    steer_by_sae_lastTok(prompt, steer_vec, multp)"
      ],
      "metadata": {
        "colab": {
          "base_uri": "https://localhost:8080/"
        },
        "outputId": "a6b82e76-e501-467c-99d1-fbe3a28cdd97",
        "id": "GVdNksOY2oZ2"
      },
      "execution_count": 74,
      "outputs": [
        {
          "output_type": "stream",
          "name": "stdout",
          "text": [
            "January February March April\n",
            " May\n",
            "February March April May\n",
            " \n",
            "March April May June\n",
            " \n",
            "April May June July\n",
            "\n",
            "\n",
            "May June July August\n",
            " September\n",
            "June July August September\n",
            " October\n",
            "July August September October\n",
            " November\n",
            "August September October November\n",
            " \n",
            "September October November December\n",
            "\n",
            "\n"
          ]
        }
      ]
    },
    {
      "cell_type": "code",
      "source": [
        "steer_vec = mean_nw_sv\n",
        "multp = 3\n",
        "\n",
        "for prompt in months_samps:\n",
        "    print(prompt)\n",
        "    steer_by_sae_lastTok(prompt, steer_vec, multp)"
      ],
      "metadata": {
        "colab": {
          "base_uri": "https://localhost:8080/"
        },
        "id": "S0pGCGoxs8YU",
        "outputId": "c40f9c9d-9196-44c4-90a3-e8f96963d3f5"
      },
      "execution_count": 75,
      "outputs": [
        {
          "output_type": "stream",
          "name": "stdout",
          "text": [
            "January February March April\n",
            "-\n",
            "February March April May\n",
            "-\n",
            "March April May June\n",
            "-\n",
            "April May June July\n",
            "-\n",
            "May June July August\n",
            "-\n",
            "June July August September\n",
            "-\n",
            "July August September October\n",
            "-\n",
            "August September October November\n",
            "-\n",
            "September October November December\n",
            "-\n"
          ]
        }
      ]
    },
    {
      "cell_type": "markdown",
      "source": [
        "## get sv as nw-months"
      ],
      "metadata": {
        "id": "NOmC8Ms-twPS"
      }
    },
    {
      "cell_type": "code",
      "execution_count": null,
      "metadata": {
        "id": "U3ggdZo9sxdh"
      },
      "outputs": [],
      "source": [
        "words = ['January', 'February', 'March', 'April', 'May', 'June', 'July', 'August', 'September', 'October'] # , 'November', 'December'\n",
        "month_samps = []\n",
        "for i in range(0, 10):\n",
        "    samp = f\"{words[i]}\"\n",
        "    month_samps.append(samp)\n",
        "inputs = tokenizer(month_samps, return_tensors=\"pt\", padding=True, truncation=True, max_length=300)['input_ids'].to(\"cuda\")\n",
        "target_act = gather_residual_activations(model, 20, inputs)\n",
        "sae_acts_2 = sae.encode(target_act.to(torch.float32))"
      ]
    },
    {
      "cell_type": "markdown",
      "metadata": {
        "id": "oEZQT4kcsxdh"
      },
      "source": [
        "pair each num prompt with its months analogue, and subtract"
      ]
    },
    {
      "cell_type": "code",
      "source": [
        "months_minus_nw_nonseq = sae_acts_2 - sae_acts_1\n",
        "mean_months_minus_nw_nonseq = months_minus_nw_nonseq.mean(dim=0)\n",
        "mean_months_minus_nw_nonseq = mean_months_minus_nw_nonseq.unsqueeze(0)\n",
        "mean_months_minus_nw_nonseq.shape"
      ],
      "metadata": {
        "colab": {
          "base_uri": "https://localhost:8080/"
        },
        "outputId": "d0957b90-c876-46fc-cbdc-9f606917c108",
        "id": "AXZqGkbpsxdh"
      },
      "execution_count": null,
      "outputs": [
        {
          "output_type": "execute_result",
          "data": {
            "text/plain": [
              "torch.Size([1, 2, 16384])"
            ]
          },
          "metadata": {},
          "execution_count": 154
        }
      ]
    },
    {
      "cell_type": "markdown",
      "source": [
        "### steer"
      ],
      "metadata": {
        "id": "k-Ttic6puJ2u"
      }
    },
    {
      "cell_type": "code",
      "source": [
        "prompt = \"four five six\"\n",
        "steer_vec = mean_months_minus_nw_nonseq\n",
        "multp = 4\n",
        "steer_by_sae_lastTok(prompt, steer_vec, multp)"
      ],
      "metadata": {
        "colab": {
          "base_uri": "https://localhost:8080/"
        },
        "outputId": "36c4c6b7-a972-4175-cbe5-2cdacf29727e",
        "id": "6hxJSptPuJ2v"
      },
      "execution_count": null,
      "outputs": [
        {
          "output_type": "stream",
          "name": "stdout",
          "text": [
            " \n"
          ]
        }
      ]
    },
    {
      "cell_type": "code",
      "source": [
        "prompt = \"four\"\n",
        "steer_vec = mean_months_minus_nw_nonseq\n",
        "multp = 1\n",
        "steer_by_sae_lastTok(prompt, steer_vec, multp)"
      ],
      "metadata": {
        "colab": {
          "base_uri": "https://localhost:8080/"
        },
        "outputId": "995ead73-2470-408c-d819-b7d1e8b35f92",
        "id": "j7aVwQHHuJ2v"
      },
      "execution_count": null,
      "outputs": [
        {
          "output_type": "stream",
          "name": "stdout",
          "text": [
            " \n"
          ]
        }
      ]
    },
    {
      "cell_type": "code",
      "source": [
        "prompt = \"four\"\n",
        "steer_vec = mean_months_minus_nw_nonseq\n",
        "multp = 5\n",
        "steer_by_sae_lastTok(prompt, steer_vec, multp)"
      ],
      "metadata": {
        "colab": {
          "base_uri": "https://localhost:8080/"
        },
        "outputId": "45cc931b-13db-425e-a5f3-63539f9443cc",
        "id": "6MyiCyXduJ2v"
      },
      "execution_count": null,
      "outputs": [
        {
          "output_type": "stream",
          "name": "stdout",
          "text": [
            " måned\n"
          ]
        }
      ]
    },
    {
      "cell_type": "code",
      "source": [
        "prompt = \"one\"\n",
        "steer_vec = mean_months_minus_nw_nonseq\n",
        "multp = 10\n",
        "steer_by_sae_lastTok(prompt, steer_vec, multp)"
      ],
      "metadata": {
        "colab": {
          "base_uri": "https://localhost:8080/"
        },
        "id": "LF_JFFcZtiJl",
        "outputId": "7abe8c30-d129-4bc4-a7a9-cb18385bcd55"
      },
      "execution_count": null,
      "outputs": [
        {
          "output_type": "stream",
          "name": "stdout",
          "text": [
            " måned\n"
          ]
        }
      ]
    },
    {
      "cell_type": "markdown",
      "source": [
        "## mod 10"
      ],
      "metadata": {
        "id": "D-hfm-ewzQMh"
      }
    },
    {
      "cell_type": "code",
      "source": [
        "#\n",
        "prompt = \"thirteen fourteen fifteen sixteen \"\n",
        "steer_vec = mean_num_sv\n",
        "multp = 0\n",
        "steer_by_sae_lastTok(prompt, steer_vec, multp)"
      ],
      "metadata": {
        "colab": {
          "base_uri": "https://localhost:8080/"
        },
        "id": "6rWXiTvhwD9s",
        "outputId": "555d6c7c-f108-4c3a-90ff-cfdf5a57655e"
      },
      "execution_count": null,
      "outputs": [
        {
          "output_type": "stream",
          "name": "stdout",
          "text": [
            "1\n"
          ]
        }
      ]
    },
    {
      "cell_type": "code",
      "source": [
        "#\n",
        "prompt = \"seven eight nine ten eleven\"\n",
        "steer_vec = mean_num_sv\n",
        "multp = 0\n",
        "steer_by_sae_lastTok(prompt, steer_vec, multp)"
      ],
      "metadata": {
        "colab": {
          "base_uri": "https://localhost:8080/"
        },
        "id": "cUjMQ5ryzZAE",
        "outputId": "495c83f6-9dda-431b-d87b-21c9736554a0"
      },
      "execution_count": null,
      "outputs": [
        {
          "output_type": "stream",
          "name": "stdout",
          "text": [
            " twelve\n"
          ]
        }
      ]
    },
    {
      "cell_type": "code",
      "source": [
        "#\n",
        "prompt = \"seven eight nine ten eleven\"\n",
        "steer_vec = mean_num_sv\n",
        "multp = 1.5\n",
        "steer_by_sae_lastTok(prompt, steer_vec, multp)"
      ],
      "metadata": {
        "colab": {
          "base_uri": "https://localhost:8080/"
        },
        "id": "jdgjrq-7znpz",
        "outputId": "628218e6-c881-4b1e-d7b7-0a6d2882aa87"
      },
      "execution_count": null,
      "outputs": [
        {
          "output_type": "stream",
          "name": "stdout",
          "text": [
            "2\n"
          ]
        }
      ]
    },
    {
      "cell_type": "code",
      "source": [
        "#\n",
        "prompt = \"six seven eight nine ten eleven twelve\"\n",
        "steer_vec = mean_num_sv\n",
        "multp = 0\n",
        "steer_by_sae_lastTok(prompt, steer_vec, multp)"
      ],
      "metadata": {
        "colab": {
          "base_uri": "https://localhost:8080/"
        },
        "id": "uRzCrTBszt4O",
        "outputId": "8ffa38de-2065-4b39-af13-3fa37ce5141d"
      },
      "execution_count": null,
      "outputs": [
        {
          "output_type": "stream",
          "name": "stdout",
          "text": [
            "\n",
            "\n"
          ]
        }
      ]
    },
    {
      "cell_type": "markdown",
      "source": [
        "# steer by LLM actvs"
      ],
      "metadata": {
        "id": "USNcT_AKu4FB"
      }
    },
    {
      "cell_type": "code",
      "source": [
        "words = ['1', '2', '3', '4', '5', '6', '7', '8', '9']\n",
        "numword_samps = []\n",
        "for i in range(0, 9):\n",
        "    samp = f\"{words[i]}\"\n",
        "    numword_samps.append(samp)\n",
        "inputs = tokenizer(numword_samps, return_tensors=\"pt\", padding=True, truncation=True, max_length=300)['input_ids'].to(\"cuda\")\n",
        "target_act = gather_residual_activations(model, 20, inputs)\n",
        "target_act.shape"
      ],
      "metadata": {
        "colab": {
          "base_uri": "https://localhost:8080/"
        },
        "id": "YzumZ1FjvyNj",
        "outputId": "38565708-9ed1-48b7-a8d2-efbb6b3ef2bc"
      },
      "execution_count": 52,
      "outputs": [
        {
          "output_type": "execute_result",
          "data": {
            "text/plain": [
              "torch.Size([9, 2, 2304])"
            ]
          },
          "metadata": {},
          "execution_count": 52
        }
      ]
    },
    {
      "cell_type": "code",
      "execution_count": 48,
      "metadata": {
        "id": "7hIwzwMFvAcl"
      },
      "outputs": [],
      "source": [
        "words = ['1', '2', '3', '4', '5', '6', '7', '8', '9', '10']\n",
        "numword_samps = []\n",
        "for i in range(0, 10):\n",
        "    samp = f\"{words[i]}\"\n",
        "    numword_samps.append(samp)\n",
        "inputs = tokenizer(numword_samps, return_tensors=\"pt\", padding=True, truncation=True, max_length=300)['input_ids'].to(\"cuda\")\n",
        "target_act = gather_residual_activations(model, 20, inputs)\n",
        "# sae_acts_1 = sae.encode(target_act.to(torch.float32))"
      ]
    },
    {
      "cell_type": "code",
      "source": [
        "target_act.shape"
      ],
      "metadata": {
        "colab": {
          "base_uri": "https://localhost:8080/"
        },
        "id": "O6JGe-H9vso6",
        "outputId": "7d4b72e3-cd05-4ddf-f23b-a06570c0e5e1"
      },
      "execution_count": 50,
      "outputs": [
        {
          "output_type": "execute_result",
          "data": {
            "text/plain": [
              "torch.Size([10, 3, 2304])"
            ]
          },
          "metadata": {},
          "execution_count": 50
        }
      ]
    },
    {
      "cell_type": "code",
      "source": [
        "LLM_mean_num_sv = target_act.mean(dim=0)\n",
        "LLM_mean_num_sv = LLM_mean_num_sv.unsqueeze(0)\n",
        "LLM_mean_num_sv.shape"
      ],
      "metadata": {
        "colab": {
          "base_uri": "https://localhost:8080/"
        },
        "outputId": "2e68930d-097c-4cf6-c22a-e5a20bb11cb9",
        "id": "W07x72fIvAcm"
      },
      "execution_count": 53,
      "outputs": [
        {
          "output_type": "execute_result",
          "data": {
            "text/plain": [
              "torch.Size([1, 2, 2304])"
            ]
          },
          "metadata": {},
          "execution_count": 53
        }
      ]
    },
    {
      "cell_type": "markdown",
      "source": [
        "## steer"
      ],
      "metadata": {
        "id": "hTlJP-XHwU96"
      }
    },
    {
      "cell_type": "code",
      "source": [
        "words = ['one', 'two', 'three', 'four', 'five', 'six', 'seven', 'eight', 'nine', 'ten', 'eleven', 'twelve']\n",
        "numword_samps = []\n",
        "for i in range(0, 9):\n",
        "    samp = f\"{words[i]} {words[i+1]} {words[i+2]} {words[i+3]}\"\n",
        "    numword_samps.append(samp)"
      ],
      "metadata": {
        "id": "YLR6HVAAwVf9"
      },
      "execution_count": 55,
      "outputs": []
    },
    {
      "cell_type": "code",
      "source": [
        "steer_vec = LLM_mean_num_sv\n",
        "multp = 1\n",
        "\n",
        "for prompt in numword_samps:\n",
        "    print(prompt)\n",
        "    steer_by_LLM_lastTok(prompt, steer_vec, multp)"
      ],
      "metadata": {
        "colab": {
          "base_uri": "https://localhost:8080/"
        },
        "outputId": "12e52167-98ab-476e-b5f9-fc7f2ecd0ec1",
        "id": "2lkAEebRwVf9"
      },
      "execution_count": 57,
      "outputs": [
        {
          "output_type": "stream",
          "name": "stdout",
          "text": [
            "one two three four\n",
            "5\n",
            "two three four five\n",
            "6\n",
            "three four five six\n",
            "7\n",
            "four five six seven\n",
            "8\n",
            "five six seven eight\n",
            "9\n",
            "six seven eight nine\n",
            ".\n",
            "seven eight nine ten\n",
            " \n",
            "eight nine ten eleven\n",
            ".\n",
            "nine ten eleven twelve\n",
            "3\n"
          ]
        }
      ]
    },
    {
      "cell_type": "code",
      "source": [
        "words = ['January', 'February', 'March', 'April', 'May', 'June', 'July', 'August', 'September', 'October', 'November', 'December']\n",
        "months_samps = []\n",
        "for i in range(0, 9):\n",
        "    samp = f\"{words[i]} {words[i+1]} {words[i+2]} {words[i+3]}\"\n",
        "    months_samps.append(samp)"
      ],
      "metadata": {
        "id": "BakpmzxDysBd"
      },
      "execution_count": 66,
      "outputs": []
    },
    {
      "cell_type": "code",
      "source": [
        "steer_vec = LLM_mean_num_sv\n",
        "multp = 1\n",
        "\n",
        "for prompt in months_samps:\n",
        "    print(prompt)\n",
        "    steer_by_LLM_lastTok(prompt, steer_vec, multp)"
      ],
      "metadata": {
        "colab": {
          "base_uri": "https://localhost:8080/"
        },
        "id": "aeurcGA70FIb",
        "outputId": "5212b5cc-b40f-40a1-fe4e-4cf69a1d8e85"
      },
      "execution_count": 68,
      "outputs": [
        {
          "output_type": "stream",
          "name": "stdout",
          "text": [
            "January February March April\n",
            " May\n",
            "February March April May\n",
            " June\n",
            "March April May June\n",
            " July\n",
            "April May June July\n",
            " August\n",
            "May June July August\n",
            " September\n",
            "June July August September\n",
            " October\n",
            "July August September October\n",
            " November\n",
            "August September October November\n",
            " December\n",
            "September October November December\n",
            " \n"
          ]
        }
      ]
    },
    {
      "cell_type": "code",
      "source": [
        "steer_vec = LLM_mean_num_sv\n",
        "multp = 3\n",
        "\n",
        "for prompt in months_samps:\n",
        "    print(prompt)\n",
        "    steer_by_LLM_lastTok(prompt, steer_vec, multp)"
      ],
      "metadata": {
        "colab": {
          "base_uri": "https://localhost:8080/"
        },
        "id": "0vjLHmBE0NeS",
        "outputId": "bd44b53f-8a66-439b-abdf-e5534aaa2257"
      },
      "execution_count": 69,
      "outputs": [
        {
          "output_type": "stream",
          "name": "stdout",
          "text": [
            "January February March April\n",
            "5\n",
            "February March April May\n",
            " \n",
            "March April May June\n",
            " \n",
            "April May June July\n",
            " \n",
            "May June July August\n",
            " \n",
            "June July August September\n",
            " \n",
            "July August September October\n",
            " \n",
            "August September October November\n",
            " \n",
            "September October November December\n",
            " \n"
          ]
        }
      ]
    },
    {
      "cell_type": "code",
      "source": [
        "steer_vec = LLM_mean_num_sv\n",
        "multp = 10\n",
        "\n",
        "for prompt in months_samps:\n",
        "    print(prompt)\n",
        "    steer_by_LLM_lastTok(prompt, steer_vec, multp)"
      ],
      "metadata": {
        "colab": {
          "base_uri": "https://localhost:8080/"
        },
        "outputId": "7aaa5a59-baa6-4652-f8c6-e95e2da538e5",
        "id": "CYz3eLLg2Qqg"
      },
      "execution_count": 70,
      "outputs": [
        {
          "output_type": "stream",
          "name": "stdout",
          "text": [
            "January February March April\n",
            " \n",
            "February March April May\n",
            " \n",
            "March April May June\n",
            " \n",
            "April May June July\n",
            " \n",
            "May June July August\n",
            " \n",
            "June July August September\n",
            " \n",
            "July August September October\n",
            " \n",
            "August September October November\n",
            " \n",
            "September October November December\n",
            " \n"
          ]
        }
      ]
    },
    {
      "cell_type": "code",
      "source": [
        "words = [\"Monday\", \"Tuesday\", \"Wednesday\", \"Thursday\", \"Friday\", \"Saturday\", \"Sunday\"]\n",
        "months_samps = []\n",
        "for i in range(0, 5):\n",
        "    samp = f\"{words[i]} {words[i+1]} {words[i+2]}\" # {words[i+3]}\"\n",
        "    months_samps.append(samp)"
      ],
      "metadata": {
        "id": "5E6BQTBmysBe"
      },
      "execution_count": null,
      "outputs": []
    },
    {
      "cell_type": "code",
      "source": [
        "#unsteered\n",
        "steer_vec = LLM_mean_num_sv\n",
        "multp = 0\n",
        "\n",
        "for prompt in months_samps:\n",
        "    print(prompt)\n",
        "    steer_by_LLM_lastTok(prompt, steer_vec, multp)"
      ],
      "metadata": {
        "colab": {
          "base_uri": "https://localhost:8080/"
        },
        "id": "S969nwVpy4Cz",
        "outputId": "f8414c1c-d76d-46db-eff6-fb6b2214044b"
      },
      "execution_count": 65,
      "outputs": [
        {
          "output_type": "stream",
          "name": "stdout",
          "text": [
            "Monday Tuesday Wednesday\n",
            " Thursday\n",
            "Tuesday Wednesday Thursday\n",
            " Friday\n",
            "Wednesday Thursday Friday\n",
            " Saturday\n",
            "Thursday Friday Saturday\n",
            " Sunday\n",
            "Friday Saturday Sunday\n",
            "\n",
            "\n",
            "\n"
          ]
        }
      ]
    },
    {
      "cell_type": "code",
      "source": [
        "steer_vec = LLM_mean_num_sv\n",
        "multp = 1\n",
        "\n",
        "for prompt in months_samps:\n",
        "    print(prompt)\n",
        "    steer_by_LLM_lastTok(prompt, steer_vec, multp)"
      ],
      "metadata": {
        "colab": {
          "base_uri": "https://localhost:8080/"
        },
        "outputId": "6c146bcc-a2a5-4622-9319-943066f5bfcf",
        "id": "qkKxECoFysBe"
      },
      "execution_count": 61,
      "outputs": [
        {
          "output_type": "stream",
          "name": "stdout",
          "text": [
            "Monday Tuesday Wednesday\n",
            " Thursday\n",
            "Tuesday Wednesday Thursday\n",
            " Friday\n",
            "Wednesday Thursday Friday\n",
            " \n",
            "Thursday Friday Saturday\n",
            " \n",
            "Friday Saturday Sunday\n",
            ".\n"
          ]
        }
      ]
    },
    {
      "cell_type": "code",
      "source": [
        "steer_vec = LLM_mean_num_sv\n",
        "multp = 3\n",
        "\n",
        "for prompt in months_samps:\n",
        "    print(prompt)\n",
        "    steer_by_LLM_lastTok(prompt, steer_vec, multp)"
      ],
      "metadata": {
        "colab": {
          "base_uri": "https://localhost:8080/"
        },
        "id": "cuPJK8asyxjn",
        "outputId": "b45e6acf-3ef8-492a-f0fb-a63dc2009736"
      },
      "execution_count": 63,
      "outputs": [
        {
          "output_type": "stream",
          "name": "stdout",
          "text": [
            "Monday Tuesday Wednesday\n",
            "4\n",
            "Tuesday Wednesday Thursday\n",
            " \n",
            "Wednesday Thursday Friday\n",
            " \n",
            "Thursday Friday Saturday\n",
            " \n",
            "Friday Saturday Sunday\n",
            " \n"
          ]
        }
      ]
    },
    {
      "cell_type": "code",
      "source": [
        "steer_vec = LLM_mean_num_sv\n",
        "multp = 10\n",
        "\n",
        "for prompt in months_samps:\n",
        "    print(prompt)\n",
        "    steer_by_LLM_lastTok(prompt, steer_vec, multp)"
      ],
      "metadata": {
        "colab": {
          "base_uri": "https://localhost:8080/"
        },
        "id": "Yu-w7N9by1jb",
        "outputId": "f2c1f189-3a3a-4668-a2c6-dd591c0491f7"
      },
      "execution_count": 64,
      "outputs": [
        {
          "output_type": "stream",
          "name": "stdout",
          "text": [
            "Monday Tuesday Wednesday\n",
            " \n",
            "Tuesday Wednesday Thursday\n",
            " \n",
            "Wednesday Thursday Friday\n",
            " \n",
            "Thursday Friday Saturday\n",
            " \n",
            "Friday Saturday Sunday\n",
            " \n"
          ]
        }
      ]
    },
    {
      "cell_type": "markdown",
      "source": [
        "# Decompose the LLM steering vec"
      ],
      "metadata": {
        "id": "Gy1lvKce8DDt"
      }
    },
    {
      "cell_type": "code",
      "source": [
        "words = ['1', '2', '3', '4', '5', '6', '7', '8', '9']\n",
        "numword_samps = []\n",
        "for i in range(0, 9):\n",
        "    samp = f\"{words[i]}\"\n",
        "    numword_samps.append(samp)\n",
        "inputs = tokenizer(numword_samps, return_tensors=\"pt\", padding=True, truncation=True, max_length=300)['input_ids'].to(\"cuda\")\n",
        "target_act = gather_residual_activations(model, 20, inputs)\n",
        "\n",
        "LLM_mean_num_sv = target_act.mean(dim=0)\n",
        "LLM_mean_num_sv = LLM_mean_num_sv.unsqueeze(0)\n",
        "LLM_mean_num_sv.shape"
      ],
      "metadata": {
        "colab": {
          "base_uri": "https://localhost:8080/"
        },
        "outputId": "ef429686-7ce2-4f2e-b139-5d67e740cd08",
        "id": "uBkRamsQ-HgN"
      },
      "execution_count": 161,
      "outputs": [
        {
          "output_type": "execute_result",
          "data": {
            "text/plain": [
              "torch.Size([1, 2, 2304])"
            ]
          },
          "metadata": {},
          "execution_count": 161
        }
      ]
    },
    {
      "cell_type": "code",
      "source": [
        "# decompose LLM steering vec\n",
        "sae_LLM_mean_num_sv = sae.encode(LLM_mean_num_sv.to(torch.float32))"
      ],
      "metadata": {
        "id": "t6piaCl9-1cX"
      },
      "execution_count": 173,
      "outputs": []
    },
    {
      "cell_type": "code",
      "source": [
        "feat_k = 100\n",
        "one_top_acts_values, one_top_acts_indices = sae_LLM_mean_num_sv[0, -1, :].topk(feat_k, dim=-1)"
      ],
      "metadata": {
        "id": "tSXAEOeI-FDN"
      },
      "execution_count": 174,
      "outputs": []
    },
    {
      "cell_type": "code",
      "source": [
        "rank = 1\n",
        "for val, ind in zip(one_top_acts_values, one_top_acts_indices):\n",
        "    print(f\"Rank {rank}\", round(val.item(), 2), ind.item(), feat_labels_lst[ind])\n",
        "    rank += 1"
      ],
      "metadata": {
        "colab": {
          "base_uri": "https://localhost:8080/"
        },
        "outputId": "9ca37e31-dea8-4900-ef3d-47297b8871a9",
        "id": "rH7JGcYv-FDN"
      },
      "execution_count": 175,
      "outputs": [
        {
          "output_type": "stream",
          "name": "stdout",
          "text": [
            "Rank 1 150.1 13528 numeric values indicating measurements or quantities\n",
            "Rank 2 85.52 11527 the start of a document\n",
            "Rank 3 34.94 9768 terms related to control and authority, particularly in political or systemic contexts\n",
            "Rank 4 34.91 8684  technical jargon and programming-related terms\n",
            "Rank 5 33.51 140  instances of the word \"in\"\n",
            "Rank 6 30.87 833 the numerical values indicating measurements or assessments\n",
            "Rank 7 29.39 11174  numeric identifiers or values in a structured format\n",
            "Rank 8 21.74 2437  patterns related to numerical information, particularly involving the number four\n",
            "Rank 9 21.66 6305 mathematical expressions and notations used in equations and proofs\n",
            "Rank 10 15.28 3019  elements related to operational or procedural contexts in a structured format\n",
            "Rank 11 10.27 11795 the phrase \"The\" at the start of sentences\n",
            "Rank 12 9.79 745  sequences of numerical values\n",
            "Rank 13 9.0 3435  numeric values, particularly related to technology specifications or measurements\n",
            "Rank 14 8.34 1344 lists and resources for educational purposes\n",
            "Rank 15 7.86 16175 numeric identifiers or codes, particularly in a structured format or specification\n",
            "Rank 16 0.0 0 mentions of the letter 'Z' and variations of 'Z' in different contexts\n",
            "Rank 17 0.0 1 phrases emphasizing continuity or progression in narratives\n",
            "Rank 18 0.0 2 elements related to interviews and interrogation processes\n",
            "Rank 19 0.0 3 instances of the verb \"to be\" in various forms\n",
            "Rank 20 0.0 4  temporal references such as days, weeks, months, or years\n",
            "Rank 21 0.0 5 words related to trends and patterns in various contexts\n",
            "Rank 22 0.0 6 references to television talent shows and their judges\n",
            "Rank 23 0.0 7 conjunctions and transitional phrases that signify contrast or condition\n",
            "Rank 24 0.0 8  programming-related constructs and structures\n",
            "Rank 25 0.0 9 words and phrases associated with conflict and physical confrontations\n",
            "Rank 26 0.0 10 terms related to confirmation and verification processes\n",
            "Rank 27 0.0 11 terms related to applications and industries, especially in the context of materials and products\n",
            "Rank 28 0.0 12  import statements in programming code\n",
            "Rank 29 0.0 13  phrases related to missed opportunities or regrets\n",
            "Rank 30 0.0 14  mentions of logarithmic or related mathematical concepts\n",
            "Rank 31 0.0 15  mathematical expressions and operations\n",
            "Rank 32 0.0 16 dates and times related to a specific event.\n",
            "Rank 33 0.0 17  structured data or programming code elements\n",
            "Rank 34 0.0 18  numerical data and associated values\n",
            "Rank 35 0.0 19  terminology related to academic research and analysis methods\n",
            "Rank 36 0.0 20  instances of possessive pronouns or possessive constructions\n",
            "Rank 37 0.0 21 terms related to agricultural practices and research\n",
            "Rank 38 0.0 22  references to the React library and its components\n",
            "Rank 39 0.0 23 references to the name \"Jonathan\" and variations of \"Jon.\"\n",
            "Rank 40 0.0 24  terms related to \"coroner\" and associated medical investigations\n",
            "Rank 41 0.0 25 references to issued equipment or supplies\n",
            "Rank 42 0.0 26  terms related to leadership styles and their effects on workplace dynamics\n",
            "Rank 43 0.0 27 mathematical symbols and constructs\n",
            "Rank 44 0.0 28 location and administrative division references\n",
            "Rank 45 0.0 29  phrases indicating various purposes and uses of information or actions\n",
            "Rank 46 0.0 30 terms and references associated with political and social organizations\n",
            "Rank 47 0.0 31 punctuation marks and special symbols often found in written texts\n",
            "Rank 48 0.0 32  mathematical symbols and notation typically used in equations or algorithms\n",
            "Rank 49 0.0 33 terms related to research methodologies and data analysis in scientific studies\n",
            "Rank 50 0.0 34 words and phrases associated with conjunctions and connections between ideas\n",
            "Rank 51 0.0 35 references to the verb \"be\" in various contexts\n",
            "Rank 52 0.0 36 words or roots related to specific dependencies or components in a software or programming context\n",
            "Rank 53 0.0 37  punctuated phrases and statements\n",
            "Rank 54 0.0 38 modal verbs and their usage in sentences\n",
            "Rank 55 0.0 39 details about product features and specifications\n",
            "Rank 56 0.0 40 phrases related to hybrid combinations of concepts or elements in various contexts\n",
            "Rank 57 0.0 41 phrases related to family relationships and marital status\n",
            "Rank 58 0.0 42 terms related to medical treatment options and their effectiveness\n",
            "Rank 59 0.0 43  references to the number and types of bedrooms in housing descriptions\n",
            "Rank 60 0.0 44  information about public events and their details\n",
            "Rank 61 0.0 45  indicators of medical conditions and pregnancy-related terms\n",
            "Rank 62 0.0 46 technical terms related to electrical engineering, specifically voltages and their applications\n",
            "Rank 63 0.0 47 elements related to personalization and creative expression in writing\n",
            "Rank 64 0.0 48 references to being \"behind\" something, particularly in contexts implying secrecy or concealment\n",
            "Rank 65 0.0 49 terms related to health assessments and healthcare recommendations\n",
            "Rank 66 0.0 50 affirmative statements or expressions of belief in various contexts\n",
            "Rank 67 0.0 51 technical terms and references related to software, particularly those involving commands and configurations\n",
            "Rank 68 0.0 52  concepts related to problem-solving and improvement in various contexts\n",
            "Rank 69 0.0 53 expressions or phrases related to responses and feedback in communication contexts\n",
            "Rank 70 0.0 54 references to firms and films\n",
            "Rank 71 0.0 55  terms related to literature and literary works\n",
            "Rank 72 0.0 56 phrases related to beliefs and religion\n",
            "Rank 73 0.0 57 terms related to principal component analysis (PCA) and data analysis in biological contexts\n",
            "Rank 74 0.0 58  punctuation and formatting markers in the text\n",
            "Rank 75 0.0 59  references to programming and code-related operations or functions\n",
            "Rank 76 0.0 60 elements related to color and finish in product descriptions\n",
            "Rank 77 0.0 61 technical specifications or detailed measurements\n",
            "Rank 78 0.0 62 terms related to academic or scholarly context\n",
            "Rank 79 0.0 63 terms related to the lifespan and durability of products\n",
            "Rank 80 0.0 64 blocks of whitespace or specific formatting characters\n",
            "Rank 81 0.0 65  keywords related to access modifiers in programming\n",
            "Rank 82 0.0 66  keywords and structural elements related to Python modules and functions\n",
            "Rank 83 0.0 67 references to levels of difficulty in games, learning environments, or challenges\n",
            "Rank 84 0.0 68 expressions related to enjoyment and fun\n",
            "Rank 85 0.0 69  expressions of inability or negation\n",
            "Rank 86 0.0 70 situations involving blame and accountability\n",
            "Rank 87 0.0 71 specific programming or technical terms associated with network protocols and programming languages\n",
            "Rank 88 0.0 72 mathematical symbols and notations related to matrices and linear algebra\n",
            "Rank 89 0.0 73 references to healthcare services and clients in need of assistance\n",
            "Rank 90 0.0 74 terms related to biological research and animal studies\n",
            "Rank 91 0.0 75 narrative elements related to sequence or order, such as first, second, third, and their context in various contents\n",
            "Rank 92 0.0 76 terms related to distribution and its variations\n",
            "Rank 93 0.0 77 code structures and functions related to email protocols and authentication\n",
            "Rank 94 0.0 78 elements related to HTML structure and navigation components\n",
            "Rank 95 0.0 79 technical terms and code-related keywords\n",
            "Rank 96 0.0 80 terms related to exceptions and error handling in programming\n",
            "Rank 97 0.0 81 terms related to extensions and their variations in context\n",
            "Rank 98 0.0 82  code constructs related to counting and index manipulation\n",
            "Rank 99 0.0 83 terms related to linear functions and their properties\n",
            "Rank 100 0.0 84  specific numeric or structural data points in a technical context\n"
          ]
        }
      ]
    },
    {
      "cell_type": "markdown",
      "source": [
        "These are nonzero:\n",
        "- Rank 1 150.1 13528 numeric values indicating measurements or quantities\n",
        "- Rank 2 85.52 11527 the start of a document\n",
        "- Rank 3 34.94 9768 terms related to control and authority, particularly in political or systemic contexts\n",
        "- Rank 4 34.91 8684  technical jargon and programming-related terms\n",
        "- Rank 5 33.51 140  instances of the word \"in\"\n",
        "- Rank 6 30.87 833 the numerical values indicating measurements or assessments\n",
        "- Rank 7 29.39 11174  numeric identifiers or values in a structured format\n",
        "- Rank 8 21.74 2437  patterns related to numerical information, particularly involving the number four\n",
        "- Rank 9 21.66 6305 mathematical expressions and notations used in equations and proofs\n",
        "- Rank 10 15.28 3019  elements related to operational or procedural contexts in a structured format\n",
        "- Rank 11 10.27 11795 the phrase \"The\" at the start of sentences\n",
        "- Rank 12 9.79 745  sequences of numerical values\n",
        "- Rank 13 9.0 3435  numeric values, particularly related to technology specifications or measurements\n",
        "- Rank 14 8.34 1344 lists and resources for educational purposes\n",
        "- Rank 15 7.86 16175 numeric identifiers or codes, particularly in a structured format or specification\n",
        "\n",
        "Try ablating the following:\n",
        "- Rank 2 85.52 11527 the start of a document\n",
        "- Rank 3 34.94 9768 terms related to control and authority, particularly in political or systemic contexts\n",
        "- Rank 4 34.91 8684  technical jargon and programming-related terms\n",
        "- Rank 5 33.51 140  instances of the word \"in\"\n",
        "- Rank 10 15.28 3019  elements related to operational or procedural contexts in a structured format\n",
        "- Rank 11 10.27 11795 the phrase \"The\" at the start of sentences\n",
        "\n"
      ],
      "metadata": {
        "id": "bOL8GZLs_Mg7"
      }
    },
    {
      "cell_type": "markdown",
      "source": [
        "## ablate then recon to steer"
      ],
      "metadata": {
        "id": "nzdi5GFIA0iM"
      }
    },
    {
      "cell_type": "code",
      "source": [
        "def ablate_SAE_lastTok(prompt, steer_vec, multp):\n",
        "    tokens = model_2.to_tokens(prompt).to(device)\n",
        "    inputs = tokenizer.encode(prompt, return_tensors=\"pt\", add_special_tokens=True).to(\"cuda\")\n",
        "    target_act = gather_residual_activations(model, 20, inputs)\n",
        "    sae_acts_3 = sae.encode(target_act.to(torch.float32))\n",
        "\n",
        "    sae_acts_3[:, -1, :]  += multp * steer_vec[:, -1, :] # in-place\n",
        "    recon = sae.decode(sae_acts_3)\n",
        "    recon.shape"
      ],
      "metadata": {
        "id": "H7BEBYeBA6-O"
      },
      "execution_count": null,
      "outputs": []
    },
    {
      "cell_type": "code",
      "source": [
        "abl_sae_LLM_mean_num_sv = torch.clone(sae_LLM_mean_num_sv)\n",
        "\n",
        "feats_to_ablate = [11527, 9768, 8684, 140, 3019, 11795]\n",
        "\n",
        "for fInd in feats_to_ablate:\n",
        "    abl_sae_LLM_mean_num_sv[:, -1, fInd] = 0"
      ],
      "metadata": {
        "id": "uujRBf95Bz7J"
      },
      "execution_count": 178,
      "outputs": []
    },
    {
      "cell_type": "code",
      "source": [
        "recon_abl_sae_LLM_mean_num_sv = sae.decode(abl_sae_LLM_mean_num_sv)\n",
        "recon_abl_sae_LLM_mean_num_sv.shape"
      ],
      "metadata": {
        "colab": {
          "base_uri": "https://localhost:8080/"
        },
        "id": "n3bJR_O4CLVl",
        "outputId": "d7c380fa-82f4-4e90-aa9b-412ea5b935b6"
      },
      "execution_count": 179,
      "outputs": [
        {
          "output_type": "execute_result",
          "data": {
            "text/plain": [
              "torch.Size([1, 2, 2304])"
            ]
          },
          "metadata": {},
          "execution_count": 179
        }
      ]
    },
    {
      "cell_type": "markdown",
      "source": [
        "## steer ablated recon in LLM space"
      ],
      "metadata": {
        "id": "FvTrELSqCWXm"
      }
    },
    {
      "cell_type": "code",
      "source": [
        "words = ['one', 'two', 'three', 'four', 'five', 'six', 'seven', 'eight', 'nine', 'ten', 'eleven', 'twelve']\n",
        "numword_samps = []\n",
        "for i in range(0, 9):\n",
        "    samp = f\"{words[i]} {words[i+1]} {words[i+2]} {words[i+3]}\"\n",
        "    numword_samps.append(samp)"
      ],
      "metadata": {
        "id": "31TpfEMoCWX6"
      },
      "execution_count": 180,
      "outputs": []
    },
    {
      "cell_type": "code",
      "source": [
        "steer_vec = recon_abl_sae_LLM_mean_num_sv\n",
        "multp = 1\n",
        "\n",
        "for prompt in numword_samps:\n",
        "    print(prompt)\n",
        "    steer_by_LLM_lastTok(prompt, steer_vec, multp)"
      ],
      "metadata": {
        "colab": {
          "base_uri": "https://localhost:8080/"
        },
        "outputId": "6fbaee8e-2e72-4ab7-8a33-5b59ada2ae89",
        "id": "5SuIP8ueCWX7"
      },
      "execution_count": 181,
      "outputs": [
        {
          "output_type": "stream",
          "name": "stdout",
          "text": [
            "one two three four\n",
            " \n",
            "two three four five\n",
            " \n",
            "three four five six\n",
            " \n",
            "four five six seven\n",
            " eight\n",
            "five six seven eight\n",
            " nine\n",
            "six seven eight nine\n",
            " \n",
            "seven eight nine ten\n",
            " \n",
            "eight nine ten eleven\n",
            " \n",
            "nine ten eleven twelve\n",
            " \n"
          ]
        }
      ]
    },
    {
      "cell_type": "code",
      "source": [
        "steer_vec = recon_abl_sae_LLM_mean_num_sv\n",
        "multp = 3\n",
        "\n",
        "for prompt in numword_samps:\n",
        "    print(prompt)\n",
        "    steer_by_LLM_lastTok(prompt, steer_vec, multp)"
      ],
      "metadata": {
        "colab": {
          "base_uri": "https://localhost:8080/"
        },
        "id": "nauXBoVPCfZl",
        "outputId": "7a6aa42f-f314-48e8-ca6d-3e995473a2ed"
      },
      "execution_count": 184,
      "outputs": [
        {
          "output_type": "stream",
          "name": "stdout",
          "text": [
            "one two three four\n",
            " \n",
            "two three four five\n",
            " \n",
            "three four five six\n",
            " \n",
            "four five six seven\n",
            " \n",
            "five six seven eight\n",
            " \n",
            "six seven eight nine\n",
            " \n",
            "seven eight nine ten\n",
            " \n",
            "eight nine ten eleven\n",
            " \n",
            "nine ten eleven twelve\n",
            " \n"
          ]
        }
      ]
    },
    {
      "cell_type": "code",
      "source": [
        "words = ['January', 'February', 'March', 'April', 'May', 'June', 'July', 'August', 'September', 'October', 'November', 'December']\n",
        "months_samps = []\n",
        "for i in range(0, 9):\n",
        "    samp = f\"{words[i]} {words[i+1]} {words[i+2]} {words[i+3]}\"\n",
        "    months_samps.append(samp)"
      ],
      "metadata": {
        "id": "AiKWdfc9CWX7"
      },
      "execution_count": 182,
      "outputs": []
    },
    {
      "cell_type": "code",
      "source": [
        "steer_vec = recon_abl_sae_LLM_mean_num_sv\n",
        "multp = 1\n",
        "\n",
        "for prompt in months_samps:\n",
        "    print(prompt)\n",
        "    steer_by_LLM_lastTok(prompt, steer_vec, multp)"
      ],
      "metadata": {
        "colab": {
          "base_uri": "https://localhost:8080/"
        },
        "outputId": "8f9420c3-91fe-44b5-ad81-f9a43d759e44",
        "id": "-oVQ3FDyCWX8"
      },
      "execution_count": 183,
      "outputs": [
        {
          "output_type": "stream",
          "name": "stdout",
          "text": [
            "January February March April\n",
            " May\n",
            "February March April May\n",
            " June\n",
            "March April May June\n",
            " \n",
            "April May June July\n",
            " August\n",
            "May June July August\n",
            " \n",
            "June July August September\n",
            " October\n",
            "July August September October\n",
            " \n",
            "August September October November\n",
            " December\n",
            "September October November December\n",
            " \n"
          ]
        }
      ]
    },
    {
      "cell_type": "code",
      "source": [
        "steer_vec = recon_abl_sae_LLM_mean_num_sv\n",
        "multp = 3\n",
        "\n",
        "for prompt in months_samps:\n",
        "    print(prompt)\n",
        "    steer_by_LLM_lastTok(prompt, steer_vec, multp)"
      ],
      "metadata": {
        "colab": {
          "base_uri": "https://localhost:8080/"
        },
        "outputId": "5726dcb8-6c2e-45d0-958d-20a2d3b426e2",
        "id": "58om3LSgCWX8"
      },
      "execution_count": 185,
      "outputs": [
        {
          "output_type": "stream",
          "name": "stdout",
          "text": [
            "January February March April\n",
            " \n",
            "February March April May\n",
            " \n",
            "March April May June\n",
            " \n",
            "April May June July\n",
            " \n",
            "May June July August\n",
            " \n",
            "June July August September\n",
            " \n",
            "July August September October\n",
            " \n",
            "August September October November\n",
            " \n",
            "September October November December\n",
            " \n"
          ]
        }
      ]
    },
    {
      "cell_type": "code",
      "source": [
        "steer_vec = LLM_mean_num_sv\n",
        "multp = 10\n",
        "\n",
        "for prompt in months_samps:\n",
        "    print(prompt)\n",
        "    steer_by_LLM_lastTok(prompt, steer_vec, multp)"
      ],
      "metadata": {
        "colab": {
          "base_uri": "https://localhost:8080/"
        },
        "outputId": "7aaa5a59-baa6-4652-f8c6-e95e2da538e5",
        "id": "HJ7pjiNoCWX9"
      },
      "execution_count": null,
      "outputs": [
        {
          "output_type": "stream",
          "name": "stdout",
          "text": [
            "January February March April\n",
            " \n",
            "February March April May\n",
            " \n",
            "March April May June\n",
            " \n",
            "April May June July\n",
            " \n",
            "May June July August\n",
            " \n",
            "June July August September\n",
            " \n",
            "July August September October\n",
            " \n",
            "August September October November\n",
            " \n",
            "September October November December\n",
            " \n"
          ]
        }
      ]
    },
    {
      "cell_type": "code",
      "source": [
        "words = [\"Monday\", \"Tuesday\", \"Wednesday\", \"Thursday\", \"Friday\", \"Saturday\", \"Sunday\"]\n",
        "months_samps = []\n",
        "for i in range(0, 5):\n",
        "    samp = f\"{words[i]} {words[i+1]} {words[i+2]}\" # {words[i+3]}\"\n",
        "    months_samps.append(samp)"
      ],
      "metadata": {
        "id": "9qMYDKEYCWX9"
      },
      "execution_count": null,
      "outputs": []
    },
    {
      "cell_type": "code",
      "source": [
        "#unsteered\n",
        "steer_vec = LLM_mean_num_sv\n",
        "multp = 0\n",
        "\n",
        "for prompt in months_samps:\n",
        "    print(prompt)\n",
        "    steer_by_LLM_lastTok(prompt, steer_vec, multp)"
      ],
      "metadata": {
        "colab": {
          "base_uri": "https://localhost:8080/"
        },
        "outputId": "f8414c1c-d76d-46db-eff6-fb6b2214044b",
        "id": "Y5w9KmHUCWX9"
      },
      "execution_count": null,
      "outputs": [
        {
          "output_type": "stream",
          "name": "stdout",
          "text": [
            "Monday Tuesday Wednesday\n",
            " Thursday\n",
            "Tuesday Wednesday Thursday\n",
            " Friday\n",
            "Wednesday Thursday Friday\n",
            " Saturday\n",
            "Thursday Friday Saturday\n",
            " Sunday\n",
            "Friday Saturday Sunday\n",
            "\n",
            "\n",
            "\n"
          ]
        }
      ]
    },
    {
      "cell_type": "code",
      "source": [
        "steer_vec = LLM_mean_num_sv\n",
        "multp = 1\n",
        "\n",
        "for prompt in months_samps:\n",
        "    print(prompt)\n",
        "    steer_by_LLM_lastTok(prompt, steer_vec, multp)"
      ],
      "metadata": {
        "colab": {
          "base_uri": "https://localhost:8080/"
        },
        "outputId": "6c146bcc-a2a5-4622-9319-943066f5bfcf",
        "id": "7jX1Xj0GCWX9"
      },
      "execution_count": null,
      "outputs": [
        {
          "output_type": "stream",
          "name": "stdout",
          "text": [
            "Monday Tuesday Wednesday\n",
            " Thursday\n",
            "Tuesday Wednesday Thursday\n",
            " Friday\n",
            "Wednesday Thursday Friday\n",
            " \n",
            "Thursday Friday Saturday\n",
            " \n",
            "Friday Saturday Sunday\n",
            ".\n"
          ]
        }
      ]
    },
    {
      "cell_type": "code",
      "source": [
        "steer_vec = LLM_mean_num_sv\n",
        "multp = 3\n",
        "\n",
        "for prompt in months_samps:\n",
        "    print(prompt)\n",
        "    steer_by_LLM_lastTok(prompt, steer_vec, multp)"
      ],
      "metadata": {
        "colab": {
          "base_uri": "https://localhost:8080/"
        },
        "outputId": "b45e6acf-3ef8-492a-f0fb-a63dc2009736",
        "id": "OJFGFESnCWX-"
      },
      "execution_count": null,
      "outputs": [
        {
          "output_type": "stream",
          "name": "stdout",
          "text": [
            "Monday Tuesday Wednesday\n",
            "4\n",
            "Tuesday Wednesday Thursday\n",
            " \n",
            "Wednesday Thursday Friday\n",
            " \n",
            "Thursday Friday Saturday\n",
            " \n",
            "Friday Saturday Sunday\n",
            " \n"
          ]
        }
      ]
    },
    {
      "cell_type": "code",
      "source": [
        "steer_vec = LLM_mean_num_sv\n",
        "multp = 10\n",
        "\n",
        "for prompt in months_samps:\n",
        "    print(prompt)\n",
        "    steer_by_LLM_lastTok(prompt, steer_vec, multp)"
      ],
      "metadata": {
        "colab": {
          "base_uri": "https://localhost:8080/"
        },
        "outputId": "f2c1f189-3a3a-4668-a2c6-dd591c0491f7",
        "id": "YhpvGPX5CWX-"
      },
      "execution_count": null,
      "outputs": [
        {
          "output_type": "stream",
          "name": "stdout",
          "text": [
            "Monday Tuesday Wednesday\n",
            " \n",
            "Tuesday Wednesday Thursday\n",
            " \n",
            "Wednesday Thursday Friday\n",
            " \n",
            "Thursday Friday Saturday\n",
            " \n",
            "Friday Saturday Sunday\n",
            " \n"
          ]
        }
      ]
    },
    {
      "cell_type": "markdown",
      "source": [
        "## steer ablated recon in SAE space"
      ],
      "metadata": {
        "id": "CTC2vjTjC3A-"
      }
    },
    {
      "cell_type": "code",
      "source": [
        "words = ['one', 'two', 'three', 'four', 'five', 'six', 'seven', 'eight', 'nine', 'ten', 'eleven', 'twelve']\n",
        "numword_samps = []\n",
        "for i in range(0, 9):\n",
        "    samp = f\"{words[i]} {words[i+1]} {words[i+2]} {words[i+3]}\"\n",
        "    numword_samps.append(samp)"
      ],
      "metadata": {
        "id": "9rvWloVFC3BL"
      },
      "execution_count": 186,
      "outputs": []
    },
    {
      "cell_type": "code",
      "source": [
        "steer_vec = abl_sae_LLM_mean_num_sv\n",
        "multp = 1\n",
        "\n",
        "for prompt in numword_samps:\n",
        "    print(prompt)\n",
        "    steer_by_sae_lastTok(prompt, steer_vec, multp)"
      ],
      "metadata": {
        "colab": {
          "base_uri": "https://localhost:8080/"
        },
        "outputId": "ce861f43-53d4-45f6-e97a-719050d299d1",
        "id": "kMYR1vI9C3BL"
      },
      "execution_count": 189,
      "outputs": [
        {
          "output_type": "stream",
          "name": "stdout",
          "text": [
            "one two three four\n",
            "5\n",
            "two three four five\n",
            "6\n",
            "three four five six\n",
            "7\n",
            "four five six seven\n",
            "8\n",
            "five six seven eight\n",
            "9\n",
            "six seven eight nine\n",
            "\n",
            "\n",
            "seven eight nine ten\n",
            "\n",
            "\n",
            "eight nine ten eleven\n",
            "\n",
            "\n",
            "nine ten eleven twelve\n",
            "\n",
            "\n"
          ]
        }
      ]
    },
    {
      "cell_type": "code",
      "source": [
        "steer_vec = abl_sae_LLM_mean_num_sv\n",
        "multp = 3\n",
        "\n",
        "for prompt in numword_samps:\n",
        "    print(prompt)\n",
        "    steer_by_sae_lastTok(prompt, steer_vec, multp)"
      ],
      "metadata": {
        "colab": {
          "base_uri": "https://localhost:8080/"
        },
        "outputId": "edd4052c-2c12-4613-e80c-e653eb724816",
        "id": "0Z_VafSBC3BM"
      },
      "execution_count": 191,
      "outputs": [
        {
          "output_type": "stream",
          "name": "stdout",
          "text": [
            "one two three four\n",
            "5\n",
            "two three four five\n",
            "6\n",
            "three four five six\n",
            "7\n",
            "four five six seven\n",
            "8\n",
            "five six seven eight\n",
            "9\n",
            "six seven eight nine\n",
            "0\n",
            "seven eight nine ten\n",
            "1\n",
            "eight nine ten eleven\n",
            "1\n",
            "nine ten eleven twelve\n",
            "3\n"
          ]
        }
      ]
    },
    {
      "cell_type": "code",
      "source": [
        "words = ['January', 'February', 'March', 'April', 'May', 'June', 'July', 'August', 'September', 'October', 'November', 'December']\n",
        "months_samps = []\n",
        "for i in range(0, 9):\n",
        "    samp = f\"{words[i]} {words[i+1]} {words[i+2]} {words[i+3]}\"\n",
        "    months_samps.append(samp)"
      ],
      "metadata": {
        "id": "h8QbemOhC3BM"
      },
      "execution_count": 192,
      "outputs": []
    },
    {
      "cell_type": "code",
      "source": [
        "steer_vec = abl_sae_LLM_mean_num_sv\n",
        "multp = 1\n",
        "\n",
        "for prompt in months_samps:\n",
        "    print(prompt)\n",
        "    steer_by_sae_lastTok(prompt, steer_vec, multp)"
      ],
      "metadata": {
        "colab": {
          "base_uri": "https://localhost:8080/"
        },
        "outputId": "18fdb586-b9a1-42a6-d8f5-e8f8f6d31ff9",
        "id": "uFW_91foC3BM"
      },
      "execution_count": 193,
      "outputs": [
        {
          "output_type": "stream",
          "name": "stdout",
          "text": [
            "January February March April\n",
            " \n",
            "February March April May\n",
            " \n",
            "March April May June\n",
            " \n",
            "April May June July\n",
            "8\n",
            "May June July August\n",
            " \n",
            "June July August September\n",
            " October\n",
            "July August September October\n",
            " \n",
            "August September October November\n",
            " \n",
            "September October November December\n",
            " \n"
          ]
        }
      ]
    },
    {
      "cell_type": "code",
      "source": [
        "steer_vec = abl_sae_LLM_mean_num_sv\n",
        "multp = 3\n",
        "\n",
        "for prompt in months_samps:\n",
        "    print(prompt)\n",
        "    steer_by_sae_lastTok(prompt, steer_vec, multp)"
      ],
      "metadata": {
        "colab": {
          "base_uri": "https://localhost:8080/"
        },
        "outputId": "f1355b2d-e396-43b3-a702-648e14904528",
        "id": "B8sNzQQiC3BN"
      },
      "execution_count": 195,
      "outputs": [
        {
          "output_type": "stream",
          "name": "stdout",
          "text": [
            "January February March April\n",
            "5\n",
            "February March April May\n",
            "6\n",
            "March April May June\n",
            "7\n",
            "April May June July\n",
            "8\n",
            "May June July August\n",
            "9\n",
            "June July August September\n",
            "0\n",
            "July August September October\n",
            "1\n",
            "August September October November\n",
            "2\n",
            "September October November December\n",
            "1\n"
          ]
        }
      ]
    },
    {
      "cell_type": "code",
      "source": [
        "words = [\"Monday\", \"Tuesday\", \"Wednesday\", \"Thursday\", \"Friday\", \"Saturday\", \"Sunday\"]\n",
        "months_samps = []\n",
        "for i in range(0, 5):\n",
        "    samp = f\"{words[i]} {words[i+1]} {words[i+2]}\" # {words[i+3]}\"\n",
        "    months_samps.append(samp)"
      ],
      "metadata": {
        "id": "zSahxHQkC3BN"
      },
      "execution_count": 196,
      "outputs": []
    },
    {
      "cell_type": "code",
      "source": [
        "steer_vec = abl_sae_LLM_mean_num_sv\n",
        "multp = 1\n",
        "\n",
        "for prompt in months_samps:\n",
        "    print(prompt)\n",
        "    steer_by_sae_lastTok(prompt, steer_vec, multp)"
      ],
      "metadata": {
        "colab": {
          "base_uri": "https://localhost:8080/"
        },
        "outputId": "cc7212bd-7783-4417-f024-6874348b091d",
        "id": "b8BOSbD_C3BN"
      },
      "execution_count": 197,
      "outputs": [
        {
          "output_type": "stream",
          "name": "stdout",
          "text": [
            "Monday Tuesday Wednesday\n",
            " \n",
            "Tuesday Wednesday Thursday\n",
            " \n",
            "Wednesday Thursday Friday\n",
            " \n",
            "Thursday Friday Saturday\n",
            " \n",
            "Friday Saturday Sunday\n",
            ",\n"
          ]
        }
      ]
    },
    {
      "cell_type": "code",
      "source": [
        "steer_vec = abl_sae_LLM_mean_num_sv\n",
        "multp = 3\n",
        "\n",
        "for prompt in months_samps:\n",
        "    print(prompt)\n",
        "    steer_by_sae_lastTok(prompt, steer_vec, multp)"
      ],
      "metadata": {
        "colab": {
          "base_uri": "https://localhost:8080/"
        },
        "outputId": "91109820-a997-463a-855e-8a8f9985f4d0",
        "id": "vdIG1ULBC3BN"
      },
      "execution_count": 198,
      "outputs": [
        {
          "output_type": "stream",
          "name": "stdout",
          "text": [
            "Monday Tuesday Wednesday\n",
            "4\n",
            "Tuesday Wednesday Thursday\n",
            "5\n",
            "Wednesday Thursday Friday\n",
            "0\n",
            "Thursday Friday Saturday\n",
            "0\n",
            "Friday Saturday Sunday\n",
            "1\n"
          ]
        }
      ]
    },
    {
      "cell_type": "code",
      "source": [
        "steer_vec = abl_sae_LLM_mean_num_sv\n",
        "multp = 10\n",
        "\n",
        "for prompt in months_samps:\n",
        "    print(prompt)\n",
        "    steer_by_sae_lastTok(prompt, steer_vec, multp)"
      ],
      "metadata": {
        "colab": {
          "base_uri": "https://localhost:8080/"
        },
        "outputId": "144373cf-6ca9-4fec-d50a-eba547856982",
        "id": "UB4NusaiC3BN"
      },
      "execution_count": 200,
      "outputs": [
        {
          "output_type": "stream",
          "name": "stdout",
          "text": [
            "Monday Tuesday Wednesday\n",
            "4\n",
            "Tuesday Wednesday Thursday\n",
            "5\n",
            "Wednesday Thursday Friday\n",
            "0\n",
            "Thursday Friday Saturday\n",
            "0\n",
            "Friday Saturday Sunday\n",
            "1\n"
          ]
        }
      ]
    },
    {
      "cell_type": "markdown",
      "source": [
        "# Ablate directly from SAE steering vec"
      ],
      "metadata": {
        "id": "wYOA_etg86Bu"
      }
    },
    {
      "cell_type": "code",
      "execution_count": 168,
      "metadata": {
        "id": "nnH75X-e9nTV"
      },
      "outputs": [],
      "source": [
        "words = ['1', '2', '3', '4', '5', '6', '7', '8', '9']\n",
        "numword_samps = []\n",
        "for i in range(0, 9):\n",
        "    samp = f\"{words[i]}\"\n",
        "    numword_samps.append(samp)\n",
        "inputs = tokenizer(numword_samps, return_tensors=\"pt\", padding=True, truncation=True, max_length=300)['input_ids'].to(\"cuda\")\n",
        "target_act = gather_residual_activations(model, 20, inputs)\n",
        "sae_acts_1 = sae.encode(target_act.to(torch.float32))"
      ]
    },
    {
      "cell_type": "code",
      "source": [
        "mean_num_sv = sae_acts_1.mean(dim=0)\n",
        "mean_num_sv = mean_num_sv.unsqueeze(0)\n",
        "mean_num_sv.shape"
      ],
      "metadata": {
        "colab": {
          "base_uri": "https://localhost:8080/"
        },
        "outputId": "16a33437-cdbc-41cb-9c07-b7a325c2f498",
        "id": "J40Ewux29nTV"
      },
      "execution_count": 155,
      "outputs": [
        {
          "output_type": "execute_result",
          "data": {
            "text/plain": [
              "torch.Size([1, 2, 16384])"
            ]
          },
          "metadata": {},
          "execution_count": 155
        }
      ]
    },
    {
      "cell_type": "code",
      "source": [
        "feat_k = 100 # 50\n",
        "one_top_acts_values, one_top_acts_indices = mean_num_sv[0, -1, :].topk(feat_k, dim=-1)"
      ],
      "metadata": {
        "id": "UknTTbsR8Ffp"
      },
      "execution_count": 169,
      "outputs": []
    },
    {
      "cell_type": "code",
      "source": [
        "rank = 1\n",
        "for val, ind in zip(one_top_acts_values, one_top_acts_indices):\n",
        "    print(f\"Rank {rank}\", round(val.item(), 2), ind.item(), feat_labels_lst[ind])\n",
        "    rank += 1"
      ],
      "metadata": {
        "colab": {
          "base_uri": "https://localhost:8080/"
        },
        "id": "AKcdNYvH9uxF",
        "outputId": "ff7e7a63-0bf2-46ed-b8f2-53092004296b"
      },
      "execution_count": 170,
      "outputs": [
        {
          "output_type": "stream",
          "name": "stdout",
          "text": [
            "Rank 1 150.1 13528 numeric values indicating measurements or quantities\n",
            "Rank 2 85.52 11527 the start of a document\n",
            "Rank 3 34.94 9768 terms related to control and authority, particularly in political or systemic contexts\n",
            "Rank 4 34.91 8684  technical jargon and programming-related terms\n",
            "Rank 5 33.51 140  instances of the word \"in\"\n",
            "Rank 6 30.87 833 the numerical values indicating measurements or assessments\n",
            "Rank 7 28.97 11174  numeric identifiers or values in a structured format\n",
            "Rank 8 21.66 6305 mathematical expressions and notations used in equations and proofs\n",
            "Rank 9 21.37 2437  patterns related to numerical information, particularly involving the number four\n",
            "Rank 10 15.08 3019  elements related to operational or procedural contexts in a structured format\n",
            "Rank 11 12.1 3435  numeric values, particularly related to technology specifications or measurements\n",
            "Rank 12 11.92 745  sequences of numerical values\n",
            "Rank 13 8.7 3371  numerical expressions and equations\n",
            "Rank 14 7.24 16175 numeric identifiers or codes, particularly in a structured format or specification\n",
            "Rank 15 6.96 1344 lists and resources for educational purposes\n",
            "Rank 16 6.96 11795 the phrase \"The\" at the start of sentences\n",
            "Rank 17 6.46 1494  numeric representations and special characters in the text\n",
            "Rank 18 5.66 8640  numerical data and references to scientific publications\n",
            "Rank 19 5.4 2740  phrases related to biological processes and cellular interactions\n",
            "Rank 20 4.82 12977 quantitative data or statistical metrics related to observations\n",
            "Rank 21 4.57 4723 numbers and specific dates\n",
            "Rank 22 4.47 2102 numeric values, particularly in a scientific or quantitative context\n",
            "Rank 23 4.44 13206  numeric values and their mathematical relationships\n",
            "Rank 24 4.25 4743 numerical data, particularly relating to prime factors or mathematical expressions\n",
            "Rank 25 3.41 5052 the beginning of a document or section, likely signaling the start of significant content\n",
            "Rank 26 2.91 15078 terms related to specific chemical compounds or drugs\n",
            "Rank 27 2.85 12621 numerical information, particularly related to contact details or official statistics\n",
            "Rank 28 2.74 6275 numbers and numerical values in context\n",
            "Rank 29 2.67 14581 references to specific biblical passages and their contextual significance\n",
            "Rank 30 2.64 5426  references to collaboration and collective effort in various contexts\n",
            "Rank 31 2.63 10306 references to the \"Six Million Dollar Man\" television series and its elements\n",
            "Rank 32 2.61 821 the beginning of a document or section\n",
            "Rank 33 2.23 4569  references to programming concepts and code structures\n",
            "Rank 34 1.61 1238  numerical data or codes\n",
            "Rank 35 1.39 4020 the presence of hyphens or long dash indicators\n",
            "Rank 36 1.38 2762 references to the month of August\n",
            "Rank 37 1.31 7363  sentences or phrases that indicate the end of a section or document\n",
            "Rank 38 1.0 15805  references to quantities, specifically in terms of pieces or units\n",
            "Rank 39 0.99 16362  references to numerical data or statistics\n",
            "Rank 40 0.93 11805 guidance or rules for effective communication and professionalism in correspondence\n",
            "Rank 41 0.92 10452  numeric sequences and patterns\n",
            "Rank 42 0.85 4541 terms related to historical events and social commentary\n",
            "Rank 43 0.84 15735  numerical data and comparisons\n",
            "Rank 44 0.82 5982 specific terms related to real estate and community features\n",
            "Rank 45 0.8 9416 quantitative references relating to studies and participants\n",
            "Rank 46 0.8 14279 references to children's ages or descriptors of young people\n",
            "Rank 47 0.8 11578  numerical data and statistics related to quantities or measures\n",
            "Rank 48 0.8 6433 references to violent incidents and casualties\n",
            "Rank 49 0.8 14387 attributes related to real estate properties\n",
            "Rank 50 0.79 2973 timestamps and date formats\n",
            "Rank 51 0.79 12153 references to specific numerical identifiers or titles associated with cultural works\n",
            "Rank 52 0.79 6928 the beginning of a text or document\n",
            "Rank 53 0.78 6763 numeric representations and descriptions of quantity\n",
            "Rank 54 0.78 8737  elements related to numerical values or ordered data\n",
            "Rank 55 0.0 0 mentions of the letter 'Z' and variations of 'Z' in different contexts\n",
            "Rank 56 0.0 1 phrases emphasizing continuity or progression in narratives\n",
            "Rank 57 0.0 2 elements related to interviews and interrogation processes\n",
            "Rank 58 0.0 3 instances of the verb \"to be\" in various forms\n",
            "Rank 59 0.0 4  temporal references such as days, weeks, months, or years\n",
            "Rank 60 0.0 5 words related to trends and patterns in various contexts\n",
            "Rank 61 0.0 6 references to television talent shows and their judges\n",
            "Rank 62 0.0 7 conjunctions and transitional phrases that signify contrast or condition\n",
            "Rank 63 0.0 8  programming-related constructs and structures\n",
            "Rank 64 0.0 9 words and phrases associated with conflict and physical confrontations\n",
            "Rank 65 0.0 10 terms related to confirmation and verification processes\n",
            "Rank 66 0.0 11 terms related to applications and industries, especially in the context of materials and products\n",
            "Rank 67 0.0 12  import statements in programming code\n",
            "Rank 68 0.0 13  phrases related to missed opportunities or regrets\n",
            "Rank 69 0.0 14  mentions of logarithmic or related mathematical concepts\n",
            "Rank 70 0.0 15  mathematical expressions and operations\n",
            "Rank 71 0.0 16 dates and times related to a specific event.\n",
            "Rank 72 0.0 17  structured data or programming code elements\n",
            "Rank 73 0.0 18  numerical data and associated values\n",
            "Rank 74 0.0 19  terminology related to academic research and analysis methods\n",
            "Rank 75 0.0 20  instances of possessive pronouns or possessive constructions\n",
            "Rank 76 0.0 21 terms related to agricultural practices and research\n",
            "Rank 77 0.0 22  references to the React library and its components\n",
            "Rank 78 0.0 23 references to the name \"Jonathan\" and variations of \"Jon.\"\n",
            "Rank 79 0.0 24  terms related to \"coroner\" and associated medical investigations\n",
            "Rank 80 0.0 25 references to issued equipment or supplies\n",
            "Rank 81 0.0 26  terms related to leadership styles and their effects on workplace dynamics\n",
            "Rank 82 0.0 27 mathematical symbols and constructs\n",
            "Rank 83 0.0 28 location and administrative division references\n",
            "Rank 84 0.0 29  phrases indicating various purposes and uses of information or actions\n",
            "Rank 85 0.0 30 terms and references associated with political and social organizations\n",
            "Rank 86 0.0 31 punctuation marks and special symbols often found in written texts\n",
            "Rank 87 0.0 32  mathematical symbols and notation typically used in equations or algorithms\n",
            "Rank 88 0.0 33 terms related to research methodologies and data analysis in scientific studies\n",
            "Rank 89 0.0 34 words and phrases associated with conjunctions and connections between ideas\n",
            "Rank 90 0.0 35 references to the verb \"be\" in various contexts\n",
            "Rank 91 0.0 36 words or roots related to specific dependencies or components in a software or programming context\n",
            "Rank 92 0.0 37  punctuated phrases and statements\n",
            "Rank 93 0.0 38 modal verbs and their usage in sentences\n",
            "Rank 94 0.0 39 details about product features and specifications\n",
            "Rank 95 0.0 40 phrases related to hybrid combinations of concepts or elements in various contexts\n",
            "Rank 96 0.0 41 phrases related to family relationships and marital status\n",
            "Rank 97 0.0 42 terms related to medical treatment options and their effectiveness\n",
            "Rank 98 0.0 43  references to the number and types of bedrooms in housing descriptions\n",
            "Rank 99 0.0 44  information about public events and their details\n",
            "Rank 100 0.0 45  indicators of medical conditions and pregnancy-related terms\n"
          ]
        }
      ]
    },
    {
      "cell_type": "code",
      "source": [],
      "metadata": {
        "id": "TAyN1JDM-mpT"
      },
      "execution_count": null,
      "outputs": []
    }
  ],
  "metadata": {
    "accelerator": "GPU",
    "colab": {
      "gpuType": "A100",
      "machine_shape": "hm",
      "toc_visible": true,
      "provenance": [],
      "collapsed_sections": [
        "kUYRF57KNxrL"
      ]
    },
    "kernelspec": {
      "display_name": "Python 3",
      "name": "python3"
    },
    "language_info": {
      "name": "python"
    },
    "widgets": {
      "application/vnd.jupyter.widget-state+json": {
        "0952e2733fe24538af0d9078132ad4c6": {
          "model_module": "@jupyter-widgets/controls",
          "model_name": "VBoxModel",
          "model_module_version": "1.5.0",
          "state": {
            "_dom_classes": [],
            "_model_module": "@jupyter-widgets/controls",
            "_model_module_version": "1.5.0",
            "_model_name": "VBoxModel",
            "_view_count": null,
            "_view_module": "@jupyter-widgets/controls",
            "_view_module_version": "1.5.0",
            "_view_name": "VBoxView",
            "box_style": "",
            "children": [
              "IPY_MODEL_d5c1629eeccc4e63bc1e814042b69bab",
              "IPY_MODEL_9cc59b7c368e48a2911315894597c667",
              "IPY_MODEL_125f07895a83410d867d9a487b20032e",
              "IPY_MODEL_d2e1ecb1801e4a92a145fec646336223",
              "IPY_MODEL_f35a1bd9d19a428685179ad96223953b"
            ],
            "layout": "IPY_MODEL_a3190e5683a84d73aff6db6d0173d121"
          }
        },
        "d5c1629eeccc4e63bc1e814042b69bab": {
          "model_module": "@jupyter-widgets/controls",
          "model_name": "HTMLModel",
          "model_module_version": "1.5.0",
          "state": {
            "_dom_classes": [],
            "_model_module": "@jupyter-widgets/controls",
            "_model_module_version": "1.5.0",
            "_model_name": "HTMLModel",
            "_view_count": null,
            "_view_module": "@jupyter-widgets/controls",
            "_view_module_version": "1.5.0",
            "_view_name": "HTMLView",
            "description": "",
            "description_tooltip": null,
            "layout": "IPY_MODEL_f283f41df01340e291d667356f3c8853",
            "placeholder": "​",
            "style": "IPY_MODEL_c3368adcf8cd4b8a8c4e1e4fafafc249",
            "value": "<center> <img\nsrc=https://huggingface.co/front/assets/huggingface_logo-noborder.svg\nalt='Hugging Face'> <br> Copy a token from <a\nhref=\"https://huggingface.co/settings/tokens\" target=\"_blank\">your Hugging Face\ntokens page</a> and paste it below. <br> Immediately click login after copying\nyour token or it might be stored in plain text in this notebook file. </center>"
          }
        },
        "9cc59b7c368e48a2911315894597c667": {
          "model_module": "@jupyter-widgets/controls",
          "model_name": "PasswordModel",
          "model_module_version": "1.5.0",
          "state": {
            "_dom_classes": [],
            "_model_module": "@jupyter-widgets/controls",
            "_model_module_version": "1.5.0",
            "_model_name": "PasswordModel",
            "_view_count": null,
            "_view_module": "@jupyter-widgets/controls",
            "_view_module_version": "1.5.0",
            "_view_name": "PasswordView",
            "continuous_update": true,
            "description": "Token:",
            "description_tooltip": null,
            "disabled": false,
            "layout": "IPY_MODEL_f2f5ef331d30453d8416f06416c55db2",
            "placeholder": "​",
            "style": "IPY_MODEL_cc2afd44b500438e8145cca812667b33",
            "value": ""
          }
        },
        "125f07895a83410d867d9a487b20032e": {
          "model_module": "@jupyter-widgets/controls",
          "model_name": "CheckboxModel",
          "model_module_version": "1.5.0",
          "state": {
            "_dom_classes": [],
            "_model_module": "@jupyter-widgets/controls",
            "_model_module_version": "1.5.0",
            "_model_name": "CheckboxModel",
            "_view_count": null,
            "_view_module": "@jupyter-widgets/controls",
            "_view_module_version": "1.5.0",
            "_view_name": "CheckboxView",
            "description": "Add token as git credential?",
            "description_tooltip": null,
            "disabled": false,
            "indent": true,
            "layout": "IPY_MODEL_23d105606d804f44a50ecb0c595ecc1d",
            "style": "IPY_MODEL_a01e2b835f9d4274881dfa5f5e26c557",
            "value": true
          }
        },
        "d2e1ecb1801e4a92a145fec646336223": {
          "model_module": "@jupyter-widgets/controls",
          "model_name": "ButtonModel",
          "model_module_version": "1.5.0",
          "state": {
            "_dom_classes": [],
            "_model_module": "@jupyter-widgets/controls",
            "_model_module_version": "1.5.0",
            "_model_name": "ButtonModel",
            "_view_count": null,
            "_view_module": "@jupyter-widgets/controls",
            "_view_module_version": "1.5.0",
            "_view_name": "ButtonView",
            "button_style": "",
            "description": "Login",
            "disabled": false,
            "icon": "",
            "layout": "IPY_MODEL_50ac522dd61e4a5da2553ec0fc255a77",
            "style": "IPY_MODEL_ab7511e29af2402da79ddd75dca1bf29",
            "tooltip": ""
          }
        },
        "f35a1bd9d19a428685179ad96223953b": {
          "model_module": "@jupyter-widgets/controls",
          "model_name": "HTMLModel",
          "model_module_version": "1.5.0",
          "state": {
            "_dom_classes": [],
            "_model_module": "@jupyter-widgets/controls",
            "_model_module_version": "1.5.0",
            "_model_name": "HTMLModel",
            "_view_count": null,
            "_view_module": "@jupyter-widgets/controls",
            "_view_module_version": "1.5.0",
            "_view_name": "HTMLView",
            "description": "",
            "description_tooltip": null,
            "layout": "IPY_MODEL_76695174dcc74f3891d3bf22fba4a0cd",
            "placeholder": "​",
            "style": "IPY_MODEL_d748be09455044878c14b4f4d3857526",
            "value": "\n<b>Pro Tip:</b> If you don't already have one, you can create a dedicated\n'notebooks' token with 'write' access, that you can then easily reuse for all\nnotebooks. </center>"
          }
        },
        "a3190e5683a84d73aff6db6d0173d121": {
          "model_module": "@jupyter-widgets/base",
          "model_name": "LayoutModel",
          "model_module_version": "1.2.0",
          "state": {
            "_model_module": "@jupyter-widgets/base",
            "_model_module_version": "1.2.0",
            "_model_name": "LayoutModel",
            "_view_count": null,
            "_view_module": "@jupyter-widgets/base",
            "_view_module_version": "1.2.0",
            "_view_name": "LayoutView",
            "align_content": null,
            "align_items": "center",
            "align_self": null,
            "border": null,
            "bottom": null,
            "display": "flex",
            "flex": null,
            "flex_flow": "column",
            "grid_area": null,
            "grid_auto_columns": null,
            "grid_auto_flow": null,
            "grid_auto_rows": null,
            "grid_column": null,
            "grid_gap": null,
            "grid_row": null,
            "grid_template_areas": null,
            "grid_template_columns": null,
            "grid_template_rows": null,
            "height": null,
            "justify_content": null,
            "justify_items": null,
            "left": null,
            "margin": null,
            "max_height": null,
            "max_width": null,
            "min_height": null,
            "min_width": null,
            "object_fit": null,
            "object_position": null,
            "order": null,
            "overflow": null,
            "overflow_x": null,
            "overflow_y": null,
            "padding": null,
            "right": null,
            "top": null,
            "visibility": null,
            "width": "50%"
          }
        },
        "f283f41df01340e291d667356f3c8853": {
          "model_module": "@jupyter-widgets/base",
          "model_name": "LayoutModel",
          "model_module_version": "1.2.0",
          "state": {
            "_model_module": "@jupyter-widgets/base",
            "_model_module_version": "1.2.0",
            "_model_name": "LayoutModel",
            "_view_count": null,
            "_view_module": "@jupyter-widgets/base",
            "_view_module_version": "1.2.0",
            "_view_name": "LayoutView",
            "align_content": null,
            "align_items": null,
            "align_self": null,
            "border": null,
            "bottom": null,
            "display": null,
            "flex": null,
            "flex_flow": null,
            "grid_area": null,
            "grid_auto_columns": null,
            "grid_auto_flow": null,
            "grid_auto_rows": null,
            "grid_column": null,
            "grid_gap": null,
            "grid_row": null,
            "grid_template_areas": null,
            "grid_template_columns": null,
            "grid_template_rows": null,
            "height": null,
            "justify_content": null,
            "justify_items": null,
            "left": null,
            "margin": null,
            "max_height": null,
            "max_width": null,
            "min_height": null,
            "min_width": null,
            "object_fit": null,
            "object_position": null,
            "order": null,
            "overflow": null,
            "overflow_x": null,
            "overflow_y": null,
            "padding": null,
            "right": null,
            "top": null,
            "visibility": null,
            "width": null
          }
        },
        "c3368adcf8cd4b8a8c4e1e4fafafc249": {
          "model_module": "@jupyter-widgets/controls",
          "model_name": "DescriptionStyleModel",
          "model_module_version": "1.5.0",
          "state": {
            "_model_module": "@jupyter-widgets/controls",
            "_model_module_version": "1.5.0",
            "_model_name": "DescriptionStyleModel",
            "_view_count": null,
            "_view_module": "@jupyter-widgets/base",
            "_view_module_version": "1.2.0",
            "_view_name": "StyleView",
            "description_width": ""
          }
        },
        "f2f5ef331d30453d8416f06416c55db2": {
          "model_module": "@jupyter-widgets/base",
          "model_name": "LayoutModel",
          "model_module_version": "1.2.0",
          "state": {
            "_model_module": "@jupyter-widgets/base",
            "_model_module_version": "1.2.0",
            "_model_name": "LayoutModel",
            "_view_count": null,
            "_view_module": "@jupyter-widgets/base",
            "_view_module_version": "1.2.0",
            "_view_name": "LayoutView",
            "align_content": null,
            "align_items": null,
            "align_self": null,
            "border": null,
            "bottom": null,
            "display": null,
            "flex": null,
            "flex_flow": null,
            "grid_area": null,
            "grid_auto_columns": null,
            "grid_auto_flow": null,
            "grid_auto_rows": null,
            "grid_column": null,
            "grid_gap": null,
            "grid_row": null,
            "grid_template_areas": null,
            "grid_template_columns": null,
            "grid_template_rows": null,
            "height": null,
            "justify_content": null,
            "justify_items": null,
            "left": null,
            "margin": null,
            "max_height": null,
            "max_width": null,
            "min_height": null,
            "min_width": null,
            "object_fit": null,
            "object_position": null,
            "order": null,
            "overflow": null,
            "overflow_x": null,
            "overflow_y": null,
            "padding": null,
            "right": null,
            "top": null,
            "visibility": null,
            "width": null
          }
        },
        "cc2afd44b500438e8145cca812667b33": {
          "model_module": "@jupyter-widgets/controls",
          "model_name": "DescriptionStyleModel",
          "model_module_version": "1.5.0",
          "state": {
            "_model_module": "@jupyter-widgets/controls",
            "_model_module_version": "1.5.0",
            "_model_name": "DescriptionStyleModel",
            "_view_count": null,
            "_view_module": "@jupyter-widgets/base",
            "_view_module_version": "1.2.0",
            "_view_name": "StyleView",
            "description_width": ""
          }
        },
        "23d105606d804f44a50ecb0c595ecc1d": {
          "model_module": "@jupyter-widgets/base",
          "model_name": "LayoutModel",
          "model_module_version": "1.2.0",
          "state": {
            "_model_module": "@jupyter-widgets/base",
            "_model_module_version": "1.2.0",
            "_model_name": "LayoutModel",
            "_view_count": null,
            "_view_module": "@jupyter-widgets/base",
            "_view_module_version": "1.2.0",
            "_view_name": "LayoutView",
            "align_content": null,
            "align_items": null,
            "align_self": null,
            "border": null,
            "bottom": null,
            "display": null,
            "flex": null,
            "flex_flow": null,
            "grid_area": null,
            "grid_auto_columns": null,
            "grid_auto_flow": null,
            "grid_auto_rows": null,
            "grid_column": null,
            "grid_gap": null,
            "grid_row": null,
            "grid_template_areas": null,
            "grid_template_columns": null,
            "grid_template_rows": null,
            "height": null,
            "justify_content": null,
            "justify_items": null,
            "left": null,
            "margin": null,
            "max_height": null,
            "max_width": null,
            "min_height": null,
            "min_width": null,
            "object_fit": null,
            "object_position": null,
            "order": null,
            "overflow": null,
            "overflow_x": null,
            "overflow_y": null,
            "padding": null,
            "right": null,
            "top": null,
            "visibility": null,
            "width": null
          }
        },
        "a01e2b835f9d4274881dfa5f5e26c557": {
          "model_module": "@jupyter-widgets/controls",
          "model_name": "DescriptionStyleModel",
          "model_module_version": "1.5.0",
          "state": {
            "_model_module": "@jupyter-widgets/controls",
            "_model_module_version": "1.5.0",
            "_model_name": "DescriptionStyleModel",
            "_view_count": null,
            "_view_module": "@jupyter-widgets/base",
            "_view_module_version": "1.2.0",
            "_view_name": "StyleView",
            "description_width": ""
          }
        },
        "50ac522dd61e4a5da2553ec0fc255a77": {
          "model_module": "@jupyter-widgets/base",
          "model_name": "LayoutModel",
          "model_module_version": "1.2.0",
          "state": {
            "_model_module": "@jupyter-widgets/base",
            "_model_module_version": "1.2.0",
            "_model_name": "LayoutModel",
            "_view_count": null,
            "_view_module": "@jupyter-widgets/base",
            "_view_module_version": "1.2.0",
            "_view_name": "LayoutView",
            "align_content": null,
            "align_items": null,
            "align_self": null,
            "border": null,
            "bottom": null,
            "display": null,
            "flex": null,
            "flex_flow": null,
            "grid_area": null,
            "grid_auto_columns": null,
            "grid_auto_flow": null,
            "grid_auto_rows": null,
            "grid_column": null,
            "grid_gap": null,
            "grid_row": null,
            "grid_template_areas": null,
            "grid_template_columns": null,
            "grid_template_rows": null,
            "height": null,
            "justify_content": null,
            "justify_items": null,
            "left": null,
            "margin": null,
            "max_height": null,
            "max_width": null,
            "min_height": null,
            "min_width": null,
            "object_fit": null,
            "object_position": null,
            "order": null,
            "overflow": null,
            "overflow_x": null,
            "overflow_y": null,
            "padding": null,
            "right": null,
            "top": null,
            "visibility": null,
            "width": null
          }
        },
        "ab7511e29af2402da79ddd75dca1bf29": {
          "model_module": "@jupyter-widgets/controls",
          "model_name": "ButtonStyleModel",
          "model_module_version": "1.5.0",
          "state": {
            "_model_module": "@jupyter-widgets/controls",
            "_model_module_version": "1.5.0",
            "_model_name": "ButtonStyleModel",
            "_view_count": null,
            "_view_module": "@jupyter-widgets/base",
            "_view_module_version": "1.2.0",
            "_view_name": "StyleView",
            "button_color": null,
            "font_weight": ""
          }
        },
        "76695174dcc74f3891d3bf22fba4a0cd": {
          "model_module": "@jupyter-widgets/base",
          "model_name": "LayoutModel",
          "model_module_version": "1.2.0",
          "state": {
            "_model_module": "@jupyter-widgets/base",
            "_model_module_version": "1.2.0",
            "_model_name": "LayoutModel",
            "_view_count": null,
            "_view_module": "@jupyter-widgets/base",
            "_view_module_version": "1.2.0",
            "_view_name": "LayoutView",
            "align_content": null,
            "align_items": null,
            "align_self": null,
            "border": null,
            "bottom": null,
            "display": null,
            "flex": null,
            "flex_flow": null,
            "grid_area": null,
            "grid_auto_columns": null,
            "grid_auto_flow": null,
            "grid_auto_rows": null,
            "grid_column": null,
            "grid_gap": null,
            "grid_row": null,
            "grid_template_areas": null,
            "grid_template_columns": null,
            "grid_template_rows": null,
            "height": null,
            "justify_content": null,
            "justify_items": null,
            "left": null,
            "margin": null,
            "max_height": null,
            "max_width": null,
            "min_height": null,
            "min_width": null,
            "object_fit": null,
            "object_position": null,
            "order": null,
            "overflow": null,
            "overflow_x": null,
            "overflow_y": null,
            "padding": null,
            "right": null,
            "top": null,
            "visibility": null,
            "width": null
          }
        },
        "d748be09455044878c14b4f4d3857526": {
          "model_module": "@jupyter-widgets/controls",
          "model_name": "DescriptionStyleModel",
          "model_module_version": "1.5.0",
          "state": {
            "_model_module": "@jupyter-widgets/controls",
            "_model_module_version": "1.5.0",
            "_model_name": "DescriptionStyleModel",
            "_view_count": null,
            "_view_module": "@jupyter-widgets/base",
            "_view_module_version": "1.2.0",
            "_view_name": "StyleView",
            "description_width": ""
          }
        },
        "5ea2318b160a4f59a512a97b48e7fae9": {
          "model_module": "@jupyter-widgets/controls",
          "model_name": "HBoxModel",
          "model_module_version": "1.5.0",
          "state": {
            "_dom_classes": [],
            "_model_module": "@jupyter-widgets/controls",
            "_model_module_version": "1.5.0",
            "_model_name": "HBoxModel",
            "_view_count": null,
            "_view_module": "@jupyter-widgets/controls",
            "_view_module_version": "1.5.0",
            "_view_name": "HBoxView",
            "box_style": "",
            "children": [
              "IPY_MODEL_97b27c62a4f2439d8a1e5d54c1c65ea1",
              "IPY_MODEL_8c059e20aae84def8dd44e77172e893a",
              "IPY_MODEL_a4df8fb69b794ace873af8125109af0c"
            ],
            "layout": "IPY_MODEL_a7744aad6ba649cabeb27a50750b66a2"
          }
        },
        "97b27c62a4f2439d8a1e5d54c1c65ea1": {
          "model_module": "@jupyter-widgets/controls",
          "model_name": "HTMLModel",
          "model_module_version": "1.5.0",
          "state": {
            "_dom_classes": [],
            "_model_module": "@jupyter-widgets/controls",
            "_model_module_version": "1.5.0",
            "_model_name": "HTMLModel",
            "_view_count": null,
            "_view_module": "@jupyter-widgets/controls",
            "_view_module_version": "1.5.0",
            "_view_name": "HTMLView",
            "description": "",
            "description_tooltip": null,
            "layout": "IPY_MODEL_18e2fbb599b8475f9d7080028d00d873",
            "placeholder": "​",
            "style": "IPY_MODEL_d06008ac4c0f46f583252c92ebb55688",
            "value": "config.json: 100%"
          }
        },
        "8c059e20aae84def8dd44e77172e893a": {
          "model_module": "@jupyter-widgets/controls",
          "model_name": "FloatProgressModel",
          "model_module_version": "1.5.0",
          "state": {
            "_dom_classes": [],
            "_model_module": "@jupyter-widgets/controls",
            "_model_module_version": "1.5.0",
            "_model_name": "FloatProgressModel",
            "_view_count": null,
            "_view_module": "@jupyter-widgets/controls",
            "_view_module_version": "1.5.0",
            "_view_name": "ProgressView",
            "bar_style": "success",
            "description": "",
            "description_tooltip": null,
            "layout": "IPY_MODEL_97beded2dada4585aa28645e64946894",
            "max": 818,
            "min": 0,
            "orientation": "horizontal",
            "style": "IPY_MODEL_0dc51419d48f42f591cfcdc6d8aedc9b",
            "value": 818
          }
        },
        "a4df8fb69b794ace873af8125109af0c": {
          "model_module": "@jupyter-widgets/controls",
          "model_name": "HTMLModel",
          "model_module_version": "1.5.0",
          "state": {
            "_dom_classes": [],
            "_model_module": "@jupyter-widgets/controls",
            "_model_module_version": "1.5.0",
            "_model_name": "HTMLModel",
            "_view_count": null,
            "_view_module": "@jupyter-widgets/controls",
            "_view_module_version": "1.5.0",
            "_view_name": "HTMLView",
            "description": "",
            "description_tooltip": null,
            "layout": "IPY_MODEL_52e0fca1a64a4984bfeeaa6a740504f7",
            "placeholder": "​",
            "style": "IPY_MODEL_71c46d65580c4cb49ab59c745495625c",
            "value": " 818/818 [00:00&lt;00:00, 58.0kB/s]"
          }
        },
        "a7744aad6ba649cabeb27a50750b66a2": {
          "model_module": "@jupyter-widgets/base",
          "model_name": "LayoutModel",
          "model_module_version": "1.2.0",
          "state": {
            "_model_module": "@jupyter-widgets/base",
            "_model_module_version": "1.2.0",
            "_model_name": "LayoutModel",
            "_view_count": null,
            "_view_module": "@jupyter-widgets/base",
            "_view_module_version": "1.2.0",
            "_view_name": "LayoutView",
            "align_content": null,
            "align_items": null,
            "align_self": null,
            "border": null,
            "bottom": null,
            "display": null,
            "flex": null,
            "flex_flow": null,
            "grid_area": null,
            "grid_auto_columns": null,
            "grid_auto_flow": null,
            "grid_auto_rows": null,
            "grid_column": null,
            "grid_gap": null,
            "grid_row": null,
            "grid_template_areas": null,
            "grid_template_columns": null,
            "grid_template_rows": null,
            "height": null,
            "justify_content": null,
            "justify_items": null,
            "left": null,
            "margin": null,
            "max_height": null,
            "max_width": null,
            "min_height": null,
            "min_width": null,
            "object_fit": null,
            "object_position": null,
            "order": null,
            "overflow": null,
            "overflow_x": null,
            "overflow_y": null,
            "padding": null,
            "right": null,
            "top": null,
            "visibility": null,
            "width": null
          }
        },
        "18e2fbb599b8475f9d7080028d00d873": {
          "model_module": "@jupyter-widgets/base",
          "model_name": "LayoutModel",
          "model_module_version": "1.2.0",
          "state": {
            "_model_module": "@jupyter-widgets/base",
            "_model_module_version": "1.2.0",
            "_model_name": "LayoutModel",
            "_view_count": null,
            "_view_module": "@jupyter-widgets/base",
            "_view_module_version": "1.2.0",
            "_view_name": "LayoutView",
            "align_content": null,
            "align_items": null,
            "align_self": null,
            "border": null,
            "bottom": null,
            "display": null,
            "flex": null,
            "flex_flow": null,
            "grid_area": null,
            "grid_auto_columns": null,
            "grid_auto_flow": null,
            "grid_auto_rows": null,
            "grid_column": null,
            "grid_gap": null,
            "grid_row": null,
            "grid_template_areas": null,
            "grid_template_columns": null,
            "grid_template_rows": null,
            "height": null,
            "justify_content": null,
            "justify_items": null,
            "left": null,
            "margin": null,
            "max_height": null,
            "max_width": null,
            "min_height": null,
            "min_width": null,
            "object_fit": null,
            "object_position": null,
            "order": null,
            "overflow": null,
            "overflow_x": null,
            "overflow_y": null,
            "padding": null,
            "right": null,
            "top": null,
            "visibility": null,
            "width": null
          }
        },
        "d06008ac4c0f46f583252c92ebb55688": {
          "model_module": "@jupyter-widgets/controls",
          "model_name": "DescriptionStyleModel",
          "model_module_version": "1.5.0",
          "state": {
            "_model_module": "@jupyter-widgets/controls",
            "_model_module_version": "1.5.0",
            "_model_name": "DescriptionStyleModel",
            "_view_count": null,
            "_view_module": "@jupyter-widgets/base",
            "_view_module_version": "1.2.0",
            "_view_name": "StyleView",
            "description_width": ""
          }
        },
        "97beded2dada4585aa28645e64946894": {
          "model_module": "@jupyter-widgets/base",
          "model_name": "LayoutModel",
          "model_module_version": "1.2.0",
          "state": {
            "_model_module": "@jupyter-widgets/base",
            "_model_module_version": "1.2.0",
            "_model_name": "LayoutModel",
            "_view_count": null,
            "_view_module": "@jupyter-widgets/base",
            "_view_module_version": "1.2.0",
            "_view_name": "LayoutView",
            "align_content": null,
            "align_items": null,
            "align_self": null,
            "border": null,
            "bottom": null,
            "display": null,
            "flex": null,
            "flex_flow": null,
            "grid_area": null,
            "grid_auto_columns": null,
            "grid_auto_flow": null,
            "grid_auto_rows": null,
            "grid_column": null,
            "grid_gap": null,
            "grid_row": null,
            "grid_template_areas": null,
            "grid_template_columns": null,
            "grid_template_rows": null,
            "height": null,
            "justify_content": null,
            "justify_items": null,
            "left": null,
            "margin": null,
            "max_height": null,
            "max_width": null,
            "min_height": null,
            "min_width": null,
            "object_fit": null,
            "object_position": null,
            "order": null,
            "overflow": null,
            "overflow_x": null,
            "overflow_y": null,
            "padding": null,
            "right": null,
            "top": null,
            "visibility": null,
            "width": null
          }
        },
        "0dc51419d48f42f591cfcdc6d8aedc9b": {
          "model_module": "@jupyter-widgets/controls",
          "model_name": "ProgressStyleModel",
          "model_module_version": "1.5.0",
          "state": {
            "_model_module": "@jupyter-widgets/controls",
            "_model_module_version": "1.5.0",
            "_model_name": "ProgressStyleModel",
            "_view_count": null,
            "_view_module": "@jupyter-widgets/base",
            "_view_module_version": "1.2.0",
            "_view_name": "StyleView",
            "bar_color": null,
            "description_width": ""
          }
        },
        "52e0fca1a64a4984bfeeaa6a740504f7": {
          "model_module": "@jupyter-widgets/base",
          "model_name": "LayoutModel",
          "model_module_version": "1.2.0",
          "state": {
            "_model_module": "@jupyter-widgets/base",
            "_model_module_version": "1.2.0",
            "_model_name": "LayoutModel",
            "_view_count": null,
            "_view_module": "@jupyter-widgets/base",
            "_view_module_version": "1.2.0",
            "_view_name": "LayoutView",
            "align_content": null,
            "align_items": null,
            "align_self": null,
            "border": null,
            "bottom": null,
            "display": null,
            "flex": null,
            "flex_flow": null,
            "grid_area": null,
            "grid_auto_columns": null,
            "grid_auto_flow": null,
            "grid_auto_rows": null,
            "grid_column": null,
            "grid_gap": null,
            "grid_row": null,
            "grid_template_areas": null,
            "grid_template_columns": null,
            "grid_template_rows": null,
            "height": null,
            "justify_content": null,
            "justify_items": null,
            "left": null,
            "margin": null,
            "max_height": null,
            "max_width": null,
            "min_height": null,
            "min_width": null,
            "object_fit": null,
            "object_position": null,
            "order": null,
            "overflow": null,
            "overflow_x": null,
            "overflow_y": null,
            "padding": null,
            "right": null,
            "top": null,
            "visibility": null,
            "width": null
          }
        },
        "71c46d65580c4cb49ab59c745495625c": {
          "model_module": "@jupyter-widgets/controls",
          "model_name": "DescriptionStyleModel",
          "model_module_version": "1.5.0",
          "state": {
            "_model_module": "@jupyter-widgets/controls",
            "_model_module_version": "1.5.0",
            "_model_name": "DescriptionStyleModel",
            "_view_count": null,
            "_view_module": "@jupyter-widgets/base",
            "_view_module_version": "1.2.0",
            "_view_name": "StyleView",
            "description_width": ""
          }
        },
        "be87f7ed605b4cb7b605560fdeb5d89f": {
          "model_module": "@jupyter-widgets/controls",
          "model_name": "HBoxModel",
          "model_module_version": "1.5.0",
          "state": {
            "_dom_classes": [],
            "_model_module": "@jupyter-widgets/controls",
            "_model_module_version": "1.5.0",
            "_model_name": "HBoxModel",
            "_view_count": null,
            "_view_module": "@jupyter-widgets/controls",
            "_view_module_version": "1.5.0",
            "_view_name": "HBoxView",
            "box_style": "",
            "children": [
              "IPY_MODEL_f4d44b70638f4197971457dca7b55825",
              "IPY_MODEL_0682e48d371e4ebd919bf426701495cf",
              "IPY_MODEL_c7d8caed72d248a5939d3448730ba30c"
            ],
            "layout": "IPY_MODEL_e339a89cd97a4f1b8b442df395bd841e"
          }
        },
        "f4d44b70638f4197971457dca7b55825": {
          "model_module": "@jupyter-widgets/controls",
          "model_name": "HTMLModel",
          "model_module_version": "1.5.0",
          "state": {
            "_dom_classes": [],
            "_model_module": "@jupyter-widgets/controls",
            "_model_module_version": "1.5.0",
            "_model_name": "HTMLModel",
            "_view_count": null,
            "_view_module": "@jupyter-widgets/controls",
            "_view_module_version": "1.5.0",
            "_view_name": "HTMLView",
            "description": "",
            "description_tooltip": null,
            "layout": "IPY_MODEL_bab716eacfff40c7a5f340f905a20017",
            "placeholder": "​",
            "style": "IPY_MODEL_714b2dcddd0644bfaa973b42a967f473",
            "value": "model.safetensors.index.json: 100%"
          }
        },
        "0682e48d371e4ebd919bf426701495cf": {
          "model_module": "@jupyter-widgets/controls",
          "model_name": "FloatProgressModel",
          "model_module_version": "1.5.0",
          "state": {
            "_dom_classes": [],
            "_model_module": "@jupyter-widgets/controls",
            "_model_module_version": "1.5.0",
            "_model_name": "FloatProgressModel",
            "_view_count": null,
            "_view_module": "@jupyter-widgets/controls",
            "_view_module_version": "1.5.0",
            "_view_name": "ProgressView",
            "bar_style": "success",
            "description": "",
            "description_tooltip": null,
            "layout": "IPY_MODEL_0aa0c8e2b50649fe97a3135173a8bc0a",
            "max": 24224,
            "min": 0,
            "orientation": "horizontal",
            "style": "IPY_MODEL_05d2249075d5497db0a6875e78e672ca",
            "value": 24224
          }
        },
        "c7d8caed72d248a5939d3448730ba30c": {
          "model_module": "@jupyter-widgets/controls",
          "model_name": "HTMLModel",
          "model_module_version": "1.5.0",
          "state": {
            "_dom_classes": [],
            "_model_module": "@jupyter-widgets/controls",
            "_model_module_version": "1.5.0",
            "_model_name": "HTMLModel",
            "_view_count": null,
            "_view_module": "@jupyter-widgets/controls",
            "_view_module_version": "1.5.0",
            "_view_name": "HTMLView",
            "description": "",
            "description_tooltip": null,
            "layout": "IPY_MODEL_c72e6cc619e84e68b1347b8083557a71",
            "placeholder": "​",
            "style": "IPY_MODEL_498ddae730df42369eab1df0666d252b",
            "value": " 24.2k/24.2k [00:00&lt;00:00, 1.72MB/s]"
          }
        },
        "e339a89cd97a4f1b8b442df395bd841e": {
          "model_module": "@jupyter-widgets/base",
          "model_name": "LayoutModel",
          "model_module_version": "1.2.0",
          "state": {
            "_model_module": "@jupyter-widgets/base",
            "_model_module_version": "1.2.0",
            "_model_name": "LayoutModel",
            "_view_count": null,
            "_view_module": "@jupyter-widgets/base",
            "_view_module_version": "1.2.0",
            "_view_name": "LayoutView",
            "align_content": null,
            "align_items": null,
            "align_self": null,
            "border": null,
            "bottom": null,
            "display": null,
            "flex": null,
            "flex_flow": null,
            "grid_area": null,
            "grid_auto_columns": null,
            "grid_auto_flow": null,
            "grid_auto_rows": null,
            "grid_column": null,
            "grid_gap": null,
            "grid_row": null,
            "grid_template_areas": null,
            "grid_template_columns": null,
            "grid_template_rows": null,
            "height": null,
            "justify_content": null,
            "justify_items": null,
            "left": null,
            "margin": null,
            "max_height": null,
            "max_width": null,
            "min_height": null,
            "min_width": null,
            "object_fit": null,
            "object_position": null,
            "order": null,
            "overflow": null,
            "overflow_x": null,
            "overflow_y": null,
            "padding": null,
            "right": null,
            "top": null,
            "visibility": null,
            "width": null
          }
        },
        "bab716eacfff40c7a5f340f905a20017": {
          "model_module": "@jupyter-widgets/base",
          "model_name": "LayoutModel",
          "model_module_version": "1.2.0",
          "state": {
            "_model_module": "@jupyter-widgets/base",
            "_model_module_version": "1.2.0",
            "_model_name": "LayoutModel",
            "_view_count": null,
            "_view_module": "@jupyter-widgets/base",
            "_view_module_version": "1.2.0",
            "_view_name": "LayoutView",
            "align_content": null,
            "align_items": null,
            "align_self": null,
            "border": null,
            "bottom": null,
            "display": null,
            "flex": null,
            "flex_flow": null,
            "grid_area": null,
            "grid_auto_columns": null,
            "grid_auto_flow": null,
            "grid_auto_rows": null,
            "grid_column": null,
            "grid_gap": null,
            "grid_row": null,
            "grid_template_areas": null,
            "grid_template_columns": null,
            "grid_template_rows": null,
            "height": null,
            "justify_content": null,
            "justify_items": null,
            "left": null,
            "margin": null,
            "max_height": null,
            "max_width": null,
            "min_height": null,
            "min_width": null,
            "object_fit": null,
            "object_position": null,
            "order": null,
            "overflow": null,
            "overflow_x": null,
            "overflow_y": null,
            "padding": null,
            "right": null,
            "top": null,
            "visibility": null,
            "width": null
          }
        },
        "714b2dcddd0644bfaa973b42a967f473": {
          "model_module": "@jupyter-widgets/controls",
          "model_name": "DescriptionStyleModel",
          "model_module_version": "1.5.0",
          "state": {
            "_model_module": "@jupyter-widgets/controls",
            "_model_module_version": "1.5.0",
            "_model_name": "DescriptionStyleModel",
            "_view_count": null,
            "_view_module": "@jupyter-widgets/base",
            "_view_module_version": "1.2.0",
            "_view_name": "StyleView",
            "description_width": ""
          }
        },
        "0aa0c8e2b50649fe97a3135173a8bc0a": {
          "model_module": "@jupyter-widgets/base",
          "model_name": "LayoutModel",
          "model_module_version": "1.2.0",
          "state": {
            "_model_module": "@jupyter-widgets/base",
            "_model_module_version": "1.2.0",
            "_model_name": "LayoutModel",
            "_view_count": null,
            "_view_module": "@jupyter-widgets/base",
            "_view_module_version": "1.2.0",
            "_view_name": "LayoutView",
            "align_content": null,
            "align_items": null,
            "align_self": null,
            "border": null,
            "bottom": null,
            "display": null,
            "flex": null,
            "flex_flow": null,
            "grid_area": null,
            "grid_auto_columns": null,
            "grid_auto_flow": null,
            "grid_auto_rows": null,
            "grid_column": null,
            "grid_gap": null,
            "grid_row": null,
            "grid_template_areas": null,
            "grid_template_columns": null,
            "grid_template_rows": null,
            "height": null,
            "justify_content": null,
            "justify_items": null,
            "left": null,
            "margin": null,
            "max_height": null,
            "max_width": null,
            "min_height": null,
            "min_width": null,
            "object_fit": null,
            "object_position": null,
            "order": null,
            "overflow": null,
            "overflow_x": null,
            "overflow_y": null,
            "padding": null,
            "right": null,
            "top": null,
            "visibility": null,
            "width": null
          }
        },
        "05d2249075d5497db0a6875e78e672ca": {
          "model_module": "@jupyter-widgets/controls",
          "model_name": "ProgressStyleModel",
          "model_module_version": "1.5.0",
          "state": {
            "_model_module": "@jupyter-widgets/controls",
            "_model_module_version": "1.5.0",
            "_model_name": "ProgressStyleModel",
            "_view_count": null,
            "_view_module": "@jupyter-widgets/base",
            "_view_module_version": "1.2.0",
            "_view_name": "StyleView",
            "bar_color": null,
            "description_width": ""
          }
        },
        "c72e6cc619e84e68b1347b8083557a71": {
          "model_module": "@jupyter-widgets/base",
          "model_name": "LayoutModel",
          "model_module_version": "1.2.0",
          "state": {
            "_model_module": "@jupyter-widgets/base",
            "_model_module_version": "1.2.0",
            "_model_name": "LayoutModel",
            "_view_count": null,
            "_view_module": "@jupyter-widgets/base",
            "_view_module_version": "1.2.0",
            "_view_name": "LayoutView",
            "align_content": null,
            "align_items": null,
            "align_self": null,
            "border": null,
            "bottom": null,
            "display": null,
            "flex": null,
            "flex_flow": null,
            "grid_area": null,
            "grid_auto_columns": null,
            "grid_auto_flow": null,
            "grid_auto_rows": null,
            "grid_column": null,
            "grid_gap": null,
            "grid_row": null,
            "grid_template_areas": null,
            "grid_template_columns": null,
            "grid_template_rows": null,
            "height": null,
            "justify_content": null,
            "justify_items": null,
            "left": null,
            "margin": null,
            "max_height": null,
            "max_width": null,
            "min_height": null,
            "min_width": null,
            "object_fit": null,
            "object_position": null,
            "order": null,
            "overflow": null,
            "overflow_x": null,
            "overflow_y": null,
            "padding": null,
            "right": null,
            "top": null,
            "visibility": null,
            "width": null
          }
        },
        "498ddae730df42369eab1df0666d252b": {
          "model_module": "@jupyter-widgets/controls",
          "model_name": "DescriptionStyleModel",
          "model_module_version": "1.5.0",
          "state": {
            "_model_module": "@jupyter-widgets/controls",
            "_model_module_version": "1.5.0",
            "_model_name": "DescriptionStyleModel",
            "_view_count": null,
            "_view_module": "@jupyter-widgets/base",
            "_view_module_version": "1.2.0",
            "_view_name": "StyleView",
            "description_width": ""
          }
        },
        "c5692308c1424944b4e2542439ed9c84": {
          "model_module": "@jupyter-widgets/controls",
          "model_name": "HBoxModel",
          "model_module_version": "1.5.0",
          "state": {
            "_dom_classes": [],
            "_model_module": "@jupyter-widgets/controls",
            "_model_module_version": "1.5.0",
            "_model_name": "HBoxModel",
            "_view_count": null,
            "_view_module": "@jupyter-widgets/controls",
            "_view_module_version": "1.5.0",
            "_view_name": "HBoxView",
            "box_style": "",
            "children": [
              "IPY_MODEL_6c0a18a506d74015ba4c1d900376a248",
              "IPY_MODEL_0e26425ca1284d588d981be7ec3675d4",
              "IPY_MODEL_e2ad60cecb914efd9d27ac04df7fa141"
            ],
            "layout": "IPY_MODEL_ee5e78b9033a4728bceb5ce0f6bf9b54"
          }
        },
        "6c0a18a506d74015ba4c1d900376a248": {
          "model_module": "@jupyter-widgets/controls",
          "model_name": "HTMLModel",
          "model_module_version": "1.5.0",
          "state": {
            "_dom_classes": [],
            "_model_module": "@jupyter-widgets/controls",
            "_model_module_version": "1.5.0",
            "_model_name": "HTMLModel",
            "_view_count": null,
            "_view_module": "@jupyter-widgets/controls",
            "_view_module_version": "1.5.0",
            "_view_name": "HTMLView",
            "description": "",
            "description_tooltip": null,
            "layout": "IPY_MODEL_86b54f7b97314aecaa83476a5ae9c360",
            "placeholder": "​",
            "style": "IPY_MODEL_dd03f69ab8bd458d9b8dc384f2f4dba7",
            "value": "Downloading shards: 100%"
          }
        },
        "0e26425ca1284d588d981be7ec3675d4": {
          "model_module": "@jupyter-widgets/controls",
          "model_name": "FloatProgressModel",
          "model_module_version": "1.5.0",
          "state": {
            "_dom_classes": [],
            "_model_module": "@jupyter-widgets/controls",
            "_model_module_version": "1.5.0",
            "_model_name": "FloatProgressModel",
            "_view_count": null,
            "_view_module": "@jupyter-widgets/controls",
            "_view_module_version": "1.5.0",
            "_view_name": "ProgressView",
            "bar_style": "success",
            "description": "",
            "description_tooltip": null,
            "layout": "IPY_MODEL_8327ee3f91fb43d1b54f52095b8c8585",
            "max": 3,
            "min": 0,
            "orientation": "horizontal",
            "style": "IPY_MODEL_aac5dd5ea3fb4495a2fa6d3faea6322d",
            "value": 3
          }
        },
        "e2ad60cecb914efd9d27ac04df7fa141": {
          "model_module": "@jupyter-widgets/controls",
          "model_name": "HTMLModel",
          "model_module_version": "1.5.0",
          "state": {
            "_dom_classes": [],
            "_model_module": "@jupyter-widgets/controls",
            "_model_module_version": "1.5.0",
            "_model_name": "HTMLModel",
            "_view_count": null,
            "_view_module": "@jupyter-widgets/controls",
            "_view_module_version": "1.5.0",
            "_view_name": "HTMLView",
            "description": "",
            "description_tooltip": null,
            "layout": "IPY_MODEL_15a56ca4055e4e52aa5c2061f4230d16",
            "placeholder": "​",
            "style": "IPY_MODEL_ad8766ae34cd45dd82478606db7b0250",
            "value": " 3/3 [00:34&lt;00:00,  9.58s/it]"
          }
        },
        "ee5e78b9033a4728bceb5ce0f6bf9b54": {
          "model_module": "@jupyter-widgets/base",
          "model_name": "LayoutModel",
          "model_module_version": "1.2.0",
          "state": {
            "_model_module": "@jupyter-widgets/base",
            "_model_module_version": "1.2.0",
            "_model_name": "LayoutModel",
            "_view_count": null,
            "_view_module": "@jupyter-widgets/base",
            "_view_module_version": "1.2.0",
            "_view_name": "LayoutView",
            "align_content": null,
            "align_items": null,
            "align_self": null,
            "border": null,
            "bottom": null,
            "display": null,
            "flex": null,
            "flex_flow": null,
            "grid_area": null,
            "grid_auto_columns": null,
            "grid_auto_flow": null,
            "grid_auto_rows": null,
            "grid_column": null,
            "grid_gap": null,
            "grid_row": null,
            "grid_template_areas": null,
            "grid_template_columns": null,
            "grid_template_rows": null,
            "height": null,
            "justify_content": null,
            "justify_items": null,
            "left": null,
            "margin": null,
            "max_height": null,
            "max_width": null,
            "min_height": null,
            "min_width": null,
            "object_fit": null,
            "object_position": null,
            "order": null,
            "overflow": null,
            "overflow_x": null,
            "overflow_y": null,
            "padding": null,
            "right": null,
            "top": null,
            "visibility": null,
            "width": null
          }
        },
        "86b54f7b97314aecaa83476a5ae9c360": {
          "model_module": "@jupyter-widgets/base",
          "model_name": "LayoutModel",
          "model_module_version": "1.2.0",
          "state": {
            "_model_module": "@jupyter-widgets/base",
            "_model_module_version": "1.2.0",
            "_model_name": "LayoutModel",
            "_view_count": null,
            "_view_module": "@jupyter-widgets/base",
            "_view_module_version": "1.2.0",
            "_view_name": "LayoutView",
            "align_content": null,
            "align_items": null,
            "align_self": null,
            "border": null,
            "bottom": null,
            "display": null,
            "flex": null,
            "flex_flow": null,
            "grid_area": null,
            "grid_auto_columns": null,
            "grid_auto_flow": null,
            "grid_auto_rows": null,
            "grid_column": null,
            "grid_gap": null,
            "grid_row": null,
            "grid_template_areas": null,
            "grid_template_columns": null,
            "grid_template_rows": null,
            "height": null,
            "justify_content": null,
            "justify_items": null,
            "left": null,
            "margin": null,
            "max_height": null,
            "max_width": null,
            "min_height": null,
            "min_width": null,
            "object_fit": null,
            "object_position": null,
            "order": null,
            "overflow": null,
            "overflow_x": null,
            "overflow_y": null,
            "padding": null,
            "right": null,
            "top": null,
            "visibility": null,
            "width": null
          }
        },
        "dd03f69ab8bd458d9b8dc384f2f4dba7": {
          "model_module": "@jupyter-widgets/controls",
          "model_name": "DescriptionStyleModel",
          "model_module_version": "1.5.0",
          "state": {
            "_model_module": "@jupyter-widgets/controls",
            "_model_module_version": "1.5.0",
            "_model_name": "DescriptionStyleModel",
            "_view_count": null,
            "_view_module": "@jupyter-widgets/base",
            "_view_module_version": "1.2.0",
            "_view_name": "StyleView",
            "description_width": ""
          }
        },
        "8327ee3f91fb43d1b54f52095b8c8585": {
          "model_module": "@jupyter-widgets/base",
          "model_name": "LayoutModel",
          "model_module_version": "1.2.0",
          "state": {
            "_model_module": "@jupyter-widgets/base",
            "_model_module_version": "1.2.0",
            "_model_name": "LayoutModel",
            "_view_count": null,
            "_view_module": "@jupyter-widgets/base",
            "_view_module_version": "1.2.0",
            "_view_name": "LayoutView",
            "align_content": null,
            "align_items": null,
            "align_self": null,
            "border": null,
            "bottom": null,
            "display": null,
            "flex": null,
            "flex_flow": null,
            "grid_area": null,
            "grid_auto_columns": null,
            "grid_auto_flow": null,
            "grid_auto_rows": null,
            "grid_column": null,
            "grid_gap": null,
            "grid_row": null,
            "grid_template_areas": null,
            "grid_template_columns": null,
            "grid_template_rows": null,
            "height": null,
            "justify_content": null,
            "justify_items": null,
            "left": null,
            "margin": null,
            "max_height": null,
            "max_width": null,
            "min_height": null,
            "min_width": null,
            "object_fit": null,
            "object_position": null,
            "order": null,
            "overflow": null,
            "overflow_x": null,
            "overflow_y": null,
            "padding": null,
            "right": null,
            "top": null,
            "visibility": null,
            "width": null
          }
        },
        "aac5dd5ea3fb4495a2fa6d3faea6322d": {
          "model_module": "@jupyter-widgets/controls",
          "model_name": "ProgressStyleModel",
          "model_module_version": "1.5.0",
          "state": {
            "_model_module": "@jupyter-widgets/controls",
            "_model_module_version": "1.5.0",
            "_model_name": "ProgressStyleModel",
            "_view_count": null,
            "_view_module": "@jupyter-widgets/base",
            "_view_module_version": "1.2.0",
            "_view_name": "StyleView",
            "bar_color": null,
            "description_width": ""
          }
        },
        "15a56ca4055e4e52aa5c2061f4230d16": {
          "model_module": "@jupyter-widgets/base",
          "model_name": "LayoutModel",
          "model_module_version": "1.2.0",
          "state": {
            "_model_module": "@jupyter-widgets/base",
            "_model_module_version": "1.2.0",
            "_model_name": "LayoutModel",
            "_view_count": null,
            "_view_module": "@jupyter-widgets/base",
            "_view_module_version": "1.2.0",
            "_view_name": "LayoutView",
            "align_content": null,
            "align_items": null,
            "align_self": null,
            "border": null,
            "bottom": null,
            "display": null,
            "flex": null,
            "flex_flow": null,
            "grid_area": null,
            "grid_auto_columns": null,
            "grid_auto_flow": null,
            "grid_auto_rows": null,
            "grid_column": null,
            "grid_gap": null,
            "grid_row": null,
            "grid_template_areas": null,
            "grid_template_columns": null,
            "grid_template_rows": null,
            "height": null,
            "justify_content": null,
            "justify_items": null,
            "left": null,
            "margin": null,
            "max_height": null,
            "max_width": null,
            "min_height": null,
            "min_width": null,
            "object_fit": null,
            "object_position": null,
            "order": null,
            "overflow": null,
            "overflow_x": null,
            "overflow_y": null,
            "padding": null,
            "right": null,
            "top": null,
            "visibility": null,
            "width": null
          }
        },
        "ad8766ae34cd45dd82478606db7b0250": {
          "model_module": "@jupyter-widgets/controls",
          "model_name": "DescriptionStyleModel",
          "model_module_version": "1.5.0",
          "state": {
            "_model_module": "@jupyter-widgets/controls",
            "_model_module_version": "1.5.0",
            "_model_name": "DescriptionStyleModel",
            "_view_count": null,
            "_view_module": "@jupyter-widgets/base",
            "_view_module_version": "1.2.0",
            "_view_name": "StyleView",
            "description_width": ""
          }
        },
        "c7adf5c8158c4233945168697f3f2481": {
          "model_module": "@jupyter-widgets/controls",
          "model_name": "HBoxModel",
          "model_module_version": "1.5.0",
          "state": {
            "_dom_classes": [],
            "_model_module": "@jupyter-widgets/controls",
            "_model_module_version": "1.5.0",
            "_model_name": "HBoxModel",
            "_view_count": null,
            "_view_module": "@jupyter-widgets/controls",
            "_view_module_version": "1.5.0",
            "_view_name": "HBoxView",
            "box_style": "",
            "children": [
              "IPY_MODEL_4a6c82f6bdc0434384e6208bd68e3957",
              "IPY_MODEL_6dab9cc5f97241e88fb10ffb66be6920",
              "IPY_MODEL_81007b177c7a4dcf9ee6f0e67162e50c"
            ],
            "layout": "IPY_MODEL_dae57344d08140968757ab5a5bc12dd2"
          }
        },
        "4a6c82f6bdc0434384e6208bd68e3957": {
          "model_module": "@jupyter-widgets/controls",
          "model_name": "HTMLModel",
          "model_module_version": "1.5.0",
          "state": {
            "_dom_classes": [],
            "_model_module": "@jupyter-widgets/controls",
            "_model_module_version": "1.5.0",
            "_model_name": "HTMLModel",
            "_view_count": null,
            "_view_module": "@jupyter-widgets/controls",
            "_view_module_version": "1.5.0",
            "_view_name": "HTMLView",
            "description": "",
            "description_tooltip": null,
            "layout": "IPY_MODEL_f0974a1a3cb04c518e5d49bd5743d75a",
            "placeholder": "​",
            "style": "IPY_MODEL_2ab7c5387d8645da987de118019b9446",
            "value": "model-00001-of-00003.safetensors: 100%"
          }
        },
        "6dab9cc5f97241e88fb10ffb66be6920": {
          "model_module": "@jupyter-widgets/controls",
          "model_name": "FloatProgressModel",
          "model_module_version": "1.5.0",
          "state": {
            "_dom_classes": [],
            "_model_module": "@jupyter-widgets/controls",
            "_model_module_version": "1.5.0",
            "_model_name": "FloatProgressModel",
            "_view_count": null,
            "_view_module": "@jupyter-widgets/controls",
            "_view_module_version": "1.5.0",
            "_view_name": "ProgressView",
            "bar_style": "success",
            "description": "",
            "description_tooltip": null,
            "layout": "IPY_MODEL_b69358f3ea1041b2afcba296d9c19c43",
            "max": 4992576136,
            "min": 0,
            "orientation": "horizontal",
            "style": "IPY_MODEL_d7233772d8fb41deafa59c2f02cb5bc1",
            "value": 4992576136
          }
        },
        "81007b177c7a4dcf9ee6f0e67162e50c": {
          "model_module": "@jupyter-widgets/controls",
          "model_name": "HTMLModel",
          "model_module_version": "1.5.0",
          "state": {
            "_dom_classes": [],
            "_model_module": "@jupyter-widgets/controls",
            "_model_module_version": "1.5.0",
            "_model_name": "HTMLModel",
            "_view_count": null,
            "_view_module": "@jupyter-widgets/controls",
            "_view_module_version": "1.5.0",
            "_view_name": "HTMLView",
            "description": "",
            "description_tooltip": null,
            "layout": "IPY_MODEL_ff82fff6e2b34f72bb67b098ffdcaa79",
            "placeholder": "​",
            "style": "IPY_MODEL_b3e7796b5ce04c4eba8c5c4553f3dbe7",
            "value": " 4.99G/4.99G [00:16&lt;00:00, 236MB/s]"
          }
        },
        "dae57344d08140968757ab5a5bc12dd2": {
          "model_module": "@jupyter-widgets/base",
          "model_name": "LayoutModel",
          "model_module_version": "1.2.0",
          "state": {
            "_model_module": "@jupyter-widgets/base",
            "_model_module_version": "1.2.0",
            "_model_name": "LayoutModel",
            "_view_count": null,
            "_view_module": "@jupyter-widgets/base",
            "_view_module_version": "1.2.0",
            "_view_name": "LayoutView",
            "align_content": null,
            "align_items": null,
            "align_self": null,
            "border": null,
            "bottom": null,
            "display": null,
            "flex": null,
            "flex_flow": null,
            "grid_area": null,
            "grid_auto_columns": null,
            "grid_auto_flow": null,
            "grid_auto_rows": null,
            "grid_column": null,
            "grid_gap": null,
            "grid_row": null,
            "grid_template_areas": null,
            "grid_template_columns": null,
            "grid_template_rows": null,
            "height": null,
            "justify_content": null,
            "justify_items": null,
            "left": null,
            "margin": null,
            "max_height": null,
            "max_width": null,
            "min_height": null,
            "min_width": null,
            "object_fit": null,
            "object_position": null,
            "order": null,
            "overflow": null,
            "overflow_x": null,
            "overflow_y": null,
            "padding": null,
            "right": null,
            "top": null,
            "visibility": null,
            "width": null
          }
        },
        "f0974a1a3cb04c518e5d49bd5743d75a": {
          "model_module": "@jupyter-widgets/base",
          "model_name": "LayoutModel",
          "model_module_version": "1.2.0",
          "state": {
            "_model_module": "@jupyter-widgets/base",
            "_model_module_version": "1.2.0",
            "_model_name": "LayoutModel",
            "_view_count": null,
            "_view_module": "@jupyter-widgets/base",
            "_view_module_version": "1.2.0",
            "_view_name": "LayoutView",
            "align_content": null,
            "align_items": null,
            "align_self": null,
            "border": null,
            "bottom": null,
            "display": null,
            "flex": null,
            "flex_flow": null,
            "grid_area": null,
            "grid_auto_columns": null,
            "grid_auto_flow": null,
            "grid_auto_rows": null,
            "grid_column": null,
            "grid_gap": null,
            "grid_row": null,
            "grid_template_areas": null,
            "grid_template_columns": null,
            "grid_template_rows": null,
            "height": null,
            "justify_content": null,
            "justify_items": null,
            "left": null,
            "margin": null,
            "max_height": null,
            "max_width": null,
            "min_height": null,
            "min_width": null,
            "object_fit": null,
            "object_position": null,
            "order": null,
            "overflow": null,
            "overflow_x": null,
            "overflow_y": null,
            "padding": null,
            "right": null,
            "top": null,
            "visibility": null,
            "width": null
          }
        },
        "2ab7c5387d8645da987de118019b9446": {
          "model_module": "@jupyter-widgets/controls",
          "model_name": "DescriptionStyleModel",
          "model_module_version": "1.5.0",
          "state": {
            "_model_module": "@jupyter-widgets/controls",
            "_model_module_version": "1.5.0",
            "_model_name": "DescriptionStyleModel",
            "_view_count": null,
            "_view_module": "@jupyter-widgets/base",
            "_view_module_version": "1.2.0",
            "_view_name": "StyleView",
            "description_width": ""
          }
        },
        "b69358f3ea1041b2afcba296d9c19c43": {
          "model_module": "@jupyter-widgets/base",
          "model_name": "LayoutModel",
          "model_module_version": "1.2.0",
          "state": {
            "_model_module": "@jupyter-widgets/base",
            "_model_module_version": "1.2.0",
            "_model_name": "LayoutModel",
            "_view_count": null,
            "_view_module": "@jupyter-widgets/base",
            "_view_module_version": "1.2.0",
            "_view_name": "LayoutView",
            "align_content": null,
            "align_items": null,
            "align_self": null,
            "border": null,
            "bottom": null,
            "display": null,
            "flex": null,
            "flex_flow": null,
            "grid_area": null,
            "grid_auto_columns": null,
            "grid_auto_flow": null,
            "grid_auto_rows": null,
            "grid_column": null,
            "grid_gap": null,
            "grid_row": null,
            "grid_template_areas": null,
            "grid_template_columns": null,
            "grid_template_rows": null,
            "height": null,
            "justify_content": null,
            "justify_items": null,
            "left": null,
            "margin": null,
            "max_height": null,
            "max_width": null,
            "min_height": null,
            "min_width": null,
            "object_fit": null,
            "object_position": null,
            "order": null,
            "overflow": null,
            "overflow_x": null,
            "overflow_y": null,
            "padding": null,
            "right": null,
            "top": null,
            "visibility": null,
            "width": null
          }
        },
        "d7233772d8fb41deafa59c2f02cb5bc1": {
          "model_module": "@jupyter-widgets/controls",
          "model_name": "ProgressStyleModel",
          "model_module_version": "1.5.0",
          "state": {
            "_model_module": "@jupyter-widgets/controls",
            "_model_module_version": "1.5.0",
            "_model_name": "ProgressStyleModel",
            "_view_count": null,
            "_view_module": "@jupyter-widgets/base",
            "_view_module_version": "1.2.0",
            "_view_name": "StyleView",
            "bar_color": null,
            "description_width": ""
          }
        },
        "ff82fff6e2b34f72bb67b098ffdcaa79": {
          "model_module": "@jupyter-widgets/base",
          "model_name": "LayoutModel",
          "model_module_version": "1.2.0",
          "state": {
            "_model_module": "@jupyter-widgets/base",
            "_model_module_version": "1.2.0",
            "_model_name": "LayoutModel",
            "_view_count": null,
            "_view_module": "@jupyter-widgets/base",
            "_view_module_version": "1.2.0",
            "_view_name": "LayoutView",
            "align_content": null,
            "align_items": null,
            "align_self": null,
            "border": null,
            "bottom": null,
            "display": null,
            "flex": null,
            "flex_flow": null,
            "grid_area": null,
            "grid_auto_columns": null,
            "grid_auto_flow": null,
            "grid_auto_rows": null,
            "grid_column": null,
            "grid_gap": null,
            "grid_row": null,
            "grid_template_areas": null,
            "grid_template_columns": null,
            "grid_template_rows": null,
            "height": null,
            "justify_content": null,
            "justify_items": null,
            "left": null,
            "margin": null,
            "max_height": null,
            "max_width": null,
            "min_height": null,
            "min_width": null,
            "object_fit": null,
            "object_position": null,
            "order": null,
            "overflow": null,
            "overflow_x": null,
            "overflow_y": null,
            "padding": null,
            "right": null,
            "top": null,
            "visibility": null,
            "width": null
          }
        },
        "b3e7796b5ce04c4eba8c5c4553f3dbe7": {
          "model_module": "@jupyter-widgets/controls",
          "model_name": "DescriptionStyleModel",
          "model_module_version": "1.5.0",
          "state": {
            "_model_module": "@jupyter-widgets/controls",
            "_model_module_version": "1.5.0",
            "_model_name": "DescriptionStyleModel",
            "_view_count": null,
            "_view_module": "@jupyter-widgets/base",
            "_view_module_version": "1.2.0",
            "_view_name": "StyleView",
            "description_width": ""
          }
        },
        "b2f02cf33fb44e168747eabeaa924a0d": {
          "model_module": "@jupyter-widgets/controls",
          "model_name": "HBoxModel",
          "model_module_version": "1.5.0",
          "state": {
            "_dom_classes": [],
            "_model_module": "@jupyter-widgets/controls",
            "_model_module_version": "1.5.0",
            "_model_name": "HBoxModel",
            "_view_count": null,
            "_view_module": "@jupyter-widgets/controls",
            "_view_module_version": "1.5.0",
            "_view_name": "HBoxView",
            "box_style": "",
            "children": [
              "IPY_MODEL_2c4340b8c49f466aac6e0e0a742f23d4",
              "IPY_MODEL_ec98442f49224bae811720edd1a12b19",
              "IPY_MODEL_323baa0db4a44998b0ac9a9239b01541"
            ],
            "layout": "IPY_MODEL_2515f50d58a84e08b8cfe53ac4b8caf9"
          }
        },
        "2c4340b8c49f466aac6e0e0a742f23d4": {
          "model_module": "@jupyter-widgets/controls",
          "model_name": "HTMLModel",
          "model_module_version": "1.5.0",
          "state": {
            "_dom_classes": [],
            "_model_module": "@jupyter-widgets/controls",
            "_model_module_version": "1.5.0",
            "_model_name": "HTMLModel",
            "_view_count": null,
            "_view_module": "@jupyter-widgets/controls",
            "_view_module_version": "1.5.0",
            "_view_name": "HTMLView",
            "description": "",
            "description_tooltip": null,
            "layout": "IPY_MODEL_f3fae70cd0d24d5fa1e8a36cd4df8b44",
            "placeholder": "​",
            "style": "IPY_MODEL_5fa558075cb4422896bdebd27011a29f",
            "value": "model-00002-of-00003.safetensors: 100%"
          }
        },
        "ec98442f49224bae811720edd1a12b19": {
          "model_module": "@jupyter-widgets/controls",
          "model_name": "FloatProgressModel",
          "model_module_version": "1.5.0",
          "state": {
            "_dom_classes": [],
            "_model_module": "@jupyter-widgets/controls",
            "_model_module_version": "1.5.0",
            "_model_name": "FloatProgressModel",
            "_view_count": null,
            "_view_module": "@jupyter-widgets/controls",
            "_view_module_version": "1.5.0",
            "_view_name": "ProgressView",
            "bar_style": "success",
            "description": "",
            "description_tooltip": null,
            "layout": "IPY_MODEL_59736b97c804493aa88244b9e5611dde",
            "max": 4983443424,
            "min": 0,
            "orientation": "horizontal",
            "style": "IPY_MODEL_04cfa4dab6d54ab8a20633b05b532af1",
            "value": 4983443424
          }
        },
        "323baa0db4a44998b0ac9a9239b01541": {
          "model_module": "@jupyter-widgets/controls",
          "model_name": "HTMLModel",
          "model_module_version": "1.5.0",
          "state": {
            "_dom_classes": [],
            "_model_module": "@jupyter-widgets/controls",
            "_model_module_version": "1.5.0",
            "_model_name": "HTMLModel",
            "_view_count": null,
            "_view_module": "@jupyter-widgets/controls",
            "_view_module_version": "1.5.0",
            "_view_name": "HTMLView",
            "description": "",
            "description_tooltip": null,
            "layout": "IPY_MODEL_38b4e4fb12ec40cdaac6b121c91f81c0",
            "placeholder": "​",
            "style": "IPY_MODEL_619065f100fa480386e2c02a4332da11",
            "value": " 4.98G/4.98G [00:15&lt;00:00, 322MB/s]"
          }
        },
        "2515f50d58a84e08b8cfe53ac4b8caf9": {
          "model_module": "@jupyter-widgets/base",
          "model_name": "LayoutModel",
          "model_module_version": "1.2.0",
          "state": {
            "_model_module": "@jupyter-widgets/base",
            "_model_module_version": "1.2.0",
            "_model_name": "LayoutModel",
            "_view_count": null,
            "_view_module": "@jupyter-widgets/base",
            "_view_module_version": "1.2.0",
            "_view_name": "LayoutView",
            "align_content": null,
            "align_items": null,
            "align_self": null,
            "border": null,
            "bottom": null,
            "display": null,
            "flex": null,
            "flex_flow": null,
            "grid_area": null,
            "grid_auto_columns": null,
            "grid_auto_flow": null,
            "grid_auto_rows": null,
            "grid_column": null,
            "grid_gap": null,
            "grid_row": null,
            "grid_template_areas": null,
            "grid_template_columns": null,
            "grid_template_rows": null,
            "height": null,
            "justify_content": null,
            "justify_items": null,
            "left": null,
            "margin": null,
            "max_height": null,
            "max_width": null,
            "min_height": null,
            "min_width": null,
            "object_fit": null,
            "object_position": null,
            "order": null,
            "overflow": null,
            "overflow_x": null,
            "overflow_y": null,
            "padding": null,
            "right": null,
            "top": null,
            "visibility": null,
            "width": null
          }
        },
        "f3fae70cd0d24d5fa1e8a36cd4df8b44": {
          "model_module": "@jupyter-widgets/base",
          "model_name": "LayoutModel",
          "model_module_version": "1.2.0",
          "state": {
            "_model_module": "@jupyter-widgets/base",
            "_model_module_version": "1.2.0",
            "_model_name": "LayoutModel",
            "_view_count": null,
            "_view_module": "@jupyter-widgets/base",
            "_view_module_version": "1.2.0",
            "_view_name": "LayoutView",
            "align_content": null,
            "align_items": null,
            "align_self": null,
            "border": null,
            "bottom": null,
            "display": null,
            "flex": null,
            "flex_flow": null,
            "grid_area": null,
            "grid_auto_columns": null,
            "grid_auto_flow": null,
            "grid_auto_rows": null,
            "grid_column": null,
            "grid_gap": null,
            "grid_row": null,
            "grid_template_areas": null,
            "grid_template_columns": null,
            "grid_template_rows": null,
            "height": null,
            "justify_content": null,
            "justify_items": null,
            "left": null,
            "margin": null,
            "max_height": null,
            "max_width": null,
            "min_height": null,
            "min_width": null,
            "object_fit": null,
            "object_position": null,
            "order": null,
            "overflow": null,
            "overflow_x": null,
            "overflow_y": null,
            "padding": null,
            "right": null,
            "top": null,
            "visibility": null,
            "width": null
          }
        },
        "5fa558075cb4422896bdebd27011a29f": {
          "model_module": "@jupyter-widgets/controls",
          "model_name": "DescriptionStyleModel",
          "model_module_version": "1.5.0",
          "state": {
            "_model_module": "@jupyter-widgets/controls",
            "_model_module_version": "1.5.0",
            "_model_name": "DescriptionStyleModel",
            "_view_count": null,
            "_view_module": "@jupyter-widgets/base",
            "_view_module_version": "1.2.0",
            "_view_name": "StyleView",
            "description_width": ""
          }
        },
        "59736b97c804493aa88244b9e5611dde": {
          "model_module": "@jupyter-widgets/base",
          "model_name": "LayoutModel",
          "model_module_version": "1.2.0",
          "state": {
            "_model_module": "@jupyter-widgets/base",
            "_model_module_version": "1.2.0",
            "_model_name": "LayoutModel",
            "_view_count": null,
            "_view_module": "@jupyter-widgets/base",
            "_view_module_version": "1.2.0",
            "_view_name": "LayoutView",
            "align_content": null,
            "align_items": null,
            "align_self": null,
            "border": null,
            "bottom": null,
            "display": null,
            "flex": null,
            "flex_flow": null,
            "grid_area": null,
            "grid_auto_columns": null,
            "grid_auto_flow": null,
            "grid_auto_rows": null,
            "grid_column": null,
            "grid_gap": null,
            "grid_row": null,
            "grid_template_areas": null,
            "grid_template_columns": null,
            "grid_template_rows": null,
            "height": null,
            "justify_content": null,
            "justify_items": null,
            "left": null,
            "margin": null,
            "max_height": null,
            "max_width": null,
            "min_height": null,
            "min_width": null,
            "object_fit": null,
            "object_position": null,
            "order": null,
            "overflow": null,
            "overflow_x": null,
            "overflow_y": null,
            "padding": null,
            "right": null,
            "top": null,
            "visibility": null,
            "width": null
          }
        },
        "04cfa4dab6d54ab8a20633b05b532af1": {
          "model_module": "@jupyter-widgets/controls",
          "model_name": "ProgressStyleModel",
          "model_module_version": "1.5.0",
          "state": {
            "_model_module": "@jupyter-widgets/controls",
            "_model_module_version": "1.5.0",
            "_model_name": "ProgressStyleModel",
            "_view_count": null,
            "_view_module": "@jupyter-widgets/base",
            "_view_module_version": "1.2.0",
            "_view_name": "StyleView",
            "bar_color": null,
            "description_width": ""
          }
        },
        "38b4e4fb12ec40cdaac6b121c91f81c0": {
          "model_module": "@jupyter-widgets/base",
          "model_name": "LayoutModel",
          "model_module_version": "1.2.0",
          "state": {
            "_model_module": "@jupyter-widgets/base",
            "_model_module_version": "1.2.0",
            "_model_name": "LayoutModel",
            "_view_count": null,
            "_view_module": "@jupyter-widgets/base",
            "_view_module_version": "1.2.0",
            "_view_name": "LayoutView",
            "align_content": null,
            "align_items": null,
            "align_self": null,
            "border": null,
            "bottom": null,
            "display": null,
            "flex": null,
            "flex_flow": null,
            "grid_area": null,
            "grid_auto_columns": null,
            "grid_auto_flow": null,
            "grid_auto_rows": null,
            "grid_column": null,
            "grid_gap": null,
            "grid_row": null,
            "grid_template_areas": null,
            "grid_template_columns": null,
            "grid_template_rows": null,
            "height": null,
            "justify_content": null,
            "justify_items": null,
            "left": null,
            "margin": null,
            "max_height": null,
            "max_width": null,
            "min_height": null,
            "min_width": null,
            "object_fit": null,
            "object_position": null,
            "order": null,
            "overflow": null,
            "overflow_x": null,
            "overflow_y": null,
            "padding": null,
            "right": null,
            "top": null,
            "visibility": null,
            "width": null
          }
        },
        "619065f100fa480386e2c02a4332da11": {
          "model_module": "@jupyter-widgets/controls",
          "model_name": "DescriptionStyleModel",
          "model_module_version": "1.5.0",
          "state": {
            "_model_module": "@jupyter-widgets/controls",
            "_model_module_version": "1.5.0",
            "_model_name": "DescriptionStyleModel",
            "_view_count": null,
            "_view_module": "@jupyter-widgets/base",
            "_view_module_version": "1.2.0",
            "_view_name": "StyleView",
            "description_width": ""
          }
        },
        "1fdf1505de7c4df2b8813344567ab6c4": {
          "model_module": "@jupyter-widgets/controls",
          "model_name": "HBoxModel",
          "model_module_version": "1.5.0",
          "state": {
            "_dom_classes": [],
            "_model_module": "@jupyter-widgets/controls",
            "_model_module_version": "1.5.0",
            "_model_name": "HBoxModel",
            "_view_count": null,
            "_view_module": "@jupyter-widgets/controls",
            "_view_module_version": "1.5.0",
            "_view_name": "HBoxView",
            "box_style": "",
            "children": [
              "IPY_MODEL_499d6e4cdd714b16812f097c2dad5869",
              "IPY_MODEL_7aa8a2a26f554fffb710001e499753a3",
              "IPY_MODEL_79374434bdcf47849fdbf7aba4c5173c"
            ],
            "layout": "IPY_MODEL_616114ebdc7a49fba41de09a58cd1437"
          }
        },
        "499d6e4cdd714b16812f097c2dad5869": {
          "model_module": "@jupyter-widgets/controls",
          "model_name": "HTMLModel",
          "model_module_version": "1.5.0",
          "state": {
            "_dom_classes": [],
            "_model_module": "@jupyter-widgets/controls",
            "_model_module_version": "1.5.0",
            "_model_name": "HTMLModel",
            "_view_count": null,
            "_view_module": "@jupyter-widgets/controls",
            "_view_module_version": "1.5.0",
            "_view_name": "HTMLView",
            "description": "",
            "description_tooltip": null,
            "layout": "IPY_MODEL_4c007cd45c7b4480848f698e337f1881",
            "placeholder": "​",
            "style": "IPY_MODEL_360dce822e514ad28a3c3d607ea46a09",
            "value": "model-00003-of-00003.safetensors: 100%"
          }
        },
        "7aa8a2a26f554fffb710001e499753a3": {
          "model_module": "@jupyter-widgets/controls",
          "model_name": "FloatProgressModel",
          "model_module_version": "1.5.0",
          "state": {
            "_dom_classes": [],
            "_model_module": "@jupyter-widgets/controls",
            "_model_module_version": "1.5.0",
            "_model_name": "FloatProgressModel",
            "_view_count": null,
            "_view_module": "@jupyter-widgets/controls",
            "_view_module_version": "1.5.0",
            "_view_name": "ProgressView",
            "bar_style": "success",
            "description": "",
            "description_tooltip": null,
            "layout": "IPY_MODEL_e14d7a73622e48a4a663349c6802e07e",
            "max": 481381384,
            "min": 0,
            "orientation": "horizontal",
            "style": "IPY_MODEL_6e60a996d99d43e6b6bb5ddfe5faa63c",
            "value": 481381384
          }
        },
        "79374434bdcf47849fdbf7aba4c5173c": {
          "model_module": "@jupyter-widgets/controls",
          "model_name": "HTMLModel",
          "model_module_version": "1.5.0",
          "state": {
            "_dom_classes": [],
            "_model_module": "@jupyter-widgets/controls",
            "_model_module_version": "1.5.0",
            "_model_name": "HTMLModel",
            "_view_count": null,
            "_view_module": "@jupyter-widgets/controls",
            "_view_module_version": "1.5.0",
            "_view_name": "HTMLView",
            "description": "",
            "description_tooltip": null,
            "layout": "IPY_MODEL_71c201f206a0450fbca5f3c602adc4a4",
            "placeholder": "​",
            "style": "IPY_MODEL_a7945d179f9d428d880b56c4764a5ad1",
            "value": " 481M/481M [00:01&lt;00:00, 329MB/s]"
          }
        },
        "616114ebdc7a49fba41de09a58cd1437": {
          "model_module": "@jupyter-widgets/base",
          "model_name": "LayoutModel",
          "model_module_version": "1.2.0",
          "state": {
            "_model_module": "@jupyter-widgets/base",
            "_model_module_version": "1.2.0",
            "_model_name": "LayoutModel",
            "_view_count": null,
            "_view_module": "@jupyter-widgets/base",
            "_view_module_version": "1.2.0",
            "_view_name": "LayoutView",
            "align_content": null,
            "align_items": null,
            "align_self": null,
            "border": null,
            "bottom": null,
            "display": null,
            "flex": null,
            "flex_flow": null,
            "grid_area": null,
            "grid_auto_columns": null,
            "grid_auto_flow": null,
            "grid_auto_rows": null,
            "grid_column": null,
            "grid_gap": null,
            "grid_row": null,
            "grid_template_areas": null,
            "grid_template_columns": null,
            "grid_template_rows": null,
            "height": null,
            "justify_content": null,
            "justify_items": null,
            "left": null,
            "margin": null,
            "max_height": null,
            "max_width": null,
            "min_height": null,
            "min_width": null,
            "object_fit": null,
            "object_position": null,
            "order": null,
            "overflow": null,
            "overflow_x": null,
            "overflow_y": null,
            "padding": null,
            "right": null,
            "top": null,
            "visibility": null,
            "width": null
          }
        },
        "4c007cd45c7b4480848f698e337f1881": {
          "model_module": "@jupyter-widgets/base",
          "model_name": "LayoutModel",
          "model_module_version": "1.2.0",
          "state": {
            "_model_module": "@jupyter-widgets/base",
            "_model_module_version": "1.2.0",
            "_model_name": "LayoutModel",
            "_view_count": null,
            "_view_module": "@jupyter-widgets/base",
            "_view_module_version": "1.2.0",
            "_view_name": "LayoutView",
            "align_content": null,
            "align_items": null,
            "align_self": null,
            "border": null,
            "bottom": null,
            "display": null,
            "flex": null,
            "flex_flow": null,
            "grid_area": null,
            "grid_auto_columns": null,
            "grid_auto_flow": null,
            "grid_auto_rows": null,
            "grid_column": null,
            "grid_gap": null,
            "grid_row": null,
            "grid_template_areas": null,
            "grid_template_columns": null,
            "grid_template_rows": null,
            "height": null,
            "justify_content": null,
            "justify_items": null,
            "left": null,
            "margin": null,
            "max_height": null,
            "max_width": null,
            "min_height": null,
            "min_width": null,
            "object_fit": null,
            "object_position": null,
            "order": null,
            "overflow": null,
            "overflow_x": null,
            "overflow_y": null,
            "padding": null,
            "right": null,
            "top": null,
            "visibility": null,
            "width": null
          }
        },
        "360dce822e514ad28a3c3d607ea46a09": {
          "model_module": "@jupyter-widgets/controls",
          "model_name": "DescriptionStyleModel",
          "model_module_version": "1.5.0",
          "state": {
            "_model_module": "@jupyter-widgets/controls",
            "_model_module_version": "1.5.0",
            "_model_name": "DescriptionStyleModel",
            "_view_count": null,
            "_view_module": "@jupyter-widgets/base",
            "_view_module_version": "1.2.0",
            "_view_name": "StyleView",
            "description_width": ""
          }
        },
        "e14d7a73622e48a4a663349c6802e07e": {
          "model_module": "@jupyter-widgets/base",
          "model_name": "LayoutModel",
          "model_module_version": "1.2.0",
          "state": {
            "_model_module": "@jupyter-widgets/base",
            "_model_module_version": "1.2.0",
            "_model_name": "LayoutModel",
            "_view_count": null,
            "_view_module": "@jupyter-widgets/base",
            "_view_module_version": "1.2.0",
            "_view_name": "LayoutView",
            "align_content": null,
            "align_items": null,
            "align_self": null,
            "border": null,
            "bottom": null,
            "display": null,
            "flex": null,
            "flex_flow": null,
            "grid_area": null,
            "grid_auto_columns": null,
            "grid_auto_flow": null,
            "grid_auto_rows": null,
            "grid_column": null,
            "grid_gap": null,
            "grid_row": null,
            "grid_template_areas": null,
            "grid_template_columns": null,
            "grid_template_rows": null,
            "height": null,
            "justify_content": null,
            "justify_items": null,
            "left": null,
            "margin": null,
            "max_height": null,
            "max_width": null,
            "min_height": null,
            "min_width": null,
            "object_fit": null,
            "object_position": null,
            "order": null,
            "overflow": null,
            "overflow_x": null,
            "overflow_y": null,
            "padding": null,
            "right": null,
            "top": null,
            "visibility": null,
            "width": null
          }
        },
        "6e60a996d99d43e6b6bb5ddfe5faa63c": {
          "model_module": "@jupyter-widgets/controls",
          "model_name": "ProgressStyleModel",
          "model_module_version": "1.5.0",
          "state": {
            "_model_module": "@jupyter-widgets/controls",
            "_model_module_version": "1.5.0",
            "_model_name": "ProgressStyleModel",
            "_view_count": null,
            "_view_module": "@jupyter-widgets/base",
            "_view_module_version": "1.2.0",
            "_view_name": "StyleView",
            "bar_color": null,
            "description_width": ""
          }
        },
        "71c201f206a0450fbca5f3c602adc4a4": {
          "model_module": "@jupyter-widgets/base",
          "model_name": "LayoutModel",
          "model_module_version": "1.2.0",
          "state": {
            "_model_module": "@jupyter-widgets/base",
            "_model_module_version": "1.2.0",
            "_model_name": "LayoutModel",
            "_view_count": null,
            "_view_module": "@jupyter-widgets/base",
            "_view_module_version": "1.2.0",
            "_view_name": "LayoutView",
            "align_content": null,
            "align_items": null,
            "align_self": null,
            "border": null,
            "bottom": null,
            "display": null,
            "flex": null,
            "flex_flow": null,
            "grid_area": null,
            "grid_auto_columns": null,
            "grid_auto_flow": null,
            "grid_auto_rows": null,
            "grid_column": null,
            "grid_gap": null,
            "grid_row": null,
            "grid_template_areas": null,
            "grid_template_columns": null,
            "grid_template_rows": null,
            "height": null,
            "justify_content": null,
            "justify_items": null,
            "left": null,
            "margin": null,
            "max_height": null,
            "max_width": null,
            "min_height": null,
            "min_width": null,
            "object_fit": null,
            "object_position": null,
            "order": null,
            "overflow": null,
            "overflow_x": null,
            "overflow_y": null,
            "padding": null,
            "right": null,
            "top": null,
            "visibility": null,
            "width": null
          }
        },
        "a7945d179f9d428d880b56c4764a5ad1": {
          "model_module": "@jupyter-widgets/controls",
          "model_name": "DescriptionStyleModel",
          "model_module_version": "1.5.0",
          "state": {
            "_model_module": "@jupyter-widgets/controls",
            "_model_module_version": "1.5.0",
            "_model_name": "DescriptionStyleModel",
            "_view_count": null,
            "_view_module": "@jupyter-widgets/base",
            "_view_module_version": "1.2.0",
            "_view_name": "StyleView",
            "description_width": ""
          }
        },
        "e09838a9e1be49eca06f21cb7b008507": {
          "model_module": "@jupyter-widgets/controls",
          "model_name": "HBoxModel",
          "model_module_version": "1.5.0",
          "state": {
            "_dom_classes": [],
            "_model_module": "@jupyter-widgets/controls",
            "_model_module_version": "1.5.0",
            "_model_name": "HBoxModel",
            "_view_count": null,
            "_view_module": "@jupyter-widgets/controls",
            "_view_module_version": "1.5.0",
            "_view_name": "HBoxView",
            "box_style": "",
            "children": [
              "IPY_MODEL_1bbf7069d9db4acdbede4e225cef1ce2",
              "IPY_MODEL_301d817564174585b2415046bb80b730",
              "IPY_MODEL_9830fd5f3e18410c8d637b47138da117"
            ],
            "layout": "IPY_MODEL_4f5108b375ac463190828fb0ab1b57b8"
          }
        },
        "1bbf7069d9db4acdbede4e225cef1ce2": {
          "model_module": "@jupyter-widgets/controls",
          "model_name": "HTMLModel",
          "model_module_version": "1.5.0",
          "state": {
            "_dom_classes": [],
            "_model_module": "@jupyter-widgets/controls",
            "_model_module_version": "1.5.0",
            "_model_name": "HTMLModel",
            "_view_count": null,
            "_view_module": "@jupyter-widgets/controls",
            "_view_module_version": "1.5.0",
            "_view_name": "HTMLView",
            "description": "",
            "description_tooltip": null,
            "layout": "IPY_MODEL_5844292c99104831ac256f2320360925",
            "placeholder": "​",
            "style": "IPY_MODEL_6c1813ad40474038aa0db3b349587490",
            "value": "Loading checkpoint shards: 100%"
          }
        },
        "301d817564174585b2415046bb80b730": {
          "model_module": "@jupyter-widgets/controls",
          "model_name": "FloatProgressModel",
          "model_module_version": "1.5.0",
          "state": {
            "_dom_classes": [],
            "_model_module": "@jupyter-widgets/controls",
            "_model_module_version": "1.5.0",
            "_model_name": "FloatProgressModel",
            "_view_count": null,
            "_view_module": "@jupyter-widgets/controls",
            "_view_module_version": "1.5.0",
            "_view_name": "ProgressView",
            "bar_style": "success",
            "description": "",
            "description_tooltip": null,
            "layout": "IPY_MODEL_01c96c420105439cae4f2032709ea6ca",
            "max": 3,
            "min": 0,
            "orientation": "horizontal",
            "style": "IPY_MODEL_a0843f44d9b74391b019cd3f57bccf75",
            "value": 3
          }
        },
        "9830fd5f3e18410c8d637b47138da117": {
          "model_module": "@jupyter-widgets/controls",
          "model_name": "HTMLModel",
          "model_module_version": "1.5.0",
          "state": {
            "_dom_classes": [],
            "_model_module": "@jupyter-widgets/controls",
            "_model_module_version": "1.5.0",
            "_model_name": "HTMLModel",
            "_view_count": null,
            "_view_module": "@jupyter-widgets/controls",
            "_view_module_version": "1.5.0",
            "_view_name": "HTMLView",
            "description": "",
            "description_tooltip": null,
            "layout": "IPY_MODEL_55a8dd3c5fd24747ac0998f6b9fe791a",
            "placeholder": "​",
            "style": "IPY_MODEL_1f1da1e7dfe344dd87b26f15011f2527",
            "value": " 3/3 [00:03&lt;00:00,  1.03it/s]"
          }
        },
        "4f5108b375ac463190828fb0ab1b57b8": {
          "model_module": "@jupyter-widgets/base",
          "model_name": "LayoutModel",
          "model_module_version": "1.2.0",
          "state": {
            "_model_module": "@jupyter-widgets/base",
            "_model_module_version": "1.2.0",
            "_model_name": "LayoutModel",
            "_view_count": null,
            "_view_module": "@jupyter-widgets/base",
            "_view_module_version": "1.2.0",
            "_view_name": "LayoutView",
            "align_content": null,
            "align_items": null,
            "align_self": null,
            "border": null,
            "bottom": null,
            "display": null,
            "flex": null,
            "flex_flow": null,
            "grid_area": null,
            "grid_auto_columns": null,
            "grid_auto_flow": null,
            "grid_auto_rows": null,
            "grid_column": null,
            "grid_gap": null,
            "grid_row": null,
            "grid_template_areas": null,
            "grid_template_columns": null,
            "grid_template_rows": null,
            "height": null,
            "justify_content": null,
            "justify_items": null,
            "left": null,
            "margin": null,
            "max_height": null,
            "max_width": null,
            "min_height": null,
            "min_width": null,
            "object_fit": null,
            "object_position": null,
            "order": null,
            "overflow": null,
            "overflow_x": null,
            "overflow_y": null,
            "padding": null,
            "right": null,
            "top": null,
            "visibility": null,
            "width": null
          }
        },
        "5844292c99104831ac256f2320360925": {
          "model_module": "@jupyter-widgets/base",
          "model_name": "LayoutModel",
          "model_module_version": "1.2.0",
          "state": {
            "_model_module": "@jupyter-widgets/base",
            "_model_module_version": "1.2.0",
            "_model_name": "LayoutModel",
            "_view_count": null,
            "_view_module": "@jupyter-widgets/base",
            "_view_module_version": "1.2.0",
            "_view_name": "LayoutView",
            "align_content": null,
            "align_items": null,
            "align_self": null,
            "border": null,
            "bottom": null,
            "display": null,
            "flex": null,
            "flex_flow": null,
            "grid_area": null,
            "grid_auto_columns": null,
            "grid_auto_flow": null,
            "grid_auto_rows": null,
            "grid_column": null,
            "grid_gap": null,
            "grid_row": null,
            "grid_template_areas": null,
            "grid_template_columns": null,
            "grid_template_rows": null,
            "height": null,
            "justify_content": null,
            "justify_items": null,
            "left": null,
            "margin": null,
            "max_height": null,
            "max_width": null,
            "min_height": null,
            "min_width": null,
            "object_fit": null,
            "object_position": null,
            "order": null,
            "overflow": null,
            "overflow_x": null,
            "overflow_y": null,
            "padding": null,
            "right": null,
            "top": null,
            "visibility": null,
            "width": null
          }
        },
        "6c1813ad40474038aa0db3b349587490": {
          "model_module": "@jupyter-widgets/controls",
          "model_name": "DescriptionStyleModel",
          "model_module_version": "1.5.0",
          "state": {
            "_model_module": "@jupyter-widgets/controls",
            "_model_module_version": "1.5.0",
            "_model_name": "DescriptionStyleModel",
            "_view_count": null,
            "_view_module": "@jupyter-widgets/base",
            "_view_module_version": "1.2.0",
            "_view_name": "StyleView",
            "description_width": ""
          }
        },
        "01c96c420105439cae4f2032709ea6ca": {
          "model_module": "@jupyter-widgets/base",
          "model_name": "LayoutModel",
          "model_module_version": "1.2.0",
          "state": {
            "_model_module": "@jupyter-widgets/base",
            "_model_module_version": "1.2.0",
            "_model_name": "LayoutModel",
            "_view_count": null,
            "_view_module": "@jupyter-widgets/base",
            "_view_module_version": "1.2.0",
            "_view_name": "LayoutView",
            "align_content": null,
            "align_items": null,
            "align_self": null,
            "border": null,
            "bottom": null,
            "display": null,
            "flex": null,
            "flex_flow": null,
            "grid_area": null,
            "grid_auto_columns": null,
            "grid_auto_flow": null,
            "grid_auto_rows": null,
            "grid_column": null,
            "grid_gap": null,
            "grid_row": null,
            "grid_template_areas": null,
            "grid_template_columns": null,
            "grid_template_rows": null,
            "height": null,
            "justify_content": null,
            "justify_items": null,
            "left": null,
            "margin": null,
            "max_height": null,
            "max_width": null,
            "min_height": null,
            "min_width": null,
            "object_fit": null,
            "object_position": null,
            "order": null,
            "overflow": null,
            "overflow_x": null,
            "overflow_y": null,
            "padding": null,
            "right": null,
            "top": null,
            "visibility": null,
            "width": null
          }
        },
        "a0843f44d9b74391b019cd3f57bccf75": {
          "model_module": "@jupyter-widgets/controls",
          "model_name": "ProgressStyleModel",
          "model_module_version": "1.5.0",
          "state": {
            "_model_module": "@jupyter-widgets/controls",
            "_model_module_version": "1.5.0",
            "_model_name": "ProgressStyleModel",
            "_view_count": null,
            "_view_module": "@jupyter-widgets/base",
            "_view_module_version": "1.2.0",
            "_view_name": "StyleView",
            "bar_color": null,
            "description_width": ""
          }
        },
        "55a8dd3c5fd24747ac0998f6b9fe791a": {
          "model_module": "@jupyter-widgets/base",
          "model_name": "LayoutModel",
          "model_module_version": "1.2.0",
          "state": {
            "_model_module": "@jupyter-widgets/base",
            "_model_module_version": "1.2.0",
            "_model_name": "LayoutModel",
            "_view_count": null,
            "_view_module": "@jupyter-widgets/base",
            "_view_module_version": "1.2.0",
            "_view_name": "LayoutView",
            "align_content": null,
            "align_items": null,
            "align_self": null,
            "border": null,
            "bottom": null,
            "display": null,
            "flex": null,
            "flex_flow": null,
            "grid_area": null,
            "grid_auto_columns": null,
            "grid_auto_flow": null,
            "grid_auto_rows": null,
            "grid_column": null,
            "grid_gap": null,
            "grid_row": null,
            "grid_template_areas": null,
            "grid_template_columns": null,
            "grid_template_rows": null,
            "height": null,
            "justify_content": null,
            "justify_items": null,
            "left": null,
            "margin": null,
            "max_height": null,
            "max_width": null,
            "min_height": null,
            "min_width": null,
            "object_fit": null,
            "object_position": null,
            "order": null,
            "overflow": null,
            "overflow_x": null,
            "overflow_y": null,
            "padding": null,
            "right": null,
            "top": null,
            "visibility": null,
            "width": null
          }
        },
        "1f1da1e7dfe344dd87b26f15011f2527": {
          "model_module": "@jupyter-widgets/controls",
          "model_name": "DescriptionStyleModel",
          "model_module_version": "1.5.0",
          "state": {
            "_model_module": "@jupyter-widgets/controls",
            "_model_module_version": "1.5.0",
            "_model_name": "DescriptionStyleModel",
            "_view_count": null,
            "_view_module": "@jupyter-widgets/base",
            "_view_module_version": "1.2.0",
            "_view_name": "StyleView",
            "description_width": ""
          }
        },
        "594816d8d6ba4e849d6f7df103d0e60c": {
          "model_module": "@jupyter-widgets/controls",
          "model_name": "HBoxModel",
          "model_module_version": "1.5.0",
          "state": {
            "_dom_classes": [],
            "_model_module": "@jupyter-widgets/controls",
            "_model_module_version": "1.5.0",
            "_model_name": "HBoxModel",
            "_view_count": null,
            "_view_module": "@jupyter-widgets/controls",
            "_view_module_version": "1.5.0",
            "_view_name": "HBoxView",
            "box_style": "",
            "children": [
              "IPY_MODEL_ddd1eed540d842a495be9990cf5716c1",
              "IPY_MODEL_edfc8dd07a4e48cb98adea10032a7ab3",
              "IPY_MODEL_66544c3770944032aa45fb5d1d89073a"
            ],
            "layout": "IPY_MODEL_6e72a0b7edbb4e0296ac13e839f66594"
          }
        },
        "ddd1eed540d842a495be9990cf5716c1": {
          "model_module": "@jupyter-widgets/controls",
          "model_name": "HTMLModel",
          "model_module_version": "1.5.0",
          "state": {
            "_dom_classes": [],
            "_model_module": "@jupyter-widgets/controls",
            "_model_module_version": "1.5.0",
            "_model_name": "HTMLModel",
            "_view_count": null,
            "_view_module": "@jupyter-widgets/controls",
            "_view_module_version": "1.5.0",
            "_view_name": "HTMLView",
            "description": "",
            "description_tooltip": null,
            "layout": "IPY_MODEL_4c6ededd29e04aa09713b3f4bf7fb15b",
            "placeholder": "​",
            "style": "IPY_MODEL_f80e654aed0643c5b78e65daef945cff",
            "value": "generation_config.json: 100%"
          }
        },
        "edfc8dd07a4e48cb98adea10032a7ab3": {
          "model_module": "@jupyter-widgets/controls",
          "model_name": "FloatProgressModel",
          "model_module_version": "1.5.0",
          "state": {
            "_dom_classes": [],
            "_model_module": "@jupyter-widgets/controls",
            "_model_module_version": "1.5.0",
            "_model_name": "FloatProgressModel",
            "_view_count": null,
            "_view_module": "@jupyter-widgets/controls",
            "_view_module_version": "1.5.0",
            "_view_name": "ProgressView",
            "bar_style": "success",
            "description": "",
            "description_tooltip": null,
            "layout": "IPY_MODEL_74c89aa2a0ca45f0b72ad46ea96edef3",
            "max": 168,
            "min": 0,
            "orientation": "horizontal",
            "style": "IPY_MODEL_63f01dbd5a9446f992035fa92901af71",
            "value": 168
          }
        },
        "66544c3770944032aa45fb5d1d89073a": {
          "model_module": "@jupyter-widgets/controls",
          "model_name": "HTMLModel",
          "model_module_version": "1.5.0",
          "state": {
            "_dom_classes": [],
            "_model_module": "@jupyter-widgets/controls",
            "_model_module_version": "1.5.0",
            "_model_name": "HTMLModel",
            "_view_count": null,
            "_view_module": "@jupyter-widgets/controls",
            "_view_module_version": "1.5.0",
            "_view_name": "HTMLView",
            "description": "",
            "description_tooltip": null,
            "layout": "IPY_MODEL_65a7f7af398f4e82839204cc63cb1c13",
            "placeholder": "​",
            "style": "IPY_MODEL_d6c1091bbab94410835393b5c7a424b5",
            "value": " 168/168 [00:00&lt;00:00, 12.9kB/s]"
          }
        },
        "6e72a0b7edbb4e0296ac13e839f66594": {
          "model_module": "@jupyter-widgets/base",
          "model_name": "LayoutModel",
          "model_module_version": "1.2.0",
          "state": {
            "_model_module": "@jupyter-widgets/base",
            "_model_module_version": "1.2.0",
            "_model_name": "LayoutModel",
            "_view_count": null,
            "_view_module": "@jupyter-widgets/base",
            "_view_module_version": "1.2.0",
            "_view_name": "LayoutView",
            "align_content": null,
            "align_items": null,
            "align_self": null,
            "border": null,
            "bottom": null,
            "display": null,
            "flex": null,
            "flex_flow": null,
            "grid_area": null,
            "grid_auto_columns": null,
            "grid_auto_flow": null,
            "grid_auto_rows": null,
            "grid_column": null,
            "grid_gap": null,
            "grid_row": null,
            "grid_template_areas": null,
            "grid_template_columns": null,
            "grid_template_rows": null,
            "height": null,
            "justify_content": null,
            "justify_items": null,
            "left": null,
            "margin": null,
            "max_height": null,
            "max_width": null,
            "min_height": null,
            "min_width": null,
            "object_fit": null,
            "object_position": null,
            "order": null,
            "overflow": null,
            "overflow_x": null,
            "overflow_y": null,
            "padding": null,
            "right": null,
            "top": null,
            "visibility": null,
            "width": null
          }
        },
        "4c6ededd29e04aa09713b3f4bf7fb15b": {
          "model_module": "@jupyter-widgets/base",
          "model_name": "LayoutModel",
          "model_module_version": "1.2.0",
          "state": {
            "_model_module": "@jupyter-widgets/base",
            "_model_module_version": "1.2.0",
            "_model_name": "LayoutModel",
            "_view_count": null,
            "_view_module": "@jupyter-widgets/base",
            "_view_module_version": "1.2.0",
            "_view_name": "LayoutView",
            "align_content": null,
            "align_items": null,
            "align_self": null,
            "border": null,
            "bottom": null,
            "display": null,
            "flex": null,
            "flex_flow": null,
            "grid_area": null,
            "grid_auto_columns": null,
            "grid_auto_flow": null,
            "grid_auto_rows": null,
            "grid_column": null,
            "grid_gap": null,
            "grid_row": null,
            "grid_template_areas": null,
            "grid_template_columns": null,
            "grid_template_rows": null,
            "height": null,
            "justify_content": null,
            "justify_items": null,
            "left": null,
            "margin": null,
            "max_height": null,
            "max_width": null,
            "min_height": null,
            "min_width": null,
            "object_fit": null,
            "object_position": null,
            "order": null,
            "overflow": null,
            "overflow_x": null,
            "overflow_y": null,
            "padding": null,
            "right": null,
            "top": null,
            "visibility": null,
            "width": null
          }
        },
        "f80e654aed0643c5b78e65daef945cff": {
          "model_module": "@jupyter-widgets/controls",
          "model_name": "DescriptionStyleModel",
          "model_module_version": "1.5.0",
          "state": {
            "_model_module": "@jupyter-widgets/controls",
            "_model_module_version": "1.5.0",
            "_model_name": "DescriptionStyleModel",
            "_view_count": null,
            "_view_module": "@jupyter-widgets/base",
            "_view_module_version": "1.2.0",
            "_view_name": "StyleView",
            "description_width": ""
          }
        },
        "74c89aa2a0ca45f0b72ad46ea96edef3": {
          "model_module": "@jupyter-widgets/base",
          "model_name": "LayoutModel",
          "model_module_version": "1.2.0",
          "state": {
            "_model_module": "@jupyter-widgets/base",
            "_model_module_version": "1.2.0",
            "_model_name": "LayoutModel",
            "_view_count": null,
            "_view_module": "@jupyter-widgets/base",
            "_view_module_version": "1.2.0",
            "_view_name": "LayoutView",
            "align_content": null,
            "align_items": null,
            "align_self": null,
            "border": null,
            "bottom": null,
            "display": null,
            "flex": null,
            "flex_flow": null,
            "grid_area": null,
            "grid_auto_columns": null,
            "grid_auto_flow": null,
            "grid_auto_rows": null,
            "grid_column": null,
            "grid_gap": null,
            "grid_row": null,
            "grid_template_areas": null,
            "grid_template_columns": null,
            "grid_template_rows": null,
            "height": null,
            "justify_content": null,
            "justify_items": null,
            "left": null,
            "margin": null,
            "max_height": null,
            "max_width": null,
            "min_height": null,
            "min_width": null,
            "object_fit": null,
            "object_position": null,
            "order": null,
            "overflow": null,
            "overflow_x": null,
            "overflow_y": null,
            "padding": null,
            "right": null,
            "top": null,
            "visibility": null,
            "width": null
          }
        },
        "63f01dbd5a9446f992035fa92901af71": {
          "model_module": "@jupyter-widgets/controls",
          "model_name": "ProgressStyleModel",
          "model_module_version": "1.5.0",
          "state": {
            "_model_module": "@jupyter-widgets/controls",
            "_model_module_version": "1.5.0",
            "_model_name": "ProgressStyleModel",
            "_view_count": null,
            "_view_module": "@jupyter-widgets/base",
            "_view_module_version": "1.2.0",
            "_view_name": "StyleView",
            "bar_color": null,
            "description_width": ""
          }
        },
        "65a7f7af398f4e82839204cc63cb1c13": {
          "model_module": "@jupyter-widgets/base",
          "model_name": "LayoutModel",
          "model_module_version": "1.2.0",
          "state": {
            "_model_module": "@jupyter-widgets/base",
            "_model_module_version": "1.2.0",
            "_model_name": "LayoutModel",
            "_view_count": null,
            "_view_module": "@jupyter-widgets/base",
            "_view_module_version": "1.2.0",
            "_view_name": "LayoutView",
            "align_content": null,
            "align_items": null,
            "align_self": null,
            "border": null,
            "bottom": null,
            "display": null,
            "flex": null,
            "flex_flow": null,
            "grid_area": null,
            "grid_auto_columns": null,
            "grid_auto_flow": null,
            "grid_auto_rows": null,
            "grid_column": null,
            "grid_gap": null,
            "grid_row": null,
            "grid_template_areas": null,
            "grid_template_columns": null,
            "grid_template_rows": null,
            "height": null,
            "justify_content": null,
            "justify_items": null,
            "left": null,
            "margin": null,
            "max_height": null,
            "max_width": null,
            "min_height": null,
            "min_width": null,
            "object_fit": null,
            "object_position": null,
            "order": null,
            "overflow": null,
            "overflow_x": null,
            "overflow_y": null,
            "padding": null,
            "right": null,
            "top": null,
            "visibility": null,
            "width": null
          }
        },
        "d6c1091bbab94410835393b5c7a424b5": {
          "model_module": "@jupyter-widgets/controls",
          "model_name": "DescriptionStyleModel",
          "model_module_version": "1.5.0",
          "state": {
            "_model_module": "@jupyter-widgets/controls",
            "_model_module_version": "1.5.0",
            "_model_name": "DescriptionStyleModel",
            "_view_count": null,
            "_view_module": "@jupyter-widgets/base",
            "_view_module_version": "1.2.0",
            "_view_name": "StyleView",
            "description_width": ""
          }
        },
        "331d9ae6138b42b2b70bafc653307063": {
          "model_module": "@jupyter-widgets/controls",
          "model_name": "HBoxModel",
          "model_module_version": "1.5.0",
          "state": {
            "_dom_classes": [],
            "_model_module": "@jupyter-widgets/controls",
            "_model_module_version": "1.5.0",
            "_model_name": "HBoxModel",
            "_view_count": null,
            "_view_module": "@jupyter-widgets/controls",
            "_view_module_version": "1.5.0",
            "_view_name": "HBoxView",
            "box_style": "",
            "children": [
              "IPY_MODEL_7fee6c22dd6b4f3d923006a41b38ef75",
              "IPY_MODEL_190a75ddd0004cbea9196104638127a9",
              "IPY_MODEL_2c7ff670e05040b0ba525740a50aa957"
            ],
            "layout": "IPY_MODEL_bc39b1e9612c4b0aa0df800da9d48597"
          }
        },
        "7fee6c22dd6b4f3d923006a41b38ef75": {
          "model_module": "@jupyter-widgets/controls",
          "model_name": "HTMLModel",
          "model_module_version": "1.5.0",
          "state": {
            "_dom_classes": [],
            "_model_module": "@jupyter-widgets/controls",
            "_model_module_version": "1.5.0",
            "_model_name": "HTMLModel",
            "_view_count": null,
            "_view_module": "@jupyter-widgets/controls",
            "_view_module_version": "1.5.0",
            "_view_name": "HTMLView",
            "description": "",
            "description_tooltip": null,
            "layout": "IPY_MODEL_1ad9a5a4da3e46d892b6b333f32a379f",
            "placeholder": "​",
            "style": "IPY_MODEL_d38ad49d7d8640868e768e44109ab276",
            "value": "tokenizer_config.json: 100%"
          }
        },
        "190a75ddd0004cbea9196104638127a9": {
          "model_module": "@jupyter-widgets/controls",
          "model_name": "FloatProgressModel",
          "model_module_version": "1.5.0",
          "state": {
            "_dom_classes": [],
            "_model_module": "@jupyter-widgets/controls",
            "_model_module_version": "1.5.0",
            "_model_name": "FloatProgressModel",
            "_view_count": null,
            "_view_module": "@jupyter-widgets/controls",
            "_view_module_version": "1.5.0",
            "_view_name": "ProgressView",
            "bar_style": "success",
            "description": "",
            "description_tooltip": null,
            "layout": "IPY_MODEL_137db88119c74b058523d8b354fd7623",
            "max": 46379,
            "min": 0,
            "orientation": "horizontal",
            "style": "IPY_MODEL_51a30074a8b746d5a632639110328279",
            "value": 46379
          }
        },
        "2c7ff670e05040b0ba525740a50aa957": {
          "model_module": "@jupyter-widgets/controls",
          "model_name": "HTMLModel",
          "model_module_version": "1.5.0",
          "state": {
            "_dom_classes": [],
            "_model_module": "@jupyter-widgets/controls",
            "_model_module_version": "1.5.0",
            "_model_name": "HTMLModel",
            "_view_count": null,
            "_view_module": "@jupyter-widgets/controls",
            "_view_module_version": "1.5.0",
            "_view_name": "HTMLView",
            "description": "",
            "description_tooltip": null,
            "layout": "IPY_MODEL_4b64ae6fa27d4e3b945103e74e407885",
            "placeholder": "​",
            "style": "IPY_MODEL_1e9c9398fc85451f82f958119bc2774a",
            "value": " 46.4k/46.4k [00:00&lt;00:00, 3.50MB/s]"
          }
        },
        "bc39b1e9612c4b0aa0df800da9d48597": {
          "model_module": "@jupyter-widgets/base",
          "model_name": "LayoutModel",
          "model_module_version": "1.2.0",
          "state": {
            "_model_module": "@jupyter-widgets/base",
            "_model_module_version": "1.2.0",
            "_model_name": "LayoutModel",
            "_view_count": null,
            "_view_module": "@jupyter-widgets/base",
            "_view_module_version": "1.2.0",
            "_view_name": "LayoutView",
            "align_content": null,
            "align_items": null,
            "align_self": null,
            "border": null,
            "bottom": null,
            "display": null,
            "flex": null,
            "flex_flow": null,
            "grid_area": null,
            "grid_auto_columns": null,
            "grid_auto_flow": null,
            "grid_auto_rows": null,
            "grid_column": null,
            "grid_gap": null,
            "grid_row": null,
            "grid_template_areas": null,
            "grid_template_columns": null,
            "grid_template_rows": null,
            "height": null,
            "justify_content": null,
            "justify_items": null,
            "left": null,
            "margin": null,
            "max_height": null,
            "max_width": null,
            "min_height": null,
            "min_width": null,
            "object_fit": null,
            "object_position": null,
            "order": null,
            "overflow": null,
            "overflow_x": null,
            "overflow_y": null,
            "padding": null,
            "right": null,
            "top": null,
            "visibility": null,
            "width": null
          }
        },
        "1ad9a5a4da3e46d892b6b333f32a379f": {
          "model_module": "@jupyter-widgets/base",
          "model_name": "LayoutModel",
          "model_module_version": "1.2.0",
          "state": {
            "_model_module": "@jupyter-widgets/base",
            "_model_module_version": "1.2.0",
            "_model_name": "LayoutModel",
            "_view_count": null,
            "_view_module": "@jupyter-widgets/base",
            "_view_module_version": "1.2.0",
            "_view_name": "LayoutView",
            "align_content": null,
            "align_items": null,
            "align_self": null,
            "border": null,
            "bottom": null,
            "display": null,
            "flex": null,
            "flex_flow": null,
            "grid_area": null,
            "grid_auto_columns": null,
            "grid_auto_flow": null,
            "grid_auto_rows": null,
            "grid_column": null,
            "grid_gap": null,
            "grid_row": null,
            "grid_template_areas": null,
            "grid_template_columns": null,
            "grid_template_rows": null,
            "height": null,
            "justify_content": null,
            "justify_items": null,
            "left": null,
            "margin": null,
            "max_height": null,
            "max_width": null,
            "min_height": null,
            "min_width": null,
            "object_fit": null,
            "object_position": null,
            "order": null,
            "overflow": null,
            "overflow_x": null,
            "overflow_y": null,
            "padding": null,
            "right": null,
            "top": null,
            "visibility": null,
            "width": null
          }
        },
        "d38ad49d7d8640868e768e44109ab276": {
          "model_module": "@jupyter-widgets/controls",
          "model_name": "DescriptionStyleModel",
          "model_module_version": "1.5.0",
          "state": {
            "_model_module": "@jupyter-widgets/controls",
            "_model_module_version": "1.5.0",
            "_model_name": "DescriptionStyleModel",
            "_view_count": null,
            "_view_module": "@jupyter-widgets/base",
            "_view_module_version": "1.2.0",
            "_view_name": "StyleView",
            "description_width": ""
          }
        },
        "137db88119c74b058523d8b354fd7623": {
          "model_module": "@jupyter-widgets/base",
          "model_name": "LayoutModel",
          "model_module_version": "1.2.0",
          "state": {
            "_model_module": "@jupyter-widgets/base",
            "_model_module_version": "1.2.0",
            "_model_name": "LayoutModel",
            "_view_count": null,
            "_view_module": "@jupyter-widgets/base",
            "_view_module_version": "1.2.0",
            "_view_name": "LayoutView",
            "align_content": null,
            "align_items": null,
            "align_self": null,
            "border": null,
            "bottom": null,
            "display": null,
            "flex": null,
            "flex_flow": null,
            "grid_area": null,
            "grid_auto_columns": null,
            "grid_auto_flow": null,
            "grid_auto_rows": null,
            "grid_column": null,
            "grid_gap": null,
            "grid_row": null,
            "grid_template_areas": null,
            "grid_template_columns": null,
            "grid_template_rows": null,
            "height": null,
            "justify_content": null,
            "justify_items": null,
            "left": null,
            "margin": null,
            "max_height": null,
            "max_width": null,
            "min_height": null,
            "min_width": null,
            "object_fit": null,
            "object_position": null,
            "order": null,
            "overflow": null,
            "overflow_x": null,
            "overflow_y": null,
            "padding": null,
            "right": null,
            "top": null,
            "visibility": null,
            "width": null
          }
        },
        "51a30074a8b746d5a632639110328279": {
          "model_module": "@jupyter-widgets/controls",
          "model_name": "ProgressStyleModel",
          "model_module_version": "1.5.0",
          "state": {
            "_model_module": "@jupyter-widgets/controls",
            "_model_module_version": "1.5.0",
            "_model_name": "ProgressStyleModel",
            "_view_count": null,
            "_view_module": "@jupyter-widgets/base",
            "_view_module_version": "1.2.0",
            "_view_name": "StyleView",
            "bar_color": null,
            "description_width": ""
          }
        },
        "4b64ae6fa27d4e3b945103e74e407885": {
          "model_module": "@jupyter-widgets/base",
          "model_name": "LayoutModel",
          "model_module_version": "1.2.0",
          "state": {
            "_model_module": "@jupyter-widgets/base",
            "_model_module_version": "1.2.0",
            "_model_name": "LayoutModel",
            "_view_count": null,
            "_view_module": "@jupyter-widgets/base",
            "_view_module_version": "1.2.0",
            "_view_name": "LayoutView",
            "align_content": null,
            "align_items": null,
            "align_self": null,
            "border": null,
            "bottom": null,
            "display": null,
            "flex": null,
            "flex_flow": null,
            "grid_area": null,
            "grid_auto_columns": null,
            "grid_auto_flow": null,
            "grid_auto_rows": null,
            "grid_column": null,
            "grid_gap": null,
            "grid_row": null,
            "grid_template_areas": null,
            "grid_template_columns": null,
            "grid_template_rows": null,
            "height": null,
            "justify_content": null,
            "justify_items": null,
            "left": null,
            "margin": null,
            "max_height": null,
            "max_width": null,
            "min_height": null,
            "min_width": null,
            "object_fit": null,
            "object_position": null,
            "order": null,
            "overflow": null,
            "overflow_x": null,
            "overflow_y": null,
            "padding": null,
            "right": null,
            "top": null,
            "visibility": null,
            "width": null
          }
        },
        "1e9c9398fc85451f82f958119bc2774a": {
          "model_module": "@jupyter-widgets/controls",
          "model_name": "DescriptionStyleModel",
          "model_module_version": "1.5.0",
          "state": {
            "_model_module": "@jupyter-widgets/controls",
            "_model_module_version": "1.5.0",
            "_model_name": "DescriptionStyleModel",
            "_view_count": null,
            "_view_module": "@jupyter-widgets/base",
            "_view_module_version": "1.2.0",
            "_view_name": "StyleView",
            "description_width": ""
          }
        },
        "6a6338be2faf42118f654b668e2f67b9": {
          "model_module": "@jupyter-widgets/controls",
          "model_name": "HBoxModel",
          "model_module_version": "1.5.0",
          "state": {
            "_dom_classes": [],
            "_model_module": "@jupyter-widgets/controls",
            "_model_module_version": "1.5.0",
            "_model_name": "HBoxModel",
            "_view_count": null,
            "_view_module": "@jupyter-widgets/controls",
            "_view_module_version": "1.5.0",
            "_view_name": "HBoxView",
            "box_style": "",
            "children": [
              "IPY_MODEL_64c69ab50ff4427ba8c311c8c1ab66b3",
              "IPY_MODEL_9415caf8d9834336a5c10a4128fd27b7",
              "IPY_MODEL_3a98ebc0eda148479e08521ba5744c73"
            ],
            "layout": "IPY_MODEL_3c22da52ef24454ea86d77a0af82eabb"
          }
        },
        "64c69ab50ff4427ba8c311c8c1ab66b3": {
          "model_module": "@jupyter-widgets/controls",
          "model_name": "HTMLModel",
          "model_module_version": "1.5.0",
          "state": {
            "_dom_classes": [],
            "_model_module": "@jupyter-widgets/controls",
            "_model_module_version": "1.5.0",
            "_model_name": "HTMLModel",
            "_view_count": null,
            "_view_module": "@jupyter-widgets/controls",
            "_view_module_version": "1.5.0",
            "_view_name": "HTMLView",
            "description": "",
            "description_tooltip": null,
            "layout": "IPY_MODEL_d13db7aec17a41b0a5a086bb1aeafc35",
            "placeholder": "​",
            "style": "IPY_MODEL_f2d372e1409b4507b48bd367ce6377e8",
            "value": "tokenizer.model: 100%"
          }
        },
        "9415caf8d9834336a5c10a4128fd27b7": {
          "model_module": "@jupyter-widgets/controls",
          "model_name": "FloatProgressModel",
          "model_module_version": "1.5.0",
          "state": {
            "_dom_classes": [],
            "_model_module": "@jupyter-widgets/controls",
            "_model_module_version": "1.5.0",
            "_model_name": "FloatProgressModel",
            "_view_count": null,
            "_view_module": "@jupyter-widgets/controls",
            "_view_module_version": "1.5.0",
            "_view_name": "ProgressView",
            "bar_style": "success",
            "description": "",
            "description_tooltip": null,
            "layout": "IPY_MODEL_71cb09810c3d44719495323ce01bdbcf",
            "max": 4241003,
            "min": 0,
            "orientation": "horizontal",
            "style": "IPY_MODEL_d31abd3816de4bd5900537202aa27112",
            "value": 4241003
          }
        },
        "3a98ebc0eda148479e08521ba5744c73": {
          "model_module": "@jupyter-widgets/controls",
          "model_name": "HTMLModel",
          "model_module_version": "1.5.0",
          "state": {
            "_dom_classes": [],
            "_model_module": "@jupyter-widgets/controls",
            "_model_module_version": "1.5.0",
            "_model_name": "HTMLModel",
            "_view_count": null,
            "_view_module": "@jupyter-widgets/controls",
            "_view_module_version": "1.5.0",
            "_view_name": "HTMLView",
            "description": "",
            "description_tooltip": null,
            "layout": "IPY_MODEL_7f12757d09ed410cb916195eac13f688",
            "placeholder": "​",
            "style": "IPY_MODEL_cce915d5a0c84274b03655faa4996495",
            "value": " 4.24M/4.24M [00:00&lt;00:00, 165MB/s]"
          }
        },
        "3c22da52ef24454ea86d77a0af82eabb": {
          "model_module": "@jupyter-widgets/base",
          "model_name": "LayoutModel",
          "model_module_version": "1.2.0",
          "state": {
            "_model_module": "@jupyter-widgets/base",
            "_model_module_version": "1.2.0",
            "_model_name": "LayoutModel",
            "_view_count": null,
            "_view_module": "@jupyter-widgets/base",
            "_view_module_version": "1.2.0",
            "_view_name": "LayoutView",
            "align_content": null,
            "align_items": null,
            "align_self": null,
            "border": null,
            "bottom": null,
            "display": null,
            "flex": null,
            "flex_flow": null,
            "grid_area": null,
            "grid_auto_columns": null,
            "grid_auto_flow": null,
            "grid_auto_rows": null,
            "grid_column": null,
            "grid_gap": null,
            "grid_row": null,
            "grid_template_areas": null,
            "grid_template_columns": null,
            "grid_template_rows": null,
            "height": null,
            "justify_content": null,
            "justify_items": null,
            "left": null,
            "margin": null,
            "max_height": null,
            "max_width": null,
            "min_height": null,
            "min_width": null,
            "object_fit": null,
            "object_position": null,
            "order": null,
            "overflow": null,
            "overflow_x": null,
            "overflow_y": null,
            "padding": null,
            "right": null,
            "top": null,
            "visibility": null,
            "width": null
          }
        },
        "d13db7aec17a41b0a5a086bb1aeafc35": {
          "model_module": "@jupyter-widgets/base",
          "model_name": "LayoutModel",
          "model_module_version": "1.2.0",
          "state": {
            "_model_module": "@jupyter-widgets/base",
            "_model_module_version": "1.2.0",
            "_model_name": "LayoutModel",
            "_view_count": null,
            "_view_module": "@jupyter-widgets/base",
            "_view_module_version": "1.2.0",
            "_view_name": "LayoutView",
            "align_content": null,
            "align_items": null,
            "align_self": null,
            "border": null,
            "bottom": null,
            "display": null,
            "flex": null,
            "flex_flow": null,
            "grid_area": null,
            "grid_auto_columns": null,
            "grid_auto_flow": null,
            "grid_auto_rows": null,
            "grid_column": null,
            "grid_gap": null,
            "grid_row": null,
            "grid_template_areas": null,
            "grid_template_columns": null,
            "grid_template_rows": null,
            "height": null,
            "justify_content": null,
            "justify_items": null,
            "left": null,
            "margin": null,
            "max_height": null,
            "max_width": null,
            "min_height": null,
            "min_width": null,
            "object_fit": null,
            "object_position": null,
            "order": null,
            "overflow": null,
            "overflow_x": null,
            "overflow_y": null,
            "padding": null,
            "right": null,
            "top": null,
            "visibility": null,
            "width": null
          }
        },
        "f2d372e1409b4507b48bd367ce6377e8": {
          "model_module": "@jupyter-widgets/controls",
          "model_name": "DescriptionStyleModel",
          "model_module_version": "1.5.0",
          "state": {
            "_model_module": "@jupyter-widgets/controls",
            "_model_module_version": "1.5.0",
            "_model_name": "DescriptionStyleModel",
            "_view_count": null,
            "_view_module": "@jupyter-widgets/base",
            "_view_module_version": "1.2.0",
            "_view_name": "StyleView",
            "description_width": ""
          }
        },
        "71cb09810c3d44719495323ce01bdbcf": {
          "model_module": "@jupyter-widgets/base",
          "model_name": "LayoutModel",
          "model_module_version": "1.2.0",
          "state": {
            "_model_module": "@jupyter-widgets/base",
            "_model_module_version": "1.2.0",
            "_model_name": "LayoutModel",
            "_view_count": null,
            "_view_module": "@jupyter-widgets/base",
            "_view_module_version": "1.2.0",
            "_view_name": "LayoutView",
            "align_content": null,
            "align_items": null,
            "align_self": null,
            "border": null,
            "bottom": null,
            "display": null,
            "flex": null,
            "flex_flow": null,
            "grid_area": null,
            "grid_auto_columns": null,
            "grid_auto_flow": null,
            "grid_auto_rows": null,
            "grid_column": null,
            "grid_gap": null,
            "grid_row": null,
            "grid_template_areas": null,
            "grid_template_columns": null,
            "grid_template_rows": null,
            "height": null,
            "justify_content": null,
            "justify_items": null,
            "left": null,
            "margin": null,
            "max_height": null,
            "max_width": null,
            "min_height": null,
            "min_width": null,
            "object_fit": null,
            "object_position": null,
            "order": null,
            "overflow": null,
            "overflow_x": null,
            "overflow_y": null,
            "padding": null,
            "right": null,
            "top": null,
            "visibility": null,
            "width": null
          }
        },
        "d31abd3816de4bd5900537202aa27112": {
          "model_module": "@jupyter-widgets/controls",
          "model_name": "ProgressStyleModel",
          "model_module_version": "1.5.0",
          "state": {
            "_model_module": "@jupyter-widgets/controls",
            "_model_module_version": "1.5.0",
            "_model_name": "ProgressStyleModel",
            "_view_count": null,
            "_view_module": "@jupyter-widgets/base",
            "_view_module_version": "1.2.0",
            "_view_name": "StyleView",
            "bar_color": null,
            "description_width": ""
          }
        },
        "7f12757d09ed410cb916195eac13f688": {
          "model_module": "@jupyter-widgets/base",
          "model_name": "LayoutModel",
          "model_module_version": "1.2.0",
          "state": {
            "_model_module": "@jupyter-widgets/base",
            "_model_module_version": "1.2.0",
            "_model_name": "LayoutModel",
            "_view_count": null,
            "_view_module": "@jupyter-widgets/base",
            "_view_module_version": "1.2.0",
            "_view_name": "LayoutView",
            "align_content": null,
            "align_items": null,
            "align_self": null,
            "border": null,
            "bottom": null,
            "display": null,
            "flex": null,
            "flex_flow": null,
            "grid_area": null,
            "grid_auto_columns": null,
            "grid_auto_flow": null,
            "grid_auto_rows": null,
            "grid_column": null,
            "grid_gap": null,
            "grid_row": null,
            "grid_template_areas": null,
            "grid_template_columns": null,
            "grid_template_rows": null,
            "height": null,
            "justify_content": null,
            "justify_items": null,
            "left": null,
            "margin": null,
            "max_height": null,
            "max_width": null,
            "min_height": null,
            "min_width": null,
            "object_fit": null,
            "object_position": null,
            "order": null,
            "overflow": null,
            "overflow_x": null,
            "overflow_y": null,
            "padding": null,
            "right": null,
            "top": null,
            "visibility": null,
            "width": null
          }
        },
        "cce915d5a0c84274b03655faa4996495": {
          "model_module": "@jupyter-widgets/controls",
          "model_name": "DescriptionStyleModel",
          "model_module_version": "1.5.0",
          "state": {
            "_model_module": "@jupyter-widgets/controls",
            "_model_module_version": "1.5.0",
            "_model_name": "DescriptionStyleModel",
            "_view_count": null,
            "_view_module": "@jupyter-widgets/base",
            "_view_module_version": "1.2.0",
            "_view_name": "StyleView",
            "description_width": ""
          }
        },
        "e4dd3f14c7a74dd2b458d313ab180225": {
          "model_module": "@jupyter-widgets/controls",
          "model_name": "HBoxModel",
          "model_module_version": "1.5.0",
          "state": {
            "_dom_classes": [],
            "_model_module": "@jupyter-widgets/controls",
            "_model_module_version": "1.5.0",
            "_model_name": "HBoxModel",
            "_view_count": null,
            "_view_module": "@jupyter-widgets/controls",
            "_view_module_version": "1.5.0",
            "_view_name": "HBoxView",
            "box_style": "",
            "children": [
              "IPY_MODEL_fa132660a1f040c7b0696aa19c3a6572",
              "IPY_MODEL_5c761be644a74780a5aacee1f7fa07fb",
              "IPY_MODEL_aa06ac58701b4a2eb837da55717dc9f4"
            ],
            "layout": "IPY_MODEL_d8fb6fd6146c4062ae11529081dee066"
          }
        },
        "fa132660a1f040c7b0696aa19c3a6572": {
          "model_module": "@jupyter-widgets/controls",
          "model_name": "HTMLModel",
          "model_module_version": "1.5.0",
          "state": {
            "_dom_classes": [],
            "_model_module": "@jupyter-widgets/controls",
            "_model_module_version": "1.5.0",
            "_model_name": "HTMLModel",
            "_view_count": null,
            "_view_module": "@jupyter-widgets/controls",
            "_view_module_version": "1.5.0",
            "_view_name": "HTMLView",
            "description": "",
            "description_tooltip": null,
            "layout": "IPY_MODEL_925331c37cb748cb8eccb3f308d75953",
            "placeholder": "​",
            "style": "IPY_MODEL_5daaea82bfe14379af1c3f1eb2ea94b5",
            "value": "tokenizer.json: 100%"
          }
        },
        "5c761be644a74780a5aacee1f7fa07fb": {
          "model_module": "@jupyter-widgets/controls",
          "model_name": "FloatProgressModel",
          "model_module_version": "1.5.0",
          "state": {
            "_dom_classes": [],
            "_model_module": "@jupyter-widgets/controls",
            "_model_module_version": "1.5.0",
            "_model_name": "FloatProgressModel",
            "_view_count": null,
            "_view_module": "@jupyter-widgets/controls",
            "_view_module_version": "1.5.0",
            "_view_name": "ProgressView",
            "bar_style": "success",
            "description": "",
            "description_tooltip": null,
            "layout": "IPY_MODEL_ff28e26716a5430383c812f7185f83ce",
            "max": 17525357,
            "min": 0,
            "orientation": "horizontal",
            "style": "IPY_MODEL_e2aa5e31496f40299292a2e733143180",
            "value": 17525357
          }
        },
        "aa06ac58701b4a2eb837da55717dc9f4": {
          "model_module": "@jupyter-widgets/controls",
          "model_name": "HTMLModel",
          "model_module_version": "1.5.0",
          "state": {
            "_dom_classes": [],
            "_model_module": "@jupyter-widgets/controls",
            "_model_module_version": "1.5.0",
            "_model_name": "HTMLModel",
            "_view_count": null,
            "_view_module": "@jupyter-widgets/controls",
            "_view_module_version": "1.5.0",
            "_view_name": "HTMLView",
            "description": "",
            "description_tooltip": null,
            "layout": "IPY_MODEL_347e12659a614779ad908ea04875113f",
            "placeholder": "​",
            "style": "IPY_MODEL_2427bc14e4644345abf76541f0a0196b",
            "value": " 17.5M/17.5M [00:00&lt;00:00, 246MB/s]"
          }
        },
        "d8fb6fd6146c4062ae11529081dee066": {
          "model_module": "@jupyter-widgets/base",
          "model_name": "LayoutModel",
          "model_module_version": "1.2.0",
          "state": {
            "_model_module": "@jupyter-widgets/base",
            "_model_module_version": "1.2.0",
            "_model_name": "LayoutModel",
            "_view_count": null,
            "_view_module": "@jupyter-widgets/base",
            "_view_module_version": "1.2.0",
            "_view_name": "LayoutView",
            "align_content": null,
            "align_items": null,
            "align_self": null,
            "border": null,
            "bottom": null,
            "display": null,
            "flex": null,
            "flex_flow": null,
            "grid_area": null,
            "grid_auto_columns": null,
            "grid_auto_flow": null,
            "grid_auto_rows": null,
            "grid_column": null,
            "grid_gap": null,
            "grid_row": null,
            "grid_template_areas": null,
            "grid_template_columns": null,
            "grid_template_rows": null,
            "height": null,
            "justify_content": null,
            "justify_items": null,
            "left": null,
            "margin": null,
            "max_height": null,
            "max_width": null,
            "min_height": null,
            "min_width": null,
            "object_fit": null,
            "object_position": null,
            "order": null,
            "overflow": null,
            "overflow_x": null,
            "overflow_y": null,
            "padding": null,
            "right": null,
            "top": null,
            "visibility": null,
            "width": null
          }
        },
        "925331c37cb748cb8eccb3f308d75953": {
          "model_module": "@jupyter-widgets/base",
          "model_name": "LayoutModel",
          "model_module_version": "1.2.0",
          "state": {
            "_model_module": "@jupyter-widgets/base",
            "_model_module_version": "1.2.0",
            "_model_name": "LayoutModel",
            "_view_count": null,
            "_view_module": "@jupyter-widgets/base",
            "_view_module_version": "1.2.0",
            "_view_name": "LayoutView",
            "align_content": null,
            "align_items": null,
            "align_self": null,
            "border": null,
            "bottom": null,
            "display": null,
            "flex": null,
            "flex_flow": null,
            "grid_area": null,
            "grid_auto_columns": null,
            "grid_auto_flow": null,
            "grid_auto_rows": null,
            "grid_column": null,
            "grid_gap": null,
            "grid_row": null,
            "grid_template_areas": null,
            "grid_template_columns": null,
            "grid_template_rows": null,
            "height": null,
            "justify_content": null,
            "justify_items": null,
            "left": null,
            "margin": null,
            "max_height": null,
            "max_width": null,
            "min_height": null,
            "min_width": null,
            "object_fit": null,
            "object_position": null,
            "order": null,
            "overflow": null,
            "overflow_x": null,
            "overflow_y": null,
            "padding": null,
            "right": null,
            "top": null,
            "visibility": null,
            "width": null
          }
        },
        "5daaea82bfe14379af1c3f1eb2ea94b5": {
          "model_module": "@jupyter-widgets/controls",
          "model_name": "DescriptionStyleModel",
          "model_module_version": "1.5.0",
          "state": {
            "_model_module": "@jupyter-widgets/controls",
            "_model_module_version": "1.5.0",
            "_model_name": "DescriptionStyleModel",
            "_view_count": null,
            "_view_module": "@jupyter-widgets/base",
            "_view_module_version": "1.2.0",
            "_view_name": "StyleView",
            "description_width": ""
          }
        },
        "ff28e26716a5430383c812f7185f83ce": {
          "model_module": "@jupyter-widgets/base",
          "model_name": "LayoutModel",
          "model_module_version": "1.2.0",
          "state": {
            "_model_module": "@jupyter-widgets/base",
            "_model_module_version": "1.2.0",
            "_model_name": "LayoutModel",
            "_view_count": null,
            "_view_module": "@jupyter-widgets/base",
            "_view_module_version": "1.2.0",
            "_view_name": "LayoutView",
            "align_content": null,
            "align_items": null,
            "align_self": null,
            "border": null,
            "bottom": null,
            "display": null,
            "flex": null,
            "flex_flow": null,
            "grid_area": null,
            "grid_auto_columns": null,
            "grid_auto_flow": null,
            "grid_auto_rows": null,
            "grid_column": null,
            "grid_gap": null,
            "grid_row": null,
            "grid_template_areas": null,
            "grid_template_columns": null,
            "grid_template_rows": null,
            "height": null,
            "justify_content": null,
            "justify_items": null,
            "left": null,
            "margin": null,
            "max_height": null,
            "max_width": null,
            "min_height": null,
            "min_width": null,
            "object_fit": null,
            "object_position": null,
            "order": null,
            "overflow": null,
            "overflow_x": null,
            "overflow_y": null,
            "padding": null,
            "right": null,
            "top": null,
            "visibility": null,
            "width": null
          }
        },
        "e2aa5e31496f40299292a2e733143180": {
          "model_module": "@jupyter-widgets/controls",
          "model_name": "ProgressStyleModel",
          "model_module_version": "1.5.0",
          "state": {
            "_model_module": "@jupyter-widgets/controls",
            "_model_module_version": "1.5.0",
            "_model_name": "ProgressStyleModel",
            "_view_count": null,
            "_view_module": "@jupyter-widgets/base",
            "_view_module_version": "1.2.0",
            "_view_name": "StyleView",
            "bar_color": null,
            "description_width": ""
          }
        },
        "347e12659a614779ad908ea04875113f": {
          "model_module": "@jupyter-widgets/base",
          "model_name": "LayoutModel",
          "model_module_version": "1.2.0",
          "state": {
            "_model_module": "@jupyter-widgets/base",
            "_model_module_version": "1.2.0",
            "_model_name": "LayoutModel",
            "_view_count": null,
            "_view_module": "@jupyter-widgets/base",
            "_view_module_version": "1.2.0",
            "_view_name": "LayoutView",
            "align_content": null,
            "align_items": null,
            "align_self": null,
            "border": null,
            "bottom": null,
            "display": null,
            "flex": null,
            "flex_flow": null,
            "grid_area": null,
            "grid_auto_columns": null,
            "grid_auto_flow": null,
            "grid_auto_rows": null,
            "grid_column": null,
            "grid_gap": null,
            "grid_row": null,
            "grid_template_areas": null,
            "grid_template_columns": null,
            "grid_template_rows": null,
            "height": null,
            "justify_content": null,
            "justify_items": null,
            "left": null,
            "margin": null,
            "max_height": null,
            "max_width": null,
            "min_height": null,
            "min_width": null,
            "object_fit": null,
            "object_position": null,
            "order": null,
            "overflow": null,
            "overflow_x": null,
            "overflow_y": null,
            "padding": null,
            "right": null,
            "top": null,
            "visibility": null,
            "width": null
          }
        },
        "2427bc14e4644345abf76541f0a0196b": {
          "model_module": "@jupyter-widgets/controls",
          "model_name": "DescriptionStyleModel",
          "model_module_version": "1.5.0",
          "state": {
            "_model_module": "@jupyter-widgets/controls",
            "_model_module_version": "1.5.0",
            "_model_name": "DescriptionStyleModel",
            "_view_count": null,
            "_view_module": "@jupyter-widgets/base",
            "_view_module_version": "1.2.0",
            "_view_name": "StyleView",
            "description_width": ""
          }
        },
        "bdfebbe74f17431585ba6fc6b15152fd": {
          "model_module": "@jupyter-widgets/controls",
          "model_name": "HBoxModel",
          "model_module_version": "1.5.0",
          "state": {
            "_dom_classes": [],
            "_model_module": "@jupyter-widgets/controls",
            "_model_module_version": "1.5.0",
            "_model_name": "HBoxModel",
            "_view_count": null,
            "_view_module": "@jupyter-widgets/controls",
            "_view_module_version": "1.5.0",
            "_view_name": "HBoxView",
            "box_style": "",
            "children": [
              "IPY_MODEL_fe2ad3368f7f48c483a56c16eba0ec94",
              "IPY_MODEL_9b570ebe5cbf41d0bd8b6c9881117902",
              "IPY_MODEL_760f69b4c63f49c5be3824486dd7e1b4"
            ],
            "layout": "IPY_MODEL_7636b66bff294031ae382af76c931bc2"
          }
        },
        "fe2ad3368f7f48c483a56c16eba0ec94": {
          "model_module": "@jupyter-widgets/controls",
          "model_name": "HTMLModel",
          "model_module_version": "1.5.0",
          "state": {
            "_dom_classes": [],
            "_model_module": "@jupyter-widgets/controls",
            "_model_module_version": "1.5.0",
            "_model_name": "HTMLModel",
            "_view_count": null,
            "_view_module": "@jupyter-widgets/controls",
            "_view_module_version": "1.5.0",
            "_view_name": "HTMLView",
            "description": "",
            "description_tooltip": null,
            "layout": "IPY_MODEL_14bb2e9ef99e4193909b46933b41392b",
            "placeholder": "​",
            "style": "IPY_MODEL_275955404f8e4ede8f91855999becd78",
            "value": "special_tokens_map.json: 100%"
          }
        },
        "9b570ebe5cbf41d0bd8b6c9881117902": {
          "model_module": "@jupyter-widgets/controls",
          "model_name": "FloatProgressModel",
          "model_module_version": "1.5.0",
          "state": {
            "_dom_classes": [],
            "_model_module": "@jupyter-widgets/controls",
            "_model_module_version": "1.5.0",
            "_model_name": "FloatProgressModel",
            "_view_count": null,
            "_view_module": "@jupyter-widgets/controls",
            "_view_module_version": "1.5.0",
            "_view_name": "ProgressView",
            "bar_style": "success",
            "description": "",
            "description_tooltip": null,
            "layout": "IPY_MODEL_224de41e231a4cc8aa9e3a39d335920a",
            "max": 636,
            "min": 0,
            "orientation": "horizontal",
            "style": "IPY_MODEL_648b80c4a8384c789eb682a30ca8ed80",
            "value": 636
          }
        },
        "760f69b4c63f49c5be3824486dd7e1b4": {
          "model_module": "@jupyter-widgets/controls",
          "model_name": "HTMLModel",
          "model_module_version": "1.5.0",
          "state": {
            "_dom_classes": [],
            "_model_module": "@jupyter-widgets/controls",
            "_model_module_version": "1.5.0",
            "_model_name": "HTMLModel",
            "_view_count": null,
            "_view_module": "@jupyter-widgets/controls",
            "_view_module_version": "1.5.0",
            "_view_name": "HTMLView",
            "description": "",
            "description_tooltip": null,
            "layout": "IPY_MODEL_9c3eb0fda1bf45aa96177e04f12f98ca",
            "placeholder": "​",
            "style": "IPY_MODEL_0d9238eacc704614b625519feb093b0a",
            "value": " 636/636 [00:00&lt;00:00, 53.6kB/s]"
          }
        },
        "7636b66bff294031ae382af76c931bc2": {
          "model_module": "@jupyter-widgets/base",
          "model_name": "LayoutModel",
          "model_module_version": "1.2.0",
          "state": {
            "_model_module": "@jupyter-widgets/base",
            "_model_module_version": "1.2.0",
            "_model_name": "LayoutModel",
            "_view_count": null,
            "_view_module": "@jupyter-widgets/base",
            "_view_module_version": "1.2.0",
            "_view_name": "LayoutView",
            "align_content": null,
            "align_items": null,
            "align_self": null,
            "border": null,
            "bottom": null,
            "display": null,
            "flex": null,
            "flex_flow": null,
            "grid_area": null,
            "grid_auto_columns": null,
            "grid_auto_flow": null,
            "grid_auto_rows": null,
            "grid_column": null,
            "grid_gap": null,
            "grid_row": null,
            "grid_template_areas": null,
            "grid_template_columns": null,
            "grid_template_rows": null,
            "height": null,
            "justify_content": null,
            "justify_items": null,
            "left": null,
            "margin": null,
            "max_height": null,
            "max_width": null,
            "min_height": null,
            "min_width": null,
            "object_fit": null,
            "object_position": null,
            "order": null,
            "overflow": null,
            "overflow_x": null,
            "overflow_y": null,
            "padding": null,
            "right": null,
            "top": null,
            "visibility": null,
            "width": null
          }
        },
        "14bb2e9ef99e4193909b46933b41392b": {
          "model_module": "@jupyter-widgets/base",
          "model_name": "LayoutModel",
          "model_module_version": "1.2.0",
          "state": {
            "_model_module": "@jupyter-widgets/base",
            "_model_module_version": "1.2.0",
            "_model_name": "LayoutModel",
            "_view_count": null,
            "_view_module": "@jupyter-widgets/base",
            "_view_module_version": "1.2.0",
            "_view_name": "LayoutView",
            "align_content": null,
            "align_items": null,
            "align_self": null,
            "border": null,
            "bottom": null,
            "display": null,
            "flex": null,
            "flex_flow": null,
            "grid_area": null,
            "grid_auto_columns": null,
            "grid_auto_flow": null,
            "grid_auto_rows": null,
            "grid_column": null,
            "grid_gap": null,
            "grid_row": null,
            "grid_template_areas": null,
            "grid_template_columns": null,
            "grid_template_rows": null,
            "height": null,
            "justify_content": null,
            "justify_items": null,
            "left": null,
            "margin": null,
            "max_height": null,
            "max_width": null,
            "min_height": null,
            "min_width": null,
            "object_fit": null,
            "object_position": null,
            "order": null,
            "overflow": null,
            "overflow_x": null,
            "overflow_y": null,
            "padding": null,
            "right": null,
            "top": null,
            "visibility": null,
            "width": null
          }
        },
        "275955404f8e4ede8f91855999becd78": {
          "model_module": "@jupyter-widgets/controls",
          "model_name": "DescriptionStyleModel",
          "model_module_version": "1.5.0",
          "state": {
            "_model_module": "@jupyter-widgets/controls",
            "_model_module_version": "1.5.0",
            "_model_name": "DescriptionStyleModel",
            "_view_count": null,
            "_view_module": "@jupyter-widgets/base",
            "_view_module_version": "1.2.0",
            "_view_name": "StyleView",
            "description_width": ""
          }
        },
        "224de41e231a4cc8aa9e3a39d335920a": {
          "model_module": "@jupyter-widgets/base",
          "model_name": "LayoutModel",
          "model_module_version": "1.2.0",
          "state": {
            "_model_module": "@jupyter-widgets/base",
            "_model_module_version": "1.2.0",
            "_model_name": "LayoutModel",
            "_view_count": null,
            "_view_module": "@jupyter-widgets/base",
            "_view_module_version": "1.2.0",
            "_view_name": "LayoutView",
            "align_content": null,
            "align_items": null,
            "align_self": null,
            "border": null,
            "bottom": null,
            "display": null,
            "flex": null,
            "flex_flow": null,
            "grid_area": null,
            "grid_auto_columns": null,
            "grid_auto_flow": null,
            "grid_auto_rows": null,
            "grid_column": null,
            "grid_gap": null,
            "grid_row": null,
            "grid_template_areas": null,
            "grid_template_columns": null,
            "grid_template_rows": null,
            "height": null,
            "justify_content": null,
            "justify_items": null,
            "left": null,
            "margin": null,
            "max_height": null,
            "max_width": null,
            "min_height": null,
            "min_width": null,
            "object_fit": null,
            "object_position": null,
            "order": null,
            "overflow": null,
            "overflow_x": null,
            "overflow_y": null,
            "padding": null,
            "right": null,
            "top": null,
            "visibility": null,
            "width": null
          }
        },
        "648b80c4a8384c789eb682a30ca8ed80": {
          "model_module": "@jupyter-widgets/controls",
          "model_name": "ProgressStyleModel",
          "model_module_version": "1.5.0",
          "state": {
            "_model_module": "@jupyter-widgets/controls",
            "_model_module_version": "1.5.0",
            "_model_name": "ProgressStyleModel",
            "_view_count": null,
            "_view_module": "@jupyter-widgets/base",
            "_view_module_version": "1.2.0",
            "_view_name": "StyleView",
            "bar_color": null,
            "description_width": ""
          }
        },
        "9c3eb0fda1bf45aa96177e04f12f98ca": {
          "model_module": "@jupyter-widgets/base",
          "model_name": "LayoutModel",
          "model_module_version": "1.2.0",
          "state": {
            "_model_module": "@jupyter-widgets/base",
            "_model_module_version": "1.2.0",
            "_model_name": "LayoutModel",
            "_view_count": null,
            "_view_module": "@jupyter-widgets/base",
            "_view_module_version": "1.2.0",
            "_view_name": "LayoutView",
            "align_content": null,
            "align_items": null,
            "align_self": null,
            "border": null,
            "bottom": null,
            "display": null,
            "flex": null,
            "flex_flow": null,
            "grid_area": null,
            "grid_auto_columns": null,
            "grid_auto_flow": null,
            "grid_auto_rows": null,
            "grid_column": null,
            "grid_gap": null,
            "grid_row": null,
            "grid_template_areas": null,
            "grid_template_columns": null,
            "grid_template_rows": null,
            "height": null,
            "justify_content": null,
            "justify_items": null,
            "left": null,
            "margin": null,
            "max_height": null,
            "max_width": null,
            "min_height": null,
            "min_width": null,
            "object_fit": null,
            "object_position": null,
            "order": null,
            "overflow": null,
            "overflow_x": null,
            "overflow_y": null,
            "padding": null,
            "right": null,
            "top": null,
            "visibility": null,
            "width": null
          }
        },
        "0d9238eacc704614b625519feb093b0a": {
          "model_module": "@jupyter-widgets/controls",
          "model_name": "DescriptionStyleModel",
          "model_module_version": "1.5.0",
          "state": {
            "_model_module": "@jupyter-widgets/controls",
            "_model_module_version": "1.5.0",
            "_model_name": "DescriptionStyleModel",
            "_view_count": null,
            "_view_module": "@jupyter-widgets/base",
            "_view_module_version": "1.2.0",
            "_view_name": "StyleView",
            "description_width": ""
          }
        },
        "32c953dbbcd7483f8cbd7f08a9e29d87": {
          "model_module": "@jupyter-widgets/controls",
          "model_name": "HBoxModel",
          "model_module_version": "1.5.0",
          "state": {
            "_dom_classes": [],
            "_model_module": "@jupyter-widgets/controls",
            "_model_module_version": "1.5.0",
            "_model_name": "HBoxModel",
            "_view_count": null,
            "_view_module": "@jupyter-widgets/controls",
            "_view_module_version": "1.5.0",
            "_view_name": "HBoxView",
            "box_style": "",
            "children": [
              "IPY_MODEL_af078e24313d462999c977efab40810c",
              "IPY_MODEL_c0ee69209825416c8fcef19023195541",
              "IPY_MODEL_dfac15a0e9dd439192fc9087f343ea8e"
            ],
            "layout": "IPY_MODEL_ba77f434edc04112855c6dec56477fdc"
          }
        },
        "af078e24313d462999c977efab40810c": {
          "model_module": "@jupyter-widgets/controls",
          "model_name": "HTMLModel",
          "model_module_version": "1.5.0",
          "state": {
            "_dom_classes": [],
            "_model_module": "@jupyter-widgets/controls",
            "_model_module_version": "1.5.0",
            "_model_name": "HTMLModel",
            "_view_count": null,
            "_view_module": "@jupyter-widgets/controls",
            "_view_module_version": "1.5.0",
            "_view_name": "HTMLView",
            "description": "",
            "description_tooltip": null,
            "layout": "IPY_MODEL_3b3b0302b57f4519a7795562e3335387",
            "placeholder": "​",
            "style": "IPY_MODEL_457918769b9d4613b71180d2dc3450d1",
            "value": "params.npz: 100%"
          }
        },
        "c0ee69209825416c8fcef19023195541": {
          "model_module": "@jupyter-widgets/controls",
          "model_name": "FloatProgressModel",
          "model_module_version": "1.5.0",
          "state": {
            "_dom_classes": [],
            "_model_module": "@jupyter-widgets/controls",
            "_model_module_version": "1.5.0",
            "_model_name": "FloatProgressModel",
            "_view_count": null,
            "_view_module": "@jupyter-widgets/controls",
            "_view_module_version": "1.5.0",
            "_view_name": "ProgressView",
            "bar_style": "success",
            "description": "",
            "description_tooltip": null,
            "layout": "IPY_MODEL_279dc4b1a16048fd90e1861324e7df82",
            "max": 302131416,
            "min": 0,
            "orientation": "horizontal",
            "style": "IPY_MODEL_11e0fc981871431cb5709b6b8429511c",
            "value": 302131416
          }
        },
        "dfac15a0e9dd439192fc9087f343ea8e": {
          "model_module": "@jupyter-widgets/controls",
          "model_name": "HTMLModel",
          "model_module_version": "1.5.0",
          "state": {
            "_dom_classes": [],
            "_model_module": "@jupyter-widgets/controls",
            "_model_module_version": "1.5.0",
            "_model_name": "HTMLModel",
            "_view_count": null,
            "_view_module": "@jupyter-widgets/controls",
            "_view_module_version": "1.5.0",
            "_view_name": "HTMLView",
            "description": "",
            "description_tooltip": null,
            "layout": "IPY_MODEL_e06a5084ad3143b285cf8b725bdcec46",
            "placeholder": "​",
            "style": "IPY_MODEL_18770e2e5dd444d4a09555131b5e500c",
            "value": " 302M/302M [00:00&lt;00:00, 374MB/s]"
          }
        },
        "ba77f434edc04112855c6dec56477fdc": {
          "model_module": "@jupyter-widgets/base",
          "model_name": "LayoutModel",
          "model_module_version": "1.2.0",
          "state": {
            "_model_module": "@jupyter-widgets/base",
            "_model_module_version": "1.2.0",
            "_model_name": "LayoutModel",
            "_view_count": null,
            "_view_module": "@jupyter-widgets/base",
            "_view_module_version": "1.2.0",
            "_view_name": "LayoutView",
            "align_content": null,
            "align_items": null,
            "align_self": null,
            "border": null,
            "bottom": null,
            "display": null,
            "flex": null,
            "flex_flow": null,
            "grid_area": null,
            "grid_auto_columns": null,
            "grid_auto_flow": null,
            "grid_auto_rows": null,
            "grid_column": null,
            "grid_gap": null,
            "grid_row": null,
            "grid_template_areas": null,
            "grid_template_columns": null,
            "grid_template_rows": null,
            "height": null,
            "justify_content": null,
            "justify_items": null,
            "left": null,
            "margin": null,
            "max_height": null,
            "max_width": null,
            "min_height": null,
            "min_width": null,
            "object_fit": null,
            "object_position": null,
            "order": null,
            "overflow": null,
            "overflow_x": null,
            "overflow_y": null,
            "padding": null,
            "right": null,
            "top": null,
            "visibility": null,
            "width": null
          }
        },
        "3b3b0302b57f4519a7795562e3335387": {
          "model_module": "@jupyter-widgets/base",
          "model_name": "LayoutModel",
          "model_module_version": "1.2.0",
          "state": {
            "_model_module": "@jupyter-widgets/base",
            "_model_module_version": "1.2.0",
            "_model_name": "LayoutModel",
            "_view_count": null,
            "_view_module": "@jupyter-widgets/base",
            "_view_module_version": "1.2.0",
            "_view_name": "LayoutView",
            "align_content": null,
            "align_items": null,
            "align_self": null,
            "border": null,
            "bottom": null,
            "display": null,
            "flex": null,
            "flex_flow": null,
            "grid_area": null,
            "grid_auto_columns": null,
            "grid_auto_flow": null,
            "grid_auto_rows": null,
            "grid_column": null,
            "grid_gap": null,
            "grid_row": null,
            "grid_template_areas": null,
            "grid_template_columns": null,
            "grid_template_rows": null,
            "height": null,
            "justify_content": null,
            "justify_items": null,
            "left": null,
            "margin": null,
            "max_height": null,
            "max_width": null,
            "min_height": null,
            "min_width": null,
            "object_fit": null,
            "object_position": null,
            "order": null,
            "overflow": null,
            "overflow_x": null,
            "overflow_y": null,
            "padding": null,
            "right": null,
            "top": null,
            "visibility": null,
            "width": null
          }
        },
        "457918769b9d4613b71180d2dc3450d1": {
          "model_module": "@jupyter-widgets/controls",
          "model_name": "DescriptionStyleModel",
          "model_module_version": "1.5.0",
          "state": {
            "_model_module": "@jupyter-widgets/controls",
            "_model_module_version": "1.5.0",
            "_model_name": "DescriptionStyleModel",
            "_view_count": null,
            "_view_module": "@jupyter-widgets/base",
            "_view_module_version": "1.2.0",
            "_view_name": "StyleView",
            "description_width": ""
          }
        },
        "279dc4b1a16048fd90e1861324e7df82": {
          "model_module": "@jupyter-widgets/base",
          "model_name": "LayoutModel",
          "model_module_version": "1.2.0",
          "state": {
            "_model_module": "@jupyter-widgets/base",
            "_model_module_version": "1.2.0",
            "_model_name": "LayoutModel",
            "_view_count": null,
            "_view_module": "@jupyter-widgets/base",
            "_view_module_version": "1.2.0",
            "_view_name": "LayoutView",
            "align_content": null,
            "align_items": null,
            "align_self": null,
            "border": null,
            "bottom": null,
            "display": null,
            "flex": null,
            "flex_flow": null,
            "grid_area": null,
            "grid_auto_columns": null,
            "grid_auto_flow": null,
            "grid_auto_rows": null,
            "grid_column": null,
            "grid_gap": null,
            "grid_row": null,
            "grid_template_areas": null,
            "grid_template_columns": null,
            "grid_template_rows": null,
            "height": null,
            "justify_content": null,
            "justify_items": null,
            "left": null,
            "margin": null,
            "max_height": null,
            "max_width": null,
            "min_height": null,
            "min_width": null,
            "object_fit": null,
            "object_position": null,
            "order": null,
            "overflow": null,
            "overflow_x": null,
            "overflow_y": null,
            "padding": null,
            "right": null,
            "top": null,
            "visibility": null,
            "width": null
          }
        },
        "11e0fc981871431cb5709b6b8429511c": {
          "model_module": "@jupyter-widgets/controls",
          "model_name": "ProgressStyleModel",
          "model_module_version": "1.5.0",
          "state": {
            "_model_module": "@jupyter-widgets/controls",
            "_model_module_version": "1.5.0",
            "_model_name": "ProgressStyleModel",
            "_view_count": null,
            "_view_module": "@jupyter-widgets/base",
            "_view_module_version": "1.2.0",
            "_view_name": "StyleView",
            "bar_color": null,
            "description_width": ""
          }
        },
        "e06a5084ad3143b285cf8b725bdcec46": {
          "model_module": "@jupyter-widgets/base",
          "model_name": "LayoutModel",
          "model_module_version": "1.2.0",
          "state": {
            "_model_module": "@jupyter-widgets/base",
            "_model_module_version": "1.2.0",
            "_model_name": "LayoutModel",
            "_view_count": null,
            "_view_module": "@jupyter-widgets/base",
            "_view_module_version": "1.2.0",
            "_view_name": "LayoutView",
            "align_content": null,
            "align_items": null,
            "align_self": null,
            "border": null,
            "bottom": null,
            "display": null,
            "flex": null,
            "flex_flow": null,
            "grid_area": null,
            "grid_auto_columns": null,
            "grid_auto_flow": null,
            "grid_auto_rows": null,
            "grid_column": null,
            "grid_gap": null,
            "grid_row": null,
            "grid_template_areas": null,
            "grid_template_columns": null,
            "grid_template_rows": null,
            "height": null,
            "justify_content": null,
            "justify_items": null,
            "left": null,
            "margin": null,
            "max_height": null,
            "max_width": null,
            "min_height": null,
            "min_width": null,
            "object_fit": null,
            "object_position": null,
            "order": null,
            "overflow": null,
            "overflow_x": null,
            "overflow_y": null,
            "padding": null,
            "right": null,
            "top": null,
            "visibility": null,
            "width": null
          }
        },
        "18770e2e5dd444d4a09555131b5e500c": {
          "model_module": "@jupyter-widgets/controls",
          "model_name": "DescriptionStyleModel",
          "model_module_version": "1.5.0",
          "state": {
            "_model_module": "@jupyter-widgets/controls",
            "_model_module_version": "1.5.0",
            "_model_name": "DescriptionStyleModel",
            "_view_count": null,
            "_view_module": "@jupyter-widgets/base",
            "_view_module_version": "1.2.0",
            "_view_name": "StyleView",
            "description_width": ""
          }
        }
      }
    }
  },
  "nbformat": 4,
  "nbformat_minor": 0
}