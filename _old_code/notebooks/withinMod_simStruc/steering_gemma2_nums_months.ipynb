{
  "cells": [
    {
      "cell_type": "markdown",
      "metadata": {
        "id": "kUYRF57KNxrL"
      },
      "source": [
        "# setup"
      ]
    },
    {
      "cell_type": "code",
      "execution_count": null,
      "metadata": {
        "id": "lQ0BRnvvZjjU"
      },
      "outputs": [],
      "source": [
        "%%capture\n",
        "# %pip install sae-lens\n",
        "%pip install umap-learn # cant use with transformelns?"
      ]
    },
    {
      "cell_type": "code",
      "execution_count": null,
      "metadata": {
        "id": "-S2-hpbiQrfa"
      },
      "outputs": [],
      "source": [
        "# import pdb"
      ]
    },
    {
      "cell_type": "code",
      "execution_count": null,
      "metadata": {
        "id": "4H-vBfRa1pOo"
      },
      "outputs": [],
      "source": [
        "import pickle\n",
        "import numpy as np\n",
        "\n",
        "import torch\n",
        "import matplotlib.pyplot as plt\n",
        "\n",
        "# from sae_lens import SAE\n",
        "\n",
        "from torch import nn, Tensor\n",
        "# from jaxtyping import Float, Int\n",
        "from typing import Optional, Callable, Union, List, Tuple\n",
        "\n",
        "# from datasets import load_dataset"
      ]
    },
    {
      "cell_type": "code",
      "execution_count": null,
      "metadata": {
        "id": "yUWzqfKmaRXj"
      },
      "outputs": [],
      "source": [
        "device = \"cuda\" if torch.cuda.is_available() else \"cpu\""
      ]
    },
    {
      "cell_type": "markdown",
      "metadata": {
        "id": "YOYUhykrUbI8"
      },
      "source": [
        "## corr fns"
      ]
    },
    {
      "cell_type": "code",
      "execution_count": null,
      "metadata": {
        "id": "SaotL1OHcZ3_"
      },
      "outputs": [],
      "source": [
        "def batched_correlation(reshaped_activations_A, reshaped_activations_B, batch_size=100):\n",
        "    # Ensure tensors are on GPU\n",
        "    if torch.cuda.is_available():\n",
        "        reshaped_activations_A = reshaped_activations_A.to('cuda')\n",
        "        reshaped_activations_B = reshaped_activations_B.to('cuda')\n",
        "\n",
        "    # Normalize columns of A\n",
        "    mean_A = reshaped_activations_A.mean(dim=0, keepdim=True)\n",
        "    std_A = reshaped_activations_A.std(dim=0, keepdim=True)\n",
        "    normalized_A = (reshaped_activations_A - mean_A) / (std_A + 1e-8)  # Avoid division by zero\n",
        "\n",
        "    # Normalize columns of B\n",
        "    mean_B = reshaped_activations_B.mean(dim=0, keepdim=True)\n",
        "    std_B = reshaped_activations_B.std(dim=0, keepdim=True)\n",
        "    normalized_B = (reshaped_activations_B - mean_B) / (std_B + 1e-8)  # Avoid division by zero\n",
        "\n",
        "    num_batches = (normalized_B.shape[1] + batch_size - 1) // batch_size\n",
        "    max_values = []\n",
        "    max_indices = []\n",
        "\n",
        "    for batch in range(num_batches):\n",
        "        start = batch * batch_size\n",
        "        end = min(start + batch_size, normalized_B.shape[1])\n",
        "        batch_corr_matrix = torch.matmul(normalized_A.t(), normalized_B[:, start:end]) / normalized_A.shape[0]\n",
        "        max_val, max_idx = batch_corr_matrix.max(dim=0)\n",
        "        max_values.append(max_val)\n",
        "        # max_indices.append(max_idx + start)  # Adjust indices for the batch offset\n",
        "        max_indices.append(max_idx)  # Adjust indices for the batch offset\n",
        "\n",
        "        del batch_corr_matrix\n",
        "        torch.cuda.empty_cache()\n",
        "\n",
        "    return torch.cat(max_indices), torch.cat(max_values)"
      ]
    },
    {
      "cell_type": "markdown",
      "metadata": {
        "id": "vlKdEehFvC86"
      },
      "source": [
        "## sim fns"
      ]
    },
    {
      "cell_type": "code",
      "execution_count": null,
      "metadata": {
        "id": "Rl7IYESN1irP"
      },
      "outputs": [],
      "source": [
        "import functools\n",
        "from typing import Any, Callable, Dict, List, Tuple, Union\n",
        "\n",
        "import numpy as np\n",
        "import numpy.typing as npt\n",
        "import torch\n",
        "\n",
        "\n",
        "def to_numpy_if_needed(*args: Union[torch.Tensor, npt.NDArray]) -> List[npt.NDArray]:\n",
        "    def convert(x: Union[torch.Tensor, npt.NDArray]) -> npt.NDArray:\n",
        "        return x if isinstance(x, np.ndarray) else x.numpy()\n",
        "\n",
        "    return list(map(convert, args))\n",
        "\n",
        "\n",
        "def to_torch_if_needed(*args: Union[torch.Tensor, npt.NDArray]) -> List[torch.Tensor]:\n",
        "    def convert(x: Union[torch.Tensor, npt.NDArray]) -> torch.Tensor:\n",
        "        return x if isinstance(x, torch.Tensor) else torch.from_numpy(x)\n",
        "\n",
        "    return list(map(convert, args))\n",
        "\n",
        "\n",
        "def adjust_dimensionality(\n",
        "    R: npt.NDArray, Rp: npt.NDArray, strategy=\"zero_pad\"\n",
        ") -> Tuple[npt.NDArray, npt.NDArray]:\n",
        "    D = R.shape[1]\n",
        "    Dp = Rp.shape[1]\n",
        "    if strategy == \"zero_pad\":\n",
        "        if D - Dp == 0:\n",
        "            return R, Rp\n",
        "        elif D - Dp > 0:\n",
        "            return R, np.concatenate((Rp, np.zeros((Rp.shape[0], D - Dp))), axis=1)\n",
        "        else:\n",
        "            return np.concatenate((R, np.zeros((R.shape[0], Dp - D))), axis=1), Rp\n",
        "    else:\n",
        "        raise NotImplementedError()\n",
        "\n",
        "\n",
        "def center_columns(R: npt.NDArray) -> npt.NDArray:\n",
        "    return R - R.mean(axis=0)[None, :]\n",
        "\n",
        "\n",
        "def normalize_matrix_norm(R: npt.NDArray) -> npt.NDArray:\n",
        "    return R / np.linalg.norm(R, ord=\"fro\")\n",
        "\n",
        "\n",
        "def sim_random_baseline(\n",
        "    rep1: torch.Tensor, rep2: torch.Tensor, sim_func: Callable, n_permutations: int = 10\n",
        ") -> Dict[str, Any]:\n",
        "    torch.manual_seed(1234)\n",
        "    scores = []\n",
        "    for _ in range(n_permutations):\n",
        "        perm = torch.randperm(rep1.size(0))\n",
        "\n",
        "        score = sim_func(rep1[perm, :], rep2)\n",
        "        score = score if isinstance(score, float) else score[\"score\"]\n",
        "\n",
        "        scores.append(score)\n",
        "\n",
        "    return {\"baseline_scores\": np.array(scores)}\n",
        "\n",
        "\n",
        "class Pipeline:\n",
        "    def __init__(\n",
        "        self,\n",
        "        preprocess_funcs: List[Callable[[npt.NDArray], npt.NDArray]],\n",
        "        similarity_func: Callable[[npt.NDArray, npt.NDArray], Dict[str, Any]],\n",
        "    ) -> None:\n",
        "        self.preprocess_funcs = preprocess_funcs\n",
        "        self.similarity_func = similarity_func\n",
        "\n",
        "    def __call__(self, R: npt.NDArray, Rp: npt.NDArray) -> Dict[str, Any]:\n",
        "        for preprocess_func in self.preprocess_funcs:\n",
        "            R = preprocess_func(R)\n",
        "            Rp = preprocess_func(Rp)\n",
        "        return self.similarity_func(R, Rp)\n",
        "\n",
        "    def __str__(self) -> str:\n",
        "        def func_name(func: Callable) -> str:\n",
        "            return (\n",
        "                func.__name__\n",
        "                if not isinstance(func, functools.partial)\n",
        "                else func.func.__name__\n",
        "            )\n",
        "\n",
        "        def partial_keywords(func: Callable) -> str:\n",
        "            if not isinstance(func, functools.partial):\n",
        "                return \"\"\n",
        "            else:\n",
        "                return str(func.keywords)\n",
        "\n",
        "        return (\n",
        "            \"Pipeline(\"\n",
        "            + (\n",
        "                \"+\".join(map(func_name, self.preprocess_funcs))\n",
        "                + \"+\"\n",
        "                + func_name(self.similarity_func)\n",
        "                + partial_keywords(self.similarity_func)\n",
        "            )\n",
        "            + \")\"\n",
        "        )"
      ]
    },
    {
      "cell_type": "code",
      "execution_count": null,
      "metadata": {
        "id": "RgcXEjdcXAOj"
      },
      "outputs": [],
      "source": [
        "from typing import List, Set, Union\n",
        "\n",
        "import numpy as np\n",
        "import numpy.typing as npt\n",
        "import sklearn.neighbors\n",
        "import torch\n",
        "\n",
        "# from llmcomp.measures.utils import to_numpy_if_needed\n",
        "\n",
        "\n",
        "def _jac_sim_i(idx_R: Set[int], idx_Rp: Set[int]) -> float:\n",
        "    return len(idx_R.intersection(idx_Rp)) / len(idx_R.union(idx_Rp))\n",
        "\n",
        "\n",
        "def jaccard_similarity(\n",
        "    R: Union[torch.Tensor, npt.NDArray],\n",
        "    Rp: Union[torch.Tensor, npt.NDArray],\n",
        "    k: int = 10,\n",
        "    inner: str = \"cosine\",\n",
        "    n_jobs: int = 8,\n",
        ") -> float:\n",
        "    R, Rp = to_numpy_if_needed(R, Rp)\n",
        "\n",
        "    indices_R = nn_array_to_setlist(top_k_neighbors(R, k, inner, n_jobs))\n",
        "    indices_Rp = nn_array_to_setlist(top_k_neighbors(Rp, k, inner, n_jobs))\n",
        "\n",
        "    return float(\n",
        "        np.mean(\n",
        "            [_jac_sim_i(idx_R, idx_Rp) for idx_R, idx_Rp in zip(indices_R, indices_Rp)]\n",
        "        )\n",
        "    )\n",
        "\n",
        "\n",
        "def top_k_neighbors(\n",
        "    R: npt.NDArray,\n",
        "    k: int,\n",
        "    inner: str,\n",
        "    n_jobs: int,\n",
        ") -> npt.NDArray:\n",
        "    # k+1 nearest neighbors, because we pass in all the data, which means that a point\n",
        "    # will be the nearest neighbor to itself. We remove this point from the results and\n",
        "    # report only the k nearest neighbors distinct from the point itself.\n",
        "    nns = sklearn.neighbors.NearestNeighbors(\n",
        "        n_neighbors=k + 1, metric=inner, n_jobs=n_jobs\n",
        "    )\n",
        "    nns.fit(R)\n",
        "    _, nns = nns.kneighbors(R)\n",
        "    return nns[:, 1:]\n",
        "\n",
        "\n",
        "def nn_array_to_setlist(nn: npt.NDArray) -> List[Set[int]]:\n",
        "    return [set(idx) for idx in nn]"
      ]
    },
    {
      "cell_type": "code",
      "execution_count": null,
      "metadata": {
        "id": "K8QY53-0umRk"
      },
      "outputs": [],
      "source": [
        "import functools\n",
        "import logging\n",
        "from abc import ABC\n",
        "from abc import abstractmethod\n",
        "from dataclasses import dataclass\n",
        "from dataclasses import field\n",
        "from typing import Any\n",
        "from typing import Callable\n",
        "from typing import get_args\n",
        "from typing import List\n",
        "from typing import Literal\n",
        "from typing import Optional\n",
        "from typing import Protocol\n",
        "from typing import Tuple\n",
        "from typing import Union\n",
        "\n",
        "import numpy as np\n",
        "import numpy.typing as npt\n",
        "import torch\n",
        "from einops import rearrange\n",
        "# from loguru import logger\n",
        "\n",
        "log = logging.getLogger(__name__)\n",
        "\n",
        "\n",
        "SHAPE_TYPE = Literal[\"nd\", \"ntd\", \"nchw\"]\n",
        "\n",
        "ND_SHAPE, NTD_SHAPE, NCHW_SHAPE = get_args(SHAPE_TYPE)[0], get_args(SHAPE_TYPE)[1], get_args(SHAPE_TYPE)[2]\n",
        "\n",
        "\n",
        "class SimilarityFunction(Protocol):\n",
        "    def __call__(  # noqa: E704\n",
        "        self,\n",
        "        R: torch.Tensor | npt.NDArray,\n",
        "        Rp: torch.Tensor | npt.NDArray,\n",
        "        shape: SHAPE_TYPE,\n",
        "    ) -> float: ...\n",
        "\n",
        "\n",
        "class RSMSimilarityFunction(Protocol):\n",
        "    def __call__(  # noqa: E704\n",
        "        self, R: torch.Tensor | npt.NDArray, Rp: torch.Tensor | npt.NDArray, shape: SHAPE_TYPE, n_jobs: int\n",
        "    ) -> float: ...\n",
        "\n",
        "\n",
        "@dataclass\n",
        "class BaseSimilarityMeasure(ABC):\n",
        "    larger_is_more_similar: bool\n",
        "    is_symmetric: bool\n",
        "\n",
        "    is_metric: bool | None = None\n",
        "    invariant_to_affine: bool | None = None\n",
        "    invariant_to_invertible_linear: bool | None = None\n",
        "    invariant_to_ortho: bool | None = None\n",
        "    invariant_to_permutation: bool | None = None\n",
        "    invariant_to_isotropic_scaling: bool | None = None\n",
        "    invariant_to_translation: bool | None = None\n",
        "    name: str = field(init=False)\n",
        "\n",
        "    def __post_init__(self):\n",
        "        self.name = self.__class__.__name__\n",
        "\n",
        "    @abstractmethod\n",
        "    def __call__(self, *args: Any, **kwds: Any) -> Any:\n",
        "        raise NotImplementedError\n",
        "\n",
        "\n",
        "class FunctionalSimilarityMeasure(BaseSimilarityMeasure):\n",
        "    @abstractmethod\n",
        "    def __call__(self, output_a: torch.Tensor | npt.NDArray, output_b: torch.Tensor | npt.NDArray) -> float:\n",
        "        raise NotImplementedError\n",
        "\n",
        "\n",
        "@dataclass(kw_only=True)\n",
        "class RepresentationalSimilarityMeasure(BaseSimilarityMeasure):\n",
        "    sim_func: SimilarityFunction\n",
        "\n",
        "    def __call__(\n",
        "        self,\n",
        "        R: torch.Tensor | npt.NDArray,\n",
        "        Rp: torch.Tensor | npt.NDArray,\n",
        "        shape: SHAPE_TYPE,\n",
        "    ) -> float:\n",
        "        return self.sim_func(R, Rp, shape)\n",
        "\n",
        "\n",
        "class RSMSimilarityMeasure(RepresentationalSimilarityMeasure):\n",
        "    sim_func: RSMSimilarityFunction\n",
        "\n",
        "    @staticmethod\n",
        "    def estimate_good_number_of_jobs(R: torch.Tensor | npt.NDArray, Rp: torch.Tensor | npt.NDArray) -> int:\n",
        "        # RSMs in are NxN (or DxD) so the number of jobs should roughly scale quadratically with increase in N (or D).\n",
        "        # False! As long as sklearn-native metrics are used, they will use parallel implementations regardless of job\n",
        "        # count. Each job would spawn their own threads, which leads to oversubscription of cores and thus slowdown.\n",
        "        # This seems to be not fully correct (n_jobs=2 seems to actually use two cores), but using n_jobs=1 seems the\n",
        "        # fastest.\n",
        "        return 1\n",
        "\n",
        "    def __call__(\n",
        "        self,\n",
        "        R: torch.Tensor | npt.NDArray,\n",
        "        Rp: torch.Tensor | npt.NDArray,\n",
        "        shape: SHAPE_TYPE,\n",
        "        n_jobs: Optional[int] = None,\n",
        "    ) -> float:\n",
        "        if n_jobs is None:\n",
        "            n_jobs = self.estimate_good_number_of_jobs(R, Rp)\n",
        "        return self.sim_func(R, Rp, shape, n_jobs=n_jobs)\n",
        "\n",
        "\n",
        "def to_numpy_if_needed(*args: Union[torch.Tensor, npt.NDArray]) -> List[npt.NDArray]:\n",
        "    def convert(x: Union[torch.Tensor, npt.NDArray]) -> npt.NDArray:\n",
        "        return x if isinstance(x, np.ndarray) else x.numpy()\n",
        "\n",
        "    return list(map(convert, args))\n",
        "\n",
        "\n",
        "def to_torch_if_needed(*args: Union[torch.Tensor, npt.NDArray]) -> List[torch.Tensor]:\n",
        "    def convert(x: Union[torch.Tensor, npt.NDArray]) -> torch.Tensor:\n",
        "        return x if isinstance(x, torch.Tensor) else torch.from_numpy(x)\n",
        "\n",
        "    return list(map(convert, args))\n",
        "\n",
        "\n",
        "def adjust_dimensionality(R: npt.NDArray, Rp: npt.NDArray, strategy=\"zero_pad\") -> Tuple[npt.NDArray, npt.NDArray]:\n",
        "    D = R.shape[1]\n",
        "    Dp = Rp.shape[1]\n",
        "    if strategy == \"zero_pad\":\n",
        "        if D - Dp == 0:\n",
        "            return R, Rp\n",
        "        elif D - Dp > 0:\n",
        "            return R, np.concatenate((Rp, np.zeros((Rp.shape[0], D - Dp))), axis=1)\n",
        "        else:\n",
        "            return np.concatenate((R, np.zeros((R.shape[0], Dp - D))), axis=1), Rp\n",
        "    else:\n",
        "        raise NotImplementedError()\n",
        "\n",
        "\n",
        "def center_columns(R: npt.NDArray) -> npt.NDArray:\n",
        "    return R - R.mean(axis=0)[None, :]\n",
        "\n",
        "\n",
        "def normalize_matrix_norm(R: npt.NDArray) -> npt.NDArray:\n",
        "    return R / np.linalg.norm(R, ord=\"fro\")\n",
        "\n",
        "\n",
        "def normalize_row_norm(R: npt.NDArray) -> npt.NDArray:\n",
        "    return R / np.linalg.norm(R, ord=2, axis=1, keepdims=True)\n",
        "\n",
        "\n",
        "def standardize(R: npt.NDArray) -> npt.NDArray:\n",
        "    return (R - R.mean(axis=0, keepdims=True)) / R.std(axis=0)\n",
        "\n",
        "\n",
        "def double_center(x: npt.NDArray) -> npt.NDArray:\n",
        "    return x - x.mean(axis=0, keepdims=True) - x.mean(axis=1, keepdims=True) + x.mean()\n",
        "\n",
        "\n",
        "def align_spatial_dimensions(R: npt.NDArray, Rp: npt.NDArray) -> Tuple[npt.NDArray, npt.NDArray]:\n",
        "    \"\"\"\n",
        "    Aligns spatial representations by resizing them to the smallest spatial dimension.\n",
        "    Subsequent aligned spatial representations are flattened, with the spatial aligned representations\n",
        "    moving into the *sample* dimension.\n",
        "    \"\"\"\n",
        "    R_re, Rp_re = resize_wh_reps(R, Rp)\n",
        "    R_re = rearrange(R_re, \"n c h w -> (n h w) c\")\n",
        "    Rp_re = rearrange(Rp_re, \"n c h w -> (n h w) c\")\n",
        "    if R_re.shape[0] > 5000:\n",
        "        logger.info(f\"Got {R_re.shape[0]} samples in N after flattening. Subsampling to reduce compute.\")\n",
        "        subsample = R_re.shape[0] // 5000\n",
        "        R_re = R_re[::subsample]\n",
        "        Rp_re = Rp_re[::subsample]\n",
        "\n",
        "    return R_re, Rp_re\n",
        "\n",
        "\n",
        "def average_pool_downsample(R, resize: bool, new_size: tuple[int, int]):\n",
        "    if not resize:\n",
        "        return R  # do nothing\n",
        "    else:\n",
        "        is_numpy = isinstance(R, np.ndarray)\n",
        "        R_torch = torch.from_numpy(R) if is_numpy else R\n",
        "        R_torch = torch.nn.functional.adaptive_avg_pool2d(R_torch, new_size)\n",
        "        return R_torch.numpy() if is_numpy else R_torch\n",
        "\n",
        "\n",
        "def resize_wh_reps(R: npt.NDArray, Rp: npt.NDArray) -> Tuple[npt.NDArray, npt.NDArray]:\n",
        "    \"\"\"\n",
        "    Function for resizing spatial representations that are not the same size.\n",
        "    Does through fourier transform and resizing.\n",
        "\n",
        "    Args:\n",
        "        R: numpy array of shape  [batch_size, height, width, num_channels]\n",
        "        RP: numpy array of shape [batch_size, height, width, num_channels]\n",
        "\n",
        "    Returns:\n",
        "        fft_acts1: numpy array of shape [batch_size, (new) height, (new) width, num_channels]\n",
        "        fft_acts2: numpy array of shape [batch_size, (new) height, (new) width, num_channels]\n",
        "\n",
        "    \"\"\"\n",
        "    height1, width1 = R.shape[2], R.shape[3]\n",
        "    height2, width2 = Rp.shape[2], Rp.shape[3]\n",
        "    if height1 != height2 or width1 != width2:\n",
        "        height = min(height1, height2)\n",
        "        width = min(width1, width2)\n",
        "        new_size = [height, width]\n",
        "        resize = True\n",
        "    else:\n",
        "        height = height1\n",
        "        width = width1\n",
        "        new_size = None\n",
        "        resize = False\n",
        "\n",
        "    # resize and preprocess with fft\n",
        "    avg_ds1 = average_pool_downsample(R, resize=resize, new_size=new_size)\n",
        "    avg_ds2 = average_pool_downsample(Rp, resize=resize, new_size=new_size)\n",
        "    return avg_ds1, avg_ds2\n",
        "\n",
        "\n",
        "def fft_resize(images, resize=False, new_size=None):\n",
        "    \"\"\"Function for applying DFT and resizing.\n",
        "\n",
        "    This function takes in an array of images, applies the 2-d fourier transform\n",
        "    and resizes them according to new_size, keeping the frequencies that overlap\n",
        "    between the two sizes.\n",
        "\n",
        "    Args:\n",
        "              images: a numpy array with shape\n",
        "                      [batch_size, height, width, num_channels]\n",
        "              resize: boolean, whether or not to resize\n",
        "              new_size: a tuple (size, size), with height and width the same\n",
        "\n",
        "    Returns:\n",
        "              im_fft_downsampled: a numpy array with shape\n",
        "                           [batch_size, (new) height, (new) width, num_channels]\n",
        "    \"\"\"\n",
        "    assert len(images.shape) == 4, \"expecting images to be\" \"[batch_size, height, width, num_channels]\"\n",
        "    if resize:\n",
        "        # FFT --> remove high frequencies --> inverse FFT\n",
        "        im_complex = images.astype(\"complex64\")\n",
        "        im_fft = np.fft.fft2(im_complex, axes=(1, 2))\n",
        "        im_shifted = np.fft.fftshift(im_fft, axes=(1, 2))\n",
        "\n",
        "        center_width = im_shifted.shape[2] // 2\n",
        "        center_height = im_shifted.shape[1] // 2\n",
        "        half_w = new_size[0] // 2\n",
        "        half_h = new_size[1] // 2\n",
        "        cropped_fft = im_shifted[\n",
        "            :, center_height - half_h : center_height + half_h, center_width - half_w : center_width + half_w, :\n",
        "        ]\n",
        "        cropped_fft_shifted_back = np.fft.ifft2(cropped_fft, axes=(1, 2))\n",
        "        return cropped_fft_shifted_back.real\n",
        "    else:\n",
        "        return images\n",
        "\n",
        "\n",
        "class Pipeline:\n",
        "    def __init__(\n",
        "        self,\n",
        "        preprocess_funcs: List[Callable[[npt.NDArray], npt.NDArray]],\n",
        "        similarity_func: Callable[[npt.NDArray, npt.NDArray, SHAPE_TYPE], float],\n",
        "    ) -> None:\n",
        "        self.preprocess_funcs = preprocess_funcs\n",
        "        self.similarity_func = similarity_func\n",
        "\n",
        "    def __call__(self, R: npt.NDArray, Rp: npt.NDArray, shape: SHAPE_TYPE) -> float:\n",
        "        try:\n",
        "            for preprocess_func in self.preprocess_funcs:\n",
        "                R = preprocess_func(R)\n",
        "                Rp = preprocess_func(Rp)\n",
        "            return self.similarity_func(R, Rp, shape)\n",
        "        except ValueError as e:\n",
        "            log.info(f\"Pipeline failed: {e}\")\n",
        "            return np.nan\n",
        "\n",
        "    def __str__(self) -> str:\n",
        "        def func_name(func: Callable) -> str:\n",
        "            return func.__name__ if not isinstance(func, functools.partial) else func.func.__name__\n",
        "\n",
        "        def partial_keywords(func: Callable) -> str:\n",
        "            if not isinstance(func, functools.partial):\n",
        "                return \"\"\n",
        "            else:\n",
        "                return str(func.keywords)\n",
        "\n",
        "        return (\n",
        "            \"Pipeline(\"\n",
        "            + (\n",
        "                \"+\".join(map(func_name, self.preprocess_funcs))\n",
        "                + \"+\"\n",
        "                + func_name(self.similarity_func)\n",
        "                + partial_keywords(self.similarity_func)\n",
        "            )\n",
        "            + \")\"\n",
        "        )\n",
        "\n",
        "\n",
        "def flatten(*args: Union[torch.Tensor, npt.NDArray], shape: SHAPE_TYPE) -> List[Union[torch.Tensor, npt.NDArray]]:\n",
        "    if shape == \"ntd\":\n",
        "        return list(map(flatten_nxtxd_to_ntxd, args))\n",
        "    elif shape == \"nd\":\n",
        "        return list(args)\n",
        "    elif shape == \"nchw\":\n",
        "        return list(map(flatten_nxcxhxw_to_nxchw, args))  # Flattening non-trivial for nchw\n",
        "    else:\n",
        "        raise ValueError(\"Unknown shape of representations. Must be one of 'ntd', 'nchw', 'nd'.\")\n",
        "\n",
        "\n",
        "def flatten_nxtxd_to_ntxd(R: Union[torch.Tensor, npt.NDArray]) -> torch.Tensor:\n",
        "    R = to_torch_if_needed(R)[0]\n",
        "    log.debug(\"Shape before flattening: %s\", str(R.shape))\n",
        "    R = torch.flatten(R, start_dim=0, end_dim=1)\n",
        "    log.debug(\"Shape after flattening: %s\", str(R.shape))\n",
        "    return R\n",
        "\n",
        "\n",
        "def flatten_nxcxhxw_to_nxchw(R: Union[torch.Tensor, npt.NDArray]) -> torch.Tensor:\n",
        "    R = to_torch_if_needed(R)[0]\n",
        "    log.debug(\"Shape before flattening: %s\", str(R.shape))\n",
        "    R = torch.reshape(R, (R.shape[0], -1))\n",
        "    log.debug(\"Shape after flattening: %s\", str(R.shape))\n",
        "    return R"
      ]
    },
    {
      "cell_type": "code",
      "execution_count": null,
      "metadata": {
        "id": "MU_QCO_UvFKl"
      },
      "outputs": [],
      "source": [
        "from typing import Optional\n",
        "from typing import Union\n",
        "\n",
        "import numpy as np\n",
        "import numpy.typing as npt\n",
        "import scipy.spatial.distance\n",
        "import scipy.stats\n",
        "import sklearn.metrics\n",
        "import torch\n",
        "# from repsim.measures.utils import flatten\n",
        "# from repsim.measures.utils import RSMSimilarityMeasure\n",
        "# from repsim.measures.utils import SHAPE_TYPE\n",
        "# from repsim.measures.utils import to_numpy_if_needed\n",
        "\n",
        "\n",
        "def representational_similarity_analysis(\n",
        "    R: Union[torch.Tensor, npt.NDArray],\n",
        "    Rp: Union[torch.Tensor, npt.NDArray],\n",
        "    shape: SHAPE_TYPE,\n",
        "    inner=\"correlation\",\n",
        "    outer=\"spearman\",\n",
        "    n_jobs: Optional[int] = None,\n",
        ") -> float:\n",
        "    \"\"\"Representational similarity analysis\n",
        "\n",
        "    Args:\n",
        "        R (Union[torch.Tensor, npt.NDArray]): N x D representation\n",
        "        Rp (Union[torch.Tensor, npt.NDArray]): N x D' representation\n",
        "        inner (str, optional): inner similarity function for RSM. Must be one of\n",
        "            scipy.spatial.distance.pdist identifiers . Defaults to \"correlation\".\n",
        "        outer (str, optional): outer similarity function that compares RSMs. Defaults to\n",
        "             \"spearman\". Must be one of \"spearman\", \"euclidean\"\n",
        "\n",
        "    Returns:\n",
        "        float: _description_\n",
        "    \"\"\"\n",
        "    R, Rp = flatten(R, Rp, shape=shape)\n",
        "    R, Rp = to_numpy_if_needed(R, Rp)\n",
        "\n",
        "    if inner == \"correlation\":\n",
        "        # n_jobs only works if metric is in PAIRWISE_DISTANCES as defined in sklearn, i.e., not for correlation.\n",
        "        # But correlation = 1 - cosine dist of row-centered data, so we use the faster cosine metric and center the data.\n",
        "        R = R - R.mean(axis=1, keepdims=True)\n",
        "        S = scipy.spatial.distance.squareform(  # take the lower triangle of RSM\n",
        "            1 - sklearn.metrics.pairwise_distances(R, metric=\"cosine\", n_jobs=n_jobs),  # type:ignore\n",
        "            checks=False,\n",
        "        )\n",
        "        Rp = Rp - Rp.mean(axis=1, keepdims=True)\n",
        "        Sp = scipy.spatial.distance.squareform(\n",
        "            1 - sklearn.metrics.pairwise_distances(Rp, metric=\"cosine\", n_jobs=n_jobs),  # type:ignore\n",
        "            checks=False,\n",
        "        )\n",
        "    elif inner == \"euclidean\":\n",
        "        # take the lower triangle of RSM\n",
        "        S = scipy.spatial.distance.squareform(\n",
        "            sklearn.metrics.pairwise_distances(R, metric=inner, n_jobs=n_jobs), checks=False\n",
        "        )\n",
        "        Sp = scipy.spatial.distance.squareform(\n",
        "            sklearn.metrics.pairwise_distances(Rp, metric=inner, n_jobs=n_jobs), checks=False\n",
        "        )\n",
        "    else:\n",
        "        raise NotImplementedError(f\"{inner=}\")\n",
        "\n",
        "    if outer == \"spearman\":\n",
        "        return scipy.stats.spearmanr(S, Sp).statistic  # type:ignore\n",
        "    elif outer == \"euclidean\":\n",
        "        return float(np.linalg.norm(S - Sp, ord=2))\n",
        "    else:\n",
        "        raise ValueError(f\"Unknown outer similarity function: {outer}\")\n",
        "\n",
        "\n",
        "class RSA(RSMSimilarityMeasure):\n",
        "    def __init__(self):\n",
        "        # choice of inner/outer in __call__ if fixed to default values, so these values are always the same\n",
        "        super().__init__(\n",
        "            sim_func=representational_similarity_analysis,\n",
        "            larger_is_more_similar=True,\n",
        "            is_metric=False,\n",
        "            is_symmetric=True,\n",
        "            invariant_to_affine=False,\n",
        "            invariant_to_invertible_linear=False,\n",
        "            invariant_to_ortho=False,\n",
        "            invariant_to_permutation=True,\n",
        "            invariant_to_isotropic_scaling=True,\n",
        "            invariant_to_translation=True,\n",
        "        )"
      ]
    },
    {
      "cell_type": "code",
      "execution_count": null,
      "metadata": {
        "id": "LO8o8I5owA7p"
      },
      "outputs": [],
      "source": [
        "##################################################################################\n",
        "# Copied from https://github.com/google/svcca/blob/1f3fbf19bd31bd9b76e728ef75842aa1d9a4cd2b/cca_core.py\n",
        "# Copyright 2018 Google Inc.\n",
        "#\n",
        "# Licensed under the Apache License, Version 2.0 (the \"License\");\n",
        "# you may not use this file except in compliance with the License.\n",
        "# You may obtain a copy of the License at\n",
        "#\n",
        "#     http://www.apache.org/licenses/LICENSE-2.0\n",
        "#\n",
        "# Unless required by applicable law or agreed to in writing, software\n",
        "# distributed under the License is distributed on an \"AS IS\" BASIS,\n",
        "# WITHOUT WARRANTIES OR CONDITIONS OF ANY KIND, either express or implied.\n",
        "# See the License for the specific language governing permissions and\n",
        "# limitations under the License.\n",
        "\"\"\"\n",
        "The core code for applying Canonical Correlation Analysis to deep networks.\n",
        "\n",
        "This module contains the core functions to apply canonical correlation analysis\n",
        "to deep neural networks. The main function is get_cca_similarity, which takes in\n",
        "two sets of activations, typically the neurons in two layers and their outputs\n",
        "on all of the datapoints D = [d_1,...,d_m] that have been passed through.\n",
        "\n",
        "Inputs have shape (num_neurons1, m), (num_neurons2, m). This can be directly\n",
        "applied used on fully connected networks. For convolutional layers, the 3d block\n",
        "of neurons can either be flattened entirely, along channels, or alternatively,\n",
        "the dft_ccas (Discrete Fourier Transform) module can be used.\n",
        "\n",
        "See:\n",
        "https://arxiv.org/abs/1706.05806\n",
        "https://arxiv.org/abs/1806.05759\n",
        "for full details.\n",
        "\n",
        "\"\"\"\n",
        "import numpy as np\n",
        "# from repsim.measures.utils import align_spatial_dimensions\n",
        "\n",
        "num_cca_trials = 5\n",
        "\n",
        "\n",
        "def positivedef_matrix_sqrt(array):\n",
        "    \"\"\"Stable method for computing matrix square roots, supports complex matrices.\n",
        "\n",
        "    Args:\n",
        "              array: A numpy 2d array, can be complex valued that is a positive\n",
        "                     definite symmetric (or hermitian) matrix\n",
        "\n",
        "    Returns:\n",
        "              sqrtarray: The matrix square root of array\n",
        "    \"\"\"\n",
        "    w, v = np.linalg.eigh(array)\n",
        "    #  A - np.dot(v, np.dot(np.diag(w), v.T))\n",
        "    wsqrt = np.sqrt(w)\n",
        "    sqrtarray = np.dot(v, np.dot(np.diag(wsqrt), np.conj(v).T))\n",
        "    return sqrtarray\n",
        "\n",
        "\n",
        "def remove_small(sigma_xx, sigma_xy, sigma_yx, sigma_yy, epsilon):\n",
        "    \"\"\"Takes covariance between X, Y, and removes values of small magnitude.\n",
        "\n",
        "    Args:\n",
        "              sigma_xx: 2d numpy array, variance matrix for x\n",
        "              sigma_xy: 2d numpy array, crossvariance matrix for x,y\n",
        "              sigma_yx: 2d numpy array, crossvariance matrixy for x,y,\n",
        "                        (conjugate) transpose of sigma_xy\n",
        "              sigma_yy: 2d numpy array, variance matrix for y\n",
        "              epsilon : cutoff value for norm below which directions are thrown\n",
        "                         away\n",
        "\n",
        "    Returns:\n",
        "              sigma_xx_crop: 2d array with low x norm directions removed\n",
        "              sigma_xy_crop: 2d array with low x and y norm directions removed\n",
        "              sigma_yx_crop: 2d array with low x and y norm directiosn removed\n",
        "              sigma_yy_crop: 2d array with low y norm directions removed\n",
        "              x_idxs: indexes of sigma_xx that were removed\n",
        "              y_idxs: indexes of sigma_yy that were removed\n",
        "    \"\"\"\n",
        "\n",
        "    x_diag = np.abs(np.diagonal(sigma_xx))\n",
        "    y_diag = np.abs(np.diagonal(sigma_yy))\n",
        "    x_idxs = x_diag >= epsilon\n",
        "    y_idxs = y_diag >= epsilon\n",
        "\n",
        "    sigma_xx_crop = sigma_xx[x_idxs][:, x_idxs]\n",
        "    sigma_xy_crop = sigma_xy[x_idxs][:, y_idxs]\n",
        "    sigma_yx_crop = sigma_yx[y_idxs][:, x_idxs]\n",
        "    sigma_yy_crop = sigma_yy[y_idxs][:, y_idxs]\n",
        "\n",
        "    return (sigma_xx_crop, sigma_xy_crop, sigma_yx_crop, sigma_yy_crop, x_idxs, y_idxs)\n",
        "\n",
        "\n",
        "def compute_ccas(sigma_xx, sigma_xy, sigma_yx, sigma_yy, epsilon, verbose=True):\n",
        "    \"\"\"Main cca computation function, takes in variances and crossvariances.\n",
        "\n",
        "    This function takes in the covariances and cross covariances of X, Y,\n",
        "    preprocesses them (removing small magnitudes) and outputs the raw results of\n",
        "    the cca computation, including cca directions in a rotated space, and the\n",
        "    cca correlation coefficient values.\n",
        "\n",
        "    Args:\n",
        "              sigma_xx: 2d numpy array, (num_neurons_x, num_neurons_x)\n",
        "                        variance matrix for x\n",
        "              sigma_xy: 2d numpy array, (num_neurons_x, num_neurons_y)\n",
        "                        crossvariance matrix for x,y\n",
        "              sigma_yx: 2d numpy array, (num_neurons_y, num_neurons_x)\n",
        "                        crossvariance matrix for x,y (conj) transpose of sigma_xy\n",
        "              sigma_yy: 2d numpy array, (num_neurons_y, num_neurons_y)\n",
        "                        variance matrix for y\n",
        "              epsilon:  small float to help with stabilizing computations\n",
        "              verbose:  boolean on whether to print intermediate outputs\n",
        "\n",
        "    Returns:\n",
        "              [ux, sx, vx]: [numpy 2d array, numpy 1d array, numpy 2d array]\n",
        "                            ux and vx are (conj) transposes of each other, being\n",
        "                            the canonical directions in the X subspace.\n",
        "                            sx is the set of canonical correlation coefficients-\n",
        "                            how well corresponding directions in vx, Vy correlate\n",
        "                            with each other.\n",
        "              [uy, sy, vy]: Same as above, but for Y space\n",
        "              invsqrt_xx:   Inverse square root of sigma_xx to transform canonical\n",
        "                            directions back to original space\n",
        "              invsqrt_yy:   Same as above but for sigma_yy\n",
        "              x_idxs:       The indexes of the input sigma_xx that were pruned\n",
        "                            by remove_small\n",
        "              y_idxs:       Same as above but for sigma_yy\n",
        "    \"\"\"\n",
        "\n",
        "    (sigma_xx, sigma_xy, sigma_yx, sigma_yy, x_idxs, y_idxs) = remove_small(\n",
        "        sigma_xx, sigma_xy, sigma_yx, sigma_yy, epsilon\n",
        "    )\n",
        "\n",
        "    numx = sigma_xx.shape[0]\n",
        "    numy = sigma_yy.shape[0]\n",
        "\n",
        "    if numx == 0 or numy == 0:\n",
        "        return (\n",
        "            [0, 0, 0],\n",
        "            [0, 0, 0],\n",
        "            np.zeros_like(sigma_xx),\n",
        "            np.zeros_like(sigma_yy),\n",
        "            x_idxs,\n",
        "            y_idxs,\n",
        "        )\n",
        "\n",
        "    if verbose:\n",
        "        print(\"adding eps to diagonal and taking inverse\")\n",
        "    sigma_xx += epsilon * np.eye(numx)\n",
        "    sigma_yy += epsilon * np.eye(numy)\n",
        "    inv_xx = np.linalg.pinv(sigma_xx)\n",
        "    inv_yy = np.linalg.pinv(sigma_yy)\n",
        "\n",
        "    if verbose:\n",
        "        print(\"taking square root\")\n",
        "    invsqrt_xx = positivedef_matrix_sqrt(inv_xx)\n",
        "    invsqrt_yy = positivedef_matrix_sqrt(inv_yy)\n",
        "\n",
        "    if verbose:\n",
        "        print(\"dot products...\")\n",
        "    arr = np.dot(invsqrt_xx, np.dot(sigma_xy, invsqrt_yy))\n",
        "\n",
        "    if verbose:\n",
        "        print(\"trying to take final svd\")\n",
        "    u, s, v = np.linalg.svd(arr)\n",
        "\n",
        "    if verbose:\n",
        "        print(\"computed everything!\")\n",
        "\n",
        "    return [u, np.abs(s), v], invsqrt_xx, invsqrt_yy, x_idxs, y_idxs\n",
        "\n",
        "\n",
        "def sum_threshold(array, threshold):\n",
        "    \"\"\"Computes threshold index of decreasing nonnegative array by summing.\n",
        "\n",
        "    This function takes in a decreasing array nonnegative floats, and a\n",
        "    threshold between 0 and 1. It returns the index i at which the sum of the\n",
        "    array up to i is threshold*total mass of the array.\n",
        "\n",
        "    Args:\n",
        "              array: a 1d numpy array of decreasing, nonnegative floats\n",
        "              threshold: a number between 0 and 1\n",
        "\n",
        "    Returns:\n",
        "              i: index at which np.sum(array[:i]) >= threshold\n",
        "    \"\"\"\n",
        "    assert (threshold >= 0) and (threshold <= 1), \"print incorrect threshold\"\n",
        "\n",
        "    for i in range(len(array)):\n",
        "        if np.sum(array[:i]) / np.sum(array) >= threshold:\n",
        "            return i\n",
        "\n",
        "\n",
        "def create_zero_dict(compute_dirns, dimension):\n",
        "    \"\"\"Outputs a zero dict when neuron activation norms too small.\n",
        "\n",
        "    This function creates a return_dict with appropriately shaped zero entries\n",
        "    when all neuron activations are very small.\n",
        "\n",
        "    Args:\n",
        "              compute_dirns: boolean, whether to have zero vectors for directions\n",
        "              dimension: int, defines shape of directions\n",
        "\n",
        "    Returns:\n",
        "              return_dict: a dict of appropriately shaped zero entries\n",
        "    \"\"\"\n",
        "    return_dict = {}\n",
        "    return_dict[\"mean\"] = (np.asarray(0), np.asarray(0))\n",
        "    return_dict[\"sum\"] = (np.asarray(0), np.asarray(0))\n",
        "    return_dict[\"cca_coef1\"] = np.asarray(0)\n",
        "    return_dict[\"cca_coef2\"] = np.asarray(0)\n",
        "    return_dict[\"idx1\"] = 0\n",
        "    return_dict[\"idx2\"] = 0\n",
        "\n",
        "    if compute_dirns:\n",
        "        return_dict[\"cca_dirns1\"] = np.zeros((1, dimension))\n",
        "        return_dict[\"cca_dirns2\"] = np.zeros((1, dimension))\n",
        "\n",
        "    return return_dict\n",
        "\n",
        "\n",
        "def get_cca_similarity(\n",
        "    acts1,\n",
        "    acts2,\n",
        "    epsilon=0.0,\n",
        "    threshold=0.98,\n",
        "    compute_coefs=True,\n",
        "    compute_dirns=False,\n",
        "    verbose=True,\n",
        "):\n",
        "    \"\"\"The main function for computing cca similarities.\n",
        "\n",
        "    This function computes the cca similarity between two sets of activations,\n",
        "    returning a dict with the cca coefficients, a few statistics of the cca\n",
        "    coefficients, and (optionally) the actual directions.\n",
        "\n",
        "    Args:\n",
        "              acts1: (num_neurons1, data_points) a 2d numpy array of neurons by\n",
        "                     datapoints where entry (i,j) is the output of neuron i on\n",
        "                     datapoint j.\n",
        "              acts2: (num_neurons2, data_points) same as above, but (potentially)\n",
        "                     for a different set of neurons. Note that acts1 and acts2\n",
        "                     can have different numbers of neurons, but must agree on the\n",
        "                     number of datapoints\n",
        "\n",
        "              epsilon: small float to help stabilize computations\n",
        "\n",
        "              threshold: float between 0, 1 used to get rid of trailing zeros in\n",
        "                         the cca correlation coefficients to output more accurate\n",
        "                         summary statistics of correlations.\n",
        "\n",
        "\n",
        "              compute_coefs: boolean value determining whether coefficients\n",
        "                             over neurons are computed. Needed for computing\n",
        "                             directions\n",
        "\n",
        "              compute_dirns: boolean value determining whether actual cca\n",
        "                             directions are computed. (For very large neurons and\n",
        "                             datasets, may be better to compute these on the fly\n",
        "                             instead of store in memory.)\n",
        "\n",
        "              verbose: Boolean, whether intermediate outputs are printed\n",
        "\n",
        "    Returns:\n",
        "              return_dict: A dictionary with outputs from the cca computations.\n",
        "                           Contains neuron coefficients (combinations of neurons\n",
        "                           that correspond to cca directions), the cca correlation\n",
        "                           coefficients (how well aligned directions correlate),\n",
        "                           x and y idxs (for computing cca directions on the fly\n",
        "                           if compute_dirns=False), and summary statistics. If\n",
        "                           compute_dirns=True, the cca directions are also\n",
        "                           computed.\n",
        "    \"\"\"\n",
        "\n",
        "    # assert dimensionality equal\n",
        "    assert acts1.shape[1] == acts2.shape[1], \"dimensions don't match\"\n",
        "    # check that acts1, acts2 are transposition\n",
        "    assert acts1.shape[0] < acts1.shape[1], \"input must be number of neurons\" \"by datapoints\"\n",
        "    return_dict = {}\n",
        "\n",
        "    # compute covariance with numpy function for extra stability\n",
        "    numx = acts1.shape[0]\n",
        "    numy = acts2.shape[0]\n",
        "\n",
        "    covariance = np.cov(acts1, acts2)\n",
        "    sigmaxx = covariance[:numx, :numx]\n",
        "    sigmaxy = covariance[:numx, numx:]\n",
        "    sigmayx = covariance[numx:, :numx]\n",
        "    sigmayy = covariance[numx:, numx:]\n",
        "\n",
        "    # rescale covariance to make cca computation more stable\n",
        "    xmax = np.max(np.abs(sigmaxx))\n",
        "    ymax = np.max(np.abs(sigmayy))\n",
        "    sigmaxx /= xmax\n",
        "    sigmayy /= ymax\n",
        "    sigmaxy /= np.sqrt(xmax * ymax)\n",
        "    sigmayx /= np.sqrt(xmax * ymax)\n",
        "\n",
        "    ([u, s, v], invsqrt_xx, invsqrt_yy, x_idxs, y_idxs) = compute_ccas(\n",
        "        sigmaxx, sigmaxy, sigmayx, sigmayy, epsilon=epsilon, verbose=verbose\n",
        "    )\n",
        "\n",
        "    # if x_idxs or y_idxs is all false, return_dict has zero entries\n",
        "    if (not np.any(x_idxs)) or (not np.any(y_idxs)):\n",
        "        return create_zero_dict(compute_dirns, acts1.shape[1])\n",
        "\n",
        "    if compute_coefs:\n",
        "        # also compute full coefficients over all neurons\n",
        "        x_mask = np.dot(x_idxs.reshape((-1, 1)), x_idxs.reshape((1, -1)))\n",
        "        y_mask = np.dot(y_idxs.reshape((-1, 1)), y_idxs.reshape((1, -1)))\n",
        "\n",
        "        return_dict[\"coef_x\"] = u.T\n",
        "        return_dict[\"invsqrt_xx\"] = invsqrt_xx\n",
        "        return_dict[\"full_coef_x\"] = np.zeros((numx, numx))\n",
        "        np.place(return_dict[\"full_coef_x\"], x_mask, return_dict[\"coef_x\"])\n",
        "        return_dict[\"full_invsqrt_xx\"] = np.zeros((numx, numx))\n",
        "        np.place(return_dict[\"full_invsqrt_xx\"], x_mask, return_dict[\"invsqrt_xx\"])\n",
        "\n",
        "        return_dict[\"coef_y\"] = v\n",
        "        return_dict[\"invsqrt_yy\"] = invsqrt_yy\n",
        "        return_dict[\"full_coef_y\"] = np.zeros((numy, numy))\n",
        "        np.place(return_dict[\"full_coef_y\"], y_mask, return_dict[\"coef_y\"])\n",
        "        return_dict[\"full_invsqrt_yy\"] = np.zeros((numy, numy))\n",
        "        np.place(return_dict[\"full_invsqrt_yy\"], y_mask, return_dict[\"invsqrt_yy\"])\n",
        "\n",
        "        # compute means\n",
        "        neuron_means1 = np.mean(acts1, axis=1, keepdims=True)\n",
        "        neuron_means2 = np.mean(acts2, axis=1, keepdims=True)\n",
        "        return_dict[\"neuron_means1\"] = neuron_means1\n",
        "        return_dict[\"neuron_means2\"] = neuron_means2\n",
        "\n",
        "    if compute_dirns:\n",
        "        # orthonormal directions that are CCA directions\n",
        "        cca_dirns1 = (\n",
        "            np.dot(\n",
        "                np.dot(return_dict[\"full_coef_x\"], return_dict[\"full_invsqrt_xx\"]),\n",
        "                (acts1 - neuron_means1),\n",
        "            )\n",
        "            + neuron_means1\n",
        "        )\n",
        "        cca_dirns2 = (\n",
        "            np.dot(\n",
        "                np.dot(return_dict[\"full_coef_y\"], return_dict[\"full_invsqrt_yy\"]),\n",
        "                (acts2 - neuron_means2),\n",
        "            )\n",
        "            + neuron_means2\n",
        "        )\n",
        "\n",
        "    # get rid of trailing zeros in the cca coefficients\n",
        "    idx1 = sum_threshold(s, threshold)\n",
        "    idx2 = sum_threshold(s, threshold)\n",
        "\n",
        "    return_dict[\"cca_coef1\"] = s\n",
        "    return_dict[\"cca_coef2\"] = s\n",
        "    return_dict[\"x_idxs\"] = x_idxs\n",
        "    return_dict[\"y_idxs\"] = y_idxs\n",
        "    # summary statistics\n",
        "    return_dict[\"mean\"] = (np.mean(s[:idx1]), np.mean(s[:idx2]))\n",
        "    return_dict[\"sum\"] = (np.sum(s), np.sum(s))\n",
        "\n",
        "    if compute_dirns:\n",
        "        return_dict[\"cca_dirns1\"] = cca_dirns1\n",
        "        return_dict[\"cca_dirns2\"] = cca_dirns2\n",
        "\n",
        "    return return_dict\n",
        "\n",
        "\n",
        "def robust_cca_similarity(acts1, acts2, threshold=0.98, epsilon=1e-6, compute_dirns=True):\n",
        "    \"\"\"Calls get_cca_similarity multiple times while adding noise.\n",
        "\n",
        "    This function is very similar to get_cca_similarity, and can be used if\n",
        "    get_cca_similarity doesn't converge for some pair of inputs. This function\n",
        "    adds some noise to the activations to help convergence.\n",
        "\n",
        "    Args:\n",
        "              acts1: (num_neurons1, data_points) a 2d numpy array of neurons by\n",
        "                     datapoints where entry (i,j) is the output of neuron i on\n",
        "                     datapoint j.\n",
        "              acts2: (num_neurons2, data_points) same as above, but (potentially)\n",
        "                     for a different set of neurons. Note that acts1 and acts2\n",
        "                     can have different numbers of neurons, but must agree on the\n",
        "                     number of datapoints\n",
        "\n",
        "              threshold: float between 0, 1 used to get rid of trailing zeros in\n",
        "                         the cca correlation coefficients to output more accurate\n",
        "                         summary statistics of correlations.\n",
        "\n",
        "              epsilon: small float to help stabilize computations\n",
        "\n",
        "              compute_dirns: boolean value determining whether actual cca\n",
        "                             directions are computed. (For very large neurons and\n",
        "                             datasets, may be better to compute these on the fly\n",
        "                             instead of store in memory.)\n",
        "\n",
        "    Returns:\n",
        "              return_dict: A dictionary with outputs from the cca computations.\n",
        "                           Contains neuron coefficients (combinations of neurons\n",
        "                           that correspond to cca directions), the cca correlation\n",
        "                           coefficients (how well aligned directions correlate),\n",
        "                           x and y idxs (for computing cca directions on the fly\n",
        "                           if compute_dirns=False), and summary statistics. If\n",
        "                           compute_dirns=True, the cca directions are also\n",
        "                           computed.\n",
        "    \"\"\"\n",
        "\n",
        "    for trial in range(num_cca_trials):\n",
        "        try:\n",
        "            return_dict = get_cca_similarity(acts1, acts2, threshold, compute_dirns)\n",
        "        except np.linalg.LinAlgError:\n",
        "            acts1 = acts1 * 1e-1 + np.random.normal(size=acts1.shape) * epsilon\n",
        "            acts2 = acts2 * 1e-1 + np.random.normal(size=acts1.shape) * epsilon\n",
        "            if trial + 1 == num_cca_trials:\n",
        "                raise\n",
        "\n",
        "    return return_dict\n",
        "    # End of copy from https://github.com/google/svcca/blob/1f3fbf19bd31bd9b76e728ef75842aa1d9a4cd2b/cca_core.py\n",
        "\n",
        "\n",
        "def top_k_pca_comps(singular_values, threshold=0.99):\n",
        "    total_variance = np.sum(singular_values**2)\n",
        "    explained_variance = (singular_values**2) / total_variance\n",
        "    cumulative_variance = np.cumsum(explained_variance)\n",
        "    return np.argmax(cumulative_variance >= threshold * total_variance) + 1\n",
        "\n",
        "\n",
        "def _svcca_original(acts1, acts2):\n",
        "    # Copy from https://github.com/google/svcca/blob/1f3fbf19bd31bd9b76e728ef75842aa1d9a4cd2b/tutorials/001_Introduction.ipynb\n",
        "    # Modification: get_cca_similarity is in the same file.\n",
        "    # Modification: top-k PCA component selection s.t. explained variance > 0.99 total variance\n",
        "    # Mean subtract activations\n",
        "    cacts1 = acts1 - np.mean(acts1, axis=1, keepdims=True)\n",
        "    cacts2 = acts2 - np.mean(acts2, axis=1, keepdims=True)\n",
        "\n",
        "    # Perform SVD\n",
        "    U1, s1, V1 = np.linalg.svd(cacts1, full_matrices=False)\n",
        "    U2, s2, V2 = np.linalg.svd(cacts2, full_matrices=False)\n",
        "\n",
        "    # top-k PCA components only\n",
        "    k1 = top_k_pca_comps(s1)\n",
        "    k2 = top_k_pca_comps(s2)\n",
        "\n",
        "    svacts1 = np.dot(s1[:k1] * np.eye(k1), V1[:k1])\n",
        "    # can also compute as svacts1 = np.dot(U1.T[:20], cacts1)\n",
        "    svacts2 = np.dot(s2[:k2] * np.eye(k2), V2[:k2])\n",
        "    # can also compute as svacts1 = np.dot(U2.T[:20], cacts2)\n",
        "\n",
        "    svcca_results = get_cca_similarity(svacts1, svacts2, epsilon=1e-10, verbose=False)\n",
        "    # End of copy from https://github.com/google/svcca/blob/1f3fbf19bd31bd9b76e728ef75842aa1d9a4cd2b/tutorials/001_Introduction.ipynb\n",
        "    return np.mean(svcca_results[\"cca_coef1\"])\n",
        "\n",
        "\n",
        "# Copied from https://github.com/google/svcca/blob/1f3fbf19bd31bd9b76e728ef75842aa1d9a4cd2b/pwcca.py\n",
        "# Modification: get_cca_similarity is in the same file.\n",
        "def compute_pwcca(acts1, acts2, epsilon=0.0):\n",
        "    \"\"\"Computes projection weighting for weighting CCA coefficients\n",
        "\n",
        "    Args:\n",
        "         acts1: 2d numpy array, shaped (neurons, num_datapoints)\n",
        "         acts2: 2d numpy array, shaped (neurons, num_datapoints)\n",
        "\n",
        "    Returns:\n",
        "         Original cca coefficient mean and weighted mean\n",
        "\n",
        "    \"\"\"\n",
        "    sresults = get_cca_similarity(\n",
        "        acts1,\n",
        "        acts2,\n",
        "        epsilon=epsilon,\n",
        "        compute_dirns=False,\n",
        "        compute_coefs=True,\n",
        "        verbose=False,\n",
        "    )\n",
        "    if np.sum(sresults[\"x_idxs\"]) <= np.sum(sresults[\"y_idxs\"]):\n",
        "        dirns = (\n",
        "            np.dot(\n",
        "                sresults[\"coef_x\"],\n",
        "                (acts1[sresults[\"x_idxs\"]] - sresults[\"neuron_means1\"][sresults[\"x_idxs\"]]),\n",
        "            )\n",
        "            + sresults[\"neuron_means1\"][sresults[\"x_idxs\"]]\n",
        "        )\n",
        "        coefs = sresults[\"cca_coef1\"]\n",
        "        acts = acts1\n",
        "        idxs = sresults[\"x_idxs\"]\n",
        "    else:\n",
        "        dirns = (\n",
        "            np.dot(\n",
        "                sresults[\"coef_y\"],\n",
        "                (acts1[sresults[\"y_idxs\"]] - sresults[\"neuron_means2\"][sresults[\"y_idxs\"]]),\n",
        "            )\n",
        "            + sresults[\"neuron_means2\"][sresults[\"y_idxs\"]]\n",
        "        )\n",
        "        coefs = sresults[\"cca_coef2\"]\n",
        "        acts = acts2\n",
        "        idxs = sresults[\"y_idxs\"]\n",
        "    P, _ = np.linalg.qr(dirns.T)\n",
        "    weights = np.sum(np.abs(np.dot(P.T, acts[idxs].T)), axis=1)\n",
        "    weights = weights / np.sum(weights)\n",
        "\n",
        "    return np.sum(weights * coefs), weights, coefs\n",
        "    # End of copy from https://github.com/google/svcca/blob/1f3fbf19bd31bd9b76e728ef75842aa1d9a4cd2b/pwcca.py\n",
        "\n",
        "\n",
        "##################################################################################\n",
        "\n",
        "from typing import Union  # noqa:e402\n",
        "\n",
        "import numpy.typing as npt  # noqa:e402\n",
        "import torch  # noqa:e402\n",
        "\n",
        "# from repsim.measures.utils import (\n",
        "#     SHAPE_TYPE,\n",
        "#     flatten,\n",
        "#     resize_wh_reps,\n",
        "#     to_numpy_if_needed,\n",
        "#     RepresentationalSimilarityMeasure,\n",
        "# )  # noqa:e402\n",
        "\n",
        "\n",
        "def svcca(\n",
        "    R: Union[torch.Tensor, npt.NDArray],\n",
        "    Rp: Union[torch.Tensor, npt.NDArray],\n",
        "    shape: SHAPE_TYPE,\n",
        ") -> float:\n",
        "    R, Rp = flatten(R, Rp, shape=shape)\n",
        "    R, Rp = to_numpy_if_needed(R, Rp)\n",
        "    return _svcca_original(R.T, Rp.T)\n",
        "\n",
        "\n",
        "def pwcca(\n",
        "    R: Union[torch.Tensor, npt.NDArray],\n",
        "    Rp: Union[torch.Tensor, npt.NDArray],\n",
        "    shape: SHAPE_TYPE,\n",
        ") -> float:\n",
        "    R, Rp = flatten(R, Rp, shape=shape)\n",
        "    R, Rp = to_numpy_if_needed(R, Rp)\n",
        "    return compute_pwcca(R.T, Rp.T)[0]\n",
        "\n",
        "\n",
        "class SVCCA(RepresentationalSimilarityMeasure):\n",
        "    def __init__(self):\n",
        "        super().__init__(\n",
        "            sim_func=svcca,\n",
        "            larger_is_more_similar=True,\n",
        "            is_metric=False,\n",
        "            is_symmetric=True,\n",
        "            invariant_to_affine=False,\n",
        "            invariant_to_invertible_linear=False,\n",
        "            invariant_to_ortho=True,\n",
        "            invariant_to_permutation=True,\n",
        "            invariant_to_isotropic_scaling=True,\n",
        "            invariant_to_translation=True,\n",
        "        )\n",
        "\n",
        "    def __call__(self, R: torch.Tensor | npt.NDArray, Rp: torch.Tensor | npt.NDArray, shape: SHAPE_TYPE) -> float:\n",
        "        if shape == \"nchw\":\n",
        "            # Move spatial dimensions into the sample dimension\n",
        "            # If not the same spatial dimension, resample via FFT.\n",
        "            R, Rp = align_spatial_dimensions(R, Rp)\n",
        "            shape = \"nd\"\n",
        "\n",
        "        return self.sim_func(R, Rp, shape)\n",
        "\n",
        "\n",
        "class PWCCA(RepresentationalSimilarityMeasure):\n",
        "    def __init__(self):\n",
        "        super().__init__(\n",
        "            sim_func=pwcca,\n",
        "            larger_is_more_similar=True,\n",
        "            is_metric=False,\n",
        "            is_symmetric=False,\n",
        "            invariant_to_affine=False,\n",
        "            invariant_to_invertible_linear=False,\n",
        "            invariant_to_ortho=False,\n",
        "            invariant_to_permutation=False,\n",
        "            invariant_to_isotropic_scaling=True,\n",
        "            invariant_to_translation=True,\n",
        "        )\n",
        "\n",
        "    def __call__(self, R: torch.Tensor | npt.NDArray, Rp: torch.Tensor | npt.NDArray, shape: SHAPE_TYPE) -> float:\n",
        "        if shape == \"nchw\":\n",
        "            # Move spatial dimensions into the sample dimension\n",
        "            # If not the same spatial dimension, resample via FFT.\n",
        "            R, Rp = align_spatial_dimensions(R, Rp)\n",
        "            shape = \"nd\"\n",
        "\n",
        "        return self.sim_func(R, Rp, shape)"
      ]
    },
    {
      "cell_type": "markdown",
      "metadata": {
        "id": "aQ_3rxDtd3Mc"
      },
      "source": [
        "## get rand"
      ]
    },
    {
      "cell_type": "code",
      "execution_count": null,
      "metadata": {
        "id": "BqIiTtkid4qA"
      },
      "outputs": [],
      "source": [
        "def score_rand(num_feats, sim_fn, shapereq_bool=False):\n",
        "    all_rand_scores = []\n",
        "    # num_feats = len(uniq_corr_indices_AB_forA)\n",
        "    for i in range(10):\n",
        "        rand_modA_feats = np.random.randint(low=0, high=weight_matrix.shape[0], size=num_feats).tolist()\n",
        "        rand_modB_feats = np.random.randint(low=0, high=weight_matrix.shape[0], size=num_feats).tolist()\n",
        "\n",
        "        if shapereq_bool:\n",
        "            score = sim_fn(weight_matrix[rand_modA_feats], weight_matrix[rand_modB_feats], \"nd\")\n",
        "        else:\n",
        "            score = sim_fn(weight_matrix[rand_modA_feats], weight_matrix[rand_modB_feats])\n",
        "        all_rand_scores.append(score)\n",
        "    print(sum(all_rand_scores) / len(all_rand_scores))\n",
        "    # plt.hist(all_rand_scores)\n",
        "    # plt.show()\n",
        "    return sum(all_rand_scores) / len(all_rand_scores)"
      ]
    },
    {
      "cell_type": "markdown",
      "metadata": {
        "id": "nZz2t_CbNKmK"
      },
      "source": [
        "# load labels"
      ]
    },
    {
      "cell_type": "code",
      "execution_count": null,
      "metadata": {
        "id": "6CvQQSVdQvq5"
      },
      "outputs": [],
      "source": [
        "import json\n",
        "with open('gemma-2-2b-20-gemmascope-res-16k-explanations.json', 'rb') as f:\n",
        "    feat_labels_allData = json.load(f)"
      ]
    },
    {
      "cell_type": "code",
      "execution_count": null,
      "metadata": {
        "colab": {
          "base_uri": "https://localhost:8080/"
        },
        "id": "qriFJT15P6MB",
        "outputId": "19880bb9-4767-459a-8f98-38ac294ea85a"
      },
      "outputs": [
        {
          "name": "stdout",
          "output_type": "stream",
          "text": [
            "mentions of the letter 'Z' and variations of 'Z' in different contexts\n"
          ]
        }
      ],
      "source": [
        "feat_labels_lst = [0 for i in range(feat_labels_allData['explanationsCount'])]\n",
        "feat_labels_dict = {}\n",
        "for f_dict in feat_labels_allData['explanations']:\n",
        "    feat_labels_lst[int(f_dict['index'])] = f_dict['description']\n",
        "    feat_labels_dict[int(f_dict['index'])] = f_dict['description']\n",
        "    if int(f_dict['index']) == 0:\n",
        "        print(f_dict['description'])"
      ]
    },
    {
      "cell_type": "code",
      "execution_count": null,
      "metadata": {
        "colab": {
          "base_uri": "https://localhost:8080/"
        },
        "id": "NNE4LIP6RDJe",
        "outputId": "1a81ac6d-25e0-4004-a74a-e850c9e7f667"
      },
      "outputs": [
        {
          "data": {
            "text/plain": [
              "16383"
            ]
          },
          "execution_count": 50,
          "metadata": {},
          "output_type": "execute_result"
        }
      ],
      "source": [
        "len(feat_labels_dict)"
      ]
    },
    {
      "cell_type": "markdown",
      "metadata": {
        "id": "CLquai4hOaWR"
      },
      "source": [
        "# search for features"
      ]
    },
    {
      "cell_type": "code",
      "execution_count": null,
      "metadata": {
        "id": "FEbmjLd7c-Ju"
      },
      "outputs": [],
      "source": [
        "def find_indices_with_keyword(f_dict, keyword):\n",
        "    \"\"\"\n",
        "    Find all indices of fList which contain the keyword in the string at those indices.\n",
        "\n",
        "    Args:\n",
        "    fList (list of str): List of strings to search within.\n",
        "    keyword (str): Keyword to search for within the strings of fList.\n",
        "\n",
        "    Returns:\n",
        "    list of int: List of indices where the keyword is found within the strings of fList.\n",
        "    \"\"\"\n",
        "    filt_dict = {}\n",
        "    for index, string in f_dict.items():\n",
        "        # split_list = string.split(',')\n",
        "        # no_space_list = [i.replace(' ', '').lower() for i in split_list]\n",
        "        # if keyword in no_space_list:\n",
        "        if keyword in string:\n",
        "            filt_dict[index] = string\n",
        "    return filt_dict"
      ]
    },
    {
      "cell_type": "code",
      "execution_count": null,
      "metadata": {
        "id": "wKS0eFoCObvI"
      },
      "outputs": [],
      "source": [
        "keyword = \"number\"\n",
        "number_feats = find_indices_with_keyword(feat_labels_dict, keyword)"
      ]
    },
    {
      "cell_type": "code",
      "execution_count": null,
      "metadata": {
        "id": "HdjRMBTOSpg0"
      },
      "outputs": [],
      "source": [
        "keyword = \"month\"\n",
        "month_feats = find_indices_with_keyword(feat_labels_dict, keyword)"
      ]
    },
    {
      "cell_type": "code",
      "execution_count": null,
      "metadata": {
        "colab": {
          "base_uri": "https://localhost:8080/"
        },
        "id": "J34BaToUZslj",
        "outputId": "8862a4ef-e31d-48df-fd70-295bb59e4fd1"
      },
      "outputs": [
        {
          "data": {
            "text/plain": [
              "{5769, 12790, 20260, 21029}"
            ]
          },
          "execution_count": 14,
          "metadata": {},
          "output_type": "execute_result"
        }
      ],
      "source": [
        "set(number_feats).intersection(month_feats)"
      ]
    },
    {
      "cell_type": "code",
      "execution_count": null,
      "metadata": {
        "colab": {
          "base_uri": "https://localhost:8080/",
          "height": 35
        },
        "id": "lUUY88y-Z73d",
        "outputId": "41df1caf-bb17-4473-dfaf-2ca2a4b6d3ef"
      },
      "outputs": [
        {
          "data": {
            "application/vnd.google.colaboratory.intrinsic+json": {
              "type": "string"
            },
            "text/plain": [
              "'numbers with possible time expressions like years, months, and hours'"
            ]
          },
          "execution_count": 16,
          "metadata": {},
          "output_type": "execute_result"
        }
      ],
      "source": [
        "number_feats[5769]"
      ]
    },
    {
      "cell_type": "code",
      "execution_count": null,
      "metadata": {
        "id": "w-pYdKBKaBUh"
      },
      "outputs": [],
      "source": [
        "for common_feat in set(number_feats).intersection(month_feats):\n",
        "    del number_feats[common_feat]"
      ]
    },
    {
      "cell_type": "code",
      "execution_count": null,
      "metadata": {
        "colab": {
          "base_uri": "https://localhost:8080/"
        },
        "id": "3s8UwnDSaIKJ",
        "outputId": "86c32697-75f5-4324-93d0-48d2ada5e82c"
      },
      "outputs": [
        {
          "data": {
            "text/plain": [
              "set()"
            ]
          },
          "execution_count": 18,
          "metadata": {},
          "output_type": "execute_result"
        }
      ],
      "source": [
        "set(number_feats).intersection(month_feats)"
      ]
    },
    {
      "cell_type": "markdown",
      "metadata": {
        "id": "l8UydG5Pc4GR"
      },
      "source": [
        "# load model"
      ]
    },
    {
      "cell_type": "code",
      "execution_count": null,
      "metadata": {
        "id": "nOBcV4om7mrT"
      },
      "outputs": [],
      "source": [
        "from transformers import AutoModelForCausalLM, BitsAndBytesConfig, AutoTokenizer\n",
        "import numpy as np\n",
        "import torch"
      ]
    },
    {
      "cell_type": "code",
      "execution_count": null,
      "metadata": {
        "colab": {
          "base_uri": "https://localhost:8080/",
          "height": 158,
          "referenced_widgets": [
            "bb489fb4c9ae4d7c8298bec5cb74ec94",
            "c7c484d3f40f455fbd2d2757aaf0e6c0",
            "2c50078b549a4172884e2dd1ad47b5c9",
            "3e077c76c9d04236819758d58a18c9f9",
            "79305092b06d40df8028b62991f032d8",
            "74def8c3307a46e2bafb87eb9d23f1ac",
            "7b5c7526b10b49e48d2ad0344a2c768a",
            "5c919bb1abfb46f59ef39847d950ca9c",
            "9eec3ccae13a40929c60d56f99aa5296",
            "88327aa55fc84e8ca56dabb03bff8747",
            "4c149d8b4fc94416a65a39dbc1e35845",
            "326c9265d6a44a83bfcf54d510122fc1",
            "1caa597c8c9f46f2bac8e9c3c42658d4",
            "37f7a7da200d49e7b67b5c64983cbdc2",
            "fcee5fd86d974f9f8e204e3c2a6e4cf8",
            "f2e6e8978ab441ea835b9a6936ff7358",
            "6110e69b9c22425490814e89b48573a6",
            "84bb94f44906451d88e3f42c1f2498c2",
            "4728d34fb9ef4d4e8f83aa1e26cf625b",
            "c09d0011daab48fe92ee4c60ccd44ad6",
            "aec5d4e93bbf406d96a38a283b84cf1d",
            "4799562485f846d1a145012466b2b502",
            "f2823d474c89415fb87914ff49cf0864",
            "90d029c699fb44698d6080c131ded487",
            "c33b70301e74424ab037c57cef83061f",
            "04ec65ae030f4a4ca14969de4cf5ffe8",
            "42cda5a269154841888d931fa7da2f9c",
            "6812269b22b849d480dcd4b96ac442a9",
            "3e112f94945c463eb702dc55d1377137",
            "9f8e6cdaeeb943e7a0365e7bff68d237",
            "0c31bdae224e46e1a3e57439d3a7dd92",
            "310523761ce448e5a0872fa85be67e63"
          ]
        },
        "id": "UKRmnN7jbxbd",
        "outputId": "6ab49645-efc1-440c-ff3e-f74a9e3ff7b8"
      },
      "outputs": [
        {
          "output_type": "display_data",
          "data": {
            "text/plain": [
              "VBox(children=(HTML(value='<center> <img\\nsrc=https://huggingface.co/front/assets/huggingface_logo-noborder.sv…"
            ],
            "application/vnd.jupyter.widget-view+json": {
              "version_major": 2,
              "version_minor": 0,
              "model_id": "bb489fb4c9ae4d7c8298bec5cb74ec94"
            }
          },
          "metadata": {}
        }
      ],
      "source": [
        "from huggingface_hub import hf_hub_download, notebook_login\n",
        "notebook_login()"
      ]
    },
    {
      "cell_type": "code",
      "execution_count": null,
      "metadata": {
        "colab": {
          "base_uri": "https://localhost:8080/"
        },
        "id": "-z3Bg4Ui26l2",
        "outputId": "7ce91a2c-676e-4462-94d5-fedef5c5344f"
      },
      "outputs": [
        {
          "data": {
            "text/plain": [
              "<torch.autograd.grad_mode.set_grad_enabled at 0x7e51040b59f0>"
            ]
          },
          "execution_count": 14,
          "metadata": {},
          "output_type": "execute_result"
        }
      ],
      "source": [
        "torch.set_grad_enabled(False) # avoid blowing up mem"
      ]
    },
    {
      "cell_type": "code",
      "execution_count": null,
      "metadata": {
        "colab": {
          "base_uri": "https://localhost:8080/",
          "height": 273,
          "referenced_widgets": [
            "233f29e175334a16b5515b27f0a8778c",
            "a0621c5d2c4d487daf23fcb8e32a03fa",
            "d2fd00d8938745c1863a029d3442b931",
            "04b037520b2c417b8a6c068e27930874",
            "b469baaa443c494e816d8ee632d5988c",
            "8dc1b5ec4a054ebb92134374d5dccf6c",
            "07b6c59b71b143dca10d51b29783f203",
            "984fa028eb8b48a5b7e56ab11c24a256",
            "7c7b82f6132743b7a9cc9f58e6d8afe6",
            "61676e08e0cf4739bb0d37cdbd8a2f88",
            "291b12ad00a440a48edeb40f679388e7",
            "be86561f57aa4d27b68d0f677d5e486e",
            "4942af8aa8824a3cbd190ba76c2dd6eb",
            "6130f5bc8ae1466f829fae7cdd1cbd70",
            "3295eefe096f49c38b26310fe3d02a41",
            "803fa8895ec740d5bd41ebe05d0628e2",
            "b63a9588b593479393b192e16bf35b5a",
            "a208dc8ae9a84331aeb79ec8c9121797",
            "02b4005a696f4876bdf227f485a4f2ea",
            "65b13801e1da4a4b9fd4a6a35c7162bf",
            "b4a875c3351e4a618af23372afee79a4",
            "f22520c512a44b88803e6c2f385135bc",
            "55ad601c2dd242549716956c787406ba",
            "00ac04241f6c4838a59dd5dca252e5fb",
            "b4fe1c0c085c4b83bd53138841f86d6c",
            "ee6b83d16381491387a5c94be2a98796",
            "42fd54d1e1c04124b42d8059f69fdfd6",
            "6d8767da3e514c71a3ce48674bce8d90",
            "a2aafb0918d842eca25771724434a1f6",
            "ca41d933a1a845e0bd52e2e235655de7",
            "6dc440f523ac4d6693a8016645d3601d",
            "0f580ab200dc490e9361a00fe342bed7",
            "d04cdd4f65d14198a2183a44d4665802",
            "15007bcd9c8e486eb22a637b316c7d55",
            "e28591033c254b12848a13f44b8291f9",
            "4bd0f95c0aab4a5abd48977369eac143",
            "75795946e6664777ab5df38404bb57f0",
            "0ec02aa9d9f748e4b1a8fae7ac3abd48",
            "542c17a24fe84c46a70a864089c3cdce",
            "71982b62da2a4600b8d8268b8d5c45d4",
            "11ded3f5c28f41b082b7b9335ec57913",
            "d0d071e70848472fb22adf3391d3edcf",
            "455bb9eca8f14b4fad76bf01d27f7ed9",
            "13ed92db36e54be99d6bebc5864f9f85",
            "425be99824484e0681ecdfb5f4f99b03",
            "4274c67fe5bf4696b089731f5b3a241c",
            "95f8b060b9b946d0b463e6fb82cf57b5",
            "b0e0f46f54ca47dabbec2b570309e722",
            "b676257a67a4422b868ebbbc25a33ac8",
            "69713d826e8f49c78fc104eee5bb99e7",
            "ef81635fa15548b49ae78d1de549755d",
            "2b05ea1cf63b49be9b29bb334863ff14",
            "8a907e03033f4753a17c55c1132d59b4",
            "7ca5d63b6cd2468fbec1a815e0a1b7e9",
            "ca18f5c8d84e4e5f98e5f70789ff66c5",
            "d323ea7cf9e84c8eabe9e59ed7fb314a",
            "4f72120c62f44c198c2ab71e35bb80f1",
            "8fee74e4b69046298f6ee8e54dc8028c",
            "dbe7abfa7ae0495f823f8720e446baa7",
            "3f6ae7adac644d3281509ac2ab823963",
            "f5518cfe7aa84f6e903cbeb723a8c94d",
            "dfe80ebbb0754b60984cb3f4d6d0ed8f",
            "5f3c2a1121094c48825a206043c6c052",
            "6dcc5e9d65604d6e9a7fbe7b656e7a21",
            "b48c8a7dffde4bb19267e1bacb6f921d",
            "eb1dc5f259f44f7c822980a9811fe7f5",
            "5897118afe75485c836235d9571328a3",
            "27b21e0d516245d18a1f544f7551f10c",
            "c8692b18421c44b0b5260307c740d7ec",
            "8f26056d04664478a1f38f6cd935746d",
            "902d899c6bd9431e844a3ecb357f059c",
            "5270c661b934441186f67bc43bbd83ac",
            "1d18c2f9a639407b9d862931bf2e76c4",
            "3ab8517dde634a13be9771b8b3a66282",
            "7147e2c30bc04362940c9acc71b976b0",
            "3d149eec8d3944268e309aa644a50f81",
            "9a28ce04b8484a92baea651316a35159",
            "77023c5826cd4566b73e99b7d4aa0c00",
            "55d7aecc83fa4876902ba769cc2595cd",
            "58a1803ea53748afa95a5ec5d1eff6d4",
            "45e8f38a933440e7a2c0c0c772d683ee",
            "6372285acfcd47e1bede91eb3f1141d0",
            "c123bafeb51e429eb4f63fad56f5ebc0",
            "eee544572d94415291c8f5ab94f3200f",
            "c57e1c986b7e4a718382bd5c284cfedc",
            "3827830f9e8044438e9e44b63769a361",
            "2354d5feecb44c60b888acebf4ec7b51",
            "0da06fe648734275a8432be8bd401146"
          ]
        },
        "id": "12wF3f7o1Ni7",
        "outputId": "27ae2ad9-8954-413f-deca-717e091ca4f7"
      },
      "outputs": [
        {
          "output_type": "display_data",
          "data": {
            "text/plain": [
              "config.json:   0%|          | 0.00/818 [00:00<?, ?B/s]"
            ],
            "application/vnd.jupyter.widget-view+json": {
              "version_major": 2,
              "version_minor": 0,
              "model_id": "233f29e175334a16b5515b27f0a8778c"
            }
          },
          "metadata": {}
        },
        {
          "output_type": "display_data",
          "data": {
            "text/plain": [
              "model.safetensors.index.json:   0%|          | 0.00/24.2k [00:00<?, ?B/s]"
            ],
            "application/vnd.jupyter.widget-view+json": {
              "version_major": 2,
              "version_minor": 0,
              "model_id": "be86561f57aa4d27b68d0f677d5e486e"
            }
          },
          "metadata": {}
        },
        {
          "output_type": "display_data",
          "data": {
            "text/plain": [
              "Downloading shards:   0%|          | 0/3 [00:00<?, ?it/s]"
            ],
            "application/vnd.jupyter.widget-view+json": {
              "version_major": 2,
              "version_minor": 0,
              "model_id": "55ad601c2dd242549716956c787406ba"
            }
          },
          "metadata": {}
        },
        {
          "output_type": "display_data",
          "data": {
            "text/plain": [
              "model-00001-of-00003.safetensors:   0%|          | 0.00/4.99G [00:00<?, ?B/s]"
            ],
            "application/vnd.jupyter.widget-view+json": {
              "version_major": 2,
              "version_minor": 0,
              "model_id": "15007bcd9c8e486eb22a637b316c7d55"
            }
          },
          "metadata": {}
        },
        {
          "output_type": "display_data",
          "data": {
            "text/plain": [
              "model-00002-of-00003.safetensors:   0%|          | 0.00/4.98G [00:00<?, ?B/s]"
            ],
            "application/vnd.jupyter.widget-view+json": {
              "version_major": 2,
              "version_minor": 0,
              "model_id": "425be99824484e0681ecdfb5f4f99b03"
            }
          },
          "metadata": {}
        },
        {
          "output_type": "display_data",
          "data": {
            "text/plain": [
              "model-00003-of-00003.safetensors:   0%|          | 0.00/481M [00:00<?, ?B/s]"
            ],
            "application/vnd.jupyter.widget-view+json": {
              "version_major": 2,
              "version_minor": 0,
              "model_id": "d323ea7cf9e84c8eabe9e59ed7fb314a"
            }
          },
          "metadata": {}
        },
        {
          "output_type": "display_data",
          "data": {
            "text/plain": [
              "Loading checkpoint shards:   0%|          | 0/3 [00:00<?, ?it/s]"
            ],
            "application/vnd.jupyter.widget-view+json": {
              "version_major": 2,
              "version_minor": 0,
              "model_id": "5897118afe75485c836235d9571328a3"
            }
          },
          "metadata": {}
        },
        {
          "output_type": "display_data",
          "data": {
            "text/plain": [
              "generation_config.json:   0%|          | 0.00/168 [00:00<?, ?B/s]"
            ],
            "application/vnd.jupyter.widget-view+json": {
              "version_major": 2,
              "version_minor": 0,
              "model_id": "77023c5826cd4566b73e99b7d4aa0c00"
            }
          },
          "metadata": {}
        }
      ],
      "source": [
        "model = AutoModelForCausalLM.from_pretrained(\n",
        "    \"google/gemma-2-2b\",\n",
        "    device_map='auto',\n",
        ")"
      ]
    },
    {
      "cell_type": "code",
      "execution_count": null,
      "metadata": {
        "colab": {
          "base_uri": "https://localhost:8080/",
          "height": 145,
          "referenced_widgets": [
            "9c8735b6a33c4e9faa9265da4c911f1e",
            "3b2ec9f9a1d94edf9adc32ef24721e3c",
            "c271a78a503649f1924ec841283ef2c3",
            "115fa1ef423c4db5a8d83dc7c6731508",
            "b39bcb70f37e48398c2fe7694da73311",
            "0f21be4486c444c1b1cd8fd837a2b16e",
            "52865b734f284432b19322c60f554769",
            "7e65b19d39af40f5a7f2acb741858555",
            "1b40e640361d413d9f36ab25a439e47d",
            "9b008aced7a04e04a848d767005d4d12",
            "e241778f42144ddb8c2d73e94fd15769",
            "425f0199dbf94618a81543e14ee77956",
            "9a59a6c88b9b4919af5c11decd02aaee",
            "ef6b83eda2994c3aa0d3dad62b5fa54a",
            "e6f78458ec8d47e1a259dd05521d60e4",
            "c3f90948442643598d953fbd8bdb3031",
            "2bf13e881d3e442a81192a498e8e10c1",
            "dd169e627d9441e5bdd0e98de342b0aa",
            "a34bc439ed344d7091646027c0251ec8",
            "317754dd771e40bd8190b6e27881f2f1",
            "3f64f0bff8b5403c8ee7eb331f5d2069",
            "eff150d262174b73a00f016c5956f749",
            "ba8375f082d94f58ab9b4aa2acc50bfc",
            "8927f9309f9540e9ad83136d2a468758",
            "314274e8fe924aa1b2aa08111a96e8e2",
            "c4d0be045b414b97b60999bcbfc78db6",
            "e86db7c53acc48e4853885dc0ad78ab2",
            "41987913f8f64ea2a564f246ce1ed68b",
            "3da8a169b0be4dca8fbd5779b1c453f1",
            "200bb61ed2be4122829a0f84df4861b8",
            "d48da8d814564bfd8af868c8f32c42e7",
            "e34fc45b37c9434ca586e328ad9b3318",
            "dacf8b5d777747dc8cddb0f2d70c9e8c",
            "6a27feb9c0bf4f76aca19ecc3a914508",
            "0714f1811e394c718cff4b225175fd7e",
            "70d378d67efd4b3c9e6dc0fde456b874",
            "db006a4440e14a3698d1f65f9e34b97b",
            "ee285e3fe37747dcaff00861e1db0880",
            "5a08b58e561a41269d22c465e38df920",
            "a6d4a5d3000b4744b4d0387d449f8081",
            "f6e99861512e4746a362bdfee23624b4",
            "7c3cef69dafc4438bbda1d087d0ef2a3",
            "bd7faa0dde92458a93dbe4ab4370c255",
            "511964956d224b32b949856d663f2cd7"
          ]
        },
        "id": "RV_HTT-v7ggl",
        "outputId": "eba22482-352b-49e5-a3c2-6cf71907168f"
      },
      "outputs": [
        {
          "output_type": "display_data",
          "data": {
            "text/plain": [
              "tokenizer_config.json:   0%|          | 0.00/46.4k [00:00<?, ?B/s]"
            ],
            "application/vnd.jupyter.widget-view+json": {
              "version_major": 2,
              "version_minor": 0,
              "model_id": "9c8735b6a33c4e9faa9265da4c911f1e"
            }
          },
          "metadata": {}
        },
        {
          "output_type": "display_data",
          "data": {
            "text/plain": [
              "tokenizer.model:   0%|          | 0.00/4.24M [00:00<?, ?B/s]"
            ],
            "application/vnd.jupyter.widget-view+json": {
              "version_major": 2,
              "version_minor": 0,
              "model_id": "425f0199dbf94618a81543e14ee77956"
            }
          },
          "metadata": {}
        },
        {
          "output_type": "display_data",
          "data": {
            "text/plain": [
              "tokenizer.json:   0%|          | 0.00/17.5M [00:00<?, ?B/s]"
            ],
            "application/vnd.jupyter.widget-view+json": {
              "version_major": 2,
              "version_minor": 0,
              "model_id": "ba8375f082d94f58ab9b4aa2acc50bfc"
            }
          },
          "metadata": {}
        },
        {
          "output_type": "display_data",
          "data": {
            "text/plain": [
              "special_tokens_map.json:   0%|          | 0.00/636 [00:00<?, ?B/s]"
            ],
            "application/vnd.jupyter.widget-view+json": {
              "version_major": 2,
              "version_minor": 0,
              "model_id": "6a27feb9c0bf4f76aca19ecc3a914508"
            }
          },
          "metadata": {}
        }
      ],
      "source": [
        "tokenizer =  AutoTokenizer.from_pretrained(\"google/gemma-2-2b\")"
      ]
    },
    {
      "cell_type": "markdown",
      "metadata": {
        "id": "N8ZMNbBKMuKA"
      },
      "source": [
        "# load sae"
      ]
    },
    {
      "cell_type": "code",
      "execution_count": null,
      "metadata": {
        "colab": {
          "base_uri": "https://localhost:8080/",
          "referenced_widgets": [
            "13d97d3df3124504b7eec5c9141817ac",
            "79cf44450f8f47678339816e96cf6b2f",
            "29bedf0decb84c7cb6fd839e8b70a9c1",
            "76d555388b0f4ddeb3661084adda34bf",
            "a71a2224af374769b7073af42c170682",
            "1e7fff6b87e243a386bd84ff53797cd8",
            "36e6de6f45904ecea3335142dd1d6dad",
            "6d859c9ccad245c08ff511e5aa0fd8a4",
            "c6232bf33be744f9a57234a1be495d20",
            "d3b1f543cbd4414cbc288aa135a645d7",
            "a257e196f2584e1aa7718306a30170fe"
          ]
        },
        "id": "havaBGy6b97D",
        "outputId": "15174d4c-1570-49bd-bd39-71732e760597"
      },
      "outputs": [
        {
          "output_type": "display_data",
          "data": {
            "text/plain": [
              "params.npz:   0%|          | 0.00/302M [00:00<?, ?B/s]"
            ],
            "application/vnd.jupyter.widget-view+json": {
              "version_major": 2,
              "version_minor": 0,
              "model_id": "13d97d3df3124504b7eec5c9141817ac"
            }
          },
          "metadata": {}
        }
      ],
      "source": [
        "path_to_params = hf_hub_download(\n",
        "    repo_id=\"google/gemma-scope-2b-pt-res\",\n",
        "    filename=\"layer_20/width_16k/average_l0_71/params.npz\",\n",
        "    force_download=False,\n",
        ")"
      ]
    },
    {
      "cell_type": "code",
      "execution_count": null,
      "metadata": {
        "id": "HB0GoeZccJD7"
      },
      "outputs": [],
      "source": [
        "params = np.load(path_to_params)\n",
        "pt_params = {k: torch.from_numpy(v).cuda() for k, v in params.items()}"
      ]
    },
    {
      "cell_type": "code",
      "execution_count": null,
      "metadata": {
        "id": "WYfvS97fAFzq"
      },
      "outputs": [],
      "source": [
        "import torch.nn as nn\n",
        "class JumpReLUSAE(nn.Module):\n",
        "  def __init__(self, d_model, d_sae):\n",
        "    # Note that we initialise these to zeros because we're loading in pre-trained weights.\n",
        "    # If you want to train your own SAEs then we recommend using blah\n",
        "    super().__init__()\n",
        "    self.W_enc = nn.Parameter(torch.zeros(d_model, d_sae))\n",
        "    self.W_dec = nn.Parameter(torch.zeros(d_sae, d_model))\n",
        "    self.threshold = nn.Parameter(torch.zeros(d_sae))\n",
        "    self.b_enc = nn.Parameter(torch.zeros(d_sae))\n",
        "    self.b_dec = nn.Parameter(torch.zeros(d_model))\n",
        "\n",
        "  def encode(self, input_acts):\n",
        "    pre_acts = input_acts @ self.W_enc + self.b_enc\n",
        "    mask = (pre_acts > self.threshold)\n",
        "    acts = mask * torch.nn.functional.relu(pre_acts)\n",
        "    return acts\n",
        "\n",
        "  def decode(self, acts):\n",
        "    return acts @ self.W_dec + self.b_dec\n",
        "\n",
        "  def forward(self, acts):\n",
        "    acts = self.encode(acts)\n",
        "    recon = self.decode(acts)\n",
        "    return recon\n"
      ]
    },
    {
      "cell_type": "code",
      "execution_count": null,
      "metadata": {
        "colab": {
          "base_uri": "https://localhost:8080/"
        },
        "id": "X91UGkU1cSrC",
        "outputId": "ac90bb5a-421e-462c-eaf8-12db08147405"
      },
      "outputs": [
        {
          "output_type": "execute_result",
          "data": {
            "text/plain": [
              "<All keys matched successfully>"
            ]
          },
          "metadata": {},
          "execution_count": 25
        }
      ],
      "source": [
        "sae = JumpReLUSAE(params['W_enc'].shape[0], params['W_enc'].shape[1])\n",
        "sae.load_state_dict(pt_params)"
      ]
    },
    {
      "cell_type": "code",
      "execution_count": null,
      "metadata": {
        "colab": {
          "base_uri": "https://localhost:8080/"
        },
        "id": "sjgbfaPCjSWv",
        "outputId": "885c8097-3223-4431-f46f-5aa2daa797ba"
      },
      "outputs": [
        {
          "output_type": "execute_result",
          "data": {
            "text/plain": [
              "JumpReLUSAE()"
            ]
          },
          "metadata": {},
          "execution_count": 26
        }
      ],
      "source": [
        "sae.cuda()"
      ]
    },
    {
      "cell_type": "code",
      "execution_count": null,
      "metadata": {
        "id": "sNSfL80Uv611"
      },
      "outputs": [],
      "source": [
        "# layer_name = \"blocks.17.hook_resid_post\"\n",
        "\n",
        "# sae, cfg_dict, sparsity = SAE.from_pretrained(\n",
        "#     release = \"google/gemma-scope-2b-pt-res\",\n",
        "#     sae_id = layer_name,\n",
        "#     device = device\n",
        "# )"
      ]
    },
    {
      "cell_type": "markdown",
      "metadata": {
        "id": "XA_Y_AfNSra3"
      },
      "source": [
        "# test prompts"
      ]
    },
    {
      "cell_type": "code",
      "source": [
        "prompt = \"thirteen fourteen fifteen sixteen \"\n",
        "inputs = tokenizer.encode(prompt, return_tensors=\"pt\", add_special_tokens=True).to(\"cuda\")\n",
        "outputs = model.generate(input_ids=inputs, max_new_tokens=1)\n",
        "print(tokenizer.decode(outputs[0, -1]))"
      ],
      "metadata": {
        "colab": {
          "base_uri": "https://localhost:8080/"
        },
        "id": "0qw-KjbczhRr",
        "outputId": "7b863f36-ed0e-4a79-e55c-901bb5eb0407"
      },
      "execution_count": null,
      "outputs": [
        {
          "output_type": "stream",
          "name": "stdout",
          "text": [
            "1\n"
          ]
        }
      ]
    },
    {
      "cell_type": "code",
      "execution_count": null,
      "metadata": {
        "colab": {
          "base_uri": "https://localhost:8080/"
        },
        "id": "v6ZlLW2J5LA8",
        "outputId": "06e21790-f62a-4e8d-8783-3c91e1a8341f"
      },
      "outputs": [
        {
          "name": "stdout",
          "output_type": "stream",
          "text": [
            " five\n"
          ]
        }
      ],
      "source": [
        "prompt = \"one two three four\"\n",
        "inputs = tokenizer.encode(prompt, return_tensors=\"pt\", add_special_tokens=True).to(\"cuda\")\n",
        "outputs = model.generate(input_ids=inputs, max_new_tokens=1)\n",
        "print(tokenizer.decode(outputs[0, -1]))"
      ]
    },
    {
      "cell_type": "code",
      "execution_count": null,
      "metadata": {
        "colab": {
          "base_uri": "https://localhost:8080/"
        },
        "id": "CdE23DXMc04C",
        "outputId": "aab347c6-a846-41df-f18c-61fefd7af28b"
      },
      "outputs": [
        {
          "name": "stdout",
          "output_type": "stream",
          "text": [
            " May\n"
          ]
        }
      ],
      "source": [
        "prompt = \"January February March April\"\n",
        "inputs = tokenizer.encode(prompt, return_tensors=\"pt\", add_special_tokens=True).to(\"cuda\")\n",
        "outputs = model.generate(input_ids=inputs, max_new_tokens=1)\n",
        "print(tokenizer.decode(outputs[0, -1]))"
      ]
    },
    {
      "cell_type": "code",
      "execution_count": null,
      "metadata": {
        "colab": {
          "base_uri": "https://localhost:8080/"
        },
        "id": "W9i30SjukWri",
        "outputId": "b4fa0895-0c53-4f0b-965d-72093b55176d"
      },
      "outputs": [
        {
          "name": "stdout",
          "output_type": "stream",
          "text": [
            " mayo\n"
          ]
        }
      ],
      "source": [
        "prompt = \"enero febrero marzo abril\"\n",
        "inputs = tokenizer.encode(prompt, return_tensors=\"pt\", add_special_tokens=True).to(\"cuda\")\n",
        "outputs = model.generate(input_ids=inputs, max_new_tokens=1)\n",
        "print(tokenizer.decode(outputs[0, -1]))"
      ]
    },
    {
      "cell_type": "code",
      "execution_count": null,
      "metadata": {
        "colab": {
          "base_uri": "https://localhost:8080/"
        },
        "id": "6zqJa8cHjrpf",
        "outputId": "a1f952dc-6802-4c96-c03a-b1906fa24049"
      },
      "outputs": [
        {
          "name": "stdout",
          "output_type": "stream",
          "text": [
            " dog\n"
          ]
        }
      ],
      "source": [
        "prompt = \"My favorite animal is a\"\n",
        "inputs = tokenizer.encode(prompt, return_tensors=\"pt\", add_special_tokens=True).to(\"cuda\")\n",
        "outputs = model.generate(input_ids=inputs, max_new_tokens=1)\n",
        "print(tokenizer.decode(outputs[0, -1]))"
      ]
    },
    {
      "cell_type": "code",
      "execution_count": null,
      "metadata": {
        "colab": {
          "base_uri": "https://localhost:8080/"
        },
        "id": "tF3lUpZ3ju3C",
        "outputId": "69dcc53c-715f-4661-8cd7-cce6fa65b883"
      },
      "outputs": [
        {
          "name": "stdout",
          "output_type": "stream",
          "text": [
            " snake\n"
          ]
        }
      ],
      "source": [
        "prompt = \"My least favorite animal is a\"\n",
        "inputs = tokenizer.encode(prompt, return_tensors=\"pt\", add_special_tokens=True).to(\"cuda\")\n",
        "outputs = model.generate(input_ids=inputs, max_new_tokens=1)\n",
        "print(tokenizer.decode(outputs[0, -1]))"
      ]
    },
    {
      "cell_type": "code",
      "execution_count": null,
      "metadata": {
        "colab": {
          "base_uri": "https://localhost:8080/"
        },
        "id": "vGcdL7Ed0xQY",
        "outputId": "b834b18a-cbaa-42a2-c83f-d47b4da70ac0"
      },
      "outputs": [
        {
          "name": "stdout",
          "output_type": "stream",
          "text": [
            "<strong>\n"
          ]
        }
      ],
      "source": [
        "prompt = \"I like dogs. What animal do I like? A: dog. I like cats. What animal do I like? A: \"\n",
        "inputs = tokenizer.encode(prompt, return_tensors=\"pt\", add_special_tokens=True).to(\"cuda\")\n",
        "outputs = model.generate(input_ids=inputs, max_new_tokens=1)\n",
        "print(tokenizer.decode(outputs[0, -1]))"
      ]
    },
    {
      "cell_type": "code",
      "execution_count": null,
      "metadata": {
        "colab": {
          "base_uri": "https://localhost:8080/"
        },
        "id": "uQ4PLODE1OGI",
        "outputId": "633e4974-fa0e-4185-a9e6-60d991047a17"
      },
      "outputs": [
        {
          "name": "stdout",
          "output_type": "stream",
          "text": [
            " this\n"
          ]
        }
      ],
      "source": [
        "prompt = \"I love\"\n",
        "inputs = tokenizer.encode(prompt, return_tensors=\"pt\", add_special_tokens=True).to(\"cuda\")\n",
        "outputs = model.generate(input_ids=inputs, max_new_tokens=1)\n",
        "print(tokenizer.decode(outputs[0, -1]))"
      ]
    },
    {
      "cell_type": "code",
      "execution_count": null,
      "metadata": {
        "colab": {
          "base_uri": "https://localhost:8080/"
        },
        "id": "7AZBNs0p1i7j",
        "outputId": "632bdbf5-93cb-435c-c612-67488fa69750"
      },
      "outputs": [
        {
          "name": "stdout",
          "output_type": "stream",
          "text": [
            " to\n"
          ]
        }
      ],
      "source": [
        "prompt = \"I hate\"\n",
        "inputs = tokenizer.encode(prompt, return_tensors=\"pt\", add_special_tokens=True).to(\"cuda\")\n",
        "outputs = model.generate(input_ids=inputs, max_new_tokens=1)\n",
        "print(tokenizer.decode(outputs[0, -1]))"
      ]
    },
    {
      "cell_type": "code",
      "execution_count": null,
      "metadata": {
        "colab": {
          "base_uri": "https://localhost:8080/"
        },
        "id": "V--QBe8h__Dt",
        "outputId": "766ee63f-bbbf-4881-aa7b-c385aadc7a41"
      },
      "outputs": [
        {
          "name": "stdout",
          "output_type": "stream",
          "text": [
            " Paris\n"
          ]
        }
      ],
      "source": [
        "prompt = \"The capital of Washington is Seattle. The capital of France is\"\n",
        "inputs = tokenizer.encode(prompt, return_tensors=\"pt\", add_special_tokens=True).to(\"cuda\")\n",
        "outputs = model.generate(input_ids=inputs, max_new_tokens=1)\n",
        "print(tokenizer.decode(outputs[0, -1]))"
      ]
    },
    {
      "cell_type": "code",
      "execution_count": null,
      "metadata": {
        "colab": {
          "base_uri": "https://localhost:8080/"
        },
        "id": "cCousLRnBB4p",
        "outputId": "d107d63f-8d29-4b96-bb2c-f37d91643e52"
      },
      "outputs": [
        {
          "name": "stdout",
          "output_type": "stream",
          "text": [
            " Berlin\n"
          ]
        }
      ],
      "source": [
        "prompt = \"The capital of Washington is Seattle. The capital of Germany is\"\n",
        "inputs = tokenizer.encode(prompt, return_tensors=\"pt\", add_special_tokens=True).to(\"cuda\")\n",
        "outputs = model.generate(input_ids=inputs, max_new_tokens=1)\n",
        "print(tokenizer.decode(outputs[0, -1]))"
      ]
    },
    {
      "cell_type": "code",
      "execution_count": null,
      "metadata": {
        "colab": {
          "base_uri": "https://localhost:8080/"
        },
        "id": "x0_-uoWfB8FO",
        "outputId": "3d43b65a-a7b6-471c-e91e-aff8b7fa751c"
      },
      "outputs": [
        {
          "name": "stdout",
          "output_type": "stream",
          "text": [
            " Beijing\n"
          ]
        }
      ],
      "source": [
        "prompt = \"The capital of France is Paris. The capital of China is\"\n",
        "inputs = tokenizer.encode(prompt, return_tensors=\"pt\", add_special_tokens=True).to(\"cuda\")\n",
        "outputs = model.generate(input_ids=inputs, max_new_tokens=1)\n",
        "print(tokenizer.decode(outputs[0, -1]))"
      ]
    },
    {
      "cell_type": "code",
      "execution_count": null,
      "metadata": {
        "colab": {
          "base_uri": "https://localhost:8080/"
        },
        "id": "0vQ6oGYfCEYW",
        "outputId": "24bf470b-184c-4f3c-b240-49ebaa124f71"
      },
      "outputs": [
        {
          "name": "stdout",
          "output_type": "stream",
          "text": [
            " Washington\n"
          ]
        }
      ],
      "source": [
        "prompt = \"The capital of France is Paris. The capital of America is\"\n",
        "inputs = tokenizer.encode(prompt, return_tensors=\"pt\", add_special_tokens=True).to(\"cuda\")\n",
        "outputs = model.generate(input_ids=inputs, max_new_tokens=1)\n",
        "print(tokenizer.decode(outputs[0, -1]))"
      ]
    },
    {
      "cell_type": "markdown",
      "metadata": {
        "id": "pzHjkBaA3RfR"
      },
      "source": [
        "# get actv fns"
      ]
    },
    {
      "cell_type": "code",
      "execution_count": null,
      "metadata": {
        "id": "313MaH5JepiA"
      },
      "outputs": [],
      "source": [
        "prompt = \"January February March April\"\n",
        "inputs = tokenizer.encode(prompt, return_tensors=\"pt\", add_special_tokens=True).to(\"cuda\")\n",
        "# outputs = model.generate(input_ids=inputs, max_new_tokens=1)\n",
        "# print(tokenizer.decode(outputs[0, -1]))"
      ]
    },
    {
      "cell_type": "code",
      "execution_count": null,
      "metadata": {
        "id": "aSvKs581WU7j"
      },
      "outputs": [],
      "source": [
        "def gather_residual_activations(model, target_layer, inputs):\n",
        "  target_act = None\n",
        "  def gather_target_act_hook(mod, inputs, outputs):\n",
        "    nonlocal target_act # make sure we can modify the target_act from the outer scope\n",
        "    target_act = outputs[0]\n",
        "    return outputs\n",
        "  handle = model.model.layers[target_layer].register_forward_hook(gather_target_act_hook)\n",
        "  _ = model.forward(inputs)\n",
        "  handle.remove()\n",
        "  return target_act"
      ]
    },
    {
      "cell_type": "code",
      "execution_count": null,
      "metadata": {
        "id": "pXoyLeWeXQF2"
      },
      "outputs": [],
      "source": [
        "target_act = gather_residual_activations(model, 20, inputs)"
      ]
    },
    {
      "cell_type": "markdown",
      "metadata": {
        "id": "iS4Re5VTQti5"
      },
      "source": [
        "Now, we can run our SAE on the saved activations."
      ]
    },
    {
      "cell_type": "code",
      "execution_count": null,
      "metadata": {
        "id": "H2ax0KLtZfcu"
      },
      "outputs": [],
      "source": [
        "sae_acts = sae.encode(target_act.to(torch.float32))\n",
        "# recon = sae.decode(sae_acts)"
      ]
    },
    {
      "cell_type": "code",
      "execution_count": null,
      "metadata": {
        "colab": {
          "base_uri": "https://localhost:8080/"
        },
        "id": "5vXYwKLQe42S",
        "outputId": "d30a3779-fffb-46c6-d4b9-18c7a0873038"
      },
      "outputs": [
        {
          "output_type": "execute_result",
          "data": {
            "text/plain": [
              "torch.Size([1, 5, 16384])"
            ]
          },
          "metadata": {},
          "execution_count": 32
        }
      ],
      "source": [
        "sae_acts.shape"
      ]
    },
    {
      "cell_type": "markdown",
      "metadata": {
        "id": "bXTxV071e8IN"
      },
      "source": [
        "# load sae weights\n"
      ]
    },
    {
      "cell_type": "code",
      "execution_count": null,
      "metadata": {
        "colab": {
          "base_uri": "https://localhost:8080/"
        },
        "id": "QI45LyeKe-K8",
        "outputId": "a7c320c2-661b-420c-c6dd-15acebdd8541"
      },
      "outputs": [
        {
          "output_type": "execute_result",
          "data": {
            "text/plain": [
              "(16384, 2304)"
            ]
          },
          "metadata": {},
          "execution_count": 33
        }
      ],
      "source": [
        "weight_matrix = sae.W_dec.detach().cpu().numpy()\n",
        "weight_matrix.shape"
      ]
    },
    {
      "cell_type": "markdown",
      "metadata": {
        "id": "HkfCIAfTzm1P"
      },
      "source": [
        "# find common feats (single samp)"
      ]
    },
    {
      "cell_type": "markdown",
      "metadata": {
        "id": "EwnRgiTAzodh"
      },
      "source": [
        "## fav vs least fav animal"
      ]
    },
    {
      "cell_type": "code",
      "execution_count": null,
      "metadata": {
        "id": "0VBCinNnzodm"
      },
      "outputs": [],
      "source": [
        "prompt = \"My favorite animal is a\"\n",
        "inputs = tokenizer.encode(prompt, return_tensors=\"pt\", add_special_tokens=True).to(\"cuda\")\n",
        "target_act = gather_residual_activations(model, 20, inputs)\n",
        "sae_acts_1 = sae.encode(target_act.to(torch.float32))"
      ]
    },
    {
      "cell_type": "code",
      "execution_count": null,
      "metadata": {
        "id": "_MZQv34jzodm"
      },
      "outputs": [],
      "source": [
        "prompt = \"My least favorite animal is a\"\n",
        "inputs = tokenizer.encode(prompt, return_tensors=\"pt\", add_special_tokens=True).to(\"cuda\")\n",
        "target_act = gather_residual_activations(model, 20, inputs)\n",
        "sae_acts_2 = sae.encode(target_act.to(torch.float32))"
      ]
    },
    {
      "cell_type": "code",
      "execution_count": null,
      "metadata": {
        "colab": {
          "base_uri": "https://localhost:8080/"
        },
        "id": "xpXut7t5foG6",
        "outputId": "1f47c2ef-e3c8-4a79-beff-3da0f5be4b22"
      },
      "outputs": [
        {
          "data": {
            "text/plain": [
              "torch.Size([1, 6, 16384])"
            ]
          },
          "execution_count": 113,
          "metadata": {},
          "output_type": "execute_result"
        }
      ],
      "source": [
        "sae_acts_1.shape"
      ]
    },
    {
      "cell_type": "code",
      "execution_count": null,
      "metadata": {
        "colab": {
          "base_uri": "https://localhost:8080/"
        },
        "id": "_HUtEWYfzodn",
        "outputId": "95c232f4-8a68-4aaf-d6be-7079b0dab48f"
      },
      "outputs": [
        {
          "data": {
            "text/plain": [
              "tensor([  247,   259,  1089,  1692,  4835,  6631,  7071,  7977,  8859,  9768,\n",
              "         9982, 12120, 12329, 15175, 15925], device='cuda:0')"
            ]
          },
          "execution_count": 114,
          "metadata": {},
          "output_type": "execute_result"
        }
      ],
      "source": [
        "feat_k = 15\n",
        "one_top_acts_values, one_top_acts_indices = sae_acts_1[0, -1, :].topk(feat_k, dim=-1)\n",
        "one_top_acts_indices.sort().values"
      ]
    },
    {
      "cell_type": "code",
      "execution_count": null,
      "metadata": {
        "colab": {
          "base_uri": "https://localhost:8080/"
        },
        "id": "DU_J7BdBzodn",
        "outputId": "30cf10b1-8adf-4555-8d1b-0d25b3ae7130"
      },
      "outputs": [
        {
          "data": {
            "text/plain": [
              "tensor([  259,  1089,  1692,  3770,  4243,  4844,  5203,  5333,  7071,  8636,\n",
              "         9768,  9982, 13996, 15175, 15925], device='cuda:0')"
            ]
          },
          "execution_count": 115,
          "metadata": {},
          "output_type": "execute_result"
        }
      ],
      "source": [
        "two_top_acts_values, two_top_acts_indices = sae_acts_2[0, -1, :].topk(feat_k, dim=-1)\n",
        "two_top_acts_indices.sort().values"
      ]
    },
    {
      "cell_type": "code",
      "execution_count": null,
      "metadata": {
        "colab": {
          "base_uri": "https://localhost:8080/"
        },
        "id": "OPX-DMtSzodn",
        "outputId": "f459ba70-c24c-4456-8505-d175e039d7ab"
      },
      "outputs": [
        {
          "data": {
            "text/plain": [
              "{259, 1089, 1692, 7071, 9768, 9982, 15175, 15925}"
            ]
          },
          "execution_count": 116,
          "metadata": {},
          "output_type": "execute_result"
        }
      ],
      "source": [
        "common_feats = set((one_top_acts_indices).tolist()).intersection(set((two_top_acts_indices).tolist()))\n",
        "common_feats"
      ]
    },
    {
      "cell_type": "code",
      "execution_count": null,
      "metadata": {
        "colab": {
          "base_uri": "https://localhost:8080/"
        },
        "id": "WVB1hTy_zodn",
        "outputId": "406dbb2a-ed21-421c-a582-6bce75518110"
      },
      "outputs": [
        {
          "name": "stdout",
          "output_type": "stream",
          "text": [
            "1089 terms related to dogs and their training or behavioral characteristics\n",
            "259 mathematical comparisons and relationships, especially involving values and operations\n",
            "15175 references to wildlife and their interactions in natural environments\n",
            "9768 terms related to control and authority, particularly in political or systemic contexts\n",
            "15925 references to personal identity or self-description\n",
            "1692 legal and technical terminology related to statutes and inventions\n",
            "9982 instances of the article \"a\" and its variations in text\n",
            "7071  the presence of the letter 'a' in various contexts\n"
          ]
        }
      ],
      "source": [
        "for f_ind in common_feats:\n",
        "    print(f_ind, feat_labels_lst[f_ind])"
      ]
    },
    {
      "cell_type": "markdown",
      "metadata": {
        "id": "HTR8vZYzruqB"
      },
      "source": [
        "### top 50"
      ]
    },
    {
      "cell_type": "code",
      "execution_count": null,
      "metadata": {
        "id": "VOvPHMPgruqG"
      },
      "outputs": [],
      "source": [
        "feat_k = 50\n",
        "one_top_acts_values, one_top_acts_indices = sae_acts_1[0, -1, :].topk(feat_k, dim=-1)\n",
        "# one_top_acts_indices.sort().values"
      ]
    },
    {
      "cell_type": "code",
      "execution_count": null,
      "metadata": {
        "id": "OsYpz9o5ruqH"
      },
      "outputs": [],
      "source": [
        "two_top_acts_values, two_top_acts_indices = sae_acts_2[0, -1, :].topk(feat_k, dim=-1)\n",
        "# two_top_acts_indices.sort().values"
      ]
    },
    {
      "cell_type": "code",
      "execution_count": null,
      "metadata": {
        "colab": {
          "base_uri": "https://localhost:8080/"
        },
        "id": "UiKXsSXl0cLL",
        "outputId": "b842ff37-20a8-4d1b-e7dd-1e255c2176cb"
      },
      "outputs": [
        {
          "name": "stdout",
          "output_type": "stream",
          "text": [
            "89.22 15175 references to wildlife and their interactions in natural environments\n",
            "74.91 9982 instances of the article \"a\" and its variations in text\n",
            "45.71 1089 terms related to dogs and their training or behavioral characteristics\n",
            "37.76 9768 terms related to control and authority, particularly in political or systemic contexts\n",
            "31.59 1692 legal and technical terminology related to statutes and inventions\n",
            "23.45 6631 the beginning of a text or important markers in a document\n",
            "23.02 15925 references to personal identity or self-description\n",
            "22.13 12120 references to plant species and their classifications\n",
            "21.42 7977 elements related to food items and their descriptions\n",
            "20.6 259 mathematical comparisons and relationships, especially involving values and operations\n",
            "17.88 8859 terminology related to virus behaviors and characteristics\n",
            "17.0 247 references to institutions or locations in a formal context, particularly focusing on educational and financial entities\n",
            "16.22 7071  the presence of the letter 'a' in various contexts\n",
            "15.54 4835 elements related to childhood and play experiences\n",
            "15.46 12329  statements about violation of rules or regulations\n",
            "15.3 4844 definitions and descriptions related to terms and concepts\n",
            "15.11 3645 phrases related to measurements or characteristics of products and experiences\n",
            "15.09 5486  interrogative and rhetorical questions related to historical events or entities\n",
            "15.02 6107  expressions of gratitude and appreciation\n",
            "15.01 5333 phrases describing various qualities or attributes, often with an emphasis on positivity or significance\n",
            "14.96 6881 instances of animal-related topics, specifically focusing on their conservation and identification\n",
            "14.69 6788  mentions of endangered species and conservation efforts\n",
            "14.43 15196 terms related to medicinal plants and their properties\n",
            "14.38 4243 phrases related to sports results, particularly draws and matches\n",
            "14.03 5203 specific quantities or occurrences of items and their relationships in contexts such as legal rights, measurements, or culinary instructions\n",
            "13.84 7455 determiners and quantifiers in various contexts\n",
            "13.79 6698 references to specific dates and numerical data within the text\n",
            "12.52 15572 instances of new or modern vehicles\n",
            "12.2 549 text that involves programming and code structure\n",
            "11.92 6588 phrases indicating large organizations or entities with significant impact\n",
            "11.71 3770 connections to historical events and critical commentary in a narrative context\n",
            "10.77 10360 connections between different concepts or ideas\n",
            "10.24 5509  concepts related to affirmative action and its implications\n",
            "10.08 13413 terms related to celestial mechanics and physics concepts\n",
            "10.04 13700 references to species comparisons and interactions, particularly between humans and other mammals\n",
            "9.68 15980 actions and intentions related to assessment and investigation in research contexts\n",
            "9.59 1815 references to notable individuals and their achievements\n",
            "9.28 16139 terms and phrases related to wildlife, specifically marine and avian species\n",
            "9.19 8508 terms related to medical conditions and health implications\n",
            "9.18 5278 elements related to visual design and detail\n",
            "9.16 9704 sections of text related to events and outcomes\n",
            "9.14 3636 emotional expressions and personal opinions about various topics, particularly food and entertainment\n",
            "9.09 6772 mentions of cats in various contexts\n",
            "9.06 3831 references to health-related issues and medical conditions\n",
            "9.06 3997 personal reflections on life experiences and relationships\n",
            "8.95 5533 terms related to medical and biological testing and analysis\n",
            "8.92 1583 words related to administrative or technical tasks and issues\n",
            "8.9 6356 identifications and descriptions of individuals, particularly in a sporting or performance context\n",
            "8.73 3518 phrases indicating disapproval or violation of rules\n",
            "8.46 5196 similes or comparisons involving \"like\" or \"as\"\n"
          ]
        }
      ],
      "source": [
        "for val, ind in zip(one_top_acts_values, one_top_acts_indices):\n",
        "    print(round(val.item(), 2), ind.item(), feat_labels_lst[ind])"
      ]
    },
    {
      "cell_type": "code",
      "execution_count": null,
      "metadata": {
        "colab": {
          "base_uri": "https://localhost:8080/"
        },
        "id": "RuKGlwXDzodn",
        "outputId": "403d5991-0b8a-4345-afb4-0e057f5f999c"
      },
      "outputs": [
        {
          "name": "stdout",
          "output_type": "stream",
          "text": [
            "77.45 9982 instances of the article \"a\" and its variations in text\n",
            "71.5 15175 references to wildlife and their interactions in natural environments\n",
            "36.54 9768 terms related to control and authority, particularly in political or systemic contexts\n",
            "26.35 1692 legal and technical terminology related to statutes and inventions\n",
            "23.95 15925 references to personal identity or self-description\n",
            "23.81 4243 phrases related to sports results, particularly draws and matches\n",
            "22.11 259 mathematical comparisons and relationships, especially involving values and operations\n",
            "20.04 4844 definitions and descriptions related to terms and concepts\n",
            "19.33 7071  the presence of the letter 'a' in various contexts\n",
            "18.42 5333 phrases describing various qualities or attributes, often with an emphasis on positivity or significance\n",
            "18.38 1089 terms related to dogs and their training or behavioral characteristics\n",
            "17.59 13996 species-related terminology in biological contexts\n",
            "16.22 5203 specific quantities or occurrences of items and their relationships in contexts such as legal rights, measurements, or culinary instructions\n",
            "15.92 8636 elements related to characters' roles and abilities in fantasy narratives\n",
            "15.69 3770 connections to historical events and critical commentary in a narrative context\n",
            "15.67 16137 expressions related to emotional and existential boredom or dissatisfaction\n",
            "15.24 6881 instances of animal-related topics, specifically focusing on their conservation and identification\n",
            "15.24 12120 references to plant species and their classifications\n",
            "15.06 3645 phrases related to measurements or characteristics of products and experiences\n",
            "14.85 6107  expressions of gratitude and appreciation\n",
            "14.65 15027 references to personal transformation and significant life experiences\n",
            "14.61 4835 elements related to childhood and play experiences\n",
            "14.24 12329  statements about violation of rules or regulations\n",
            "13.97 7977 elements related to food items and their descriptions\n",
            "13.77 5486  interrogative and rhetorical questions related to historical events or entities\n",
            "13.65 6301 references to specific quantities or degrees\n",
            "13.59 3636 emotional expressions and personal opinions about various topics, particularly food and entertainment\n",
            "13.48 13324 expressions of strong emotions and expletives\n",
            "13.4 13700 references to species comparisons and interactions, particularly between humans and other mammals\n",
            "13.08 6588 phrases indicating large organizations or entities with significant impact\n",
            "12.95 13413 terms related to celestial mechanics and physics concepts\n",
            "12.53 13623 phrases that describe significant or notable subjects or events\n",
            "12.46 6011  expressions related to reflective and observational experiences\n",
            "12.34 10360 connections between different concepts or ideas\n",
            "12.3 7455 determiners and quantifiers in various contexts\n",
            "12.16 5533 terms related to medical and biological testing and analysis\n",
            "12.07 15232 references to diseases and viruses transmitted by mosquitoes or ticks\n",
            "11.99 247 references to institutions or locations in a formal context, particularly focusing on educational and financial entities\n",
            "11.76 15196 terms related to medicinal plants and their properties\n",
            "11.38 3234 specific references to criminal cases and legal terminology\n",
            "11.34 16356  phrases and concepts related to specific instances or entities in various contexts\n",
            "10.76 1815 references to notable individuals and their achievements\n",
            "10.68 14772 the concept of \"Digital Twins\" and their applications\n",
            "10.67 5196 similes or comparisons involving \"like\" or \"as\"\n",
            "10.65 1583 words related to administrative or technical tasks and issues\n",
            "10.57 8859 terminology related to virus behaviors and characteristics\n",
            "10.53 5509  concepts related to affirmative action and its implications\n",
            "10.5 9624 terms related to the characteristics and behavior of prehistoric reptiles, specifically crocodilians\n",
            "9.66 15167  themes related to youth struggles and social issues\n",
            "9.54 15980 actions and intentions related to assessment and investigation in research contexts\n"
          ]
        }
      ],
      "source": [
        "for val, ind in zip(two_top_acts_values, two_top_acts_indices):\n",
        "    print(round(val.item(), 2), ind.item(), feat_labels_lst[ind])"
      ]
    },
    {
      "cell_type": "code",
      "execution_count": null,
      "metadata": {
        "id": "3XHGkye9ruqH"
      },
      "outputs": [],
      "source": [
        "common_feats = set((one_top_acts_indices).tolist()).intersection(set((two_top_acts_indices).tolist()))\n",
        "# common_feats"
      ]
    },
    {
      "cell_type": "code",
      "execution_count": null,
      "metadata": {
        "colab": {
          "base_uri": "https://localhost:8080/"
        },
        "id": "__cqBXibruqH",
        "outputId": "32a2aafb-5fc1-4b81-9116-a39451bb8a9a"
      },
      "outputs": [
        {
          "data": {
            "text/plain": [
              "36"
            ]
          },
          "execution_count": 123,
          "metadata": {},
          "output_type": "execute_result"
        }
      ],
      "source": [
        "len(common_feats)"
      ]
    },
    {
      "cell_type": "code",
      "execution_count": null,
      "metadata": {
        "colab": {
          "base_uri": "https://localhost:8080/"
        },
        "id": "QBdmgXgSr-lh",
        "outputId": "4ccd3547-3ef3-474c-a3b1-b52bdf7f16f2"
      },
      "outputs": [
        {
          "name": "stdout",
          "output_type": "stream",
          "text": [
            "259 mathematical comparisons and relationships, especially involving values and operations\n",
            "13700 references to species comparisons and interactions, particularly between humans and other mammals\n",
            "5509  concepts related to affirmative action and its implications\n",
            "4243 phrases related to sports results, particularly draws and matches\n",
            "1815 references to notable individuals and their achievements\n",
            "8859 terminology related to virus behaviors and characteristics\n",
            "1692 legal and technical terminology related to statutes and inventions\n",
            "5533 terms related to medical and biological testing and analysis\n",
            "7455 determiners and quantifiers in various contexts\n",
            "7071  the presence of the letter 'a' in various contexts\n",
            "9768 terms related to control and authority, particularly in political or systemic contexts\n",
            "12329  statements about violation of rules or regulations\n",
            "7977 elements related to food items and their descriptions\n",
            "1583 words related to administrative or technical tasks and issues\n",
            "3636 emotional expressions and personal opinions about various topics, particularly food and entertainment\n",
            "15925 references to personal identity or self-description\n",
            "3770 connections to historical events and critical commentary in a narrative context\n",
            "6588 phrases indicating large organizations or entities with significant impact\n",
            "3645 phrases related to measurements or characteristics of products and experiences\n",
            "1089 terms related to dogs and their training or behavioral characteristics\n",
            "15175 references to wildlife and their interactions in natural environments\n",
            "5196 similes or comparisons involving \"like\" or \"as\"\n",
            "5203 specific quantities or occurrences of items and their relationships in contexts such as legal rights, measurements, or culinary instructions\n",
            "5333 phrases describing various qualities or attributes, often with an emphasis on positivity or significance\n",
            "12120 references to plant species and their classifications\n",
            "6107  expressions of gratitude and appreciation\n",
            "15196 terms related to medicinal plants and their properties\n",
            "6881 instances of animal-related topics, specifically focusing on their conservation and identification\n",
            "4835 elements related to childhood and play experiences\n",
            "13413 terms related to celestial mechanics and physics concepts\n",
            "4844 definitions and descriptions related to terms and concepts\n",
            "15980 actions and intentions related to assessment and investigation in research contexts\n",
            "5486  interrogative and rhetorical questions related to historical events or entities\n",
            "247 references to institutions or locations in a formal context, particularly focusing on educational and financial entities\n",
            "10360 connections between different concepts or ideas\n",
            "9982 instances of the article \"a\" and its variations in text\n"
          ]
        }
      ],
      "source": [
        "for f_ind in common_feats:\n",
        "    print(f_ind, feat_labels_lst[f_ind])"
      ]
    },
    {
      "cell_type": "code",
      "execution_count": null,
      "metadata": {
        "colab": {
          "base_uri": "https://localhost:8080/"
        },
        "id": "ksIZ7KM7zodn",
        "outputId": "6897aa70-5c52-4f7e-fdb7-cdec129521d3"
      },
      "outputs": [
        {
          "name": "stdout",
          "output_type": "stream",
          "text": [
            "6788  mentions of endangered species and conservation efforts\n",
            "549 text that involves programming and code structure\n",
            "3518 phrases indicating disapproval or violation of rules\n",
            "6631 the beginning of a text or important markers in a document\n",
            "9704 sections of text related to events and outcomes\n",
            "6698 references to specific dates and numerical data within the text\n",
            "16139 terms and phrases related to wildlife, specifically marine and avian species\n",
            "15572 instances of new or modern vehicles\n",
            "6356 identifications and descriptions of individuals, particularly in a sporting or performance context\n",
            "6772 mentions of cats in various contexts\n",
            "3831 references to health-related issues and medical conditions\n",
            "8508 terms related to medical conditions and health implications\n",
            "3997 personal reflections on life experiences and relationships\n",
            "5278 elements related to visual design and detail\n"
          ]
        }
      ],
      "source": [
        "nums_only = set((one_top_acts_indices).tolist()) - set((two_top_acts_indices).tolist())\n",
        "for f_ind in nums_only:\n",
        "    print(f_ind, feat_labels_lst[f_ind])"
      ]
    },
    {
      "cell_type": "code",
      "execution_count": null,
      "metadata": {
        "colab": {
          "base_uri": "https://localhost:8080/"
        },
        "id": "oxLsoK3dzodo",
        "outputId": "ca9ae43c-5da2-4edc-9181-95e12f658625"
      },
      "outputs": [
        {
          "name": "stdout",
          "output_type": "stream",
          "text": [
            "15232 references to diseases and viruses transmitted by mosquitoes or ticks\n",
            "3234 specific references to criminal cases and legal terminology\n",
            "16356  phrases and concepts related to specific instances or entities in various contexts\n",
            "16137 expressions related to emotional and existential boredom or dissatisfaction\n",
            "13324 expressions of strong emotions and expletives\n",
            "13996 species-related terminology in biological contexts\n",
            "15027 references to personal transformation and significant life experiences\n",
            "14772 the concept of \"Digital Twins\" and their applications\n",
            "13623 phrases that describe significant or notable subjects or events\n",
            "9624 terms related to the characteristics and behavior of prehistoric reptiles, specifically crocodilians\n",
            "6011  expressions related to reflective and observational experiences\n",
            "8636 elements related to characters' roles and abilities in fantasy narratives\n",
            "6301 references to specific quantities or degrees\n",
            "15167  themes related to youth struggles and social issues\n"
          ]
        }
      ],
      "source": [
        "months_only = set((two_top_acts_indices).tolist()) - set((one_top_acts_indices).tolist())\n",
        "for f_ind in months_only:\n",
        "    print(f_ind, feat_labels_lst[f_ind])"
      ]
    },
    {
      "cell_type": "markdown",
      "metadata": {
        "id": "CVpHG5AE1mkE"
      },
      "source": [
        "## I love vs I hate"
      ]
    },
    {
      "cell_type": "code",
      "execution_count": null,
      "metadata": {
        "id": "K24bKj2q1mkU"
      },
      "outputs": [],
      "source": [
        "prompt = \"I love\"\n",
        "inputs = tokenizer.encode(prompt, return_tensors=\"pt\", add_special_tokens=True).to(\"cuda\")\n",
        "target_act = gather_residual_activations(model, 20, inputs)\n",
        "sae_acts_1 = sae.encode(target_act.to(torch.float32))"
      ]
    },
    {
      "cell_type": "code",
      "execution_count": null,
      "metadata": {
        "id": "KoQnzT-O1mkV"
      },
      "outputs": [],
      "source": [
        "prompt = \"I hate\"\n",
        "inputs = tokenizer.encode(prompt, return_tensors=\"pt\", add_special_tokens=True).to(\"cuda\")\n",
        "target_act = gather_residual_activations(model, 20, inputs)\n",
        "sae_acts_2 = sae.encode(target_act.to(torch.float32))"
      ]
    },
    {
      "cell_type": "code",
      "execution_count": null,
      "metadata": {
        "colab": {
          "base_uri": "https://localhost:8080/"
        },
        "id": "wuKfvNRl1mkV",
        "outputId": "e2fb9627-7b3a-416b-97a7-97820b807def"
      },
      "outputs": [
        {
          "data": {
            "text/plain": [
              "torch.Size([1, 3, 16384])"
            ]
          },
          "execution_count": 133,
          "metadata": {},
          "output_type": "execute_result"
        }
      ],
      "source": [
        "sae_acts_1.shape"
      ]
    },
    {
      "cell_type": "markdown",
      "metadata": {
        "id": "RDpYnNFS1ods"
      },
      "source": [
        "### top 15"
      ]
    },
    {
      "cell_type": "code",
      "execution_count": null,
      "metadata": {
        "colab": {
          "base_uri": "https://localhost:8080/"
        },
        "id": "otxdo_R51mkV",
        "outputId": "a16cb825-51e3-4199-f803-99552df5fb63"
      },
      "outputs": [
        {
          "data": {
            "text/plain": [
              "tensor([ 2230,  3019,  3840,  3997,  5426,  5525,  6631,  7541,  8713,  9362,\n",
              "         9602,  9768, 12967, 13107, 16099], device='cuda:0')"
            ]
          },
          "execution_count": 134,
          "metadata": {},
          "output_type": "execute_result"
        }
      ],
      "source": [
        "feat_k = 15\n",
        "one_top_acts_values, one_top_acts_indices = sae_acts_1[0, -1, :].topk(feat_k, dim=-1)\n",
        "one_top_acts_indices.sort().values"
      ]
    },
    {
      "cell_type": "code",
      "execution_count": null,
      "metadata": {
        "colab": {
          "base_uri": "https://localhost:8080/"
        },
        "id": "0BEelQuE1mkW",
        "outputId": "2eb987f9-3b9e-44c7-951b-8c7fa8b4ac05"
      },
      "outputs": [
        {
          "data": {
            "text/plain": [
              "tensor([  139,  2604,  3019,  3840,  3997,  5426,  6631,  7541,  7971,  9362,\n",
              "         9768, 12967, 13107, 13135, 13566], device='cuda:0')"
            ]
          },
          "execution_count": 135,
          "metadata": {},
          "output_type": "execute_result"
        }
      ],
      "source": [
        "two_top_acts_values, two_top_acts_indices = sae_acts_2[0, -1, :].topk(feat_k, dim=-1)\n",
        "two_top_acts_indices.sort().values"
      ]
    },
    {
      "cell_type": "code",
      "execution_count": null,
      "metadata": {
        "colab": {
          "base_uri": "https://localhost:8080/"
        },
        "id": "nCwme0RI1mkW",
        "outputId": "1e60551a-e857-4a5d-bf26-1edd730a2a59"
      },
      "outputs": [
        {
          "data": {
            "text/plain": [
              "{3019, 3840, 3997, 5426, 6631, 7541, 9362, 9768, 12967, 13107}"
            ]
          },
          "execution_count": 136,
          "metadata": {},
          "output_type": "execute_result"
        }
      ],
      "source": [
        "common_feats = set((one_top_acts_indices).tolist()).intersection(set((two_top_acts_indices).tolist()))\n",
        "common_feats"
      ]
    },
    {
      "cell_type": "code",
      "execution_count": null,
      "metadata": {
        "colab": {
          "base_uri": "https://localhost:8080/"
        },
        "id": "4Jaw3G9b1mkW",
        "outputId": "25f4d6a7-153c-4859-d9be-f7a438c8f9f3"
      },
      "outputs": [
        {
          "name": "stdout",
          "output_type": "stream",
          "text": [
            "3840 phrases related to opportunities and suggestions for improvement\n",
            "12967 references to personal interests and passions\n",
            "9768 terms related to control and authority, particularly in political or systemic contexts\n",
            "6631 the beginning of a text or important markers in a document\n",
            "3019  elements related to operational or procedural contexts in a structured format\n",
            "9362  expressions of affection or appreciation\n",
            "5426  references to collaboration and collective effort in various contexts\n",
            "13107 expressions of strong negative sentiments or opinions\n",
            "7541 emotional expressions and the perception of feelings\n",
            "3997 personal reflections on life experiences and relationships\n"
          ]
        }
      ],
      "source": [
        "for f_ind in common_feats:\n",
        "    print(f_ind, feat_labels_lst[f_ind])"
      ]
    },
    {
      "cell_type": "markdown",
      "metadata": {
        "id": "dnaRIQb_1mkW"
      },
      "source": [
        "### top 50"
      ]
    },
    {
      "cell_type": "code",
      "execution_count": null,
      "metadata": {
        "id": "R6ool6Gd1mkW"
      },
      "outputs": [],
      "source": [
        "feat_k = 50\n",
        "one_top_acts_values, one_top_acts_indices = sae_acts_1[0, -1, :].topk(feat_k, dim=-1)\n",
        "# one_top_acts_indices.sort().values"
      ]
    },
    {
      "cell_type": "code",
      "execution_count": null,
      "metadata": {
        "id": "SSL_uT0H1mkW"
      },
      "outputs": [],
      "source": [
        "two_top_acts_values, two_top_acts_indices = sae_acts_2[0, -1, :].topk(feat_k, dim=-1)\n",
        "# two_top_acts_indices.sort().values"
      ]
    },
    {
      "cell_type": "code",
      "execution_count": null,
      "metadata": {
        "colab": {
          "base_uri": "https://localhost:8080/"
        },
        "id": "VwxqIQJp1mkW",
        "outputId": "5eaeca06-0174-44ce-fc96-20bd64b65d81"
      },
      "outputs": [
        {
          "name": "stdout",
          "output_type": "stream",
          "text": [
            "113.25 9362  expressions of affection or appreciation\n",
            "64.33 6631 the beginning of a text or important markers in a document\n",
            "60.31 12967 references to personal interests and passions\n",
            "56.81 9602 words and themes related to love and affection\n",
            "48.57 3997 personal reflections on life experiences and relationships\n",
            "45.4 9768 terms related to control and authority, particularly in political or systemic contexts\n",
            "42.24 8713 phrases that indicate addressing or overcoming challenges\n",
            "40.63 3019  elements related to operational or procedural contexts in a structured format\n",
            "39.03 3840 phrases related to opportunities and suggestions for improvement\n",
            "37.3 5426  references to collaboration and collective effort in various contexts\n",
            "25.15 13107 expressions of strong negative sentiments or opinions\n",
            "24.88 7541 emotional expressions and the perception of feelings\n",
            "24.52 16099 quantitative descriptors indicating abundance or quantity\n",
            "23.88 5525 terms related to assessment and improvement in various contexts\n",
            "20.47 2230  references to causality and violation of rules or expectations\n",
            "19.46 12030  expressions of personal experiences and emotions\n",
            "19.06 1869 statements related to evidence and conclusions in analytical texts\n",
            "18.25 139 references to actions and their consequences, emphasizing occurrences and substances\n",
            "17.88 15605 references to holidays and festive occasions\n",
            "17.61 8630  mentions of cute or appealing items or experiences\n",
            "17.08 5845 food-related terms and descriptions\n",
            "16.41 11339 words related to storytelling and narrative elements\n",
            "14.27 6869 specific programming constructs or patterns\n",
            "14.21 4892 active verbs related to personal hobbies and outdoor activities\n",
            "13.91 1692 legal and technical terminology related to statutes and inventions\n",
            "12.51 14113 references to historical events and related criticisms of power structures\n",
            "11.65 8191 terms related to culinary professionals and their roles\n",
            "11.51 6983 historical dates and time references\n",
            "11.49 9839 keywords related to media consumption and parental control over children’s exposure to content\n",
            "11.27 9293 content related to requests for support or contributions\n",
            "10.83 6292 expressions of strong emotions and personal reflections\n",
            "10.79 1373 terms and phrases related to changes, developments, and implementations in a structured context\n",
            "10.67 4539 references to individuals or entities involved in claims or rumors\n",
            "10.61 12041 elements related to blog interactions and personal reflections\n",
            "10.46 9283 fashion-related terms and concepts related to styling\n",
            "10.25 865 conversations about understanding and personal growth, particularly in a social context\n",
            "10.12 11042 first-person pronouns and expressions of personal experience\n",
            "9.93 4837 specific words that indicate actions, people, or affirmations in a statement\n",
            "9.85 2516  grammatical constructions that indicate causality or actions taken by subjects\n",
            "9.58 14231 phrases focusing on past experiences and reflections on previous content\n",
            "9.36 13838 first-person pronouns and related expressions in the text\n",
            "8.99 10041 instances of adversity and overcoming challenges\n",
            "8.72 10640 information about critiques and evaluations in research studies\n",
            "8.67 4091 phrases that indicate hypocrisy or inconsistency in people's actions or statements\n",
            "8.55 6143 phrases related to medical conditions and treatments\n",
            "8.44 12763 terms related to privilege and social identity\n",
            "8.37 8436 phrases related to community engagement and support in the arts and education sectors\n",
            "8.03 1812 details related to business relationships and contracts\n",
            "7.96 6837 terms related to skin conditions and treatments\n",
            "7.93 11016 prepositions and connections that indicate relationships in the text\n"
          ]
        }
      ],
      "source": [
        "for val, ind in zip(one_top_acts_values, one_top_acts_indices):\n",
        "    print(round(val.item(), 2), ind.item(), feat_labels_lst[ind])"
      ]
    },
    {
      "cell_type": "code",
      "execution_count": null,
      "metadata": {
        "colab": {
          "base_uri": "https://localhost:8080/"
        },
        "id": "ieB-URUn1mkX",
        "outputId": "8ddd25dc-47a6-4749-8ee1-6681ed8ab65b"
      },
      "outputs": [
        {
          "name": "stdout",
          "output_type": "stream",
          "text": [
            "75.36 9362  expressions of affection or appreciation\n",
            "67.41 2604 phrases expressing dislike or hatred towards people or situations.\n",
            "48.07 13135 expressions of negativity or unfavorable situations\n",
            "47.8 6631 the beginning of a text or important markers in a document\n",
            "44.73 9768 terms related to control and authority, particularly in political or systemic contexts\n",
            "41.01 3997 personal reflections on life experiences and relationships\n",
            "36.79 139 references to actions and their consequences, emphasizing occurrences and substances\n",
            "35.8 3019  elements related to operational or procedural contexts in a structured format\n",
            "35.1 3840 phrases related to opportunities and suggestions for improvement\n",
            "32.65 13566 terms related to \"hat\" and its variations, including forms of the word such as \"hating.\"\n",
            "29.33 5426  references to collaboration and collective effort in various contexts\n",
            "29.25 13107 expressions of strong negative sentiments or opinions\n",
            "26.96 7971  references to specific scientific articles and researchers\n",
            "24.35 12967 references to personal interests and passions\n",
            "23.06 7541 emotional expressions and the perception of feelings\n",
            "20.16 1692 legal and technical terminology related to statutes and inventions\n",
            "19.6 10156 expressions of refusal or denial\n",
            "19.58 14113 references to historical events and related criticisms of power structures\n",
            "19.35 1869 statements related to evidence and conclusions in analytical texts\n",
            "18.73 8713 phrases that indicate addressing or overcoming challenges\n",
            "18.49 5525 terms related to assessment and improvement in various contexts\n",
            "18.11 6983 historical dates and time references\n",
            "16.43 2841  expressions of disbelief or surprise\n",
            "16.29 12329  statements about violation of rules or regulations\n",
            "16.24 3538 expressions of admission, confession, or acknowledgment of wrongdoing or sensitive subjects\n",
            "15.96 865 conversations about understanding and personal growth, particularly in a social context\n",
            "15.23 11340  mentions of rates and their associated values or trends in various contexts\n",
            "15.16 6143 phrases related to medical conditions and treatments\n",
            "15.01 13122 sentences that express obligations or requirements\n",
            "14.91 6869 specific programming constructs or patterns\n",
            "14.84 9602 words and themes related to love and affection\n",
            "14.82 2230  references to causality and violation of rules or expectations\n",
            "14.58 8203  language related to accountability and responsibility\n",
            "14.53 12871 statistics related to gender roles and perceptions\n",
            "13.47 16099 quantitative descriptors indicating abundance or quantity\n",
            "13.41 10379 expressions of personal reflection and existential questioning\n",
            "12.86 12763 terms related to privilege and social identity\n",
            "12.64 15605 references to holidays and festive occasions\n",
            "12.38 5517 references to support, community engagement, and social interactions\n",
            "11.99 6336 terms related to legal and criminal proceedings\n",
            "11.99 259 mathematical comparisons and relationships, especially involving values and operations\n",
            "11.79 1747 first-person expressions of personal experience or opinion\n",
            "11.74 892 explicit references to food\n",
            "11.66 3645 phrases related to measurements or characteristics of products and experiences\n",
            "11.59 12090 phrases and terms that indicate reduction or simplification of processes and costs\n",
            "11.56 6554 negations and phrases indicating absence or exceptions\n",
            "11.56 879 key concepts related to physical exercise and fitness\n",
            "11.51 6915 technical terms related to gauge theory and its application in physics\n",
            "11.27 15027 references to personal transformation and significant life experiences\n",
            "11.23 1373 terms and phrases related to changes, developments, and implementations in a structured context\n"
          ]
        }
      ],
      "source": [
        "for val, ind in zip(two_top_acts_values, two_top_acts_indices):\n",
        "    print(round(val.item(), 2), ind.item(), feat_labels_lst[ind])"
      ]
    },
    {
      "cell_type": "code",
      "execution_count": null,
      "metadata": {
        "id": "42Jq5IQb1mkX"
      },
      "outputs": [],
      "source": [
        "common_feats = set((one_top_acts_indices).tolist()).intersection(set((two_top_acts_indices).tolist()))\n",
        "# common_feats"
      ]
    },
    {
      "cell_type": "code",
      "execution_count": null,
      "metadata": {
        "colab": {
          "base_uri": "https://localhost:8080/"
        },
        "id": "rE4Ntcxy1mkX",
        "outputId": "09da364e-0422-49f5-9c05-c2a8c646b5d1"
      },
      "outputs": [
        {
          "data": {
            "text/plain": [
              "26"
            ]
          },
          "execution_count": 143,
          "metadata": {},
          "output_type": "execute_result"
        }
      ],
      "source": [
        "len(common_feats)"
      ]
    },
    {
      "cell_type": "code",
      "execution_count": null,
      "metadata": {
        "colab": {
          "base_uri": "https://localhost:8080/"
        },
        "id": "1apzI9BE1mkX",
        "outputId": "34bef7c1-a2b4-456c-c306-3cf2c91f0ea4"
      },
      "outputs": [
        {
          "name": "stdout",
          "output_type": "stream",
          "text": [
            "3840 phrases related to opportunities and suggestions for improvement\n",
            "9602 words and themes related to love and affection\n",
            "8713 phrases that indicate addressing or overcoming challenges\n",
            "139 references to actions and their consequences, emphasizing occurrences and substances\n",
            "9362  expressions of affection or appreciation\n",
            "5525 terms related to assessment and improvement in various contexts\n",
            "1692 legal and technical terminology related to statutes and inventions\n",
            "3997 personal reflections on life experiences and relationships\n",
            "14113 references to historical events and related criticisms of power structures\n",
            "12967 references to personal interests and passions\n",
            "9768 terms related to control and authority, particularly in political or systemic contexts\n",
            "5426  references to collaboration and collective effort in various contexts\n",
            "13107 expressions of strong negative sentiments or opinions\n",
            "2230  references to causality and violation of rules or expectations\n",
            "6983 historical dates and time references\n",
            "3019  elements related to operational or procedural contexts in a structured format\n",
            "1869 statements related to evidence and conclusions in analytical texts\n",
            "6869 specific programming constructs or patterns\n",
            "12763 terms related to privilege and social identity\n",
            "1373 terms and phrases related to changes, developments, and implementations in a structured context\n",
            "865 conversations about understanding and personal growth, particularly in a social context\n",
            "16099 quantitative descriptors indicating abundance or quantity\n",
            "6631 the beginning of a text or important markers in a document\n",
            "7541 emotional expressions and the perception of feelings\n",
            "15605 references to holidays and festive occasions\n",
            "6143 phrases related to medical conditions and treatments\n"
          ]
        }
      ],
      "source": [
        "for f_ind in common_feats:\n",
        "    print(f_ind, feat_labels_lst[f_ind])"
      ]
    },
    {
      "cell_type": "code",
      "execution_count": null,
      "metadata": {
        "colab": {
          "base_uri": "https://localhost:8080/"
        },
        "id": "hXCu2ux01mkX",
        "outputId": "e8f67b7d-4e0f-479f-e142-7b8d73272836"
      },
      "outputs": [
        {
          "name": "stdout",
          "output_type": "stream",
          "text": [
            "11016 prepositions and connections that indicate relationships in the text\n",
            "12041 elements related to blog interactions and personal reflections\n",
            "13838 first-person pronouns and related expressions in the text\n",
            "10640 information about critiques and evaluations in research studies\n",
            "6292 expressions of strong emotions and personal reflections\n",
            "1812 details related to business relationships and contracts\n",
            "14231 phrases focusing on past experiences and reflections on previous content\n",
            "4892 active verbs related to personal hobbies and outdoor activities\n",
            "11042 first-person pronouns and expressions of personal experience\n",
            "6837 terms related to skin conditions and treatments\n",
            "8630  mentions of cute or appealing items or experiences\n",
            "10041 instances of adversity and overcoming challenges\n",
            "4539 references to individuals or entities involved in claims or rumors\n",
            "9283 fashion-related terms and concepts related to styling\n",
            "11339 words related to storytelling and narrative elements\n",
            "9293 content related to requests for support or contributions\n",
            "2516  grammatical constructions that indicate causality or actions taken by subjects\n",
            "5845 food-related terms and descriptions\n",
            "4837 specific words that indicate actions, people, or affirmations in a statement\n",
            "9839 keywords related to media consumption and parental control over children’s exposure to content\n",
            "8436 phrases related to community engagement and support in the arts and education sectors\n",
            "4091 phrases that indicate hypocrisy or inconsistency in people's actions or statements\n",
            "12030  expressions of personal experiences and emotions\n",
            "8191 terms related to culinary professionals and their roles\n"
          ]
        }
      ],
      "source": [
        "nums_only = set((one_top_acts_indices).tolist()) - set((two_top_acts_indices).tolist())\n",
        "for f_ind in nums_only:\n",
        "    print(f_ind, feat_labels_lst[f_ind])"
      ]
    },
    {
      "cell_type": "code",
      "execution_count": null,
      "metadata": {
        "colab": {
          "base_uri": "https://localhost:8080/"
        },
        "id": "cPccLbBV1mkY",
        "outputId": "92bc13cc-bcad-46d7-f727-6736b11c3ecb"
      },
      "outputs": [
        {
          "name": "stdout",
          "output_type": "stream",
          "text": [
            "6915 technical terms related to gauge theory and its application in physics\n",
            "259 mathematical comparisons and relationships, especially involving values and operations\n",
            "8203  language related to accountability and responsibility\n",
            "10379 expressions of personal reflection and existential questioning\n",
            "5517 references to support, community engagement, and social interactions\n",
            "2841  expressions of disbelief or surprise\n",
            "6554 negations and phrases indicating absence or exceptions\n",
            "7971  references to specific scientific articles and researchers\n",
            "12329  statements about violation of rules or regulations\n",
            "2604 phrases expressing dislike or hatred towards people or situations.\n",
            "10156 expressions of refusal or denial\n",
            "15027 references to personal transformation and significant life experiences\n",
            "12090 phrases and terms that indicate reduction or simplification of processes and costs\n",
            "3645 phrases related to measurements or characteristics of products and experiences\n",
            "6336 terms related to legal and criminal proceedings\n",
            "13122 sentences that express obligations or requirements\n",
            "12871 statistics related to gender roles and perceptions\n",
            "11340  mentions of rates and their associated values or trends in various contexts\n",
            "13135 expressions of negativity or unfavorable situations\n",
            "3538 expressions of admission, confession, or acknowledgment of wrongdoing or sensitive subjects\n",
            "1747 first-person expressions of personal experience or opinion\n",
            "879 key concepts related to physical exercise and fitness\n",
            "892 explicit references to food\n",
            "13566 terms related to \"hat\" and its variations, including forms of the word such as \"hating.\"\n"
          ]
        }
      ],
      "source": [
        "months_only = set((two_top_acts_indices).tolist()) - set((one_top_acts_indices).tolist())\n",
        "for f_ind in months_only:\n",
        "    print(f_ind, feat_labels_lst[f_ind])"
      ]
    },
    {
      "cell_type": "markdown",
      "metadata": {
        "id": "DyyIQrgABL-Y"
      },
      "source": [
        "## France v Germany capitals"
      ]
    },
    {
      "cell_type": "code",
      "execution_count": null,
      "metadata": {
        "id": "488GjMnYBL-h"
      },
      "outputs": [],
      "source": [
        "prompt = \"The capital of Washington is Seattle. The capital of France is\"\n",
        "inputs = tokenizer.encode(prompt, return_tensors=\"pt\", add_special_tokens=True).to(\"cuda\")\n",
        "target_act = gather_residual_activations(model, 20, inputs)\n",
        "sae_acts_1 = sae.encode(target_act.to(torch.float32))"
      ]
    },
    {
      "cell_type": "code",
      "execution_count": null,
      "metadata": {
        "id": "Blz91NYrBL-h"
      },
      "outputs": [],
      "source": [
        "prompt = \"The capital of Washington is Seattle. The capital of Germany is\"\n",
        "inputs = tokenizer.encode(prompt, return_tensors=\"pt\", add_special_tokens=True).to(\"cuda\")\n",
        "target_act = gather_residual_activations(model, 20, inputs)\n",
        "sae_acts_2 = sae.encode(target_act.to(torch.float32))"
      ]
    },
    {
      "cell_type": "code",
      "execution_count": null,
      "metadata": {
        "colab": {
          "base_uri": "https://localhost:8080/"
        },
        "id": "Z8ZzGBAJBL-h",
        "outputId": "93d2fbc7-a4df-457c-967c-6d761e9edbe4"
      },
      "outputs": [
        {
          "data": {
            "text/plain": [
              "torch.Size([1, 13, 16384])"
            ]
          },
          "execution_count": 166,
          "metadata": {},
          "output_type": "execute_result"
        }
      ],
      "source": [
        "sae_acts_1.shape"
      ]
    },
    {
      "cell_type": "markdown",
      "metadata": {
        "id": "zXWp8f_tBL-i"
      },
      "source": [
        "### top 15"
      ]
    },
    {
      "cell_type": "code",
      "execution_count": null,
      "metadata": {
        "colab": {
          "base_uri": "https://localhost:8080/"
        },
        "id": "A5zDUu1iBL-i",
        "outputId": "760230b2-d079-47a7-ecb7-e6b556d0342a"
      },
      "outputs": [
        {
          "data": {
            "text/plain": [
              "tensor([ 3022,  3031,  4126,  4314,  4840,  4987,  5486,  5516,  7869,  8651,\n",
              "         9461,  9768, 12387, 12927, 13414], device='cuda:0')"
            ]
          },
          "execution_count": 167,
          "metadata": {},
          "output_type": "execute_result"
        }
      ],
      "source": [
        "feat_k = 15\n",
        "one_top_acts_values, one_top_acts_indices = sae_acts_1[0, -1, :].topk(feat_k, dim=-1)\n",
        "one_top_acts_indices.sort().values"
      ]
    },
    {
      "cell_type": "code",
      "execution_count": null,
      "metadata": {
        "colab": {
          "base_uri": "https://localhost:8080/"
        },
        "id": "Ge9BLotEBL-i",
        "outputId": "a429c8dc-6299-4ce9-a0fa-6a6c18a9420d"
      },
      "outputs": [
        {
          "data": {
            "text/plain": [
              "tensor([ 3022,  3031,  4314,  4840,  4987,  5486,  8651,  9461,  9768, 12387,\n",
              "        12927, 13414, 14463, 15316, 16173], device='cuda:0')"
            ]
          },
          "execution_count": 168,
          "metadata": {},
          "output_type": "execute_result"
        }
      ],
      "source": [
        "two_top_acts_values, two_top_acts_indices = sae_acts_2[0, -1, :].topk(feat_k, dim=-1)\n",
        "two_top_acts_indices.sort().values"
      ]
    },
    {
      "cell_type": "code",
      "execution_count": null,
      "metadata": {
        "colab": {
          "base_uri": "https://localhost:8080/"
        },
        "id": "Qg6DABGzBL-i",
        "outputId": "bec04fbc-03c1-4229-ebc7-f02aa9583923"
      },
      "outputs": [
        {
          "data": {
            "text/plain": [
              "{3022, 3031, 4314, 4840, 4987, 5486, 8651, 9461, 9768, 12387, 12927, 13414}"
            ]
          },
          "execution_count": 169,
          "metadata": {},
          "output_type": "execute_result"
        }
      ],
      "source": [
        "common_feats = set((one_top_acts_indices).tolist()).intersection(set((two_top_acts_indices).tolist()))\n",
        "common_feats"
      ]
    },
    {
      "cell_type": "code",
      "execution_count": null,
      "metadata": {
        "colab": {
          "base_uri": "https://localhost:8080/"
        },
        "id": "YUpl3xwQBL-i",
        "outputId": "8f95d263-9c49-4b17-d86e-916bff4ff367"
      },
      "outputs": [
        {
          "name": "stdout",
          "output_type": "stream",
          "text": [
            "12387 specific locations and associated contexts\n",
            "13414 statements of existence or presence\n",
            "9768 terms related to control and authority, particularly in political or systemic contexts\n",
            "4840 references to historical governance and conflicts in the context of the Abbasid Caliphate\n",
            "8651 terms related to political institutions and membership\n",
            "3022 references to geographical locations and their characteristics\n",
            "5486  interrogative and rhetorical questions related to historical events or entities\n",
            "9461 references to educational institutions and their locations\n",
            "3031  references to significant documents or publications, especially in academic or legal contexts\n",
            "4314 references to churches, bishops, and geographical locations related to religious contexts\n",
            "4987 references to political figures and their actions\n",
            "12927 statements of existence or presence\n"
          ]
        }
      ],
      "source": [
        "for f_ind in common_feats:\n",
        "    print(f_ind, feat_labels_lst[f_ind])"
      ]
    },
    {
      "cell_type": "markdown",
      "metadata": {
        "id": "-8pg2s1KBL-i"
      },
      "source": [
        "### top 50"
      ]
    },
    {
      "cell_type": "code",
      "execution_count": null,
      "metadata": {
        "id": "o90bTn5GBL-i"
      },
      "outputs": [],
      "source": [
        "feat_k = 50\n",
        "one_top_acts_values, one_top_acts_indices = sae_acts_1[0, -1, :].topk(feat_k, dim=-1)\n",
        "# one_top_acts_indices.sort().values"
      ]
    },
    {
      "cell_type": "code",
      "execution_count": null,
      "metadata": {
        "id": "D-TBVLFVBL-i"
      },
      "outputs": [],
      "source": [
        "two_top_acts_values, two_top_acts_indices = sae_acts_2[0, -1, :].topk(feat_k, dim=-1)\n",
        "# two_top_acts_indices.sort().values"
      ]
    },
    {
      "cell_type": "code",
      "execution_count": null,
      "metadata": {
        "colab": {
          "base_uri": "https://localhost:8080/"
        },
        "id": "xfY0oY2xBL-i",
        "outputId": "ac08ed1f-9c64-4a6d-c46f-dc22c606448b"
      },
      "outputs": [
        {
          "name": "stdout",
          "output_type": "stream",
          "text": [
            "111.58 5516 technical terminology related to scientific research processes\n",
            "55.76 3031  references to significant documents or publications, especially in academic or legal contexts\n",
            "45.63 9461 references to educational institutions and their locations\n",
            "40.83 4314 references to churches, bishops, and geographical locations related to religious contexts\n",
            "33.46 4987 references to political figures and their actions\n",
            "27.16 3022 references to geographical locations and their characteristics\n",
            "26.42 13414 statements of existence or presence\n",
            "24.91 5486  interrogative and rhetorical questions related to historical events or entities\n",
            "24.71 4840 references to historical governance and conflicts in the context of the Abbasid Caliphate\n",
            "21.56 9768 terms related to control and authority, particularly in political or systemic contexts\n",
            "18.25 8651 terms related to political institutions and membership\n",
            "18.06 12927 statements of existence or presence\n",
            "17.3 12387 specific locations and associated contexts\n",
            "14.71 7869 references to specific geographical locations and political actions\n",
            "14.52 4126  information related to numerical expressions and calculations involving prime factors\n",
            "14.43 11725 terms related to medical conditions and defects\n",
            "14.05 8366 verbs and their related forms, often related to medical or technical contexts\n",
            "12.72 12381  locations and geographical references in narratives\n",
            "12.45 14383 discussions related to political accountability and accusations of malfeasance\n",
            "12.3 6793 elements that resemble structured data or identifiers, likely in a list or JSON format\n",
            "11.92 5219  references to specific locations or landmarks\n",
            "11.44 12690 terms related to environmental health and regulations\n",
            "11.42 2191 references to individuals involved in historical conflicts and political events\n",
            "11.39 9120 references to statistical data and comparisons of populations across different countries\n",
            "11.32 14489  structures and formats typical in academic or formal writing\n",
            "10.99 6470 references to financial assets and capital-related terms\n",
            "10.91 2021 topics related to political events and elections\n",
            "10.84 4703 locations and cultural landmarks associated with historical significance\n",
            "10.79 14023  references to financial transactions and their management\n",
            "10.73 1590  comparative phrases that express relationships or contrasts between concepts\n",
            "10.64 14388 terms and phrases related to technology, particularly in the context of apps, security, and online privacy\n",
            "10.53 5689 terms that indicate naming or defining something\n",
            "10.45 1692 legal and technical terminology related to statutes and inventions\n",
            "10.27 5345 proper names and their pronunciations\n",
            "10.25 259 mathematical comparisons and relationships, especially involving values and operations\n",
            "10.23 1905 locations and references to geographical areas or administrative divisions\n",
            "9.96 15596 past and present tense forms of the verb \"to be\" in various contexts\n",
            "9.95 5663 references to Washington, DC and related institutions\n",
            "9.77 11192 references to political entities, particularly countries and their governmental structures\n",
            "9.66 3645 phrases related to measurements or characteristics of products and experiences\n",
            "9.53 3760 terms related to conditions and outcomes in experimental settings\n",
            "9.43 6306 terms related to African history and governance structures\n",
            "9.33 8684  technical jargon and programming-related terms\n",
            "9.16 11010 numerical values, programming symbols, and names of institutions and locations\n",
            "9.08 9419 names of individuals and titles\n",
            "8.65 6570 country names and their associations with various metrics or events\n",
            "8.58 5432 technical and scientific terminology related to measurements and comparisons\n",
            "8.55 14155 technical terms and concepts related to medical procedures and research\n",
            "8.27 15537 terms related to rights and governance\n",
            "8.26 14138 health-related terms and conditions\n"
          ]
        }
      ],
      "source": [
        "for val, ind in zip(one_top_acts_values, one_top_acts_indices):\n",
        "    print(round(val.item(), 2), ind.item(), feat_labels_lst[ind])"
      ]
    },
    {
      "cell_type": "code",
      "execution_count": null,
      "metadata": {
        "colab": {
          "base_uri": "https://localhost:8080/"
        },
        "id": "a0fQC99dBL-j",
        "outputId": "08f843c2-1bc6-46eb-cd82-0ff995544df9"
      },
      "outputs": [
        {
          "name": "stdout",
          "output_type": "stream",
          "text": [
            "90.84 16173 names of political parties and significant political events\n",
            "57.17 3031  references to significant documents or publications, especially in academic or legal contexts\n",
            "56.97 9461 references to educational institutions and their locations\n",
            "41.64 4314 references to churches, bishops, and geographical locations related to religious contexts\n",
            "31.25 3022 references to geographical locations and their characteristics\n",
            "28.53 4987 references to political figures and their actions\n",
            "25.46 13414 statements of existence or presence\n",
            "25.03 5486  interrogative and rhetorical questions related to historical events or entities\n",
            "23.29 9768 terms related to control and authority, particularly in political or systemic contexts\n",
            "22.78 14463 keywords associated with regional geography and governance\n",
            "21.98 15316 references to political statements and decisions\n",
            "21.26 8651 terms related to political institutions and membership\n",
            "21.0 12387 specific locations and associated contexts\n",
            "18.86 12927 statements of existence or presence\n",
            "17.75 4840 references to historical governance and conflicts in the context of the Abbasid Caliphate\n",
            "15.41 8366 verbs and their related forms, often related to medical or technical contexts\n",
            "15.09 12381  locations and geographical references in narratives\n",
            "14.9 11725 terms related to medical conditions and defects\n",
            "14.63 7869 references to specific geographical locations and political actions\n",
            "12.4 1905 locations and references to geographical areas or administrative divisions\n",
            "12.14 4126  information related to numerical expressions and calculations involving prime factors\n",
            "12.13 5219  references to specific locations or landmarks\n",
            "11.33 14489  structures and formats typical in academic or formal writing\n",
            "10.94 1640 references to positions of authority and roles within organizations\n",
            "10.93 1692 legal and technical terminology related to statutes and inventions\n",
            "10.87 14388 terms and phrases related to technology, particularly in the context of apps, security, and online privacy\n",
            "10.79 1590  comparative phrases that express relationships or contrasts between concepts\n",
            "10.64 14138 health-related terms and conditions\n",
            "10.18 5689 terms that indicate naming or defining something\n",
            "10.13 3760 terms related to conditions and outcomes in experimental settings\n",
            "9.96 15878  references to government structures and regulations, particularly those relating to federal and state authority\n",
            "9.9 6793 elements that resemble structured data or identifiers, likely in a list or JSON format\n",
            "9.73 9120 references to statistical data and comparisons of populations across different countries\n",
            "9.71 9419 names of individuals and titles\n",
            "9.51 11192 references to political entities, particularly countries and their governmental structures\n",
            "9.46 10655 terms related to legal processes and court proceedings\n",
            "9.43 5345 proper names and their pronunciations\n",
            "9.37 14023  references to financial transactions and their management\n",
            "9.15 4750 phrases indicating personal experiences and feelings related to coding and problem-solving\n",
            "8.9 2429 statements about the presence or significance of certain conditions or criteria\n",
            "8.85 9064 mathematical operations and variable assignments in expressions\n",
            "8.75 911 various types of definitions and categorizations in a text\n",
            "8.68 13612  references to luxury car brands and their specific models\n",
            "8.65 308 requests for help or assistance\n",
            "8.54 5432 technical and scientific terminology related to measurements and comparisons\n",
            "8.38 259 mathematical comparisons and relationships, especially involving values and operations\n",
            "8.36 6570 country names and their associations with various metrics or events\n",
            "8.31 11445 content related to democracy and governance\n",
            "8.3 5602 referenced cultural elements or iconic foods, specifically the cheesesteak\n",
            "8.24 8684  technical jargon and programming-related terms\n"
          ]
        }
      ],
      "source": [
        "for val, ind in zip(two_top_acts_values, two_top_acts_indices):\n",
        "    print(round(val.item(), 2), ind.item(), feat_labels_lst[ind])"
      ]
    },
    {
      "cell_type": "code",
      "execution_count": null,
      "metadata": {
        "id": "gn05-x0VBL-j"
      },
      "outputs": [],
      "source": [
        "common_feats = set((one_top_acts_indices).tolist()).intersection(set((two_top_acts_indices).tolist()))\n",
        "# common_feats"
      ]
    },
    {
      "cell_type": "code",
      "execution_count": null,
      "metadata": {
        "colab": {
          "base_uri": "https://localhost:8080/"
        },
        "id": "KnspKWVwBL-j",
        "outputId": "01000b8c-80c7-4253-e74b-15141703f753"
      },
      "outputs": [
        {
          "data": {
            "text/plain": [
              "36"
            ]
          },
          "execution_count": 176,
          "metadata": {},
          "output_type": "execute_result"
        }
      ],
      "source": [
        "len(common_feats)"
      ]
    },
    {
      "cell_type": "code",
      "execution_count": null,
      "metadata": {
        "colab": {
          "base_uri": "https://localhost:8080/"
        },
        "id": "DrxDBX5VBL-j",
        "outputId": "166cb25d-4aba-4ac9-bf5a-a836cf857ed4"
      },
      "outputs": [
        {
          "name": "stdout",
          "output_type": "stream",
          "text": [
            "259 mathematical comparisons and relationships, especially involving values and operations\n",
            "6793 elements that resemble structured data or identifiers, likely in a list or JSON format\n",
            "14489  structures and formats typical in academic or formal writing\n",
            "1692 legal and technical terminology related to statutes and inventions\n",
            "4126  information related to numerical expressions and calculations involving prime factors\n",
            "9120 references to statistical data and comparisons of populations across different countries\n",
            "9768 terms related to control and authority, particularly in political or systemic contexts\n",
            "6570 country names and their associations with various metrics or events\n",
            "8366 verbs and their related forms, often related to medical or technical contexts\n",
            "3760 terms related to conditions and outcomes in experimental settings\n",
            "14388 terms and phrases related to technology, particularly in the context of apps, security, and online privacy\n",
            "1590  comparative phrases that express relationships or contrasts between concepts\n",
            "5432 technical and scientific terminology related to measurements and comparisons\n",
            "5689 terms that indicate naming or defining something\n",
            "11192 references to political entities, particularly countries and their governmental structures\n",
            "14138 health-related terms and conditions\n",
            "7869 references to specific geographical locations and political actions\n",
            "14023  references to financial transactions and their management\n",
            "8651 terms related to political institutions and membership\n",
            "9419 names of individuals and titles\n",
            "11725 terms related to medical conditions and defects\n",
            "3022 references to geographical locations and their characteristics\n",
            "3031  references to significant documents or publications, especially in academic or legal contexts\n",
            "4314 references to churches, bishops, and geographical locations related to religious contexts\n",
            "12381  locations and geographical references in narratives\n",
            "5345 proper names and their pronunciations\n",
            "12387 specific locations and associated contexts\n",
            "5219  references to specific locations or landmarks\n",
            "13414 statements of existence or presence\n",
            "4840 references to historical governance and conflicts in the context of the Abbasid Caliphate\n",
            "8684  technical jargon and programming-related terms\n",
            "5486  interrogative and rhetorical questions related to historical events or entities\n",
            "1905 locations and references to geographical areas or administrative divisions\n",
            "9461 references to educational institutions and their locations\n",
            "4987 references to political figures and their actions\n",
            "12927 statements of existence or presence\n"
          ]
        }
      ],
      "source": [
        "for f_ind in common_feats:\n",
        "    print(f_ind, feat_labels_lst[f_ind])"
      ]
    },
    {
      "cell_type": "code",
      "execution_count": null,
      "metadata": {
        "colab": {
          "base_uri": "https://localhost:8080/"
        },
        "id": "Su8m_FBEBL-j",
        "outputId": "cb8dfde5-d224-4026-e48b-29c0d858205b"
      },
      "outputs": [
        {
          "name": "stdout",
          "output_type": "stream",
          "text": [
            "11010 numerical values, programming symbols, and names of institutions and locations\n",
            "6306 terms related to African history and governance structures\n",
            "2021 topics related to political events and elections\n",
            "6470 references to financial assets and capital-related terms\n",
            "14155 technical terms and concepts related to medical procedures and research\n",
            "5516 technical terminology related to scientific research processes\n",
            "15596 past and present tense forms of the verb \"to be\" in various contexts\n",
            "4703 locations and cultural landmarks associated with historical significance\n",
            "2191 references to individuals involved in historical conflicts and political events\n",
            "14383 discussions related to political accountability and accusations of malfeasance\n",
            "15537 terms related to rights and governance\n",
            "12690 terms related to environmental health and regulations\n",
            "3645 phrases related to measurements or characteristics of products and experiences\n",
            "5663 references to Washington, DC and related institutions\n"
          ]
        }
      ],
      "source": [
        "nums_only = set((one_top_acts_indices).tolist()) - set((two_top_acts_indices).tolist())\n",
        "for f_ind in nums_only:\n",
        "    print(f_ind, feat_labels_lst[f_ind])"
      ]
    },
    {
      "cell_type": "code",
      "execution_count": null,
      "metadata": {
        "colab": {
          "base_uri": "https://localhost:8080/"
        },
        "id": "r82y7EiMBL-j",
        "outputId": "e6ced474-5eb9-49c4-a20a-7c794074cf40"
      },
      "outputs": [
        {
          "name": "stdout",
          "output_type": "stream",
          "text": [
            "5602 referenced cultural elements or iconic foods, specifically the cheesesteak\n",
            "15878  references to government structures and regulations, particularly those relating to federal and state authority\n",
            "1640 references to positions of authority and roles within organizations\n",
            "9064 mathematical operations and variable assignments in expressions\n",
            "14463 keywords associated with regional geography and governance\n",
            "13612  references to luxury car brands and their specific models\n",
            "16173 names of political parties and significant political events\n",
            "4750 phrases indicating personal experiences and feelings related to coding and problem-solving\n",
            "911 various types of definitions and categorizations in a text\n",
            "308 requests for help or assistance\n",
            "11445 content related to democracy and governance\n",
            "15316 references to political statements and decisions\n",
            "2429 statements about the presence or significance of certain conditions or criteria\n",
            "10655 terms related to legal processes and court proceedings\n"
          ]
        }
      ],
      "source": [
        "months_only = set((two_top_acts_indices).tolist()) - set((one_top_acts_indices).tolist())\n",
        "for f_ind in months_only:\n",
        "    print(f_ind, feat_labels_lst[f_ind])"
      ]
    },
    {
      "cell_type": "markdown",
      "metadata": {
        "id": "eA3k-0GUCcBl"
      },
      "source": [
        "## America v China capitals"
      ]
    },
    {
      "cell_type": "code",
      "execution_count": null,
      "metadata": {
        "id": "aIOHr8jICcBw"
      },
      "outputs": [],
      "source": [
        "prompt = \"The capital of France is Paris. The capital of America is\"\n",
        "inputs = tokenizer.encode(prompt, return_tensors=\"pt\", add_special_tokens=True).to(\"cuda\")\n",
        "target_act = gather_residual_activations(model, 20, inputs)\n",
        "sae_acts_1 = sae.encode(target_act.to(torch.float32))"
      ]
    },
    {
      "cell_type": "code",
      "execution_count": null,
      "metadata": {
        "id": "Dem5LmFLCcBw"
      },
      "outputs": [],
      "source": [
        "prompt = \"The capital of France is Paris. The capital of China is\"\n",
        "inputs = tokenizer.encode(prompt, return_tensors=\"pt\", add_special_tokens=True).to(\"cuda\")\n",
        "target_act = gather_residual_activations(model, 20, inputs)\n",
        "sae_acts_2 = sae.encode(target_act.to(torch.float32))"
      ]
    },
    {
      "cell_type": "code",
      "execution_count": null,
      "metadata": {
        "colab": {
          "base_uri": "https://localhost:8080/"
        },
        "id": "rKUqN240CcBw",
        "outputId": "037a369b-60c3-4081-b346-16eb2283f864"
      },
      "outputs": [
        {
          "data": {
            "text/plain": [
              "torch.Size([1, 13, 16384])"
            ]
          },
          "execution_count": 186,
          "metadata": {},
          "output_type": "execute_result"
        }
      ],
      "source": [
        "sae_acts_1.shape"
      ]
    },
    {
      "cell_type": "markdown",
      "metadata": {
        "id": "VXgY3gcCCcBx"
      },
      "source": [
        "### top 15"
      ]
    },
    {
      "cell_type": "code",
      "execution_count": null,
      "metadata": {
        "colab": {
          "base_uri": "https://localhost:8080/"
        },
        "id": "bK30RagyCcBx",
        "outputId": "8d54026d-38cc-454e-f011-0e9364f52069"
      },
      "outputs": [
        {
          "data": {
            "text/plain": [
              "tensor([ 1583,  3022,  3031,  4314,  4840,  4987,  5486,  5663,  8366,  9461,\n",
              "         9768, 12927, 13414, 15596, 16033], device='cuda:0')"
            ]
          },
          "execution_count": 187,
          "metadata": {},
          "output_type": "execute_result"
        }
      ],
      "source": [
        "feat_k = 15\n",
        "one_top_acts_values, one_top_acts_indices = sae_acts_1[0, -1, :].topk(feat_k, dim=-1)\n",
        "one_top_acts_indices.sort().values"
      ]
    },
    {
      "cell_type": "code",
      "execution_count": null,
      "metadata": {
        "colab": {
          "base_uri": "https://localhost:8080/"
        },
        "id": "HhR7jbGpCcBx",
        "outputId": "4c87f7ea-6879-4190-83b8-d1ddcdee75e7"
      },
      "outputs": [
        {
          "data": {
            "text/plain": [
              "tensor([ 3022,  3031,  3242,  3915,  4314,  4840,  4987,  5486,  8366,  9461,\n",
              "         9768, 11549, 12927, 13414, 13737], device='cuda:0')"
            ]
          },
          "execution_count": 188,
          "metadata": {},
          "output_type": "execute_result"
        }
      ],
      "source": [
        "two_top_acts_values, two_top_acts_indices = sae_acts_2[0, -1, :].topk(feat_k, dim=-1)\n",
        "two_top_acts_indices.sort().values"
      ]
    },
    {
      "cell_type": "code",
      "execution_count": null,
      "metadata": {
        "colab": {
          "base_uri": "https://localhost:8080/"
        },
        "id": "UOL7B_h-CcBx",
        "outputId": "be66eaf9-e5a8-444a-9644-a7a03c6a529f"
      },
      "outputs": [
        {
          "data": {
            "text/plain": [
              "{3022, 3031, 4314, 4840, 4987, 5486, 8366, 9461, 9768, 12927, 13414}"
            ]
          },
          "execution_count": 189,
          "metadata": {},
          "output_type": "execute_result"
        }
      ],
      "source": [
        "common_feats = set((one_top_acts_indices).tolist()).intersection(set((two_top_acts_indices).tolist()))\n",
        "common_feats"
      ]
    },
    {
      "cell_type": "code",
      "execution_count": null,
      "metadata": {
        "colab": {
          "base_uri": "https://localhost:8080/"
        },
        "id": "c3SmeE0eCcBy",
        "outputId": "2d72bee7-b2a0-4fc3-d557-745c6ae795b9"
      },
      "outputs": [
        {
          "name": "stdout",
          "output_type": "stream",
          "text": [
            "13414 statements of existence or presence\n",
            "9768 terms related to control and authority, particularly in political or systemic contexts\n",
            "4840 references to historical governance and conflicts in the context of the Abbasid Caliphate\n",
            "5486  interrogative and rhetorical questions related to historical events or entities\n",
            "3022 references to geographical locations and their characteristics\n",
            "8366 verbs and their related forms, often related to medical or technical contexts\n",
            "9461 references to educational institutions and their locations\n",
            "3031  references to significant documents or publications, especially in academic or legal contexts\n",
            "4314 references to churches, bishops, and geographical locations related to religious contexts\n",
            "4987 references to political figures and their actions\n",
            "12927 statements of existence or presence\n"
          ]
        }
      ],
      "source": [
        "for f_ind in common_feats:\n",
        "    print(f_ind, feat_labels_lst[f_ind])"
      ]
    },
    {
      "cell_type": "markdown",
      "metadata": {
        "id": "uWk_8WS1CcBy"
      },
      "source": [
        "### top 50"
      ]
    },
    {
      "cell_type": "code",
      "execution_count": null,
      "metadata": {
        "id": "WCEwaWnaCcBy"
      },
      "outputs": [],
      "source": [
        "feat_k = 50\n",
        "one_top_acts_values, one_top_acts_indices = sae_acts_1[0, -1, :].topk(feat_k, dim=-1)\n",
        "# one_top_acts_indices.sort().values"
      ]
    },
    {
      "cell_type": "code",
      "execution_count": null,
      "metadata": {
        "id": "uQt24KIVCcBy"
      },
      "outputs": [],
      "source": [
        "two_top_acts_values, two_top_acts_indices = sae_acts_2[0, -1, :].topk(feat_k, dim=-1)\n",
        "# two_top_acts_indices.sort().values"
      ]
    },
    {
      "cell_type": "code",
      "execution_count": null,
      "metadata": {
        "colab": {
          "base_uri": "https://localhost:8080/"
        },
        "id": "UGXK1DXWCcBy",
        "outputId": "85a2467b-36e7-47d3-e5a9-f59bc9af869e"
      },
      "outputs": [
        {
          "name": "stdout",
          "output_type": "stream",
          "text": [
            "68.53 3031  references to significant documents or publications, especially in academic or legal contexts\n",
            "61.96 5663 references to Washington, DC and related institutions\n",
            "55.89 16033 mentions of U.S. entities or actions, particularly those related to government and economics\n",
            "37.14 3022 references to geographical locations and their characteristics\n",
            "33.87 5486  interrogative and rhetorical questions related to historical events or entities\n",
            "32.35 13414 statements of existence or presence\n",
            "26.32 4987 references to political figures and their actions\n",
            "25.19 9461 references to educational institutions and their locations\n",
            "24.13 9768 terms related to control and authority, particularly in political or systemic contexts\n",
            "22.01 12927 statements of existence or presence\n",
            "21.3 8366 verbs and their related forms, often related to medical or technical contexts\n",
            "20.94 4314 references to churches, bishops, and geographical locations related to religious contexts\n",
            "20.18 1583 words related to administrative or technical tasks and issues\n",
            "19.61 4840 references to historical governance and conflicts in the context of the Abbasid Caliphate\n",
            "19.26 15596 past and present tense forms of the verb \"to be\" in various contexts\n",
            "18.62 6631 the beginning of a text or important markers in a document\n",
            "18.5 259 mathematical comparisons and relationships, especially involving values and operations\n",
            "16.42 11725 terms related to medical conditions and defects\n",
            "16.01 12381  locations and geographical references in narratives\n",
            "15.41 1590  comparative phrases that express relationships or contrasts between concepts\n",
            "14.41 12935 questions related to economic efficiency, fairness, and environmental impact\n",
            "14.25 5689 terms that indicate naming or defining something\n",
            "13.89 4127 references to freedom and liberty in political contexts\n",
            "13.6 1692 legal and technical terminology related to statutes and inventions\n",
            "13.51 15878  references to government structures and regulations, particularly those relating to federal and state authority\n",
            "13.14 10655 terms related to legal processes and court proceedings\n",
            "13.1 3770 connections to historical events and critical commentary in a narrative context\n",
            "13.0 12387 specific locations and associated contexts\n",
            "12.79 8651 terms related to political institutions and membership\n",
            "12.53 6793 elements that resemble structured data or identifiers, likely in a list or JSON format\n",
            "12.41 5874 proper nouns and specific names, particularly related to people and organizations\n",
            "12.3 6570 country names and their associations with various metrics or events\n",
            "11.97 1976 symbols and mathematical elements used in scientific or technical contexts\n",
            "11.95 2021 topics related to political events and elections\n",
            "11.91 308 requests for help or assistance\n",
            "11.61 615 terms related to legal proceedings and political processes\n",
            "11.54 7876 elements related to ratings and classifications\n",
            "11.46 7869 references to specific geographical locations and political actions\n",
            "11.42 7292 the verb \"is\" in various grammatical contexts\n",
            "11.27 4126  information related to numerical expressions and calculations involving prime factors\n",
            "11.2 6163 monetary values and their associated attributes in different contexts\n",
            "11.17 16225 references to political parties and issues involving the Republican Party\n",
            "11.0 14138 health-related terms and conditions\n",
            "11.0 2626 legal terminology related to regulatory definitions and company classifications\n",
            "10.6 14489  structures and formats typical in academic or formal writing\n",
            "10.46 1640 references to positions of authority and roles within organizations\n",
            "10.32 8096 references to the city of Washington, D.C. and its variations\n",
            "10.26 13668 discussions about political norms and behaviors\n",
            "10.05 4750 phrases indicating personal experiences and feelings related to coding and problem-solving\n",
            "9.89 2964  phrases that indicate relationships or connections involving the concept of \"to\" and associated actions\n"
          ]
        }
      ],
      "source": [
        "for val, ind in zip(one_top_acts_values, one_top_acts_indices):\n",
        "    print(round(val.item(), 2), ind.item(), feat_labels_lst[ind])"
      ]
    },
    {
      "cell_type": "code",
      "execution_count": null,
      "metadata": {
        "colab": {
          "base_uri": "https://localhost:8080/"
        },
        "id": "3akVaIG8CcBy",
        "outputId": "f2197459-94c3-4194-e7b9-9eeeeb412aef"
      },
      "outputs": [
        {
          "name": "stdout",
          "output_type": "stream",
          "text": [
            "84.65 3242 information related to corruption and bribery involving public officials\n",
            "58.14 9461 references to educational institutions and their locations\n",
            "54.55 3031  references to significant documents or publications, especially in academic or legal contexts\n",
            "43.04 4314 references to churches, bishops, and geographical locations related to religious contexts\n",
            "36.21 3022 references to geographical locations and their characteristics\n",
            "31.77 5486  interrogative and rhetorical questions related to historical events or entities\n",
            "29.57 13414 statements of existence or presence\n",
            "24.43 3915 terms related to criticism of political ideologies and figures\n",
            "22.57 9768 terms related to control and authority, particularly in political or systemic contexts\n",
            "21.29 11549  references to specific Asian cuisines, particularly Chinese dishes and ingredients\n",
            "20.97 4840 references to historical governance and conflicts in the context of the Abbasid Caliphate\n",
            "20.24 4987 references to political figures and their actions\n",
            "19.93 13737 specific names or titles, particularly related to Mongolian fighters or historical figures\n",
            "17.99 8366 verbs and their related forms, often related to medical or technical contexts\n",
            "17.39 12927 statements of existence or presence\n",
            "16.8 7869 references to specific geographical locations and political actions\n",
            "16.27 12381  locations and geographical references in narratives\n",
            "16.07 1692 legal and technical terminology related to statutes and inventions\n",
            "15.93 11725 terms related to medical conditions and defects\n",
            "15.12 14819 references to geopolitical tensions, particularly involving Iran, Russia, and nuclear issues\n",
            "14.31 15596 past and present tense forms of the verb \"to be\" in various contexts\n",
            "14.05 5689 terms that indicate naming or defining something\n",
            "13.52 4126  information related to numerical expressions and calculations involving prime factors\n",
            "13.29 3770 connections to historical events and critical commentary in a narrative context\n",
            "13.28 3956 references to geographic locations and landmarks\n",
            "13.2 11192 references to political entities, particularly countries and their governmental structures\n",
            "12.78 5874 proper nouns and specific names, particularly related to people and organizations\n",
            "12.09 14489  structures and formats typical in academic or formal writing\n",
            "11.98 10655 terms related to legal processes and court proceedings\n",
            "11.94 12387 specific locations and associated contexts\n",
            "11.75 14023  references to financial transactions and their management\n",
            "11.5 9419 names of individuals and titles\n",
            "11.46 1583 words related to administrative or technical tasks and issues\n",
            "11.31 1590  comparative phrases that express relationships or contrasts between concepts\n",
            "11.26 15878  references to government structures and regulations, particularly those relating to federal and state authority\n",
            "11.14 3645 phrases related to measurements or characteristics of products and experiences\n",
            "10.86 2021 topics related to political events and elections\n",
            "10.58 7700 references to historical figures and events, particularly relating to royalty\n",
            "10.52 8651 terms related to political institutions and membership\n",
            "10.4 7292 the verb \"is\" in various grammatical contexts\n",
            "10.28 6793 elements that resemble structured data or identifiers, likely in a list or JSON format\n",
            "10.21 6570 country names and their associations with various metrics or events\n",
            "10.16 14138 health-related terms and conditions\n",
            "9.87 6260 dialogue involving questions and uncertainties about identity\n",
            "9.6 6163 monetary values and their associated attributes in different contexts\n",
            "9.59 11010 numerical values, programming symbols, and names of institutions and locations\n",
            "9.3 15728 elements related to injury and trauma\n",
            "9.3 3760 terms related to conditions and outcomes in experimental settings\n",
            "9.29 4750 phrases indicating personal experiences and feelings related to coding and problem-solving\n",
            "9.18 523 descriptions of geographical locations and administrative divisions\n"
          ]
        }
      ],
      "source": [
        "for val, ind in zip(two_top_acts_values, two_top_acts_indices):\n",
        "    print(round(val.item(), 2), ind.item(), feat_labels_lst[ind])"
      ]
    },
    {
      "cell_type": "code",
      "execution_count": null,
      "metadata": {
        "id": "9_FJ17KrCcBy"
      },
      "outputs": [],
      "source": [
        "common_feats = set((one_top_acts_indices).tolist()).intersection(set((two_top_acts_indices).tolist()))\n",
        "# common_feats"
      ]
    },
    {
      "cell_type": "code",
      "execution_count": null,
      "metadata": {
        "colab": {
          "base_uri": "https://localhost:8080/"
        },
        "id": "V4L06KHhCcBy",
        "outputId": "d1ec5488-cb29-4e5c-af7b-ccfef12f3d49"
      },
      "outputs": [
        {
          "data": {
            "text/plain": [
              "34"
            ]
          },
          "execution_count": 196,
          "metadata": {},
          "output_type": "execute_result"
        }
      ],
      "source": [
        "len(common_feats)"
      ]
    },
    {
      "cell_type": "code",
      "execution_count": null,
      "metadata": {
        "colab": {
          "base_uri": "https://localhost:8080/"
        },
        "id": "YdaCRxABCcBz",
        "outputId": "8d04dc4c-72ab-4833-f461-b0e92098139f"
      },
      "outputs": [
        {
          "name": "stdout",
          "output_type": "stream",
          "text": [
            "15878  references to government structures and regulations, particularly those relating to federal and state authority\n",
            "6793 elements that resemble structured data or identifiers, likely in a list or JSON format\n",
            "4750 phrases indicating personal experiences and feelings related to coding and problem-solving\n",
            "6163 monetary values and their associated attributes in different contexts\n",
            "14489  structures and formats typical in academic or formal writing\n",
            "1692 legal and technical terminology related to statutes and inventions\n",
            "4126  information related to numerical expressions and calculations involving prime factors\n",
            "10655 terms related to legal processes and court proceedings\n",
            "9768 terms related to control and authority, particularly in political or systemic contexts\n",
            "6570 country names and their associations with various metrics or events\n",
            "8366 verbs and their related forms, often related to medical or technical contexts\n",
            "1583 words related to administrative or technical tasks and issues\n",
            "1590  comparative phrases that express relationships or contrasts between concepts\n",
            "5689 terms that indicate naming or defining something\n",
            "14138 health-related terms and conditions\n",
            "3770 connections to historical events and critical commentary in a narrative context\n",
            "7869 references to specific geographical locations and political actions\n",
            "8651 terms related to political institutions and membership\n",
            "11725 terms related to medical conditions and defects\n",
            "3022 references to geographical locations and their characteristics\n",
            "3031  references to significant documents or publications, especially in academic or legal contexts\n",
            "4314 references to churches, bishops, and geographical locations related to religious contexts\n",
            "12381  locations and geographical references in narratives\n",
            "12387 specific locations and associated contexts\n",
            "2021 topics related to political events and elections\n",
            "13414 statements of existence or presence\n",
            "4840 references to historical governance and conflicts in the context of the Abbasid Caliphate\n",
            "15596 past and present tense forms of the verb \"to be\" in various contexts\n",
            "5486  interrogative and rhetorical questions related to historical events or entities\n",
            "5874 proper nouns and specific names, particularly related to people and organizations\n",
            "9461 references to educational institutions and their locations\n",
            "4987 references to political figures and their actions\n",
            "7292 the verb \"is\" in various grammatical contexts\n",
            "12927 statements of existence or presence\n"
          ]
        }
      ],
      "source": [
        "for f_ind in common_feats:\n",
        "    print(f_ind, feat_labels_lst[f_ind])"
      ]
    },
    {
      "cell_type": "code",
      "execution_count": null,
      "metadata": {
        "colab": {
          "base_uri": "https://localhost:8080/"
        },
        "id": "NL18BzU2CcBz",
        "outputId": "3b00f7d6-8fc9-4e97-e7a7-bef6333fdd43"
      },
      "outputs": [
        {
          "name": "stdout",
          "output_type": "stream",
          "text": [
            "8096 references to the city of Washington, D.C. and its variations\n",
            "16033 mentions of U.S. entities or actions, particularly those related to government and economics\n",
            "2626 legal terminology related to regulatory definitions and company classifications\n",
            "259 mathematical comparisons and relationships, especially involving values and operations\n",
            "7876 elements related to ratings and classifications\n",
            "16225 references to political parties and issues involving the Republican Party\n",
            "13668 discussions about political norms and behaviors\n",
            "12935 questions related to economic efficiency, fairness, and environmental impact\n",
            "6631 the beginning of a text or important markers in a document\n",
            "615 terms related to legal proceedings and political processes\n",
            "1640 references to positions of authority and roles within organizations\n",
            "5663 references to Washington, DC and related institutions\n",
            "2964  phrases that indicate relationships or connections involving the concept of \"to\" and associated actions\n",
            "308 requests for help or assistance\n",
            "1976 symbols and mathematical elements used in scientific or technical contexts\n",
            "4127 references to freedom and liberty in political contexts\n"
          ]
        }
      ],
      "source": [
        "nums_only = set((one_top_acts_indices).tolist()) - set((two_top_acts_indices).tolist())\n",
        "for f_ind in nums_only:\n",
        "    print(f_ind, feat_labels_lst[f_ind])"
      ]
    },
    {
      "cell_type": "code",
      "execution_count": null,
      "metadata": {
        "colab": {
          "base_uri": "https://localhost:8080/"
        },
        "id": "NgH7MsL2CcBz",
        "outputId": "a8339e1f-fb8e-4c97-dcda-d2654d8a399c"
      },
      "outputs": [
        {
          "name": "stdout",
          "output_type": "stream",
          "text": [
            "11010 numerical values, programming symbols, and names of institutions and locations\n",
            "3645 phrases related to measurements or characteristics of products and experiences\n",
            "14819 references to geopolitical tensions, particularly involving Iran, Russia, and nuclear issues\n",
            "14023  references to financial transactions and their management\n",
            "13737 specific names or titles, particularly related to Mongolian fighters or historical figures\n",
            "3242 information related to corruption and bribery involving public officials\n",
            "523 descriptions of geographical locations and administrative divisions\n",
            "3915 terms related to criticism of political ideologies and figures\n",
            "9419 names of individuals and titles\n",
            "3760 terms related to conditions and outcomes in experimental settings\n",
            "15728 elements related to injury and trauma\n",
            "7700 references to historical figures and events, particularly relating to royalty\n",
            "3956 references to geographic locations and landmarks\n",
            "6260 dialogue involving questions and uncertainties about identity\n",
            "11192 references to political entities, particularly countries and their governmental structures\n",
            "11549  references to specific Asian cuisines, particularly Chinese dishes and ingredients\n"
          ]
        }
      ],
      "source": [
        "months_only = set((two_top_acts_indices).tolist()) - set((one_top_acts_indices).tolist())\n",
        "for f_ind in months_only:\n",
        "    print(f_ind, feat_labels_lst[f_ind])"
      ]
    },
    {
      "cell_type": "markdown",
      "metadata": {
        "id": "5PbewO_DSURc"
      },
      "source": [
        "# find common features (batch)"
      ]
    },
    {
      "cell_type": "markdown",
      "metadata": {
        "id": "SvGMBNH9h5FW"
      },
      "source": [
        "## nums vs months"
      ]
    },
    {
      "cell_type": "code",
      "execution_count": null,
      "metadata": {
        "id": "6GDuxXWPmQzZ"
      },
      "outputs": [],
      "source": [
        "words = ['one', 'two', 'three', 'four', 'five', 'six', 'seven', 'eight', 'nine', 'ten', 'eleven', 'twelve']\n",
        "numword_samps = []\n",
        "for i in range(0, 9):\n",
        "    samp = f\"{words[i]} {words[i+1]} {words[i+2]} {words[i+3]}\"\n",
        "    numword_samps.append(samp)"
      ]
    },
    {
      "cell_type": "code",
      "execution_count": null,
      "metadata": {
        "colab": {
          "base_uri": "https://localhost:8080/"
        },
        "id": "KhTZUFDon46G",
        "outputId": "d1d5295d-e0ff-4980-a605-29d0023456d7"
      },
      "outputs": [
        {
          "data": {
            "text/plain": [
              "['one two three four',\n",
              " 'two three four five',\n",
              " 'three four five six',\n",
              " 'four five six seven',\n",
              " 'five six seven eight',\n",
              " 'six seven eight nine',\n",
              " 'seven eight nine ten',\n",
              " 'eight nine ten eleven',\n",
              " 'nine ten eleven twelve']"
            ]
          },
          "execution_count": 19,
          "metadata": {},
          "output_type": "execute_result"
        }
      ],
      "source": [
        "numword_samps"
      ]
    },
    {
      "cell_type": "code",
      "execution_count": null,
      "metadata": {
        "colab": {
          "base_uri": "https://localhost:8080/"
        },
        "id": "9IzRxWYem2jm",
        "outputId": "a85e0c79-86d5-4b17-b507-842d70afdc0f"
      },
      "outputs": [
        {
          "data": {
            "text/plain": [
              "torch.Size([9, 5])"
            ]
          },
          "execution_count": 40,
          "metadata": {},
          "output_type": "execute_result"
        }
      ],
      "source": [
        "# batch_tokens\n",
        "inputs = tokenizer(numword_samps, return_tensors=\"pt\", padding=True, truncation=True, max_length=300)['input_ids'].to(\"cuda\")\n",
        "inputs.shape"
      ]
    },
    {
      "cell_type": "code",
      "execution_count": null,
      "metadata": {
        "colab": {
          "base_uri": "https://localhost:8080/"
        },
        "id": "KDaXXAONntHN",
        "outputId": "158a2d47-cc42-46d9-8ec0-6ab8bbd4e0c5"
      },
      "outputs": [
        {
          "data": {
            "text/plain": [
              "tensor([[    2,   785,  1378,  2149,  2785],\n",
              "        [    2,  9721,  2149,  2785,  4105],\n",
              "        [    2, 16183,  2785,  4105,  4442],\n",
              "        [    2, 14806,  4105,  4442,  6861],\n",
              "        [    2, 17159,  4442,  6861,  8469],\n",
              "        [    2, 22789,  6861,  8469,  9981],\n",
              "        [    2, 31033,  8469,  9981,  2797],\n",
              "        [    2, 40363,  9981,  2797, 29754],\n",
              "        [    2, 37527,  2797, 29754, 20779]])"
            ]
          },
          "execution_count": 21,
          "metadata": {},
          "output_type": "execute_result"
        }
      ],
      "source": [
        "inputs"
      ]
    },
    {
      "cell_type": "code",
      "execution_count": null,
      "metadata": {
        "id": "hqk8nzl6SURm"
      },
      "outputs": [],
      "source": [
        "target_act = gather_residual_activations(model, 20, inputs)\n",
        "sae_acts_1 = sae.encode(target_act.to(torch.float32))"
      ]
    },
    {
      "cell_type": "code",
      "execution_count": null,
      "metadata": {
        "colab": {
          "base_uri": "https://localhost:8080/"
        },
        "id": "h0YLsA6rpQZv",
        "outputId": "9c4bfe02-e4ee-445d-922a-3f580a107e8c"
      },
      "outputs": [
        {
          "data": {
            "text/plain": [
              "torch.Size([9, 5])"
            ]
          },
          "execution_count": 37,
          "metadata": {},
          "output_type": "execute_result"
        }
      ],
      "source": [
        "words = ['January', 'February', 'March', 'April', 'May', 'June', 'July', 'August', 'September', 'October', 'November', 'December']\n",
        "month_samps = []\n",
        "for i in range(0, 9):\n",
        "    samp = f\"{words[i]} {words[i+1]} {words[i+2]} {words[i+3]}\"\n",
        "    month_samps.append(samp)\n",
        "inputs = tokenizer(month_samps, return_tensors=\"pt\", padding=True, truncation=True, max_length=300)['input_ids'].to(\"cuda\")\n",
        "inputs.shape"
      ]
    },
    {
      "cell_type": "code",
      "execution_count": null,
      "metadata": {
        "id": "-oV5IB0mSURm"
      },
      "outputs": [],
      "source": [
        "target_act = gather_residual_activations(model, 20, inputs)\n",
        "sae_acts_2 = sae.encode(target_act.to(torch.float32))"
      ]
    },
    {
      "cell_type": "markdown",
      "metadata": {
        "id": "wunm_z6UsA65"
      },
      "source": [
        "### top 15"
      ]
    },
    {
      "cell_type": "code",
      "execution_count": null,
      "metadata": {
        "colab": {
          "base_uri": "https://localhost:8080/"
        },
        "id": "5b3ACtlNSURp",
        "outputId": "cc73189a-9387-4fee-9a88-e55bec697930"
      },
      "outputs": [
        {
          "output_type": "execute_result",
          "data": {
            "text/plain": [
              "tensor([[ 2269,  3019,  3109,  5441,  6131,  6300,  6631,  8640,  9768, 10230,\n",
              "         10802, 10841, 11864, 14441, 15451],\n",
              "        [ 2740,  3019,  3109,  5441,  6167,  6305,  6631,  8737,  9768, 10230,\n",
              "         10841, 11003, 12802, 14441, 15782],\n",
              "        [ 2102,  3019,  5441,  6131,  6305,  6631,  8242,  9768, 10230, 10841,\n",
              "         11003, 11771, 14441, 14471, 15735],\n",
              "        [ 3019,  5441,  5676,  6131,  6143,  9768, 10230, 10841, 10973, 11003,\n",
              "         12658, 12977, 14441, 14898, 15782],\n",
              "        [ 1094,  3032,  3435,  4743,  5441,  6131,  8211,  9768,  9785, 10230,\n",
              "         10841, 10973, 12457, 12658, 14441],\n",
              "        [ 1316,  1862,  5441,  6131,  6143,  6567,  8366,  9768, 10052, 10230,\n",
              "         10615, 10973, 12457, 12658, 13206],\n",
              "        [  855,  1862,  5441,  6131,  6143,  7709,  8366,  9768, 10230, 10615,\n",
              "         10973, 11674, 13908, 15704, 16271],\n",
              "        [  827,  1862,  3697,  5441,  6131,  6143,  6305,  6618,  8366,  9768,\n",
              "         10230, 10738, 12161, 15782, 16271],\n",
              "        [  117,   827,  3650,  3697,  5441,  6131,  6305,  6618,  6809,  9044,\n",
              "          9768, 10230, 13487, 14017, 16271]], device='cuda:0')"
            ]
          },
          "metadata": {},
          "execution_count": 43
        }
      ],
      "source": [
        "feat_k = 15\n",
        "one_top_acts_values, one_top_acts_indices = sae_acts_1[:, -1, :].topk(feat_k, dim=-1)\n",
        "one_top_acts_indices.sort().values"
      ]
    },
    {
      "cell_type": "code",
      "source": [
        "one_top_acts_indices"
      ],
      "metadata": {
        "colab": {
          "base_uri": "https://localhost:8080/"
        },
        "id": "qYWKh7p7fIdk",
        "outputId": "85aba30c-eda2-464a-b051-bac90a06d6e7"
      },
      "execution_count": null,
      "outputs": [
        {
          "output_type": "execute_result",
          "data": {
            "text/plain": [
              "tensor([[15451,  9768, 10230, 10841,  3109,  8640,  2269, 14441, 11864,  6631,\n",
              "          3019, 10802,  6300,  5441,  6131],\n",
              "        [12802,  9768,  2740, 10230,  8737,  6167, 15782, 14441,  5441, 11003,\n",
              "          3109,  3019,  6631, 10841,  6305],\n",
              "        [14471,  9768,  8242, 10230,  2102, 11771,  5441, 15735,  3019, 10841,\n",
              "         14441,  6131, 11003,  6631,  6305],\n",
              "        [10973, 12977,  9768,  5676, 10230, 15782,  5441,  6131, 11003, 14441,\n",
              "         14898,  3019, 12658, 10841,  6143],\n",
              "        [ 8211,  9768,  4743,  6131, 10230,  9785, 14441, 10973,  3435,  5441,\n",
              "         10841, 12658, 12457,  3032,  1094],\n",
              "        [ 6131, 13206,  9768, 10230,  1862, 10052, 10973,  1316,  6567,  5441,\n",
              "         12457,  8366, 10615,  6143, 12658],\n",
              "        [13908,  1862,  9768,  7709, 16271, 10230,  5441,  6131, 11674, 10973,\n",
              "          8366,   855, 10615, 15704,  6143],\n",
              "        [10738,  6618,  9768,  6131, 16271,  5441,  8366,  3697, 10230,  6143,\n",
              "         12161, 15782,  1862,  6305,   827],\n",
              "        [ 6618,  3650,  9768,  6809,   117,  6131,   827, 10230,  9044,  5441,\n",
              "         16271, 14017, 13487,  6305,  3697]], device='cuda:0')"
            ]
          },
          "metadata": {},
          "execution_count": 44
        }
      ]
    },
    {
      "cell_type": "code",
      "execution_count": null,
      "metadata": {
        "colab": {
          "base_uri": "https://localhost:8080/"
        },
        "id": "BfAlMFJ9rt6J",
        "outputId": "530cfe6e-bf5e-44d2-cccf-38e3805f2aaf"
      },
      "outputs": [
        {
          "data": {
            "text/plain": [
              "tensor([[64.4877, 45.1703, 40.5895, 35.3551, 34.3690, 30.3312, 30.2256, 21.9555,\n",
              "         21.9007, 21.7239, 20.6970, 20.2885, 19.6938, 19.0292, 18.0701],\n",
              "        [60.3583, 43.7196, 42.4637, 40.5117, 37.9534, 37.7351, 24.6161, 21.6346,\n",
              "         21.3586, 21.2357, 20.6309, 19.9925, 18.8740, 18.5112, 18.2505],\n",
              "        [51.6413, 45.3826, 39.5861, 37.4597, 32.6303, 29.5705, 25.5231, 24.9491,\n",
              "         23.3405, 22.6388, 21.8672, 21.5575, 21.5400, 21.1547, 20.9332],\n",
              "        [76.0729, 48.0570, 44.7954, 40.7604, 35.5247, 26.0187, 24.7982, 23.2534,\n",
              "         22.9992, 22.3749, 19.4121, 19.1158, 18.9582, 18.2932, 17.8383],\n",
              "        [84.7398, 37.8657, 34.1638, 30.8324, 30.5867, 28.2125, 24.2328, 23.0589,\n",
              "         21.0128, 20.7138, 20.6023, 19.1343, 18.4614, 17.7337, 16.4010],\n",
              "        [40.7494, 39.8484, 37.5722, 36.8509, 36.0316, 33.7934, 31.9825, 29.7316,\n",
              "         26.6292, 24.2043, 23.8879, 21.7214, 21.7174, 20.2330, 19.3348],\n",
              "        [59.3423, 56.7082, 38.3538, 32.4716, 29.7215, 27.0327, 26.6668, 25.7407,\n",
              "         24.1961, 22.3392, 21.3790, 21.3039, 21.1380, 19.5082, 18.8924],\n",
              "        [57.7843, 46.8884, 40.1437, 37.2735, 32.5099, 30.3000, 28.3122, 25.2815,\n",
              "         25.0420, 22.4329, 21.6628, 21.4993, 18.3124, 18.1742, 17.7169],\n",
              "        [54.6708, 40.9934, 38.1940, 38.1800, 36.9019, 36.4465, 32.6010, 29.6227,\n",
              "         26.0094, 25.6814, 23.6224, 21.4373, 20.7749, 20.0628, 18.9371]],\n",
              "       device='cuda:0')"
            ]
          },
          "execution_count": 90,
          "metadata": {},
          "output_type": "execute_result"
        }
      ],
      "source": [
        "one_top_acts_values"
      ]
    },
    {
      "cell_type": "code",
      "execution_count": null,
      "metadata": {
        "colab": {
          "base_uri": "https://localhost:8080/"
        },
        "id": "ffSERTGdUWv1",
        "outputId": "f4cba1ac-1ef1-44a7-9a21-159717b46d1d"
      },
      "outputs": [
        {
          "data": {
            "text/plain": [
              "tensor([[  522,   609,  1530,  2269,  3109,  3162,  5710,  5968,  6240,  7159,\n",
              "          9768, 11546, 12748, 13767, 15451],\n",
              "        [  609,  1094,  1530,  3109,  3162,  5710,  6167,  6240,  7159,  7985,\n",
              "          8737,  9768, 10636, 11546, 12802],\n",
              "        [  609,  1094,  1530,  3162,  6240,  7159,  8242,  9768, 10103, 10636,\n",
              "         11546, 12920, 14471, 15715, 15735],\n",
              "        [  609,  1094,  3162,  5404,  5676,  6240,  7159,  9768, 10103, 10973,\n",
              "         11004, 11546, 12161, 12977, 15763],\n",
              "        [  609,  1094,  2762,  3162,  5404,  6240,  7159,  8211,  9768,  9785,\n",
              "         10636, 11546, 12161, 12658, 14017],\n",
              "        [  609,  1094,  1316,  1862,  3162,  4295,  4997,  5404,  6240,  7159,\n",
              "          9768, 10052, 10636, 11546, 12161],\n",
              "        [  609,  1094,  1862,  3162,  5404,  5968,  6240,  7159,  7709,  9768,\n",
              "         10327, 10636, 11546, 12161, 13908],\n",
              "        [  609,  1094,  3162,  5900,  6240,  6305,  6618,  7159,  8506,  9768,\n",
              "         10636, 11546, 12161, 12802, 14540],\n",
              "        [ 1094,  3162,  6240,  6305,  6618,  7159,  8506,  9236,  9650,  9768,\n",
              "         10636, 11004, 11546, 11938, 14718]], device='cuda:0')"
            ]
          },
          "execution_count": 91,
          "metadata": {},
          "output_type": "execute_result"
        }
      ],
      "source": [
        "two_top_acts_values, two_top_acts_indices = sae_acts_2[:, -1, :].topk(feat_k, dim=-1)\n",
        "two_top_acts_indices.sort().values"
      ]
    },
    {
      "cell_type": "code",
      "execution_count": null,
      "metadata": {
        "colab": {
          "base_uri": "https://localhost:8080/"
        },
        "id": "GVIT4bPUSURq",
        "outputId": "82ac10ad-0d2a-4591-8935-341e511cfc65"
      },
      "outputs": [
        {
          "data": {
            "text/plain": [
              "[[9768, 2269, 15451, 3109],\n",
              " [8737, 12802, 3109, 9768, 6167],\n",
              " [9768, 8242, 15735, 14471],\n",
              " [9768, 12977, 5676, 10973],\n",
              " [1094, 9768, 12658, 8211, 9785],\n",
              " [9768, 1316, 1862, 10052],\n",
              " [9768, 13908, 7709, 1862],\n",
              " [9768, 6305, 12161, 6618],\n",
              " [9768, 6305, 6618]]"
            ]
          },
          "execution_count": 92,
          "metadata": {},
          "output_type": "execute_result"
        }
      ],
      "source": [
        "# common_feats = set((one_top_acts_indices).tolist()).intersection(set((two_top_acts_indices).tolist()))\n",
        "# Assuming one_top_acts_indices and two_top_acts_indices are tensors obtained similarly\n",
        "one_top_acts_indices_list = one_top_acts_indices.tolist()\n",
        "two_top_acts_indices_list = two_top_acts_indices.tolist()\n",
        "\n",
        "# Calculate the intersection of indices for each corresponding row\n",
        "common_feats_per_row = [\n",
        "    list(set(row_one).intersection(set(row_two)))\n",
        "    for row_one, row_two in zip(one_top_acts_indices_list, two_top_acts_indices_list)\n",
        "]\n",
        "\n",
        "common_feats_per_row"
      ]
    },
    {
      "cell_type": "code",
      "execution_count": null,
      "metadata": {
        "colab": {
          "base_uri": "https://localhost:8080/"
        },
        "id": "VUN7kmUarY2S",
        "outputId": "0354571d-2107-42f3-fc72-db3acdc27741"
      },
      "outputs": [
        {
          "data": {
            "text/plain": [
              "{9768}"
            ]
          },
          "execution_count": 93,
          "metadata": {},
          "output_type": "execute_result"
        }
      ],
      "source": [
        "if common_feats_per_row:  # Check if the list is not empty\n",
        "    # Start with the first set in the list\n",
        "    common_in_all_rows = set(common_feats_per_row[0])\n",
        "\n",
        "    # Intersect with each subsequent set in the list\n",
        "    for common_set in common_feats_per_row[1:]:\n",
        "        common_in_all_rows.intersection_update(set(common_set))\n",
        "else:\n",
        "    common_in_all_rows = set()\n",
        "\n",
        "common_in_all_rows"
      ]
    },
    {
      "cell_type": "code",
      "execution_count": null,
      "metadata": {
        "colab": {
          "base_uri": "https://localhost:8080/"
        },
        "id": "yZCyqPxHXPzG",
        "outputId": "b5779558-e46a-4388-82b7-c911b018e76c"
      },
      "outputs": [
        {
          "name": "stdout",
          "output_type": "stream",
          "text": [
            "samp:  0\n",
            "9768 terms related to control and authority, particularly in political or systemic contexts\n",
            "2269  structured lists or numbered steps in procedural texts\n",
            "15451  structured data or attributes in a coded format\n",
            "3109  technical terms and symbols related to data structures\n",
            "samp:  1\n",
            "8737  elements related to numerical values or ordered data\n",
            "12802  numerical values and codes typically associated with scientific or technical contexts\n",
            "3109  technical terms and symbols related to data structures\n",
            "9768 terms related to control and authority, particularly in political or systemic contexts\n",
            "6167  structured information and mathematical relationships\n",
            "samp:  2\n",
            "9768 terms related to control and authority, particularly in political or systemic contexts\n",
            "8242 references and citations in scientific writing\n",
            "15735  numerical data and comparisons\n",
            "14471 specific numerical values and their formatting\n",
            "samp:  3\n",
            "9768 terms related to control and authority, particularly in political or systemic contexts\n",
            "12977 quantitative data or statistical metrics related to observations\n",
            "5676  numerical data or values in a document\n",
            "10973 references, citations, and external documents in a scientific context\n",
            "samp:  4\n",
            "1094 special characters and mathematical symbols\n",
            "9768 terms related to control and authority, particularly in political or systemic contexts\n",
            "12658 mathematical terminology and symbols, particularly in equations and expressions\n",
            "8211 structured data or code-like patterns\n",
            "9785  references to the month of August\n",
            "samp:  5\n",
            "9768 terms related to control and authority, particularly in political or systemic contexts\n",
            "1316  patterns related to structured numerical data or parameters\n",
            "1862  numeric patterns and symbols commonly used in technical or mathematical contexts\n",
            "10052 mathematical expressions and formatting\n",
            "samp:  6\n",
            "9768 terms related to control and authority, particularly in political or systemic contexts\n",
            "13908 references to numerical values, specifically related to counts or measurements\n",
            "7709 mathematical notation and variable definitions within a technical context\n",
            "1862  numeric patterns and symbols commonly used in technical or mathematical contexts\n",
            "samp:  7\n",
            "9768 terms related to control and authority, particularly in political or systemic contexts\n",
            "6305 mathematical expressions and notations used in equations and proofs\n",
            "12161 terms related to programming and technical constructs\n",
            "6618 syntax and punctuation patterns within numerical and mathematical contexts\n",
            "samp:  8\n",
            "9768 terms related to control and authority, particularly in political or systemic contexts\n",
            "6305 mathematical expressions and notations used in equations and proofs\n",
            "6618 syntax and punctuation patterns within numerical and mathematical contexts\n"
          ]
        }
      ],
      "source": [
        "for sampID, samp_common_feats in enumerate(common_feats_per_row):\n",
        "    print('samp: ', sampID)\n",
        "    for f_ind in samp_common_feats:\n",
        "        print(f_ind, feat_labels_lst[f_ind])"
      ]
    },
    {
      "cell_type": "code",
      "execution_count": null,
      "metadata": {
        "colab": {
          "base_uri": "https://localhost:8080/"
        },
        "id": "6_t58DZexPAY",
        "outputId": "f321e6d7-0520-4fea-db97-024cd90e5be6"
      },
      "outputs": [
        {
          "data": {
            "text/plain": [
              "{9768}"
            ]
          },
          "execution_count": 95,
          "metadata": {},
          "output_type": "execute_result"
        }
      ],
      "source": [
        "if common_feats_per_row:  # Check if the list is not empty\n",
        "    # Start with the first set in the list\n",
        "    common_in_all_rows = set(common_feats_per_row[0])\n",
        "\n",
        "    # Intersect with each subsequent set in the list\n",
        "    for common_set in common_feats_per_row[1:]:\n",
        "        common_in_all_rows.intersection_update(set(common_set))\n",
        "else:\n",
        "    common_in_all_rows = set()\n",
        "\n",
        "common_in_all_rows"
      ]
    },
    {
      "cell_type": "code",
      "execution_count": null,
      "metadata": {
        "id": "CmqbHm1IxPAj"
      },
      "outputs": [],
      "source": [
        "# for sampID, samp_common_feats in enumerate(common_feats_per_row):\n",
        "#     print('samp: ', sampID)\n",
        "#     for f_ind in samp_common_feats[:3]:\n",
        "#         print(f_ind, feat_labels_lst[f_ind])"
      ]
    },
    {
      "cell_type": "code",
      "execution_count": null,
      "metadata": {
        "id": "--5rSiGmxPAj"
      },
      "outputs": [],
      "source": [
        "# for val, ind in zip(two_top_acts_values[1], two_top_acts_indices[1]):\n",
        "#     print(round(val.item(), 2), ind.item(), feat_labels_lst[ind])"
      ]
    },
    {
      "cell_type": "code",
      "execution_count": null,
      "metadata": {
        "colab": {
          "base_uri": "https://localhost:8080/"
        },
        "id": "idiBCthjxPAj",
        "outputId": "e9cc03e2-6b2e-4529-aec9-edb38a6098f5"
      },
      "outputs": [
        {
          "data": {
            "text/plain": [
              "25"
            ]
          },
          "execution_count": 98,
          "metadata": {},
          "output_type": "execute_result"
        }
      ],
      "source": [
        "common_feats_all = list(set([index for sublist in common_feats_per_row for index in sublist]))\n",
        "len(common_feats_all)"
      ]
    },
    {
      "cell_type": "code",
      "execution_count": null,
      "metadata": {
        "colab": {
          "base_uri": "https://localhost:8080/"
        },
        "id": "VPzDsMhpxPAj",
        "outputId": "33a7e0ce-d129-4c05-a605-9b5a0b47d5be"
      },
      "outputs": [
        {
          "data": {
            "text/plain": [
              "64"
            ]
          },
          "execution_count": 99,
          "metadata": {},
          "output_type": "execute_result"
        }
      ],
      "source": [
        "num_feats_all = list(set(one_top_acts_indices.flatten().tolist()))\n",
        "len(num_feats_all)"
      ]
    },
    {
      "cell_type": "code",
      "execution_count": null,
      "metadata": {
        "colab": {
          "base_uri": "https://localhost:8080/"
        },
        "id": "pHicFTYDxPAk",
        "outputId": "7afaa207-e480-434c-f980-b7301ab7d48d"
      },
      "outputs": [
        {
          "data": {
            "text/plain": [
              "56"
            ]
          },
          "execution_count": 100,
          "metadata": {},
          "output_type": "execute_result"
        }
      ],
      "source": [
        "month_feats_all = list(set(two_top_acts_indices.flatten().tolist()))\n",
        "len(month_feats_all)"
      ]
    },
    {
      "cell_type": "code",
      "execution_count": null,
      "metadata": {
        "colab": {
          "base_uri": "https://localhost:8080/"
        },
        "id": "stbB0K0NxPAk",
        "outputId": "61108373-8935-4f80-f124-314626b49593"
      },
      "outputs": [
        {
          "data": {
            "text/plain": [
              "38"
            ]
          },
          "execution_count": 101,
          "metadata": {},
          "output_type": "execute_result"
        }
      ],
      "source": [
        "nums_only = set(num_feats_all) - set(month_feats_all)\n",
        "len(nums_only)\n",
        "# for f_ind in nums_only:\n",
        "#     print(f_ind, feat_labels_lst[f_ind])"
      ]
    },
    {
      "cell_type": "code",
      "execution_count": null,
      "metadata": {
        "colab": {
          "base_uri": "https://localhost:8080/"
        },
        "id": "fnQV9mUwxPAk",
        "outputId": "26a32d5e-5c3e-433c-fd1e-c15565afd0f9"
      },
      "outputs": [
        {
          "data": {
            "text/plain": [
              "30"
            ]
          },
          "execution_count": 102,
          "metadata": {},
          "output_type": "execute_result"
        }
      ],
      "source": [
        "months_only = set(month_feats_all) - set(num_feats_all)\n",
        "len(months_only)\n",
        "# for f_ind in months_only:\n",
        "#     print(f_ind, feat_labels_lst[f_ind])"
      ]
    },
    {
      "cell_type": "markdown",
      "metadata": {
        "id": "rKJ8cwzBsIDw"
      },
      "source": [
        "### top 50"
      ]
    },
    {
      "cell_type": "code",
      "execution_count": null,
      "metadata": {
        "id": "9DZRrqOSsID5"
      },
      "outputs": [],
      "source": [
        "feat_k = 50\n",
        "one_top_acts_values, one_top_acts_indices = sae_acts_1[:, -1, :].topk(feat_k, dim=-1)"
      ]
    },
    {
      "cell_type": "code",
      "execution_count": null,
      "metadata": {
        "id": "qTgf86VrsID6"
      },
      "outputs": [],
      "source": [
        "two_top_acts_values, two_top_acts_indices = sae_acts_2[:, -1, :].topk(feat_k, dim=-1)"
      ]
    },
    {
      "cell_type": "code",
      "execution_count": null,
      "metadata": {
        "id": "keUUwfIosID6"
      },
      "outputs": [],
      "source": [
        "one_top_acts_indices_list = one_top_acts_indices.tolist()\n",
        "two_top_acts_indices_list = two_top_acts_indices.tolist()\n",
        "common_feats_per_row = [\n",
        "    list(set(row_one).intersection(set(row_two)))\n",
        "    for row_one, row_two in zip(one_top_acts_indices_list, two_top_acts_indices_list)\n",
        "]"
      ]
    },
    {
      "cell_type": "code",
      "execution_count": null,
      "metadata": {
        "colab": {
          "base_uri": "https://localhost:8080/"
        },
        "id": "YK7OI6OGtbx8",
        "outputId": "ce8f223c-132d-4443-b332-5b56dc3cfab6"
      },
      "outputs": [
        {
          "data": {
            "text/plain": [
              "16"
            ]
          },
          "execution_count": 74,
          "metadata": {},
          "output_type": "execute_result"
        }
      ],
      "source": [
        "len(common_feats_per_row[2])"
      ]
    },
    {
      "cell_type": "code",
      "execution_count": null,
      "metadata": {
        "colab": {
          "base_uri": "https://localhost:8080/"
        },
        "id": "VG2k5QLDsID6",
        "outputId": "4a0a9f3e-c53d-4c56-8732-e8b28124287e"
      },
      "outputs": [
        {
          "data": {
            "text/plain": [
              "{3019, 9768, 12658}"
            ]
          },
          "execution_count": 58,
          "metadata": {},
          "output_type": "execute_result"
        }
      ],
      "source": [
        "if common_feats_per_row:  # Check if the list is not empty\n",
        "    # Start with the first set in the list\n",
        "    common_in_all_rows = set(common_feats_per_row[0])\n",
        "\n",
        "    # Intersect with each subsequent set in the list\n",
        "    for common_set in common_feats_per_row[1:]:\n",
        "        common_in_all_rows.intersection_update(set(common_set))\n",
        "else:\n",
        "    common_in_all_rows = set()\n",
        "\n",
        "common_in_all_rows"
      ]
    },
    {
      "cell_type": "code",
      "execution_count": null,
      "metadata": {
        "id": "eX-tKym3sID6"
      },
      "outputs": [],
      "source": [
        "# for sampID, samp_common_feats in enumerate(common_feats_per_row):\n",
        "#     print('samp: ', sampID)\n",
        "#     for f_ind in samp_common_feats[:3]:\n",
        "#         print(f_ind, feat_labels_lst[f_ind])"
      ]
    },
    {
      "cell_type": "code",
      "execution_count": null,
      "metadata": {
        "id": "-ANxallFruqH"
      },
      "outputs": [],
      "source": [
        "# for val, ind in zip(two_top_acts_values[1], two_top_acts_indices[1]):\n",
        "#     print(round(val.item(), 2), ind.item(), feat_labels_lst[ind])"
      ]
    },
    {
      "cell_type": "code",
      "execution_count": null,
      "metadata": {
        "colab": {
          "base_uri": "https://localhost:8080/"
        },
        "id": "y-_RdupqtneP",
        "outputId": "572cf95b-7a32-4f21-aa37-ec9aa8b4eea4"
      },
      "outputs": [
        {
          "data": {
            "text/plain": [
              "58"
            ]
          },
          "execution_count": 80,
          "metadata": {},
          "output_type": "execute_result"
        }
      ],
      "source": [
        "common_feats_all = list(set([index for sublist in common_feats_per_row for index in sublist]))\n",
        "len(common_feats_all)"
      ]
    },
    {
      "cell_type": "code",
      "execution_count": null,
      "metadata": {
        "colab": {
          "base_uri": "https://localhost:8080/"
        },
        "id": "roAGzcj9s2wk",
        "outputId": "7b3e3204-6f1f-4f98-d492-d4427a78106c"
      },
      "outputs": [
        {
          "data": {
            "text/plain": [
              "155"
            ]
          },
          "execution_count": 67,
          "metadata": {},
          "output_type": "execute_result"
        }
      ],
      "source": [
        "num_feats_all = list(set(one_top_acts_indices.flatten().tolist()))\n",
        "len(num_feats_all)"
      ]
    },
    {
      "cell_type": "code",
      "execution_count": null,
      "metadata": {
        "colab": {
          "base_uri": "https://localhost:8080/"
        },
        "id": "wD4Ixz-3tFC-",
        "outputId": "659fd514-f703-4601-ccdf-4ae5adfec50e"
      },
      "outputs": [
        {
          "data": {
            "text/plain": [
              "154"
            ]
          },
          "execution_count": 66,
          "metadata": {},
          "output_type": "execute_result"
        }
      ],
      "source": [
        "month_feats_all = list(set(two_top_acts_indices.flatten().tolist()))\n",
        "len(month_feats_all)"
      ]
    },
    {
      "cell_type": "code",
      "execution_count": null,
      "metadata": {
        "colab": {
          "base_uri": "https://localhost:8080/"
        },
        "id": "5h3lBTZ6slPz",
        "outputId": "9147ecfc-f3c8-4b60-e517-479fe860bba6"
      },
      "outputs": [
        {
          "data": {
            "text/plain": [
              "95"
            ]
          },
          "execution_count": 69,
          "metadata": {},
          "output_type": "execute_result"
        }
      ],
      "source": [
        "nums_only = set(num_feats_all) - set(month_feats_all)\n",
        "len(nums_only)\n",
        "# for f_ind in nums_only:\n",
        "#     print(f_ind, feat_labels_lst[f_ind])"
      ]
    },
    {
      "cell_type": "code",
      "execution_count": null,
      "metadata": {
        "colab": {
          "base_uri": "https://localhost:8080/"
        },
        "id": "ByLRrW1UruqH",
        "outputId": "81c7580d-15eb-4c0c-91a3-8ac2367060da"
      },
      "outputs": [
        {
          "data": {
            "text/plain": [
              "94"
            ]
          },
          "execution_count": 70,
          "metadata": {},
          "output_type": "execute_result"
        }
      ],
      "source": [
        "months_only = set(month_feats_all) - set(num_feats_all)\n",
        "len(months_only)\n",
        "# for f_ind in months_only:\n",
        "#     print(f_ind, feat_labels_lst[f_ind])"
      ]
    },
    {
      "cell_type": "markdown",
      "metadata": {
        "id": "Z8Mf98oXwJQV"
      },
      "source": [
        "# nums v months umap on feature subset"
      ]
    },
    {
      "cell_type": "code",
      "execution_count": null,
      "metadata": {
        "id": "_FpS7c3mwmG5"
      },
      "outputs": [],
      "source": [
        "import umap"
      ]
    },
    {
      "cell_type": "markdown",
      "metadata": {
        "id": "H4vYBn6DwQFq"
      },
      "source": [
        "## top 15"
      ]
    },
    {
      "cell_type": "code",
      "execution_count": null,
      "metadata": {
        "colab": {
          "base_uri": "https://localhost:8080/"
        },
        "id": "AAdeST5TwQFx",
        "outputId": "9dafd1d2-d888-495b-e15c-9ecd23087b93"
      },
      "outputs": [
        {
          "data": {
            "text/plain": [
              "94"
            ]
          },
          "execution_count": 103,
          "metadata": {},
          "output_type": "execute_result"
        }
      ],
      "source": [
        "feature_subset = num_feats_all + month_feats_all\n",
        "feature_subset = list(set(feature_subset))\n",
        "feature_subset.sort()\n",
        "len(feature_subset)"
      ]
    },
    {
      "cell_type": "code",
      "execution_count": null,
      "metadata": {
        "id": "AxZeDdLdwQFy"
      },
      "outputs": [],
      "source": [
        "f_labels = [ \"F\" + str(f_ind) + \" : \" + feat_labels_lst[f_ind] for f_ind in feature_subset]"
      ]
    },
    {
      "cell_type": "markdown",
      "metadata": {
        "id": "YP9RUeKmwQFy"
      },
      "source": [
        "Now labels and weight matrix may share the same new indices (rather than feature numbers of orig matrix) due to slicing them in same way"
      ]
    },
    {
      "cell_type": "code",
      "execution_count": null,
      "metadata": {
        "colab": {
          "base_uri": "https://localhost:8080/"
        },
        "id": "11FDXfaswQFy",
        "outputId": "dd4d101c-590d-4b56-d9c2-3fe614b269cd"
      },
      "outputs": [
        {
          "data": {
            "text/plain": [
              "(94, 2304)"
            ]
          },
          "execution_count": 105,
          "metadata": {},
          "output_type": "execute_result"
        }
      ],
      "source": [
        "weights_feature_subset = weight_matrix[feature_subset]\n",
        "weights_feature_subset.shape"
      ]
    },
    {
      "cell_type": "code",
      "execution_count": null,
      "metadata": {
        "id": "tYLur6ktwQFy"
      },
      "outputs": [],
      "source": [
        "reducer = umap.UMAP(n_neighbors=15, min_dist=0.01, metric='euclidean')\n",
        "embedding1 = reducer.fit_transform(weights_feature_subset)"
      ]
    },
    {
      "cell_type": "code",
      "execution_count": null,
      "metadata": {
        "id": "t2ury7WcwQFy"
      },
      "outputs": [],
      "source": [
        "common_feats = common_feats_all\n",
        "# months_only ="
      ]
    },
    {
      "cell_type": "code",
      "execution_count": null,
      "metadata": {
        "colab": {
          "base_uri": "https://localhost:8080/",
          "height": 542
        },
        "id": "54iELSvcwQFy",
        "outputId": "cefbd056-7693-4319-df2e-064887b1d42b"
      },
      "outputs": [
        {
          "data": {
            "text/html": [
              "<html>\n",
              "<head><meta charset=\"utf-8\" /></head>\n",
              "<body>\n",
              "    <div>            <script src=\"https://cdnjs.cloudflare.com/ajax/libs/mathjax/2.7.5/MathJax.js?config=TeX-AMS-MML_SVG\"></script><script type=\"text/javascript\">if (window.MathJax && window.MathJax.Hub && window.MathJax.Hub.Config) {window.MathJax.Hub.Config({SVG: {font: \"STIX-Web\"}});}</script>                <script type=\"text/javascript\">window.PlotlyConfig = {MathJaxConfig: 'local'};</script>\n",
              "        <script charset=\"utf-8\" src=\"https://cdn.plot.ly/plotly-2.24.1.min.js\"></script>                <div id=\"6fe628cb-4859-4593-aa99-20901d067a37\" class=\"plotly-graph-div\" style=\"height:525px; width:100%;\"></div>            <script type=\"text/javascript\">                                    window.PLOTLYENV=window.PLOTLYENV || {};                                    if (document.getElementById(\"6fe628cb-4859-4593-aa99-20901d067a37\")) {                    Plotly.newPlot(                        \"6fe628cb-4859-4593-aa99-20901d067a37\",                        [{\"customdata\":[[117,\"blue\",\"F117 : repeated instances of specific numerical or categorical markers in d\"],[827,\"blue\",\"F827 : references to numerical values and their relationships\"],[855,\"blue\",\"F855 : numerical values and statistics\"],[2102,\"blue\",\"F2102 : numeric values, particularly in a scientific or quantitative contex\"],[2740,\"blue\",\"F2740 :  phrases related to biological processes and cellular interactions\"],[3019,\"blue\",\"F3019 :  elements related to operational or procedural contexts in a struct\"],[3032,\"blue\",\"F3032 : numerical data or references to values and measurements\"],[3435,\"blue\",\"F3435 :  numeric values, particularly related to technology specifications \"],[3650,\"blue\",\"F3650 : mathematical operations and references to computations or calculati\"],[3697,\"blue\",\"F3697 :  mathematical expressions and notations associated with statistical\"],[4743,\"blue\",\"F4743 : numerical data, particularly relating to prime factors or mathemati\"],[5441,\"blue\",\"F5441 :  content related to legal processes and outcomes\"],[6131,\"blue\",\"F6131 :  numerical values and their relationships to age and time\"],[6143,\"blue\",\"F6143 : phrases related to medical conditions and treatments\"],[6300,\"blue\",\"F6300 : information related to LGBTQ+ families and their unique needs in he\"],[6567,\"blue\",\"F6567 :  sequences or combinations of numbers and code structure\"],[6631,\"blue\",\"F6631 : the beginning of a text or important markers in a document\"],[6809,\"blue\",\"F6809 : numerical references, particularly related to legal sections and pr\"],[8366,\"blue\",\"F8366 : verbs and their related forms, often related to medical or technica\"],[8640,\"blue\",\"F8640 :  numerical data and references to scientific publications\"],[9044,\"blue\",\"F9044 :  numerical values and potential errors in numerical data contexts\"],[10230,\"blue\",\"F10230 : numerical values and quantities in the text\"],[10615,\"blue\",\"F10615 : terms related to ranking and classifications\"],[10738,\"blue\",\"F10738 : phrases or expressions related to numbers and mathematical represe\"],[10802,\"blue\",\"F10802 : dialogue and quotes within the text\"],[10841,\"blue\",\"F10841 : references to people and relationships in a narrative context\"],[11003,\"blue\",\"F11003 :  words indicating causation or reasoning\"],[11674,\"blue\",\"F11674 :  scientific terms related to ocean organisms and their biological \"],[11771,\"blue\",\"F11771 : references to section numbers or enumerated list entries within a \"],[11864,\"blue\",\"F11864 : technical terms and phrases related to legal and procedural contex\"],[12457,\"blue\",\"F12457 : sequences of numbers and codes related to programming or data proc\"],[13206,\"blue\",\"F13206 :  numeric values and their mathematical relationships\"],[13487,\"blue\",\"F13487 : patterns of numerical or mathematical data\"],[14017,\"blue\",\"F14017 : conjunctions and relationships between elements, particularly in l\"],[14441,\"blue\",\"F14441 :  punctuations and special characters\"],[14898,\"blue\",\"F14898 : numerical values and references in the text\"],[15704,\"blue\",\"F15704 : words related to academic and scientific terminology\"],[15782,\"blue\",\"F15782 :  mathematical expressions and technical specifications\"],[16271,\"blue\",\"F16271 :  mathematical expressions or symbols\"]],\"hovertemplate\":\"feature=%{customdata[2]}\\u003cextra\\u003e\\u003c\\u002fextra\\u003e\",\"legendgroup\":\"blue\",\"marker\":{\"color\":\"blue\",\"symbol\":\"circle\",\"size\":8},\"mode\":\"markers\",\"name\":\"Numbers Only\",\"orientation\":\"v\",\"showlegend\":true,\"x\":[8.38121223449707,7.273344993591309,5.964493751525879,5.196901321411133,5.288116931915283,4.116390228271484,8.405071258544922,4.68020486831665,4.276500225067139,6.75318717956543,5.018019676208496,6.138082981109619,6.094130039215088,4.644527435302734,7.684165000915527,7.241906642913818,4.872548580169678,6.465016841888428,4.161614894866943,5.106960296630859,4.651321887969971,5.488476276397705,6.439123153686523,4.356924057006836,5.864593982696533,5.044455051422119,5.035250186920166,4.078099250793457,5.240806579589844,4.158554553985596,7.205677509307861,5.40169620513916,8.305766105651855,8.265960693359375,5.38754415512085,5.1304121017456055,4.141486167907715,6.001063823699951,7.318972587585449],\"xaxis\":\"x\",\"y\":[0.9889072775840759,0.8513633608818054,-0.8285399079322815,-1.2405407428741455,-1.423566222190857,2.6236236095428467,0.843691885471344,-0.7951776385307312,-1.0203274488449097,1.2247387170791626,-0.8874606490135193,2.2589175701141357,2.1301400661468506,2.3079264163970947,1.4726313352584839,1.3799822330474854,2.0025105476379395,-0.24742364883422852,2.5430948734283447,-1.431864857673645,-1.2466164827346802,1.8266401290893555,2.2055835723876953,-1.1043968200683594,2.4895718097686768,2.888225793838501,2.8175692558288574,-0.8321912884712219,-0.9064144492149353,2.6087231636047363,-0.031715936958789825,-0.7662594318389893,0.9549939632415771,0.30192989110946655,2.3172566890716553,-0.5515254735946655,-1.0061911344528198,2.332047700881958,0.8119645714759827],\"yaxis\":\"y\",\"type\":\"scatter\"},{\"customdata\":[[522,\"red\",\"F522 :  numerical data related to gene activity or expression\"],[609,\"red\",\"F609 : terms related to research articles and their attributes, specificall\"],[1530,\"red\",\"F1530 : technical terms related to inventions and scientific descriptions\"],[2762,\"red\",\"F2762 : references to the month of August\"],[3162,\"red\",\"F3162 :  markers indicating the beginning of a document\"],[4295,\"red\",\"F4295 : connections and relationships among elements in technical or proced\"],[4997,\"red\",\"F4997 : dates, specifically in the month of September\"],[5404,\"red\",\"F5404 : phrases and references related to seasonal events and celebrations\"],[5710,\"red\",\"F5710 : references to seasonal festivals and their associated cultural sign\"],[5900,\"red\",\"F5900 :  dates, specifically those in the month of November\"],[5968,\"red\",\"F5968 : references to specific dates, particularly in October and April\"],[6240,\"red\",\"F6240 :  words related to time indicators, specifically months or dates\"],[7159,\"red\",\"F7159 :  references to time frames and chronological events\"],[7985,\"red\",\"F7985 : occurrences of the word \\\"May\\\" or related variations indicative of t\"],[8506,\"red\",\"F8506 : elements related to Christmas and holiday themes, particularly Sant\"],[9236,\"red\",\"F9236 : references to New Year celebrations and associated traditions\"],[9650,\"red\",\"F9650 : references to specific dates and times\"],[10103,\"red\",\"F10103 : dates, specifically in the month of July\"],[10327,\"red\",\"F10327 : mentions of organizations, particularly those related to health an\"],[10636,\"red\",\"F10636 : specific dates or references to time\"],[11004,\"red\",\"F11004 : categories and statistics related to demographic groups\"],[11546,\"red\",\"F11546 : dates and months\"],[11938,\"red\",\"F11938 : specific medical histories and conditions related to participant e\"],[12748,\"red\",\"F12748 :  structured data representations and their attributes\"],[12920,\"red\",\"F12920 : references to the letter 'J' in various contexts, typically associ\"],[13767,\"red\",\"F13767 : terms related to approval and assessment in a regulatory or medica\"],[14540,\"red\",\"F14540 : references to authors and papers in scientific literature\"],[14718,\"red\",\"F14718 : specific dates and events related to winter celebrations and their\"],[15715,\"red\",\"F15715 : descriptions related to summer and seasonal themes\"],[15763,\"red\",\"F15763 :  sequences of numbers and their occurrences within the document\"]],\"hovertemplate\":\"feature=%{customdata[2]}\\u003cextra\\u003e\\u003c\\u002fextra\\u003e\",\"legendgroup\":\"red\",\"marker\":{\"color\":\"red\",\"symbol\":\"circle\",\"size\":8},\"mode\":\"markers\",\"name\":\"Months Only\",\"orientation\":\"v\",\"showlegend\":true,\"x\":[8.068212509155273,5.27060604095459,6.970033645629883,5.1437273025512695,6.483323574066162,6.9623332023620605,5.448756694793701,5.951871395111084,5.759744644165039,5.839999198913574,5.556917667388916,6.299075126647949,6.316795825958252,5.475017547607422,6.298149108886719,6.319377422332764,6.329281330108643,6.018824100494385,4.180219650268555,5.60592794418335,5.273148059844971,5.275959491729736,4.822749137878418,6.6113080978393555,4.786537170410156,4.348522186279297,4.377804756164551,6.516077518463135,5.829337120056152,7.546146869659424],\"xaxis\":\"x\",\"y\":[0.44248804450035095,2.506758689880371,1.9807955026626587,-0.13536754250526428,1.9750542640686035,2.113537073135376,-0.3777005672454834,0.1597183793783188,0.966168224811554,0.14291435480117798,-0.015801914036273956,1.6702499389648438,1.8711191415786743,0.5447231531143188,0.46568912267684937,0.7880024313926697,0.14988909661769867,0.6975604891777039,-0.4252510368824005,1.4328166246414185,2.590904712677002,0.772211492061615,2.6738569736480713,2.406385660171509,-0.42662233114242554,-0.2452085018157959,-0.6270086765289307,0.67607581615448,0.8362146019935608,1.5601868629455566],\"yaxis\":\"y\",\"type\":\"scatter\"},{\"customdata\":[[1094,\"green\",\"F1094 : special characters and mathematical symbols\"],[1316,\"green\",\"F1316 :  patterns related to structured numerical data or parameters\"],[1862,\"green\",\"F1862 :  numeric patterns and symbols commonly used in technical or mathema\"],[2269,\"green\",\"F2269 :  structured lists or numbered steps in procedural texts\"],[3109,\"green\",\"F3109 :  technical terms and symbols related to data structures\"],[5676,\"green\",\"F5676 :  numerical data or values in a document\"],[6167,\"green\",\"F6167 :  structured information and mathematical relationships\"],[6305,\"green\",\"F6305 : mathematical expressions and notations used in equations and proofs\"],[6618,\"green\",\"F6618 : syntax and punctuation patterns within numerical and mathematical c\"],[7709,\"green\",\"F7709 : mathematical notation and variable definitions within a technical c\"],[8211,\"green\",\"F8211 : structured data or code-like patterns\"],[8242,\"green\",\"F8242 : references and citations in scientific writing\"],[8737,\"green\",\"F8737 :  elements related to numerical values or ordered data\"],[9768,\"green\",\"F9768 : terms related to control and authority, particularly in political o\"],[9785,\"green\",\"F9785 :  references to the month of August\"],[10052,\"green\",\"F10052 : mathematical expressions and formatting\"],[10973,\"green\",\"F10973 : references, citations, and external documents in a scientific cont\"],[12161,\"green\",\"F12161 : terms related to programming and technical constructs\"],[12658,\"green\",\"F12658 : mathematical terminology and symbols, particularly in equations an\"],[12802,\"green\",\"F12802 :  numerical values and codes typically associated with scientific o\"],[12977,\"green\",\"F12977 : quantitative data or statistical metrics related to observations\"],[13908,\"green\",\"F13908 : references to numerical values, specifically related to counts or \"],[14471,\"green\",\"F14471 : specific numerical values and their formatting\"],[15451,\"green\",\"F15451 :  structured data or attributes in a coded format\"],[15735,\"green\",\"F15735 :  numerical data and comparisons\"]],\"hovertemplate\":\"feature=%{customdata[2]}\\u003cextra\\u003e\\u003c\\u002fextra\\u003e\",\"legendgroup\":\"green\",\"marker\":{\"color\":\"green\",\"symbol\":\"circle\",\"size\":8},\"mode\":\"markers\",\"name\":\"Both\",\"orientation\":\"v\",\"showlegend\":true,\"x\":[7.186155796051025,6.991542339324951,7.038684368133545,5.678473949432373,8.080977439880371,7.778776168823242,7.6168694496154785,4.463444232940674,7.795622825622559,7.905190944671631,7.220040321350098,8.138079643249512,5.4912590980529785,4.261431694030762,5.4262309074401855,6.86382532119751,6.949724197387695,4.588083744049072,5.669962406158447,7.6331048011779785,4.936784267425537,4.250307083129883,7.696419715881348,7.943472862243652,7.971519470214844],\"xaxis\":\"x\",\"y\":[1.8101933002471924,1.2724121809005737,0.9588201642036438,-1.1098164319992065,0.45286810398101807,-0.39037710428237915,-0.1646794080734253,2.6874406337738037,1.100565791130066,0.9653916358947754,0.31929099559783936,-0.2545541822910309,-1.1303000450134277,2.7376456260681152,-0.715630829334259,0.8266230225563049,-0.199101522564888,2.7210588455200195,1.9260412454605103,0.0788484439253807,-1.1217830181121826,-0.8778122663497925,-0.2789936363697052,0.7423835396766663,-0.10578133910894394],\"yaxis\":\"y\",\"type\":\"scatter\"}],                        {\"template\":{\"data\":{\"histogram2dcontour\":[{\"type\":\"histogram2dcontour\",\"colorbar\":{\"outlinewidth\":0,\"ticks\":\"\"},\"colorscale\":[[0.0,\"#0d0887\"],[0.1111111111111111,\"#46039f\"],[0.2222222222222222,\"#7201a8\"],[0.3333333333333333,\"#9c179e\"],[0.4444444444444444,\"#bd3786\"],[0.5555555555555556,\"#d8576b\"],[0.6666666666666666,\"#ed7953\"],[0.7777777777777778,\"#fb9f3a\"],[0.8888888888888888,\"#fdca26\"],[1.0,\"#f0f921\"]]}],\"choropleth\":[{\"type\":\"choropleth\",\"colorbar\":{\"outlinewidth\":0,\"ticks\":\"\"}}],\"histogram2d\":[{\"type\":\"histogram2d\",\"colorbar\":{\"outlinewidth\":0,\"ticks\":\"\"},\"colorscale\":[[0.0,\"#0d0887\"],[0.1111111111111111,\"#46039f\"],[0.2222222222222222,\"#7201a8\"],[0.3333333333333333,\"#9c179e\"],[0.4444444444444444,\"#bd3786\"],[0.5555555555555556,\"#d8576b\"],[0.6666666666666666,\"#ed7953\"],[0.7777777777777778,\"#fb9f3a\"],[0.8888888888888888,\"#fdca26\"],[1.0,\"#f0f921\"]]}],\"heatmap\":[{\"type\":\"heatmap\",\"colorbar\":{\"outlinewidth\":0,\"ticks\":\"\"},\"colorscale\":[[0.0,\"#0d0887\"],[0.1111111111111111,\"#46039f\"],[0.2222222222222222,\"#7201a8\"],[0.3333333333333333,\"#9c179e\"],[0.4444444444444444,\"#bd3786\"],[0.5555555555555556,\"#d8576b\"],[0.6666666666666666,\"#ed7953\"],[0.7777777777777778,\"#fb9f3a\"],[0.8888888888888888,\"#fdca26\"],[1.0,\"#f0f921\"]]}],\"heatmapgl\":[{\"type\":\"heatmapgl\",\"colorbar\":{\"outlinewidth\":0,\"ticks\":\"\"},\"colorscale\":[[0.0,\"#0d0887\"],[0.1111111111111111,\"#46039f\"],[0.2222222222222222,\"#7201a8\"],[0.3333333333333333,\"#9c179e\"],[0.4444444444444444,\"#bd3786\"],[0.5555555555555556,\"#d8576b\"],[0.6666666666666666,\"#ed7953\"],[0.7777777777777778,\"#fb9f3a\"],[0.8888888888888888,\"#fdca26\"],[1.0,\"#f0f921\"]]}],\"contourcarpet\":[{\"type\":\"contourcarpet\",\"colorbar\":{\"outlinewidth\":0,\"ticks\":\"\"}}],\"contour\":[{\"type\":\"contour\",\"colorbar\":{\"outlinewidth\":0,\"ticks\":\"\"},\"colorscale\":[[0.0,\"#0d0887\"],[0.1111111111111111,\"#46039f\"],[0.2222222222222222,\"#7201a8\"],[0.3333333333333333,\"#9c179e\"],[0.4444444444444444,\"#bd3786\"],[0.5555555555555556,\"#d8576b\"],[0.6666666666666666,\"#ed7953\"],[0.7777777777777778,\"#fb9f3a\"],[0.8888888888888888,\"#fdca26\"],[1.0,\"#f0f921\"]]}],\"surface\":[{\"type\":\"surface\",\"colorbar\":{\"outlinewidth\":0,\"ticks\":\"\"},\"colorscale\":[[0.0,\"#0d0887\"],[0.1111111111111111,\"#46039f\"],[0.2222222222222222,\"#7201a8\"],[0.3333333333333333,\"#9c179e\"],[0.4444444444444444,\"#bd3786\"],[0.5555555555555556,\"#d8576b\"],[0.6666666666666666,\"#ed7953\"],[0.7777777777777778,\"#fb9f3a\"],[0.8888888888888888,\"#fdca26\"],[1.0,\"#f0f921\"]]}],\"mesh3d\":[{\"type\":\"mesh3d\",\"colorbar\":{\"outlinewidth\":0,\"ticks\":\"\"}}],\"scatter\":[{\"fillpattern\":{\"fillmode\":\"overlay\",\"size\":10,\"solidity\":0.2},\"type\":\"scatter\"}],\"parcoords\":[{\"type\":\"parcoords\",\"line\":{\"colorbar\":{\"outlinewidth\":0,\"ticks\":\"\"}}}],\"scatterpolargl\":[{\"type\":\"scatterpolargl\",\"marker\":{\"colorbar\":{\"outlinewidth\":0,\"ticks\":\"\"}}}],\"bar\":[{\"error_x\":{\"color\":\"#2a3f5f\"},\"error_y\":{\"color\":\"#2a3f5f\"},\"marker\":{\"line\":{\"color\":\"#E5ECF6\",\"width\":0.5},\"pattern\":{\"fillmode\":\"overlay\",\"size\":10,\"solidity\":0.2}},\"type\":\"bar\"}],\"scattergeo\":[{\"type\":\"scattergeo\",\"marker\":{\"colorbar\":{\"outlinewidth\":0,\"ticks\":\"\"}}}],\"scatterpolar\":[{\"type\":\"scatterpolar\",\"marker\":{\"colorbar\":{\"outlinewidth\":0,\"ticks\":\"\"}}}],\"histogram\":[{\"marker\":{\"pattern\":{\"fillmode\":\"overlay\",\"size\":10,\"solidity\":0.2}},\"type\":\"histogram\"}],\"scattergl\":[{\"type\":\"scattergl\",\"marker\":{\"colorbar\":{\"outlinewidth\":0,\"ticks\":\"\"}}}],\"scatter3d\":[{\"type\":\"scatter3d\",\"line\":{\"colorbar\":{\"outlinewidth\":0,\"ticks\":\"\"}},\"marker\":{\"colorbar\":{\"outlinewidth\":0,\"ticks\":\"\"}}}],\"scattermapbox\":[{\"type\":\"scattermapbox\",\"marker\":{\"colorbar\":{\"outlinewidth\":0,\"ticks\":\"\"}}}],\"scatterternary\":[{\"type\":\"scatterternary\",\"marker\":{\"colorbar\":{\"outlinewidth\":0,\"ticks\":\"\"}}}],\"scattercarpet\":[{\"type\":\"scattercarpet\",\"marker\":{\"colorbar\":{\"outlinewidth\":0,\"ticks\":\"\"}}}],\"carpet\":[{\"aaxis\":{\"endlinecolor\":\"#2a3f5f\",\"gridcolor\":\"white\",\"linecolor\":\"white\",\"minorgridcolor\":\"white\",\"startlinecolor\":\"#2a3f5f\"},\"baxis\":{\"endlinecolor\":\"#2a3f5f\",\"gridcolor\":\"white\",\"linecolor\":\"white\",\"minorgridcolor\":\"white\",\"startlinecolor\":\"#2a3f5f\"},\"type\":\"carpet\"}],\"table\":[{\"cells\":{\"fill\":{\"color\":\"#EBF0F8\"},\"line\":{\"color\":\"white\"}},\"header\":{\"fill\":{\"color\":\"#C8D4E3\"},\"line\":{\"color\":\"white\"}},\"type\":\"table\"}],\"barpolar\":[{\"marker\":{\"line\":{\"color\":\"#E5ECF6\",\"width\":0.5},\"pattern\":{\"fillmode\":\"overlay\",\"size\":10,\"solidity\":0.2}},\"type\":\"barpolar\"}],\"pie\":[{\"automargin\":true,\"type\":\"pie\"}]},\"layout\":{\"autotypenumbers\":\"strict\",\"colorway\":[\"#636efa\",\"#EF553B\",\"#00cc96\",\"#ab63fa\",\"#FFA15A\",\"#19d3f3\",\"#FF6692\",\"#B6E880\",\"#FF97FF\",\"#FECB52\"],\"font\":{\"color\":\"#2a3f5f\"},\"hovermode\":\"closest\",\"hoverlabel\":{\"align\":\"left\"},\"paper_bgcolor\":\"white\",\"plot_bgcolor\":\"#E5ECF6\",\"polar\":{\"bgcolor\":\"#E5ECF6\",\"angularaxis\":{\"gridcolor\":\"white\",\"linecolor\":\"white\",\"ticks\":\"\"},\"radialaxis\":{\"gridcolor\":\"white\",\"linecolor\":\"white\",\"ticks\":\"\"}},\"ternary\":{\"bgcolor\":\"#E5ECF6\",\"aaxis\":{\"gridcolor\":\"white\",\"linecolor\":\"white\",\"ticks\":\"\"},\"baxis\":{\"gridcolor\":\"white\",\"linecolor\":\"white\",\"ticks\":\"\"},\"caxis\":{\"gridcolor\":\"white\",\"linecolor\":\"white\",\"ticks\":\"\"}},\"coloraxis\":{\"colorbar\":{\"outlinewidth\":0,\"ticks\":\"\"}},\"colorscale\":{\"sequential\":[[0.0,\"#0d0887\"],[0.1111111111111111,\"#46039f\"],[0.2222222222222222,\"#7201a8\"],[0.3333333333333333,\"#9c179e\"],[0.4444444444444444,\"#bd3786\"],[0.5555555555555556,\"#d8576b\"],[0.6666666666666666,\"#ed7953\"],[0.7777777777777778,\"#fb9f3a\"],[0.8888888888888888,\"#fdca26\"],[1.0,\"#f0f921\"]],\"sequentialminus\":[[0.0,\"#0d0887\"],[0.1111111111111111,\"#46039f\"],[0.2222222222222222,\"#7201a8\"],[0.3333333333333333,\"#9c179e\"],[0.4444444444444444,\"#bd3786\"],[0.5555555555555556,\"#d8576b\"],[0.6666666666666666,\"#ed7953\"],[0.7777777777777778,\"#fb9f3a\"],[0.8888888888888888,\"#fdca26\"],[1.0,\"#f0f921\"]],\"diverging\":[[0,\"#8e0152\"],[0.1,\"#c51b7d\"],[0.2,\"#de77ae\"],[0.3,\"#f1b6da\"],[0.4,\"#fde0ef\"],[0.5,\"#f7f7f7\"],[0.6,\"#e6f5d0\"],[0.7,\"#b8e186\"],[0.8,\"#7fbc41\"],[0.9,\"#4d9221\"],[1,\"#276419\"]]},\"xaxis\":{\"gridcolor\":\"white\",\"linecolor\":\"white\",\"ticks\":\"\",\"title\":{\"standoff\":15},\"zerolinecolor\":\"white\",\"automargin\":true,\"zerolinewidth\":2},\"yaxis\":{\"gridcolor\":\"white\",\"linecolor\":\"white\",\"ticks\":\"\",\"title\":{\"standoff\":15},\"zerolinecolor\":\"white\",\"automargin\":true,\"zerolinewidth\":2},\"scene\":{\"xaxis\":{\"backgroundcolor\":\"#E5ECF6\",\"gridcolor\":\"white\",\"linecolor\":\"white\",\"showbackground\":true,\"ticks\":\"\",\"zerolinecolor\":\"white\",\"gridwidth\":2},\"yaxis\":{\"backgroundcolor\":\"#E5ECF6\",\"gridcolor\":\"white\",\"linecolor\":\"white\",\"showbackground\":true,\"ticks\":\"\",\"zerolinecolor\":\"white\",\"gridwidth\":2},\"zaxis\":{\"backgroundcolor\":\"#E5ECF6\",\"gridcolor\":\"white\",\"linecolor\":\"white\",\"showbackground\":true,\"ticks\":\"\",\"zerolinecolor\":\"white\",\"gridwidth\":2}},\"shapedefaults\":{\"line\":{\"color\":\"#2a3f5f\"}},\"annotationdefaults\":{\"arrowcolor\":\"#2a3f5f\",\"arrowhead\":0,\"arrowwidth\":1},\"geo\":{\"bgcolor\":\"white\",\"landcolor\":\"#E5ECF6\",\"subunitcolor\":\"white\",\"showland\":true,\"showlakes\":true,\"lakecolor\":\"white\"},\"title\":{\"x\":0.05},\"mapbox\":{\"style\":\"light\"}}},\"xaxis\":{\"anchor\":\"y\",\"domain\":[0.0,1.0],\"title\":{\"text\":\"UMAP Component 1\"}},\"yaxis\":{\"anchor\":\"x\",\"domain\":[0.0,1.0],\"title\":{\"text\":\"UMAP Component 2\"}},\"legend\":{\"title\":{\"text\":\"Color\"},\"tracegroupgap\":0},\"margin\":{\"t\":60},\"title\":{\"text\":\"UMAP of Decoder Weights\"}},                        {\"responsive\": true}                    ).then(function(){\n",
              "                            \n",
              "var gd = document.getElementById('6fe628cb-4859-4593-aa99-20901d067a37');\n",
              "var x = new MutationObserver(function (mutations, observer) {{\n",
              "        var display = window.getComputedStyle(gd).display;\n",
              "        if (!display || display === 'none') {{\n",
              "            console.log([gd, 'removed!']);\n",
              "            Plotly.purge(gd);\n",
              "            observer.disconnect();\n",
              "        }}\n",
              "}});\n",
              "\n",
              "// Listen for the removal of the full notebook cells\n",
              "var notebookContainer = gd.closest('#notebook-container');\n",
              "if (notebookContainer) {{\n",
              "    x.observe(notebookContainer, {childList: true});\n",
              "}}\n",
              "\n",
              "// Listen for the clearing of the current output cell\n",
              "var outputEl = gd.closest('.output');\n",
              "if (outputEl) {{\n",
              "    x.observe(outputEl, {childList: true});\n",
              "}}\n",
              "\n",
              "                        })                };                            </script>        </div>\n",
              "</body>\n",
              "</html>"
            ]
          },
          "metadata": {},
          "output_type": "display_data"
        }
      ],
      "source": [
        "import plotly.express as px\n",
        "import numpy as np\n",
        "import pandas as pd\n",
        "\n",
        "df = pd.DataFrame(embedding1, columns=['UMAP Component 1', 'UMAP Component 2'])\n",
        "df['Feature ID'] = feature_subset\n",
        "# df['Feature Description']\n",
        "df['feature'] = [i[:75] for i in f_labels] # [str(i) for i in feature_subset] # feature_subset\n",
        "df['Color'] = df['Feature ID'].apply(lambda x: 'green' if x in common_feats else ('red' if x in months_only else 'blue'))\n",
        "\n",
        "fig = px.scatter(df, x='UMAP Component 1', y='UMAP Component 2', # text='Feature ID',\n",
        "                 color='Color',  # Use the Color column for coloring points\n",
        "                 color_discrete_map={'red': 'red', 'green': 'green', 'blue': 'blue'},\n",
        "                #  hover_data='Feature Description')\n",
        "                hover_data={\n",
        "                     'UMAP Component 1': False,\n",
        "                     'UMAP Component 2': False,\n",
        "                     'Feature ID': False,\n",
        "                     'Color': False,\n",
        "                     'feature': True  # Only display the feature description\n",
        "                 } ) #,\n",
        "                #  size=[0.1] * len(df))\n",
        "\n",
        "fig.update_layout(\n",
        "    title='UMAP of Decoder Weights',\n",
        "    xaxis_title='UMAP Component 1',\n",
        "    yaxis_title='UMAP Component 2'\n",
        ")\n",
        "\n",
        "# Customize legend labels\n",
        "fig.for_each_trace(lambda t: t.update(name = {\n",
        "    'red': 'Months Only',\n",
        "    'green': 'Both',\n",
        "    'blue': 'Numbers Only'\n",
        "}[t.name]))\n",
        "\n",
        "fig.update_traces(marker=dict(size= 8))\n",
        "\n",
        "fig.show()"
      ]
    },
    {
      "cell_type": "code",
      "execution_count": null,
      "metadata": {
        "id": "dlR3qgabwQFz"
      },
      "outputs": [],
      "source": [
        "from google.colab import files\n",
        "output_filename = 'umap.html'\n",
        "fig.write_html(output_filename)\n",
        "files.download(output_filename)"
      ]
    },
    {
      "cell_type": "markdown",
      "metadata": {
        "id": "zYb7CSo2wMGG"
      },
      "source": [
        "## top 50"
      ]
    },
    {
      "cell_type": "code",
      "execution_count": null,
      "metadata": {
        "colab": {
          "base_uri": "https://localhost:8080/"
        },
        "id": "RVYqUgBPwHYr",
        "outputId": "186ee0c9-0d70-4435-bca1-f83f8514ab3b"
      },
      "outputs": [
        {
          "data": {
            "text/plain": [
              "249"
            ]
          },
          "execution_count": 83,
          "metadata": {},
          "output_type": "execute_result"
        }
      ],
      "source": [
        "feature_subset = num_feats_all + month_feats_all\n",
        "feature_subset = list(set(feature_subset))\n",
        "feature_subset.sort()\n",
        "len(feature_subset)"
      ]
    },
    {
      "cell_type": "code",
      "execution_count": null,
      "metadata": {
        "id": "VifJah73xU-n"
      },
      "outputs": [],
      "source": [
        "f_labels = [ \"F\" + str(f_ind) + \" : \" + feat_labels_lst[f_ind] for f_ind in feature_subset]"
      ]
    },
    {
      "cell_type": "markdown",
      "metadata": {
        "id": "ZgS2tMwGx4gK"
      },
      "source": [
        "Now labels and weight matrix may share the same new indices (rather than feature numbers of orig matrix) due to slicing them in same way"
      ]
    },
    {
      "cell_type": "code",
      "execution_count": null,
      "metadata": {
        "colab": {
          "base_uri": "https://localhost:8080/"
        },
        "id": "F_EieYpPw4Sn",
        "outputId": "b932c73c-0263-405a-dc12-a78029ba599a"
      },
      "outputs": [
        {
          "data": {
            "text/plain": [
              "(249, 2304)"
            ]
          },
          "execution_count": 85,
          "metadata": {},
          "output_type": "execute_result"
        }
      ],
      "source": [
        "weights_feature_subset = weight_matrix[feature_subset]\n",
        "weights_feature_subset.shape"
      ]
    },
    {
      "cell_type": "code",
      "execution_count": null,
      "metadata": {
        "id": "Cf5LZ_dHFtTY"
      },
      "outputs": [],
      "source": [
        "reducer = umap.UMAP(n_neighbors=15, min_dist=0.01, metric='euclidean')\n",
        "embedding1 = reducer.fit_transform(weights_feature_subset)"
      ]
    },
    {
      "cell_type": "code",
      "execution_count": null,
      "metadata": {
        "id": "ruCedgy7u-Pr"
      },
      "outputs": [],
      "source": [
        "common_feats = common_feats_all\n",
        "# months_only ="
      ]
    },
    {
      "cell_type": "code",
      "execution_count": null,
      "metadata": {
        "colab": {
          "base_uri": "https://localhost:8080/",
          "height": 542
        },
        "id": "8KHLgwkiw9-6",
        "outputId": "13dd503f-3bc2-46c7-fe40-5f75c81783cc"
      },
      "outputs": [
        {
          "data": {
            "text/html": [
              "<html>\n",
              "<head><meta charset=\"utf-8\" /></head>\n",
              "<body>\n",
              "    <div>            <script src=\"https://cdnjs.cloudflare.com/ajax/libs/mathjax/2.7.5/MathJax.js?config=TeX-AMS-MML_SVG\"></script><script type=\"text/javascript\">if (window.MathJax && window.MathJax.Hub && window.MathJax.Hub.Config) {window.MathJax.Hub.Config({SVG: {font: \"STIX-Web\"}});}</script>                <script type=\"text/javascript\">window.PlotlyConfig = {MathJaxConfig: 'local'};</script>\n",
              "        <script charset=\"utf-8\" src=\"https://cdn.plot.ly/plotly-2.24.1.min.js\"></script>                <div id=\"1728eb6c-63d0-42d8-82ba-a6244dfc97b5\" class=\"plotly-graph-div\" style=\"height:525px; width:100%;\"></div>            <script type=\"text/javascript\">                                    window.PLOTLYENV=window.PLOTLYENV || {};                                    if (document.getElementById(\"1728eb6c-63d0-42d8-82ba-a6244dfc97b5\")) {                    Plotly.newPlot(                        \"1728eb6c-63d0-42d8-82ba-a6244dfc97b5\",                        [{\"customdata\":[[71,\"red\",\"F71 : specific programming or technical terms associated with network proto\"],[716,\"red\",\"F716 : quantitative data and numerical information related to counts or tot\"],[810,\"red\",\"F810 :  phrases that indicate relationships involving multiple entities, su\"],[1039,\"red\",\"F1039 : technical terms and elements within programming and coding contexts\"],[1046,\"red\",\"F1046 :  dates and events related to the calendar\"],[1233,\"red\",\"F1233 : scientific terminology related to statistics and experimental metho\"],[1257,\"red\",\"F1257 : specific numeric data points and mathematical expressions\"],[1588,\"red\",\"F1588 : references to specific months and dates\"],[1648,\"red\",\"F1648 : quantitative data and numerical representations in the text\"],[1942,\"red\",\"F1942 : terms related to medical diagnostics and treatments\"],[1987,\"red\",\"F1987 : specific quantitative data or statistics related to cases or condit\"],[2021,\"red\",\"F2021 : topics related to political events and elections\"],[2282,\"red\",\"F2282 : specific medical terms and conditions, particularly related to stud\"],[2590,\"red\",\"F2590 : elements related to Java or software components and their associate\"],[2762,\"red\",\"F2762 : references to the month of August\"],[3082,\"red\",\"F3082 : references to timeframes and dates\"],[3162,\"red\",\"F3162 :  markers indicating the beginning of a document\"],[3330,\"red\",\"F3330 :  aspects related to database configurations and parameters\"],[3345,\"red\",\"F3345 : terms related to technology and data management\"],[3848,\"red\",\"F3848 : keywords and terms related to functionality and usability in variou\"],[4359,\"red\",\"F4359 : specific names and terminologies related to scientific studies and \"],[4382,\"red\",\"F4382 :  numerical expressions and mathematical operations\"],[4514,\"red\",\"F4514 : elements related to structured data or tables in documents\"],[4823,\"red\",\"F4823 : terms related to legal cases and court proceedings\"],[4997,\"red\",\"F4997 : dates, specifically in the month of September\"],[5052,\"red\",\"F5052 : the beginning of a document or section, likely signaling the start \"],[5331,\"red\",\"F5331 : references to visual content, particularly images or photos\"],[5404,\"red\",\"F5404 : phrases and references related to seasonal events and celebrations\"],[5486,\"red\",\"F5486 :  interrogative and rhetorical questions related to historical event\"],[5710,\"red\",\"F5710 : references to seasonal festivals and their associated cultural sign\"],[5828,\"red\",\"F5828 :  technical terms and definitions related to software and code imple\"],[5968,\"red\",\"F5968 : references to specific dates, particularly in October and April\"],[6082,\"red\",\"F6082 :  segments related to instructions or guidelines\"],[6147,\"red\",\"F6147 :  references to data structures, object-oriented programming, and da\"],[6228,\"red\",\"F6228 :  phrases related to decision-making and evaluating options\"],[6240,\"red\",\"F6240 :  words related to time indicators, specifically months or dates\"],[6612,\"red\",\"F6612 : instances of numbers and counting, indicating calculations or measu\"],[6915,\"red\",\"F6915 : technical terms related to gauge theory and its application in phys\"],[7128,\"red\",\"F7128 : references to specific months and dates\"],[7159,\"red\",\"F7159 :  references to time frames and chronological events\"],[7263,\"red\",\"F7263 : terms related to medical diagnostics and procedures involving neura\"],[7566,\"red\",\"F7566 : terms related to medicinal or electrical concepts and their mathema\"],[7985,\"red\",\"F7985 : occurrences of the word \\\"May\\\" or related variations indicative of t\"],[8069,\"red\",\"F8069 : data and numerical or statistical information\"],[8506,\"red\",\"F8506 : elements related to Christmas and holiday themes, particularly Sant\"],[8684,\"red\",\"F8684 :  technical jargon and programming-related terms\"],[8881,\"red\",\"F8881 : references to seeds and their related characteristics or contexts\"],[9059,\"red\",\"F9059 :  connections between various entities or concepts\"],[9203,\"red\",\"F9203 : the start of sections or paragraphs in the text\"],[9236,\"red\",\"F9236 : references to New Year celebrations and associated traditions\"],[9379,\"red\",\"F9379 : technical terms and concepts related to scientific or mathematical \"],[9650,\"red\",\"F9650 : references to specific dates and times\"],[9678,\"red\",\"F9678 : terms related to health and safety, particularly in medical and con\"],[9966,\"red\",\"F9966 : names or terms associated with specific entities, likely focusing o\"],[10077,\"red\",\"F10077 :  numerical values and structured data formats\"],[10090,\"red\",\"F10090 : modal verbs indicating possibility or likelihood\"],[10103,\"red\",\"F10103 : dates, specifically in the month of July\"],[10254,\"red\",\"F10254 : references to days of the week and their associated schedules\"],[10327,\"red\",\"F10327 : mentions of organizations, particularly those related to health an\"],[10576,\"red\",\"F10576 : financial and banking terms or identifiers\"],[10636,\"red\",\"F10636 : specific dates or references to time\"],[10997,\"red\",\"F10997 :  references to specific health conditions or treatments\"],[11004,\"red\",\"F11004 : categories and statistics related to demographic groups\"],[11210,\"red\",\"F11210 :  expressions related to logical comparisons\"],[11546,\"red\",\"F11546 : dates and months\"],[11608,\"red\",\"F11608 :  numerical data related to scientific measurements and relationshi\"],[11671,\"red\",\"F11671 : phrases indicating the desires or preferences of individuals\"],[12384,\"red\",\"F12384 : elements related to programming and code documentation\"],[12748,\"red\",\"F12748 :  structured data representations and their attributes\"],[12920,\"red\",\"F12920 : references to the letter 'J' in various contexts, typically associ\"],[12958,\"red\",\"F12958 : words and themes associated with seasonal transitions and celebrat\"],[13032,\"red\",\"F13032 : data and statistics related to demographic breakdowns and distribu\"],[13142,\"red\",\"F13142 :  phrases and terminology related to data management and programmin\"],[13192,\"red\",\"F13192 : terms related to physical detection and measurement technologies\"],[13254,\"red\",\"F13254 :  terms related to experimental control and intervention settings i\"],[13396,\"red\",\"F13396 : references to the prefix \\\"de-\\\" in various contexts\"],[13410,\"red\",\"F13410 : terms related to astronomy and culinary topics\"],[13767,\"red\",\"F13767 : terms related to approval and assessment in a regulatory or medica\"],[13817,\"red\",\"F13817 : dates and times\"],[14054,\"red\",\"F14054 : specific categories and details related to sports players and medi\"],[14249,\"red\",\"F14249 : links to privacy and cookie policies\"],[14388,\"red\",\"F14388 : terms and phrases related to technology, particularly in the conte\"],[14426,\"red\",\"F14426 : phrases related to financial costs and savings\"],[14540,\"red\",\"F14540 : references to authors and papers in scientific literature\"],[14718,\"red\",\"F14718 : specific dates and events related to winter celebrations and their\"],[14782,\"red\",\"F14782 :  references to data structures and types in programming\"],[15194,\"red\",\"F15194 : specific terms related to legal and governmental contexts\"],[15295,\"red\",\"F15295 :  markers indicating the beginning of text segments\"],[15491,\"red\",\"F15491 : references to sexual orientation and gender identities\"],[15549,\"red\",\"F15549 :  specific mathematical expressions and variables\"],[15628,\"red\",\"F15628 : structured items or entities in a list format\"],[15715,\"red\",\"F15715 : descriptions related to summer and seasonal themes\"],[15784,\"red\",\"F15784 : elements related to dates and time management in programming\"],[15889,\"red\",\"F15889 :  mathematical symbols and functions related to equations\"]],\"hovertemplate\":\"feature=%{customdata[2]}\\u003cextra\\u003e\\u003c\\u002fextra\\u003e\",\"legendgroup\":\"red\",\"marker\":{\"color\":\"red\",\"symbol\":\"circle\",\"size\":8},\"mode\":\"markers\",\"name\":\"Months Only\",\"orientation\":\"v\",\"showlegend\":true,\"x\":[7.635120868682861,9.968409538269043,6.035571575164795,10.689687728881836,7.901943683624268,10.467223167419434,6.987585544586182,9.273700714111328,7.380674362182617,11.784509658813477,10.880684852600098,10.814258575439453,11.845362663269043,6.812389373779297,6.58786678314209,9.195477485656738,9.545416831970215,7.82016658782959,7.786733150482178,11.870893478393555,6.901512622833252,6.1894707679748535,11.858454704284668,12.096603393554688,6.5698957443237305,10.122673988342285,12.53883171081543,7.320589542388916,10.41168212890625,7.875335216522217,7.68480920791626,7.199827671051025,12.148874282836914,6.716592788696289,10.674826622009277,8.87122631072998,10.521142959594727,6.15020227432251,9.246561050415039,9.301779747009277,6.115213871002197,7.011008262634277,7.853012561798096,6.839532852172852,8.016775131225586,6.87422513961792,6.659111976623535,6.749350070953369,10.804716110229492,8.23157787322998,7.069288730621338,6.970311641693115,10.559672355651855,7.491387367248535,11.619330406188965,8.13911247253418,7.547236442565918,9.47352409362793,6.029970169067383,7.444151401519775,9.1831636428833,6.866182327270508,11.674556732177734,9.512554168701172,7.960729122161865,7.375683307647705,10.540406227111816,12.632901191711426,10.764180183410645,7.186268329620361,8.628500938415527,9.846418380737305,10.944856643676758,6.0572991371154785,10.847792625427246,6.799360752105713,6.981029510498047,6.126920223236084,12.343852043151855,11.891759872436523,12.249917030334473,11.479527473449707,12.462124824523926,7.338016510009766,8.026473999023438,10.360560417175293,11.854292869567871,12.23774242401123,10.56957721710205,7.098840713500977,7.3966169357299805,7.650136947631836,8.81606388092041,7.059541702270508],\"xaxis\":\"x\",\"y\":[3.0125484466552734,2.318307399749756,3.0989084243774414,2.8170015811920166,3.518176794052124,1.383741855621338,4.725931644439697,3.09055233001709,4.885023593902588,1.7436611652374268,2.395423412322998,2.761160373687744,1.7971231937408447,2.3702075481414795,1.5797826051712036,3.017042875289917,3.360870361328125,2.297865867614746,2.897991418838501,1.5021456480026245,1.8756855726242065,2.8070905208587646,1.0997816324234009,1.0957541465759277,2.1497251987457275,1.621595025062561,1.3948428630828857,3.058020830154419,3.214632987976074,3.569021463394165,3.1301767826080322,2.4248738288879395,1.1814393997192383,3.1522250175476074,2.6105282306671143,3.331174373626709,1.3246970176696777,1.9322586059570312,2.9437978267669678,3.2963743209838867,2.517383098602295,1.6079339981079102,2.6756417751312256,4.857076168060303,3.2446041107177734,1.1376813650131226,2.067333221435547,3.3296520709991455,1.6546435356140137,3.312403440475464,2.3571488857269287,2.777095317840576,1.356737732887268,2.085829019546509,1.4313231706619263,2.4977376461029053,3.5180280208587646,3.394026756286621,2.3161509037017822,1.4539999961853027,2.891097068786621,2.5994348526000977,1.1207354068756104,2.0507633686065674,2.5914642810821533,3.2213380336761475,2.7133700847625732,1.5734457969665527,2.4970767498016357,3.3506057262420654,3.2698495388031006,2.355025291442871,2.0274038314819336,2.1939494609832764,2.065676689147949,2.7083213329315186,1.981232762336731,2.454876184463501,1.2884474992752075,1.0168306827545166,1.2922775745391846,1.9041547775268555,1.107710599899292,2.9426300525665283,3.3589344024658203,1.510085105895996,1.2155174016952515,1.1979155540466309,3.058931350708008,3.6816248893737793,4.892263412475586,3.8279969692230225,3.2191925048828125,4.324784278869629],\"yaxis\":\"y\",\"type\":\"scatter\"},{\"customdata\":[[117,\"green\",\"F117 : repeated instances of specific numerical or categorical markers in d\"],[522,\"green\",\"F522 :  numerical data related to gene activity or expression\"],[609,\"green\",\"F609 : terms related to research articles and their attributes, specificall\"],[855,\"green\",\"F855 : numerical values and statistics\"],[1094,\"green\",\"F1094 : special characters and mathematical symbols\"],[1316,\"green\",\"F1316 :  patterns related to structured numerical data or parameters\"],[1530,\"green\",\"F1530 : technical terms related to inventions and scientific descriptions\"],[1692,\"green\",\"F1692 : legal and technical terminology related to statutes and inventions\"],[1862,\"green\",\"F1862 :  numeric patterns and symbols commonly used in technical or mathema\"],[2102,\"green\",\"F2102 : numeric values, particularly in a scientific or quantitative contex\"],[2269,\"green\",\"F2269 :  structured lists or numbered steps in procedural texts\"],[2504,\"green\",\"F2504 :  numerical sequences and relations, particularly in a structured fo\"],[2740,\"green\",\"F2740 :  phrases related to biological processes and cellular interactions\"],[3019,\"green\",\"F3019 :  elements related to operational or procedural contexts in a struct\"],[3032,\"green\",\"F3032 : numerical data or references to values and measurements\"],[3109,\"green\",\"F3109 :  technical terms and symbols related to data structures\"],[4295,\"green\",\"F4295 : connections and relationships among elements in technical or proced\"],[4728,\"green\",\"F4728 : specific protein-related terms and various genome references\"],[5405,\"green\",\"F5405 :  numerical data and statistics\"],[5441,\"green\",\"F5441 :  content related to legal processes and outcomes\"],[5676,\"green\",\"F5676 :  numerical data or values in a document\"],[5900,\"green\",\"F5900 :  dates, specifically those in the month of November\"],[6143,\"green\",\"F6143 : phrases related to medical conditions and treatments\"],[6167,\"green\",\"F6167 :  structured information and mathematical relationships\"],[6219,\"green\",\"F6219 :  quantitative data and numerical representations within the text\"],[6305,\"green\",\"F6305 : mathematical expressions and notations used in equations and proofs\"],[6618,\"green\",\"F6618 : syntax and punctuation patterns within numerical and mathematical c\"],[7709,\"green\",\"F7709 : mathematical notation and variable definitions within a technical c\"],[8211,\"green\",\"F8211 : structured data or code-like patterns\"],[8242,\"green\",\"F8242 : references and citations in scientific writing\"],[8640,\"green\",\"F8640 :  numerical data and references to scientific publications\"],[8737,\"green\",\"F8737 :  elements related to numerical values or ordered data\"],[8820,\"green\",\"F8820 : references to ethical concerns and issues related to accountability\"],[9557,\"green\",\"F9557 : temperature-related data and numerical statistics\"],[9768,\"green\",\"F9768 : terms related to control and authority, particularly in political o\"],[9785,\"green\",\"F9785 :  references to the month of August\"],[10052,\"green\",\"F10052 : mathematical expressions and formatting\"],[10174,\"green\",\"F10174 :  patterns or codes related to data structures or object representa\"],[10973,\"green\",\"F10973 : references, citations, and external documents in a scientific cont\"],[11198,\"green\",\"F11198 :  numerical values or references related to scientific or statistic\"],[11771,\"green\",\"F11771 : references to section numbers or enumerated list entries within a \"],[11864,\"green\",\"F11864 : technical terms and phrases related to legal and procedural contex\"],[11938,\"green\",\"F11938 : specific medical histories and conditions related to participant e\"],[12161,\"green\",\"F12161 : terms related to programming and technical constructs\"],[12658,\"green\",\"F12658 : mathematical terminology and symbols, particularly in equations an\"],[12802,\"green\",\"F12802 :  numerical values and codes typically associated with scientific o\"],[12977,\"green\",\"F12977 : quantitative data or statistical metrics related to observations\"],[13206,\"green\",\"F13206 :  numeric values and their mathematical relationships\"],[13808,\"green\",\"F13808 : references to medical information and conditions\"],[13908,\"green\",\"F13908 : references to numerical values, specifically related to counts or \"],[14441,\"green\",\"F14441 :  punctuations and special characters\"],[14471,\"green\",\"F14471 : specific numerical values and their formatting\"],[14507,\"green\",\"F14507 :  monetary values or financial figures\"],[14793,\"green\",\"F14793 :  numerical data and statistical results within the document\"],[14898,\"green\",\"F14898 : numerical values and references in the text\"],[15451,\"green\",\"F15451 :  structured data or attributes in a coded format\"],[15735,\"green\",\"F15735 :  numerical data and comparisons\"],[15763,\"green\",\"F15763 :  sequences of numbers and their occurrences within the document\"]],\"hovertemplate\":\"feature=%{customdata[2]}\\u003cextra\\u003e\\u003c\\u002fextra\\u003e\",\"legendgroup\":\"green\",\"marker\":{\"color\":\"green\",\"symbol\":\"circle\",\"size\":8},\"mode\":\"markers\",\"name\":\"Both\",\"orientation\":\"v\",\"showlegend\":true,\"x\":[6.811731815338135,7.2849531173706055,11.195662498474121,6.1156229972839355,10.335752487182617,6.589367389678955,10.15711498260498,12.34878158569336,6.386280536651611,6.506899356842041,6.310816764831543,6.16223669052124,6.513617038726807,12.267396926879883,6.753816604614258,7.25576639175415,9.930780410766602,6.729547023773193,7.265945911407471,9.761080741882324,6.567068099975586,7.371820449829102,12.006817817687988,6.742616176605225,6.136670112609863,12.29393196105957,6.367902755737305,6.214303016662598,6.292162895202637,7.009531497955322,6.573788166046143,6.258781433105469,11.608636856079102,10.583298683166504,12.499590873718262,6.19565486907959,6.801828861236572,9.505860328674316,6.432075500488281,6.3188700675964355,6.192600727081299,12.170548439025879,11.812942504882812,12.233015060424805,10.582572937011719,6.744787216186523,6.361384868621826,6.316712379455566,11.76103401184082,7.105912208557129,11.108194351196289,6.594676971435547,6.557951927185059,6.772427558898926,6.336134910583496,7.337996482849121,6.776129722595215,10.106886863708496],\"xaxis\":\"x\",\"y\":[4.052809238433838,4.572232246398926,1.5205881595611572,1.235719919204712,2.2089428901672363,4.63578987121582,1.6060580015182495,1.7117260694503784,4.375511646270752,1.1932209730148315,1.063589096069336,3.9814186096191406,1.202311396598816,1.7613298892974854,4.21721076965332,4.65162467956543,3.070377826690674,3.0748987197875977,4.697476863861084,3.4119114875793457,5.245625972747803,2.7742555141448975,1.4152711629867554,5.23496675491333,4.59707498550415,1.5633364915847778,3.9815986156463623,3.809507131576538,4.727461814880371,5.173635482788086,1.2537157535552979,1.052685260772705,1.5926897525787354,1.4548059701919556,1.8155889511108398,1.826389193534851,4.363002777099609,3.58539080619812,5.255842208862305,4.704333305358887,1.3304452896118164,1.7237839698791504,1.4431573152542114,1.4222441911697388,2.32515549659729,5.064277172088623,1.3640739917755127,1.6675883531570435,1.1735997200012207,1.6739119291305542,1.5486406087875366,5.119034290313721,5.336862087249756,4.87270450592041,1.2833997011184692,4.818990707397461,4.954893112182617,2.597912549972534],\"yaxis\":\"y\",\"type\":\"scatter\"},{\"customdata\":[[290,\"blue\",\"F290 : references to songs and musical works\"],[319,\"blue\",\"F319 : numerical values, particularly for structured data or mathematical r\"],[435,\"blue\",\"F435 :  mathematical expressions and comparisons\"],[496,\"blue\",\"F496 : questions and statements related to mathematical factors and multipl\"],[827,\"blue\",\"F827 : references to numerical values and their relationships\"],[1198,\"blue\",\"F1198 :  instructions and steps in a process\"],[1583,\"blue\",\"F1583 : words related to administrative or technical tasks and issues\"],[2260,\"blue\",\"F2260 : numbers and numerical data\"],[2335,\"blue\",\"F2335 :  complex mathematical expressions or formulas\"],[2346,\"blue\",\"F2346 :  numerical values and their relationships in various contexts\"],[2385,\"blue\",\"F2385 : verbs related to tendency or habitual actions\"],[2916,\"blue\",\"F2916 : references to technology and its implications\"],[3068,\"blue\",\"F3068 : references to scientific research and methodologies, particularly i\"],[3435,\"blue\",\"F3435 :  numeric values, particularly related to technology specifications \"],[3558,\"blue\",\"F3558 :  instances of numerical data or statistics\"],[3641,\"blue\",\"F3641 : numerical data, symbols, and figures in the text\"],[3650,\"blue\",\"F3650 : mathematical operations and references to computations or calculati\"],[3697,\"blue\",\"F3697 :  mathematical expressions and notations associated with statistical\"],[3708,\"blue\",\"F3708 :  numerical representations of percentages and statistics\"],[3748,\"blue\",\"F3748 :  specific keywords and phrases related to formal or legal scenarios\"],[4527,\"blue\",\"F4527 : specific times or references to time within a narrative\"],[4565,\"blue\",\"F4565 : terms related to scientific measurement and analysis\"],[4743,\"blue\",\"F4743 : numerical data, particularly relating to prime factors or mathemati\"],[4748,\"blue\",\"F4748 : instances of structured data or document organization\"],[4784,\"blue\",\"F4784 : elements of scientific or technical descriptions related to the ass\"],[4822,\"blue\",\"F4822 :  numerical data and related statistical values\"],[4835,\"blue\",\"F4835 : elements related to childhood and play experiences\"],[5440,\"blue\",\"F5440 : special formatting or structural elements within the text\"],[5614,\"blue\",\"F5614 : specific geometric shapes and their properties in mathematical cont\"],[5811,\"blue\",\"F5811 :  sequences of numerical data and references to tables or figures\"],[6131,\"blue\",\"F6131 :  numerical values and their relationships to age and time\"],[6300,\"blue\",\"F6300 : information related to LGBTQ+ families and their unique needs in he\"],[6567,\"blue\",\"F6567 :  sequences or combinations of numbers and code structure\"],[6631,\"blue\",\"F6631 : the beginning of a text or important markers in a document\"],[6779,\"blue\",\"F6779 : greetings and conversational prompts\"],[6793,\"blue\",\"F6793 : elements that resemble structured data or identifiers, likely in a \"],[6809,\"blue\",\"F6809 : numerical references, particularly related to legal sections and pr\"],[6954,\"blue\",\"F6954 : commands and calls to action, especially those invoking collective \"],[7180,\"blue\",\"F7180 : references to various forms of art and cultural commentary\"],[7610,\"blue\",\"F7610 : references to processes and evaluations in scientific or legal cont\"],[7708,\"blue\",\"F7708 :  mathematical operations and expressions in various forms\"],[7717,\"blue\",\"F7717 : expressions of gratitude and friendly communication\"],[7763,\"blue\",\"F7763 : references to recommendations and personal opinions\"],[7881,\"blue\",\"F7881 : references to iron and related biochemical processes\"],[8004,\"blue\",\"F8004 : references to time and location in a narrative context\"],[8019,\"blue\",\"F8019 : words with a double letter 'o'\"],[8366,\"blue\",\"F8366 : verbs and their related forms, often related to medical or technica\"],[8750,\"blue\",\"F8750 :  themes related to social awareness and community issues\"],[9044,\"blue\",\"F9044 :  numerical values and potential errors in numerical data contexts\"],[9146,\"blue\",\"F9146 : specific card attributes and actions in a gaming context\"],[9366,\"blue\",\"F9366 : the name \\\"Tan\\\" in various contexts\"],[9421,\"blue\",\"F9421 :  expressions and terms related to mathematical calculations and fun\"],[9844,\"blue\",\"F9844 : positive sentiment in customer feedback about service and products\"],[10047,\"blue\",\"F10047 : mathematical questions and evaluations related to numerical expres\"],[10230,\"blue\",\"F10230 : numerical values and quantities in the text\"],[10306,\"blue\",\"F10306 : references to the \\\"Six Million Dollar Man\\\" television series and i\"],[10452,\"blue\",\"F10452 :  numeric sequences and patterns\"],[10584,\"blue\",\"F10584 : proper nouns.\"],[10615,\"blue\",\"F10615 : terms related to ranking and classifications\"],[10738,\"blue\",\"F10738 : phrases or expressions related to numbers and mathematical represe\"],[10784,\"blue\",\"F10784 :  numerical data and mathematical expressions\"],[10802,\"blue\",\"F10802 : dialogue and quotes within the text\"],[10829,\"blue\",\"F10829 :  numerical information or sequences related to lists or instructio\"],[10841,\"blue\",\"F10841 : references to people and relationships in a narrative context\"],[11003,\"blue\",\"F11003 :  words indicating causation or reasoning\"],[11099,\"blue\",\"F11099 : questions and interactions related to discussions or dialogues\"],[11171,\"blue\",\"F11171 : references to titles or distinctions within a lineage or notable f\"],[11174,\"blue\",\"F11174 :  numeric identifiers or values in a structured format\"],[11674,\"blue\",\"F11674 :  scientific terms related to ocean organisms and their biological \"],[11726,\"blue\",\"F11726 : terms related to health, medicine, and the mention of specific con\"],[11976,\"blue\",\"F11976 : statements or questions regarding truth and beliefs, often associa\"],[11993,\"blue\",\"F11993 :  expressions of frustration or disappointment\"],[12255,\"blue\",\"F12255 :  filler words and phrases in speech\"],[12329,\"blue\",\"F12329 :  statements about violation of rules or regulations\"],[12406,\"blue\",\"F12406 :  references to \\\"corner\\\" and \\\"exam\\\" in various contexts\"],[12457,\"blue\",\"F12457 : sequences of numbers and codes related to programming or data proc\"],[12621,\"blue\",\"F12621 : numerical information, particularly related to contact details or \"],[12853,\"blue\",\"F12853 : specific identifiers, metrics, or references related to dimensiona\"],[13112,\"blue\",\"F13112 : specific numerical values and quantities in the text\"],[13129,\"blue\",\"F13129 : patterns related to data structure definitions and operations in p\"],[13487,\"blue\",\"F13487 : patterns of numerical or mathematical data\"],[13541,\"blue\",\"F13541 : answers and explanations to logical or mathematical questions\"],[13571,\"blue\",\"F13571 : sections or elements related to statistical notation and algebra\"],[13860,\"blue\",\"F13860 : statements related to election integrity and voter registration\"],[14017,\"blue\",\"F14017 : conjunctions and relationships between elements, particularly in l\"],[14030,\"blue\",\"F14030 : references to unisex bathrooms and related signage\"],[14352,\"blue\",\"F14352 : terms associated with academic contributions and achievements in m\"],[15078,\"blue\",\"F15078 : terms related to specific chemical compounds or drugs\"],[15126,\"blue\",\"F15126 : discussions about limitations and inadequacies in processes or con\"],[15404,\"blue\",\"F15404 : references to online shopping and purchasing of products, particul\"],[15469,\"blue\",\"F15469 : mathematical expressions and symbols, indicating calculations or o\"],[15587,\"blue\",\"F15587 : mathematical calculations and expressions\"],[15704,\"blue\",\"F15704 : words related to academic and scientific terminology\"],[15782,\"blue\",\"F15782 :  mathematical expressions and technical specifications\"],[16087,\"blue\",\"F16087 : patterns related to hierarchical data structures, such as lists an\"],[16150,\"blue\",\"F16150 : details about physical movements or actions related to exercises a\"],[16271,\"blue\",\"F16271 :  mathematical expressions or symbols\"]],\"hovertemplate\":\"feature=%{customdata[2]}\\u003cextra\\u003e\\u003c\\u002fextra\\u003e\",\"legendgroup\":\"blue\",\"marker\":{\"color\":\"blue\",\"symbol\":\"circle\",\"size\":8},\"mode\":\"markers\",\"name\":\"Numbers Only\",\"orientation\":\"v\",\"showlegend\":true,\"x\":[12.040855407714844,10.751877784729004,10.886392593383789,10.733039855957031,6.273375511169434,12.613991737365723,12.081147193908691,6.632606029510498,10.882486343383789,6.512433052062988,7.1784844398498535,11.840361595153809,6.084440231323242,6.6216864585876465,6.210871696472168,6.822292804718018,6.950189590454102,6.009340286254883,8.28240966796875,11.517069816589355,9.673347473144531,10.789582252502441,6.462959289550781,6.517820835113525,10.778841018676758,6.403890609741211,11.893529891967773,10.889723777770996,10.611590385437012,6.392210960388184,9.739222526550293,10.962331771850586,6.818029880523682,11.447256088256836,12.784899711608887,10.729020118713379,6.856257438659668,12.788891792297363,12.3978853225708,12.03101921081543,6.041103363037109,12.717567443847656,12.387662887573242,6.458459377288818,9.517558097839355,7.4699554443359375,12.508720397949219,11.265192031860352,7.028093338012695,10.50396728515625,7.16542911529541,10.793363571166992,11.855473518371582,11.028446197509766,8.172913551330566,6.7058234214782715,6.095055103302002,12.365419387817383,9.804971694946289,6.975064754486084,11.49775505065918,12.673717498779297,6.098058223724365,12.090142250061035,11.778139114379883,12.513765335083008,11.928173065185547,12.553505897521973,7.011099338531494,6.348708629608154,12.700039863586426,12.151981353759766,11.423433303833008,12.132401466369629,6.7793378829956055,6.3636555671691895,6.697131156921387,10.559372901916504,11.775432586669922,10.517889976501465,6.681023120880127,12.578338623046875,10.387258529663086,11.917085647583008,7.398160934448242,11.678220748901367,10.782231330871582,6.882567405700684,11.855487823486328,11.404809951782227,7.353285312652588,6.964730739593506,7.399354457855225,9.855631828308105,10.250041961669922,12.171134948730469,6.0005950927734375],\"xaxis\":\"x\",\"y\":[2.7000174522399902,1.5297296047210693,3.700840473175049,3.7871334552764893,3.5324697494506836,2.50372314453125,2.0598018169403076,4.0912861824035645,3.407925844192505,4.650975704193115,1.9878695011138916,2.476168155670166,2.2214834690093994,1.5141708850860596,4.911212921142578,4.887800693511963,1.6942346096038818,4.4523701667785645,2.4063124656677246,2.49578595161438,3.1227684020996094,1.665895700454712,1.4382466077804565,4.310614109039307,1.219955325126648,5.08167839050293,2.9397990703582764,2.5929296016693115,3.72361421585083,5.074446678161621,3.534456729888916,3.3324689865112305,4.599586009979248,2.2216436862945557,2.439281940460205,2.4358205795288086,2.4596545696258545,2.4936957359313965,2.7152419090270996,1.7525485754013062,4.463034629821777,2.6102302074432373,2.739978551864624,1.0784858465194702,3.0915138721466064,1.5242252349853516,1.996497392654419,1.9764251708984375,1.3302149772644043,3.6870341300964355,1.9729644060134888,3.738431692123413,1.8917096853256226,3.5099477767944336,2.3619027137756348,1.3352477550506592,4.129184722900391,2.78806209564209,3.4740660190582275,1.5035864114761353,1.2405712604522705,2.5775818824768066,1.2253466844558716,2.613401174545288,2.352689504623413,2.194225311279297,1.4541888236999512,1.2684663534164429,1.927868366241455,2.304037570953369,2.3313615322113037,2.782290458679199,2.912771463394165,2.125800848007202,1.8536556959152222,5.109704971313477,2.085695743560791,2.0836901664733887,2.8440334796905518,2.7041218280792236,4.055519104003906,2.131793975830078,1.9591679573059082,2.6157028675079346,4.4783549308776855,2.3486685752868652,3.774526357650757,1.2573518753051758,2.266822576522827,1.5841094255447388,4.986656665802002,5.244843482971191,1.97607421875,3.3597214221954346,2.798027515411377,3.077246904373169,4.268228530883789],\"yaxis\":\"y\",\"type\":\"scatter\"}],                        {\"template\":{\"data\":{\"histogram2dcontour\":[{\"type\":\"histogram2dcontour\",\"colorbar\":{\"outlinewidth\":0,\"ticks\":\"\"},\"colorscale\":[[0.0,\"#0d0887\"],[0.1111111111111111,\"#46039f\"],[0.2222222222222222,\"#7201a8\"],[0.3333333333333333,\"#9c179e\"],[0.4444444444444444,\"#bd3786\"],[0.5555555555555556,\"#d8576b\"],[0.6666666666666666,\"#ed7953\"],[0.7777777777777778,\"#fb9f3a\"],[0.8888888888888888,\"#fdca26\"],[1.0,\"#f0f921\"]]}],\"choropleth\":[{\"type\":\"choropleth\",\"colorbar\":{\"outlinewidth\":0,\"ticks\":\"\"}}],\"histogram2d\":[{\"type\":\"histogram2d\",\"colorbar\":{\"outlinewidth\":0,\"ticks\":\"\"},\"colorscale\":[[0.0,\"#0d0887\"],[0.1111111111111111,\"#46039f\"],[0.2222222222222222,\"#7201a8\"],[0.3333333333333333,\"#9c179e\"],[0.4444444444444444,\"#bd3786\"],[0.5555555555555556,\"#d8576b\"],[0.6666666666666666,\"#ed7953\"],[0.7777777777777778,\"#fb9f3a\"],[0.8888888888888888,\"#fdca26\"],[1.0,\"#f0f921\"]]}],\"heatmap\":[{\"type\":\"heatmap\",\"colorbar\":{\"outlinewidth\":0,\"ticks\":\"\"},\"colorscale\":[[0.0,\"#0d0887\"],[0.1111111111111111,\"#46039f\"],[0.2222222222222222,\"#7201a8\"],[0.3333333333333333,\"#9c179e\"],[0.4444444444444444,\"#bd3786\"],[0.5555555555555556,\"#d8576b\"],[0.6666666666666666,\"#ed7953\"],[0.7777777777777778,\"#fb9f3a\"],[0.8888888888888888,\"#fdca26\"],[1.0,\"#f0f921\"]]}],\"heatmapgl\":[{\"type\":\"heatmapgl\",\"colorbar\":{\"outlinewidth\":0,\"ticks\":\"\"},\"colorscale\":[[0.0,\"#0d0887\"],[0.1111111111111111,\"#46039f\"],[0.2222222222222222,\"#7201a8\"],[0.3333333333333333,\"#9c179e\"],[0.4444444444444444,\"#bd3786\"],[0.5555555555555556,\"#d8576b\"],[0.6666666666666666,\"#ed7953\"],[0.7777777777777778,\"#fb9f3a\"],[0.8888888888888888,\"#fdca26\"],[1.0,\"#f0f921\"]]}],\"contourcarpet\":[{\"type\":\"contourcarpet\",\"colorbar\":{\"outlinewidth\":0,\"ticks\":\"\"}}],\"contour\":[{\"type\":\"contour\",\"colorbar\":{\"outlinewidth\":0,\"ticks\":\"\"},\"colorscale\":[[0.0,\"#0d0887\"],[0.1111111111111111,\"#46039f\"],[0.2222222222222222,\"#7201a8\"],[0.3333333333333333,\"#9c179e\"],[0.4444444444444444,\"#bd3786\"],[0.5555555555555556,\"#d8576b\"],[0.6666666666666666,\"#ed7953\"],[0.7777777777777778,\"#fb9f3a\"],[0.8888888888888888,\"#fdca26\"],[1.0,\"#f0f921\"]]}],\"surface\":[{\"type\":\"surface\",\"colorbar\":{\"outlinewidth\":0,\"ticks\":\"\"},\"colorscale\":[[0.0,\"#0d0887\"],[0.1111111111111111,\"#46039f\"],[0.2222222222222222,\"#7201a8\"],[0.3333333333333333,\"#9c179e\"],[0.4444444444444444,\"#bd3786\"],[0.5555555555555556,\"#d8576b\"],[0.6666666666666666,\"#ed7953\"],[0.7777777777777778,\"#fb9f3a\"],[0.8888888888888888,\"#fdca26\"],[1.0,\"#f0f921\"]]}],\"mesh3d\":[{\"type\":\"mesh3d\",\"colorbar\":{\"outlinewidth\":0,\"ticks\":\"\"}}],\"scatter\":[{\"fillpattern\":{\"fillmode\":\"overlay\",\"size\":10,\"solidity\":0.2},\"type\":\"scatter\"}],\"parcoords\":[{\"type\":\"parcoords\",\"line\":{\"colorbar\":{\"outlinewidth\":0,\"ticks\":\"\"}}}],\"scatterpolargl\":[{\"type\":\"scatterpolargl\",\"marker\":{\"colorbar\":{\"outlinewidth\":0,\"ticks\":\"\"}}}],\"bar\":[{\"error_x\":{\"color\":\"#2a3f5f\"},\"error_y\":{\"color\":\"#2a3f5f\"},\"marker\":{\"line\":{\"color\":\"#E5ECF6\",\"width\":0.5},\"pattern\":{\"fillmode\":\"overlay\",\"size\":10,\"solidity\":0.2}},\"type\":\"bar\"}],\"scattergeo\":[{\"type\":\"scattergeo\",\"marker\":{\"colorbar\":{\"outlinewidth\":0,\"ticks\":\"\"}}}],\"scatterpolar\":[{\"type\":\"scatterpolar\",\"marker\":{\"colorbar\":{\"outlinewidth\":0,\"ticks\":\"\"}}}],\"histogram\":[{\"marker\":{\"pattern\":{\"fillmode\":\"overlay\",\"size\":10,\"solidity\":0.2}},\"type\":\"histogram\"}],\"scattergl\":[{\"type\":\"scattergl\",\"marker\":{\"colorbar\":{\"outlinewidth\":0,\"ticks\":\"\"}}}],\"scatter3d\":[{\"type\":\"scatter3d\",\"line\":{\"colorbar\":{\"outlinewidth\":0,\"ticks\":\"\"}},\"marker\":{\"colorbar\":{\"outlinewidth\":0,\"ticks\":\"\"}}}],\"scattermapbox\":[{\"type\":\"scattermapbox\",\"marker\":{\"colorbar\":{\"outlinewidth\":0,\"ticks\":\"\"}}}],\"scatterternary\":[{\"type\":\"scatterternary\",\"marker\":{\"colorbar\":{\"outlinewidth\":0,\"ticks\":\"\"}}}],\"scattercarpet\":[{\"type\":\"scattercarpet\",\"marker\":{\"colorbar\":{\"outlinewidth\":0,\"ticks\":\"\"}}}],\"carpet\":[{\"aaxis\":{\"endlinecolor\":\"#2a3f5f\",\"gridcolor\":\"white\",\"linecolor\":\"white\",\"minorgridcolor\":\"white\",\"startlinecolor\":\"#2a3f5f\"},\"baxis\":{\"endlinecolor\":\"#2a3f5f\",\"gridcolor\":\"white\",\"linecolor\":\"white\",\"minorgridcolor\":\"white\",\"startlinecolor\":\"#2a3f5f\"},\"type\":\"carpet\"}],\"table\":[{\"cells\":{\"fill\":{\"color\":\"#EBF0F8\"},\"line\":{\"color\":\"white\"}},\"header\":{\"fill\":{\"color\":\"#C8D4E3\"},\"line\":{\"color\":\"white\"}},\"type\":\"table\"}],\"barpolar\":[{\"marker\":{\"line\":{\"color\":\"#E5ECF6\",\"width\":0.5},\"pattern\":{\"fillmode\":\"overlay\",\"size\":10,\"solidity\":0.2}},\"type\":\"barpolar\"}],\"pie\":[{\"automargin\":true,\"type\":\"pie\"}]},\"layout\":{\"autotypenumbers\":\"strict\",\"colorway\":[\"#636efa\",\"#EF553B\",\"#00cc96\",\"#ab63fa\",\"#FFA15A\",\"#19d3f3\",\"#FF6692\",\"#B6E880\",\"#FF97FF\",\"#FECB52\"],\"font\":{\"color\":\"#2a3f5f\"},\"hovermode\":\"closest\",\"hoverlabel\":{\"align\":\"left\"},\"paper_bgcolor\":\"white\",\"plot_bgcolor\":\"#E5ECF6\",\"polar\":{\"bgcolor\":\"#E5ECF6\",\"angularaxis\":{\"gridcolor\":\"white\",\"linecolor\":\"white\",\"ticks\":\"\"},\"radialaxis\":{\"gridcolor\":\"white\",\"linecolor\":\"white\",\"ticks\":\"\"}},\"ternary\":{\"bgcolor\":\"#E5ECF6\",\"aaxis\":{\"gridcolor\":\"white\",\"linecolor\":\"white\",\"ticks\":\"\"},\"baxis\":{\"gridcolor\":\"white\",\"linecolor\":\"white\",\"ticks\":\"\"},\"caxis\":{\"gridcolor\":\"white\",\"linecolor\":\"white\",\"ticks\":\"\"}},\"coloraxis\":{\"colorbar\":{\"outlinewidth\":0,\"ticks\":\"\"}},\"colorscale\":{\"sequential\":[[0.0,\"#0d0887\"],[0.1111111111111111,\"#46039f\"],[0.2222222222222222,\"#7201a8\"],[0.3333333333333333,\"#9c179e\"],[0.4444444444444444,\"#bd3786\"],[0.5555555555555556,\"#d8576b\"],[0.6666666666666666,\"#ed7953\"],[0.7777777777777778,\"#fb9f3a\"],[0.8888888888888888,\"#fdca26\"],[1.0,\"#f0f921\"]],\"sequentialminus\":[[0.0,\"#0d0887\"],[0.1111111111111111,\"#46039f\"],[0.2222222222222222,\"#7201a8\"],[0.3333333333333333,\"#9c179e\"],[0.4444444444444444,\"#bd3786\"],[0.5555555555555556,\"#d8576b\"],[0.6666666666666666,\"#ed7953\"],[0.7777777777777778,\"#fb9f3a\"],[0.8888888888888888,\"#fdca26\"],[1.0,\"#f0f921\"]],\"diverging\":[[0,\"#8e0152\"],[0.1,\"#c51b7d\"],[0.2,\"#de77ae\"],[0.3,\"#f1b6da\"],[0.4,\"#fde0ef\"],[0.5,\"#f7f7f7\"],[0.6,\"#e6f5d0\"],[0.7,\"#b8e186\"],[0.8,\"#7fbc41\"],[0.9,\"#4d9221\"],[1,\"#276419\"]]},\"xaxis\":{\"gridcolor\":\"white\",\"linecolor\":\"white\",\"ticks\":\"\",\"title\":{\"standoff\":15},\"zerolinecolor\":\"white\",\"automargin\":true,\"zerolinewidth\":2},\"yaxis\":{\"gridcolor\":\"white\",\"linecolor\":\"white\",\"ticks\":\"\",\"title\":{\"standoff\":15},\"zerolinecolor\":\"white\",\"automargin\":true,\"zerolinewidth\":2},\"scene\":{\"xaxis\":{\"backgroundcolor\":\"#E5ECF6\",\"gridcolor\":\"white\",\"linecolor\":\"white\",\"showbackground\":true,\"ticks\":\"\",\"zerolinecolor\":\"white\",\"gridwidth\":2},\"yaxis\":{\"backgroundcolor\":\"#E5ECF6\",\"gridcolor\":\"white\",\"linecolor\":\"white\",\"showbackground\":true,\"ticks\":\"\",\"zerolinecolor\":\"white\",\"gridwidth\":2},\"zaxis\":{\"backgroundcolor\":\"#E5ECF6\",\"gridcolor\":\"white\",\"linecolor\":\"white\",\"showbackground\":true,\"ticks\":\"\",\"zerolinecolor\":\"white\",\"gridwidth\":2}},\"shapedefaults\":{\"line\":{\"color\":\"#2a3f5f\"}},\"annotationdefaults\":{\"arrowcolor\":\"#2a3f5f\",\"arrowhead\":0,\"arrowwidth\":1},\"geo\":{\"bgcolor\":\"white\",\"landcolor\":\"#E5ECF6\",\"subunitcolor\":\"white\",\"showland\":true,\"showlakes\":true,\"lakecolor\":\"white\"},\"title\":{\"x\":0.05},\"mapbox\":{\"style\":\"light\"}}},\"xaxis\":{\"anchor\":\"y\",\"domain\":[0.0,1.0],\"title\":{\"text\":\"UMAP Component 1\"}},\"yaxis\":{\"anchor\":\"x\",\"domain\":[0.0,1.0],\"title\":{\"text\":\"UMAP Component 2\"}},\"legend\":{\"title\":{\"text\":\"Color\"},\"tracegroupgap\":0},\"margin\":{\"t\":60},\"title\":{\"text\":\"UMAP of Decoder Weights\"}},                        {\"responsive\": true}                    ).then(function(){\n",
              "                            \n",
              "var gd = document.getElementById('1728eb6c-63d0-42d8-82ba-a6244dfc97b5');\n",
              "var x = new MutationObserver(function (mutations, observer) {{\n",
              "        var display = window.getComputedStyle(gd).display;\n",
              "        if (!display || display === 'none') {{\n",
              "            console.log([gd, 'removed!']);\n",
              "            Plotly.purge(gd);\n",
              "            observer.disconnect();\n",
              "        }}\n",
              "}});\n",
              "\n",
              "// Listen for the removal of the full notebook cells\n",
              "var notebookContainer = gd.closest('#notebook-container');\n",
              "if (notebookContainer) {{\n",
              "    x.observe(notebookContainer, {childList: true});\n",
              "}}\n",
              "\n",
              "// Listen for the clearing of the current output cell\n",
              "var outputEl = gd.closest('.output');\n",
              "if (outputEl) {{\n",
              "    x.observe(outputEl, {childList: true});\n",
              "}}\n",
              "\n",
              "                        })                };                            </script>        </div>\n",
              "</body>\n",
              "</html>"
            ]
          },
          "metadata": {},
          "output_type": "display_data"
        }
      ],
      "source": [
        "import plotly.express as px\n",
        "import numpy as np\n",
        "import pandas as pd\n",
        "\n",
        "df = pd.DataFrame(embedding1, columns=['UMAP Component 1', 'UMAP Component 2'])\n",
        "df['Feature ID'] = feature_subset\n",
        "# df['Feature Description']\n",
        "df['feature'] = [i[:75] for i in f_labels] # [str(i) for i in feature_subset] # feature_subset\n",
        "df['Color'] = df['Feature ID'].apply(lambda x: 'green' if x in common_feats else ('red' if x in months_only else 'blue'))\n",
        "\n",
        "fig = px.scatter(df, x='UMAP Component 1', y='UMAP Component 2', # text='Feature ID',\n",
        "                 color='Color',  # Use the Color column for coloring points\n",
        "                 color_discrete_map={'red': 'red', 'green': 'green', 'blue': 'blue'},\n",
        "                #  hover_data='Feature Description')\n",
        "                hover_data={\n",
        "                     'UMAP Component 1': False,\n",
        "                     'UMAP Component 2': False,\n",
        "                     'Feature ID': False,\n",
        "                     'Color': False,\n",
        "                     'feature': True  # Only display the feature description\n",
        "                 } ) #,\n",
        "                #  size=[0.1] * len(df))\n",
        "\n",
        "fig.update_layout(\n",
        "    title='UMAP of Decoder Weights',\n",
        "    xaxis_title='UMAP Component 1',\n",
        "    yaxis_title='UMAP Component 2'\n",
        ")\n",
        "\n",
        "# Customize legend labels\n",
        "fig.for_each_trace(lambda t: t.update(name = {\n",
        "    'red': 'Months Only',\n",
        "    'green': 'Both',\n",
        "    'blue': 'Numbers Only'\n",
        "}[t.name]))\n",
        "\n",
        "fig.update_traces(marker=dict(size= 8))\n",
        "\n",
        "fig.show()"
      ]
    },
    {
      "cell_type": "code",
      "execution_count": null,
      "metadata": {
        "colab": {
          "base_uri": "https://localhost:8080/",
          "height": 17
        },
        "id": "OFI3yP_t_EsK",
        "outputId": "5af54462-9565-43a9-d6cd-bf9c9efe2323"
      },
      "outputs": [
        {
          "data": {
            "application/javascript": [
              "\n",
              "    async function download(id, filename, size) {\n",
              "      if (!google.colab.kernel.accessAllowed) {\n",
              "        return;\n",
              "      }\n",
              "      const div = document.createElement('div');\n",
              "      const label = document.createElement('label');\n",
              "      label.textContent = `Downloading \"${filename}\": `;\n",
              "      div.appendChild(label);\n",
              "      const progress = document.createElement('progress');\n",
              "      progress.max = size;\n",
              "      div.appendChild(progress);\n",
              "      document.body.appendChild(div);\n",
              "\n",
              "      const buffers = [];\n",
              "      let downloaded = 0;\n",
              "\n",
              "      const channel = await google.colab.kernel.comms.open(id);\n",
              "      // Send a message to notify the kernel that we're ready.\n",
              "      channel.send({})\n",
              "\n",
              "      for await (const message of channel.messages) {\n",
              "        // Send a message to notify the kernel that we're ready.\n",
              "        channel.send({})\n",
              "        if (message.buffers) {\n",
              "          for (const buffer of message.buffers) {\n",
              "            buffers.push(buffer);\n",
              "            downloaded += buffer.byteLength;\n",
              "            progress.value = downloaded;\n",
              "          }\n",
              "        }\n",
              "      }\n",
              "      const blob = new Blob(buffers, {type: 'application/binary'});\n",
              "      const a = document.createElement('a');\n",
              "      a.href = window.URL.createObjectURL(blob);\n",
              "      a.download = filename;\n",
              "      div.appendChild(a);\n",
              "      a.click();\n",
              "      div.remove();\n",
              "    }\n",
              "  "
            ],
            "text/plain": [
              "<IPython.core.display.Javascript object>"
            ]
          },
          "metadata": {},
          "output_type": "display_data"
        },
        {
          "data": {
            "application/javascript": [
              "download(\"download_dd646692-9945-49e3-be1d-6dc0c2004b16\", \"umap.html\", 3661855)"
            ],
            "text/plain": [
              "<IPython.core.display.Javascript object>"
            ]
          },
          "metadata": {},
          "output_type": "display_data"
        }
      ],
      "source": [
        "from google.colab import files\n",
        "output_filename = 'umap.html'\n",
        "fig.write_html(output_filename)\n",
        "files.download(output_filename)"
      ]
    },
    {
      "cell_type": "markdown",
      "metadata": {
        "id": "c9h9ly431-5Q"
      },
      "source": [
        "# I love v I hate umap on feature subset"
      ]
    },
    {
      "cell_type": "markdown",
      "metadata": {
        "id": "VXXfwtK_2rwM"
      },
      "source": [
        "top 50"
      ]
    },
    {
      "cell_type": "code",
      "execution_count": null,
      "metadata": {
        "colab": {
          "base_uri": "https://localhost:8080/"
        },
        "id": "KMIdXMym2Q4c",
        "outputId": "28718f6c-8347-470e-b193-a7beed3ce666"
      },
      "outputs": [
        {
          "data": {
            "text/plain": [
              "74"
            ]
          },
          "execution_count": 154,
          "metadata": {},
          "output_type": "execute_result"
        }
      ],
      "source": [
        "feature_subset = two_top_acts_indices.tolist() + one_top_acts_indices.tolist()\n",
        "feature_subset = list(set(feature_subset))\n",
        "feature_subset.sort()\n",
        "len(feature_subset)"
      ]
    },
    {
      "cell_type": "code",
      "execution_count": null,
      "metadata": {
        "id": "DJ9ssMK82Q4c"
      },
      "outputs": [],
      "source": [
        "f_labels = [ \"F\" + str(f_ind) + \" : \" + feat_labels_lst[f_ind] for f_ind in feature_subset]"
      ]
    },
    {
      "cell_type": "markdown",
      "metadata": {
        "id": "1BSurNzh2Q4d"
      },
      "source": [
        "Now labels and weight matrix may share the same new indices (rather than feature numbers of orig matrix) due to slicing them in same way"
      ]
    },
    {
      "cell_type": "code",
      "execution_count": null,
      "metadata": {
        "colab": {
          "base_uri": "https://localhost:8080/"
        },
        "id": "3Au-KHIg2Q4d",
        "outputId": "392285b3-9248-46f8-a362-5f184c56bd2d"
      },
      "outputs": [
        {
          "data": {
            "text/plain": [
              "(74, 2304)"
            ]
          },
          "execution_count": 156,
          "metadata": {},
          "output_type": "execute_result"
        }
      ],
      "source": [
        "weights_feature_subset = weight_matrix[feature_subset]\n",
        "weights_feature_subset.shape"
      ]
    },
    {
      "cell_type": "code",
      "execution_count": null,
      "metadata": {
        "id": "We8v2zX82Q4d"
      },
      "outputs": [],
      "source": [
        "reducer = umap.UMAP(n_neighbors=15, min_dist=0.01, metric='euclidean')\n",
        "embedding1 = reducer.fit_transform(weights_feature_subset)"
      ]
    },
    {
      "cell_type": "code",
      "execution_count": null,
      "metadata": {
        "id": "kIxQJkLQy-9o"
      },
      "outputs": [],
      "source": [
        "common_feats = set((one_top_acts_indices).tolist()).intersection(set((two_top_acts_indices).tolist()))\n",
        "months_only = set((two_top_acts_indices).tolist()) - set((one_top_acts_indices).tolist())"
      ]
    },
    {
      "cell_type": "code",
      "execution_count": null,
      "metadata": {
        "id": "NEOX3HfI0rWH"
      },
      "outputs": [],
      "source": [
        "common_feats = list(common_feats)\n",
        "months_only = list(months_only )"
      ]
    },
    {
      "cell_type": "code",
      "execution_count": null,
      "metadata": {
        "colab": {
          "base_uri": "https://localhost:8080/",
          "height": 542
        },
        "id": "jfAgwWt92Q4d",
        "outputId": "10948145-7f2e-42bc-efd6-b83bdd267fa7"
      },
      "outputs": [
        {
          "data": {
            "text/html": [
              "<html>\n",
              "<head><meta charset=\"utf-8\" /></head>\n",
              "<body>\n",
              "    <div>            <script src=\"https://cdnjs.cloudflare.com/ajax/libs/mathjax/2.7.5/MathJax.js?config=TeX-AMS-MML_SVG\"></script><script type=\"text/javascript\">if (window.MathJax && window.MathJax.Hub && window.MathJax.Hub.Config) {window.MathJax.Hub.Config({SVG: {font: \"STIX-Web\"}});}</script>                <script type=\"text/javascript\">window.PlotlyConfig = {MathJaxConfig: 'local'};</script>\n",
              "        <script charset=\"utf-8\" src=\"https://cdn.plot.ly/plotly-2.24.1.min.js\"></script>                <div id=\"6380e662-d2a5-4cfa-a3a7-c13ea00e41b6\" class=\"plotly-graph-div\" style=\"height:525px; width:100%;\"></div>            <script type=\"text/javascript\">                                    window.PLOTLYENV=window.PLOTLYENV || {};                                    if (document.getElementById(\"6380e662-d2a5-4cfa-a3a7-c13ea00e41b6\")) {                    Plotly.newPlot(                        \"6380e662-d2a5-4cfa-a3a7-c13ea00e41b6\",                        [{\"customdata\":[[139,\"green\",\"F139 : references to actions and their consequences, emphasizing occurrence\"],[865,\"green\",\"F865 : conversations about understanding and personal growth, particularly \"],[1373,\"green\",\"F1373 : terms and phrases related to changes, developments, and implementat\"],[1692,\"green\",\"F1692 : legal and technical terminology related to statutes and inventions\"],[1869,\"green\",\"F1869 : statements related to evidence and conclusions in analytical texts\"],[2230,\"green\",\"F2230 :  references to causality and violation of rules or expectations\"],[3019,\"green\",\"F3019 :  elements related to operational or procedural contexts in a struct\"],[3840,\"green\",\"F3840 : phrases related to opportunities and suggestions for improvement\"],[3997,\"green\",\"F3997 : personal reflections on life experiences and relationships\"],[5426,\"green\",\"F5426 :  references to collaboration and collective effort in various conte\"],[5525,\"green\",\"F5525 : terms related to assessment and improvement in various contexts\"],[6143,\"green\",\"F6143 : phrases related to medical conditions and treatments\"],[6631,\"green\",\"F6631 : the beginning of a text or important markers in a document\"],[6869,\"green\",\"F6869 : specific programming constructs or patterns\"],[6983,\"green\",\"F6983 : historical dates and time references\"],[7541,\"green\",\"F7541 : emotional expressions and the perception of feelings\"],[8713,\"green\",\"F8713 : phrases that indicate addressing or overcoming challenges\"],[9362,\"green\",\"F9362 :  expressions of affection or appreciation\"],[9602,\"green\",\"F9602 : words and themes related to love and affection\"],[9768,\"green\",\"F9768 : terms related to control and authority, particularly in political o\"],[12763,\"green\",\"F12763 : terms related to privilege and social identity\"],[12967,\"green\",\"F12967 : references to personal interests and passions\"],[13107,\"green\",\"F13107 : expressions of strong negative sentiments or opinions\"],[14113,\"green\",\"F14113 : references to historical events and related criticisms of power st\"],[15605,\"green\",\"F15605 : references to holidays and festive occasions\"],[16099,\"green\",\"F16099 : quantitative descriptors indicating abundance or quantity\"]],\"hovertemplate\":\"feature=%{customdata[2]}\\u003cextra\\u003e\\u003c\\u002fextra\\u003e\",\"legendgroup\":\"green\",\"marker\":{\"color\":\"green\",\"symbol\":\"circle\",\"size\":8},\"mode\":\"markers\",\"name\":\"Both\",\"orientation\":\"v\",\"showlegend\":true,\"x\":[4.998298645019531,5.764979362487793,8.407330513000488,7.473867416381836,5.280694484710693,8.141626358032227,8.207785606384277,4.814488887786865,7.033593654632568,8.511435508728027,6.117915153503418,8.508222579956055,6.793100833892822,7.896861553192139,5.509948253631592,5.282566070556641,6.5884928703308105,5.2491230964660645,4.649067401885986,7.654255390167236,6.985471248626709,5.882202625274658,6.269562244415283,7.792292594909668,8.008126258850098,5.010717868804932],\"xaxis\":\"x\",\"y\":[6.440193176269531,6.964588642120361,7.191201210021973,8.604623794555664,6.605502128601074,7.752063751220703,8.146615982055664,6.116387367248535,6.669886589050293,7.021576404571533,6.9591803550720215,7.8834614753723145,7.71636438369751,8.20984172821045,6.453423023223877,6.249673366546631,6.802587032318115,6.83136510848999,7.879700183868408,8.6323823928833,7.073923587799072,6.270169258117676,6.4031500816345215,7.735918045043945,6.233946800231934,6.941473484039307],\"yaxis\":\"y\",\"type\":\"scatter\"},{\"customdata\":[[259,\"red\",\"F259 : mathematical comparisons and relationships, especially involving val\"],[879,\"red\",\"F879 : key concepts related to physical exercise and fitness\"],[892,\"red\",\"F892 : explicit references to food\"],[1747,\"red\",\"F1747 : first-person expressions of personal experience or opinion\"],[2604,\"red\",\"F2604 : phrases expressing dislike or hatred towards people or situations.\"],[2841,\"red\",\"F2841 :  expressions of disbelief or surprise\"],[3538,\"red\",\"F3538 : expressions of admission, confession, or acknowledgment of wrongdoi\"],[3645,\"red\",\"F3645 : phrases related to measurements or characteristics of products and \"],[5517,\"red\",\"F5517 : references to support, community engagement, and social interaction\"],[6336,\"red\",\"F6336 : terms related to legal and criminal proceedings\"],[6554,\"red\",\"F6554 : negations and phrases indicating absence or exceptions\"],[6915,\"red\",\"F6915 : technical terms related to gauge theory and its application in phys\"],[7971,\"red\",\"F7971 :  references to specific scientific articles and researchers\"],[8203,\"red\",\"F8203 :  language related to accountability and responsibility\"],[10156,\"red\",\"F10156 : expressions of refusal or denial\"],[10379,\"red\",\"F10379 : expressions of personal reflection and existential questioning\"],[11340,\"red\",\"F11340 :  mentions of rates and their associated values or trends in variou\"],[12090,\"red\",\"F12090 : phrases and terms that indicate reduction or simplification of pro\"],[12329,\"red\",\"F12329 :  statements about violation of rules or regulations\"],[12871,\"red\",\"F12871 : statistics related to gender roles and perceptions\"],[13122,\"red\",\"F13122 : sentences that express obligations or requirements\"],[13135,\"red\",\"F13135 : expressions of negativity or unfavorable situations\"],[13566,\"red\",\"F13566 : terms related to \\\"hat\\\" and its variations, including forms of the \"],[15027,\"red\",\"F15027 : references to personal transformation and significant life experie\"]],\"hovertemplate\":\"feature=%{customdata[2]}\\u003cextra\\u003e\\u003c\\u002fextra\\u003e\",\"legendgroup\":\"red\",\"marker\":{\"color\":\"red\",\"symbol\":\"circle\",\"size\":8},\"mode\":\"markers\",\"name\":\"I hate\",\"orientation\":\"v\",\"showlegend\":true,\"x\":[8.295100212097168,7.664478302001953,6.0912604331970215,5.040284156799316,4.5277910232543945,6.087737560272217,4.553679943084717,7.284526824951172,5.136537075042725,5.028700351715088,4.192497730255127,4.820965766906738,4.734797477722168,6.885309219360352,4.255456924438477,7.79423189163208,4.608818054199219,4.244917392730713,8.273505210876465,7.704310417175293,4.325309753417969,4.346961975097656,4.466989040374756,6.538488388061523],\"xaxis\":\"x\",\"y\":[6.738674163818359,5.5324296951293945,7.820350170135498,7.581730365753174,6.7446370124816895,7.5470051765441895,7.329928398132324,7.007228374481201,7.398108005523682,8.274380683898926,6.5325541496276855,8.473983764648438,8.413792610168457,6.8571391105651855,7.10795783996582,6.607020854949951,8.513128280639648,6.475235462188721,7.949187278747559,6.087663173675537,6.194400310516357,7.015007019042969,8.287557601928711,7.334473133087158],\"yaxis\":\"y\",\"type\":\"scatter\"},{\"customdata\":[[1812,\"blue\",\"F1812 : details related to business relationships and contracts\"],[2516,\"blue\",\"F2516 :  grammatical constructions that indicate causality or actions taken\"],[4091,\"blue\",\"F4091 : phrases that indicate hypocrisy or inconsistency in people's action\"],[4539,\"blue\",\"F4539 : references to individuals or entities involved in claims or rumors\"],[4837,\"blue\",\"F4837 : specific words that indicate actions, people, or affirmations in a \"],[4892,\"blue\",\"F4892 : active verbs related to personal hobbies and outdoor activities\"],[5845,\"blue\",\"F5845 : food-related terms and descriptions\"],[6292,\"blue\",\"F6292 : expressions of strong emotions and personal reflections\"],[6837,\"blue\",\"F6837 : terms related to skin conditions and treatments\"],[8191,\"blue\",\"F8191 : terms related to culinary professionals and their roles\"],[8436,\"blue\",\"F8436 : phrases related to community engagement and support in the arts and\"],[8630,\"blue\",\"F8630 :  mentions of cute or appealing items or experiences\"],[9283,\"blue\",\"F9283 : fashion-related terms and concepts related to styling\"],[9293,\"blue\",\"F9293 : content related to requests for support or contributions\"],[9839,\"blue\",\"F9839 : keywords related to media consumption and parental control over chi\"],[10041,\"blue\",\"F10041 : instances of adversity and overcoming challenges\"],[10640,\"blue\",\"F10640 : information about critiques and evaluations in research studies\"],[11016,\"blue\",\"F11016 : prepositions and connections that indicate relationships in the te\"],[11042,\"blue\",\"F11042 : first-person pronouns and expressions of personal experience\"],[11339,\"blue\",\"F11339 : words related to storytelling and narrative elements\"],[12030,\"blue\",\"F12030 :  expressions of personal experiences and emotions\"],[12041,\"blue\",\"F12041 : elements related to blog interactions and personal reflections\"],[13838,\"blue\",\"F13838 : first-person pronouns and related expressions in the text\"],[14231,\"blue\",\"F14231 : phrases focusing on past experiences and reflections on previous c\"]],\"hovertemplate\":\"feature=%{customdata[2]}\\u003cextra\\u003e\\u003c\\u002fextra\\u003e\",\"legendgroup\":\"blue\",\"marker\":{\"color\":\"blue\",\"symbol\":\"circle\",\"size\":8},\"mode\":\"markers\",\"name\":\"I love\",\"orientation\":\"v\",\"showlegend\":true,\"x\":[6.211202144622803,7.320091724395752,7.0485310554504395,5.330711364746094,8.105238914489746,8.261580467224121,7.367654800415039,4.850302696228027,6.774085998535156,7.059586048126221,8.234633445739746,7.134701251983643,6.943178653717041,6.037261009216309,7.940356731414795,5.988950729370117,7.115349769592285,5.272403717041016,6.557248592376709,8.56987190246582,7.184281349182129,7.6667799949646,7.59048318862915,6.757569789886475],\"xaxis\":\"x\",\"y\":[8.308783531188965,7.967444896697998,6.557614326477051,7.114419937133789,8.264826774597168,5.893296241760254,5.847517490386963,6.544800758361816,5.355225563049316,5.6517744064331055,6.1727423667907715,5.821606159210205,5.482038497924805,5.731354236602783,5.819905757904053,6.668406009674072,8.639952659606934,5.878046035766602,8.482331275939941,7.499722480773926,7.483325481414795,6.546145915985107,8.003704071044922,8.495744705200195],\"yaxis\":\"y\",\"type\":\"scatter\"}],                        {\"template\":{\"data\":{\"histogram2dcontour\":[{\"type\":\"histogram2dcontour\",\"colorbar\":{\"outlinewidth\":0,\"ticks\":\"\"},\"colorscale\":[[0.0,\"#0d0887\"],[0.1111111111111111,\"#46039f\"],[0.2222222222222222,\"#7201a8\"],[0.3333333333333333,\"#9c179e\"],[0.4444444444444444,\"#bd3786\"],[0.5555555555555556,\"#d8576b\"],[0.6666666666666666,\"#ed7953\"],[0.7777777777777778,\"#fb9f3a\"],[0.8888888888888888,\"#fdca26\"],[1.0,\"#f0f921\"]]}],\"choropleth\":[{\"type\":\"choropleth\",\"colorbar\":{\"outlinewidth\":0,\"ticks\":\"\"}}],\"histogram2d\":[{\"type\":\"histogram2d\",\"colorbar\":{\"outlinewidth\":0,\"ticks\":\"\"},\"colorscale\":[[0.0,\"#0d0887\"],[0.1111111111111111,\"#46039f\"],[0.2222222222222222,\"#7201a8\"],[0.3333333333333333,\"#9c179e\"],[0.4444444444444444,\"#bd3786\"],[0.5555555555555556,\"#d8576b\"],[0.6666666666666666,\"#ed7953\"],[0.7777777777777778,\"#fb9f3a\"],[0.8888888888888888,\"#fdca26\"],[1.0,\"#f0f921\"]]}],\"heatmap\":[{\"type\":\"heatmap\",\"colorbar\":{\"outlinewidth\":0,\"ticks\":\"\"},\"colorscale\":[[0.0,\"#0d0887\"],[0.1111111111111111,\"#46039f\"],[0.2222222222222222,\"#7201a8\"],[0.3333333333333333,\"#9c179e\"],[0.4444444444444444,\"#bd3786\"],[0.5555555555555556,\"#d8576b\"],[0.6666666666666666,\"#ed7953\"],[0.7777777777777778,\"#fb9f3a\"],[0.8888888888888888,\"#fdca26\"],[1.0,\"#f0f921\"]]}],\"heatmapgl\":[{\"type\":\"heatmapgl\",\"colorbar\":{\"outlinewidth\":0,\"ticks\":\"\"},\"colorscale\":[[0.0,\"#0d0887\"],[0.1111111111111111,\"#46039f\"],[0.2222222222222222,\"#7201a8\"],[0.3333333333333333,\"#9c179e\"],[0.4444444444444444,\"#bd3786\"],[0.5555555555555556,\"#d8576b\"],[0.6666666666666666,\"#ed7953\"],[0.7777777777777778,\"#fb9f3a\"],[0.8888888888888888,\"#fdca26\"],[1.0,\"#f0f921\"]]}],\"contourcarpet\":[{\"type\":\"contourcarpet\",\"colorbar\":{\"outlinewidth\":0,\"ticks\":\"\"}}],\"contour\":[{\"type\":\"contour\",\"colorbar\":{\"outlinewidth\":0,\"ticks\":\"\"},\"colorscale\":[[0.0,\"#0d0887\"],[0.1111111111111111,\"#46039f\"],[0.2222222222222222,\"#7201a8\"],[0.3333333333333333,\"#9c179e\"],[0.4444444444444444,\"#bd3786\"],[0.5555555555555556,\"#d8576b\"],[0.6666666666666666,\"#ed7953\"],[0.7777777777777778,\"#fb9f3a\"],[0.8888888888888888,\"#fdca26\"],[1.0,\"#f0f921\"]]}],\"surface\":[{\"type\":\"surface\",\"colorbar\":{\"outlinewidth\":0,\"ticks\":\"\"},\"colorscale\":[[0.0,\"#0d0887\"],[0.1111111111111111,\"#46039f\"],[0.2222222222222222,\"#7201a8\"],[0.3333333333333333,\"#9c179e\"],[0.4444444444444444,\"#bd3786\"],[0.5555555555555556,\"#d8576b\"],[0.6666666666666666,\"#ed7953\"],[0.7777777777777778,\"#fb9f3a\"],[0.8888888888888888,\"#fdca26\"],[1.0,\"#f0f921\"]]}],\"mesh3d\":[{\"type\":\"mesh3d\",\"colorbar\":{\"outlinewidth\":0,\"ticks\":\"\"}}],\"scatter\":[{\"fillpattern\":{\"fillmode\":\"overlay\",\"size\":10,\"solidity\":0.2},\"type\":\"scatter\"}],\"parcoords\":[{\"type\":\"parcoords\",\"line\":{\"colorbar\":{\"outlinewidth\":0,\"ticks\":\"\"}}}],\"scatterpolargl\":[{\"type\":\"scatterpolargl\",\"marker\":{\"colorbar\":{\"outlinewidth\":0,\"ticks\":\"\"}}}],\"bar\":[{\"error_x\":{\"color\":\"#2a3f5f\"},\"error_y\":{\"color\":\"#2a3f5f\"},\"marker\":{\"line\":{\"color\":\"#E5ECF6\",\"width\":0.5},\"pattern\":{\"fillmode\":\"overlay\",\"size\":10,\"solidity\":0.2}},\"type\":\"bar\"}],\"scattergeo\":[{\"type\":\"scattergeo\",\"marker\":{\"colorbar\":{\"outlinewidth\":0,\"ticks\":\"\"}}}],\"scatterpolar\":[{\"type\":\"scatterpolar\",\"marker\":{\"colorbar\":{\"outlinewidth\":0,\"ticks\":\"\"}}}],\"histogram\":[{\"marker\":{\"pattern\":{\"fillmode\":\"overlay\",\"size\":10,\"solidity\":0.2}},\"type\":\"histogram\"}],\"scattergl\":[{\"type\":\"scattergl\",\"marker\":{\"colorbar\":{\"outlinewidth\":0,\"ticks\":\"\"}}}],\"scatter3d\":[{\"type\":\"scatter3d\",\"line\":{\"colorbar\":{\"outlinewidth\":0,\"ticks\":\"\"}},\"marker\":{\"colorbar\":{\"outlinewidth\":0,\"ticks\":\"\"}}}],\"scattermapbox\":[{\"type\":\"scattermapbox\",\"marker\":{\"colorbar\":{\"outlinewidth\":0,\"ticks\":\"\"}}}],\"scatterternary\":[{\"type\":\"scatterternary\",\"marker\":{\"colorbar\":{\"outlinewidth\":0,\"ticks\":\"\"}}}],\"scattercarpet\":[{\"type\":\"scattercarpet\",\"marker\":{\"colorbar\":{\"outlinewidth\":0,\"ticks\":\"\"}}}],\"carpet\":[{\"aaxis\":{\"endlinecolor\":\"#2a3f5f\",\"gridcolor\":\"white\",\"linecolor\":\"white\",\"minorgridcolor\":\"white\",\"startlinecolor\":\"#2a3f5f\"},\"baxis\":{\"endlinecolor\":\"#2a3f5f\",\"gridcolor\":\"white\",\"linecolor\":\"white\",\"minorgridcolor\":\"white\",\"startlinecolor\":\"#2a3f5f\"},\"type\":\"carpet\"}],\"table\":[{\"cells\":{\"fill\":{\"color\":\"#EBF0F8\"},\"line\":{\"color\":\"white\"}},\"header\":{\"fill\":{\"color\":\"#C8D4E3\"},\"line\":{\"color\":\"white\"}},\"type\":\"table\"}],\"barpolar\":[{\"marker\":{\"line\":{\"color\":\"#E5ECF6\",\"width\":0.5},\"pattern\":{\"fillmode\":\"overlay\",\"size\":10,\"solidity\":0.2}},\"type\":\"barpolar\"}],\"pie\":[{\"automargin\":true,\"type\":\"pie\"}]},\"layout\":{\"autotypenumbers\":\"strict\",\"colorway\":[\"#636efa\",\"#EF553B\",\"#00cc96\",\"#ab63fa\",\"#FFA15A\",\"#19d3f3\",\"#FF6692\",\"#B6E880\",\"#FF97FF\",\"#FECB52\"],\"font\":{\"color\":\"#2a3f5f\"},\"hovermode\":\"closest\",\"hoverlabel\":{\"align\":\"left\"},\"paper_bgcolor\":\"white\",\"plot_bgcolor\":\"#E5ECF6\",\"polar\":{\"bgcolor\":\"#E5ECF6\",\"angularaxis\":{\"gridcolor\":\"white\",\"linecolor\":\"white\",\"ticks\":\"\"},\"radialaxis\":{\"gridcolor\":\"white\",\"linecolor\":\"white\",\"ticks\":\"\"}},\"ternary\":{\"bgcolor\":\"#E5ECF6\",\"aaxis\":{\"gridcolor\":\"white\",\"linecolor\":\"white\",\"ticks\":\"\"},\"baxis\":{\"gridcolor\":\"white\",\"linecolor\":\"white\",\"ticks\":\"\"},\"caxis\":{\"gridcolor\":\"white\",\"linecolor\":\"white\",\"ticks\":\"\"}},\"coloraxis\":{\"colorbar\":{\"outlinewidth\":0,\"ticks\":\"\"}},\"colorscale\":{\"sequential\":[[0.0,\"#0d0887\"],[0.1111111111111111,\"#46039f\"],[0.2222222222222222,\"#7201a8\"],[0.3333333333333333,\"#9c179e\"],[0.4444444444444444,\"#bd3786\"],[0.5555555555555556,\"#d8576b\"],[0.6666666666666666,\"#ed7953\"],[0.7777777777777778,\"#fb9f3a\"],[0.8888888888888888,\"#fdca26\"],[1.0,\"#f0f921\"]],\"sequentialminus\":[[0.0,\"#0d0887\"],[0.1111111111111111,\"#46039f\"],[0.2222222222222222,\"#7201a8\"],[0.3333333333333333,\"#9c179e\"],[0.4444444444444444,\"#bd3786\"],[0.5555555555555556,\"#d8576b\"],[0.6666666666666666,\"#ed7953\"],[0.7777777777777778,\"#fb9f3a\"],[0.8888888888888888,\"#fdca26\"],[1.0,\"#f0f921\"]],\"diverging\":[[0,\"#8e0152\"],[0.1,\"#c51b7d\"],[0.2,\"#de77ae\"],[0.3,\"#f1b6da\"],[0.4,\"#fde0ef\"],[0.5,\"#f7f7f7\"],[0.6,\"#e6f5d0\"],[0.7,\"#b8e186\"],[0.8,\"#7fbc41\"],[0.9,\"#4d9221\"],[1,\"#276419\"]]},\"xaxis\":{\"gridcolor\":\"white\",\"linecolor\":\"white\",\"ticks\":\"\",\"title\":{\"standoff\":15},\"zerolinecolor\":\"white\",\"automargin\":true,\"zerolinewidth\":2},\"yaxis\":{\"gridcolor\":\"white\",\"linecolor\":\"white\",\"ticks\":\"\",\"title\":{\"standoff\":15},\"zerolinecolor\":\"white\",\"automargin\":true,\"zerolinewidth\":2},\"scene\":{\"xaxis\":{\"backgroundcolor\":\"#E5ECF6\",\"gridcolor\":\"white\",\"linecolor\":\"white\",\"showbackground\":true,\"ticks\":\"\",\"zerolinecolor\":\"white\",\"gridwidth\":2},\"yaxis\":{\"backgroundcolor\":\"#E5ECF6\",\"gridcolor\":\"white\",\"linecolor\":\"white\",\"showbackground\":true,\"ticks\":\"\",\"zerolinecolor\":\"white\",\"gridwidth\":2},\"zaxis\":{\"backgroundcolor\":\"#E5ECF6\",\"gridcolor\":\"white\",\"linecolor\":\"white\",\"showbackground\":true,\"ticks\":\"\",\"zerolinecolor\":\"white\",\"gridwidth\":2}},\"shapedefaults\":{\"line\":{\"color\":\"#2a3f5f\"}},\"annotationdefaults\":{\"arrowcolor\":\"#2a3f5f\",\"arrowhead\":0,\"arrowwidth\":1},\"geo\":{\"bgcolor\":\"white\",\"landcolor\":\"#E5ECF6\",\"subunitcolor\":\"white\",\"showland\":true,\"showlakes\":true,\"lakecolor\":\"white\"},\"title\":{\"x\":0.05},\"mapbox\":{\"style\":\"light\"}}},\"xaxis\":{\"anchor\":\"y\",\"domain\":[0.0,1.0],\"title\":{\"text\":\"UMAP Component 1\"}},\"yaxis\":{\"anchor\":\"x\",\"domain\":[0.0,1.0],\"title\":{\"text\":\"UMAP Component 2\"}},\"legend\":{\"title\":{\"text\":\"Color\"},\"tracegroupgap\":0},\"margin\":{\"t\":60},\"title\":{\"text\":\"UMAP of Decoder Weights\"}},                        {\"responsive\": true}                    ).then(function(){\n",
              "                            \n",
              "var gd = document.getElementById('6380e662-d2a5-4cfa-a3a7-c13ea00e41b6');\n",
              "var x = new MutationObserver(function (mutations, observer) {{\n",
              "        var display = window.getComputedStyle(gd).display;\n",
              "        if (!display || display === 'none') {{\n",
              "            console.log([gd, 'removed!']);\n",
              "            Plotly.purge(gd);\n",
              "            observer.disconnect();\n",
              "        }}\n",
              "}});\n",
              "\n",
              "// Listen for the removal of the full notebook cells\n",
              "var notebookContainer = gd.closest('#notebook-container');\n",
              "if (notebookContainer) {{\n",
              "    x.observe(notebookContainer, {childList: true});\n",
              "}}\n",
              "\n",
              "// Listen for the clearing of the current output cell\n",
              "var outputEl = gd.closest('.output');\n",
              "if (outputEl) {{\n",
              "    x.observe(outputEl, {childList: true});\n",
              "}}\n",
              "\n",
              "                        })                };                            </script>        </div>\n",
              "</body>\n",
              "</html>"
            ]
          },
          "metadata": {},
          "output_type": "display_data"
        }
      ],
      "source": [
        "import plotly.express as px\n",
        "import numpy as np\n",
        "import pandas as pd\n",
        "\n",
        "df = pd.DataFrame(embedding1, columns=['UMAP Component 1', 'UMAP Component 2'])\n",
        "df['Feature ID'] = feature_subset\n",
        "# df['Feature Description']\n",
        "df['feature'] = [i[:75] for i in f_labels] # [str(i) for i in feature_subset] # feature_subset\n",
        "df['Color'] = df['Feature ID'].apply(lambda x: 'green' if x in common_feats else ('red' if x in months_only else 'blue'))\n",
        "\n",
        "fig = px.scatter(df, x='UMAP Component 1', y='UMAP Component 2', # text='Feature ID',\n",
        "                 color='Color',  # Use the Color column for coloring points\n",
        "                 color_discrete_map={'red': 'red', 'green': 'green', 'blue': 'blue'},\n",
        "                #  hover_data='Feature Description')\n",
        "                hover_data={\n",
        "                     'UMAP Component 1': False,\n",
        "                     'UMAP Component 2': False,\n",
        "                     'Feature ID': False,\n",
        "                     'Color': False,\n",
        "                     'feature': True  # Only display the feature description\n",
        "                 } ) #,\n",
        "                #  size=[0.1] * len(df))\n",
        "\n",
        "fig.update_layout(\n",
        "    title='UMAP of Decoder Weights',\n",
        "    xaxis_title='UMAP Component 1',\n",
        "    yaxis_title='UMAP Component 2'\n",
        ")\n",
        "\n",
        "# Customize legend labels\n",
        "fig.for_each_trace(lambda t: t.update(name = {\n",
        "    'red': 'I hate',\n",
        "    'green': 'Both',\n",
        "    'blue': 'I love'\n",
        "}[t.name]))\n",
        "\n",
        "fig.update_traces(marker=dict(size= 8))\n",
        "\n",
        "fig.show()"
      ]
    },
    {
      "cell_type": "markdown",
      "metadata": {
        "id": "T0RaJVYXDARf"
      },
      "source": [
        "# America v China umap on feature subset"
      ]
    },
    {
      "cell_type": "markdown",
      "metadata": {
        "id": "cDVc6mpmDARo"
      },
      "source": [
        "top 50"
      ]
    },
    {
      "cell_type": "code",
      "execution_count": null,
      "metadata": {
        "colab": {
          "base_uri": "https://localhost:8080/"
        },
        "id": "L9xi9qMhDARp",
        "outputId": "7af9bf40-1409-4176-a66a-4cb6845b21bd"
      },
      "outputs": [
        {
          "data": {
            "text/plain": [
              "66"
            ]
          },
          "execution_count": 200,
          "metadata": {},
          "output_type": "execute_result"
        }
      ],
      "source": [
        "feature_subset = two_top_acts_indices.tolist() + one_top_acts_indices.tolist()\n",
        "feature_subset = list(set(feature_subset))\n",
        "feature_subset.sort()\n",
        "len(feature_subset)"
      ]
    },
    {
      "cell_type": "code",
      "execution_count": null,
      "metadata": {
        "id": "ftuezd2gDARp"
      },
      "outputs": [],
      "source": [
        "f_labels = [ \"F\" + str(f_ind) + \" : \" + feat_labels_lst[f_ind] for f_ind in feature_subset]"
      ]
    },
    {
      "cell_type": "markdown",
      "metadata": {
        "id": "3eVovUhWDARp"
      },
      "source": [
        "Now labels and weight matrix may share the same new indices (rather than feature numbers of orig matrix) due to slicing them in same way"
      ]
    },
    {
      "cell_type": "code",
      "execution_count": null,
      "metadata": {
        "colab": {
          "base_uri": "https://localhost:8080/"
        },
        "id": "LN9nJMB2DARp",
        "outputId": "da1f0953-51a2-4e0e-e8a4-345a6fa9f926"
      },
      "outputs": [
        {
          "data": {
            "text/plain": [
              "(66, 2304)"
            ]
          },
          "execution_count": 202,
          "metadata": {},
          "output_type": "execute_result"
        }
      ],
      "source": [
        "weights_feature_subset = weight_matrix[feature_subset]\n",
        "weights_feature_subset.shape"
      ]
    },
    {
      "cell_type": "code",
      "execution_count": null,
      "metadata": {
        "id": "vFNymRj-DARq"
      },
      "outputs": [],
      "source": [
        "reducer = umap.UMAP(n_neighbors=15, min_dist=0.01, metric='euclidean')\n",
        "embedding1 = reducer.fit_transform(weights_feature_subset)"
      ]
    },
    {
      "cell_type": "code",
      "execution_count": null,
      "metadata": {
        "id": "y658GmizDARq"
      },
      "outputs": [],
      "source": [
        "common_feats = set((one_top_acts_indices).tolist()).intersection(set((two_top_acts_indices).tolist()))\n",
        "months_only = set((two_top_acts_indices).tolist()) - set((one_top_acts_indices).tolist())"
      ]
    },
    {
      "cell_type": "code",
      "execution_count": null,
      "metadata": {
        "id": "BTgPWCVGDARq"
      },
      "outputs": [],
      "source": [
        "common_feats = list(common_feats)\n",
        "months_only = list(months_only )"
      ]
    },
    {
      "cell_type": "code",
      "execution_count": null,
      "metadata": {
        "colab": {
          "base_uri": "https://localhost:8080/",
          "height": 542
        },
        "id": "weM9NC-lDARq",
        "outputId": "f975ca2e-3863-4806-a91a-820ef50cb651"
      },
      "outputs": [
        {
          "data": {
            "text/html": [
              "<html>\n",
              "<head><meta charset=\"utf-8\" /></head>\n",
              "<body>\n",
              "    <div>            <script src=\"https://cdnjs.cloudflare.com/ajax/libs/mathjax/2.7.5/MathJax.js?config=TeX-AMS-MML_SVG\"></script><script type=\"text/javascript\">if (window.MathJax && window.MathJax.Hub && window.MathJax.Hub.Config) {window.MathJax.Hub.Config({SVG: {font: \"STIX-Web\"}});}</script>                <script type=\"text/javascript\">window.PlotlyConfig = {MathJaxConfig: 'local'};</script>\n",
              "        <script charset=\"utf-8\" src=\"https://cdn.plot.ly/plotly-2.24.1.min.js\"></script>                <div id=\"f5c4988c-95a0-4e82-b505-c34f3670c5a3\" class=\"plotly-graph-div\" style=\"height:525px; width:100%;\"></div>            <script type=\"text/javascript\">                                    window.PLOTLYENV=window.PLOTLYENV || {};                                    if (document.getElementById(\"f5c4988c-95a0-4e82-b505-c34f3670c5a3\")) {                    Plotly.newPlot(                        \"f5c4988c-95a0-4e82-b505-c34f3670c5a3\",                        [{\"customdata\":[[259,\"blue\",\"F259 : mathematical comparisons and relationships, especially involving val\"],[308,\"blue\",\"F308 : requests for help or assistance\"],[615,\"blue\",\"F615 : terms related to legal proceedings and political processes\"],[1640,\"blue\",\"F1640 : references to positions of authority and roles within organizations\"],[1976,\"blue\",\"F1976 : symbols and mathematical elements used in scientific or technical c\"],[2626,\"blue\",\"F2626 : legal terminology related to regulatory definitions and company cla\"],[2964,\"blue\",\"F2964 :  phrases that indicate relationships or connections involving the c\"],[4127,\"blue\",\"F4127 : references to freedom and liberty in political contexts\"],[5663,\"blue\",\"F5663 : references to Washington, DC and related institutions\"],[6631,\"blue\",\"F6631 : the beginning of a text or important markers in a document\"],[7876,\"blue\",\"F7876 : elements related to ratings and classifications\"],[8096,\"blue\",\"F8096 : references to the city of Washington, D.C. and its variations\"],[12935,\"blue\",\"F12935 : questions related to economic efficiency, fairness, and environmen\"],[13668,\"blue\",\"F13668 : discussions about political norms and behaviors\"],[16033,\"blue\",\"F16033 : mentions of U.S. entities or actions, particularly those related t\"],[16225,\"blue\",\"F16225 : references to political parties and issues involving the Republica\"]],\"hovertemplate\":\"feature=%{customdata[2]}\\u003cextra\\u003e\\u003c\\u002fextra\\u003e\",\"legendgroup\":\"blue\",\"marker\":{\"color\":\"blue\",\"symbol\":\"circle\",\"size\":8},\"mode\":\"markers\",\"name\":\"I love\",\"orientation\":\"v\",\"showlegend\":true,\"x\":[8.45859146118164,7.326459884643555,9.408474922180176,8.890235900878906,6.012472152709961,5.431806564331055,5.457030773162842,9.729802131652832,9.015878677368164,7.3166046142578125,7.057986736297607,9.115824699401855,5.780204772949219,9.467957496643066,9.618305206298828,9.758166313171387],\"xaxis\":\"x\",\"y\":[5.178123474121094,6.32209587097168,4.349788665771484,3.070591449737549,6.590654373168945,6.36043643951416,6.794835567474365,4.0798726081848145,3.5288357734680176,7.966443061828613,6.836203098297119,4.38508415222168,6.6963300704956055,3.878700017929077,4.457365036010742,3.8453140258789062],\"yaxis\":\"y\",\"type\":\"scatter\"},{\"customdata\":[[523,\"red\",\"F523 : descriptions of geographical locations and administrative divisions\"],[3242,\"red\",\"F3242 : information related to corruption and bribery involving public offi\"],[3645,\"red\",\"F3645 : phrases related to measurements or characteristics of products and \"],[3760,\"red\",\"F3760 : terms related to conditions and outcomes in experimental settings\"],[3915,\"red\",\"F3915 : terms related to criticism of political ideologies and figures\"],[3956,\"red\",\"F3956 : references to geographic locations and landmarks\"],[6260,\"red\",\"F6260 : dialogue involving questions and uncertainties about identity\"],[7700,\"red\",\"F7700 : references to historical figures and events, particularly relating \"],[9419,\"red\",\"F9419 : names of individuals and titles\"],[11010,\"red\",\"F11010 : numerical values, programming symbols, and names of institutions a\"],[11192,\"red\",\"F11192 : references to political entities, particularly countries and their\"],[11549,\"red\",\"F11549 :  references to specific Asian cuisines, particularly Chinese dishe\"],[13737,\"red\",\"F13737 : specific names or titles, particularly related to Mongolian fighte\"],[14023,\"red\",\"F14023 :  references to financial transactions and their management\"],[14819,\"red\",\"F14819 : references to geopolitical tensions, particularly involving Iran, \"],[15728,\"red\",\"F15728 : elements related to injury and trauma\"]],\"hovertemplate\":\"feature=%{customdata[2]}\\u003cextra\\u003e\\u003c\\u002fextra\\u003e\",\"legendgroup\":\"red\",\"marker\":{\"color\":\"red\",\"symbol\":\"circle\",\"size\":8},\"mode\":\"markers\",\"name\":\"I hate\",\"orientation\":\"v\",\"showlegend\":true,\"x\":[8.51765251159668,7.7994489669799805,6.579533576965332,7.83357048034668,7.877508640289307,8.198737144470215,5.978853702545166,8.914341926574707,7.139609336853027,7.249500274658203,9.318235397338867,7.942071914672852,8.189849853515625,7.658457279205322,7.9564924240112305,5.7637939453125],\"xaxis\":\"x\",\"y\":[4.169952869415283,3.682339668273926,6.853198528289795,7.371579170227051,3.498933792114258,4.469431400299072,7.560732364654541,2.903738021850586,5.134983539581299,4.341232776641846,4.938876152038574,3.430981397628784,3.2137811183929443,6.758378982543945,3.7741143703460693,7.129314422607422],\"yaxis\":\"y\",\"type\":\"scatter\"},{\"customdata\":[[1583,\"green\",\"F1583 : words related to administrative or technical tasks and issues\"],[1590,\"green\",\"F1590 :  comparative phrases that express relationships or contrasts betwee\"],[1692,\"green\",\"F1692 : legal and technical terminology related to statutes and inventions\"],[2021,\"green\",\"F2021 : topics related to political events and elections\"],[3022,\"green\",\"F3022 : references to geographical locations and their characteristics\"],[3031,\"green\",\"F3031 :  references to significant documents or publications, especially in\"],[3770,\"green\",\"F3770 : connections to historical events and critical commentary in a narra\"],[4126,\"green\",\"F4126 :  information related to numerical expressions and calculations invo\"],[4314,\"green\",\"F4314 : references to churches, bishops, and geographical locations related\"],[4750,\"green\",\"F4750 : phrases indicating personal experiences and feelings related to cod\"],[4840,\"green\",\"F4840 : references to historical governance and conflicts in the context of\"],[4987,\"green\",\"F4987 : references to political figures and their actions\"],[5486,\"green\",\"F5486 :  interrogative and rhetorical questions related to historical event\"],[5689,\"green\",\"F5689 : terms that indicate naming or defining something\"],[5874,\"green\",\"F5874 : proper nouns and specific names, particularly related to people and\"],[6163,\"green\",\"F6163 : monetary values and their associated attributes in different contex\"],[6570,\"green\",\"F6570 : country names and their associations with various metrics or events\"],[6793,\"green\",\"F6793 : elements that resemble structured data or identifiers, likely in a \"],[7292,\"green\",\"F7292 : the verb \\\"is\\\" in various grammatical contexts\"],[7869,\"green\",\"F7869 : references to specific geographical locations and political actions\"],[8366,\"green\",\"F8366 : verbs and their related forms, often related to medical or technica\"],[8651,\"green\",\"F8651 : terms related to political institutions and membership\"],[9461,\"green\",\"F9461 : references to educational institutions and their locations\"],[9768,\"green\",\"F9768 : terms related to control and authority, particularly in political o\"],[10655,\"green\",\"F10655 : terms related to legal processes and court proceedings\"],[11725,\"green\",\"F11725 : terms related to medical conditions and defects\"],[12381,\"green\",\"F12381 :  locations and geographical references in narratives\"],[12387,\"green\",\"F12387 : specific locations and associated contexts\"],[12927,\"green\",\"F12927 : statements of existence or presence\"],[13414,\"green\",\"F13414 : statements of existence or presence\"],[14138,\"green\",\"F14138 : health-related terms and conditions\"],[14489,\"green\",\"F14489 :  structures and formats typical in academic or formal writing\"],[15596,\"green\",\"F15596 : past and present tense forms of the verb \\\"to be\\\" in various contex\"],[15878,\"green\",\"F15878 :  references to government structures and regulations, particularly\"]],\"hovertemplate\":\"feature=%{customdata[2]}\\u003cextra\\u003e\\u003c\\u002fextra\\u003e\",\"legendgroup\":\"green\",\"marker\":{\"color\":\"green\",\"symbol\":\"circle\",\"size\":8},\"mode\":\"markers\",\"name\":\"Both\",\"orientation\":\"v\",\"showlegend\":true,\"x\":[5.569956302642822,7.057676792144775,8.095582008361816,7.525513172149658,8.856244087219238,8.539107322692871,6.479072093963623,6.843369483947754,8.219149589538574,6.8253631591796875,8.146193504333496,9.39600658416748,7.79304313659668,6.463295936584473,7.697566509246826,6.242752552032471,7.549320697784424,7.440504550933838,6.68063497543335,8.617888450622559,8.815729141235352,9.409124374389648,8.691507339477539,8.088788986206055,6.208194255828857,5.955537796020508,8.145456314086914,7.629898548126221,6.732764720916748,6.932708263397217,7.01140832901001,7.416292190551758,7.118328094482422,9.202485084533691],\"xaxis\":\"x\",\"y\":[6.453008651733398,7.473682880401611,6.995182037353516,4.721423149108887,4.088617324829102,4.761543273925781,7.713631629943848,6.916331768035889,4.910933971405029,6.00980281829834,5.60139274597168,3.4007391929626465,4.851411819458008,7.502723217010498,5.153013706207275,6.952455997467041,5.492074489593506,7.578276634216309,7.951972007751465,4.049508094787598,5.382293224334717,3.140935182571411,3.2790002822875977,6.811732769012451,6.542186737060547,7.547407627105713,5.3834333419799805,5.831541061401367,7.852536678314209,7.4994049072265625,6.819012641906738,7.426870346069336,7.902390480041504,3.1727545261383057],\"yaxis\":\"y\",\"type\":\"scatter\"}],                        {\"template\":{\"data\":{\"histogram2dcontour\":[{\"type\":\"histogram2dcontour\",\"colorbar\":{\"outlinewidth\":0,\"ticks\":\"\"},\"colorscale\":[[0.0,\"#0d0887\"],[0.1111111111111111,\"#46039f\"],[0.2222222222222222,\"#7201a8\"],[0.3333333333333333,\"#9c179e\"],[0.4444444444444444,\"#bd3786\"],[0.5555555555555556,\"#d8576b\"],[0.6666666666666666,\"#ed7953\"],[0.7777777777777778,\"#fb9f3a\"],[0.8888888888888888,\"#fdca26\"],[1.0,\"#f0f921\"]]}],\"choropleth\":[{\"type\":\"choropleth\",\"colorbar\":{\"outlinewidth\":0,\"ticks\":\"\"}}],\"histogram2d\":[{\"type\":\"histogram2d\",\"colorbar\":{\"outlinewidth\":0,\"ticks\":\"\"},\"colorscale\":[[0.0,\"#0d0887\"],[0.1111111111111111,\"#46039f\"],[0.2222222222222222,\"#7201a8\"],[0.3333333333333333,\"#9c179e\"],[0.4444444444444444,\"#bd3786\"],[0.5555555555555556,\"#d8576b\"],[0.6666666666666666,\"#ed7953\"],[0.7777777777777778,\"#fb9f3a\"],[0.8888888888888888,\"#fdca26\"],[1.0,\"#f0f921\"]]}],\"heatmap\":[{\"type\":\"heatmap\",\"colorbar\":{\"outlinewidth\":0,\"ticks\":\"\"},\"colorscale\":[[0.0,\"#0d0887\"],[0.1111111111111111,\"#46039f\"],[0.2222222222222222,\"#7201a8\"],[0.3333333333333333,\"#9c179e\"],[0.4444444444444444,\"#bd3786\"],[0.5555555555555556,\"#d8576b\"],[0.6666666666666666,\"#ed7953\"],[0.7777777777777778,\"#fb9f3a\"],[0.8888888888888888,\"#fdca26\"],[1.0,\"#f0f921\"]]}],\"heatmapgl\":[{\"type\":\"heatmapgl\",\"colorbar\":{\"outlinewidth\":0,\"ticks\":\"\"},\"colorscale\":[[0.0,\"#0d0887\"],[0.1111111111111111,\"#46039f\"],[0.2222222222222222,\"#7201a8\"],[0.3333333333333333,\"#9c179e\"],[0.4444444444444444,\"#bd3786\"],[0.5555555555555556,\"#d8576b\"],[0.6666666666666666,\"#ed7953\"],[0.7777777777777778,\"#fb9f3a\"],[0.8888888888888888,\"#fdca26\"],[1.0,\"#f0f921\"]]}],\"contourcarpet\":[{\"type\":\"contourcarpet\",\"colorbar\":{\"outlinewidth\":0,\"ticks\":\"\"}}],\"contour\":[{\"type\":\"contour\",\"colorbar\":{\"outlinewidth\":0,\"ticks\":\"\"},\"colorscale\":[[0.0,\"#0d0887\"],[0.1111111111111111,\"#46039f\"],[0.2222222222222222,\"#7201a8\"],[0.3333333333333333,\"#9c179e\"],[0.4444444444444444,\"#bd3786\"],[0.5555555555555556,\"#d8576b\"],[0.6666666666666666,\"#ed7953\"],[0.7777777777777778,\"#fb9f3a\"],[0.8888888888888888,\"#fdca26\"],[1.0,\"#f0f921\"]]}],\"surface\":[{\"type\":\"surface\",\"colorbar\":{\"outlinewidth\":0,\"ticks\":\"\"},\"colorscale\":[[0.0,\"#0d0887\"],[0.1111111111111111,\"#46039f\"],[0.2222222222222222,\"#7201a8\"],[0.3333333333333333,\"#9c179e\"],[0.4444444444444444,\"#bd3786\"],[0.5555555555555556,\"#d8576b\"],[0.6666666666666666,\"#ed7953\"],[0.7777777777777778,\"#fb9f3a\"],[0.8888888888888888,\"#fdca26\"],[1.0,\"#f0f921\"]]}],\"mesh3d\":[{\"type\":\"mesh3d\",\"colorbar\":{\"outlinewidth\":0,\"ticks\":\"\"}}],\"scatter\":[{\"fillpattern\":{\"fillmode\":\"overlay\",\"size\":10,\"solidity\":0.2},\"type\":\"scatter\"}],\"parcoords\":[{\"type\":\"parcoords\",\"line\":{\"colorbar\":{\"outlinewidth\":0,\"ticks\":\"\"}}}],\"scatterpolargl\":[{\"type\":\"scatterpolargl\",\"marker\":{\"colorbar\":{\"outlinewidth\":0,\"ticks\":\"\"}}}],\"bar\":[{\"error_x\":{\"color\":\"#2a3f5f\"},\"error_y\":{\"color\":\"#2a3f5f\"},\"marker\":{\"line\":{\"color\":\"#E5ECF6\",\"width\":0.5},\"pattern\":{\"fillmode\":\"overlay\",\"size\":10,\"solidity\":0.2}},\"type\":\"bar\"}],\"scattergeo\":[{\"type\":\"scattergeo\",\"marker\":{\"colorbar\":{\"outlinewidth\":0,\"ticks\":\"\"}}}],\"scatterpolar\":[{\"type\":\"scatterpolar\",\"marker\":{\"colorbar\":{\"outlinewidth\":0,\"ticks\":\"\"}}}],\"histogram\":[{\"marker\":{\"pattern\":{\"fillmode\":\"overlay\",\"size\":10,\"solidity\":0.2}},\"type\":\"histogram\"}],\"scattergl\":[{\"type\":\"scattergl\",\"marker\":{\"colorbar\":{\"outlinewidth\":0,\"ticks\":\"\"}}}],\"scatter3d\":[{\"type\":\"scatter3d\",\"line\":{\"colorbar\":{\"outlinewidth\":0,\"ticks\":\"\"}},\"marker\":{\"colorbar\":{\"outlinewidth\":0,\"ticks\":\"\"}}}],\"scattermapbox\":[{\"type\":\"scattermapbox\",\"marker\":{\"colorbar\":{\"outlinewidth\":0,\"ticks\":\"\"}}}],\"scatterternary\":[{\"type\":\"scatterternary\",\"marker\":{\"colorbar\":{\"outlinewidth\":0,\"ticks\":\"\"}}}],\"scattercarpet\":[{\"type\":\"scattercarpet\",\"marker\":{\"colorbar\":{\"outlinewidth\":0,\"ticks\":\"\"}}}],\"carpet\":[{\"aaxis\":{\"endlinecolor\":\"#2a3f5f\",\"gridcolor\":\"white\",\"linecolor\":\"white\",\"minorgridcolor\":\"white\",\"startlinecolor\":\"#2a3f5f\"},\"baxis\":{\"endlinecolor\":\"#2a3f5f\",\"gridcolor\":\"white\",\"linecolor\":\"white\",\"minorgridcolor\":\"white\",\"startlinecolor\":\"#2a3f5f\"},\"type\":\"carpet\"}],\"table\":[{\"cells\":{\"fill\":{\"color\":\"#EBF0F8\"},\"line\":{\"color\":\"white\"}},\"header\":{\"fill\":{\"color\":\"#C8D4E3\"},\"line\":{\"color\":\"white\"}},\"type\":\"table\"}],\"barpolar\":[{\"marker\":{\"line\":{\"color\":\"#E5ECF6\",\"width\":0.5},\"pattern\":{\"fillmode\":\"overlay\",\"size\":10,\"solidity\":0.2}},\"type\":\"barpolar\"}],\"pie\":[{\"automargin\":true,\"type\":\"pie\"}]},\"layout\":{\"autotypenumbers\":\"strict\",\"colorway\":[\"#636efa\",\"#EF553B\",\"#00cc96\",\"#ab63fa\",\"#FFA15A\",\"#19d3f3\",\"#FF6692\",\"#B6E880\",\"#FF97FF\",\"#FECB52\"],\"font\":{\"color\":\"#2a3f5f\"},\"hovermode\":\"closest\",\"hoverlabel\":{\"align\":\"left\"},\"paper_bgcolor\":\"white\",\"plot_bgcolor\":\"#E5ECF6\",\"polar\":{\"bgcolor\":\"#E5ECF6\",\"angularaxis\":{\"gridcolor\":\"white\",\"linecolor\":\"white\",\"ticks\":\"\"},\"radialaxis\":{\"gridcolor\":\"white\",\"linecolor\":\"white\",\"ticks\":\"\"}},\"ternary\":{\"bgcolor\":\"#E5ECF6\",\"aaxis\":{\"gridcolor\":\"white\",\"linecolor\":\"white\",\"ticks\":\"\"},\"baxis\":{\"gridcolor\":\"white\",\"linecolor\":\"white\",\"ticks\":\"\"},\"caxis\":{\"gridcolor\":\"white\",\"linecolor\":\"white\",\"ticks\":\"\"}},\"coloraxis\":{\"colorbar\":{\"outlinewidth\":0,\"ticks\":\"\"}},\"colorscale\":{\"sequential\":[[0.0,\"#0d0887\"],[0.1111111111111111,\"#46039f\"],[0.2222222222222222,\"#7201a8\"],[0.3333333333333333,\"#9c179e\"],[0.4444444444444444,\"#bd3786\"],[0.5555555555555556,\"#d8576b\"],[0.6666666666666666,\"#ed7953\"],[0.7777777777777778,\"#fb9f3a\"],[0.8888888888888888,\"#fdca26\"],[1.0,\"#f0f921\"]],\"sequentialminus\":[[0.0,\"#0d0887\"],[0.1111111111111111,\"#46039f\"],[0.2222222222222222,\"#7201a8\"],[0.3333333333333333,\"#9c179e\"],[0.4444444444444444,\"#bd3786\"],[0.5555555555555556,\"#d8576b\"],[0.6666666666666666,\"#ed7953\"],[0.7777777777777778,\"#fb9f3a\"],[0.8888888888888888,\"#fdca26\"],[1.0,\"#f0f921\"]],\"diverging\":[[0,\"#8e0152\"],[0.1,\"#c51b7d\"],[0.2,\"#de77ae\"],[0.3,\"#f1b6da\"],[0.4,\"#fde0ef\"],[0.5,\"#f7f7f7\"],[0.6,\"#e6f5d0\"],[0.7,\"#b8e186\"],[0.8,\"#7fbc41\"],[0.9,\"#4d9221\"],[1,\"#276419\"]]},\"xaxis\":{\"gridcolor\":\"white\",\"linecolor\":\"white\",\"ticks\":\"\",\"title\":{\"standoff\":15},\"zerolinecolor\":\"white\",\"automargin\":true,\"zerolinewidth\":2},\"yaxis\":{\"gridcolor\":\"white\",\"linecolor\":\"white\",\"ticks\":\"\",\"title\":{\"standoff\":15},\"zerolinecolor\":\"white\",\"automargin\":true,\"zerolinewidth\":2},\"scene\":{\"xaxis\":{\"backgroundcolor\":\"#E5ECF6\",\"gridcolor\":\"white\",\"linecolor\":\"white\",\"showbackground\":true,\"ticks\":\"\",\"zerolinecolor\":\"white\",\"gridwidth\":2},\"yaxis\":{\"backgroundcolor\":\"#E5ECF6\",\"gridcolor\":\"white\",\"linecolor\":\"white\",\"showbackground\":true,\"ticks\":\"\",\"zerolinecolor\":\"white\",\"gridwidth\":2},\"zaxis\":{\"backgroundcolor\":\"#E5ECF6\",\"gridcolor\":\"white\",\"linecolor\":\"white\",\"showbackground\":true,\"ticks\":\"\",\"zerolinecolor\":\"white\",\"gridwidth\":2}},\"shapedefaults\":{\"line\":{\"color\":\"#2a3f5f\"}},\"annotationdefaults\":{\"arrowcolor\":\"#2a3f5f\",\"arrowhead\":0,\"arrowwidth\":1},\"geo\":{\"bgcolor\":\"white\",\"landcolor\":\"#E5ECF6\",\"subunitcolor\":\"white\",\"showland\":true,\"showlakes\":true,\"lakecolor\":\"white\"},\"title\":{\"x\":0.05},\"mapbox\":{\"style\":\"light\"}}},\"xaxis\":{\"anchor\":\"y\",\"domain\":[0.0,1.0],\"title\":{\"text\":\"UMAP Component 1\"}},\"yaxis\":{\"anchor\":\"x\",\"domain\":[0.0,1.0],\"title\":{\"text\":\"UMAP Component 2\"}},\"legend\":{\"title\":{\"text\":\"Color\"},\"tracegroupgap\":0},\"margin\":{\"t\":60},\"title\":{\"text\":\"UMAP of Decoder Weights\"}},                        {\"responsive\": true}                    ).then(function(){\n",
              "                            \n",
              "var gd = document.getElementById('f5c4988c-95a0-4e82-b505-c34f3670c5a3');\n",
              "var x = new MutationObserver(function (mutations, observer) {{\n",
              "        var display = window.getComputedStyle(gd).display;\n",
              "        if (!display || display === 'none') {{\n",
              "            console.log([gd, 'removed!']);\n",
              "            Plotly.purge(gd);\n",
              "            observer.disconnect();\n",
              "        }}\n",
              "}});\n",
              "\n",
              "// Listen for the removal of the full notebook cells\n",
              "var notebookContainer = gd.closest('#notebook-container');\n",
              "if (notebookContainer) {{\n",
              "    x.observe(notebookContainer, {childList: true});\n",
              "}}\n",
              "\n",
              "// Listen for the clearing of the current output cell\n",
              "var outputEl = gd.closest('.output');\n",
              "if (outputEl) {{\n",
              "    x.observe(outputEl, {childList: true});\n",
              "}}\n",
              "\n",
              "                        })                };                            </script>        </div>\n",
              "</body>\n",
              "</html>"
            ]
          },
          "metadata": {},
          "output_type": "display_data"
        }
      ],
      "source": [
        "import plotly.express as px\n",
        "import numpy as np\n",
        "import pandas as pd\n",
        "\n",
        "df = pd.DataFrame(embedding1, columns=['UMAP Component 1', 'UMAP Component 2'])\n",
        "df['Feature ID'] = feature_subset\n",
        "# df['Feature Description']\n",
        "df['feature'] = [i[:75] for i in f_labels] # [str(i) for i in feature_subset] # feature_subset\n",
        "df['Color'] = df['Feature ID'].apply(lambda x: 'green' if x in common_feats else ('red' if x in months_only else 'blue'))\n",
        "\n",
        "fig = px.scatter(df, x='UMAP Component 1', y='UMAP Component 2', # text='Feature ID',\n",
        "                 color='Color',  # Use the Color column for coloring points\n",
        "                 color_discrete_map={'red': 'red', 'green': 'green', 'blue': 'blue'},\n",
        "                #  hover_data='Feature Description')\n",
        "                hover_data={\n",
        "                     'UMAP Component 1': False,\n",
        "                     'UMAP Component 2': False,\n",
        "                     'Feature ID': False,\n",
        "                     'Color': False,\n",
        "                     'feature': True  # Only display the feature description\n",
        "                 } ) #,\n",
        "                #  size=[0.1] * len(df))\n",
        "\n",
        "fig.update_layout(\n",
        "    title='UMAP of Decoder Weights',\n",
        "    xaxis_title='UMAP Component 1',\n",
        "    yaxis_title='UMAP Component 2'\n",
        ")\n",
        "\n",
        "# Customize legend labels\n",
        "fig.for_each_trace(lambda t: t.update(name = {\n",
        "    'red': 'I hate',\n",
        "    'green': 'Both',\n",
        "    'blue': 'I love'\n",
        "}[t.name]))\n",
        "\n",
        "fig.update_traces(marker=dict(size= 8))\n",
        "\n",
        "fig.show()"
      ]
    },
    {
      "cell_type": "markdown",
      "metadata": {
        "id": "NU3TRser6AdO"
      },
      "source": [
        "# load transformerlens"
      ]
    },
    {
      "cell_type": "code",
      "execution_count": null,
      "metadata": {
        "id": "44hx2_jY1SaC"
      },
      "outputs": [],
      "source": [
        "%%capture\n",
        "!pip install transformer_lens"
      ]
    },
    {
      "cell_type": "code",
      "execution_count": null,
      "metadata": {
        "colab": {
          "base_uri": "https://localhost:8080/",
          "height": 72
        },
        "id": "VbJhCygk1Vbq",
        "outputId": "b2cc9d8d-edf8-44f7-85d7-88e9a76240bf"
      },
      "outputs": [
        {
          "output_type": "stream",
          "name": "stderr",
          "text": [
            "WARNING:root:You tried to specify center_unembed=True for a model using logit softcap, but this can't be done! Softcapping is not invariant upon adding a constantSetting center_unembed=False instead.\n",
            "WARNING:root:You are not using LayerNorm, so the writing weights can't be centered! Skipping\n"
          ]
        }
      ],
      "source": [
        "%%capture\n",
        "from transformer_lens import HookedTransformer\n",
        "\n",
        "# uses a lot of memory, use A100\n",
        "model_2 = HookedTransformer.from_pretrained(\n",
        "    \"gemma-2-2b\"\n",
        ")"
      ]
    },
    {
      "cell_type": "code",
      "execution_count": null,
      "metadata": {
        "colab": {
          "base_uri": "https://localhost:8080/",
          "height": 35
        },
        "id": "_A1usnkP2UXD",
        "outputId": "2c542c75-76fc-45f3-c072-2d251961e602"
      },
      "outputs": [
        {
          "data": {
            "application/vnd.google.colaboratory.intrinsic+json": {
              "type": "string"
            },
            "text/plain": [
              "' May'"
            ]
          },
          "execution_count": 28,
          "metadata": {},
          "output_type": "execute_result"
        }
      ],
      "source": [
        "prompt = \"January February March April\"\n",
        "tokens = model_2.to_tokens(prompt).to(device)\n",
        "logits = model_2(tokens)\n",
        "\n",
        "next_token = logits[0, -1].argmax(dim=-1)\n",
        "next_char = model_2.to_string(next_token)\n",
        "next_char"
      ]
    },
    {
      "cell_type": "code",
      "execution_count": null,
      "metadata": {
        "id": "k027lZ_myiTS"
      },
      "outputs": [],
      "source": [
        "# replace LLM actvs in that layer with decoder output\n",
        "\n",
        "from transformer_lens.hook_points import HookPoint\n",
        "from functools import partial\n",
        "from jaxtyping import Float, Int\n",
        "\n",
        "layer_name = 'blocks.20.hook_resid_post'\n",
        "\n",
        "def patch_layer(\n",
        "    orig_actvs: Float[Tensor, \"batch pos d_model\"],\n",
        "    hook: HookPoint,\n",
        "    LLM_patch: Float[Tensor, \"batch pos d_model\"],\n",
        "    layer_to_patch: int,\n",
        ") -> Float[Tensor, \"batch pos d_model\"]:\n",
        "    if layer_to_patch == hook.layer():\n",
        "        orig_actvs[:, :, :] = LLM_patch\n",
        "    return orig_actvs\n",
        "\n",
        "hook_fn = partial(\n",
        "        patch_layer,\n",
        "        LLM_patch=LLM_patch,\n",
        "        layer_to_patch = 20\n",
        "    )\n",
        "\n",
        "# if you use run_with_cache, you need to add_hook before\n",
        "# if you use run_with_hooks, you dont need add_hook, just add it in fwd_hooks arg\n",
        "# no need to reset hoooks after since run_with_hooks isn't permanent like add_hook with perm arg\n",
        "\n",
        "# rerun clean inputs on ablated model\n",
        "ablated_logits = model_2.run_with_hooks(tokens,\n",
        "                    fwd_hooks=[\n",
        "                        (layer_name, hook_fn),\n",
        "                    ]\n",
        "                )"
      ]
    },
    {
      "cell_type": "code",
      "execution_count": null,
      "metadata": {
        "colab": {
          "base_uri": "https://localhost:8080/",
          "height": 35
        },
        "id": "312awXdL4-Q3",
        "outputId": "6b56095d-d0d1-4e4a-f427-0b17b494f100"
      },
      "outputs": [
        {
          "data": {
            "application/vnd.google.colaboratory.intrinsic+json": {
              "type": "string"
            },
            "text/plain": [
              "'<pad>'"
            ]
          },
          "execution_count": 27,
          "metadata": {},
          "output_type": "execute_result"
        }
      ],
      "source": [
        "next_token = ablated_logits[0, -1].argmax(dim=-1)\n",
        "next_char = model_2.to_string(next_token)\n",
        "next_char"
      ]
    },
    {
      "cell_type": "markdown",
      "metadata": {
        "id": "Qple37K-DDJ2"
      },
      "source": [
        "# steer nums to months"
      ]
    },
    {
      "cell_type": "markdown",
      "source": [
        "## steering sae fns"
      ],
      "metadata": {
        "id": "Sq7zigEtnZHC"
      }
    },
    {
      "cell_type": "code",
      "source": [
        "def steer_by_sae_actvs(prompt, steer_vec, multp):\n",
        "    tokens = model_2.to_tokens(prompt).to(device)\n",
        "    inputs = tokenizer.encode(prompt, return_tensors=\"pt\", add_special_tokens=True).to(\"cuda\")\n",
        "    target_act = gather_residual_activations(model, 20, inputs)\n",
        "    sae_acts_3 = sae.encode(target_act.to(torch.float32))\n",
        "\n",
        "    sae_acts_3  += multp * steer_vec # in-place\n",
        "    recon = sae.decode(sae_acts_3)\n",
        "    recon.shape\n",
        "\n",
        "    # replace LLM actvs in that layer with decoder output\n",
        "\n",
        "    layer_name = 'blocks.20.hook_resid_post'\n",
        "\n",
        "    def patch_layer(\n",
        "        orig_actvs: Float[Tensor, \"batch pos d_model\"],\n",
        "        hook: HookPoint,\n",
        "        LLM_patch: Float[Tensor, \"batch pos d_model\"],\n",
        "        layer_to_patch: int,\n",
        "    ) -> Float[Tensor, \"batch pos d_model\"]:\n",
        "        if layer_to_patch == hook.layer():\n",
        "            orig_actvs[:, :, :] = LLM_patch\n",
        "        return orig_actvs\n",
        "\n",
        "    hook_fn = partial(\n",
        "            patch_layer,\n",
        "            LLM_patch= recon,\n",
        "            layer_to_patch = 20\n",
        "        )\n",
        "\n",
        "    # if you use run_with_cache, you need to add_hook before\n",
        "    # if you use run_with_hooks, you dont need add_hook, just add it in fwd_hooks arg\n",
        "    # no need to reset hoooks after since run_with_hooks isn't permanent like add_hook with perm arg\n",
        "\n",
        "    # rerun clean inputs on ablated model\n",
        "    ablated_logits = model_2.run_with_hooks(tokens,\n",
        "                        fwd_hooks=[\n",
        "                            (layer_name, hook_fn),\n",
        "                        ]\n",
        "                    )\n",
        "\n",
        "    next_token = ablated_logits[0, -1].argmax(dim=-1)\n",
        "    next_char = model_2.to_string(next_token)\n",
        "    print(next_char)"
      ],
      "metadata": {
        "id": "jFNTpD20pdCj"
      },
      "execution_count": null,
      "outputs": []
    },
    {
      "cell_type": "code",
      "source": [
        "def steer_by_sae_lastTok(prompt, steer_vec, multp):\n",
        "    tokens = model_2.to_tokens(prompt).to(device)\n",
        "    inputs = tokenizer.encode(prompt, return_tensors=\"pt\", add_special_tokens=True).to(\"cuda\")\n",
        "    target_act = gather_residual_activations(model, 20, inputs)\n",
        "    sae_acts_3 = sae.encode(target_act.to(torch.float32))\n",
        "\n",
        "    sae_acts_3[:, -1, :]  += multp * steer_vec[:, -1, :] # in-place\n",
        "    recon = sae.decode(sae_acts_3)\n",
        "    recon.shape\n",
        "\n",
        "    # replace LLM actvs in that layer with decoder output\n",
        "\n",
        "    layer_name = 'blocks.20.hook_resid_post'\n",
        "\n",
        "    def patch_layer(\n",
        "        orig_actvs: Float[Tensor, \"batch pos d_model\"],\n",
        "        hook: HookPoint,\n",
        "        LLM_patch: Float[Tensor, \"batch pos d_model\"],\n",
        "        layer_to_patch: int,\n",
        "    ) -> Float[Tensor, \"batch pos d_model\"]:\n",
        "        if layer_to_patch == hook.layer():\n",
        "            orig_actvs[:, :, :] = LLM_patch\n",
        "        return orig_actvs\n",
        "\n",
        "    hook_fn = partial(\n",
        "            patch_layer,\n",
        "            LLM_patch= recon,\n",
        "            layer_to_patch = 20\n",
        "        )\n",
        "\n",
        "    # if you use run_with_cache, you need to add_hook before\n",
        "    # if you use run_with_hooks, you dont need add_hook, just add it in fwd_hooks arg\n",
        "    # no need to reset hoooks after since run_with_hooks isn't permanent like add_hook with perm arg\n",
        "\n",
        "    # rerun clean inputs on ablated model\n",
        "    ablated_logits = model_2.run_with_hooks(tokens,\n",
        "                        fwd_hooks=[\n",
        "                            (layer_name, hook_fn),\n",
        "                        ]\n",
        "                    )\n",
        "\n",
        "    next_token = ablated_logits[0, -1].argmax(dim=-1)\n",
        "    next_char = model_2.to_string(next_token)\n",
        "    print(next_char)"
      ],
      "metadata": {
        "id": "xw8f93bInk2_"
      },
      "execution_count": null,
      "outputs": []
    },
    {
      "cell_type": "markdown",
      "source": [
        "## get mean steer vec"
      ],
      "metadata": {
        "id": "ASLovJgAiBNW"
      }
    },
    {
      "cell_type": "code",
      "execution_count": null,
      "metadata": {
        "id": "RBHGUJb9aXq3"
      },
      "outputs": [],
      "source": [
        "from transformer_lens.hook_points import HookPoint\n",
        "from functools import partial\n",
        "from jaxtyping import Float, Int"
      ]
    },
    {
      "cell_type": "code",
      "execution_count": null,
      "metadata": {
        "id": "XU2rwpXsaP0-"
      },
      "outputs": [],
      "source": [
        "words = ['one', 'two', 'three', 'four', 'five', 'six', 'seven', 'eight', 'nine', 'ten', 'eleven', 'twelve']\n",
        "numword_samps = []\n",
        "for i in range(0, 9):\n",
        "    samp = f\"{words[i]} {words[i+1]} {words[i+2]} {words[i+3]}\"\n",
        "    numword_samps.append(samp)\n",
        "inputs = tokenizer(numword_samps, return_tensors=\"pt\", padding=True, truncation=True, max_length=300)['input_ids'].to(\"cuda\")\n",
        "target_act = gather_residual_activations(model, 20, inputs)\n",
        "sae_acts_1 = sae.encode(target_act.to(torch.float32))"
      ]
    },
    {
      "cell_type": "code",
      "execution_count": null,
      "metadata": {
        "id": "to4_8U_TaP1H"
      },
      "outputs": [],
      "source": [
        "words = ['January', 'February', 'March', 'April', 'May', 'June', 'July', 'August', 'September', 'October', 'November', 'December']\n",
        "month_samps = []\n",
        "for i in range(0, 9):\n",
        "    samp = f\"{words[i]} {words[i+1]} {words[i+2]} {words[i+3]}\"\n",
        "    month_samps.append(samp)\n",
        "inputs = tokenizer(month_samps, return_tensors=\"pt\", padding=True, truncation=True, max_length=300)['input_ids'].to(\"cuda\")\n",
        "target_act = gather_residual_activations(model, 20, inputs)\n",
        "sae_acts_2 = sae.encode(target_act.to(torch.float32))"
      ]
    },
    {
      "cell_type": "markdown",
      "metadata": {
        "id": "gu5oafhCYWQT"
      },
      "source": [
        "pair each num prompt with its months analogue, and subtract"
      ]
    },
    {
      "cell_type": "code",
      "source": [
        "months_min_nw = sae_acts_2 - sae_acts_1\n",
        "months_min_nw[:, -1, 6618]"
      ],
      "metadata": {
        "colab": {
          "base_uri": "https://localhost:8080/"
        },
        "id": "e0YcvTXaerc7",
        "outputId": "cd72ec4e-716c-4fb7-d299-04fd24373f89"
      },
      "execution_count": null,
      "outputs": [
        {
          "output_type": "execute_result",
          "data": {
            "text/plain": [
              "tensor([  0.0000,   0.0000,   0.0000,  12.0152,   8.0763,   0.0000,  -8.9768,\n",
              "        -16.3836, -27.3565], device='cuda:0')"
            ]
          },
          "metadata": {},
          "execution_count": 46
        }
      ]
    },
    {
      "cell_type": "code",
      "source": [
        "sae_acts_2[:, -1, 6618]"
      ],
      "metadata": {
        "colab": {
          "base_uri": "https://localhost:8080/"
        },
        "id": "xaSda5lKep6u",
        "outputId": "c0b7e9b6-dd41-4adb-c0e2-09f2d4d195ee"
      },
      "execution_count": null,
      "outputs": [
        {
          "output_type": "execute_result",
          "data": {
            "text/plain": [
              "tensor([ 0.0000,  0.0000,  0.0000, 12.0152,  8.0763,  0.0000,  0.0000, 30.5049,\n",
              "        27.3143], device='cuda:0')"
            ]
          },
          "metadata": {},
          "execution_count": 45
        }
      ]
    },
    {
      "cell_type": "code",
      "source": [
        "months_min_nw.shape"
      ],
      "metadata": {
        "colab": {
          "base_uri": "https://localhost:8080/"
        },
        "id": "iGFADM58gAKY",
        "outputId": "05becbb4-20e1-4115-97e2-22707f7b4bc3"
      },
      "execution_count": null,
      "outputs": [
        {
          "output_type": "execute_result",
          "data": {
            "text/plain": [
              "torch.Size([9, 5, 16384])"
            ]
          },
          "metadata": {},
          "execution_count": 49
        }
      ]
    },
    {
      "cell_type": "code",
      "source": [
        "mean_months_min_nw = months_min_nw.mean(dim=0)\n",
        "mean_months_min_nw = mean_months_min_nw.unsqueeze(0)\n",
        "mean_months_min_nw.shape"
      ],
      "metadata": {
        "colab": {
          "base_uri": "https://localhost:8080/"
        },
        "id": "BLBXBEESgBqJ",
        "outputId": "f78e6639-f24b-4f9d-fc11-996309f41dcc"
      },
      "execution_count": null,
      "outputs": [
        {
          "output_type": "execute_result",
          "data": {
            "text/plain": [
              "torch.Size([1, 5, 16384])"
            ]
          },
          "metadata": {},
          "execution_count": 52
        }
      ]
    },
    {
      "cell_type": "code",
      "execution_count": null,
      "metadata": {
        "colab": {
          "base_uri": "https://localhost:8080/"
        },
        "id": "P_0ixDjwDaBN",
        "outputId": "90da380e-fec7-4533-ff55-3767131f0f8e"
      },
      "outputs": [
        {
          "data": {
            "text/plain": [
              "torch.Size([1, 5, 2304])"
            ]
          },
          "execution_count": 196,
          "metadata": {},
          "output_type": "execute_result"
        }
      ],
      "source": [
        "\"\"\"replace features of input X with features from input Y\"\"\"\n",
        "\n",
        "# months_only = set((two_top_acts_indices).tolist()) - set((one_top_acts_indices).tolist())\n",
        "# for f_ind in list(months_only):\n",
        "#     sae_acts_1[0, -1, f_ind] = sae_acts_2[0, -1, f_ind]\n",
        "# recon = sae.decode(sae_acts_1)\n",
        "# recon.shape"
      ]
    },
    {
      "cell_type": "markdown",
      "source": [
        "## test recon, no steer"
      ],
      "metadata": {
        "id": "o4fXmMc9h8SI"
      }
    },
    {
      "cell_type": "code",
      "execution_count": null,
      "metadata": {
        "colab": {
          "base_uri": "https://localhost:8080/",
          "height": 35
        },
        "id": "q75KQ5NmFKMh",
        "outputId": "c6a355df-8c20-43aa-ddeb-01099076d2e0"
      },
      "outputs": [
        {
          "output_type": "execute_result",
          "data": {
            "text/plain": [
              "' seven'"
            ],
            "application/vnd.google.colaboratory.intrinsic+json": {
              "type": "string"
            }
          },
          "metadata": {},
          "execution_count": 47
        }
      ],
      "source": [
        "prompt = \"three four five six\"\n",
        "tokens = model_2.to_tokens(prompt).to(device)\n",
        "inputs = tokenizer.encode(prompt, return_tensors=\"pt\", add_special_tokens=True).to(\"cuda\")\n",
        "target_act = gather_residual_activations(model, 20, inputs)\n",
        "sae_acts_3 = sae.encode(target_act.to(torch.float32))\n",
        "\n",
        "recon = sae.decode(sae_acts_3)\n",
        "recon.shape\n",
        "\n",
        "# replace LLM actvs in that layer with decoder output\n",
        "\n",
        "layer_name = 'blocks.20.hook_resid_post'\n",
        "\n",
        "def patch_layer(\n",
        "    orig_actvs: Float[Tensor, \"batch pos d_model\"],\n",
        "    hook: HookPoint,\n",
        "    LLM_patch: Float[Tensor, \"batch pos d_model\"],\n",
        "    layer_to_patch: int,\n",
        ") -> Float[Tensor, \"batch pos d_model\"]:\n",
        "    if layer_to_patch == hook.layer():\n",
        "        orig_actvs[:, :, :] = LLM_patch\n",
        "    return orig_actvs\n",
        "\n",
        "hook_fn = partial(\n",
        "        patch_layer,\n",
        "        LLM_patch= recon,\n",
        "        layer_to_patch = 20\n",
        "    )\n",
        "\n",
        "# if you use run_with_cache, you need to add_hook before\n",
        "# if you use run_with_hooks, you dont need add_hook, just add it in fwd_hooks arg\n",
        "# no need to reset hoooks after since run_with_hooks isn't permanent like add_hook with perm arg\n",
        "\n",
        "# rerun clean inputs on ablated model\n",
        "ablated_logits = model_2.run_with_hooks(tokens,\n",
        "                    fwd_hooks=[\n",
        "                        (layer_name, hook_fn),\n",
        "                    ]\n",
        "                )\n",
        "\n",
        "next_token = ablated_logits[0, -1].argmax(dim=-1)\n",
        "next_char = model_2.to_string(next_token)\n",
        "next_char"
      ]
    },
    {
      "cell_type": "markdown",
      "metadata": {
        "id": "pjCWyi0PFn7P"
      },
      "source": [
        "## steer nw"
      ]
    },
    {
      "cell_type": "code",
      "source": [
        "prompt = \"three four five six\"\n",
        "steer_vec = mean_months_min_nw\n",
        "multp = 1\n",
        "steer_by_sae_actvs(prompt, steer_vec, multp)"
      ],
      "metadata": {
        "colab": {
          "base_uri": "https://localhost:8080/"
        },
        "id": "X--RbsU7pvUK",
        "outputId": "0129a5be-3fa7-4516-c98d-7696b4dda15c"
      },
      "execution_count": null,
      "outputs": [
        {
          "output_type": "stream",
          "name": "stdout",
          "text": [
            " July\n"
          ]
        }
      ]
    },
    {
      "cell_type": "code",
      "source": [
        "prompt = \"three four five six\"\n",
        "steer_vec = mean_months_min_nw\n",
        "multp = 5\n",
        "steer_by_sae_actvs(prompt, steer_vec, multp)"
      ],
      "metadata": {
        "colab": {
          "base_uri": "https://localhost:8080/"
        },
        "id": "-GvtgKdJrVxh",
        "outputId": "f25423e1-d56d-4848-f5a6-d8841dfcf301"
      },
      "execution_count": null,
      "outputs": [
        {
          "output_type": "stream",
          "name": "stdout",
          "text": [
            " October\n"
          ]
        }
      ]
    },
    {
      "cell_type": "code",
      "source": [
        "prompt = \"four five six seven\"\n",
        "steer_vec = mean_months_min_nw\n",
        "multp = 1\n",
        "steer_by_sae_actvs(prompt, steer_vec, multp)"
      ],
      "metadata": {
        "colab": {
          "base_uri": "https://localhost:8080/"
        },
        "id": "JNbgzBUqrZPX",
        "outputId": "5287f4e1-8ef4-449b-a80e-dd2fb8865580"
      },
      "execution_count": null,
      "outputs": [
        {
          "output_type": "stream",
          "name": "stdout",
          "text": [
            " August\n"
          ]
        }
      ]
    },
    {
      "cell_type": "code",
      "source": [
        "prompt = \"five six seven eight\"\n",
        "steer_vec = mean_months_min_nw\n",
        "multp = 1\n",
        "steer_by_sae_actvs(prompt, steer_vec, multp)"
      ],
      "metadata": {
        "colab": {
          "base_uri": "https://localhost:8080/"
        },
        "id": "IAeAwWZJrcqs",
        "outputId": "e0441757-dce6-4d48-e33d-98b78e96c656"
      },
      "execution_count": null,
      "outputs": [
        {
          "output_type": "stream",
          "name": "stdout",
          "text": [
            " September\n"
          ]
        }
      ]
    },
    {
      "cell_type": "markdown",
      "source": [
        "## only steer by last token"
      ],
      "metadata": {
        "id": "FEXz_zX9iZoi"
      }
    },
    {
      "cell_type": "code",
      "source": [
        "prompt = \"three four five six\"\n",
        "tokens = model_2.to_tokens(prompt).to(device)\n",
        "inputs = tokenizer.encode(prompt, return_tensors=\"pt\", add_special_tokens=True).to(\"cuda\")\n",
        "target_act = gather_residual_activations(model, 20, inputs)\n",
        "sae_acts_3 = sae.encode(target_act.to(torch.float32))\n",
        "\n",
        "# sae_acts_3 += mean_months_min_nw[:, -1, :] # in-place but will broadcast\n",
        "sae_acts_3[:, -1, :] += mean_months_min_nw[:, -1, :] # in-place\n",
        "# sae_acts_3 + mean_months_min_nw[:, -1, :] # create new tensor\n",
        "\n",
        "recon = sae.decode(sae_acts_3) # + (mean_months_min_nw)\n",
        "recon.shape\n",
        "\n",
        "# replace LLM actvs in that layer with decoder output\n",
        "\n",
        "from transformer_lens.hook_points import HookPoint\n",
        "from functools import partial\n",
        "from jaxtyping import Float, Int\n",
        "\n",
        "layer_name = 'blocks.20.hook_resid_post'\n",
        "\n",
        "def patch_layer(\n",
        "    orig_actvs: Float[Tensor, \"batch pos d_model\"],\n",
        "    hook: HookPoint,\n",
        "    LLM_patch: Float[Tensor, \"batch pos d_model\"],\n",
        "    layer_to_patch: int,\n",
        ") -> Float[Tensor, \"batch pos d_model\"]:\n",
        "    if layer_to_patch == hook.layer():\n",
        "        orig_actvs[:, :, :] = LLM_patch\n",
        "    return orig_actvs\n",
        "\n",
        "hook_fn = partial(\n",
        "        patch_layer,\n",
        "        LLM_patch= recon,\n",
        "        layer_to_patch = 20\n",
        "    )\n",
        "\n",
        "# if you use run_with_cache, you need to add_hook before\n",
        "# if you use run_with_hooks, you dont need add_hook, just add it in fwd_hooks arg\n",
        "# no need to reset hoooks after since run_with_hooks isn't permanent like add_hook with perm arg\n",
        "\n",
        "# rerun clean inputs on ablated model\n",
        "ablated_logits = model_2.run_with_hooks(tokens,\n",
        "                    fwd_hooks=[\n",
        "                        (layer_name, hook_fn),\n",
        "                    ]\n",
        "                )\n",
        "\n",
        "next_token = ablated_logits[0, -1].argmax(dim=-1)\n",
        "next_char = model_2.to_string(next_token)\n",
        "next_char"
      ],
      "metadata": {
        "colab": {
          "base_uri": "https://localhost:8080/",
          "height": 35
        },
        "id": "PrER0oG1iLdF",
        "outputId": "2947b326-225b-4dd1-83e9-9c6f727e2dea"
      },
      "execution_count": null,
      "outputs": [
        {
          "output_type": "execute_result",
          "data": {
            "text/plain": [
              "'\\n'"
            ],
            "application/vnd.google.colaboratory.intrinsic+json": {
              "type": "string"
            }
          },
          "metadata": {},
          "execution_count": 92
        }
      ]
    },
    {
      "cell_type": "code",
      "source": [
        "prompt = \"three four five six\"\n",
        "steer_vec = mean_months_min_nw\n",
        "multp = 1\n",
        "steer_by_sae_actvs(prompt, steer_vec, multp)"
      ],
      "metadata": {
        "colab": {
          "base_uri": "https://localhost:8080/"
        },
        "id": "pZQqUxTnoJi_",
        "outputId": "d71d9e8d-0706-4093-b128-788e593793e4"
      },
      "execution_count": null,
      "outputs": [
        {
          "output_type": "stream",
          "name": "stdout",
          "text": [
            "\n",
            "\n"
          ]
        }
      ]
    },
    {
      "cell_type": "code",
      "source": [
        "prompt = \"three four five six\"\n",
        "steer_vec = mean_months_min_nw\n",
        "multp = 5\n",
        "steer_by_sae_actvs(prompt, steer_vec, multp)"
      ],
      "metadata": {
        "colab": {
          "base_uri": "https://localhost:8080/"
        },
        "id": "pqLbmgKoo4bX",
        "outputId": "0b4c5e6a-6c45-4a6f-aad8-d600fcfdcadf"
      },
      "execution_count": null,
      "outputs": [
        {
          "output_type": "stream",
          "name": "stdout",
          "text": [
            " \n"
          ]
        }
      ]
    },
    {
      "cell_type": "code",
      "source": [
        "prompt = \"three four five six\"\n",
        "steer_vec = mean_months_min_nw\n",
        "multp = 10\n",
        "steer_by_sae_actvs(prompt, steer_vec, multp)"
      ],
      "metadata": {
        "colab": {
          "base_uri": "https://localhost:8080/"
        },
        "id": "9CkkzWp2ojKI",
        "outputId": "919e7292-6904-4292-dcb7-73762ddd0e25"
      },
      "execution_count": null,
      "outputs": [
        {
          "output_type": "stream",
          "name": "stdout",
          "text": [
            " December\n"
          ]
        }
      ]
    },
    {
      "cell_type": "markdown",
      "source": [
        "## steer numerals"
      ],
      "metadata": {
        "id": "WdqP7_j0ojsz"
      }
    },
    {
      "cell_type": "markdown",
      "source": [
        "Remember it will predict empty token next, so you must add space to end of prompt"
      ],
      "metadata": {
        "id": "S_je_c_JvFDg"
      }
    },
    {
      "cell_type": "code",
      "source": [
        "prompt = \"3 4 5 6\"\n",
        "tokens = model_2.to_tokens(prompt).to(device)\n",
        "inputs = tokenizer.encode(prompt, return_tensors=\"pt\", add_special_tokens=True).to(\"cuda\")\n",
        "target_act = gather_residual_activations(model, 20, inputs)\n",
        "sae_acts_3 = sae.encode(target_act.to(torch.float32))\n",
        "sae_acts_3.shape"
      ],
      "metadata": {
        "colab": {
          "base_uri": "https://localhost:8080/"
        },
        "id": "pIT4uyJ1iP-J",
        "outputId": "ee83c0ef-9281-4e95-bf9f-8dd50d6b4bd9"
      },
      "execution_count": null,
      "outputs": [
        {
          "output_type": "execute_result",
          "data": {
            "text/plain": [
              "torch.Size([1, 8, 16384])"
            ]
          },
          "metadata": {},
          "execution_count": 101
        }
      ]
    },
    {
      "cell_type": "code",
      "source": [
        "prompt = \"3 4 5 6 \"\n",
        "steer_vec = mean_months_min_nw\n",
        "multp = 1\n",
        "steer_by_sae_lastTok(prompt, steer_vec, multp)"
      ],
      "metadata": {
        "colab": {
          "base_uri": "https://localhost:8080/"
        },
        "id": "knzacB4opUsg",
        "outputId": "b7f86f42-21c7-4067-8a4a-4d3512afd190"
      },
      "execution_count": null,
      "outputs": [
        {
          "output_type": "stream",
          "name": "stdout",
          "text": [
            "7\n"
          ]
        }
      ]
    },
    {
      "cell_type": "code",
      "source": [
        "prompt = \"3 4 5 6 \"\n",
        "steer_vec = mean_months_min_nw\n",
        "multp = 5\n",
        "steer_by_sae_lastTok(prompt, steer_vec, multp)"
      ],
      "metadata": {
        "colab": {
          "base_uri": "https://localhost:8080/"
        },
        "id": "PUB-8WwWpZxO",
        "outputId": "8105cfb2-0a0e-4c96-b7dc-88845154cffc"
      },
      "execution_count": null,
      "outputs": [
        {
          "output_type": "stream",
          "name": "stdout",
          "text": [
            "<h6>\n"
          ]
        }
      ]
    },
    {
      "cell_type": "code",
      "source": [
        "prompt = \"3 4 5 6 \"\n",
        "steer_vec = mean_months_min_nw\n",
        "multp = 10\n",
        "steer_by_sae_lastTok(prompt, steer_vec, multp)"
      ],
      "metadata": {
        "colab": {
          "base_uri": "https://localhost:8080/"
        },
        "id": "bCCV-r_cp-qz",
        "outputId": "358243b0-7c5b-438b-ae6a-265565ddd2d4"
      },
      "execution_count": null,
      "outputs": [
        {
          "output_type": "stream",
          "name": "stdout",
          "text": [
            "December\n"
          ]
        }
      ]
    },
    {
      "cell_type": "markdown",
      "source": [
        "## steer nw prompts not used to make sv"
      ],
      "metadata": {
        "id": "FQGZNUwnhzAs"
      }
    },
    {
      "cell_type": "code",
      "execution_count": null,
      "metadata": {
        "id": "FrDF8lHSiGJc"
      },
      "outputs": [],
      "source": [
        "words = ['one', 'two', 'three', 'four', 'five', 'six', 'seven']\n",
        "numword_samps = []\n",
        "for i in range(0, 4):\n",
        "    samp = f\"{words[i]} {words[i+1]} {words[i+2]} {words[i+3]}\"\n",
        "    numword_samps.append(samp)\n",
        "inputs = tokenizer(numword_samps, return_tensors=\"pt\", padding=True, truncation=True, max_length=300)['input_ids'].to(\"cuda\")\n",
        "target_act = gather_residual_activations(model, 20, inputs)\n",
        "sae_acts_1 = sae.encode(target_act.to(torch.float32))"
      ]
    },
    {
      "cell_type": "code",
      "execution_count": null,
      "metadata": {
        "id": "M7r5FEDLiGJc"
      },
      "outputs": [],
      "source": [
        "words = ['January', 'February', 'March', 'April', 'May', 'June', 'July']\n",
        "month_samps = []\n",
        "for i in range(0, 4):\n",
        "    samp = f\"{words[i]} {words[i+1]} {words[i+2]} {words[i+3]}\"\n",
        "    month_samps.append(samp)\n",
        "inputs = tokenizer(month_samps, return_tensors=\"pt\", padding=True, truncation=True, max_length=300)['input_ids'].to(\"cuda\")\n",
        "target_act = gather_residual_activations(model, 20, inputs)\n",
        "sae_acts_2 = sae.encode(target_act.to(torch.float32))"
      ]
    },
    {
      "cell_type": "markdown",
      "metadata": {
        "id": "pD86Dyz0iGJe"
      },
      "source": [
        "pair each num prompt with its months analogue, and subtract"
      ]
    },
    {
      "cell_type": "code",
      "source": [
        "months_min_nw_toJuly = sae_acts_2 - sae_acts_1\n",
        "mean_months_min_nw_toJuly = months_min_nw_toJuly.mean(dim=0)\n",
        "mean_months_min_nw_toJuly = mean_months_min_nw_toJuly.unsqueeze(0)\n",
        "mean_months_min_nw_toJuly.shape"
      ],
      "metadata": {
        "colab": {
          "base_uri": "https://localhost:8080/"
        },
        "outputId": "33186104-0ee9-4cef-f3ac-c5d01d347461",
        "id": "A-pNOpk1iGJi"
      },
      "execution_count": null,
      "outputs": [
        {
          "output_type": "execute_result",
          "data": {
            "text/plain": [
              "torch.Size([1, 5, 16384])"
            ]
          },
          "metadata": {},
          "execution_count": 74
        }
      ]
    },
    {
      "cell_type": "markdown",
      "source": [
        "### steer"
      ],
      "metadata": {
        "id": "4lSLvqO5mA78"
      }
    },
    {
      "cell_type": "code",
      "source": [
        "prompt = \"four five six seven\"\n",
        "steer_vec = mean_months_min_nw_toJuly\n",
        "multp = 1\n",
        "steer_by_sae_lastTok(prompt, steer_vec, multp)"
      ],
      "metadata": {
        "colab": {
          "base_uri": "https://localhost:8080/"
        },
        "id": "nLk61L6RqDSv",
        "outputId": "d4607a77-3c44-41e6-cb6d-fe4b092777fe"
      },
      "execution_count": null,
      "outputs": [
        {
          "output_type": "stream",
          "name": "stdout",
          "text": [
            " \n"
          ]
        }
      ]
    },
    {
      "cell_type": "code",
      "source": [
        "# aim: try to get August (8)\n",
        "prompt = \"four five six seven\"\n",
        "steer_vec = mean_months_min_nw_toJuly\n",
        "multp = 3\n",
        "steer_by_sae_lastTok(prompt, steer_vec, multp)"
      ],
      "metadata": {
        "colab": {
          "base_uri": "https://localhost:8080/"
        },
        "id": "UFFNEwHyqIrt",
        "outputId": "c3400027-d227-4834-9d74-5e502ebe7dae"
      },
      "execution_count": null,
      "outputs": [
        {
          "output_type": "stream",
          "name": "stdout",
          "text": [
            " August\n"
          ]
        }
      ]
    },
    {
      "cell_type": "code",
      "source": [
        "# aim: try to get August (8)\n",
        "prompt = \"five six seven\"\n",
        "steer_vec = mean_months_min_nw_toJuly\n",
        "multp = 1\n",
        "steer_by_sae_lastTok(prompt, steer_vec, multp)"
      ],
      "metadata": {
        "colab": {
          "base_uri": "https://localhost:8080/"
        },
        "id": "iNzM-tfAsIVY",
        "outputId": "1fd9ba40-caef-4c63-cc92-b447e094840d"
      },
      "execution_count": null,
      "outputs": [
        {
          "output_type": "stream",
          "name": "stdout",
          "text": [
            " August\n"
          ]
        }
      ]
    },
    {
      "cell_type": "code",
      "source": [
        "# aim: try to get September (9)\n",
        "prompt = \"five six seven eight\"\n",
        "steer_vec = mean_months_min_nw_toJuly\n",
        "multp = 5 # 4 doesn't work\n",
        "steer_by_sae_lastTok(prompt, steer_vec, multp)"
      ],
      "metadata": {
        "colab": {
          "base_uri": "https://localhost:8080/"
        },
        "id": "ibb73uz5qK6M",
        "outputId": "600b6703-bc7b-4c74-93a3-3934ef197e64"
      },
      "execution_count": null,
      "outputs": [
        {
          "output_type": "stream",
          "name": "stdout",
          "text": [
            " July\n"
          ]
        }
      ]
    },
    {
      "cell_type": "code",
      "source": [
        "# aim: try to get September (9)\n",
        "prompt = \"five six seven eight\"\n",
        "steer_vec = mean_months_min_nw_toJuly\n",
        "multp = -10\n",
        "steer_by_sae_lastTok(prompt, steer_vec, multp)"
      ],
      "metadata": {
        "colab": {
          "base_uri": "https://localhost:8080/"
        },
        "id": "zDYBbHo_qRvS",
        "outputId": "2ac80af4-79f9-43f9-b40e-0e403df6d5f1"
      },
      "execution_count": null,
      "outputs": [
        {
          "output_type": "stream",
          "name": "stdout",
          "text": [
            " nine\n"
          ]
        }
      ]
    },
    {
      "cell_type": "code",
      "source": [
        "# aim: try to get September (9)\n",
        "prompt = \"five six seven eight\"\n",
        "steer_vec = mean_months_min_nw_toJuly\n",
        "multp = 100\n",
        "steer_by_sae_lastTok(prompt, steer_vec, multp)"
      ],
      "metadata": {
        "colab": {
          "base_uri": "https://localhost:8080/"
        },
        "outputId": "696e168c-c54d-4be1-bfae-16fc33e0ec77",
        "id": "E1QGPoCWrjDD"
      },
      "execution_count": null,
      "outputs": [
        {
          "output_type": "stream",
          "name": "stdout",
          "text": [
            "June\n"
          ]
        }
      ]
    },
    {
      "cell_type": "code",
      "source": [
        "# aim: try to get September (9)\n",
        "prompt = \"five six seven eight\"\n",
        "steer_vec = mean_months_min_nw_toJuly\n",
        "multp = 4\n",
        "steer_by_sae_actvs(prompt, steer_vec, multp)"
      ],
      "metadata": {
        "colab": {
          "base_uri": "https://localhost:8080/"
        },
        "id": "UTise80GsUfa",
        "outputId": "58118b6c-b645-42c2-84fa-28b143b74e65"
      },
      "execution_count": null,
      "outputs": [
        {
          "output_type": "stream",
          "name": "stdout",
          "text": [
            " July\n"
          ]
        }
      ]
    },
    {
      "cell_type": "code",
      "source": [
        "# aim: try to get September (9)\n",
        "prompt = \"six seven eight\"\n",
        "steer_vec = mean_months_min_nw_toJuly\n",
        "multp = 1\n",
        "steer_by_sae_lastTok(prompt, steer_vec, multp)"
      ],
      "metadata": {
        "colab": {
          "base_uri": "https://localhost:8080/"
        },
        "id": "n-iuUPWMsMl4",
        "outputId": "ea8580e3-b9fa-457e-b3db-1d2b768a73f1"
      },
      "execution_count": null,
      "outputs": [
        {
          "output_type": "stream",
          "name": "stdout",
          "text": [
            " \n"
          ]
        }
      ]
    },
    {
      "cell_type": "markdown",
      "source": [
        "## steer non-seqcont prompts"
      ],
      "metadata": {
        "id": "5IuLPnU5hvQx"
      }
    },
    {
      "cell_type": "code",
      "source": [
        "prompt = \"a a a a\"\n",
        "steer_vec = mean_months_min_nw\n",
        "multp = 1\n",
        "steer_by_sae_actvs(prompt, steer_vec, multp)"
      ],
      "metadata": {
        "colab": {
          "base_uri": "https://localhost:8080/"
        },
        "id": "SOC1RYtcqWIg",
        "outputId": "9263d68d-59bc-46bc-aeb8-4c8b0a896e2e"
      },
      "execution_count": null,
      "outputs": [
        {
          "output_type": "stream",
          "name": "stdout",
          "text": [
            " a\n"
          ]
        }
      ]
    },
    {
      "cell_type": "code",
      "source": [
        "prompt = \"a a a a\"\n",
        "steer_vec = mean_months_min_nw\n",
        "multp = 10\n",
        "steer_by_sae_actvs(prompt, steer_vec, multp)"
      ],
      "metadata": {
        "colab": {
          "base_uri": "https://localhost:8080/"
        },
        "id": "aYCQMpX0qcAa",
        "outputId": "39bf6725-62a4-4016-a6fb-6f7c33e2e560"
      },
      "execution_count": null,
      "outputs": [
        {
          "output_type": "stream",
          "name": "stdout",
          "text": [
            " October\n"
          ]
        }
      ]
    },
    {
      "cell_type": "code",
      "source": [
        "prompt = \"I am a cat\"\n",
        "steer_vec = mean_months_min_nw\n",
        "multp = 3\n",
        "steer_by_sae_actvs(prompt, steer_vec, multp)"
      ],
      "metadata": {
        "colab": {
          "base_uri": "https://localhost:8080/"
        },
        "id": "YEwfYDU_qhyM",
        "outputId": "d6f3d403-6e9a-4d38-f02c-2736fafa26f5"
      },
      "execution_count": null,
      "outputs": [
        {
          "output_type": "stream",
          "name": "stdout",
          "text": [
            "/\n"
          ]
        }
      ]
    },
    {
      "cell_type": "code",
      "source": [
        "prompt = \"I am a cat\"\n",
        "steer_vec = mean_months_min_nw\n",
        "multp = 10\n",
        "steer_by_sae_actvs(prompt, steer_vec, multp)"
      ],
      "metadata": {
        "colab": {
          "base_uri": "https://localhost:8080/"
        },
        "id": "D3WUu8QkqgWr",
        "outputId": "8b16b026-6103-4235-efee-1748667afedf"
      },
      "execution_count": null,
      "outputs": [
        {
          "output_type": "stream",
          "name": "stdout",
          "text": [
            " October\n"
          ]
        }
      ]
    },
    {
      "cell_type": "markdown",
      "source": [
        "# steer using members not seqs"
      ],
      "metadata": {
        "id": "LYjUkcskstI2"
      }
    },
    {
      "cell_type": "markdown",
      "source": [
        "## get sv without subtraction"
      ],
      "metadata": {
        "id": "WPPplZoosw06"
      }
    },
    {
      "cell_type": "code",
      "execution_count": null,
      "metadata": {
        "id": "Dje91Atbsxdg"
      },
      "outputs": [],
      "source": [
        "words = ['one', 'two', 'three', 'four', 'five', 'six', 'seven', 'eight', 'nine', 'ten']\n",
        "numword_samps = []\n",
        "for i in range(0, 10):\n",
        "    samp = f\"{words[i]}\"\n",
        "    numword_samps.append(samp)\n",
        "inputs = tokenizer(numword_samps, return_tensors=\"pt\", padding=True, truncation=True, max_length=300)['input_ids'].to(\"cuda\")\n",
        "target_act = gather_residual_activations(model, 20, inputs)\n",
        "sae_acts_1 = sae.encode(target_act.to(torch.float32))"
      ]
    },
    {
      "cell_type": "code",
      "source": [
        "# nw_sv = sae_acts_1\n",
        "mean_nw_sv = sae_acts_1.mean(dim=0)\n",
        "mean_nw_sv = mean_nw_sv.unsqueeze(0)\n",
        "mean_nw_sv.shape"
      ],
      "metadata": {
        "colab": {
          "base_uri": "https://localhost:8080/"
        },
        "id": "Ua_9MIdktFn4",
        "outputId": "ef084f4b-f226-43b3-c3aa-f7f0df55fb40"
      },
      "execution_count": null,
      "outputs": [
        {
          "output_type": "execute_result",
          "data": {
            "text/plain": [
              "torch.Size([1, 2, 16384])"
            ]
          },
          "metadata": {},
          "execution_count": 179
        }
      ]
    },
    {
      "cell_type": "markdown",
      "source": [
        "### steer"
      ],
      "metadata": {
        "id": "pctn9hWzs7ct"
      }
    },
    {
      "cell_type": "code",
      "source": [
        "# sanity check\n",
        "prompt = \"four five six seven\"\n",
        "steer_vec = mean_nw_sv\n",
        "multp = 1\n",
        "steer_by_sae_lastTok(prompt, steer_vec, multp)"
      ],
      "metadata": {
        "colab": {
          "base_uri": "https://localhost:8080/"
        },
        "id": "S0pGCGoxs8YU",
        "outputId": "f47a8a78-ec92-430c-e8c4-399b58d0cd54"
      },
      "execution_count": null,
      "outputs": [
        {
          "output_type": "stream",
          "name": "stdout",
          "text": [
            " eight\n"
          ]
        }
      ]
    },
    {
      "cell_type": "code",
      "source": [
        "prompt = \"4 5 6 \"\n",
        "steer_vec = mean_nw_sv\n",
        "multp = 1\n",
        "steer_by_sae_lastTok(prompt, steer_vec, multp)"
      ],
      "metadata": {
        "colab": {
          "base_uri": "https://localhost:8080/"
        },
        "id": "rk1QvpfWtcx-",
        "outputId": "f3b0a405-3867-4298-9978-4405daa317da"
      },
      "execution_count": null,
      "outputs": [
        {
          "output_type": "stream",
          "name": "stdout",
          "text": [
            "7\n"
          ]
        }
      ]
    },
    {
      "cell_type": "code",
      "source": [
        "prompt = \"4 5 6 \"\n",
        "steer_vec = mean_nw_sv\n",
        "multp = 5\n",
        "steer_by_sae_lastTok(prompt, steer_vec, multp)"
      ],
      "metadata": {
        "colab": {
          "base_uri": "https://localhost:8080/"
        },
        "id": "fWjiSIbCtgMt",
        "outputId": "c0cfb72e-c5c9-4151-a184-c5ee1b0c6906"
      },
      "execution_count": null,
      "outputs": [
        {
          "output_type": "stream",
          "name": "stdout",
          "text": [
            "-\n"
          ]
        }
      ]
    },
    {
      "cell_type": "code",
      "source": [
        "prompt = \"4 5 6 \"\n",
        "steer_vec = mean_nw_sv\n",
        "multp = 10\n",
        "steer_by_sae_lastTok(prompt, steer_vec, multp)"
      ],
      "metadata": {
        "colab": {
          "base_uri": "https://localhost:8080/"
        },
        "id": "_Weo6FUkteSV",
        "outputId": "0617ad1b-5ba4-443a-d9fe-561a320c30d6"
      },
      "execution_count": null,
      "outputs": [
        {
          "output_type": "stream",
          "name": "stdout",
          "text": [
            "-\n"
          ]
        }
      ]
    },
    {
      "cell_type": "markdown",
      "source": [
        "## get sv as nw-months"
      ],
      "metadata": {
        "id": "NOmC8Ms-twPS"
      }
    },
    {
      "cell_type": "code",
      "execution_count": null,
      "metadata": {
        "id": "U3ggdZo9sxdh"
      },
      "outputs": [],
      "source": [
        "words = ['January', 'February', 'March', 'April', 'May', 'June', 'July', 'August', 'September', 'October'] # , 'November', 'December'\n",
        "month_samps = []\n",
        "for i in range(0, 10):\n",
        "    samp = f\"{words[i]}\"\n",
        "    month_samps.append(samp)\n",
        "inputs = tokenizer(month_samps, return_tensors=\"pt\", padding=True, truncation=True, max_length=300)['input_ids'].to(\"cuda\")\n",
        "target_act = gather_residual_activations(model, 20, inputs)\n",
        "sae_acts_2 = sae.encode(target_act.to(torch.float32))"
      ]
    },
    {
      "cell_type": "markdown",
      "metadata": {
        "id": "oEZQT4kcsxdh"
      },
      "source": [
        "pair each num prompt with its months analogue, and subtract"
      ]
    },
    {
      "cell_type": "code",
      "source": [
        "months_minus_nw_nonseq = sae_acts_2 - sae_acts_1\n",
        "mean_months_minus_nw_nonseq = months_minus_nw_nonseq.mean(dim=0)\n",
        "mean_months_minus_nw_nonseq = mean_months_minus_nw_nonseq.unsqueeze(0)\n",
        "mean_months_minus_nw_nonseq.shape"
      ],
      "metadata": {
        "colab": {
          "base_uri": "https://localhost:8080/"
        },
        "outputId": "d0957b90-c876-46fc-cbdc-9f606917c108",
        "id": "AXZqGkbpsxdh"
      },
      "execution_count": null,
      "outputs": [
        {
          "output_type": "execute_result",
          "data": {
            "text/plain": [
              "torch.Size([1, 2, 16384])"
            ]
          },
          "metadata": {},
          "execution_count": 154
        }
      ]
    },
    {
      "cell_type": "markdown",
      "source": [
        "### steer"
      ],
      "metadata": {
        "id": "k-Ttic6puJ2u"
      }
    },
    {
      "cell_type": "code",
      "source": [
        "prompt = \"four five six\"\n",
        "steer_vec = mean_months_minus_nw_nonseq\n",
        "multp = 4\n",
        "steer_by_sae_lastTok(prompt, steer_vec, multp)"
      ],
      "metadata": {
        "colab": {
          "base_uri": "https://localhost:8080/"
        },
        "outputId": "36c4c6b7-a972-4175-cbe5-2cdacf29727e",
        "id": "6hxJSptPuJ2v"
      },
      "execution_count": null,
      "outputs": [
        {
          "output_type": "stream",
          "name": "stdout",
          "text": [
            " \n"
          ]
        }
      ]
    },
    {
      "cell_type": "code",
      "source": [
        "prompt = \"four\"\n",
        "steer_vec = mean_months_minus_nw_nonseq\n",
        "multp = 1\n",
        "steer_by_sae_lastTok(prompt, steer_vec, multp)"
      ],
      "metadata": {
        "colab": {
          "base_uri": "https://localhost:8080/"
        },
        "outputId": "995ead73-2470-408c-d819-b7d1e8b35f92",
        "id": "j7aVwQHHuJ2v"
      },
      "execution_count": null,
      "outputs": [
        {
          "output_type": "stream",
          "name": "stdout",
          "text": [
            " \n"
          ]
        }
      ]
    },
    {
      "cell_type": "code",
      "source": [
        "prompt = \"four\"\n",
        "steer_vec = mean_months_minus_nw_nonseq\n",
        "multp = 5\n",
        "steer_by_sae_lastTok(prompt, steer_vec, multp)"
      ],
      "metadata": {
        "colab": {
          "base_uri": "https://localhost:8080/"
        },
        "outputId": "45cc931b-13db-425e-a5f3-63539f9443cc",
        "id": "6MyiCyXduJ2v"
      },
      "execution_count": null,
      "outputs": [
        {
          "output_type": "stream",
          "name": "stdout",
          "text": [
            " måned\n"
          ]
        }
      ]
    },
    {
      "cell_type": "code",
      "source": [
        "prompt = \"one\"\n",
        "steer_vec = mean_months_minus_nw_nonseq\n",
        "multp = 10\n",
        "steer_by_sae_lastTok(prompt, steer_vec, multp)"
      ],
      "metadata": {
        "colab": {
          "base_uri": "https://localhost:8080/"
        },
        "id": "LF_JFFcZtiJl",
        "outputId": "7abe8c30-d129-4bc4-a7a9-cb18385bcd55"
      },
      "execution_count": null,
      "outputs": [
        {
          "output_type": "stream",
          "name": "stdout",
          "text": [
            " måned\n"
          ]
        }
      ]
    },
    {
      "cell_type": "markdown",
      "source": [
        "## get sv without subtraction- numerals"
      ],
      "metadata": {
        "id": "XQ3CoL48un-r"
      }
    },
    {
      "cell_type": "code",
      "execution_count": null,
      "metadata": {
        "id": "ArLQTFovun-s"
      },
      "outputs": [],
      "source": [
        "words = ['1', '2', '3', '4', '5', '6', '7', '8', '9', '10']\n",
        "numword_samps = []\n",
        "for i in range(0, 10):\n",
        "    samp = f\"{words[i]}\"\n",
        "    numword_samps.append(samp)\n",
        "inputs = tokenizer(numword_samps, return_tensors=\"pt\", padding=True, truncation=True, max_length=300)['input_ids'].to(\"cuda\")\n",
        "target_act = gather_residual_activations(model, 20, inputs)\n",
        "sae_acts_1 = sae.encode(target_act.to(torch.float32))"
      ]
    },
    {
      "cell_type": "code",
      "source": [
        "# nw_sv = sae_acts_1\n",
        "mean_num_sv = sae_acts_1.mean(dim=0)\n",
        "mean_num_sv = mean_num_sv.unsqueeze(0)\n",
        "mean_num_sv.shape"
      ],
      "metadata": {
        "colab": {
          "base_uri": "https://localhost:8080/"
        },
        "outputId": "551e2c8f-79a4-482b-f1eb-f36bc6ee690c",
        "id": "jxd8Y611un-s"
      },
      "execution_count": null,
      "outputs": [
        {
          "output_type": "execute_result",
          "data": {
            "text/plain": [
              "torch.Size([1, 3, 16384])"
            ]
          },
          "metadata": {},
          "execution_count": 172
        }
      ]
    },
    {
      "cell_type": "markdown",
      "source": [
        "### steer"
      ],
      "metadata": {
        "id": "L2MqGYxkun-s"
      }
    },
    {
      "cell_type": "code",
      "source": [
        "prompt = \"four five six seven\"\n",
        "steer_vec = mean_num_sv\n",
        "multp = 1\n",
        "steer_by_sae_lastTok(prompt, steer_vec, multp)"
      ],
      "metadata": {
        "colab": {
          "base_uri": "https://localhost:8080/"
        },
        "outputId": "bb2632ab-5ac4-4e1f-8c6d-739a13a382df",
        "id": "A11_EpEyun-s"
      },
      "execution_count": null,
      "outputs": [
        {
          "output_type": "stream",
          "name": "stdout",
          "text": [
            "8\n"
          ]
        }
      ]
    },
    {
      "cell_type": "code",
      "source": [
        "prompt = \"4 5 6 \"\n",
        "steer_vec = mean_num_sv\n",
        "multp = 10\n",
        "steer_by_sae_lastTok(prompt, steer_vec, multp)"
      ],
      "metadata": {
        "colab": {
          "base_uri": "https://localhost:8080/"
        },
        "outputId": "8f819cd9-0344-4ec7-e538-f2ba6bb3063c",
        "id": "eWZ6Z4Nwun-t"
      },
      "execution_count": null,
      "outputs": [
        {
          "output_type": "stream",
          "name": "stdout",
          "text": [
            "0\n"
          ]
        }
      ]
    },
    {
      "cell_type": "code",
      "source": [
        "prompt = \"four five six\"\n",
        "steer_vec = mean_num_sv\n",
        "multp = 3\n",
        "steer_by_sae_lastTok(prompt, steer_vec, multp)"
      ],
      "metadata": {
        "colab": {
          "base_uri": "https://localhost:8080/"
        },
        "outputId": "2d78cc02-ea82-4445-d27a-8bf22d402cce",
        "id": "DJ1hm0QVun-t"
      },
      "execution_count": null,
      "outputs": [
        {
          "output_type": "stream",
          "name": "stdout",
          "text": [
            "7\n"
          ]
        }
      ]
    },
    {
      "cell_type": "code",
      "source": [
        "prompt = \"four\"\n",
        "steer_vec = mean_num_sv\n",
        "multp = 0\n",
        "steer_by_sae_lastTok(prompt, steer_vec, multp)"
      ],
      "metadata": {
        "colab": {
          "base_uri": "https://localhost:8080/"
        },
        "id": "kP5_Vx09ufD0",
        "outputId": "7b94f842-3d37-40d2-9fb6-1c030af3cdd9"
      },
      "execution_count": null,
      "outputs": [
        {
          "output_type": "stream",
          "name": "stdout",
          "text": [
            "-\n"
          ]
        }
      ]
    },
    {
      "cell_type": "code",
      "source": [
        "prompt = \"four\"\n",
        "steer_vec = mean_num_sv\n",
        "multp = 1\n",
        "steer_by_sae_lastTok(prompt, steer_vec, multp)"
      ],
      "metadata": {
        "colab": {
          "base_uri": "https://localhost:8080/"
        },
        "id": "PdsvO2QyvoTN",
        "outputId": "d89d397c-2124-4b73-9022-cfc768d3b2d5"
      },
      "execution_count": null,
      "outputs": [
        {
          "output_type": "stream",
          "name": "stdout",
          "text": [
            "0\n"
          ]
        }
      ]
    },
    {
      "cell_type": "code",
      "source": [
        "prompt = \"four five\"\n",
        "steer_vec = mean_num_sv\n",
        "multp = 0\n",
        "steer_by_sae_lastTok(prompt, steer_vec, multp)"
      ],
      "metadata": {
        "colab": {
          "base_uri": "https://localhost:8080/"
        },
        "id": "0brAn1oovsk9",
        "outputId": "ed53e741-ab5c-40b0-b093-6c18a3897318"
      },
      "execution_count": null,
      "outputs": [
        {
          "output_type": "stream",
          "name": "stdout",
          "text": [
            " six\n"
          ]
        }
      ]
    },
    {
      "cell_type": "code",
      "source": [
        "prompt = \"four five\"\n",
        "steer_vec = mean_num_sv\n",
        "multp = 1\n",
        "steer_by_sae_lastTok(prompt, steer_vec, multp)"
      ],
      "metadata": {
        "colab": {
          "base_uri": "https://localhost:8080/"
        },
        "id": "ZUDvEj3Xvv7E",
        "outputId": "0556563f-df30-4577-dda7-6115e439a359"
      },
      "execution_count": null,
      "outputs": [
        {
          "output_type": "stream",
          "name": "stdout",
          "text": [
            "6\n"
          ]
        }
      ]
    },
    {
      "cell_type": "code",
      "source": [
        "prompt = \"April May June July\"\n",
        "steer_vec = mean_num_sv\n",
        "multp = 0\n",
        "steer_by_sae_lastTok(prompt, steer_vec, multp)"
      ],
      "metadata": {
        "colab": {
          "base_uri": "https://localhost:8080/"
        },
        "id": "KTu0vAayvx7X",
        "outputId": "f867d61e-f3f8-42f2-b636-d712a64cc8d2"
      },
      "execution_count": null,
      "outputs": [
        {
          "output_type": "stream",
          "name": "stdout",
          "text": [
            " August\n"
          ]
        }
      ]
    },
    {
      "cell_type": "code",
      "source": [
        "prompt = \"April May June July\"\n",
        "steer_vec = mean_num_sv\n",
        "multp = 1\n",
        "steer_by_sae_lastTok(prompt, steer_vec, multp)"
      ],
      "metadata": {
        "colab": {
          "base_uri": "https://localhost:8080/"
        },
        "id": "mz2gfBbEv03U",
        "outputId": "88773b0c-5604-4cfb-e7c9-6015f5040312"
      },
      "execution_count": null,
      "outputs": [
        {
          "output_type": "stream",
          "name": "stdout",
          "text": [
            "8\n"
          ]
        }
      ]
    },
    {
      "cell_type": "code",
      "source": [
        "prompt = \"a b c d\"\n",
        "steer_vec = mean_num_sv\n",
        "multp = 0\n",
        "steer_by_sae_lastTok(prompt, steer_vec, multp)"
      ],
      "metadata": {
        "colab": {
          "base_uri": "https://localhost:8080/"
        },
        "id": "nXffN-axwLFC",
        "outputId": "08e56e71-b67a-4d80-9d0b-3b54fc72ea17"
      },
      "execution_count": null,
      "outputs": [
        {
          "output_type": "stream",
          "name": "stdout",
          "text": [
            " e\n"
          ]
        }
      ]
    },
    {
      "cell_type": "code",
      "source": [
        "prompt = \"a b c d\"\n",
        "steer_vec = mean_num_sv\n",
        "multp = 2\n",
        "steer_by_sae_lastTok(prompt, steer_vec, multp)"
      ],
      "metadata": {
        "colab": {
          "base_uri": "https://localhost:8080/"
        },
        "id": "ZK7YZx0rxCRO",
        "outputId": "3d90ce95-436c-4866-9258-7ce9143ee8d8"
      },
      "execution_count": null,
      "outputs": [
        {
          "output_type": "stream",
          "name": "stdout",
          "text": [
            "0\n"
          ]
        }
      ]
    },
    {
      "cell_type": "code",
      "source": [
        "prompt = \"a b c d\"\n",
        "steer_vec = mean_num_sv\n",
        "multp = 1.3\n",
        "steer_by_sae_lastTok(prompt, steer_vec, multp)"
      ],
      "metadata": {
        "colab": {
          "base_uri": "https://localhost:8080/"
        },
        "id": "KZHuaC63wNsF",
        "outputId": "58e94008-c0cb-4dee-d56d-712549fb9910"
      },
      "execution_count": null,
      "outputs": [
        {
          "output_type": "stream",
          "name": "stdout",
          "text": [
            "0\n"
          ]
        }
      ]
    },
    {
      "cell_type": "code",
      "source": [
        "prompt = \"a b c d\"\n",
        "steer_vec = mean_num_sv\n",
        "multp = 100\n",
        "steer_by_sae_lastTok(prompt, steer_vec, multp)"
      ],
      "metadata": {
        "colab": {
          "base_uri": "https://localhost:8080/"
        },
        "id": "veJwrPe7xJp0",
        "outputId": "ff1ba843-5617-43b3-b2b7-58122f8e99d8"
      },
      "execution_count": null,
      "outputs": [
        {
          "output_type": "stream",
          "name": "stdout",
          "text": [
            "0\n"
          ]
        }
      ]
    },
    {
      "cell_type": "code",
      "source": [
        "prompt = \"monday tuesday wednesday\"\n",
        "steer_vec = mean_num_sv\n",
        "multp = 0\n",
        "steer_by_sae_lastTok(prompt, steer_vec, multp)"
      ],
      "metadata": {
        "colab": {
          "base_uri": "https://localhost:8080/"
        },
        "id": "jpSzE3ciwT14",
        "outputId": "4d7844b2-ead9-4f9a-a417-7443beb9e8c2"
      },
      "execution_count": null,
      "outputs": [
        {
          "output_type": "stream",
          "name": "stdout",
          "text": [
            " thursday\n"
          ]
        }
      ]
    },
    {
      "cell_type": "code",
      "source": [
        "# assume monday is the first day, aim to get 4\n",
        "prompt = \"monday tuesday wednesday\"\n",
        "steer_vec = mean_num_sv\n",
        "multp = 1\n",
        "steer_by_sae_lastTok(prompt, steer_vec, multp)"
      ],
      "metadata": {
        "colab": {
          "base_uri": "https://localhost:8080/"
        },
        "id": "Rk4w6NDAwXYQ",
        "outputId": "e116924a-6313-4698-a261-314fbe5f2de5"
      },
      "execution_count": null,
      "outputs": [
        {
          "output_type": "stream",
          "name": "stdout",
          "text": [
            "4\n"
          ]
        }
      ]
    },
    {
      "cell_type": "code",
      "source": [
        "prompt = \"wednesday thursday friday\"\n",
        "steer_vec = mean_num_sv\n",
        "multp = 1\n",
        "steer_by_sae_lastTok(prompt, steer_vec, multp)"
      ],
      "metadata": {
        "colab": {
          "base_uri": "https://localhost:8080/"
        },
        "id": "Y2uW-nMgwnne",
        "outputId": "bbbdf1f5-d6be-4f19-f7c1-4284e42bb09d"
      },
      "execution_count": null,
      "outputs": [
        {
          "output_type": "stream",
          "name": "stdout",
          "text": [
            "\n",
            "\n"
          ]
        }
      ]
    },
    {
      "cell_type": "code",
      "source": [
        "# assume monday is the first day and sunday is 7th, aim to get 6\n",
        "prompt = \"wednesday thursday friday\"\n",
        "steer_vec = mean_num_sv\n",
        "multp = 3\n",
        "steer_by_sae_lastTok(prompt, steer_vec, multp)"
      ],
      "metadata": {
        "colab": {
          "base_uri": "https://localhost:8080/"
        },
        "id": "jztiY2dMwrOp",
        "outputId": "4c0bce7f-b4b2-4208-f90a-826dec60fced"
      },
      "execution_count": null,
      "outputs": [
        {
          "output_type": "stream",
          "name": "stdout",
          "text": [
            "6\n"
          ]
        }
      ]
    },
    {
      "cell_type": "code",
      "source": [
        "#\n",
        "prompt = \"Today is Monday, tomorrow is\"\n",
        "steer_vec = mean_num_sv\n",
        "multp = 0\n",
        "steer_by_sae_lastTok(prompt, steer_vec, multp)"
      ],
      "metadata": {
        "colab": {
          "base_uri": "https://localhost:8080/"
        },
        "id": "U2nBJ3pWxNgd",
        "outputId": "1dc10a27-84fe-4c32-fde5-ec39322beb1f"
      },
      "execution_count": null,
      "outputs": [
        {
          "output_type": "stream",
          "name": "stdout",
          "text": [
            " Tuesday\n"
          ]
        }
      ]
    },
    {
      "cell_type": "code",
      "source": [
        "#\n",
        "prompt = \"Today is Monday, tomorrow is\"\n",
        "steer_vec = mean_num_sv\n",
        "multp = 1.5\n",
        "steer_by_sae_lastTok(prompt, steer_vec, multp)"
      ],
      "metadata": {
        "colab": {
          "base_uri": "https://localhost:8080/"
        },
        "id": "UMfFvFGHxTPw",
        "outputId": "5ad2b081-84da-4320-b5e4-49dc08089163"
      },
      "execution_count": null,
      "outputs": [
        {
          "output_type": "stream",
          "name": "stdout",
          "text": [
            "0\n"
          ]
        }
      ]
    },
    {
      "cell_type": "code",
      "source": [
        "#\n",
        "prompt = \"This month is July, next month is\"\n",
        "steer_vec = mean_num_sv\n",
        "multp = 0\n",
        "steer_by_sae_lastTok(prompt, steer_vec, multp)"
      ],
      "metadata": {
        "colab": {
          "base_uri": "https://localhost:8080/"
        },
        "id": "PBxq8gxBxcJv",
        "outputId": "cc8c0008-d730-476c-b4b1-c9e0fd0a58dd"
      },
      "execution_count": null,
      "outputs": [
        {
          "output_type": "stream",
          "name": "stdout",
          "text": [
            " August\n"
          ]
        }
      ]
    },
    {
      "cell_type": "code",
      "source": [
        "#\n",
        "prompt = \"This month is July, next month is\"\n",
        "steer_vec = mean_num_sv\n",
        "multp = 1\n",
        "steer_by_sae_lastTok(prompt, steer_vec, multp)"
      ],
      "metadata": {
        "colab": {
          "base_uri": "https://localhost:8080/"
        },
        "id": "oiKtq5-wxgr8",
        "outputId": "62fd38e5-7ec2-4d9f-9aa1-7ba1385d8b4e"
      },
      "execution_count": null,
      "outputs": [
        {
          "output_type": "stream",
          "name": "stdout",
          "text": [
            "8\n"
          ]
        }
      ]
    },
    {
      "cell_type": "code",
      "source": [
        "#\n",
        "prompt = \"I have 4 apples. I take one away. How many apples do I have? A: \"\n",
        "steer_vec = mean_num_sv\n",
        "multp = 0\n",
        "steer_by_sae_lastTok(prompt, steer_vec, multp)"
      ],
      "metadata": {
        "colab": {
          "base_uri": "https://localhost:8080/"
        },
        "id": "Aw3ABj4uxqk2",
        "outputId": "b18ca6bd-2423-4f95-8375-605bccb44e25"
      },
      "execution_count": null,
      "outputs": [
        {
          "output_type": "stream",
          "name": "stdout",
          "text": [
            "3\n"
          ]
        }
      ]
    },
    {
      "cell_type": "code",
      "source": [
        "#\n",
        "prompt = \"I have four apples. I take one away. How many apples do I have? A: three. \\\n",
        "I have five apples. I take one away. How many apples do I have? A: \"\n",
        "steer_vec = mean_num_sv\n",
        "multp = 0\n",
        "steer_by_sae_lastTok(prompt, steer_vec, multp)"
      ],
      "metadata": {
        "colab": {
          "base_uri": "https://localhost:8080/"
        },
        "id": "Ecd_wVGZxx0b",
        "outputId": "e1342e4e-57b3-4b7e-c984-9caee618529e"
      },
      "execution_count": null,
      "outputs": [
        {
          "output_type": "stream",
          "name": "stdout",
          "text": [
            "4\n"
          ]
        }
      ]
    },
    {
      "cell_type": "code",
      "source": [
        "#\n",
        "prompt = \"four three two\"\n",
        "steer_vec = mean_num_sv\n",
        "multp = 1\n",
        "steer_by_sae_lastTok(prompt, steer_vec, multp)"
      ],
      "metadata": {
        "colab": {
          "base_uri": "https://localhost:8080/"
        },
        "id": "qxZPS3Cdx-2R",
        "outputId": "0f599d88-0a0c-414f-8ba3-0f91f4c52272"
      },
      "execution_count": null,
      "outputs": [
        {
          "output_type": "stream",
          "name": "stdout",
          "text": [
            "1\n"
          ]
        }
      ]
    },
    {
      "cell_type": "markdown",
      "source": [
        "### nonseq prompts"
      ],
      "metadata": {
        "id": "63qz69BCwIs8"
      }
    },
    {
      "cell_type": "code",
      "source": [
        "prompt = \"aa a a\"\n",
        "steer_vec = mean_num_sv\n",
        "multp = 1\n",
        "steer_by_sae_lastTok(prompt, steer_vec, multp)"
      ],
      "metadata": {
        "colab": {
          "base_uri": "https://localhost:8080/"
        },
        "id": "Nieyiim4v5Wd",
        "outputId": "8f45a5e6-7fbe-4174-8199-19d6d11042aa"
      },
      "execution_count": null,
      "outputs": [
        {
          "output_type": "stream",
          "name": "stdout",
          "text": [
            " \n"
          ]
        }
      ]
    },
    {
      "cell_type": "code",
      "source": [
        "prompt = \"I AM A CAT\"\n",
        "steer_vec = mean_num_sv\n",
        "multp = 1\n",
        "steer_by_sae_lastTok(prompt, steer_vec, multp)"
      ],
      "metadata": {
        "colab": {
          "base_uri": "https://localhost:8080/"
        },
        "id": "98KOPtk-wBlA",
        "outputId": "5b08f272-c7d6-4a8b-cc4f-5f6280501f6e"
      },
      "execution_count": null,
      "outputs": [
        {
          "output_type": "stream",
          "name": "stdout",
          "text": [
            "0\n"
          ]
        }
      ]
    },
    {
      "cell_type": "markdown",
      "source": [
        "## mod 10"
      ],
      "metadata": {
        "id": "D-hfm-ewzQMh"
      }
    },
    {
      "cell_type": "code",
      "source": [
        "#\n",
        "prompt = \"thirteen fourteen fifteen sixteen \"\n",
        "steer_vec = mean_num_sv\n",
        "multp = 0\n",
        "steer_by_sae_lastTok(prompt, steer_vec, multp)"
      ],
      "metadata": {
        "colab": {
          "base_uri": "https://localhost:8080/"
        },
        "id": "6rWXiTvhwD9s",
        "outputId": "555d6c7c-f108-4c3a-90ff-cfdf5a57655e"
      },
      "execution_count": null,
      "outputs": [
        {
          "output_type": "stream",
          "name": "stdout",
          "text": [
            "1\n"
          ]
        }
      ]
    },
    {
      "cell_type": "code",
      "source": [
        "#\n",
        "prompt = \"seven eight nine ten eleven\"\n",
        "steer_vec = mean_num_sv\n",
        "multp = 0\n",
        "steer_by_sae_lastTok(prompt, steer_vec, multp)"
      ],
      "metadata": {
        "colab": {
          "base_uri": "https://localhost:8080/"
        },
        "id": "cUjMQ5ryzZAE",
        "outputId": "495c83f6-9dda-431b-d87b-21c9736554a0"
      },
      "execution_count": null,
      "outputs": [
        {
          "output_type": "stream",
          "name": "stdout",
          "text": [
            " twelve\n"
          ]
        }
      ]
    },
    {
      "cell_type": "code",
      "source": [
        "#\n",
        "prompt = \"seven eight nine ten eleven\"\n",
        "steer_vec = mean_num_sv\n",
        "multp = 1.5\n",
        "steer_by_sae_lastTok(prompt, steer_vec, multp)"
      ],
      "metadata": {
        "colab": {
          "base_uri": "https://localhost:8080/"
        },
        "id": "jdgjrq-7znpz",
        "outputId": "628218e6-c881-4b1e-d7b7-0a6d2882aa87"
      },
      "execution_count": null,
      "outputs": [
        {
          "output_type": "stream",
          "name": "stdout",
          "text": [
            "2\n"
          ]
        }
      ]
    },
    {
      "cell_type": "code",
      "source": [
        "#\n",
        "prompt = \"six seven eight nine ten eleven twelve\"\n",
        "steer_vec = mean_num_sv\n",
        "multp = 0\n",
        "steer_by_sae_lastTok(prompt, steer_vec, multp)"
      ],
      "metadata": {
        "colab": {
          "base_uri": "https://localhost:8080/"
        },
        "id": "uRzCrTBszt4O",
        "outputId": "8ffa38de-2065-4b39-af13-3fa37ce5141d"
      },
      "execution_count": null,
      "outputs": [
        {
          "output_type": "stream",
          "name": "stdout",
          "text": [
            "\n",
            "\n"
          ]
        }
      ]
    },
    {
      "cell_type": "code",
      "source": [],
      "metadata": {
        "id": "NiLt0FXXz2O9"
      },
      "execution_count": null,
      "outputs": []
    }
  ],
  "metadata": {
    "accelerator": "GPU",
    "colab": {
      "gpuType": "A100",
      "machine_shape": "hm",
      "toc_visible": true,
      "provenance": [],
      "collapsed_sections": [
        "N8ZMNbBKMuKA",
        "pzHjkBaA3RfR"
      ]
    },
    "kernelspec": {
      "display_name": "Python 3",
      "name": "python3"
    },
    "language_info": {
      "name": "python"
    },
    "widgets": {
      "application/vnd.jupyter.widget-state+json": {
        "bb489fb4c9ae4d7c8298bec5cb74ec94": {
          "model_module": "@jupyter-widgets/controls",
          "model_name": "VBoxModel",
          "model_module_version": "1.5.0",
          "state": {
            "_dom_classes": [],
            "_model_module": "@jupyter-widgets/controls",
            "_model_module_version": "1.5.0",
            "_model_name": "VBoxModel",
            "_view_count": null,
            "_view_module": "@jupyter-widgets/controls",
            "_view_module_version": "1.5.0",
            "_view_name": "VBoxView",
            "box_style": "",
            "children": [
              "IPY_MODEL_aec5d4e93bbf406d96a38a283b84cf1d",
              "IPY_MODEL_4799562485f846d1a145012466b2b502",
              "IPY_MODEL_f2823d474c89415fb87914ff49cf0864",
              "IPY_MODEL_90d029c699fb44698d6080c131ded487"
            ],
            "layout": "IPY_MODEL_7b5c7526b10b49e48d2ad0344a2c768a"
          }
        },
        "c7c484d3f40f455fbd2d2757aaf0e6c0": {
          "model_module": "@jupyter-widgets/controls",
          "model_name": "HTMLModel",
          "model_module_version": "1.5.0",
          "state": {
            "_dom_classes": [],
            "_model_module": "@jupyter-widgets/controls",
            "_model_module_version": "1.5.0",
            "_model_name": "HTMLModel",
            "_view_count": null,
            "_view_module": "@jupyter-widgets/controls",
            "_view_module_version": "1.5.0",
            "_view_name": "HTMLView",
            "description": "",
            "description_tooltip": null,
            "layout": "IPY_MODEL_5c919bb1abfb46f59ef39847d950ca9c",
            "placeholder": "​",
            "style": "IPY_MODEL_9eec3ccae13a40929c60d56f99aa5296",
            "value": "<center> <img\nsrc=https://huggingface.co/front/assets/huggingface_logo-noborder.svg\nalt='Hugging Face'> <br> Copy a token from <a\nhref=\"https://huggingface.co/settings/tokens\" target=\"_blank\">your Hugging Face\ntokens page</a> and paste it below. <br> Immediately click login after copying\nyour token or it might be stored in plain text in this notebook file. </center>"
          }
        },
        "2c50078b549a4172884e2dd1ad47b5c9": {
          "model_module": "@jupyter-widgets/controls",
          "model_name": "PasswordModel",
          "model_module_version": "1.5.0",
          "state": {
            "_dom_classes": [],
            "_model_module": "@jupyter-widgets/controls",
            "_model_module_version": "1.5.0",
            "_model_name": "PasswordModel",
            "_view_count": null,
            "_view_module": "@jupyter-widgets/controls",
            "_view_module_version": "1.5.0",
            "_view_name": "PasswordView",
            "continuous_update": true,
            "description": "Token:",
            "description_tooltip": null,
            "disabled": false,
            "layout": "IPY_MODEL_88327aa55fc84e8ca56dabb03bff8747",
            "placeholder": "​",
            "style": "IPY_MODEL_4c149d8b4fc94416a65a39dbc1e35845",
            "value": ""
          }
        },
        "3e077c76c9d04236819758d58a18c9f9": {
          "model_module": "@jupyter-widgets/controls",
          "model_name": "CheckboxModel",
          "model_module_version": "1.5.0",
          "state": {
            "_dom_classes": [],
            "_model_module": "@jupyter-widgets/controls",
            "_model_module_version": "1.5.0",
            "_model_name": "CheckboxModel",
            "_view_count": null,
            "_view_module": "@jupyter-widgets/controls",
            "_view_module_version": "1.5.0",
            "_view_name": "CheckboxView",
            "description": "Add token as git credential?",
            "description_tooltip": null,
            "disabled": false,
            "indent": true,
            "layout": "IPY_MODEL_326c9265d6a44a83bfcf54d510122fc1",
            "style": "IPY_MODEL_1caa597c8c9f46f2bac8e9c3c42658d4",
            "value": true
          }
        },
        "79305092b06d40df8028b62991f032d8": {
          "model_module": "@jupyter-widgets/controls",
          "model_name": "ButtonModel",
          "model_module_version": "1.5.0",
          "state": {
            "_dom_classes": [],
            "_model_module": "@jupyter-widgets/controls",
            "_model_module_version": "1.5.0",
            "_model_name": "ButtonModel",
            "_view_count": null,
            "_view_module": "@jupyter-widgets/controls",
            "_view_module_version": "1.5.0",
            "_view_name": "ButtonView",
            "button_style": "",
            "description": "Login",
            "disabled": false,
            "icon": "",
            "layout": "IPY_MODEL_37f7a7da200d49e7b67b5c64983cbdc2",
            "style": "IPY_MODEL_fcee5fd86d974f9f8e204e3c2a6e4cf8",
            "tooltip": ""
          }
        },
        "74def8c3307a46e2bafb87eb9d23f1ac": {
          "model_module": "@jupyter-widgets/controls",
          "model_name": "HTMLModel",
          "model_module_version": "1.5.0",
          "state": {
            "_dom_classes": [],
            "_model_module": "@jupyter-widgets/controls",
            "_model_module_version": "1.5.0",
            "_model_name": "HTMLModel",
            "_view_count": null,
            "_view_module": "@jupyter-widgets/controls",
            "_view_module_version": "1.5.0",
            "_view_name": "HTMLView",
            "description": "",
            "description_tooltip": null,
            "layout": "IPY_MODEL_f2e6e8978ab441ea835b9a6936ff7358",
            "placeholder": "​",
            "style": "IPY_MODEL_6110e69b9c22425490814e89b48573a6",
            "value": "\n<b>Pro Tip:</b> If you don't already have one, you can create a dedicated\n'notebooks' token with 'write' access, that you can then easily reuse for all\nnotebooks. </center>"
          }
        },
        "7b5c7526b10b49e48d2ad0344a2c768a": {
          "model_module": "@jupyter-widgets/base",
          "model_name": "LayoutModel",
          "model_module_version": "1.2.0",
          "state": {
            "_model_module": "@jupyter-widgets/base",
            "_model_module_version": "1.2.0",
            "_model_name": "LayoutModel",
            "_view_count": null,
            "_view_module": "@jupyter-widgets/base",
            "_view_module_version": "1.2.0",
            "_view_name": "LayoutView",
            "align_content": null,
            "align_items": "center",
            "align_self": null,
            "border": null,
            "bottom": null,
            "display": "flex",
            "flex": null,
            "flex_flow": "column",
            "grid_area": null,
            "grid_auto_columns": null,
            "grid_auto_flow": null,
            "grid_auto_rows": null,
            "grid_column": null,
            "grid_gap": null,
            "grid_row": null,
            "grid_template_areas": null,
            "grid_template_columns": null,
            "grid_template_rows": null,
            "height": null,
            "justify_content": null,
            "justify_items": null,
            "left": null,
            "margin": null,
            "max_height": null,
            "max_width": null,
            "min_height": null,
            "min_width": null,
            "object_fit": null,
            "object_position": null,
            "order": null,
            "overflow": null,
            "overflow_x": null,
            "overflow_y": null,
            "padding": null,
            "right": null,
            "top": null,
            "visibility": null,
            "width": "50%"
          }
        },
        "5c919bb1abfb46f59ef39847d950ca9c": {
          "model_module": "@jupyter-widgets/base",
          "model_name": "LayoutModel",
          "model_module_version": "1.2.0",
          "state": {
            "_model_module": "@jupyter-widgets/base",
            "_model_module_version": "1.2.0",
            "_model_name": "LayoutModel",
            "_view_count": null,
            "_view_module": "@jupyter-widgets/base",
            "_view_module_version": "1.2.0",
            "_view_name": "LayoutView",
            "align_content": null,
            "align_items": null,
            "align_self": null,
            "border": null,
            "bottom": null,
            "display": null,
            "flex": null,
            "flex_flow": null,
            "grid_area": null,
            "grid_auto_columns": null,
            "grid_auto_flow": null,
            "grid_auto_rows": null,
            "grid_column": null,
            "grid_gap": null,
            "grid_row": null,
            "grid_template_areas": null,
            "grid_template_columns": null,
            "grid_template_rows": null,
            "height": null,
            "justify_content": null,
            "justify_items": null,
            "left": null,
            "margin": null,
            "max_height": null,
            "max_width": null,
            "min_height": null,
            "min_width": null,
            "object_fit": null,
            "object_position": null,
            "order": null,
            "overflow": null,
            "overflow_x": null,
            "overflow_y": null,
            "padding": null,
            "right": null,
            "top": null,
            "visibility": null,
            "width": null
          }
        },
        "9eec3ccae13a40929c60d56f99aa5296": {
          "model_module": "@jupyter-widgets/controls",
          "model_name": "DescriptionStyleModel",
          "model_module_version": "1.5.0",
          "state": {
            "_model_module": "@jupyter-widgets/controls",
            "_model_module_version": "1.5.0",
            "_model_name": "DescriptionStyleModel",
            "_view_count": null,
            "_view_module": "@jupyter-widgets/base",
            "_view_module_version": "1.2.0",
            "_view_name": "StyleView",
            "description_width": ""
          }
        },
        "88327aa55fc84e8ca56dabb03bff8747": {
          "model_module": "@jupyter-widgets/base",
          "model_name": "LayoutModel",
          "model_module_version": "1.2.0",
          "state": {
            "_model_module": "@jupyter-widgets/base",
            "_model_module_version": "1.2.0",
            "_model_name": "LayoutModel",
            "_view_count": null,
            "_view_module": "@jupyter-widgets/base",
            "_view_module_version": "1.2.0",
            "_view_name": "LayoutView",
            "align_content": null,
            "align_items": null,
            "align_self": null,
            "border": null,
            "bottom": null,
            "display": null,
            "flex": null,
            "flex_flow": null,
            "grid_area": null,
            "grid_auto_columns": null,
            "grid_auto_flow": null,
            "grid_auto_rows": null,
            "grid_column": null,
            "grid_gap": null,
            "grid_row": null,
            "grid_template_areas": null,
            "grid_template_columns": null,
            "grid_template_rows": null,
            "height": null,
            "justify_content": null,
            "justify_items": null,
            "left": null,
            "margin": null,
            "max_height": null,
            "max_width": null,
            "min_height": null,
            "min_width": null,
            "object_fit": null,
            "object_position": null,
            "order": null,
            "overflow": null,
            "overflow_x": null,
            "overflow_y": null,
            "padding": null,
            "right": null,
            "top": null,
            "visibility": null,
            "width": null
          }
        },
        "4c149d8b4fc94416a65a39dbc1e35845": {
          "model_module": "@jupyter-widgets/controls",
          "model_name": "DescriptionStyleModel",
          "model_module_version": "1.5.0",
          "state": {
            "_model_module": "@jupyter-widgets/controls",
            "_model_module_version": "1.5.0",
            "_model_name": "DescriptionStyleModel",
            "_view_count": null,
            "_view_module": "@jupyter-widgets/base",
            "_view_module_version": "1.2.0",
            "_view_name": "StyleView",
            "description_width": ""
          }
        },
        "326c9265d6a44a83bfcf54d510122fc1": {
          "model_module": "@jupyter-widgets/base",
          "model_name": "LayoutModel",
          "model_module_version": "1.2.0",
          "state": {
            "_model_module": "@jupyter-widgets/base",
            "_model_module_version": "1.2.0",
            "_model_name": "LayoutModel",
            "_view_count": null,
            "_view_module": "@jupyter-widgets/base",
            "_view_module_version": "1.2.0",
            "_view_name": "LayoutView",
            "align_content": null,
            "align_items": null,
            "align_self": null,
            "border": null,
            "bottom": null,
            "display": null,
            "flex": null,
            "flex_flow": null,
            "grid_area": null,
            "grid_auto_columns": null,
            "grid_auto_flow": null,
            "grid_auto_rows": null,
            "grid_column": null,
            "grid_gap": null,
            "grid_row": null,
            "grid_template_areas": null,
            "grid_template_columns": null,
            "grid_template_rows": null,
            "height": null,
            "justify_content": null,
            "justify_items": null,
            "left": null,
            "margin": null,
            "max_height": null,
            "max_width": null,
            "min_height": null,
            "min_width": null,
            "object_fit": null,
            "object_position": null,
            "order": null,
            "overflow": null,
            "overflow_x": null,
            "overflow_y": null,
            "padding": null,
            "right": null,
            "top": null,
            "visibility": null,
            "width": null
          }
        },
        "1caa597c8c9f46f2bac8e9c3c42658d4": {
          "model_module": "@jupyter-widgets/controls",
          "model_name": "DescriptionStyleModel",
          "model_module_version": "1.5.0",
          "state": {
            "_model_module": "@jupyter-widgets/controls",
            "_model_module_version": "1.5.0",
            "_model_name": "DescriptionStyleModel",
            "_view_count": null,
            "_view_module": "@jupyter-widgets/base",
            "_view_module_version": "1.2.0",
            "_view_name": "StyleView",
            "description_width": ""
          }
        },
        "37f7a7da200d49e7b67b5c64983cbdc2": {
          "model_module": "@jupyter-widgets/base",
          "model_name": "LayoutModel",
          "model_module_version": "1.2.0",
          "state": {
            "_model_module": "@jupyter-widgets/base",
            "_model_module_version": "1.2.0",
            "_model_name": "LayoutModel",
            "_view_count": null,
            "_view_module": "@jupyter-widgets/base",
            "_view_module_version": "1.2.0",
            "_view_name": "LayoutView",
            "align_content": null,
            "align_items": null,
            "align_self": null,
            "border": null,
            "bottom": null,
            "display": null,
            "flex": null,
            "flex_flow": null,
            "grid_area": null,
            "grid_auto_columns": null,
            "grid_auto_flow": null,
            "grid_auto_rows": null,
            "grid_column": null,
            "grid_gap": null,
            "grid_row": null,
            "grid_template_areas": null,
            "grid_template_columns": null,
            "grid_template_rows": null,
            "height": null,
            "justify_content": null,
            "justify_items": null,
            "left": null,
            "margin": null,
            "max_height": null,
            "max_width": null,
            "min_height": null,
            "min_width": null,
            "object_fit": null,
            "object_position": null,
            "order": null,
            "overflow": null,
            "overflow_x": null,
            "overflow_y": null,
            "padding": null,
            "right": null,
            "top": null,
            "visibility": null,
            "width": null
          }
        },
        "fcee5fd86d974f9f8e204e3c2a6e4cf8": {
          "model_module": "@jupyter-widgets/controls",
          "model_name": "ButtonStyleModel",
          "model_module_version": "1.5.0",
          "state": {
            "_model_module": "@jupyter-widgets/controls",
            "_model_module_version": "1.5.0",
            "_model_name": "ButtonStyleModel",
            "_view_count": null,
            "_view_module": "@jupyter-widgets/base",
            "_view_module_version": "1.2.0",
            "_view_name": "StyleView",
            "button_color": null,
            "font_weight": ""
          }
        },
        "f2e6e8978ab441ea835b9a6936ff7358": {
          "model_module": "@jupyter-widgets/base",
          "model_name": "LayoutModel",
          "model_module_version": "1.2.0",
          "state": {
            "_model_module": "@jupyter-widgets/base",
            "_model_module_version": "1.2.0",
            "_model_name": "LayoutModel",
            "_view_count": null,
            "_view_module": "@jupyter-widgets/base",
            "_view_module_version": "1.2.0",
            "_view_name": "LayoutView",
            "align_content": null,
            "align_items": null,
            "align_self": null,
            "border": null,
            "bottom": null,
            "display": null,
            "flex": null,
            "flex_flow": null,
            "grid_area": null,
            "grid_auto_columns": null,
            "grid_auto_flow": null,
            "grid_auto_rows": null,
            "grid_column": null,
            "grid_gap": null,
            "grid_row": null,
            "grid_template_areas": null,
            "grid_template_columns": null,
            "grid_template_rows": null,
            "height": null,
            "justify_content": null,
            "justify_items": null,
            "left": null,
            "margin": null,
            "max_height": null,
            "max_width": null,
            "min_height": null,
            "min_width": null,
            "object_fit": null,
            "object_position": null,
            "order": null,
            "overflow": null,
            "overflow_x": null,
            "overflow_y": null,
            "padding": null,
            "right": null,
            "top": null,
            "visibility": null,
            "width": null
          }
        },
        "6110e69b9c22425490814e89b48573a6": {
          "model_module": "@jupyter-widgets/controls",
          "model_name": "DescriptionStyleModel",
          "model_module_version": "1.5.0",
          "state": {
            "_model_module": "@jupyter-widgets/controls",
            "_model_module_version": "1.5.0",
            "_model_name": "DescriptionStyleModel",
            "_view_count": null,
            "_view_module": "@jupyter-widgets/base",
            "_view_module_version": "1.2.0",
            "_view_name": "StyleView",
            "description_width": ""
          }
        },
        "84bb94f44906451d88e3f42c1f2498c2": {
          "model_module": "@jupyter-widgets/controls",
          "model_name": "LabelModel",
          "model_module_version": "1.5.0",
          "state": {
            "_dom_classes": [],
            "_model_module": "@jupyter-widgets/controls",
            "_model_module_version": "1.5.0",
            "_model_name": "LabelModel",
            "_view_count": null,
            "_view_module": "@jupyter-widgets/controls",
            "_view_module_version": "1.5.0",
            "_view_name": "LabelView",
            "description": "",
            "description_tooltip": null,
            "layout": "IPY_MODEL_4728d34fb9ef4d4e8f83aa1e26cf625b",
            "placeholder": "​",
            "style": "IPY_MODEL_c09d0011daab48fe92ee4c60ccd44ad6",
            "value": "Connecting..."
          }
        },
        "4728d34fb9ef4d4e8f83aa1e26cf625b": {
          "model_module": "@jupyter-widgets/base",
          "model_name": "LayoutModel",
          "model_module_version": "1.2.0",
          "state": {
            "_model_module": "@jupyter-widgets/base",
            "_model_module_version": "1.2.0",
            "_model_name": "LayoutModel",
            "_view_count": null,
            "_view_module": "@jupyter-widgets/base",
            "_view_module_version": "1.2.0",
            "_view_name": "LayoutView",
            "align_content": null,
            "align_items": null,
            "align_self": null,
            "border": null,
            "bottom": null,
            "display": null,
            "flex": null,
            "flex_flow": null,
            "grid_area": null,
            "grid_auto_columns": null,
            "grid_auto_flow": null,
            "grid_auto_rows": null,
            "grid_column": null,
            "grid_gap": null,
            "grid_row": null,
            "grid_template_areas": null,
            "grid_template_columns": null,
            "grid_template_rows": null,
            "height": null,
            "justify_content": null,
            "justify_items": null,
            "left": null,
            "margin": null,
            "max_height": null,
            "max_width": null,
            "min_height": null,
            "min_width": null,
            "object_fit": null,
            "object_position": null,
            "order": null,
            "overflow": null,
            "overflow_x": null,
            "overflow_y": null,
            "padding": null,
            "right": null,
            "top": null,
            "visibility": null,
            "width": null
          }
        },
        "c09d0011daab48fe92ee4c60ccd44ad6": {
          "model_module": "@jupyter-widgets/controls",
          "model_name": "DescriptionStyleModel",
          "model_module_version": "1.5.0",
          "state": {
            "_model_module": "@jupyter-widgets/controls",
            "_model_module_version": "1.5.0",
            "_model_name": "DescriptionStyleModel",
            "_view_count": null,
            "_view_module": "@jupyter-widgets/base",
            "_view_module_version": "1.2.0",
            "_view_name": "StyleView",
            "description_width": ""
          }
        },
        "aec5d4e93bbf406d96a38a283b84cf1d": {
          "model_module": "@jupyter-widgets/controls",
          "model_name": "LabelModel",
          "model_module_version": "1.5.0",
          "state": {
            "_dom_classes": [],
            "_model_module": "@jupyter-widgets/controls",
            "_model_module_version": "1.5.0",
            "_model_name": "LabelModel",
            "_view_count": null,
            "_view_module": "@jupyter-widgets/controls",
            "_view_module_version": "1.5.0",
            "_view_name": "LabelView",
            "description": "",
            "description_tooltip": null,
            "layout": "IPY_MODEL_c33b70301e74424ab037c57cef83061f",
            "placeholder": "​",
            "style": "IPY_MODEL_04ec65ae030f4a4ca14969de4cf5ffe8",
            "value": "Token is valid (permission: write)."
          }
        },
        "4799562485f846d1a145012466b2b502": {
          "model_module": "@jupyter-widgets/controls",
          "model_name": "LabelModel",
          "model_module_version": "1.5.0",
          "state": {
            "_dom_classes": [],
            "_model_module": "@jupyter-widgets/controls",
            "_model_module_version": "1.5.0",
            "_model_name": "LabelModel",
            "_view_count": null,
            "_view_module": "@jupyter-widgets/controls",
            "_view_module_version": "1.5.0",
            "_view_name": "LabelView",
            "description": "",
            "description_tooltip": null,
            "layout": "IPY_MODEL_42cda5a269154841888d931fa7da2f9c",
            "placeholder": "​",
            "style": "IPY_MODEL_6812269b22b849d480dcd4b96ac442a9",
            "value": "Your token has been saved in your configured git credential helpers (store)."
          }
        },
        "f2823d474c89415fb87914ff49cf0864": {
          "model_module": "@jupyter-widgets/controls",
          "model_name": "LabelModel",
          "model_module_version": "1.5.0",
          "state": {
            "_dom_classes": [],
            "_model_module": "@jupyter-widgets/controls",
            "_model_module_version": "1.5.0",
            "_model_name": "LabelModel",
            "_view_count": null,
            "_view_module": "@jupyter-widgets/controls",
            "_view_module_version": "1.5.0",
            "_view_name": "LabelView",
            "description": "",
            "description_tooltip": null,
            "layout": "IPY_MODEL_3e112f94945c463eb702dc55d1377137",
            "placeholder": "​",
            "style": "IPY_MODEL_9f8e6cdaeeb943e7a0365e7bff68d237",
            "value": "Your token has been saved to /root/.cache/huggingface/token"
          }
        },
        "90d029c699fb44698d6080c131ded487": {
          "model_module": "@jupyter-widgets/controls",
          "model_name": "LabelModel",
          "model_module_version": "1.5.0",
          "state": {
            "_dom_classes": [],
            "_model_module": "@jupyter-widgets/controls",
            "_model_module_version": "1.5.0",
            "_model_name": "LabelModel",
            "_view_count": null,
            "_view_module": "@jupyter-widgets/controls",
            "_view_module_version": "1.5.0",
            "_view_name": "LabelView",
            "description": "",
            "description_tooltip": null,
            "layout": "IPY_MODEL_0c31bdae224e46e1a3e57439d3a7dd92",
            "placeholder": "​",
            "style": "IPY_MODEL_310523761ce448e5a0872fa85be67e63",
            "value": "Login successful"
          }
        },
        "c33b70301e74424ab037c57cef83061f": {
          "model_module": "@jupyter-widgets/base",
          "model_name": "LayoutModel",
          "model_module_version": "1.2.0",
          "state": {
            "_model_module": "@jupyter-widgets/base",
            "_model_module_version": "1.2.0",
            "_model_name": "LayoutModel",
            "_view_count": null,
            "_view_module": "@jupyter-widgets/base",
            "_view_module_version": "1.2.0",
            "_view_name": "LayoutView",
            "align_content": null,
            "align_items": null,
            "align_self": null,
            "border": null,
            "bottom": null,
            "display": null,
            "flex": null,
            "flex_flow": null,
            "grid_area": null,
            "grid_auto_columns": null,
            "grid_auto_flow": null,
            "grid_auto_rows": null,
            "grid_column": null,
            "grid_gap": null,
            "grid_row": null,
            "grid_template_areas": null,
            "grid_template_columns": null,
            "grid_template_rows": null,
            "height": null,
            "justify_content": null,
            "justify_items": null,
            "left": null,
            "margin": null,
            "max_height": null,
            "max_width": null,
            "min_height": null,
            "min_width": null,
            "object_fit": null,
            "object_position": null,
            "order": null,
            "overflow": null,
            "overflow_x": null,
            "overflow_y": null,
            "padding": null,
            "right": null,
            "top": null,
            "visibility": null,
            "width": null
          }
        },
        "04ec65ae030f4a4ca14969de4cf5ffe8": {
          "model_module": "@jupyter-widgets/controls",
          "model_name": "DescriptionStyleModel",
          "model_module_version": "1.5.0",
          "state": {
            "_model_module": "@jupyter-widgets/controls",
            "_model_module_version": "1.5.0",
            "_model_name": "DescriptionStyleModel",
            "_view_count": null,
            "_view_module": "@jupyter-widgets/base",
            "_view_module_version": "1.2.0",
            "_view_name": "StyleView",
            "description_width": ""
          }
        },
        "42cda5a269154841888d931fa7da2f9c": {
          "model_module": "@jupyter-widgets/base",
          "model_name": "LayoutModel",
          "model_module_version": "1.2.0",
          "state": {
            "_model_module": "@jupyter-widgets/base",
            "_model_module_version": "1.2.0",
            "_model_name": "LayoutModel",
            "_view_count": null,
            "_view_module": "@jupyter-widgets/base",
            "_view_module_version": "1.2.0",
            "_view_name": "LayoutView",
            "align_content": null,
            "align_items": null,
            "align_self": null,
            "border": null,
            "bottom": null,
            "display": null,
            "flex": null,
            "flex_flow": null,
            "grid_area": null,
            "grid_auto_columns": null,
            "grid_auto_flow": null,
            "grid_auto_rows": null,
            "grid_column": null,
            "grid_gap": null,
            "grid_row": null,
            "grid_template_areas": null,
            "grid_template_columns": null,
            "grid_template_rows": null,
            "height": null,
            "justify_content": null,
            "justify_items": null,
            "left": null,
            "margin": null,
            "max_height": null,
            "max_width": null,
            "min_height": null,
            "min_width": null,
            "object_fit": null,
            "object_position": null,
            "order": null,
            "overflow": null,
            "overflow_x": null,
            "overflow_y": null,
            "padding": null,
            "right": null,
            "top": null,
            "visibility": null,
            "width": null
          }
        },
        "6812269b22b849d480dcd4b96ac442a9": {
          "model_module": "@jupyter-widgets/controls",
          "model_name": "DescriptionStyleModel",
          "model_module_version": "1.5.0",
          "state": {
            "_model_module": "@jupyter-widgets/controls",
            "_model_module_version": "1.5.0",
            "_model_name": "DescriptionStyleModel",
            "_view_count": null,
            "_view_module": "@jupyter-widgets/base",
            "_view_module_version": "1.2.0",
            "_view_name": "StyleView",
            "description_width": ""
          }
        },
        "3e112f94945c463eb702dc55d1377137": {
          "model_module": "@jupyter-widgets/base",
          "model_name": "LayoutModel",
          "model_module_version": "1.2.0",
          "state": {
            "_model_module": "@jupyter-widgets/base",
            "_model_module_version": "1.2.0",
            "_model_name": "LayoutModel",
            "_view_count": null,
            "_view_module": "@jupyter-widgets/base",
            "_view_module_version": "1.2.0",
            "_view_name": "LayoutView",
            "align_content": null,
            "align_items": null,
            "align_self": null,
            "border": null,
            "bottom": null,
            "display": null,
            "flex": null,
            "flex_flow": null,
            "grid_area": null,
            "grid_auto_columns": null,
            "grid_auto_flow": null,
            "grid_auto_rows": null,
            "grid_column": null,
            "grid_gap": null,
            "grid_row": null,
            "grid_template_areas": null,
            "grid_template_columns": null,
            "grid_template_rows": null,
            "height": null,
            "justify_content": null,
            "justify_items": null,
            "left": null,
            "margin": null,
            "max_height": null,
            "max_width": null,
            "min_height": null,
            "min_width": null,
            "object_fit": null,
            "object_position": null,
            "order": null,
            "overflow": null,
            "overflow_x": null,
            "overflow_y": null,
            "padding": null,
            "right": null,
            "top": null,
            "visibility": null,
            "width": null
          }
        },
        "9f8e6cdaeeb943e7a0365e7bff68d237": {
          "model_module": "@jupyter-widgets/controls",
          "model_name": "DescriptionStyleModel",
          "model_module_version": "1.5.0",
          "state": {
            "_model_module": "@jupyter-widgets/controls",
            "_model_module_version": "1.5.0",
            "_model_name": "DescriptionStyleModel",
            "_view_count": null,
            "_view_module": "@jupyter-widgets/base",
            "_view_module_version": "1.2.0",
            "_view_name": "StyleView",
            "description_width": ""
          }
        },
        "0c31bdae224e46e1a3e57439d3a7dd92": {
          "model_module": "@jupyter-widgets/base",
          "model_name": "LayoutModel",
          "model_module_version": "1.2.0",
          "state": {
            "_model_module": "@jupyter-widgets/base",
            "_model_module_version": "1.2.0",
            "_model_name": "LayoutModel",
            "_view_count": null,
            "_view_module": "@jupyter-widgets/base",
            "_view_module_version": "1.2.0",
            "_view_name": "LayoutView",
            "align_content": null,
            "align_items": null,
            "align_self": null,
            "border": null,
            "bottom": null,
            "display": null,
            "flex": null,
            "flex_flow": null,
            "grid_area": null,
            "grid_auto_columns": null,
            "grid_auto_flow": null,
            "grid_auto_rows": null,
            "grid_column": null,
            "grid_gap": null,
            "grid_row": null,
            "grid_template_areas": null,
            "grid_template_columns": null,
            "grid_template_rows": null,
            "height": null,
            "justify_content": null,
            "justify_items": null,
            "left": null,
            "margin": null,
            "max_height": null,
            "max_width": null,
            "min_height": null,
            "min_width": null,
            "object_fit": null,
            "object_position": null,
            "order": null,
            "overflow": null,
            "overflow_x": null,
            "overflow_y": null,
            "padding": null,
            "right": null,
            "top": null,
            "visibility": null,
            "width": null
          }
        },
        "310523761ce448e5a0872fa85be67e63": {
          "model_module": "@jupyter-widgets/controls",
          "model_name": "DescriptionStyleModel",
          "model_module_version": "1.5.0",
          "state": {
            "_model_module": "@jupyter-widgets/controls",
            "_model_module_version": "1.5.0",
            "_model_name": "DescriptionStyleModel",
            "_view_count": null,
            "_view_module": "@jupyter-widgets/base",
            "_view_module_version": "1.2.0",
            "_view_name": "StyleView",
            "description_width": ""
          }
        },
        "233f29e175334a16b5515b27f0a8778c": {
          "model_module": "@jupyter-widgets/controls",
          "model_name": "HBoxModel",
          "model_module_version": "1.5.0",
          "state": {
            "_dom_classes": [],
            "_model_module": "@jupyter-widgets/controls",
            "_model_module_version": "1.5.0",
            "_model_name": "HBoxModel",
            "_view_count": null,
            "_view_module": "@jupyter-widgets/controls",
            "_view_module_version": "1.5.0",
            "_view_name": "HBoxView",
            "box_style": "",
            "children": [
              "IPY_MODEL_a0621c5d2c4d487daf23fcb8e32a03fa",
              "IPY_MODEL_d2fd00d8938745c1863a029d3442b931",
              "IPY_MODEL_04b037520b2c417b8a6c068e27930874"
            ],
            "layout": "IPY_MODEL_b469baaa443c494e816d8ee632d5988c"
          }
        },
        "a0621c5d2c4d487daf23fcb8e32a03fa": {
          "model_module": "@jupyter-widgets/controls",
          "model_name": "HTMLModel",
          "model_module_version": "1.5.0",
          "state": {
            "_dom_classes": [],
            "_model_module": "@jupyter-widgets/controls",
            "_model_module_version": "1.5.0",
            "_model_name": "HTMLModel",
            "_view_count": null,
            "_view_module": "@jupyter-widgets/controls",
            "_view_module_version": "1.5.0",
            "_view_name": "HTMLView",
            "description": "",
            "description_tooltip": null,
            "layout": "IPY_MODEL_8dc1b5ec4a054ebb92134374d5dccf6c",
            "placeholder": "​",
            "style": "IPY_MODEL_07b6c59b71b143dca10d51b29783f203",
            "value": "config.json: 100%"
          }
        },
        "d2fd00d8938745c1863a029d3442b931": {
          "model_module": "@jupyter-widgets/controls",
          "model_name": "FloatProgressModel",
          "model_module_version": "1.5.0",
          "state": {
            "_dom_classes": [],
            "_model_module": "@jupyter-widgets/controls",
            "_model_module_version": "1.5.0",
            "_model_name": "FloatProgressModel",
            "_view_count": null,
            "_view_module": "@jupyter-widgets/controls",
            "_view_module_version": "1.5.0",
            "_view_name": "ProgressView",
            "bar_style": "success",
            "description": "",
            "description_tooltip": null,
            "layout": "IPY_MODEL_984fa028eb8b48a5b7e56ab11c24a256",
            "max": 818,
            "min": 0,
            "orientation": "horizontal",
            "style": "IPY_MODEL_7c7b82f6132743b7a9cc9f58e6d8afe6",
            "value": 818
          }
        },
        "04b037520b2c417b8a6c068e27930874": {
          "model_module": "@jupyter-widgets/controls",
          "model_name": "HTMLModel",
          "model_module_version": "1.5.0",
          "state": {
            "_dom_classes": [],
            "_model_module": "@jupyter-widgets/controls",
            "_model_module_version": "1.5.0",
            "_model_name": "HTMLModel",
            "_view_count": null,
            "_view_module": "@jupyter-widgets/controls",
            "_view_module_version": "1.5.0",
            "_view_name": "HTMLView",
            "description": "",
            "description_tooltip": null,
            "layout": "IPY_MODEL_61676e08e0cf4739bb0d37cdbd8a2f88",
            "placeholder": "​",
            "style": "IPY_MODEL_291b12ad00a440a48edeb40f679388e7",
            "value": " 818/818 [00:00&lt;00:00, 45.5kB/s]"
          }
        },
        "b469baaa443c494e816d8ee632d5988c": {
          "model_module": "@jupyter-widgets/base",
          "model_name": "LayoutModel",
          "model_module_version": "1.2.0",
          "state": {
            "_model_module": "@jupyter-widgets/base",
            "_model_module_version": "1.2.0",
            "_model_name": "LayoutModel",
            "_view_count": null,
            "_view_module": "@jupyter-widgets/base",
            "_view_module_version": "1.2.0",
            "_view_name": "LayoutView",
            "align_content": null,
            "align_items": null,
            "align_self": null,
            "border": null,
            "bottom": null,
            "display": null,
            "flex": null,
            "flex_flow": null,
            "grid_area": null,
            "grid_auto_columns": null,
            "grid_auto_flow": null,
            "grid_auto_rows": null,
            "grid_column": null,
            "grid_gap": null,
            "grid_row": null,
            "grid_template_areas": null,
            "grid_template_columns": null,
            "grid_template_rows": null,
            "height": null,
            "justify_content": null,
            "justify_items": null,
            "left": null,
            "margin": null,
            "max_height": null,
            "max_width": null,
            "min_height": null,
            "min_width": null,
            "object_fit": null,
            "object_position": null,
            "order": null,
            "overflow": null,
            "overflow_x": null,
            "overflow_y": null,
            "padding": null,
            "right": null,
            "top": null,
            "visibility": null,
            "width": null
          }
        },
        "8dc1b5ec4a054ebb92134374d5dccf6c": {
          "model_module": "@jupyter-widgets/base",
          "model_name": "LayoutModel",
          "model_module_version": "1.2.0",
          "state": {
            "_model_module": "@jupyter-widgets/base",
            "_model_module_version": "1.2.0",
            "_model_name": "LayoutModel",
            "_view_count": null,
            "_view_module": "@jupyter-widgets/base",
            "_view_module_version": "1.2.0",
            "_view_name": "LayoutView",
            "align_content": null,
            "align_items": null,
            "align_self": null,
            "border": null,
            "bottom": null,
            "display": null,
            "flex": null,
            "flex_flow": null,
            "grid_area": null,
            "grid_auto_columns": null,
            "grid_auto_flow": null,
            "grid_auto_rows": null,
            "grid_column": null,
            "grid_gap": null,
            "grid_row": null,
            "grid_template_areas": null,
            "grid_template_columns": null,
            "grid_template_rows": null,
            "height": null,
            "justify_content": null,
            "justify_items": null,
            "left": null,
            "margin": null,
            "max_height": null,
            "max_width": null,
            "min_height": null,
            "min_width": null,
            "object_fit": null,
            "object_position": null,
            "order": null,
            "overflow": null,
            "overflow_x": null,
            "overflow_y": null,
            "padding": null,
            "right": null,
            "top": null,
            "visibility": null,
            "width": null
          }
        },
        "07b6c59b71b143dca10d51b29783f203": {
          "model_module": "@jupyter-widgets/controls",
          "model_name": "DescriptionStyleModel",
          "model_module_version": "1.5.0",
          "state": {
            "_model_module": "@jupyter-widgets/controls",
            "_model_module_version": "1.5.0",
            "_model_name": "DescriptionStyleModel",
            "_view_count": null,
            "_view_module": "@jupyter-widgets/base",
            "_view_module_version": "1.2.0",
            "_view_name": "StyleView",
            "description_width": ""
          }
        },
        "984fa028eb8b48a5b7e56ab11c24a256": {
          "model_module": "@jupyter-widgets/base",
          "model_name": "LayoutModel",
          "model_module_version": "1.2.0",
          "state": {
            "_model_module": "@jupyter-widgets/base",
            "_model_module_version": "1.2.0",
            "_model_name": "LayoutModel",
            "_view_count": null,
            "_view_module": "@jupyter-widgets/base",
            "_view_module_version": "1.2.0",
            "_view_name": "LayoutView",
            "align_content": null,
            "align_items": null,
            "align_self": null,
            "border": null,
            "bottom": null,
            "display": null,
            "flex": null,
            "flex_flow": null,
            "grid_area": null,
            "grid_auto_columns": null,
            "grid_auto_flow": null,
            "grid_auto_rows": null,
            "grid_column": null,
            "grid_gap": null,
            "grid_row": null,
            "grid_template_areas": null,
            "grid_template_columns": null,
            "grid_template_rows": null,
            "height": null,
            "justify_content": null,
            "justify_items": null,
            "left": null,
            "margin": null,
            "max_height": null,
            "max_width": null,
            "min_height": null,
            "min_width": null,
            "object_fit": null,
            "object_position": null,
            "order": null,
            "overflow": null,
            "overflow_x": null,
            "overflow_y": null,
            "padding": null,
            "right": null,
            "top": null,
            "visibility": null,
            "width": null
          }
        },
        "7c7b82f6132743b7a9cc9f58e6d8afe6": {
          "model_module": "@jupyter-widgets/controls",
          "model_name": "ProgressStyleModel",
          "model_module_version": "1.5.0",
          "state": {
            "_model_module": "@jupyter-widgets/controls",
            "_model_module_version": "1.5.0",
            "_model_name": "ProgressStyleModel",
            "_view_count": null,
            "_view_module": "@jupyter-widgets/base",
            "_view_module_version": "1.2.0",
            "_view_name": "StyleView",
            "bar_color": null,
            "description_width": ""
          }
        },
        "61676e08e0cf4739bb0d37cdbd8a2f88": {
          "model_module": "@jupyter-widgets/base",
          "model_name": "LayoutModel",
          "model_module_version": "1.2.0",
          "state": {
            "_model_module": "@jupyter-widgets/base",
            "_model_module_version": "1.2.0",
            "_model_name": "LayoutModel",
            "_view_count": null,
            "_view_module": "@jupyter-widgets/base",
            "_view_module_version": "1.2.0",
            "_view_name": "LayoutView",
            "align_content": null,
            "align_items": null,
            "align_self": null,
            "border": null,
            "bottom": null,
            "display": null,
            "flex": null,
            "flex_flow": null,
            "grid_area": null,
            "grid_auto_columns": null,
            "grid_auto_flow": null,
            "grid_auto_rows": null,
            "grid_column": null,
            "grid_gap": null,
            "grid_row": null,
            "grid_template_areas": null,
            "grid_template_columns": null,
            "grid_template_rows": null,
            "height": null,
            "justify_content": null,
            "justify_items": null,
            "left": null,
            "margin": null,
            "max_height": null,
            "max_width": null,
            "min_height": null,
            "min_width": null,
            "object_fit": null,
            "object_position": null,
            "order": null,
            "overflow": null,
            "overflow_x": null,
            "overflow_y": null,
            "padding": null,
            "right": null,
            "top": null,
            "visibility": null,
            "width": null
          }
        },
        "291b12ad00a440a48edeb40f679388e7": {
          "model_module": "@jupyter-widgets/controls",
          "model_name": "DescriptionStyleModel",
          "model_module_version": "1.5.0",
          "state": {
            "_model_module": "@jupyter-widgets/controls",
            "_model_module_version": "1.5.0",
            "_model_name": "DescriptionStyleModel",
            "_view_count": null,
            "_view_module": "@jupyter-widgets/base",
            "_view_module_version": "1.2.0",
            "_view_name": "StyleView",
            "description_width": ""
          }
        },
        "be86561f57aa4d27b68d0f677d5e486e": {
          "model_module": "@jupyter-widgets/controls",
          "model_name": "HBoxModel",
          "model_module_version": "1.5.0",
          "state": {
            "_dom_classes": [],
            "_model_module": "@jupyter-widgets/controls",
            "_model_module_version": "1.5.0",
            "_model_name": "HBoxModel",
            "_view_count": null,
            "_view_module": "@jupyter-widgets/controls",
            "_view_module_version": "1.5.0",
            "_view_name": "HBoxView",
            "box_style": "",
            "children": [
              "IPY_MODEL_4942af8aa8824a3cbd190ba76c2dd6eb",
              "IPY_MODEL_6130f5bc8ae1466f829fae7cdd1cbd70",
              "IPY_MODEL_3295eefe096f49c38b26310fe3d02a41"
            ],
            "layout": "IPY_MODEL_803fa8895ec740d5bd41ebe05d0628e2"
          }
        },
        "4942af8aa8824a3cbd190ba76c2dd6eb": {
          "model_module": "@jupyter-widgets/controls",
          "model_name": "HTMLModel",
          "model_module_version": "1.5.0",
          "state": {
            "_dom_classes": [],
            "_model_module": "@jupyter-widgets/controls",
            "_model_module_version": "1.5.0",
            "_model_name": "HTMLModel",
            "_view_count": null,
            "_view_module": "@jupyter-widgets/controls",
            "_view_module_version": "1.5.0",
            "_view_name": "HTMLView",
            "description": "",
            "description_tooltip": null,
            "layout": "IPY_MODEL_b63a9588b593479393b192e16bf35b5a",
            "placeholder": "​",
            "style": "IPY_MODEL_a208dc8ae9a84331aeb79ec8c9121797",
            "value": "model.safetensors.index.json: 100%"
          }
        },
        "6130f5bc8ae1466f829fae7cdd1cbd70": {
          "model_module": "@jupyter-widgets/controls",
          "model_name": "FloatProgressModel",
          "model_module_version": "1.5.0",
          "state": {
            "_dom_classes": [],
            "_model_module": "@jupyter-widgets/controls",
            "_model_module_version": "1.5.0",
            "_model_name": "FloatProgressModel",
            "_view_count": null,
            "_view_module": "@jupyter-widgets/controls",
            "_view_module_version": "1.5.0",
            "_view_name": "ProgressView",
            "bar_style": "success",
            "description": "",
            "description_tooltip": null,
            "layout": "IPY_MODEL_02b4005a696f4876bdf227f485a4f2ea",
            "max": 24224,
            "min": 0,
            "orientation": "horizontal",
            "style": "IPY_MODEL_65b13801e1da4a4b9fd4a6a35c7162bf",
            "value": 24224
          }
        },
        "3295eefe096f49c38b26310fe3d02a41": {
          "model_module": "@jupyter-widgets/controls",
          "model_name": "HTMLModel",
          "model_module_version": "1.5.0",
          "state": {
            "_dom_classes": [],
            "_model_module": "@jupyter-widgets/controls",
            "_model_module_version": "1.5.0",
            "_model_name": "HTMLModel",
            "_view_count": null,
            "_view_module": "@jupyter-widgets/controls",
            "_view_module_version": "1.5.0",
            "_view_name": "HTMLView",
            "description": "",
            "description_tooltip": null,
            "layout": "IPY_MODEL_b4a875c3351e4a618af23372afee79a4",
            "placeholder": "​",
            "style": "IPY_MODEL_f22520c512a44b88803e6c2f385135bc",
            "value": " 24.2k/24.2k [00:00&lt;00:00, 1.85MB/s]"
          }
        },
        "803fa8895ec740d5bd41ebe05d0628e2": {
          "model_module": "@jupyter-widgets/base",
          "model_name": "LayoutModel",
          "model_module_version": "1.2.0",
          "state": {
            "_model_module": "@jupyter-widgets/base",
            "_model_module_version": "1.2.0",
            "_model_name": "LayoutModel",
            "_view_count": null,
            "_view_module": "@jupyter-widgets/base",
            "_view_module_version": "1.2.0",
            "_view_name": "LayoutView",
            "align_content": null,
            "align_items": null,
            "align_self": null,
            "border": null,
            "bottom": null,
            "display": null,
            "flex": null,
            "flex_flow": null,
            "grid_area": null,
            "grid_auto_columns": null,
            "grid_auto_flow": null,
            "grid_auto_rows": null,
            "grid_column": null,
            "grid_gap": null,
            "grid_row": null,
            "grid_template_areas": null,
            "grid_template_columns": null,
            "grid_template_rows": null,
            "height": null,
            "justify_content": null,
            "justify_items": null,
            "left": null,
            "margin": null,
            "max_height": null,
            "max_width": null,
            "min_height": null,
            "min_width": null,
            "object_fit": null,
            "object_position": null,
            "order": null,
            "overflow": null,
            "overflow_x": null,
            "overflow_y": null,
            "padding": null,
            "right": null,
            "top": null,
            "visibility": null,
            "width": null
          }
        },
        "b63a9588b593479393b192e16bf35b5a": {
          "model_module": "@jupyter-widgets/base",
          "model_name": "LayoutModel",
          "model_module_version": "1.2.0",
          "state": {
            "_model_module": "@jupyter-widgets/base",
            "_model_module_version": "1.2.0",
            "_model_name": "LayoutModel",
            "_view_count": null,
            "_view_module": "@jupyter-widgets/base",
            "_view_module_version": "1.2.0",
            "_view_name": "LayoutView",
            "align_content": null,
            "align_items": null,
            "align_self": null,
            "border": null,
            "bottom": null,
            "display": null,
            "flex": null,
            "flex_flow": null,
            "grid_area": null,
            "grid_auto_columns": null,
            "grid_auto_flow": null,
            "grid_auto_rows": null,
            "grid_column": null,
            "grid_gap": null,
            "grid_row": null,
            "grid_template_areas": null,
            "grid_template_columns": null,
            "grid_template_rows": null,
            "height": null,
            "justify_content": null,
            "justify_items": null,
            "left": null,
            "margin": null,
            "max_height": null,
            "max_width": null,
            "min_height": null,
            "min_width": null,
            "object_fit": null,
            "object_position": null,
            "order": null,
            "overflow": null,
            "overflow_x": null,
            "overflow_y": null,
            "padding": null,
            "right": null,
            "top": null,
            "visibility": null,
            "width": null
          }
        },
        "a208dc8ae9a84331aeb79ec8c9121797": {
          "model_module": "@jupyter-widgets/controls",
          "model_name": "DescriptionStyleModel",
          "model_module_version": "1.5.0",
          "state": {
            "_model_module": "@jupyter-widgets/controls",
            "_model_module_version": "1.5.0",
            "_model_name": "DescriptionStyleModel",
            "_view_count": null,
            "_view_module": "@jupyter-widgets/base",
            "_view_module_version": "1.2.0",
            "_view_name": "StyleView",
            "description_width": ""
          }
        },
        "02b4005a696f4876bdf227f485a4f2ea": {
          "model_module": "@jupyter-widgets/base",
          "model_name": "LayoutModel",
          "model_module_version": "1.2.0",
          "state": {
            "_model_module": "@jupyter-widgets/base",
            "_model_module_version": "1.2.0",
            "_model_name": "LayoutModel",
            "_view_count": null,
            "_view_module": "@jupyter-widgets/base",
            "_view_module_version": "1.2.0",
            "_view_name": "LayoutView",
            "align_content": null,
            "align_items": null,
            "align_self": null,
            "border": null,
            "bottom": null,
            "display": null,
            "flex": null,
            "flex_flow": null,
            "grid_area": null,
            "grid_auto_columns": null,
            "grid_auto_flow": null,
            "grid_auto_rows": null,
            "grid_column": null,
            "grid_gap": null,
            "grid_row": null,
            "grid_template_areas": null,
            "grid_template_columns": null,
            "grid_template_rows": null,
            "height": null,
            "justify_content": null,
            "justify_items": null,
            "left": null,
            "margin": null,
            "max_height": null,
            "max_width": null,
            "min_height": null,
            "min_width": null,
            "object_fit": null,
            "object_position": null,
            "order": null,
            "overflow": null,
            "overflow_x": null,
            "overflow_y": null,
            "padding": null,
            "right": null,
            "top": null,
            "visibility": null,
            "width": null
          }
        },
        "65b13801e1da4a4b9fd4a6a35c7162bf": {
          "model_module": "@jupyter-widgets/controls",
          "model_name": "ProgressStyleModel",
          "model_module_version": "1.5.0",
          "state": {
            "_model_module": "@jupyter-widgets/controls",
            "_model_module_version": "1.5.0",
            "_model_name": "ProgressStyleModel",
            "_view_count": null,
            "_view_module": "@jupyter-widgets/base",
            "_view_module_version": "1.2.0",
            "_view_name": "StyleView",
            "bar_color": null,
            "description_width": ""
          }
        },
        "b4a875c3351e4a618af23372afee79a4": {
          "model_module": "@jupyter-widgets/base",
          "model_name": "LayoutModel",
          "model_module_version": "1.2.0",
          "state": {
            "_model_module": "@jupyter-widgets/base",
            "_model_module_version": "1.2.0",
            "_model_name": "LayoutModel",
            "_view_count": null,
            "_view_module": "@jupyter-widgets/base",
            "_view_module_version": "1.2.0",
            "_view_name": "LayoutView",
            "align_content": null,
            "align_items": null,
            "align_self": null,
            "border": null,
            "bottom": null,
            "display": null,
            "flex": null,
            "flex_flow": null,
            "grid_area": null,
            "grid_auto_columns": null,
            "grid_auto_flow": null,
            "grid_auto_rows": null,
            "grid_column": null,
            "grid_gap": null,
            "grid_row": null,
            "grid_template_areas": null,
            "grid_template_columns": null,
            "grid_template_rows": null,
            "height": null,
            "justify_content": null,
            "justify_items": null,
            "left": null,
            "margin": null,
            "max_height": null,
            "max_width": null,
            "min_height": null,
            "min_width": null,
            "object_fit": null,
            "object_position": null,
            "order": null,
            "overflow": null,
            "overflow_x": null,
            "overflow_y": null,
            "padding": null,
            "right": null,
            "top": null,
            "visibility": null,
            "width": null
          }
        },
        "f22520c512a44b88803e6c2f385135bc": {
          "model_module": "@jupyter-widgets/controls",
          "model_name": "DescriptionStyleModel",
          "model_module_version": "1.5.0",
          "state": {
            "_model_module": "@jupyter-widgets/controls",
            "_model_module_version": "1.5.0",
            "_model_name": "DescriptionStyleModel",
            "_view_count": null,
            "_view_module": "@jupyter-widgets/base",
            "_view_module_version": "1.2.0",
            "_view_name": "StyleView",
            "description_width": ""
          }
        },
        "55ad601c2dd242549716956c787406ba": {
          "model_module": "@jupyter-widgets/controls",
          "model_name": "HBoxModel",
          "model_module_version": "1.5.0",
          "state": {
            "_dom_classes": [],
            "_model_module": "@jupyter-widgets/controls",
            "_model_module_version": "1.5.0",
            "_model_name": "HBoxModel",
            "_view_count": null,
            "_view_module": "@jupyter-widgets/controls",
            "_view_module_version": "1.5.0",
            "_view_name": "HBoxView",
            "box_style": "",
            "children": [
              "IPY_MODEL_00ac04241f6c4838a59dd5dca252e5fb",
              "IPY_MODEL_b4fe1c0c085c4b83bd53138841f86d6c",
              "IPY_MODEL_ee6b83d16381491387a5c94be2a98796"
            ],
            "layout": "IPY_MODEL_42fd54d1e1c04124b42d8059f69fdfd6"
          }
        },
        "00ac04241f6c4838a59dd5dca252e5fb": {
          "model_module": "@jupyter-widgets/controls",
          "model_name": "HTMLModel",
          "model_module_version": "1.5.0",
          "state": {
            "_dom_classes": [],
            "_model_module": "@jupyter-widgets/controls",
            "_model_module_version": "1.5.0",
            "_model_name": "HTMLModel",
            "_view_count": null,
            "_view_module": "@jupyter-widgets/controls",
            "_view_module_version": "1.5.0",
            "_view_name": "HTMLView",
            "description": "",
            "description_tooltip": null,
            "layout": "IPY_MODEL_6d8767da3e514c71a3ce48674bce8d90",
            "placeholder": "​",
            "style": "IPY_MODEL_a2aafb0918d842eca25771724434a1f6",
            "value": "Downloading shards: 100%"
          }
        },
        "b4fe1c0c085c4b83bd53138841f86d6c": {
          "model_module": "@jupyter-widgets/controls",
          "model_name": "FloatProgressModel",
          "model_module_version": "1.5.0",
          "state": {
            "_dom_classes": [],
            "_model_module": "@jupyter-widgets/controls",
            "_model_module_version": "1.5.0",
            "_model_name": "FloatProgressModel",
            "_view_count": null,
            "_view_module": "@jupyter-widgets/controls",
            "_view_module_version": "1.5.0",
            "_view_name": "ProgressView",
            "bar_style": "success",
            "description": "",
            "description_tooltip": null,
            "layout": "IPY_MODEL_ca41d933a1a845e0bd52e2e235655de7",
            "max": 3,
            "min": 0,
            "orientation": "horizontal",
            "style": "IPY_MODEL_6dc440f523ac4d6693a8016645d3601d",
            "value": 3
          }
        },
        "ee6b83d16381491387a5c94be2a98796": {
          "model_module": "@jupyter-widgets/controls",
          "model_name": "HTMLModel",
          "model_module_version": "1.5.0",
          "state": {
            "_dom_classes": [],
            "_model_module": "@jupyter-widgets/controls",
            "_model_module_version": "1.5.0",
            "_model_name": "HTMLModel",
            "_view_count": null,
            "_view_module": "@jupyter-widgets/controls",
            "_view_module_version": "1.5.0",
            "_view_name": "HTMLView",
            "description": "",
            "description_tooltip": null,
            "layout": "IPY_MODEL_0f580ab200dc490e9361a00fe342bed7",
            "placeholder": "​",
            "style": "IPY_MODEL_d04cdd4f65d14198a2183a44d4665802",
            "value": " 3/3 [00:29&lt;00:00,  8.38s/it]"
          }
        },
        "42fd54d1e1c04124b42d8059f69fdfd6": {
          "model_module": "@jupyter-widgets/base",
          "model_name": "LayoutModel",
          "model_module_version": "1.2.0",
          "state": {
            "_model_module": "@jupyter-widgets/base",
            "_model_module_version": "1.2.0",
            "_model_name": "LayoutModel",
            "_view_count": null,
            "_view_module": "@jupyter-widgets/base",
            "_view_module_version": "1.2.0",
            "_view_name": "LayoutView",
            "align_content": null,
            "align_items": null,
            "align_self": null,
            "border": null,
            "bottom": null,
            "display": null,
            "flex": null,
            "flex_flow": null,
            "grid_area": null,
            "grid_auto_columns": null,
            "grid_auto_flow": null,
            "grid_auto_rows": null,
            "grid_column": null,
            "grid_gap": null,
            "grid_row": null,
            "grid_template_areas": null,
            "grid_template_columns": null,
            "grid_template_rows": null,
            "height": null,
            "justify_content": null,
            "justify_items": null,
            "left": null,
            "margin": null,
            "max_height": null,
            "max_width": null,
            "min_height": null,
            "min_width": null,
            "object_fit": null,
            "object_position": null,
            "order": null,
            "overflow": null,
            "overflow_x": null,
            "overflow_y": null,
            "padding": null,
            "right": null,
            "top": null,
            "visibility": null,
            "width": null
          }
        },
        "6d8767da3e514c71a3ce48674bce8d90": {
          "model_module": "@jupyter-widgets/base",
          "model_name": "LayoutModel",
          "model_module_version": "1.2.0",
          "state": {
            "_model_module": "@jupyter-widgets/base",
            "_model_module_version": "1.2.0",
            "_model_name": "LayoutModel",
            "_view_count": null,
            "_view_module": "@jupyter-widgets/base",
            "_view_module_version": "1.2.0",
            "_view_name": "LayoutView",
            "align_content": null,
            "align_items": null,
            "align_self": null,
            "border": null,
            "bottom": null,
            "display": null,
            "flex": null,
            "flex_flow": null,
            "grid_area": null,
            "grid_auto_columns": null,
            "grid_auto_flow": null,
            "grid_auto_rows": null,
            "grid_column": null,
            "grid_gap": null,
            "grid_row": null,
            "grid_template_areas": null,
            "grid_template_columns": null,
            "grid_template_rows": null,
            "height": null,
            "justify_content": null,
            "justify_items": null,
            "left": null,
            "margin": null,
            "max_height": null,
            "max_width": null,
            "min_height": null,
            "min_width": null,
            "object_fit": null,
            "object_position": null,
            "order": null,
            "overflow": null,
            "overflow_x": null,
            "overflow_y": null,
            "padding": null,
            "right": null,
            "top": null,
            "visibility": null,
            "width": null
          }
        },
        "a2aafb0918d842eca25771724434a1f6": {
          "model_module": "@jupyter-widgets/controls",
          "model_name": "DescriptionStyleModel",
          "model_module_version": "1.5.0",
          "state": {
            "_model_module": "@jupyter-widgets/controls",
            "_model_module_version": "1.5.0",
            "_model_name": "DescriptionStyleModel",
            "_view_count": null,
            "_view_module": "@jupyter-widgets/base",
            "_view_module_version": "1.2.0",
            "_view_name": "StyleView",
            "description_width": ""
          }
        },
        "ca41d933a1a845e0bd52e2e235655de7": {
          "model_module": "@jupyter-widgets/base",
          "model_name": "LayoutModel",
          "model_module_version": "1.2.0",
          "state": {
            "_model_module": "@jupyter-widgets/base",
            "_model_module_version": "1.2.0",
            "_model_name": "LayoutModel",
            "_view_count": null,
            "_view_module": "@jupyter-widgets/base",
            "_view_module_version": "1.2.0",
            "_view_name": "LayoutView",
            "align_content": null,
            "align_items": null,
            "align_self": null,
            "border": null,
            "bottom": null,
            "display": null,
            "flex": null,
            "flex_flow": null,
            "grid_area": null,
            "grid_auto_columns": null,
            "grid_auto_flow": null,
            "grid_auto_rows": null,
            "grid_column": null,
            "grid_gap": null,
            "grid_row": null,
            "grid_template_areas": null,
            "grid_template_columns": null,
            "grid_template_rows": null,
            "height": null,
            "justify_content": null,
            "justify_items": null,
            "left": null,
            "margin": null,
            "max_height": null,
            "max_width": null,
            "min_height": null,
            "min_width": null,
            "object_fit": null,
            "object_position": null,
            "order": null,
            "overflow": null,
            "overflow_x": null,
            "overflow_y": null,
            "padding": null,
            "right": null,
            "top": null,
            "visibility": null,
            "width": null
          }
        },
        "6dc440f523ac4d6693a8016645d3601d": {
          "model_module": "@jupyter-widgets/controls",
          "model_name": "ProgressStyleModel",
          "model_module_version": "1.5.0",
          "state": {
            "_model_module": "@jupyter-widgets/controls",
            "_model_module_version": "1.5.0",
            "_model_name": "ProgressStyleModel",
            "_view_count": null,
            "_view_module": "@jupyter-widgets/base",
            "_view_module_version": "1.2.0",
            "_view_name": "StyleView",
            "bar_color": null,
            "description_width": ""
          }
        },
        "0f580ab200dc490e9361a00fe342bed7": {
          "model_module": "@jupyter-widgets/base",
          "model_name": "LayoutModel",
          "model_module_version": "1.2.0",
          "state": {
            "_model_module": "@jupyter-widgets/base",
            "_model_module_version": "1.2.0",
            "_model_name": "LayoutModel",
            "_view_count": null,
            "_view_module": "@jupyter-widgets/base",
            "_view_module_version": "1.2.0",
            "_view_name": "LayoutView",
            "align_content": null,
            "align_items": null,
            "align_self": null,
            "border": null,
            "bottom": null,
            "display": null,
            "flex": null,
            "flex_flow": null,
            "grid_area": null,
            "grid_auto_columns": null,
            "grid_auto_flow": null,
            "grid_auto_rows": null,
            "grid_column": null,
            "grid_gap": null,
            "grid_row": null,
            "grid_template_areas": null,
            "grid_template_columns": null,
            "grid_template_rows": null,
            "height": null,
            "justify_content": null,
            "justify_items": null,
            "left": null,
            "margin": null,
            "max_height": null,
            "max_width": null,
            "min_height": null,
            "min_width": null,
            "object_fit": null,
            "object_position": null,
            "order": null,
            "overflow": null,
            "overflow_x": null,
            "overflow_y": null,
            "padding": null,
            "right": null,
            "top": null,
            "visibility": null,
            "width": null
          }
        },
        "d04cdd4f65d14198a2183a44d4665802": {
          "model_module": "@jupyter-widgets/controls",
          "model_name": "DescriptionStyleModel",
          "model_module_version": "1.5.0",
          "state": {
            "_model_module": "@jupyter-widgets/controls",
            "_model_module_version": "1.5.0",
            "_model_name": "DescriptionStyleModel",
            "_view_count": null,
            "_view_module": "@jupyter-widgets/base",
            "_view_module_version": "1.2.0",
            "_view_name": "StyleView",
            "description_width": ""
          }
        },
        "15007bcd9c8e486eb22a637b316c7d55": {
          "model_module": "@jupyter-widgets/controls",
          "model_name": "HBoxModel",
          "model_module_version": "1.5.0",
          "state": {
            "_dom_classes": [],
            "_model_module": "@jupyter-widgets/controls",
            "_model_module_version": "1.5.0",
            "_model_name": "HBoxModel",
            "_view_count": null,
            "_view_module": "@jupyter-widgets/controls",
            "_view_module_version": "1.5.0",
            "_view_name": "HBoxView",
            "box_style": "",
            "children": [
              "IPY_MODEL_e28591033c254b12848a13f44b8291f9",
              "IPY_MODEL_4bd0f95c0aab4a5abd48977369eac143",
              "IPY_MODEL_75795946e6664777ab5df38404bb57f0"
            ],
            "layout": "IPY_MODEL_0ec02aa9d9f748e4b1a8fae7ac3abd48"
          }
        },
        "e28591033c254b12848a13f44b8291f9": {
          "model_module": "@jupyter-widgets/controls",
          "model_name": "HTMLModel",
          "model_module_version": "1.5.0",
          "state": {
            "_dom_classes": [],
            "_model_module": "@jupyter-widgets/controls",
            "_model_module_version": "1.5.0",
            "_model_name": "HTMLModel",
            "_view_count": null,
            "_view_module": "@jupyter-widgets/controls",
            "_view_module_version": "1.5.0",
            "_view_name": "HTMLView",
            "description": "",
            "description_tooltip": null,
            "layout": "IPY_MODEL_542c17a24fe84c46a70a864089c3cdce",
            "placeholder": "​",
            "style": "IPY_MODEL_71982b62da2a4600b8d8268b8d5c45d4",
            "value": "model-00001-of-00003.safetensors: 100%"
          }
        },
        "4bd0f95c0aab4a5abd48977369eac143": {
          "model_module": "@jupyter-widgets/controls",
          "model_name": "FloatProgressModel",
          "model_module_version": "1.5.0",
          "state": {
            "_dom_classes": [],
            "_model_module": "@jupyter-widgets/controls",
            "_model_module_version": "1.5.0",
            "_model_name": "FloatProgressModel",
            "_view_count": null,
            "_view_module": "@jupyter-widgets/controls",
            "_view_module_version": "1.5.0",
            "_view_name": "ProgressView",
            "bar_style": "success",
            "description": "",
            "description_tooltip": null,
            "layout": "IPY_MODEL_11ded3f5c28f41b082b7b9335ec57913",
            "max": 4992576136,
            "min": 0,
            "orientation": "horizontal",
            "style": "IPY_MODEL_d0d071e70848472fb22adf3391d3edcf",
            "value": 4992576136
          }
        },
        "75795946e6664777ab5df38404bb57f0": {
          "model_module": "@jupyter-widgets/controls",
          "model_name": "HTMLModel",
          "model_module_version": "1.5.0",
          "state": {
            "_dom_classes": [],
            "_model_module": "@jupyter-widgets/controls",
            "_model_module_version": "1.5.0",
            "_model_name": "HTMLModel",
            "_view_count": null,
            "_view_module": "@jupyter-widgets/controls",
            "_view_module_version": "1.5.0",
            "_view_name": "HTMLView",
            "description": "",
            "description_tooltip": null,
            "layout": "IPY_MODEL_455bb9eca8f14b4fad76bf01d27f7ed9",
            "placeholder": "​",
            "style": "IPY_MODEL_13ed92db36e54be99d6bebc5864f9f85",
            "value": " 4.99G/4.99G [00:13&lt;00:00, 330MB/s]"
          }
        },
        "0ec02aa9d9f748e4b1a8fae7ac3abd48": {
          "model_module": "@jupyter-widgets/base",
          "model_name": "LayoutModel",
          "model_module_version": "1.2.0",
          "state": {
            "_model_module": "@jupyter-widgets/base",
            "_model_module_version": "1.2.0",
            "_model_name": "LayoutModel",
            "_view_count": null,
            "_view_module": "@jupyter-widgets/base",
            "_view_module_version": "1.2.0",
            "_view_name": "LayoutView",
            "align_content": null,
            "align_items": null,
            "align_self": null,
            "border": null,
            "bottom": null,
            "display": null,
            "flex": null,
            "flex_flow": null,
            "grid_area": null,
            "grid_auto_columns": null,
            "grid_auto_flow": null,
            "grid_auto_rows": null,
            "grid_column": null,
            "grid_gap": null,
            "grid_row": null,
            "grid_template_areas": null,
            "grid_template_columns": null,
            "grid_template_rows": null,
            "height": null,
            "justify_content": null,
            "justify_items": null,
            "left": null,
            "margin": null,
            "max_height": null,
            "max_width": null,
            "min_height": null,
            "min_width": null,
            "object_fit": null,
            "object_position": null,
            "order": null,
            "overflow": null,
            "overflow_x": null,
            "overflow_y": null,
            "padding": null,
            "right": null,
            "top": null,
            "visibility": null,
            "width": null
          }
        },
        "542c17a24fe84c46a70a864089c3cdce": {
          "model_module": "@jupyter-widgets/base",
          "model_name": "LayoutModel",
          "model_module_version": "1.2.0",
          "state": {
            "_model_module": "@jupyter-widgets/base",
            "_model_module_version": "1.2.0",
            "_model_name": "LayoutModel",
            "_view_count": null,
            "_view_module": "@jupyter-widgets/base",
            "_view_module_version": "1.2.0",
            "_view_name": "LayoutView",
            "align_content": null,
            "align_items": null,
            "align_self": null,
            "border": null,
            "bottom": null,
            "display": null,
            "flex": null,
            "flex_flow": null,
            "grid_area": null,
            "grid_auto_columns": null,
            "grid_auto_flow": null,
            "grid_auto_rows": null,
            "grid_column": null,
            "grid_gap": null,
            "grid_row": null,
            "grid_template_areas": null,
            "grid_template_columns": null,
            "grid_template_rows": null,
            "height": null,
            "justify_content": null,
            "justify_items": null,
            "left": null,
            "margin": null,
            "max_height": null,
            "max_width": null,
            "min_height": null,
            "min_width": null,
            "object_fit": null,
            "object_position": null,
            "order": null,
            "overflow": null,
            "overflow_x": null,
            "overflow_y": null,
            "padding": null,
            "right": null,
            "top": null,
            "visibility": null,
            "width": null
          }
        },
        "71982b62da2a4600b8d8268b8d5c45d4": {
          "model_module": "@jupyter-widgets/controls",
          "model_name": "DescriptionStyleModel",
          "model_module_version": "1.5.0",
          "state": {
            "_model_module": "@jupyter-widgets/controls",
            "_model_module_version": "1.5.0",
            "_model_name": "DescriptionStyleModel",
            "_view_count": null,
            "_view_module": "@jupyter-widgets/base",
            "_view_module_version": "1.2.0",
            "_view_name": "StyleView",
            "description_width": ""
          }
        },
        "11ded3f5c28f41b082b7b9335ec57913": {
          "model_module": "@jupyter-widgets/base",
          "model_name": "LayoutModel",
          "model_module_version": "1.2.0",
          "state": {
            "_model_module": "@jupyter-widgets/base",
            "_model_module_version": "1.2.0",
            "_model_name": "LayoutModel",
            "_view_count": null,
            "_view_module": "@jupyter-widgets/base",
            "_view_module_version": "1.2.0",
            "_view_name": "LayoutView",
            "align_content": null,
            "align_items": null,
            "align_self": null,
            "border": null,
            "bottom": null,
            "display": null,
            "flex": null,
            "flex_flow": null,
            "grid_area": null,
            "grid_auto_columns": null,
            "grid_auto_flow": null,
            "grid_auto_rows": null,
            "grid_column": null,
            "grid_gap": null,
            "grid_row": null,
            "grid_template_areas": null,
            "grid_template_columns": null,
            "grid_template_rows": null,
            "height": null,
            "justify_content": null,
            "justify_items": null,
            "left": null,
            "margin": null,
            "max_height": null,
            "max_width": null,
            "min_height": null,
            "min_width": null,
            "object_fit": null,
            "object_position": null,
            "order": null,
            "overflow": null,
            "overflow_x": null,
            "overflow_y": null,
            "padding": null,
            "right": null,
            "top": null,
            "visibility": null,
            "width": null
          }
        },
        "d0d071e70848472fb22adf3391d3edcf": {
          "model_module": "@jupyter-widgets/controls",
          "model_name": "ProgressStyleModel",
          "model_module_version": "1.5.0",
          "state": {
            "_model_module": "@jupyter-widgets/controls",
            "_model_module_version": "1.5.0",
            "_model_name": "ProgressStyleModel",
            "_view_count": null,
            "_view_module": "@jupyter-widgets/base",
            "_view_module_version": "1.2.0",
            "_view_name": "StyleView",
            "bar_color": null,
            "description_width": ""
          }
        },
        "455bb9eca8f14b4fad76bf01d27f7ed9": {
          "model_module": "@jupyter-widgets/base",
          "model_name": "LayoutModel",
          "model_module_version": "1.2.0",
          "state": {
            "_model_module": "@jupyter-widgets/base",
            "_model_module_version": "1.2.0",
            "_model_name": "LayoutModel",
            "_view_count": null,
            "_view_module": "@jupyter-widgets/base",
            "_view_module_version": "1.2.0",
            "_view_name": "LayoutView",
            "align_content": null,
            "align_items": null,
            "align_self": null,
            "border": null,
            "bottom": null,
            "display": null,
            "flex": null,
            "flex_flow": null,
            "grid_area": null,
            "grid_auto_columns": null,
            "grid_auto_flow": null,
            "grid_auto_rows": null,
            "grid_column": null,
            "grid_gap": null,
            "grid_row": null,
            "grid_template_areas": null,
            "grid_template_columns": null,
            "grid_template_rows": null,
            "height": null,
            "justify_content": null,
            "justify_items": null,
            "left": null,
            "margin": null,
            "max_height": null,
            "max_width": null,
            "min_height": null,
            "min_width": null,
            "object_fit": null,
            "object_position": null,
            "order": null,
            "overflow": null,
            "overflow_x": null,
            "overflow_y": null,
            "padding": null,
            "right": null,
            "top": null,
            "visibility": null,
            "width": null
          }
        },
        "13ed92db36e54be99d6bebc5864f9f85": {
          "model_module": "@jupyter-widgets/controls",
          "model_name": "DescriptionStyleModel",
          "model_module_version": "1.5.0",
          "state": {
            "_model_module": "@jupyter-widgets/controls",
            "_model_module_version": "1.5.0",
            "_model_name": "DescriptionStyleModel",
            "_view_count": null,
            "_view_module": "@jupyter-widgets/base",
            "_view_module_version": "1.2.0",
            "_view_name": "StyleView",
            "description_width": ""
          }
        },
        "425be99824484e0681ecdfb5f4f99b03": {
          "model_module": "@jupyter-widgets/controls",
          "model_name": "HBoxModel",
          "model_module_version": "1.5.0",
          "state": {
            "_dom_classes": [],
            "_model_module": "@jupyter-widgets/controls",
            "_model_module_version": "1.5.0",
            "_model_name": "HBoxModel",
            "_view_count": null,
            "_view_module": "@jupyter-widgets/controls",
            "_view_module_version": "1.5.0",
            "_view_name": "HBoxView",
            "box_style": "",
            "children": [
              "IPY_MODEL_4274c67fe5bf4696b089731f5b3a241c",
              "IPY_MODEL_95f8b060b9b946d0b463e6fb82cf57b5",
              "IPY_MODEL_b0e0f46f54ca47dabbec2b570309e722"
            ],
            "layout": "IPY_MODEL_b676257a67a4422b868ebbbc25a33ac8"
          }
        },
        "4274c67fe5bf4696b089731f5b3a241c": {
          "model_module": "@jupyter-widgets/controls",
          "model_name": "HTMLModel",
          "model_module_version": "1.5.0",
          "state": {
            "_dom_classes": [],
            "_model_module": "@jupyter-widgets/controls",
            "_model_module_version": "1.5.0",
            "_model_name": "HTMLModel",
            "_view_count": null,
            "_view_module": "@jupyter-widgets/controls",
            "_view_module_version": "1.5.0",
            "_view_name": "HTMLView",
            "description": "",
            "description_tooltip": null,
            "layout": "IPY_MODEL_69713d826e8f49c78fc104eee5bb99e7",
            "placeholder": "​",
            "style": "IPY_MODEL_ef81635fa15548b49ae78d1de549755d",
            "value": "model-00002-of-00003.safetensors: 100%"
          }
        },
        "95f8b060b9b946d0b463e6fb82cf57b5": {
          "model_module": "@jupyter-widgets/controls",
          "model_name": "FloatProgressModel",
          "model_module_version": "1.5.0",
          "state": {
            "_dom_classes": [],
            "_model_module": "@jupyter-widgets/controls",
            "_model_module_version": "1.5.0",
            "_model_name": "FloatProgressModel",
            "_view_count": null,
            "_view_module": "@jupyter-widgets/controls",
            "_view_module_version": "1.5.0",
            "_view_name": "ProgressView",
            "bar_style": "success",
            "description": "",
            "description_tooltip": null,
            "layout": "IPY_MODEL_2b05ea1cf63b49be9b29bb334863ff14",
            "max": 4983443424,
            "min": 0,
            "orientation": "horizontal",
            "style": "IPY_MODEL_8a907e03033f4753a17c55c1132d59b4",
            "value": 4983443424
          }
        },
        "b0e0f46f54ca47dabbec2b570309e722": {
          "model_module": "@jupyter-widgets/controls",
          "model_name": "HTMLModel",
          "model_module_version": "1.5.0",
          "state": {
            "_dom_classes": [],
            "_model_module": "@jupyter-widgets/controls",
            "_model_module_version": "1.5.0",
            "_model_name": "HTMLModel",
            "_view_count": null,
            "_view_module": "@jupyter-widgets/controls",
            "_view_module_version": "1.5.0",
            "_view_name": "HTMLView",
            "description": "",
            "description_tooltip": null,
            "layout": "IPY_MODEL_7ca5d63b6cd2468fbec1a815e0a1b7e9",
            "placeholder": "​",
            "style": "IPY_MODEL_ca18f5c8d84e4e5f98e5f70789ff66c5",
            "value": " 4.98G/4.98G [00:13&lt;00:00, 326MB/s]"
          }
        },
        "b676257a67a4422b868ebbbc25a33ac8": {
          "model_module": "@jupyter-widgets/base",
          "model_name": "LayoutModel",
          "model_module_version": "1.2.0",
          "state": {
            "_model_module": "@jupyter-widgets/base",
            "_model_module_version": "1.2.0",
            "_model_name": "LayoutModel",
            "_view_count": null,
            "_view_module": "@jupyter-widgets/base",
            "_view_module_version": "1.2.0",
            "_view_name": "LayoutView",
            "align_content": null,
            "align_items": null,
            "align_self": null,
            "border": null,
            "bottom": null,
            "display": null,
            "flex": null,
            "flex_flow": null,
            "grid_area": null,
            "grid_auto_columns": null,
            "grid_auto_flow": null,
            "grid_auto_rows": null,
            "grid_column": null,
            "grid_gap": null,
            "grid_row": null,
            "grid_template_areas": null,
            "grid_template_columns": null,
            "grid_template_rows": null,
            "height": null,
            "justify_content": null,
            "justify_items": null,
            "left": null,
            "margin": null,
            "max_height": null,
            "max_width": null,
            "min_height": null,
            "min_width": null,
            "object_fit": null,
            "object_position": null,
            "order": null,
            "overflow": null,
            "overflow_x": null,
            "overflow_y": null,
            "padding": null,
            "right": null,
            "top": null,
            "visibility": null,
            "width": null
          }
        },
        "69713d826e8f49c78fc104eee5bb99e7": {
          "model_module": "@jupyter-widgets/base",
          "model_name": "LayoutModel",
          "model_module_version": "1.2.0",
          "state": {
            "_model_module": "@jupyter-widgets/base",
            "_model_module_version": "1.2.0",
            "_model_name": "LayoutModel",
            "_view_count": null,
            "_view_module": "@jupyter-widgets/base",
            "_view_module_version": "1.2.0",
            "_view_name": "LayoutView",
            "align_content": null,
            "align_items": null,
            "align_self": null,
            "border": null,
            "bottom": null,
            "display": null,
            "flex": null,
            "flex_flow": null,
            "grid_area": null,
            "grid_auto_columns": null,
            "grid_auto_flow": null,
            "grid_auto_rows": null,
            "grid_column": null,
            "grid_gap": null,
            "grid_row": null,
            "grid_template_areas": null,
            "grid_template_columns": null,
            "grid_template_rows": null,
            "height": null,
            "justify_content": null,
            "justify_items": null,
            "left": null,
            "margin": null,
            "max_height": null,
            "max_width": null,
            "min_height": null,
            "min_width": null,
            "object_fit": null,
            "object_position": null,
            "order": null,
            "overflow": null,
            "overflow_x": null,
            "overflow_y": null,
            "padding": null,
            "right": null,
            "top": null,
            "visibility": null,
            "width": null
          }
        },
        "ef81635fa15548b49ae78d1de549755d": {
          "model_module": "@jupyter-widgets/controls",
          "model_name": "DescriptionStyleModel",
          "model_module_version": "1.5.0",
          "state": {
            "_model_module": "@jupyter-widgets/controls",
            "_model_module_version": "1.5.0",
            "_model_name": "DescriptionStyleModel",
            "_view_count": null,
            "_view_module": "@jupyter-widgets/base",
            "_view_module_version": "1.2.0",
            "_view_name": "StyleView",
            "description_width": ""
          }
        },
        "2b05ea1cf63b49be9b29bb334863ff14": {
          "model_module": "@jupyter-widgets/base",
          "model_name": "LayoutModel",
          "model_module_version": "1.2.0",
          "state": {
            "_model_module": "@jupyter-widgets/base",
            "_model_module_version": "1.2.0",
            "_model_name": "LayoutModel",
            "_view_count": null,
            "_view_module": "@jupyter-widgets/base",
            "_view_module_version": "1.2.0",
            "_view_name": "LayoutView",
            "align_content": null,
            "align_items": null,
            "align_self": null,
            "border": null,
            "bottom": null,
            "display": null,
            "flex": null,
            "flex_flow": null,
            "grid_area": null,
            "grid_auto_columns": null,
            "grid_auto_flow": null,
            "grid_auto_rows": null,
            "grid_column": null,
            "grid_gap": null,
            "grid_row": null,
            "grid_template_areas": null,
            "grid_template_columns": null,
            "grid_template_rows": null,
            "height": null,
            "justify_content": null,
            "justify_items": null,
            "left": null,
            "margin": null,
            "max_height": null,
            "max_width": null,
            "min_height": null,
            "min_width": null,
            "object_fit": null,
            "object_position": null,
            "order": null,
            "overflow": null,
            "overflow_x": null,
            "overflow_y": null,
            "padding": null,
            "right": null,
            "top": null,
            "visibility": null,
            "width": null
          }
        },
        "8a907e03033f4753a17c55c1132d59b4": {
          "model_module": "@jupyter-widgets/controls",
          "model_name": "ProgressStyleModel",
          "model_module_version": "1.5.0",
          "state": {
            "_model_module": "@jupyter-widgets/controls",
            "_model_module_version": "1.5.0",
            "_model_name": "ProgressStyleModel",
            "_view_count": null,
            "_view_module": "@jupyter-widgets/base",
            "_view_module_version": "1.2.0",
            "_view_name": "StyleView",
            "bar_color": null,
            "description_width": ""
          }
        },
        "7ca5d63b6cd2468fbec1a815e0a1b7e9": {
          "model_module": "@jupyter-widgets/base",
          "model_name": "LayoutModel",
          "model_module_version": "1.2.0",
          "state": {
            "_model_module": "@jupyter-widgets/base",
            "_model_module_version": "1.2.0",
            "_model_name": "LayoutModel",
            "_view_count": null,
            "_view_module": "@jupyter-widgets/base",
            "_view_module_version": "1.2.0",
            "_view_name": "LayoutView",
            "align_content": null,
            "align_items": null,
            "align_self": null,
            "border": null,
            "bottom": null,
            "display": null,
            "flex": null,
            "flex_flow": null,
            "grid_area": null,
            "grid_auto_columns": null,
            "grid_auto_flow": null,
            "grid_auto_rows": null,
            "grid_column": null,
            "grid_gap": null,
            "grid_row": null,
            "grid_template_areas": null,
            "grid_template_columns": null,
            "grid_template_rows": null,
            "height": null,
            "justify_content": null,
            "justify_items": null,
            "left": null,
            "margin": null,
            "max_height": null,
            "max_width": null,
            "min_height": null,
            "min_width": null,
            "object_fit": null,
            "object_position": null,
            "order": null,
            "overflow": null,
            "overflow_x": null,
            "overflow_y": null,
            "padding": null,
            "right": null,
            "top": null,
            "visibility": null,
            "width": null
          }
        },
        "ca18f5c8d84e4e5f98e5f70789ff66c5": {
          "model_module": "@jupyter-widgets/controls",
          "model_name": "DescriptionStyleModel",
          "model_module_version": "1.5.0",
          "state": {
            "_model_module": "@jupyter-widgets/controls",
            "_model_module_version": "1.5.0",
            "_model_name": "DescriptionStyleModel",
            "_view_count": null,
            "_view_module": "@jupyter-widgets/base",
            "_view_module_version": "1.2.0",
            "_view_name": "StyleView",
            "description_width": ""
          }
        },
        "d323ea7cf9e84c8eabe9e59ed7fb314a": {
          "model_module": "@jupyter-widgets/controls",
          "model_name": "HBoxModel",
          "model_module_version": "1.5.0",
          "state": {
            "_dom_classes": [],
            "_model_module": "@jupyter-widgets/controls",
            "_model_module_version": "1.5.0",
            "_model_name": "HBoxModel",
            "_view_count": null,
            "_view_module": "@jupyter-widgets/controls",
            "_view_module_version": "1.5.0",
            "_view_name": "HBoxView",
            "box_style": "",
            "children": [
              "IPY_MODEL_4f72120c62f44c198c2ab71e35bb80f1",
              "IPY_MODEL_8fee74e4b69046298f6ee8e54dc8028c",
              "IPY_MODEL_dbe7abfa7ae0495f823f8720e446baa7"
            ],
            "layout": "IPY_MODEL_3f6ae7adac644d3281509ac2ab823963"
          }
        },
        "4f72120c62f44c198c2ab71e35bb80f1": {
          "model_module": "@jupyter-widgets/controls",
          "model_name": "HTMLModel",
          "model_module_version": "1.5.0",
          "state": {
            "_dom_classes": [],
            "_model_module": "@jupyter-widgets/controls",
            "_model_module_version": "1.5.0",
            "_model_name": "HTMLModel",
            "_view_count": null,
            "_view_module": "@jupyter-widgets/controls",
            "_view_module_version": "1.5.0",
            "_view_name": "HTMLView",
            "description": "",
            "description_tooltip": null,
            "layout": "IPY_MODEL_f5518cfe7aa84f6e903cbeb723a8c94d",
            "placeholder": "​",
            "style": "IPY_MODEL_dfe80ebbb0754b60984cb3f4d6d0ed8f",
            "value": "model-00003-of-00003.safetensors: 100%"
          }
        },
        "8fee74e4b69046298f6ee8e54dc8028c": {
          "model_module": "@jupyter-widgets/controls",
          "model_name": "FloatProgressModel",
          "model_module_version": "1.5.0",
          "state": {
            "_dom_classes": [],
            "_model_module": "@jupyter-widgets/controls",
            "_model_module_version": "1.5.0",
            "_model_name": "FloatProgressModel",
            "_view_count": null,
            "_view_module": "@jupyter-widgets/controls",
            "_view_module_version": "1.5.0",
            "_view_name": "ProgressView",
            "bar_style": "success",
            "description": "",
            "description_tooltip": null,
            "layout": "IPY_MODEL_5f3c2a1121094c48825a206043c6c052",
            "max": 481381384,
            "min": 0,
            "orientation": "horizontal",
            "style": "IPY_MODEL_6dcc5e9d65604d6e9a7fbe7b656e7a21",
            "value": 481381384
          }
        },
        "dbe7abfa7ae0495f823f8720e446baa7": {
          "model_module": "@jupyter-widgets/controls",
          "model_name": "HTMLModel",
          "model_module_version": "1.5.0",
          "state": {
            "_dom_classes": [],
            "_model_module": "@jupyter-widgets/controls",
            "_model_module_version": "1.5.0",
            "_model_name": "HTMLModel",
            "_view_count": null,
            "_view_module": "@jupyter-widgets/controls",
            "_view_module_version": "1.5.0",
            "_view_name": "HTMLView",
            "description": "",
            "description_tooltip": null,
            "layout": "IPY_MODEL_b48c8a7dffde4bb19267e1bacb6f921d",
            "placeholder": "​",
            "style": "IPY_MODEL_eb1dc5f259f44f7c822980a9811fe7f5",
            "value": " 481M/481M [00:01&lt;00:00, 389MB/s]"
          }
        },
        "3f6ae7adac644d3281509ac2ab823963": {
          "model_module": "@jupyter-widgets/base",
          "model_name": "LayoutModel",
          "model_module_version": "1.2.0",
          "state": {
            "_model_module": "@jupyter-widgets/base",
            "_model_module_version": "1.2.0",
            "_model_name": "LayoutModel",
            "_view_count": null,
            "_view_module": "@jupyter-widgets/base",
            "_view_module_version": "1.2.0",
            "_view_name": "LayoutView",
            "align_content": null,
            "align_items": null,
            "align_self": null,
            "border": null,
            "bottom": null,
            "display": null,
            "flex": null,
            "flex_flow": null,
            "grid_area": null,
            "grid_auto_columns": null,
            "grid_auto_flow": null,
            "grid_auto_rows": null,
            "grid_column": null,
            "grid_gap": null,
            "grid_row": null,
            "grid_template_areas": null,
            "grid_template_columns": null,
            "grid_template_rows": null,
            "height": null,
            "justify_content": null,
            "justify_items": null,
            "left": null,
            "margin": null,
            "max_height": null,
            "max_width": null,
            "min_height": null,
            "min_width": null,
            "object_fit": null,
            "object_position": null,
            "order": null,
            "overflow": null,
            "overflow_x": null,
            "overflow_y": null,
            "padding": null,
            "right": null,
            "top": null,
            "visibility": null,
            "width": null
          }
        },
        "f5518cfe7aa84f6e903cbeb723a8c94d": {
          "model_module": "@jupyter-widgets/base",
          "model_name": "LayoutModel",
          "model_module_version": "1.2.0",
          "state": {
            "_model_module": "@jupyter-widgets/base",
            "_model_module_version": "1.2.0",
            "_model_name": "LayoutModel",
            "_view_count": null,
            "_view_module": "@jupyter-widgets/base",
            "_view_module_version": "1.2.0",
            "_view_name": "LayoutView",
            "align_content": null,
            "align_items": null,
            "align_self": null,
            "border": null,
            "bottom": null,
            "display": null,
            "flex": null,
            "flex_flow": null,
            "grid_area": null,
            "grid_auto_columns": null,
            "grid_auto_flow": null,
            "grid_auto_rows": null,
            "grid_column": null,
            "grid_gap": null,
            "grid_row": null,
            "grid_template_areas": null,
            "grid_template_columns": null,
            "grid_template_rows": null,
            "height": null,
            "justify_content": null,
            "justify_items": null,
            "left": null,
            "margin": null,
            "max_height": null,
            "max_width": null,
            "min_height": null,
            "min_width": null,
            "object_fit": null,
            "object_position": null,
            "order": null,
            "overflow": null,
            "overflow_x": null,
            "overflow_y": null,
            "padding": null,
            "right": null,
            "top": null,
            "visibility": null,
            "width": null
          }
        },
        "dfe80ebbb0754b60984cb3f4d6d0ed8f": {
          "model_module": "@jupyter-widgets/controls",
          "model_name": "DescriptionStyleModel",
          "model_module_version": "1.5.0",
          "state": {
            "_model_module": "@jupyter-widgets/controls",
            "_model_module_version": "1.5.0",
            "_model_name": "DescriptionStyleModel",
            "_view_count": null,
            "_view_module": "@jupyter-widgets/base",
            "_view_module_version": "1.2.0",
            "_view_name": "StyleView",
            "description_width": ""
          }
        },
        "5f3c2a1121094c48825a206043c6c052": {
          "model_module": "@jupyter-widgets/base",
          "model_name": "LayoutModel",
          "model_module_version": "1.2.0",
          "state": {
            "_model_module": "@jupyter-widgets/base",
            "_model_module_version": "1.2.0",
            "_model_name": "LayoutModel",
            "_view_count": null,
            "_view_module": "@jupyter-widgets/base",
            "_view_module_version": "1.2.0",
            "_view_name": "LayoutView",
            "align_content": null,
            "align_items": null,
            "align_self": null,
            "border": null,
            "bottom": null,
            "display": null,
            "flex": null,
            "flex_flow": null,
            "grid_area": null,
            "grid_auto_columns": null,
            "grid_auto_flow": null,
            "grid_auto_rows": null,
            "grid_column": null,
            "grid_gap": null,
            "grid_row": null,
            "grid_template_areas": null,
            "grid_template_columns": null,
            "grid_template_rows": null,
            "height": null,
            "justify_content": null,
            "justify_items": null,
            "left": null,
            "margin": null,
            "max_height": null,
            "max_width": null,
            "min_height": null,
            "min_width": null,
            "object_fit": null,
            "object_position": null,
            "order": null,
            "overflow": null,
            "overflow_x": null,
            "overflow_y": null,
            "padding": null,
            "right": null,
            "top": null,
            "visibility": null,
            "width": null
          }
        },
        "6dcc5e9d65604d6e9a7fbe7b656e7a21": {
          "model_module": "@jupyter-widgets/controls",
          "model_name": "ProgressStyleModel",
          "model_module_version": "1.5.0",
          "state": {
            "_model_module": "@jupyter-widgets/controls",
            "_model_module_version": "1.5.0",
            "_model_name": "ProgressStyleModel",
            "_view_count": null,
            "_view_module": "@jupyter-widgets/base",
            "_view_module_version": "1.2.0",
            "_view_name": "StyleView",
            "bar_color": null,
            "description_width": ""
          }
        },
        "b48c8a7dffde4bb19267e1bacb6f921d": {
          "model_module": "@jupyter-widgets/base",
          "model_name": "LayoutModel",
          "model_module_version": "1.2.0",
          "state": {
            "_model_module": "@jupyter-widgets/base",
            "_model_module_version": "1.2.0",
            "_model_name": "LayoutModel",
            "_view_count": null,
            "_view_module": "@jupyter-widgets/base",
            "_view_module_version": "1.2.0",
            "_view_name": "LayoutView",
            "align_content": null,
            "align_items": null,
            "align_self": null,
            "border": null,
            "bottom": null,
            "display": null,
            "flex": null,
            "flex_flow": null,
            "grid_area": null,
            "grid_auto_columns": null,
            "grid_auto_flow": null,
            "grid_auto_rows": null,
            "grid_column": null,
            "grid_gap": null,
            "grid_row": null,
            "grid_template_areas": null,
            "grid_template_columns": null,
            "grid_template_rows": null,
            "height": null,
            "justify_content": null,
            "justify_items": null,
            "left": null,
            "margin": null,
            "max_height": null,
            "max_width": null,
            "min_height": null,
            "min_width": null,
            "object_fit": null,
            "object_position": null,
            "order": null,
            "overflow": null,
            "overflow_x": null,
            "overflow_y": null,
            "padding": null,
            "right": null,
            "top": null,
            "visibility": null,
            "width": null
          }
        },
        "eb1dc5f259f44f7c822980a9811fe7f5": {
          "model_module": "@jupyter-widgets/controls",
          "model_name": "DescriptionStyleModel",
          "model_module_version": "1.5.0",
          "state": {
            "_model_module": "@jupyter-widgets/controls",
            "_model_module_version": "1.5.0",
            "_model_name": "DescriptionStyleModel",
            "_view_count": null,
            "_view_module": "@jupyter-widgets/base",
            "_view_module_version": "1.2.0",
            "_view_name": "StyleView",
            "description_width": ""
          }
        },
        "5897118afe75485c836235d9571328a3": {
          "model_module": "@jupyter-widgets/controls",
          "model_name": "HBoxModel",
          "model_module_version": "1.5.0",
          "state": {
            "_dom_classes": [],
            "_model_module": "@jupyter-widgets/controls",
            "_model_module_version": "1.5.0",
            "_model_name": "HBoxModel",
            "_view_count": null,
            "_view_module": "@jupyter-widgets/controls",
            "_view_module_version": "1.5.0",
            "_view_name": "HBoxView",
            "box_style": "",
            "children": [
              "IPY_MODEL_27b21e0d516245d18a1f544f7551f10c",
              "IPY_MODEL_c8692b18421c44b0b5260307c740d7ec",
              "IPY_MODEL_8f26056d04664478a1f38f6cd935746d"
            ],
            "layout": "IPY_MODEL_902d899c6bd9431e844a3ecb357f059c"
          }
        },
        "27b21e0d516245d18a1f544f7551f10c": {
          "model_module": "@jupyter-widgets/controls",
          "model_name": "HTMLModel",
          "model_module_version": "1.5.0",
          "state": {
            "_dom_classes": [],
            "_model_module": "@jupyter-widgets/controls",
            "_model_module_version": "1.5.0",
            "_model_name": "HTMLModel",
            "_view_count": null,
            "_view_module": "@jupyter-widgets/controls",
            "_view_module_version": "1.5.0",
            "_view_name": "HTMLView",
            "description": "",
            "description_tooltip": null,
            "layout": "IPY_MODEL_5270c661b934441186f67bc43bbd83ac",
            "placeholder": "​",
            "style": "IPY_MODEL_1d18c2f9a639407b9d862931bf2e76c4",
            "value": "Loading checkpoint shards: 100%"
          }
        },
        "c8692b18421c44b0b5260307c740d7ec": {
          "model_module": "@jupyter-widgets/controls",
          "model_name": "FloatProgressModel",
          "model_module_version": "1.5.0",
          "state": {
            "_dom_classes": [],
            "_model_module": "@jupyter-widgets/controls",
            "_model_module_version": "1.5.0",
            "_model_name": "FloatProgressModel",
            "_view_count": null,
            "_view_module": "@jupyter-widgets/controls",
            "_view_module_version": "1.5.0",
            "_view_name": "ProgressView",
            "bar_style": "success",
            "description": "",
            "description_tooltip": null,
            "layout": "IPY_MODEL_3ab8517dde634a13be9771b8b3a66282",
            "max": 3,
            "min": 0,
            "orientation": "horizontal",
            "style": "IPY_MODEL_7147e2c30bc04362940c9acc71b976b0",
            "value": 3
          }
        },
        "8f26056d04664478a1f38f6cd935746d": {
          "model_module": "@jupyter-widgets/controls",
          "model_name": "HTMLModel",
          "model_module_version": "1.5.0",
          "state": {
            "_dom_classes": [],
            "_model_module": "@jupyter-widgets/controls",
            "_model_module_version": "1.5.0",
            "_model_name": "HTMLModel",
            "_view_count": null,
            "_view_module": "@jupyter-widgets/controls",
            "_view_module_version": "1.5.0",
            "_view_name": "HTMLView",
            "description": "",
            "description_tooltip": null,
            "layout": "IPY_MODEL_3d149eec8d3944268e309aa644a50f81",
            "placeholder": "​",
            "style": "IPY_MODEL_9a28ce04b8484a92baea651316a35159",
            "value": " 3/3 [00:03&lt;00:00,  1.04s/it]"
          }
        },
        "902d899c6bd9431e844a3ecb357f059c": {
          "model_module": "@jupyter-widgets/base",
          "model_name": "LayoutModel",
          "model_module_version": "1.2.0",
          "state": {
            "_model_module": "@jupyter-widgets/base",
            "_model_module_version": "1.2.0",
            "_model_name": "LayoutModel",
            "_view_count": null,
            "_view_module": "@jupyter-widgets/base",
            "_view_module_version": "1.2.0",
            "_view_name": "LayoutView",
            "align_content": null,
            "align_items": null,
            "align_self": null,
            "border": null,
            "bottom": null,
            "display": null,
            "flex": null,
            "flex_flow": null,
            "grid_area": null,
            "grid_auto_columns": null,
            "grid_auto_flow": null,
            "grid_auto_rows": null,
            "grid_column": null,
            "grid_gap": null,
            "grid_row": null,
            "grid_template_areas": null,
            "grid_template_columns": null,
            "grid_template_rows": null,
            "height": null,
            "justify_content": null,
            "justify_items": null,
            "left": null,
            "margin": null,
            "max_height": null,
            "max_width": null,
            "min_height": null,
            "min_width": null,
            "object_fit": null,
            "object_position": null,
            "order": null,
            "overflow": null,
            "overflow_x": null,
            "overflow_y": null,
            "padding": null,
            "right": null,
            "top": null,
            "visibility": null,
            "width": null
          }
        },
        "5270c661b934441186f67bc43bbd83ac": {
          "model_module": "@jupyter-widgets/base",
          "model_name": "LayoutModel",
          "model_module_version": "1.2.0",
          "state": {
            "_model_module": "@jupyter-widgets/base",
            "_model_module_version": "1.2.0",
            "_model_name": "LayoutModel",
            "_view_count": null,
            "_view_module": "@jupyter-widgets/base",
            "_view_module_version": "1.2.0",
            "_view_name": "LayoutView",
            "align_content": null,
            "align_items": null,
            "align_self": null,
            "border": null,
            "bottom": null,
            "display": null,
            "flex": null,
            "flex_flow": null,
            "grid_area": null,
            "grid_auto_columns": null,
            "grid_auto_flow": null,
            "grid_auto_rows": null,
            "grid_column": null,
            "grid_gap": null,
            "grid_row": null,
            "grid_template_areas": null,
            "grid_template_columns": null,
            "grid_template_rows": null,
            "height": null,
            "justify_content": null,
            "justify_items": null,
            "left": null,
            "margin": null,
            "max_height": null,
            "max_width": null,
            "min_height": null,
            "min_width": null,
            "object_fit": null,
            "object_position": null,
            "order": null,
            "overflow": null,
            "overflow_x": null,
            "overflow_y": null,
            "padding": null,
            "right": null,
            "top": null,
            "visibility": null,
            "width": null
          }
        },
        "1d18c2f9a639407b9d862931bf2e76c4": {
          "model_module": "@jupyter-widgets/controls",
          "model_name": "DescriptionStyleModel",
          "model_module_version": "1.5.0",
          "state": {
            "_model_module": "@jupyter-widgets/controls",
            "_model_module_version": "1.5.0",
            "_model_name": "DescriptionStyleModel",
            "_view_count": null,
            "_view_module": "@jupyter-widgets/base",
            "_view_module_version": "1.2.0",
            "_view_name": "StyleView",
            "description_width": ""
          }
        },
        "3ab8517dde634a13be9771b8b3a66282": {
          "model_module": "@jupyter-widgets/base",
          "model_name": "LayoutModel",
          "model_module_version": "1.2.0",
          "state": {
            "_model_module": "@jupyter-widgets/base",
            "_model_module_version": "1.2.0",
            "_model_name": "LayoutModel",
            "_view_count": null,
            "_view_module": "@jupyter-widgets/base",
            "_view_module_version": "1.2.0",
            "_view_name": "LayoutView",
            "align_content": null,
            "align_items": null,
            "align_self": null,
            "border": null,
            "bottom": null,
            "display": null,
            "flex": null,
            "flex_flow": null,
            "grid_area": null,
            "grid_auto_columns": null,
            "grid_auto_flow": null,
            "grid_auto_rows": null,
            "grid_column": null,
            "grid_gap": null,
            "grid_row": null,
            "grid_template_areas": null,
            "grid_template_columns": null,
            "grid_template_rows": null,
            "height": null,
            "justify_content": null,
            "justify_items": null,
            "left": null,
            "margin": null,
            "max_height": null,
            "max_width": null,
            "min_height": null,
            "min_width": null,
            "object_fit": null,
            "object_position": null,
            "order": null,
            "overflow": null,
            "overflow_x": null,
            "overflow_y": null,
            "padding": null,
            "right": null,
            "top": null,
            "visibility": null,
            "width": null
          }
        },
        "7147e2c30bc04362940c9acc71b976b0": {
          "model_module": "@jupyter-widgets/controls",
          "model_name": "ProgressStyleModel",
          "model_module_version": "1.5.0",
          "state": {
            "_model_module": "@jupyter-widgets/controls",
            "_model_module_version": "1.5.0",
            "_model_name": "ProgressStyleModel",
            "_view_count": null,
            "_view_module": "@jupyter-widgets/base",
            "_view_module_version": "1.2.0",
            "_view_name": "StyleView",
            "bar_color": null,
            "description_width": ""
          }
        },
        "3d149eec8d3944268e309aa644a50f81": {
          "model_module": "@jupyter-widgets/base",
          "model_name": "LayoutModel",
          "model_module_version": "1.2.0",
          "state": {
            "_model_module": "@jupyter-widgets/base",
            "_model_module_version": "1.2.0",
            "_model_name": "LayoutModel",
            "_view_count": null,
            "_view_module": "@jupyter-widgets/base",
            "_view_module_version": "1.2.0",
            "_view_name": "LayoutView",
            "align_content": null,
            "align_items": null,
            "align_self": null,
            "border": null,
            "bottom": null,
            "display": null,
            "flex": null,
            "flex_flow": null,
            "grid_area": null,
            "grid_auto_columns": null,
            "grid_auto_flow": null,
            "grid_auto_rows": null,
            "grid_column": null,
            "grid_gap": null,
            "grid_row": null,
            "grid_template_areas": null,
            "grid_template_columns": null,
            "grid_template_rows": null,
            "height": null,
            "justify_content": null,
            "justify_items": null,
            "left": null,
            "margin": null,
            "max_height": null,
            "max_width": null,
            "min_height": null,
            "min_width": null,
            "object_fit": null,
            "object_position": null,
            "order": null,
            "overflow": null,
            "overflow_x": null,
            "overflow_y": null,
            "padding": null,
            "right": null,
            "top": null,
            "visibility": null,
            "width": null
          }
        },
        "9a28ce04b8484a92baea651316a35159": {
          "model_module": "@jupyter-widgets/controls",
          "model_name": "DescriptionStyleModel",
          "model_module_version": "1.5.0",
          "state": {
            "_model_module": "@jupyter-widgets/controls",
            "_model_module_version": "1.5.0",
            "_model_name": "DescriptionStyleModel",
            "_view_count": null,
            "_view_module": "@jupyter-widgets/base",
            "_view_module_version": "1.2.0",
            "_view_name": "StyleView",
            "description_width": ""
          }
        },
        "77023c5826cd4566b73e99b7d4aa0c00": {
          "model_module": "@jupyter-widgets/controls",
          "model_name": "HBoxModel",
          "model_module_version": "1.5.0",
          "state": {
            "_dom_classes": [],
            "_model_module": "@jupyter-widgets/controls",
            "_model_module_version": "1.5.0",
            "_model_name": "HBoxModel",
            "_view_count": null,
            "_view_module": "@jupyter-widgets/controls",
            "_view_module_version": "1.5.0",
            "_view_name": "HBoxView",
            "box_style": "",
            "children": [
              "IPY_MODEL_55d7aecc83fa4876902ba769cc2595cd",
              "IPY_MODEL_58a1803ea53748afa95a5ec5d1eff6d4",
              "IPY_MODEL_45e8f38a933440e7a2c0c0c772d683ee"
            ],
            "layout": "IPY_MODEL_6372285acfcd47e1bede91eb3f1141d0"
          }
        },
        "55d7aecc83fa4876902ba769cc2595cd": {
          "model_module": "@jupyter-widgets/controls",
          "model_name": "HTMLModel",
          "model_module_version": "1.5.0",
          "state": {
            "_dom_classes": [],
            "_model_module": "@jupyter-widgets/controls",
            "_model_module_version": "1.5.0",
            "_model_name": "HTMLModel",
            "_view_count": null,
            "_view_module": "@jupyter-widgets/controls",
            "_view_module_version": "1.5.0",
            "_view_name": "HTMLView",
            "description": "",
            "description_tooltip": null,
            "layout": "IPY_MODEL_c123bafeb51e429eb4f63fad56f5ebc0",
            "placeholder": "​",
            "style": "IPY_MODEL_eee544572d94415291c8f5ab94f3200f",
            "value": "generation_config.json: 100%"
          }
        },
        "58a1803ea53748afa95a5ec5d1eff6d4": {
          "model_module": "@jupyter-widgets/controls",
          "model_name": "FloatProgressModel",
          "model_module_version": "1.5.0",
          "state": {
            "_dom_classes": [],
            "_model_module": "@jupyter-widgets/controls",
            "_model_module_version": "1.5.0",
            "_model_name": "FloatProgressModel",
            "_view_count": null,
            "_view_module": "@jupyter-widgets/controls",
            "_view_module_version": "1.5.0",
            "_view_name": "ProgressView",
            "bar_style": "success",
            "description": "",
            "description_tooltip": null,
            "layout": "IPY_MODEL_c57e1c986b7e4a718382bd5c284cfedc",
            "max": 168,
            "min": 0,
            "orientation": "horizontal",
            "style": "IPY_MODEL_3827830f9e8044438e9e44b63769a361",
            "value": 168
          }
        },
        "45e8f38a933440e7a2c0c0c772d683ee": {
          "model_module": "@jupyter-widgets/controls",
          "model_name": "HTMLModel",
          "model_module_version": "1.5.0",
          "state": {
            "_dom_classes": [],
            "_model_module": "@jupyter-widgets/controls",
            "_model_module_version": "1.5.0",
            "_model_name": "HTMLModel",
            "_view_count": null,
            "_view_module": "@jupyter-widgets/controls",
            "_view_module_version": "1.5.0",
            "_view_name": "HTMLView",
            "description": "",
            "description_tooltip": null,
            "layout": "IPY_MODEL_2354d5feecb44c60b888acebf4ec7b51",
            "placeholder": "​",
            "style": "IPY_MODEL_0da06fe648734275a8432be8bd401146",
            "value": " 168/168 [00:00&lt;00:00, 14.0kB/s]"
          }
        },
        "6372285acfcd47e1bede91eb3f1141d0": {
          "model_module": "@jupyter-widgets/base",
          "model_name": "LayoutModel",
          "model_module_version": "1.2.0",
          "state": {
            "_model_module": "@jupyter-widgets/base",
            "_model_module_version": "1.2.0",
            "_model_name": "LayoutModel",
            "_view_count": null,
            "_view_module": "@jupyter-widgets/base",
            "_view_module_version": "1.2.0",
            "_view_name": "LayoutView",
            "align_content": null,
            "align_items": null,
            "align_self": null,
            "border": null,
            "bottom": null,
            "display": null,
            "flex": null,
            "flex_flow": null,
            "grid_area": null,
            "grid_auto_columns": null,
            "grid_auto_flow": null,
            "grid_auto_rows": null,
            "grid_column": null,
            "grid_gap": null,
            "grid_row": null,
            "grid_template_areas": null,
            "grid_template_columns": null,
            "grid_template_rows": null,
            "height": null,
            "justify_content": null,
            "justify_items": null,
            "left": null,
            "margin": null,
            "max_height": null,
            "max_width": null,
            "min_height": null,
            "min_width": null,
            "object_fit": null,
            "object_position": null,
            "order": null,
            "overflow": null,
            "overflow_x": null,
            "overflow_y": null,
            "padding": null,
            "right": null,
            "top": null,
            "visibility": null,
            "width": null
          }
        },
        "c123bafeb51e429eb4f63fad56f5ebc0": {
          "model_module": "@jupyter-widgets/base",
          "model_name": "LayoutModel",
          "model_module_version": "1.2.0",
          "state": {
            "_model_module": "@jupyter-widgets/base",
            "_model_module_version": "1.2.0",
            "_model_name": "LayoutModel",
            "_view_count": null,
            "_view_module": "@jupyter-widgets/base",
            "_view_module_version": "1.2.0",
            "_view_name": "LayoutView",
            "align_content": null,
            "align_items": null,
            "align_self": null,
            "border": null,
            "bottom": null,
            "display": null,
            "flex": null,
            "flex_flow": null,
            "grid_area": null,
            "grid_auto_columns": null,
            "grid_auto_flow": null,
            "grid_auto_rows": null,
            "grid_column": null,
            "grid_gap": null,
            "grid_row": null,
            "grid_template_areas": null,
            "grid_template_columns": null,
            "grid_template_rows": null,
            "height": null,
            "justify_content": null,
            "justify_items": null,
            "left": null,
            "margin": null,
            "max_height": null,
            "max_width": null,
            "min_height": null,
            "min_width": null,
            "object_fit": null,
            "object_position": null,
            "order": null,
            "overflow": null,
            "overflow_x": null,
            "overflow_y": null,
            "padding": null,
            "right": null,
            "top": null,
            "visibility": null,
            "width": null
          }
        },
        "eee544572d94415291c8f5ab94f3200f": {
          "model_module": "@jupyter-widgets/controls",
          "model_name": "DescriptionStyleModel",
          "model_module_version": "1.5.0",
          "state": {
            "_model_module": "@jupyter-widgets/controls",
            "_model_module_version": "1.5.0",
            "_model_name": "DescriptionStyleModel",
            "_view_count": null,
            "_view_module": "@jupyter-widgets/base",
            "_view_module_version": "1.2.0",
            "_view_name": "StyleView",
            "description_width": ""
          }
        },
        "c57e1c986b7e4a718382bd5c284cfedc": {
          "model_module": "@jupyter-widgets/base",
          "model_name": "LayoutModel",
          "model_module_version": "1.2.0",
          "state": {
            "_model_module": "@jupyter-widgets/base",
            "_model_module_version": "1.2.0",
            "_model_name": "LayoutModel",
            "_view_count": null,
            "_view_module": "@jupyter-widgets/base",
            "_view_module_version": "1.2.0",
            "_view_name": "LayoutView",
            "align_content": null,
            "align_items": null,
            "align_self": null,
            "border": null,
            "bottom": null,
            "display": null,
            "flex": null,
            "flex_flow": null,
            "grid_area": null,
            "grid_auto_columns": null,
            "grid_auto_flow": null,
            "grid_auto_rows": null,
            "grid_column": null,
            "grid_gap": null,
            "grid_row": null,
            "grid_template_areas": null,
            "grid_template_columns": null,
            "grid_template_rows": null,
            "height": null,
            "justify_content": null,
            "justify_items": null,
            "left": null,
            "margin": null,
            "max_height": null,
            "max_width": null,
            "min_height": null,
            "min_width": null,
            "object_fit": null,
            "object_position": null,
            "order": null,
            "overflow": null,
            "overflow_x": null,
            "overflow_y": null,
            "padding": null,
            "right": null,
            "top": null,
            "visibility": null,
            "width": null
          }
        },
        "3827830f9e8044438e9e44b63769a361": {
          "model_module": "@jupyter-widgets/controls",
          "model_name": "ProgressStyleModel",
          "model_module_version": "1.5.0",
          "state": {
            "_model_module": "@jupyter-widgets/controls",
            "_model_module_version": "1.5.0",
            "_model_name": "ProgressStyleModel",
            "_view_count": null,
            "_view_module": "@jupyter-widgets/base",
            "_view_module_version": "1.2.0",
            "_view_name": "StyleView",
            "bar_color": null,
            "description_width": ""
          }
        },
        "2354d5feecb44c60b888acebf4ec7b51": {
          "model_module": "@jupyter-widgets/base",
          "model_name": "LayoutModel",
          "model_module_version": "1.2.0",
          "state": {
            "_model_module": "@jupyter-widgets/base",
            "_model_module_version": "1.2.0",
            "_model_name": "LayoutModel",
            "_view_count": null,
            "_view_module": "@jupyter-widgets/base",
            "_view_module_version": "1.2.0",
            "_view_name": "LayoutView",
            "align_content": null,
            "align_items": null,
            "align_self": null,
            "border": null,
            "bottom": null,
            "display": null,
            "flex": null,
            "flex_flow": null,
            "grid_area": null,
            "grid_auto_columns": null,
            "grid_auto_flow": null,
            "grid_auto_rows": null,
            "grid_column": null,
            "grid_gap": null,
            "grid_row": null,
            "grid_template_areas": null,
            "grid_template_columns": null,
            "grid_template_rows": null,
            "height": null,
            "justify_content": null,
            "justify_items": null,
            "left": null,
            "margin": null,
            "max_height": null,
            "max_width": null,
            "min_height": null,
            "min_width": null,
            "object_fit": null,
            "object_position": null,
            "order": null,
            "overflow": null,
            "overflow_x": null,
            "overflow_y": null,
            "padding": null,
            "right": null,
            "top": null,
            "visibility": null,
            "width": null
          }
        },
        "0da06fe648734275a8432be8bd401146": {
          "model_module": "@jupyter-widgets/controls",
          "model_name": "DescriptionStyleModel",
          "model_module_version": "1.5.0",
          "state": {
            "_model_module": "@jupyter-widgets/controls",
            "_model_module_version": "1.5.0",
            "_model_name": "DescriptionStyleModel",
            "_view_count": null,
            "_view_module": "@jupyter-widgets/base",
            "_view_module_version": "1.2.0",
            "_view_name": "StyleView",
            "description_width": ""
          }
        },
        "9c8735b6a33c4e9faa9265da4c911f1e": {
          "model_module": "@jupyter-widgets/controls",
          "model_name": "HBoxModel",
          "model_module_version": "1.5.0",
          "state": {
            "_dom_classes": [],
            "_model_module": "@jupyter-widgets/controls",
            "_model_module_version": "1.5.0",
            "_model_name": "HBoxModel",
            "_view_count": null,
            "_view_module": "@jupyter-widgets/controls",
            "_view_module_version": "1.5.0",
            "_view_name": "HBoxView",
            "box_style": "",
            "children": [
              "IPY_MODEL_3b2ec9f9a1d94edf9adc32ef24721e3c",
              "IPY_MODEL_c271a78a503649f1924ec841283ef2c3",
              "IPY_MODEL_115fa1ef423c4db5a8d83dc7c6731508"
            ],
            "layout": "IPY_MODEL_b39bcb70f37e48398c2fe7694da73311"
          }
        },
        "3b2ec9f9a1d94edf9adc32ef24721e3c": {
          "model_module": "@jupyter-widgets/controls",
          "model_name": "HTMLModel",
          "model_module_version": "1.5.0",
          "state": {
            "_dom_classes": [],
            "_model_module": "@jupyter-widgets/controls",
            "_model_module_version": "1.5.0",
            "_model_name": "HTMLModel",
            "_view_count": null,
            "_view_module": "@jupyter-widgets/controls",
            "_view_module_version": "1.5.0",
            "_view_name": "HTMLView",
            "description": "",
            "description_tooltip": null,
            "layout": "IPY_MODEL_0f21be4486c444c1b1cd8fd837a2b16e",
            "placeholder": "​",
            "style": "IPY_MODEL_52865b734f284432b19322c60f554769",
            "value": "tokenizer_config.json: 100%"
          }
        },
        "c271a78a503649f1924ec841283ef2c3": {
          "model_module": "@jupyter-widgets/controls",
          "model_name": "FloatProgressModel",
          "model_module_version": "1.5.0",
          "state": {
            "_dom_classes": [],
            "_model_module": "@jupyter-widgets/controls",
            "_model_module_version": "1.5.0",
            "_model_name": "FloatProgressModel",
            "_view_count": null,
            "_view_module": "@jupyter-widgets/controls",
            "_view_module_version": "1.5.0",
            "_view_name": "ProgressView",
            "bar_style": "success",
            "description": "",
            "description_tooltip": null,
            "layout": "IPY_MODEL_7e65b19d39af40f5a7f2acb741858555",
            "max": 46379,
            "min": 0,
            "orientation": "horizontal",
            "style": "IPY_MODEL_1b40e640361d413d9f36ab25a439e47d",
            "value": 46379
          }
        },
        "115fa1ef423c4db5a8d83dc7c6731508": {
          "model_module": "@jupyter-widgets/controls",
          "model_name": "HTMLModel",
          "model_module_version": "1.5.0",
          "state": {
            "_dom_classes": [],
            "_model_module": "@jupyter-widgets/controls",
            "_model_module_version": "1.5.0",
            "_model_name": "HTMLModel",
            "_view_count": null,
            "_view_module": "@jupyter-widgets/controls",
            "_view_module_version": "1.5.0",
            "_view_name": "HTMLView",
            "description": "",
            "description_tooltip": null,
            "layout": "IPY_MODEL_9b008aced7a04e04a848d767005d4d12",
            "placeholder": "​",
            "style": "IPY_MODEL_e241778f42144ddb8c2d73e94fd15769",
            "value": " 46.4k/46.4k [00:00&lt;00:00, 3.73MB/s]"
          }
        },
        "b39bcb70f37e48398c2fe7694da73311": {
          "model_module": "@jupyter-widgets/base",
          "model_name": "LayoutModel",
          "model_module_version": "1.2.0",
          "state": {
            "_model_module": "@jupyter-widgets/base",
            "_model_module_version": "1.2.0",
            "_model_name": "LayoutModel",
            "_view_count": null,
            "_view_module": "@jupyter-widgets/base",
            "_view_module_version": "1.2.0",
            "_view_name": "LayoutView",
            "align_content": null,
            "align_items": null,
            "align_self": null,
            "border": null,
            "bottom": null,
            "display": null,
            "flex": null,
            "flex_flow": null,
            "grid_area": null,
            "grid_auto_columns": null,
            "grid_auto_flow": null,
            "grid_auto_rows": null,
            "grid_column": null,
            "grid_gap": null,
            "grid_row": null,
            "grid_template_areas": null,
            "grid_template_columns": null,
            "grid_template_rows": null,
            "height": null,
            "justify_content": null,
            "justify_items": null,
            "left": null,
            "margin": null,
            "max_height": null,
            "max_width": null,
            "min_height": null,
            "min_width": null,
            "object_fit": null,
            "object_position": null,
            "order": null,
            "overflow": null,
            "overflow_x": null,
            "overflow_y": null,
            "padding": null,
            "right": null,
            "top": null,
            "visibility": null,
            "width": null
          }
        },
        "0f21be4486c444c1b1cd8fd837a2b16e": {
          "model_module": "@jupyter-widgets/base",
          "model_name": "LayoutModel",
          "model_module_version": "1.2.0",
          "state": {
            "_model_module": "@jupyter-widgets/base",
            "_model_module_version": "1.2.0",
            "_model_name": "LayoutModel",
            "_view_count": null,
            "_view_module": "@jupyter-widgets/base",
            "_view_module_version": "1.2.0",
            "_view_name": "LayoutView",
            "align_content": null,
            "align_items": null,
            "align_self": null,
            "border": null,
            "bottom": null,
            "display": null,
            "flex": null,
            "flex_flow": null,
            "grid_area": null,
            "grid_auto_columns": null,
            "grid_auto_flow": null,
            "grid_auto_rows": null,
            "grid_column": null,
            "grid_gap": null,
            "grid_row": null,
            "grid_template_areas": null,
            "grid_template_columns": null,
            "grid_template_rows": null,
            "height": null,
            "justify_content": null,
            "justify_items": null,
            "left": null,
            "margin": null,
            "max_height": null,
            "max_width": null,
            "min_height": null,
            "min_width": null,
            "object_fit": null,
            "object_position": null,
            "order": null,
            "overflow": null,
            "overflow_x": null,
            "overflow_y": null,
            "padding": null,
            "right": null,
            "top": null,
            "visibility": null,
            "width": null
          }
        },
        "52865b734f284432b19322c60f554769": {
          "model_module": "@jupyter-widgets/controls",
          "model_name": "DescriptionStyleModel",
          "model_module_version": "1.5.0",
          "state": {
            "_model_module": "@jupyter-widgets/controls",
            "_model_module_version": "1.5.0",
            "_model_name": "DescriptionStyleModel",
            "_view_count": null,
            "_view_module": "@jupyter-widgets/base",
            "_view_module_version": "1.2.0",
            "_view_name": "StyleView",
            "description_width": ""
          }
        },
        "7e65b19d39af40f5a7f2acb741858555": {
          "model_module": "@jupyter-widgets/base",
          "model_name": "LayoutModel",
          "model_module_version": "1.2.0",
          "state": {
            "_model_module": "@jupyter-widgets/base",
            "_model_module_version": "1.2.0",
            "_model_name": "LayoutModel",
            "_view_count": null,
            "_view_module": "@jupyter-widgets/base",
            "_view_module_version": "1.2.0",
            "_view_name": "LayoutView",
            "align_content": null,
            "align_items": null,
            "align_self": null,
            "border": null,
            "bottom": null,
            "display": null,
            "flex": null,
            "flex_flow": null,
            "grid_area": null,
            "grid_auto_columns": null,
            "grid_auto_flow": null,
            "grid_auto_rows": null,
            "grid_column": null,
            "grid_gap": null,
            "grid_row": null,
            "grid_template_areas": null,
            "grid_template_columns": null,
            "grid_template_rows": null,
            "height": null,
            "justify_content": null,
            "justify_items": null,
            "left": null,
            "margin": null,
            "max_height": null,
            "max_width": null,
            "min_height": null,
            "min_width": null,
            "object_fit": null,
            "object_position": null,
            "order": null,
            "overflow": null,
            "overflow_x": null,
            "overflow_y": null,
            "padding": null,
            "right": null,
            "top": null,
            "visibility": null,
            "width": null
          }
        },
        "1b40e640361d413d9f36ab25a439e47d": {
          "model_module": "@jupyter-widgets/controls",
          "model_name": "ProgressStyleModel",
          "model_module_version": "1.5.0",
          "state": {
            "_model_module": "@jupyter-widgets/controls",
            "_model_module_version": "1.5.0",
            "_model_name": "ProgressStyleModel",
            "_view_count": null,
            "_view_module": "@jupyter-widgets/base",
            "_view_module_version": "1.2.0",
            "_view_name": "StyleView",
            "bar_color": null,
            "description_width": ""
          }
        },
        "9b008aced7a04e04a848d767005d4d12": {
          "model_module": "@jupyter-widgets/base",
          "model_name": "LayoutModel",
          "model_module_version": "1.2.0",
          "state": {
            "_model_module": "@jupyter-widgets/base",
            "_model_module_version": "1.2.0",
            "_model_name": "LayoutModel",
            "_view_count": null,
            "_view_module": "@jupyter-widgets/base",
            "_view_module_version": "1.2.0",
            "_view_name": "LayoutView",
            "align_content": null,
            "align_items": null,
            "align_self": null,
            "border": null,
            "bottom": null,
            "display": null,
            "flex": null,
            "flex_flow": null,
            "grid_area": null,
            "grid_auto_columns": null,
            "grid_auto_flow": null,
            "grid_auto_rows": null,
            "grid_column": null,
            "grid_gap": null,
            "grid_row": null,
            "grid_template_areas": null,
            "grid_template_columns": null,
            "grid_template_rows": null,
            "height": null,
            "justify_content": null,
            "justify_items": null,
            "left": null,
            "margin": null,
            "max_height": null,
            "max_width": null,
            "min_height": null,
            "min_width": null,
            "object_fit": null,
            "object_position": null,
            "order": null,
            "overflow": null,
            "overflow_x": null,
            "overflow_y": null,
            "padding": null,
            "right": null,
            "top": null,
            "visibility": null,
            "width": null
          }
        },
        "e241778f42144ddb8c2d73e94fd15769": {
          "model_module": "@jupyter-widgets/controls",
          "model_name": "DescriptionStyleModel",
          "model_module_version": "1.5.0",
          "state": {
            "_model_module": "@jupyter-widgets/controls",
            "_model_module_version": "1.5.0",
            "_model_name": "DescriptionStyleModel",
            "_view_count": null,
            "_view_module": "@jupyter-widgets/base",
            "_view_module_version": "1.2.0",
            "_view_name": "StyleView",
            "description_width": ""
          }
        },
        "425f0199dbf94618a81543e14ee77956": {
          "model_module": "@jupyter-widgets/controls",
          "model_name": "HBoxModel",
          "model_module_version": "1.5.0",
          "state": {
            "_dom_classes": [],
            "_model_module": "@jupyter-widgets/controls",
            "_model_module_version": "1.5.0",
            "_model_name": "HBoxModel",
            "_view_count": null,
            "_view_module": "@jupyter-widgets/controls",
            "_view_module_version": "1.5.0",
            "_view_name": "HBoxView",
            "box_style": "",
            "children": [
              "IPY_MODEL_9a59a6c88b9b4919af5c11decd02aaee",
              "IPY_MODEL_ef6b83eda2994c3aa0d3dad62b5fa54a",
              "IPY_MODEL_e6f78458ec8d47e1a259dd05521d60e4"
            ],
            "layout": "IPY_MODEL_c3f90948442643598d953fbd8bdb3031"
          }
        },
        "9a59a6c88b9b4919af5c11decd02aaee": {
          "model_module": "@jupyter-widgets/controls",
          "model_name": "HTMLModel",
          "model_module_version": "1.5.0",
          "state": {
            "_dom_classes": [],
            "_model_module": "@jupyter-widgets/controls",
            "_model_module_version": "1.5.0",
            "_model_name": "HTMLModel",
            "_view_count": null,
            "_view_module": "@jupyter-widgets/controls",
            "_view_module_version": "1.5.0",
            "_view_name": "HTMLView",
            "description": "",
            "description_tooltip": null,
            "layout": "IPY_MODEL_2bf13e881d3e442a81192a498e8e10c1",
            "placeholder": "​",
            "style": "IPY_MODEL_dd169e627d9441e5bdd0e98de342b0aa",
            "value": "tokenizer.model: 100%"
          }
        },
        "ef6b83eda2994c3aa0d3dad62b5fa54a": {
          "model_module": "@jupyter-widgets/controls",
          "model_name": "FloatProgressModel",
          "model_module_version": "1.5.0",
          "state": {
            "_dom_classes": [],
            "_model_module": "@jupyter-widgets/controls",
            "_model_module_version": "1.5.0",
            "_model_name": "FloatProgressModel",
            "_view_count": null,
            "_view_module": "@jupyter-widgets/controls",
            "_view_module_version": "1.5.0",
            "_view_name": "ProgressView",
            "bar_style": "success",
            "description": "",
            "description_tooltip": null,
            "layout": "IPY_MODEL_a34bc439ed344d7091646027c0251ec8",
            "max": 4241003,
            "min": 0,
            "orientation": "horizontal",
            "style": "IPY_MODEL_317754dd771e40bd8190b6e27881f2f1",
            "value": 4241003
          }
        },
        "e6f78458ec8d47e1a259dd05521d60e4": {
          "model_module": "@jupyter-widgets/controls",
          "model_name": "HTMLModel",
          "model_module_version": "1.5.0",
          "state": {
            "_dom_classes": [],
            "_model_module": "@jupyter-widgets/controls",
            "_model_module_version": "1.5.0",
            "_model_name": "HTMLModel",
            "_view_count": null,
            "_view_module": "@jupyter-widgets/controls",
            "_view_module_version": "1.5.0",
            "_view_name": "HTMLView",
            "description": "",
            "description_tooltip": null,
            "layout": "IPY_MODEL_3f64f0bff8b5403c8ee7eb331f5d2069",
            "placeholder": "​",
            "style": "IPY_MODEL_eff150d262174b73a00f016c5956f749",
            "value": " 4.24M/4.24M [00:00&lt;00:00, 165MB/s]"
          }
        },
        "c3f90948442643598d953fbd8bdb3031": {
          "model_module": "@jupyter-widgets/base",
          "model_name": "LayoutModel",
          "model_module_version": "1.2.0",
          "state": {
            "_model_module": "@jupyter-widgets/base",
            "_model_module_version": "1.2.0",
            "_model_name": "LayoutModel",
            "_view_count": null,
            "_view_module": "@jupyter-widgets/base",
            "_view_module_version": "1.2.0",
            "_view_name": "LayoutView",
            "align_content": null,
            "align_items": null,
            "align_self": null,
            "border": null,
            "bottom": null,
            "display": null,
            "flex": null,
            "flex_flow": null,
            "grid_area": null,
            "grid_auto_columns": null,
            "grid_auto_flow": null,
            "grid_auto_rows": null,
            "grid_column": null,
            "grid_gap": null,
            "grid_row": null,
            "grid_template_areas": null,
            "grid_template_columns": null,
            "grid_template_rows": null,
            "height": null,
            "justify_content": null,
            "justify_items": null,
            "left": null,
            "margin": null,
            "max_height": null,
            "max_width": null,
            "min_height": null,
            "min_width": null,
            "object_fit": null,
            "object_position": null,
            "order": null,
            "overflow": null,
            "overflow_x": null,
            "overflow_y": null,
            "padding": null,
            "right": null,
            "top": null,
            "visibility": null,
            "width": null
          }
        },
        "2bf13e881d3e442a81192a498e8e10c1": {
          "model_module": "@jupyter-widgets/base",
          "model_name": "LayoutModel",
          "model_module_version": "1.2.0",
          "state": {
            "_model_module": "@jupyter-widgets/base",
            "_model_module_version": "1.2.0",
            "_model_name": "LayoutModel",
            "_view_count": null,
            "_view_module": "@jupyter-widgets/base",
            "_view_module_version": "1.2.0",
            "_view_name": "LayoutView",
            "align_content": null,
            "align_items": null,
            "align_self": null,
            "border": null,
            "bottom": null,
            "display": null,
            "flex": null,
            "flex_flow": null,
            "grid_area": null,
            "grid_auto_columns": null,
            "grid_auto_flow": null,
            "grid_auto_rows": null,
            "grid_column": null,
            "grid_gap": null,
            "grid_row": null,
            "grid_template_areas": null,
            "grid_template_columns": null,
            "grid_template_rows": null,
            "height": null,
            "justify_content": null,
            "justify_items": null,
            "left": null,
            "margin": null,
            "max_height": null,
            "max_width": null,
            "min_height": null,
            "min_width": null,
            "object_fit": null,
            "object_position": null,
            "order": null,
            "overflow": null,
            "overflow_x": null,
            "overflow_y": null,
            "padding": null,
            "right": null,
            "top": null,
            "visibility": null,
            "width": null
          }
        },
        "dd169e627d9441e5bdd0e98de342b0aa": {
          "model_module": "@jupyter-widgets/controls",
          "model_name": "DescriptionStyleModel",
          "model_module_version": "1.5.0",
          "state": {
            "_model_module": "@jupyter-widgets/controls",
            "_model_module_version": "1.5.0",
            "_model_name": "DescriptionStyleModel",
            "_view_count": null,
            "_view_module": "@jupyter-widgets/base",
            "_view_module_version": "1.2.0",
            "_view_name": "StyleView",
            "description_width": ""
          }
        },
        "a34bc439ed344d7091646027c0251ec8": {
          "model_module": "@jupyter-widgets/base",
          "model_name": "LayoutModel",
          "model_module_version": "1.2.0",
          "state": {
            "_model_module": "@jupyter-widgets/base",
            "_model_module_version": "1.2.0",
            "_model_name": "LayoutModel",
            "_view_count": null,
            "_view_module": "@jupyter-widgets/base",
            "_view_module_version": "1.2.0",
            "_view_name": "LayoutView",
            "align_content": null,
            "align_items": null,
            "align_self": null,
            "border": null,
            "bottom": null,
            "display": null,
            "flex": null,
            "flex_flow": null,
            "grid_area": null,
            "grid_auto_columns": null,
            "grid_auto_flow": null,
            "grid_auto_rows": null,
            "grid_column": null,
            "grid_gap": null,
            "grid_row": null,
            "grid_template_areas": null,
            "grid_template_columns": null,
            "grid_template_rows": null,
            "height": null,
            "justify_content": null,
            "justify_items": null,
            "left": null,
            "margin": null,
            "max_height": null,
            "max_width": null,
            "min_height": null,
            "min_width": null,
            "object_fit": null,
            "object_position": null,
            "order": null,
            "overflow": null,
            "overflow_x": null,
            "overflow_y": null,
            "padding": null,
            "right": null,
            "top": null,
            "visibility": null,
            "width": null
          }
        },
        "317754dd771e40bd8190b6e27881f2f1": {
          "model_module": "@jupyter-widgets/controls",
          "model_name": "ProgressStyleModel",
          "model_module_version": "1.5.0",
          "state": {
            "_model_module": "@jupyter-widgets/controls",
            "_model_module_version": "1.5.0",
            "_model_name": "ProgressStyleModel",
            "_view_count": null,
            "_view_module": "@jupyter-widgets/base",
            "_view_module_version": "1.2.0",
            "_view_name": "StyleView",
            "bar_color": null,
            "description_width": ""
          }
        },
        "3f64f0bff8b5403c8ee7eb331f5d2069": {
          "model_module": "@jupyter-widgets/base",
          "model_name": "LayoutModel",
          "model_module_version": "1.2.0",
          "state": {
            "_model_module": "@jupyter-widgets/base",
            "_model_module_version": "1.2.0",
            "_model_name": "LayoutModel",
            "_view_count": null,
            "_view_module": "@jupyter-widgets/base",
            "_view_module_version": "1.2.0",
            "_view_name": "LayoutView",
            "align_content": null,
            "align_items": null,
            "align_self": null,
            "border": null,
            "bottom": null,
            "display": null,
            "flex": null,
            "flex_flow": null,
            "grid_area": null,
            "grid_auto_columns": null,
            "grid_auto_flow": null,
            "grid_auto_rows": null,
            "grid_column": null,
            "grid_gap": null,
            "grid_row": null,
            "grid_template_areas": null,
            "grid_template_columns": null,
            "grid_template_rows": null,
            "height": null,
            "justify_content": null,
            "justify_items": null,
            "left": null,
            "margin": null,
            "max_height": null,
            "max_width": null,
            "min_height": null,
            "min_width": null,
            "object_fit": null,
            "object_position": null,
            "order": null,
            "overflow": null,
            "overflow_x": null,
            "overflow_y": null,
            "padding": null,
            "right": null,
            "top": null,
            "visibility": null,
            "width": null
          }
        },
        "eff150d262174b73a00f016c5956f749": {
          "model_module": "@jupyter-widgets/controls",
          "model_name": "DescriptionStyleModel",
          "model_module_version": "1.5.0",
          "state": {
            "_model_module": "@jupyter-widgets/controls",
            "_model_module_version": "1.5.0",
            "_model_name": "DescriptionStyleModel",
            "_view_count": null,
            "_view_module": "@jupyter-widgets/base",
            "_view_module_version": "1.2.0",
            "_view_name": "StyleView",
            "description_width": ""
          }
        },
        "ba8375f082d94f58ab9b4aa2acc50bfc": {
          "model_module": "@jupyter-widgets/controls",
          "model_name": "HBoxModel",
          "model_module_version": "1.5.0",
          "state": {
            "_dom_classes": [],
            "_model_module": "@jupyter-widgets/controls",
            "_model_module_version": "1.5.0",
            "_model_name": "HBoxModel",
            "_view_count": null,
            "_view_module": "@jupyter-widgets/controls",
            "_view_module_version": "1.5.0",
            "_view_name": "HBoxView",
            "box_style": "",
            "children": [
              "IPY_MODEL_8927f9309f9540e9ad83136d2a468758",
              "IPY_MODEL_314274e8fe924aa1b2aa08111a96e8e2",
              "IPY_MODEL_c4d0be045b414b97b60999bcbfc78db6"
            ],
            "layout": "IPY_MODEL_e86db7c53acc48e4853885dc0ad78ab2"
          }
        },
        "8927f9309f9540e9ad83136d2a468758": {
          "model_module": "@jupyter-widgets/controls",
          "model_name": "HTMLModel",
          "model_module_version": "1.5.0",
          "state": {
            "_dom_classes": [],
            "_model_module": "@jupyter-widgets/controls",
            "_model_module_version": "1.5.0",
            "_model_name": "HTMLModel",
            "_view_count": null,
            "_view_module": "@jupyter-widgets/controls",
            "_view_module_version": "1.5.0",
            "_view_name": "HTMLView",
            "description": "",
            "description_tooltip": null,
            "layout": "IPY_MODEL_41987913f8f64ea2a564f246ce1ed68b",
            "placeholder": "​",
            "style": "IPY_MODEL_3da8a169b0be4dca8fbd5779b1c453f1",
            "value": "tokenizer.json: 100%"
          }
        },
        "314274e8fe924aa1b2aa08111a96e8e2": {
          "model_module": "@jupyter-widgets/controls",
          "model_name": "FloatProgressModel",
          "model_module_version": "1.5.0",
          "state": {
            "_dom_classes": [],
            "_model_module": "@jupyter-widgets/controls",
            "_model_module_version": "1.5.0",
            "_model_name": "FloatProgressModel",
            "_view_count": null,
            "_view_module": "@jupyter-widgets/controls",
            "_view_module_version": "1.5.0",
            "_view_name": "ProgressView",
            "bar_style": "success",
            "description": "",
            "description_tooltip": null,
            "layout": "IPY_MODEL_200bb61ed2be4122829a0f84df4861b8",
            "max": 17525357,
            "min": 0,
            "orientation": "horizontal",
            "style": "IPY_MODEL_d48da8d814564bfd8af868c8f32c42e7",
            "value": 17525357
          }
        },
        "c4d0be045b414b97b60999bcbfc78db6": {
          "model_module": "@jupyter-widgets/controls",
          "model_name": "HTMLModel",
          "model_module_version": "1.5.0",
          "state": {
            "_dom_classes": [],
            "_model_module": "@jupyter-widgets/controls",
            "_model_module_version": "1.5.0",
            "_model_name": "HTMLModel",
            "_view_count": null,
            "_view_module": "@jupyter-widgets/controls",
            "_view_module_version": "1.5.0",
            "_view_name": "HTMLView",
            "description": "",
            "description_tooltip": null,
            "layout": "IPY_MODEL_e34fc45b37c9434ca586e328ad9b3318",
            "placeholder": "​",
            "style": "IPY_MODEL_dacf8b5d777747dc8cddb0f2d70c9e8c",
            "value": " 17.5M/17.5M [00:00&lt;00:00, 289MB/s]"
          }
        },
        "e86db7c53acc48e4853885dc0ad78ab2": {
          "model_module": "@jupyter-widgets/base",
          "model_name": "LayoutModel",
          "model_module_version": "1.2.0",
          "state": {
            "_model_module": "@jupyter-widgets/base",
            "_model_module_version": "1.2.0",
            "_model_name": "LayoutModel",
            "_view_count": null,
            "_view_module": "@jupyter-widgets/base",
            "_view_module_version": "1.2.0",
            "_view_name": "LayoutView",
            "align_content": null,
            "align_items": null,
            "align_self": null,
            "border": null,
            "bottom": null,
            "display": null,
            "flex": null,
            "flex_flow": null,
            "grid_area": null,
            "grid_auto_columns": null,
            "grid_auto_flow": null,
            "grid_auto_rows": null,
            "grid_column": null,
            "grid_gap": null,
            "grid_row": null,
            "grid_template_areas": null,
            "grid_template_columns": null,
            "grid_template_rows": null,
            "height": null,
            "justify_content": null,
            "justify_items": null,
            "left": null,
            "margin": null,
            "max_height": null,
            "max_width": null,
            "min_height": null,
            "min_width": null,
            "object_fit": null,
            "object_position": null,
            "order": null,
            "overflow": null,
            "overflow_x": null,
            "overflow_y": null,
            "padding": null,
            "right": null,
            "top": null,
            "visibility": null,
            "width": null
          }
        },
        "41987913f8f64ea2a564f246ce1ed68b": {
          "model_module": "@jupyter-widgets/base",
          "model_name": "LayoutModel",
          "model_module_version": "1.2.0",
          "state": {
            "_model_module": "@jupyter-widgets/base",
            "_model_module_version": "1.2.0",
            "_model_name": "LayoutModel",
            "_view_count": null,
            "_view_module": "@jupyter-widgets/base",
            "_view_module_version": "1.2.0",
            "_view_name": "LayoutView",
            "align_content": null,
            "align_items": null,
            "align_self": null,
            "border": null,
            "bottom": null,
            "display": null,
            "flex": null,
            "flex_flow": null,
            "grid_area": null,
            "grid_auto_columns": null,
            "grid_auto_flow": null,
            "grid_auto_rows": null,
            "grid_column": null,
            "grid_gap": null,
            "grid_row": null,
            "grid_template_areas": null,
            "grid_template_columns": null,
            "grid_template_rows": null,
            "height": null,
            "justify_content": null,
            "justify_items": null,
            "left": null,
            "margin": null,
            "max_height": null,
            "max_width": null,
            "min_height": null,
            "min_width": null,
            "object_fit": null,
            "object_position": null,
            "order": null,
            "overflow": null,
            "overflow_x": null,
            "overflow_y": null,
            "padding": null,
            "right": null,
            "top": null,
            "visibility": null,
            "width": null
          }
        },
        "3da8a169b0be4dca8fbd5779b1c453f1": {
          "model_module": "@jupyter-widgets/controls",
          "model_name": "DescriptionStyleModel",
          "model_module_version": "1.5.0",
          "state": {
            "_model_module": "@jupyter-widgets/controls",
            "_model_module_version": "1.5.0",
            "_model_name": "DescriptionStyleModel",
            "_view_count": null,
            "_view_module": "@jupyter-widgets/base",
            "_view_module_version": "1.2.0",
            "_view_name": "StyleView",
            "description_width": ""
          }
        },
        "200bb61ed2be4122829a0f84df4861b8": {
          "model_module": "@jupyter-widgets/base",
          "model_name": "LayoutModel",
          "model_module_version": "1.2.0",
          "state": {
            "_model_module": "@jupyter-widgets/base",
            "_model_module_version": "1.2.0",
            "_model_name": "LayoutModel",
            "_view_count": null,
            "_view_module": "@jupyter-widgets/base",
            "_view_module_version": "1.2.0",
            "_view_name": "LayoutView",
            "align_content": null,
            "align_items": null,
            "align_self": null,
            "border": null,
            "bottom": null,
            "display": null,
            "flex": null,
            "flex_flow": null,
            "grid_area": null,
            "grid_auto_columns": null,
            "grid_auto_flow": null,
            "grid_auto_rows": null,
            "grid_column": null,
            "grid_gap": null,
            "grid_row": null,
            "grid_template_areas": null,
            "grid_template_columns": null,
            "grid_template_rows": null,
            "height": null,
            "justify_content": null,
            "justify_items": null,
            "left": null,
            "margin": null,
            "max_height": null,
            "max_width": null,
            "min_height": null,
            "min_width": null,
            "object_fit": null,
            "object_position": null,
            "order": null,
            "overflow": null,
            "overflow_x": null,
            "overflow_y": null,
            "padding": null,
            "right": null,
            "top": null,
            "visibility": null,
            "width": null
          }
        },
        "d48da8d814564bfd8af868c8f32c42e7": {
          "model_module": "@jupyter-widgets/controls",
          "model_name": "ProgressStyleModel",
          "model_module_version": "1.5.0",
          "state": {
            "_model_module": "@jupyter-widgets/controls",
            "_model_module_version": "1.5.0",
            "_model_name": "ProgressStyleModel",
            "_view_count": null,
            "_view_module": "@jupyter-widgets/base",
            "_view_module_version": "1.2.0",
            "_view_name": "StyleView",
            "bar_color": null,
            "description_width": ""
          }
        },
        "e34fc45b37c9434ca586e328ad9b3318": {
          "model_module": "@jupyter-widgets/base",
          "model_name": "LayoutModel",
          "model_module_version": "1.2.0",
          "state": {
            "_model_module": "@jupyter-widgets/base",
            "_model_module_version": "1.2.0",
            "_model_name": "LayoutModel",
            "_view_count": null,
            "_view_module": "@jupyter-widgets/base",
            "_view_module_version": "1.2.0",
            "_view_name": "LayoutView",
            "align_content": null,
            "align_items": null,
            "align_self": null,
            "border": null,
            "bottom": null,
            "display": null,
            "flex": null,
            "flex_flow": null,
            "grid_area": null,
            "grid_auto_columns": null,
            "grid_auto_flow": null,
            "grid_auto_rows": null,
            "grid_column": null,
            "grid_gap": null,
            "grid_row": null,
            "grid_template_areas": null,
            "grid_template_columns": null,
            "grid_template_rows": null,
            "height": null,
            "justify_content": null,
            "justify_items": null,
            "left": null,
            "margin": null,
            "max_height": null,
            "max_width": null,
            "min_height": null,
            "min_width": null,
            "object_fit": null,
            "object_position": null,
            "order": null,
            "overflow": null,
            "overflow_x": null,
            "overflow_y": null,
            "padding": null,
            "right": null,
            "top": null,
            "visibility": null,
            "width": null
          }
        },
        "dacf8b5d777747dc8cddb0f2d70c9e8c": {
          "model_module": "@jupyter-widgets/controls",
          "model_name": "DescriptionStyleModel",
          "model_module_version": "1.5.0",
          "state": {
            "_model_module": "@jupyter-widgets/controls",
            "_model_module_version": "1.5.0",
            "_model_name": "DescriptionStyleModel",
            "_view_count": null,
            "_view_module": "@jupyter-widgets/base",
            "_view_module_version": "1.2.0",
            "_view_name": "StyleView",
            "description_width": ""
          }
        },
        "6a27feb9c0bf4f76aca19ecc3a914508": {
          "model_module": "@jupyter-widgets/controls",
          "model_name": "HBoxModel",
          "model_module_version": "1.5.0",
          "state": {
            "_dom_classes": [],
            "_model_module": "@jupyter-widgets/controls",
            "_model_module_version": "1.5.0",
            "_model_name": "HBoxModel",
            "_view_count": null,
            "_view_module": "@jupyter-widgets/controls",
            "_view_module_version": "1.5.0",
            "_view_name": "HBoxView",
            "box_style": "",
            "children": [
              "IPY_MODEL_0714f1811e394c718cff4b225175fd7e",
              "IPY_MODEL_70d378d67efd4b3c9e6dc0fde456b874",
              "IPY_MODEL_db006a4440e14a3698d1f65f9e34b97b"
            ],
            "layout": "IPY_MODEL_ee285e3fe37747dcaff00861e1db0880"
          }
        },
        "0714f1811e394c718cff4b225175fd7e": {
          "model_module": "@jupyter-widgets/controls",
          "model_name": "HTMLModel",
          "model_module_version": "1.5.0",
          "state": {
            "_dom_classes": [],
            "_model_module": "@jupyter-widgets/controls",
            "_model_module_version": "1.5.0",
            "_model_name": "HTMLModel",
            "_view_count": null,
            "_view_module": "@jupyter-widgets/controls",
            "_view_module_version": "1.5.0",
            "_view_name": "HTMLView",
            "description": "",
            "description_tooltip": null,
            "layout": "IPY_MODEL_5a08b58e561a41269d22c465e38df920",
            "placeholder": "​",
            "style": "IPY_MODEL_a6d4a5d3000b4744b4d0387d449f8081",
            "value": "special_tokens_map.json: 100%"
          }
        },
        "70d378d67efd4b3c9e6dc0fde456b874": {
          "model_module": "@jupyter-widgets/controls",
          "model_name": "FloatProgressModel",
          "model_module_version": "1.5.0",
          "state": {
            "_dom_classes": [],
            "_model_module": "@jupyter-widgets/controls",
            "_model_module_version": "1.5.0",
            "_model_name": "FloatProgressModel",
            "_view_count": null,
            "_view_module": "@jupyter-widgets/controls",
            "_view_module_version": "1.5.0",
            "_view_name": "ProgressView",
            "bar_style": "success",
            "description": "",
            "description_tooltip": null,
            "layout": "IPY_MODEL_f6e99861512e4746a362bdfee23624b4",
            "max": 636,
            "min": 0,
            "orientation": "horizontal",
            "style": "IPY_MODEL_7c3cef69dafc4438bbda1d087d0ef2a3",
            "value": 636
          }
        },
        "db006a4440e14a3698d1f65f9e34b97b": {
          "model_module": "@jupyter-widgets/controls",
          "model_name": "HTMLModel",
          "model_module_version": "1.5.0",
          "state": {
            "_dom_classes": [],
            "_model_module": "@jupyter-widgets/controls",
            "_model_module_version": "1.5.0",
            "_model_name": "HTMLModel",
            "_view_count": null,
            "_view_module": "@jupyter-widgets/controls",
            "_view_module_version": "1.5.0",
            "_view_name": "HTMLView",
            "description": "",
            "description_tooltip": null,
            "layout": "IPY_MODEL_bd7faa0dde92458a93dbe4ab4370c255",
            "placeholder": "​",
            "style": "IPY_MODEL_511964956d224b32b949856d663f2cd7",
            "value": " 636/636 [00:00&lt;00:00, 45.7kB/s]"
          }
        },
        "ee285e3fe37747dcaff00861e1db0880": {
          "model_module": "@jupyter-widgets/base",
          "model_name": "LayoutModel",
          "model_module_version": "1.2.0",
          "state": {
            "_model_module": "@jupyter-widgets/base",
            "_model_module_version": "1.2.0",
            "_model_name": "LayoutModel",
            "_view_count": null,
            "_view_module": "@jupyter-widgets/base",
            "_view_module_version": "1.2.0",
            "_view_name": "LayoutView",
            "align_content": null,
            "align_items": null,
            "align_self": null,
            "border": null,
            "bottom": null,
            "display": null,
            "flex": null,
            "flex_flow": null,
            "grid_area": null,
            "grid_auto_columns": null,
            "grid_auto_flow": null,
            "grid_auto_rows": null,
            "grid_column": null,
            "grid_gap": null,
            "grid_row": null,
            "grid_template_areas": null,
            "grid_template_columns": null,
            "grid_template_rows": null,
            "height": null,
            "justify_content": null,
            "justify_items": null,
            "left": null,
            "margin": null,
            "max_height": null,
            "max_width": null,
            "min_height": null,
            "min_width": null,
            "object_fit": null,
            "object_position": null,
            "order": null,
            "overflow": null,
            "overflow_x": null,
            "overflow_y": null,
            "padding": null,
            "right": null,
            "top": null,
            "visibility": null,
            "width": null
          }
        },
        "5a08b58e561a41269d22c465e38df920": {
          "model_module": "@jupyter-widgets/base",
          "model_name": "LayoutModel",
          "model_module_version": "1.2.0",
          "state": {
            "_model_module": "@jupyter-widgets/base",
            "_model_module_version": "1.2.0",
            "_model_name": "LayoutModel",
            "_view_count": null,
            "_view_module": "@jupyter-widgets/base",
            "_view_module_version": "1.2.0",
            "_view_name": "LayoutView",
            "align_content": null,
            "align_items": null,
            "align_self": null,
            "border": null,
            "bottom": null,
            "display": null,
            "flex": null,
            "flex_flow": null,
            "grid_area": null,
            "grid_auto_columns": null,
            "grid_auto_flow": null,
            "grid_auto_rows": null,
            "grid_column": null,
            "grid_gap": null,
            "grid_row": null,
            "grid_template_areas": null,
            "grid_template_columns": null,
            "grid_template_rows": null,
            "height": null,
            "justify_content": null,
            "justify_items": null,
            "left": null,
            "margin": null,
            "max_height": null,
            "max_width": null,
            "min_height": null,
            "min_width": null,
            "object_fit": null,
            "object_position": null,
            "order": null,
            "overflow": null,
            "overflow_x": null,
            "overflow_y": null,
            "padding": null,
            "right": null,
            "top": null,
            "visibility": null,
            "width": null
          }
        },
        "a6d4a5d3000b4744b4d0387d449f8081": {
          "model_module": "@jupyter-widgets/controls",
          "model_name": "DescriptionStyleModel",
          "model_module_version": "1.5.0",
          "state": {
            "_model_module": "@jupyter-widgets/controls",
            "_model_module_version": "1.5.0",
            "_model_name": "DescriptionStyleModel",
            "_view_count": null,
            "_view_module": "@jupyter-widgets/base",
            "_view_module_version": "1.2.0",
            "_view_name": "StyleView",
            "description_width": ""
          }
        },
        "f6e99861512e4746a362bdfee23624b4": {
          "model_module": "@jupyter-widgets/base",
          "model_name": "LayoutModel",
          "model_module_version": "1.2.0",
          "state": {
            "_model_module": "@jupyter-widgets/base",
            "_model_module_version": "1.2.0",
            "_model_name": "LayoutModel",
            "_view_count": null,
            "_view_module": "@jupyter-widgets/base",
            "_view_module_version": "1.2.0",
            "_view_name": "LayoutView",
            "align_content": null,
            "align_items": null,
            "align_self": null,
            "border": null,
            "bottom": null,
            "display": null,
            "flex": null,
            "flex_flow": null,
            "grid_area": null,
            "grid_auto_columns": null,
            "grid_auto_flow": null,
            "grid_auto_rows": null,
            "grid_column": null,
            "grid_gap": null,
            "grid_row": null,
            "grid_template_areas": null,
            "grid_template_columns": null,
            "grid_template_rows": null,
            "height": null,
            "justify_content": null,
            "justify_items": null,
            "left": null,
            "margin": null,
            "max_height": null,
            "max_width": null,
            "min_height": null,
            "min_width": null,
            "object_fit": null,
            "object_position": null,
            "order": null,
            "overflow": null,
            "overflow_x": null,
            "overflow_y": null,
            "padding": null,
            "right": null,
            "top": null,
            "visibility": null,
            "width": null
          }
        },
        "7c3cef69dafc4438bbda1d087d0ef2a3": {
          "model_module": "@jupyter-widgets/controls",
          "model_name": "ProgressStyleModel",
          "model_module_version": "1.5.0",
          "state": {
            "_model_module": "@jupyter-widgets/controls",
            "_model_module_version": "1.5.0",
            "_model_name": "ProgressStyleModel",
            "_view_count": null,
            "_view_module": "@jupyter-widgets/base",
            "_view_module_version": "1.2.0",
            "_view_name": "StyleView",
            "bar_color": null,
            "description_width": ""
          }
        },
        "bd7faa0dde92458a93dbe4ab4370c255": {
          "model_module": "@jupyter-widgets/base",
          "model_name": "LayoutModel",
          "model_module_version": "1.2.0",
          "state": {
            "_model_module": "@jupyter-widgets/base",
            "_model_module_version": "1.2.0",
            "_model_name": "LayoutModel",
            "_view_count": null,
            "_view_module": "@jupyter-widgets/base",
            "_view_module_version": "1.2.0",
            "_view_name": "LayoutView",
            "align_content": null,
            "align_items": null,
            "align_self": null,
            "border": null,
            "bottom": null,
            "display": null,
            "flex": null,
            "flex_flow": null,
            "grid_area": null,
            "grid_auto_columns": null,
            "grid_auto_flow": null,
            "grid_auto_rows": null,
            "grid_column": null,
            "grid_gap": null,
            "grid_row": null,
            "grid_template_areas": null,
            "grid_template_columns": null,
            "grid_template_rows": null,
            "height": null,
            "justify_content": null,
            "justify_items": null,
            "left": null,
            "margin": null,
            "max_height": null,
            "max_width": null,
            "min_height": null,
            "min_width": null,
            "object_fit": null,
            "object_position": null,
            "order": null,
            "overflow": null,
            "overflow_x": null,
            "overflow_y": null,
            "padding": null,
            "right": null,
            "top": null,
            "visibility": null,
            "width": null
          }
        },
        "511964956d224b32b949856d663f2cd7": {
          "model_module": "@jupyter-widgets/controls",
          "model_name": "DescriptionStyleModel",
          "model_module_version": "1.5.0",
          "state": {
            "_model_module": "@jupyter-widgets/controls",
            "_model_module_version": "1.5.0",
            "_model_name": "DescriptionStyleModel",
            "_view_count": null,
            "_view_module": "@jupyter-widgets/base",
            "_view_module_version": "1.2.0",
            "_view_name": "StyleView",
            "description_width": ""
          }
        },
        "13d97d3df3124504b7eec5c9141817ac": {
          "model_module": "@jupyter-widgets/controls",
          "model_name": "HBoxModel",
          "model_module_version": "1.5.0",
          "state": {
            "_dom_classes": [],
            "_model_module": "@jupyter-widgets/controls",
            "_model_module_version": "1.5.0",
            "_model_name": "HBoxModel",
            "_view_count": null,
            "_view_module": "@jupyter-widgets/controls",
            "_view_module_version": "1.5.0",
            "_view_name": "HBoxView",
            "box_style": "",
            "children": [
              "IPY_MODEL_79cf44450f8f47678339816e96cf6b2f",
              "IPY_MODEL_29bedf0decb84c7cb6fd839e8b70a9c1",
              "IPY_MODEL_76d555388b0f4ddeb3661084adda34bf"
            ],
            "layout": "IPY_MODEL_a71a2224af374769b7073af42c170682"
          }
        },
        "79cf44450f8f47678339816e96cf6b2f": {
          "model_module": "@jupyter-widgets/controls",
          "model_name": "HTMLModel",
          "model_module_version": "1.5.0",
          "state": {
            "_dom_classes": [],
            "_model_module": "@jupyter-widgets/controls",
            "_model_module_version": "1.5.0",
            "_model_name": "HTMLModel",
            "_view_count": null,
            "_view_module": "@jupyter-widgets/controls",
            "_view_module_version": "1.5.0",
            "_view_name": "HTMLView",
            "description": "",
            "description_tooltip": null,
            "layout": "IPY_MODEL_1e7fff6b87e243a386bd84ff53797cd8",
            "placeholder": "​",
            "style": "IPY_MODEL_36e6de6f45904ecea3335142dd1d6dad",
            "value": "params.npz: 100%"
          }
        },
        "29bedf0decb84c7cb6fd839e8b70a9c1": {
          "model_module": "@jupyter-widgets/controls",
          "model_name": "FloatProgressModel",
          "model_module_version": "1.5.0",
          "state": {
            "_dom_classes": [],
            "_model_module": "@jupyter-widgets/controls",
            "_model_module_version": "1.5.0",
            "_model_name": "FloatProgressModel",
            "_view_count": null,
            "_view_module": "@jupyter-widgets/controls",
            "_view_module_version": "1.5.0",
            "_view_name": "ProgressView",
            "bar_style": "success",
            "description": "",
            "description_tooltip": null,
            "layout": "IPY_MODEL_6d859c9ccad245c08ff511e5aa0fd8a4",
            "max": 302131416,
            "min": 0,
            "orientation": "horizontal",
            "style": "IPY_MODEL_c6232bf33be744f9a57234a1be495d20",
            "value": 302131416
          }
        },
        "76d555388b0f4ddeb3661084adda34bf": {
          "model_module": "@jupyter-widgets/controls",
          "model_name": "HTMLModel",
          "model_module_version": "1.5.0",
          "state": {
            "_dom_classes": [],
            "_model_module": "@jupyter-widgets/controls",
            "_model_module_version": "1.5.0",
            "_model_name": "HTMLModel",
            "_view_count": null,
            "_view_module": "@jupyter-widgets/controls",
            "_view_module_version": "1.5.0",
            "_view_name": "HTMLView",
            "description": "",
            "description_tooltip": null,
            "layout": "IPY_MODEL_d3b1f543cbd4414cbc288aa135a645d7",
            "placeholder": "​",
            "style": "IPY_MODEL_a257e196f2584e1aa7718306a30170fe",
            "value": " 302M/302M [00:00&lt;00:00, 331MB/s]"
          }
        },
        "a71a2224af374769b7073af42c170682": {
          "model_module": "@jupyter-widgets/base",
          "model_name": "LayoutModel",
          "model_module_version": "1.2.0",
          "state": {
            "_model_module": "@jupyter-widgets/base",
            "_model_module_version": "1.2.0",
            "_model_name": "LayoutModel",
            "_view_count": null,
            "_view_module": "@jupyter-widgets/base",
            "_view_module_version": "1.2.0",
            "_view_name": "LayoutView",
            "align_content": null,
            "align_items": null,
            "align_self": null,
            "border": null,
            "bottom": null,
            "display": null,
            "flex": null,
            "flex_flow": null,
            "grid_area": null,
            "grid_auto_columns": null,
            "grid_auto_flow": null,
            "grid_auto_rows": null,
            "grid_column": null,
            "grid_gap": null,
            "grid_row": null,
            "grid_template_areas": null,
            "grid_template_columns": null,
            "grid_template_rows": null,
            "height": null,
            "justify_content": null,
            "justify_items": null,
            "left": null,
            "margin": null,
            "max_height": null,
            "max_width": null,
            "min_height": null,
            "min_width": null,
            "object_fit": null,
            "object_position": null,
            "order": null,
            "overflow": null,
            "overflow_x": null,
            "overflow_y": null,
            "padding": null,
            "right": null,
            "top": null,
            "visibility": null,
            "width": null
          }
        },
        "1e7fff6b87e243a386bd84ff53797cd8": {
          "model_module": "@jupyter-widgets/base",
          "model_name": "LayoutModel",
          "model_module_version": "1.2.0",
          "state": {
            "_model_module": "@jupyter-widgets/base",
            "_model_module_version": "1.2.0",
            "_model_name": "LayoutModel",
            "_view_count": null,
            "_view_module": "@jupyter-widgets/base",
            "_view_module_version": "1.2.0",
            "_view_name": "LayoutView",
            "align_content": null,
            "align_items": null,
            "align_self": null,
            "border": null,
            "bottom": null,
            "display": null,
            "flex": null,
            "flex_flow": null,
            "grid_area": null,
            "grid_auto_columns": null,
            "grid_auto_flow": null,
            "grid_auto_rows": null,
            "grid_column": null,
            "grid_gap": null,
            "grid_row": null,
            "grid_template_areas": null,
            "grid_template_columns": null,
            "grid_template_rows": null,
            "height": null,
            "justify_content": null,
            "justify_items": null,
            "left": null,
            "margin": null,
            "max_height": null,
            "max_width": null,
            "min_height": null,
            "min_width": null,
            "object_fit": null,
            "object_position": null,
            "order": null,
            "overflow": null,
            "overflow_x": null,
            "overflow_y": null,
            "padding": null,
            "right": null,
            "top": null,
            "visibility": null,
            "width": null
          }
        },
        "36e6de6f45904ecea3335142dd1d6dad": {
          "model_module": "@jupyter-widgets/controls",
          "model_name": "DescriptionStyleModel",
          "model_module_version": "1.5.0",
          "state": {
            "_model_module": "@jupyter-widgets/controls",
            "_model_module_version": "1.5.0",
            "_model_name": "DescriptionStyleModel",
            "_view_count": null,
            "_view_module": "@jupyter-widgets/base",
            "_view_module_version": "1.2.0",
            "_view_name": "StyleView",
            "description_width": ""
          }
        },
        "6d859c9ccad245c08ff511e5aa0fd8a4": {
          "model_module": "@jupyter-widgets/base",
          "model_name": "LayoutModel",
          "model_module_version": "1.2.0",
          "state": {
            "_model_module": "@jupyter-widgets/base",
            "_model_module_version": "1.2.0",
            "_model_name": "LayoutModel",
            "_view_count": null,
            "_view_module": "@jupyter-widgets/base",
            "_view_module_version": "1.2.0",
            "_view_name": "LayoutView",
            "align_content": null,
            "align_items": null,
            "align_self": null,
            "border": null,
            "bottom": null,
            "display": null,
            "flex": null,
            "flex_flow": null,
            "grid_area": null,
            "grid_auto_columns": null,
            "grid_auto_flow": null,
            "grid_auto_rows": null,
            "grid_column": null,
            "grid_gap": null,
            "grid_row": null,
            "grid_template_areas": null,
            "grid_template_columns": null,
            "grid_template_rows": null,
            "height": null,
            "justify_content": null,
            "justify_items": null,
            "left": null,
            "margin": null,
            "max_height": null,
            "max_width": null,
            "min_height": null,
            "min_width": null,
            "object_fit": null,
            "object_position": null,
            "order": null,
            "overflow": null,
            "overflow_x": null,
            "overflow_y": null,
            "padding": null,
            "right": null,
            "top": null,
            "visibility": null,
            "width": null
          }
        },
        "c6232bf33be744f9a57234a1be495d20": {
          "model_module": "@jupyter-widgets/controls",
          "model_name": "ProgressStyleModel",
          "model_module_version": "1.5.0",
          "state": {
            "_model_module": "@jupyter-widgets/controls",
            "_model_module_version": "1.5.0",
            "_model_name": "ProgressStyleModel",
            "_view_count": null,
            "_view_module": "@jupyter-widgets/base",
            "_view_module_version": "1.2.0",
            "_view_name": "StyleView",
            "bar_color": null,
            "description_width": ""
          }
        },
        "d3b1f543cbd4414cbc288aa135a645d7": {
          "model_module": "@jupyter-widgets/base",
          "model_name": "LayoutModel",
          "model_module_version": "1.2.0",
          "state": {
            "_model_module": "@jupyter-widgets/base",
            "_model_module_version": "1.2.0",
            "_model_name": "LayoutModel",
            "_view_count": null,
            "_view_module": "@jupyter-widgets/base",
            "_view_module_version": "1.2.0",
            "_view_name": "LayoutView",
            "align_content": null,
            "align_items": null,
            "align_self": null,
            "border": null,
            "bottom": null,
            "display": null,
            "flex": null,
            "flex_flow": null,
            "grid_area": null,
            "grid_auto_columns": null,
            "grid_auto_flow": null,
            "grid_auto_rows": null,
            "grid_column": null,
            "grid_gap": null,
            "grid_row": null,
            "grid_template_areas": null,
            "grid_template_columns": null,
            "grid_template_rows": null,
            "height": null,
            "justify_content": null,
            "justify_items": null,
            "left": null,
            "margin": null,
            "max_height": null,
            "max_width": null,
            "min_height": null,
            "min_width": null,
            "object_fit": null,
            "object_position": null,
            "order": null,
            "overflow": null,
            "overflow_x": null,
            "overflow_y": null,
            "padding": null,
            "right": null,
            "top": null,
            "visibility": null,
            "width": null
          }
        },
        "a257e196f2584e1aa7718306a30170fe": {
          "model_module": "@jupyter-widgets/controls",
          "model_name": "DescriptionStyleModel",
          "model_module_version": "1.5.0",
          "state": {
            "_model_module": "@jupyter-widgets/controls",
            "_model_module_version": "1.5.0",
            "_model_name": "DescriptionStyleModel",
            "_view_count": null,
            "_view_module": "@jupyter-widgets/base",
            "_view_module_version": "1.2.0",
            "_view_name": "StyleView",
            "description_width": ""
          }
        }
      }
    }
  },
  "nbformat": 4,
  "nbformat_minor": 0
}